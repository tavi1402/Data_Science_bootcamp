{
  "cells": [
    {
      "cell_type": "markdown",
      "metadata": {
        "id": "view-in-github",
        "colab_type": "text"
      },
      "source": [
        "<a href=\"https://colab.research.google.com/github/tavi1402/Data_Science_bootcamp/blob/main/3_1_1_python_numerical_computing_with_numpy.ipynb\" target=\"_parent\"><img src=\"https://colab.research.google.com/assets/colab-badge.svg\" alt=\"Open In Colab\"/></a>"
      ]
    },
    {
      "cell_type": "markdown",
      "metadata": {
        "id": "wfdQLYsOVoYj"
      },
      "source": [
        "# Numerical Computing with Python and Numpy\n",
        "\n",
        "![](https://i.imgur.com/mg8O3kd.png)\n",
        "\n",
        "This tutorial series is a beginner-friendly introduction to programming and data analysis using the Python programming language. These tutorials take a practical and coding-focused approach. The best way to learn the material is to execute the code and experiment with it yourself."
      ]
    },
    {
      "cell_type": "markdown",
      "metadata": {
        "id": "hL7SJEeOVoYr"
      },
      "source": [
        "This tutorial covers the following topics:\n",
        "\n",
        "- Working with numerical data in Python\n",
        "- Going from Python lists to Numpy arrays\n",
        "- Multi-dimensional Numpy arrays and their benefits\n",
        "- Array operations, broadcasting, indexing, and slicing\n",
        "- Working with CSV data files using Numpy"
      ]
    },
    {
      "cell_type": "markdown",
      "metadata": {
        "id": "aTE_VePtVoYs"
      },
      "source": [
        "### How to run the code\n",
        "\n",
        "This tutorial is an executable [Jupyter notebook](https://jupyter.org) hosted on [Jovian](https://www.jovian.ai). You can _run_ this tutorial and experiment with the code examples in a couple of ways: *using free online resources* (recommended) or *on your computer*.\n",
        "\n",
        "#### Option 1: Running using free online resources (1-click, recommended)\n",
        "\n",
        "The easiest way to start executing the code is to click the **Run** button at the top of this page and select **Run on Binder**. You can also select \"Run on Colab\" or \"Run on Kaggle\", but you'll need to create an account on [Google Colab](https://colab.research.google.com) or [Kaggle](https://kaggle.com) to use these platforms.\n",
        "\n",
        "\n",
        "#### Option 2: Running on your computer locally\n",
        "\n",
        "To run the code on your computer locally, you'll need to set up [Python](https://www.python.org), download the notebook and install the required libraries. We recommend using the [Conda](https://docs.conda.io/projects/conda/en/latest/user-guide/install/) distribution of Python. Click the **Run** button at the top of this page, select the **Run Locally** option, and follow the instructions.\n",
        "\n",
        ">  **Jupyter Notebooks**: This tutorial is a [Jupyter notebook](https://jupyter.org) - a document made of _cells_. Each cell can contain code written in Python or explanations in plain English. You can execute code cells and view the results, e.g., numbers, messages, graphs, tables, files, etc., instantly within the notebook. Jupyter is a powerful platform for experimentation and analysis. Don't be afraid to mess around with the code & break things - you'll learn a lot by encountering and fixing errors. You can use the \"Kernel > Restart & Clear Output\" menu option to clear all outputs and start again from the top."
      ]
    },
    {
      "cell_type": "markdown",
      "metadata": {
        "id": "vTeL-SFgVoYs"
      },
      "source": [
        "## Working with numerical data\n",
        "\n",
        "The \"data\" in *Data Analysis* typically refers to numerical data, e.g., stock prices, sales figures, sensor measurements, sports scores, database tables, etc. The [Numpy](https://numpy.org) library provides specialized data structures, functions, and other tools for numerical computing in Python. Let's work through an example to see why & how to use Numpy for working with numerical data.\n",
        "\n",
        "\n",
        "> Suppose we want to use climate data like the temperature, rainfall, and humidity to determine if a region is well suited for growing apples. A simple approach for doing this would be to formulate the relationship between the annual yield of apples (tons per hectare) and the climatic conditions like the average temperature (in degrees Fahrenheit), rainfall (in  millimeters) & average relative humidity (in percentage) as a linear equation.\n",
        ">\n",
        "> `yield_of_apples = w1 * temperature + w2 * rainfall + w3 * humidity`\n",
        "\n",
        "We're expressing the yield of apples as a weighted sum of the temperature, rainfall, and humidity. This equation is an approximation since the actual relationship may not necessarily be linear, and there may be other factors involved. But a simple linear model like this often works well in practice.\n",
        "\n",
        "Based on some statical analysis of historical data, we might come up with reasonable values for the weights `w1`, `w2`, and `w3`. Here's an example set of values:"
      ]
    },
    {
      "cell_type": "code",
      "execution_count": null,
      "metadata": {
        "id": "4FshNfsVVoYt"
      },
      "outputs": [],
      "source": []
    },
    {
      "cell_type": "markdown",
      "metadata": {
        "id": "76BWbVgdVoYu"
      },
      "source": [
        "Given some climate data for a region, we can now predict the yield of apples. Here's some sample data:\n",
        "\n",
        "<img src=\"https://i.imgur.com/TXPBiqv.png\" style=\"width:360px;\">\n",
        "\n",
        "To begin, we can define some variables to record climate data for a region."
      ]
    },
    {
      "cell_type": "code",
      "execution_count": null,
      "metadata": {
        "id": "zhF-B3cYVoYv"
      },
      "outputs": [],
      "source": []
    },
    {
      "cell_type": "markdown",
      "metadata": {
        "id": "sLDd-XEfVoYw"
      },
      "source": [
        "We can now substitute these variables into the linear equation to predict the yield of apples."
      ]
    },
    {
      "cell_type": "code",
      "execution_count": null,
      "metadata": {
        "id": "mMJNVM9KVoYx"
      },
      "outputs": [],
      "source": []
    },
    {
      "cell_type": "code",
      "execution_count": null,
      "metadata": {
        "id": "_aYlAjmLVoYz"
      },
      "outputs": [],
      "source": []
    },
    {
      "cell_type": "markdown",
      "metadata": {
        "id": "dLopOaP2VoYz"
      },
      "source": [
        "To make it slightly easier to perform the above computation for multiple regions, we can represent the climate data for each region as a vector, i.e., a list of numbers."
      ]
    },
    {
      "cell_type": "code",
      "execution_count": null,
      "metadata": {
        "id": "nT2XJNIIVoY0"
      },
      "outputs": [],
      "source": []
    },
    {
      "cell_type": "markdown",
      "metadata": {
        "id": "-MK-B_h7VoY1"
      },
      "source": [
        "The three numbers in each vector represent the temperature, rainfall, and humidity data, respectively.\n",
        "\n",
        "We can also represent the set of weights used in the formula as a vector."
      ]
    },
    {
      "cell_type": "code",
      "execution_count": null,
      "metadata": {
        "id": "iXhGdl77VoY1"
      },
      "outputs": [],
      "source": []
    },
    {
      "cell_type": "markdown",
      "metadata": {
        "id": "iAB8Zw0mVoY4"
      },
      "source": [
        "We can now write a function `crop_yield` to calcuate the yield of apples (or any other crop) given the climate data and the respective weights."
      ]
    },
    {
      "cell_type": "code",
      "execution_count": null,
      "metadata": {
        "id": "RJAKWbt2VoY4"
      },
      "outputs": [],
      "source": []
    },
    {
      "cell_type": "code",
      "execution_count": null,
      "metadata": {
        "id": "mAYajXnYVoY4"
      },
      "outputs": [],
      "source": []
    },
    {
      "cell_type": "code",
      "execution_count": null,
      "metadata": {
        "id": "kIqfh5akVoY5"
      },
      "outputs": [],
      "source": []
    },
    {
      "cell_type": "code",
      "execution_count": null,
      "metadata": {
        "id": "1jXPG2YfVoY5"
      },
      "outputs": [],
      "source": []
    },
    {
      "cell_type": "markdown",
      "metadata": {
        "id": "ILHSLR1aVoY5"
      },
      "source": [
        "## Going from Python lists to Numpy arrays\n",
        "\n",
        "\n",
        "The calculation performed by the `crop_yield` (element-wise multiplication of two vectors and taking a sum of the results) is also called the *dot product*. Learn more about dot product here: https://www.khanacademy.org/math/linear-algebra/vectors-and-spaces/dot-cross-products/v/vector-dot-product-and-vector-length .\n",
        "\n",
        "The Numpy library provides a built-in function to compute the dot product of two vectors. However, we must first convert the lists into Numpy arrays.\n",
        "\n",
        "Let's install the Numpy library using the `pip` package manager."
      ]
    },
    {
      "cell_type": "code",
      "execution_count": null,
      "metadata": {
        "id": "CjQ9lDsrVoY6"
      },
      "outputs": [],
      "source": []
    },
    {
      "cell_type": "markdown",
      "metadata": {
        "id": "9mVSNPHmVoY6"
      },
      "source": [
        "Next, let's import the `numpy` module. It's common practice to import numpy with the alias `np`."
      ]
    },
    {
      "cell_type": "code",
      "execution_count": null,
      "metadata": {
        "id": "OXc5D8t-VoY6"
      },
      "outputs": [],
      "source": []
    },
    {
      "cell_type": "markdown",
      "metadata": {
        "id": "VV4eAfDYVoY6"
      },
      "source": [
        "We can now use the `np.array` function to create Numpy arrays."
      ]
    },
    {
      "cell_type": "code",
      "execution_count": null,
      "metadata": {
        "id": "NFs-qzj0VoY6"
      },
      "outputs": [],
      "source": []
    },
    {
      "cell_type": "code",
      "execution_count": null,
      "metadata": {
        "id": "8U5n_R89VoY6"
      },
      "outputs": [],
      "source": []
    },
    {
      "cell_type": "code",
      "execution_count": null,
      "metadata": {
        "id": "sMtwCW_qVoY6"
      },
      "outputs": [],
      "source": []
    },
    {
      "cell_type": "code",
      "execution_count": null,
      "metadata": {
        "id": "Du9jPNkUVoY6"
      },
      "outputs": [],
      "source": []
    },
    {
      "cell_type": "markdown",
      "metadata": {
        "id": "I9R9AX1_VoY7"
      },
      "source": [
        "Numpy arrays have the type `ndarray`."
      ]
    },
    {
      "cell_type": "code",
      "execution_count": null,
      "metadata": {
        "id": "hvPvRgaNVoY7"
      },
      "outputs": [],
      "source": []
    },
    {
      "cell_type": "code",
      "execution_count": null,
      "metadata": {
        "id": "qdpwmP5pVoY7"
      },
      "outputs": [],
      "source": []
    },
    {
      "cell_type": "markdown",
      "metadata": {
        "id": "HKSQ_VgcVoY7"
      },
      "source": [
        "Just like lists, Numpy arrays support the indexing notation `[]`."
      ]
    },
    {
      "cell_type": "code",
      "execution_count": null,
      "metadata": {
        "id": "mKu8xmBqVoY8"
      },
      "outputs": [],
      "source": []
    },
    {
      "cell_type": "code",
      "execution_count": null,
      "metadata": {
        "id": "qGv34cgMVoY8"
      },
      "outputs": [],
      "source": []
    },
    {
      "cell_type": "markdown",
      "metadata": {
        "id": "tWJZGAU4VoY8"
      },
      "source": [
        "## Operating on Numpy arrays\n",
        "\n",
        "We can now compute the dot product of the two vectors using the `np.dot` function."
      ]
    },
    {
      "cell_type": "code",
      "execution_count": null,
      "metadata": {
        "id": "L2PtiHbtVoY8"
      },
      "outputs": [],
      "source": []
    },
    {
      "cell_type": "markdown",
      "metadata": {
        "id": "VrIqh2NaVoY8"
      },
      "source": [
        "We can achieve the same result with low-level operations supported by Numpy arrays: performing an element-wise multiplication and calculating the resulting numbers' sum."
      ]
    },
    {
      "cell_type": "code",
      "execution_count": null,
      "metadata": {
        "id": "09S9loTlVoY8"
      },
      "outputs": [],
      "source": []
    },
    {
      "cell_type": "markdown",
      "metadata": {
        "id": "qdl7ydbfVoY8"
      },
      "source": [
        "The `*` operator performs an element-wise multiplication of two arrays if they have the same size. The `sum` method calculates the sum of numbers in an array."
      ]
    },
    {
      "cell_type": "code",
      "execution_count": null,
      "metadata": {
        "id": "EQJ96CTgVoZI"
      },
      "outputs": [],
      "source": []
    },
    {
      "cell_type": "code",
      "execution_count": null,
      "metadata": {
        "id": "nXezDqsUVoZI"
      },
      "outputs": [],
      "source": []
    },
    {
      "cell_type": "code",
      "execution_count": null,
      "metadata": {
        "id": "VSzEzGlAVoZJ"
      },
      "outputs": [],
      "source": []
    },
    {
      "cell_type": "markdown",
      "metadata": {
        "id": "ndIgVw98VoZJ"
      },
      "source": [
        "## Benefits of using Numpy arrays\n",
        "\n",
        "Numpy arrays offer the following benefits over Python lists for operating on numerical data:\n",
        "\n",
        "- **Ease of use**: You can write small, concise, and intuitive mathematical expressions like `(kanto * weights).sum()` rather than using loops & custom functions like `crop_yield`.\n",
        "- **Performance**: Numpy operations and functions are implemented internally in C++, which makes them much faster than using Python statements & loops that are interpreted at runtime\n",
        "\n",
        "Here's a comparison of dot products performed using Python loops vs. Numpy arrays on two vectors with a million elements each."
      ]
    },
    {
      "cell_type": "code",
      "execution_count": null,
      "metadata": {
        "id": "cQsDWg8EVoZJ"
      },
      "outputs": [],
      "source": []
    },
    {
      "cell_type": "code",
      "execution_count": null,
      "metadata": {
        "id": "ORY3VQ8kVoZK"
      },
      "outputs": [],
      "source": []
    },
    {
      "cell_type": "code",
      "execution_count": null,
      "metadata": {
        "id": "fd92SL3aVoZK"
      },
      "outputs": [],
      "source": []
    },
    {
      "cell_type": "markdown",
      "metadata": {
        "id": "pxStja0oVoZK"
      },
      "source": [
        "As you can see, using `np.dot` is 100 times faster than using a `for` loop. This makes Numpy especially useful while working with really large datasets with tens of thousands or millions of data points.\n",
        "\n",
        "Let's save our work before continuing."
      ]
    },
    {
      "cell_type": "code",
      "execution_count": null,
      "metadata": {
        "id": "L-XSuR8WVoZL"
      },
      "outputs": [],
      "source": []
    },
    {
      "cell_type": "code",
      "execution_count": null,
      "metadata": {
        "id": "Ssryp-IyVoZL"
      },
      "outputs": [],
      "source": []
    },
    {
      "cell_type": "markdown",
      "metadata": {
        "id": "gyRRDdZeVoZM"
      },
      "source": [
        "## Multi-dimensional Numpy arrays\n",
        "\n",
        "We can now go one step further and represent the climate data for all the regions using a single 2-dimensional Numpy array."
      ]
    },
    {
      "cell_type": "code",
      "execution_count": null,
      "metadata": {
        "id": "89q5tCWMVoZM"
      },
      "outputs": [],
      "source": []
    },
    {
      "cell_type": "code",
      "execution_count": null,
      "metadata": {
        "id": "UMmw3mXrVoZN"
      },
      "outputs": [],
      "source": []
    },
    {
      "cell_type": "markdown",
      "metadata": {
        "id": "pxuZ3nBfVoZN"
      },
      "source": [
        "If you've taken a linear algebra class in high school, you may recognize the above 2-d array as a matrix with five rows and three columns. Each row represents one region, and the columns represent temperature, rainfall, and humidity, respectively.\n",
        "\n",
        "Numpy arrays can have any number of dimensions and different lengths along each dimension. We can inspect the length along each dimension using the `.shape` property of an array.\n",
        "\n",
        "<img src=\"https://fgnt.github.io/python_crashkurs_doc/_images/numpy_array_t.png\" width=\"420\">\n",
        "\n"
      ]
    },
    {
      "cell_type": "code",
      "execution_count": null,
      "metadata": {
        "id": "-VXGpZH0VoZN"
      },
      "outputs": [],
      "source": []
    },
    {
      "cell_type": "code",
      "execution_count": null,
      "metadata": {
        "id": "cxWL122AVoZN"
      },
      "outputs": [],
      "source": []
    },
    {
      "cell_type": "code",
      "execution_count": null,
      "metadata": {
        "id": "dbibb1dkVoZN"
      },
      "outputs": [],
      "source": []
    },
    {
      "cell_type": "code",
      "execution_count": null,
      "metadata": {
        "id": "ta_Lu3QNVoZO"
      },
      "outputs": [],
      "source": []
    },
    {
      "cell_type": "code",
      "execution_count": null,
      "metadata": {
        "id": "JsAHuhsdVoZO"
      },
      "outputs": [],
      "source": []
    },
    {
      "cell_type": "markdown",
      "metadata": {
        "id": "7_D5LmBXVoZO"
      },
      "source": [
        "All the elements in a numpy array have the same data type. You can check the data type of an array using the `.dtype` property."
      ]
    },
    {
      "cell_type": "code",
      "execution_count": null,
      "metadata": {
        "id": "tiNehmFAVoZO"
      },
      "outputs": [],
      "source": []
    },
    {
      "cell_type": "code",
      "execution_count": null,
      "metadata": {
        "id": "Wr5EVYbiVoZP"
      },
      "outputs": [],
      "source": []
    },
    {
      "cell_type": "markdown",
      "metadata": {
        "id": "4ojvhInDVoZP"
      },
      "source": [
        "If an array contains even a single floating point number, all the other elements are also converted to floats."
      ]
    },
    {
      "cell_type": "code",
      "execution_count": null,
      "metadata": {
        "id": "r-QFjZGmVoZP"
      },
      "outputs": [],
      "source": []
    },
    {
      "cell_type": "markdown",
      "metadata": {
        "id": "aFSATVf_VoZP"
      },
      "source": [
        "We can now compute the predicted yields of apples in all the regions, using a single matrix multiplication between `climate_data` (a 5x3 matrix) and `weights` (a vector of length 3). Here's what it looks like visually:\n",
        "\n",
        "<img src=\"https://i.imgur.com/LJ2WKSI.png\" width=\"240\">\n",
        "\n",
        "You can learn about matrices and matrix multiplication by watching the first 3-4 videos of this playlist: https://www.youtube.com/watch?v=xyAuNHPsq-g&list=PLFD0EB975BA0CC1E0&index=1 .\n",
        "\n",
        "We can use the `np.matmul` function or the `@` operator to perform matrix multiplication."
      ]
    },
    {
      "cell_type": "code",
      "execution_count": null,
      "metadata": {
        "id": "Ic7b-lDcVoZQ"
      },
      "outputs": [],
      "source": []
    },
    {
      "cell_type": "code",
      "execution_count": null,
      "metadata": {
        "id": "3WhSa5P5VoZQ"
      },
      "outputs": [],
      "source": []
    },
    {
      "cell_type": "markdown",
      "metadata": {
        "id": "YOSmWEdJVoZR"
      },
      "source": [
        "## Working with CSV data files\n",
        "\n",
        "Numpy also provides helper functions reading from & writing to files. Let's download a file `climate.txt`, which contains 10,000 climate measurements (temperature, rainfall & humidity) in the following format:\n",
        "\n",
        "\n",
        "```\n",
        "temperature,rainfall,humidity\n",
        "25.00,76.00,99.00\n",
        "39.00,65.00,70.00\n",
        "59.00,45.00,77.00\n",
        "84.00,63.00,38.00\n",
        "66.00,50.00,52.00\n",
        "41.00,94.00,77.00\n",
        "91.00,57.00,96.00\n",
        "49.00,96.00,99.00\n",
        "67.00,20.00,28.00\n",
        "...\n",
        "```\n",
        "\n",
        "This format of storing data is known as *comma-separated values* or CSV.\n",
        "\n",
        "> **CSVs**: A comma-separated values (CSV) file is a delimited text file that uses a comma to separate values. Each line of the file is a data record. Each record consists of one or more fields, separated by commas. A CSV file typically stores tabular data (numbers and text) in plain text, in which case each line will have the same number of fields. (Wikipedia)\n",
        "\n",
        "\n",
        "To read this file into a numpy array, we can use the `genfromtxt` function."
      ]
    },
    {
      "cell_type": "code",
      "execution_count": null,
      "metadata": {
        "id": "dfnAjYGUVoZR"
      },
      "outputs": [],
      "source": []
    },
    {
      "cell_type": "code",
      "execution_count": null,
      "metadata": {
        "id": "wekwhBd_VoZR"
      },
      "outputs": [],
      "source": []
    },
    {
      "cell_type": "code",
      "execution_count": null,
      "metadata": {
        "id": "k-qfPPZUVoZR"
      },
      "outputs": [],
      "source": []
    },
    {
      "cell_type": "code",
      "execution_count": null,
      "metadata": {
        "id": "UZu_gLvQVoZR"
      },
      "outputs": [],
      "source": []
    },
    {
      "cell_type": "markdown",
      "metadata": {
        "id": "QeKndBB4VoZS"
      },
      "source": [
        "We can now perform a matrix multiplication using the `@` operator to predict the yield of apples for the entire dataset using a given set of weights."
      ]
    },
    {
      "cell_type": "code",
      "execution_count": null,
      "metadata": {
        "id": "QSOnEfGOVoZS"
      },
      "outputs": [],
      "source": []
    },
    {
      "cell_type": "code",
      "execution_count": null,
      "metadata": {
        "id": "xQX6W6JDVoZS"
      },
      "outputs": [],
      "source": []
    },
    {
      "cell_type": "code",
      "execution_count": null,
      "metadata": {
        "id": "CUmIkXMbVoZT"
      },
      "outputs": [],
      "source": []
    },
    {
      "cell_type": "code",
      "execution_count": null,
      "metadata": {
        "id": "7wkSoQyvVoZT"
      },
      "outputs": [],
      "source": []
    },
    {
      "cell_type": "markdown",
      "metadata": {
        "id": "a8Ec6nFyVoZT"
      },
      "source": [
        "Let's add the `yields` to `climate_data` as a fourth column using the [`np.concatenate`](https://numpy.org/doc/stable/reference/generated/numpy.concatenate.html) function."
      ]
    },
    {
      "cell_type": "code",
      "execution_count": null,
      "metadata": {
        "id": "5Gm9KeaSVoZU"
      },
      "outputs": [],
      "source": []
    },
    {
      "cell_type": "code",
      "execution_count": null,
      "metadata": {
        "id": "oU_nB8sAVoZU"
      },
      "outputs": [],
      "source": []
    },
    {
      "cell_type": "markdown",
      "metadata": {
        "id": "lJ5wrYQHVoZU"
      },
      "source": [
        "There are a couple of subtleties here:\n",
        "\n",
        "* Since we wish to add new columns, we pass the argument `axis=1` to `np.concatenate`. The `axis` argument specifies the dimension for concatenation.\n",
        "\n",
        "*  The arrays should have the same number of dimensions, and the same length along each except the dimension used for concatenation. We use the [`np.reshape`](https://numpy.org/doc/stable/reference/generated/numpy.reshape.html) function to change the shape of `yields` from `(10000,)` to `(10000,1)`.\n",
        "\n",
        "Here's a visual explanation of `np.concatenate` along `axis=1` (can you guess what `axis=0` results in?):\n",
        "\n",
        "<img src=\"https://www.w3resource.com/w3r_images/python-numpy-image-exercise-58.png\" width=\"300\">\n",
        "\n",
        "The best way to understand what a Numpy function does is to experiment with it and read the documentation to learn about its arguments & return values. Use the cells below to experiment with `np.concatenate` and `np.reshape`."
      ]
    },
    {
      "cell_type": "code",
      "execution_count": null,
      "metadata": {
        "id": "IOM2lXxtVoZU"
      },
      "outputs": [],
      "source": []
    },
    {
      "cell_type": "code",
      "execution_count": null,
      "metadata": {
        "id": "2BjGnOy3VoZV"
      },
      "outputs": [],
      "source": []
    },
    {
      "cell_type": "code",
      "execution_count": null,
      "metadata": {
        "id": "VJBiXQ8MVoZV"
      },
      "outputs": [],
      "source": []
    },
    {
      "cell_type": "markdown",
      "metadata": {
        "id": "7SvBkQ9VVoZV"
      },
      "source": [
        "Let's write the final results from our computation above back to a file using the `np.savetxt` function."
      ]
    },
    {
      "cell_type": "code",
      "execution_count": null,
      "metadata": {
        "id": "Pwdipv-7VoZV"
      },
      "outputs": [],
      "source": []
    },
    {
      "cell_type": "code",
      "execution_count": null,
      "metadata": {
        "id": "ehNnmiDhVoZW"
      },
      "outputs": [],
      "source": []
    },
    {
      "cell_type": "markdown",
      "metadata": {
        "id": "aqoS5HcPVoZW"
      },
      "source": [
        "The results are written back in the CSV format to the file `climate_results.txt`.\n",
        "\n",
        "```\n",
        "temperature,rainfall,humidity,yeild_apples\n",
        "25.00,76.00,99.00,72.20\n",
        "39.00,65.00,70.00,59.70\n",
        "59.00,45.00,77.00,65.20\n",
        "84.00,63.00,38.00,56.80\n",
        "...\n",
        "```\n",
        "\n"
      ]
    },
    {
      "cell_type": "markdown",
      "metadata": {
        "id": "ZGyy8I5VVoZW"
      },
      "source": [
        "Numpy provides hundreds of functions for performing operations on arrays. Here are some commonly used functions:\n",
        "\n",
        "\n",
        "* Mathematics: `np.sum`, `np.exp`, `np.round`, arithemtic operators\n",
        "* Array manipulation: `np.reshape`, `np.stack`, `np.concatenate`, `np.split`\n",
        "* Linear Algebra: `np.matmul`, `np.dot`, `np.transpose`, `np.eigvals`\n",
        "* Statistics: `np.mean`, `np.median`, `np.std`, `np.max`\n",
        "\n",
        "> **How to find the function you need?** The easiest way to find the right function for a specific operation or use-case is to do a web search. For instance, searching for \"How to join numpy arrays\" leads to [this tutorial on array concatenation](https://cmdlinetips.com/2018/04/how-to-concatenate-arrays-in-numpy/).\n",
        "\n",
        "You can find a full list of array functions here: https://numpy.org/doc/stable/reference/routines.html"
      ]
    },
    {
      "cell_type": "markdown",
      "metadata": {
        "id": "oQw3WepSVoZX"
      },
      "source": [
        "### Save and upload your notebook\n",
        "\n",
        "Whether you're running this Jupyter notebook online or on your computer, it's essential to save your work from time to time. You can continue working on a saved notebook later or share it with friends and colleagues to let them execute your code. [Jovian](https://www.jovian.ai) offers an easy way of saving and sharing your Jupyter notebooks online."
      ]
    },
    {
      "cell_type": "code",
      "execution_count": null,
      "metadata": {
        "id": "gNd40xJUVoZX"
      },
      "outputs": [],
      "source": []
    },
    {
      "cell_type": "code",
      "execution_count": null,
      "metadata": {
        "id": "qwkiMTs-VoZY"
      },
      "outputs": [],
      "source": []
    },
    {
      "cell_type": "code",
      "execution_count": null,
      "metadata": {
        "id": "Mj5mEbf6VoZY"
      },
      "outputs": [],
      "source": []
    },
    {
      "cell_type": "markdown",
      "metadata": {
        "id": "dNSTl8uhVoZZ"
      },
      "source": [
        "The first time you run `jovian.commit`, you'll be asked to provide an API Key to securely upload the notebook to your Jovian account. You can get the API key from your [Jovian profile page](https://jovian.ai) after logging in / signing up.\n",
        "\n",
        "\n",
        "`jovian.commit` uploads the notebook to your Jovian account, captures the Python environment, and creates a shareable link for your notebook, as shown above. You can use this link to share your work and let anyone (including you) run your notebooks and reproduce your work."
      ]
    },
    {
      "cell_type": "markdown",
      "metadata": {
        "id": "g06rghSOVoZZ"
      },
      "source": [
        "## Arithmetic operations, broadcasting and comparison\n",
        "\n",
        "Numpy arrays support arithmetic operators like `+`, `-`, `*`, etc. You can perform an arithmetic operation with a single number (also called scalar) or with another array of the same shape. Operators make it easy to write mathematical expressions with multi-dimensional arrays."
      ]
    },
    {
      "cell_type": "code",
      "execution_count": null,
      "metadata": {
        "id": "zttxNf9nVoZZ"
      },
      "outputs": [],
      "source": []
    },
    {
      "cell_type": "code",
      "execution_count": null,
      "metadata": {
        "id": "bEo1zJzIVoZZ"
      },
      "outputs": [],
      "source": []
    },
    {
      "cell_type": "code",
      "execution_count": null,
      "metadata": {
        "id": "e5kaD_9uVoZZ"
      },
      "outputs": [],
      "source": []
    },
    {
      "cell_type": "code",
      "execution_count": null,
      "metadata": {
        "id": "fRgyYReZVoZZ"
      },
      "outputs": [],
      "source": []
    },
    {
      "cell_type": "code",
      "execution_count": null,
      "metadata": {
        "id": "O8HfQ34qVoZa"
      },
      "outputs": [],
      "source": []
    },
    {
      "cell_type": "code",
      "execution_count": null,
      "metadata": {
        "id": "Z6gIQDr5VoZa"
      },
      "outputs": [],
      "source": []
    },
    {
      "cell_type": "code",
      "execution_count": null,
      "metadata": {
        "id": "eL6c25vIVoZa"
      },
      "outputs": [],
      "source": []
    },
    {
      "cell_type": "markdown",
      "metadata": {
        "id": "zNzd2Ba-VoZb"
      },
      "source": [
        "### Array Broadcasting\n",
        "\n",
        "Numpy arrays also support *broadcasting*, allowing arithmetic operations between two arrays with different numbers of dimensions but compatible shapes. Let's look at an example to see how it works."
      ]
    },
    {
      "cell_type": "code",
      "execution_count": null,
      "metadata": {
        "id": "C0Hn1Va5VoZb"
      },
      "outputs": [],
      "source": []
    },
    {
      "cell_type": "code",
      "execution_count": null,
      "metadata": {
        "id": "P-6Uju4CVoZb"
      },
      "outputs": [],
      "source": []
    },
    {
      "cell_type": "code",
      "execution_count": null,
      "metadata": {
        "id": "44U8GNFoVoZc"
      },
      "outputs": [],
      "source": []
    },
    {
      "cell_type": "code",
      "execution_count": null,
      "metadata": {
        "id": "393PuGWnVoZc"
      },
      "outputs": [],
      "source": []
    },
    {
      "cell_type": "code",
      "execution_count": null,
      "metadata": {
        "id": "8-Jt54zSVoZc"
      },
      "outputs": [],
      "source": []
    },
    {
      "cell_type": "markdown",
      "metadata": {
        "id": "xtmf2MqPVoZc"
      },
      "source": [
        "When the expression `arr2 + arr4` is evaluated, `arr4` (which has the shape `(4,)`) is replicated three times to match the shape `(3, 4)` of `arr2`. Numpy performs the replication without actually creating three copies of the smaller dimension array, thus improving performance and using lower memory.\n",
        "\n",
        "<img src=\"https://jakevdp.github.io/PythonDataScienceHandbook/figures/02.05-broadcasting.png\" width=\"360\">\n",
        "\n",
        "Broadcasting only works if one of the arrays can be replicated to match the other array's shape."
      ]
    },
    {
      "cell_type": "code",
      "execution_count": null,
      "metadata": {
        "id": "oulxUedyVoZd"
      },
      "outputs": [],
      "source": []
    },
    {
      "cell_type": "code",
      "execution_count": null,
      "metadata": {
        "id": "hq9ySKXwVoZd"
      },
      "outputs": [],
      "source": []
    },
    {
      "cell_type": "code",
      "execution_count": null,
      "metadata": {
        "id": "5aZ74f9TVoZe"
      },
      "outputs": [],
      "source": []
    },
    {
      "cell_type": "markdown",
      "metadata": {
        "id": "J5j44TLHVoZf"
      },
      "source": [
        "In the above example, even if `arr5` is replicated three times, it will not match the shape of `arr2`. Hence `arr2 + arr5` cannot be evaluated successfully. Learn more about broadcasting here: https://numpy.org/doc/stable/user/basics.broadcasting.html ."
      ]
    },
    {
      "cell_type": "markdown",
      "metadata": {
        "id": "BPgCebBGVoZg"
      },
      "source": [
        "### Array Comparison\n",
        "\n",
        "Numpy arrays also support comparison operations like `==`, `!=`, `>` etc. The result is an array of booleans."
      ]
    },
    {
      "cell_type": "code",
      "execution_count": null,
      "metadata": {
        "id": "y33vZW69VoZg"
      },
      "outputs": [],
      "source": []
    },
    {
      "cell_type": "code",
      "execution_count": null,
      "metadata": {
        "id": "PAo_73evVoZh"
      },
      "outputs": [],
      "source": []
    },
    {
      "cell_type": "code",
      "execution_count": null,
      "metadata": {
        "id": "2XvLKrEKVoZh"
      },
      "outputs": [],
      "source": []
    },
    {
      "cell_type": "code",
      "execution_count": null,
      "metadata": {
        "id": "dAmIGmsaVoZh"
      },
      "outputs": [],
      "source": []
    },
    {
      "cell_type": "code",
      "execution_count": null,
      "metadata": {
        "id": "ijjlCRgGVoZh"
      },
      "outputs": [],
      "source": []
    },
    {
      "cell_type": "markdown",
      "metadata": {
        "id": "pke6MC8TVoZh"
      },
      "source": [
        "Array comparison is frequently used to count the number of equal elements in two arrays using the `sum` method. Remember that `True` evaluates to `1` and `False` evaluates to `0` when booleans are used in arithmetic operations."
      ]
    },
    {
      "cell_type": "code",
      "execution_count": null,
      "metadata": {
        "id": "rRSjeOjQVoZh"
      },
      "outputs": [],
      "source": []
    },
    {
      "cell_type": "markdown",
      "metadata": {
        "id": "1TikF89RVoZh"
      },
      "source": [
        "## Array indexing and slicing\n",
        "\n",
        "Numpy extends Python's list indexing notation using `[]` to multiple dimensions in an intuitive fashion. You can provide a comma-separated list of indices or ranges to select a specific element or a subarray (also called a slice) from a Numpy array."
      ]
    },
    {
      "cell_type": "code",
      "execution_count": null,
      "metadata": {
        "id": "JrFGFI-CVoZn"
      },
      "outputs": [],
      "source": []
    },
    {
      "cell_type": "code",
      "execution_count": null,
      "metadata": {
        "id": "BDU4ncBBVoZo"
      },
      "outputs": [],
      "source": []
    },
    {
      "cell_type": "code",
      "execution_count": null,
      "metadata": {
        "id": "VjNYYcwrVoZo"
      },
      "outputs": [],
      "source": []
    },
    {
      "cell_type": "code",
      "execution_count": null,
      "metadata": {
        "id": "85g17FD7VoZo"
      },
      "outputs": [],
      "source": []
    },
    {
      "cell_type": "code",
      "execution_count": null,
      "metadata": {
        "id": "MUx-7VorVoZo"
      },
      "outputs": [],
      "source": []
    },
    {
      "cell_type": "code",
      "execution_count": null,
      "metadata": {
        "id": "-6ckUSJzVoZp"
      },
      "outputs": [],
      "source": []
    },
    {
      "cell_type": "code",
      "execution_count": null,
      "metadata": {
        "id": "PkNoJhRrVoZp"
      },
      "outputs": [],
      "source": []
    },
    {
      "cell_type": "code",
      "execution_count": null,
      "metadata": {
        "id": "BFx8ZcHoVoZp"
      },
      "outputs": [],
      "source": []
    },
    {
      "cell_type": "code",
      "execution_count": null,
      "metadata": {
        "id": "IA3RU5jtVoZp"
      },
      "outputs": [],
      "source": []
    },
    {
      "cell_type": "markdown",
      "metadata": {
        "id": "vdM-KolAVoZp"
      },
      "source": [
        "The notation and its results can seem confusing at first, so take your time to experiment and become comfortable with it. Use the cells below to try out some examples of array indexing and slicing, with different combinations of indices and ranges. Here are some more examples demonstrated visually:\n",
        "\n",
        "<img src=\"https://scipy-lectures.org/_images/numpy_indexing.png\" width=\"360\">"
      ]
    },
    {
      "cell_type": "code",
      "execution_count": null,
      "metadata": {
        "id": "8pTCMItJVoZq"
      },
      "outputs": [],
      "source": []
    },
    {
      "cell_type": "code",
      "execution_count": null,
      "metadata": {
        "id": "Q8FLAGvWVoZq"
      },
      "outputs": [],
      "source": []
    },
    {
      "cell_type": "code",
      "execution_count": null,
      "metadata": {
        "id": "-DZd059qVoZq"
      },
      "outputs": [],
      "source": []
    },
    {
      "cell_type": "code",
      "execution_count": null,
      "metadata": {
        "id": "BQxxnckWVoZq"
      },
      "outputs": [],
      "source": []
    },
    {
      "cell_type": "markdown",
      "metadata": {
        "id": "XFVUc4PzVoZq"
      },
      "source": [
        "## Other ways of creating Numpy arrays\n",
        "\n",
        "Numpy also provides some handy functions to create arrays of desired shapes with fixed or random values. Check out the [official documentation](https://numpy.org/doc/stable/reference/routines.array-creation.html) or use the `help` function to learn more."
      ]
    },
    {
      "cell_type": "code",
      "execution_count": null,
      "metadata": {
        "id": "XENEsI5RVoZq"
      },
      "outputs": [],
      "source": []
    },
    {
      "cell_type": "code",
      "execution_count": null,
      "metadata": {
        "id": "4QrN0lv4VoZq"
      },
      "outputs": [],
      "source": []
    },
    {
      "cell_type": "code",
      "execution_count": null,
      "metadata": {
        "id": "_ZtYqRQEVoZr"
      },
      "outputs": [],
      "source": []
    },
    {
      "cell_type": "code",
      "execution_count": null,
      "metadata": {
        "id": "BA_xLrbRVoZr"
      },
      "outputs": [],
      "source": []
    },
    {
      "cell_type": "code",
      "execution_count": null,
      "metadata": {
        "id": "_AAd5sE6VoZr"
      },
      "outputs": [],
      "source": []
    },
    {
      "cell_type": "code",
      "execution_count": null,
      "metadata": {
        "id": "4l1SIw69VoZr"
      },
      "outputs": [],
      "source": []
    },
    {
      "cell_type": "code",
      "execution_count": null,
      "metadata": {
        "id": "c8l1QwexVoZr"
      },
      "outputs": [],
      "source": []
    },
    {
      "cell_type": "code",
      "execution_count": null,
      "metadata": {
        "id": "ZW1Y49-0VoZs"
      },
      "outputs": [],
      "source": []
    },
    {
      "cell_type": "markdown",
      "metadata": {
        "id": "YXsDDn0dVoZs"
      },
      "source": [
        "### Save and commit\n",
        "\n",
        "Let's record a snapshot of our work using `jovian.commit`."
      ]
    },
    {
      "cell_type": "code",
      "execution_count": null,
      "metadata": {
        "id": "hlMlOFyLVoZs"
      },
      "outputs": [],
      "source": []
    },
    {
      "cell_type": "code",
      "execution_count": null,
      "metadata": {
        "id": "Z6UM_xHoVoZs"
      },
      "outputs": [],
      "source": []
    },
    {
      "cell_type": "code",
      "execution_count": null,
      "metadata": {
        "id": "hjaTgMEwVoZs"
      },
      "outputs": [],
      "source": []
    },
    {
      "cell_type": "markdown",
      "metadata": {
        "id": "uBL31hxlVoZt"
      },
      "source": [
        "## Exercises\n",
        "\n",
        "Try the following exercises to become familiar with Numpy arrays and practice your skills:\n",
        "\n",
        "- Assignment on Numpy array functions: https://jovian.ai/aakashns/numpy-array-operations\n",
        "- (Optional) 100 numpy exercises: https://jovian.ai/aakashns/100-numpy-exercises\n"
      ]
    },
    {
      "cell_type": "markdown",
      "metadata": {
        "id": "6ev3bTVaVoZt"
      },
      "source": [
        "## Summary and Further Reading\n",
        "\n",
        "With this, we complete our discussion of numerical computing with Numpy. We've covered the following topics in this tutorial:\n",
        "\n",
        "- Going from Python lists to Numpy arrays\n",
        "- Operating on Numpy arrays\n",
        "- Benefits of using Numpy arrays over lists\n",
        "- Multi-dimensional Numpy arrays\n",
        "- Working with CSV data files\n",
        "- Arithmetic operations and broadcasting\n",
        "- Array indexing and slicing\n",
        "- Other ways of creating Numpy arrays\n",
        "\n",
        "\n",
        "Check out the following resources for learning more about Numpy:\n",
        "\n",
        "- Official tutorial: https://numpy.org/devdocs/user/quickstart.html\n",
        "- Numpy tutorial on W3Schools: https://www.w3schools.com/python/numpy_intro.asp\n",
        "- Advanced Numpy (exploring the internals): http://scipy-lectures.org/advanced/advanced_numpy/index.html\n",
        "\n",
        "You are ready to move on to the next tutorial: [Analyzing Tabular Data using Pandas](https://jovian.ai/aakashns/python-pandas-data-analysis)."
      ]
    },
    {
      "cell_type": "markdown",
      "metadata": {
        "id": "vshzGzFkVoZt"
      },
      "source": [
        "## Questions for Revision\n",
        "\n",
        "Try answering the following questions to test your understanding of the topics covered in this notebook:\n",
        "\n",
        "1. What is a vector?\n",
        "2. How do you represent vectors using a Python list? Give an example.\n",
        "3. What is a dot product of two vectors?\n",
        "4. Write a function to compute the dot product of two vectors.\n",
        "5. What is Numpy?\n",
        "6. How do you install Numpy?\n",
        "7. How do you import the `numpy` module?\n",
        "8. What does it mean to import a module with an alias? Give an example.\n",
        "9. What is the commonly used alias for `numpy`?\n",
        "10. What is a Numpy array?\n",
        "11. How do you create a Numpy array? Give an example.\n",
        "12. What is the type of Numpy arrays?\n",
        "13. How do you access the elements of a Numpy array?\n",
        "14. How do you compute the dot product of two vectors using Numpy?\n",
        "15. What happens if you try to compute the dot product of two vectors which have different sizes?\n",
        "16. How do you compute the element-wise product of two Numpy arrays?\n",
        "17. How do you compute the sum of all the elements in a Numpy array?\n",
        "18. What are the benefits of using Numpy arrays over Python lists for operating on numerical data?\n",
        "19. Why do Numpy array operations have better performance compared to Python functions and loops?\n",
        "20. Illustrate the performance difference between Numpy array operations and Python loops using an example.\n",
        "21. What are multi-dimensional Numpy arrays?\n",
        "22. Illustrate the creation of Numpy arrays with 2, 3, and 4 dimensions.\n",
        "23. How do you inspect the number of dimensions and the length along each dimension in a Numpy array?\n",
        "24. Can the elements of a Numpy array have different data types?\n",
        "25. How do you check the data type of the elements of a Numpy array?\n",
        "26. What is the data type of a Numpy array?\n",
        "27. What is the difference between a matrix and a 2D Numpy array?\n",
        "28. How do you perform matrix multiplication using Numpy?\n",
        "29. What is the `@` operator used for in Numpy?\n",
        "30. What is the CSV file format?\n",
        "31. How do you read data from a CSV file using Numpy?\n",
        "32. How do you concatenate two Numpy arrays?\n",
        "33. What is the purpose of the `axis` argument of `np.concatenate`?\n",
        "34. When are two Numpy arrays compatible for concatenation?\n",
        "35. Give an example of two Numpy arrays that can be concatenated.\n",
        "36. Give an example of two Numpy arrays that cannot be concatenated.\n",
        "37. What is the purpose of the `np.reshape` function?\n",
        "38. What does it mean to “reshape” a Numpy array?\n",
        "39. How do you write a numpy array into a CSV file?\n",
        "40. Give some examples of Numpy functions for performing mathematical operations.\n",
        "41. Give some examples of Numpy functions for performing array manipulation.\n",
        "42. Give some examples of Numpy functions for performing linear algebra.\n",
        "43. Give some examples of Numpy functions for performing statistical operations.\n",
        "44. How do you find the right Numpy function for a specific operation or use case?\n",
        "45. Where can you see a list of all the Numpy array functions and operations?\n",
        "46. What are the arithmetic operators supported by Numpy arrays? Illustrate with examples.\n",
        "47. What is array broadcasting? How is it useful? Illustrate with an example.\n",
        "48. Give some examples of arrays that are compatible for broadcasting?\n",
        "49. Give some examples of arrays that are not compatible for broadcasting?\n",
        "50. What are the comparison operators supported by Numpy arrays? Illustrate with examples.\n",
        "51. How do you access a specific subarray or slice from a Numpy array?\n",
        "52. Illustrate array indexing and slicing in multi-dimensional Numpy arrays with some examples.\n",
        "53. How do you create a Numpy array with a given shape containing all zeros?\n",
        "54. How do you create a Numpy array with a given shape containing all ones?\n",
        "55. How do you create an identity matrix of a given shape?\n",
        "56. How do you create a random vector of a given length?\n",
        "57. How do you create a Numpy array with a given shape with a fixed value for each element?\n",
        "58. How do you create a Numpy array with a given shape containing randomly initialized elements?\n",
        "59. What is the difference between `np.random.rand` and `np.random.randn`? Illustrate with examples.\n",
        "60. What is the difference between `np.arange` and `np.linspace`? Illustrate with examples.\n"
      ]
    },
    {
      "cell_type": "code",
      "execution_count": null,
      "metadata": {
        "id": "_HSFmMGQVoZu"
      },
      "outputs": [],
      "source": []
    }
  ],
  "metadata": {
    "kernelspec": {
      "display_name": "Python 3",
      "language": "python",
      "name": "python3"
    },
    "language_info": {
      "codemirror_mode": {
        "name": "ipython",
        "version": 3
      },
      "file_extension": ".py",
      "mimetype": "text/x-python",
      "name": "python",
      "nbconvert_exporter": "python",
      "pygments_lexer": "ipython3",
      "version": "3.8.6"
    },
    "colab": {
      "provenance": [],
      "include_colab_link": true
    }
  },
  "nbformat": 4,
  "nbformat_minor": 0
}