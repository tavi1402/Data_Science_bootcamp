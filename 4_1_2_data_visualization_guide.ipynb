{
  "cells": [
    {
      "cell_type": "markdown",
      "metadata": {
        "id": "view-in-github",
        "colab_type": "text"
      },
      "source": [
        "<a href=\"https://colab.research.google.com/github/tavi1402/Data_Science_bootcamp/blob/main/4_1_2_data_visualization_guide.ipynb\" target=\"_parent\"><img src=\"https://colab.research.google.com/assets/colab-badge.svg\" alt=\"Open In Colab\"/></a>"
      ]
    },
    {
      "cell_type": "markdown",
      "metadata": {
        "id": "vn8LJ4xZZi4s"
      },
      "source": [
        "![Image of Yaktocat](https://i.imgur.com/jfbcpSS.jpg)"
      ]
    },
    {
      "cell_type": "markdown",
      "metadata": {
        "id": "HSMJmIKXZi4z"
      },
      "source": [
        "## Data Visualization\n",
        "Data visualization is the graphic representation of data. It involves producing images that communicate relationships among the represented data to viewers. Visualizing data is an esstential part of data analysis and machine learning, but choosing the right type of visualization is often challenging. This guide provides an introduction to popluar data visualization techniques, by presenting sample use cases and providing code examples using Python.\n",
        "\n",
        "Types of graphs covered:\n",
        "\n",
        " - Line graph\n",
        " - Scatter plot\n",
        " - Histogram and Frequency Distribution\n",
        " - Heatmap\n",
        " - Contour Plot\n",
        " - Box Plot\n",
        " - Bar Chart"
      ]
    },
    {
      "cell_type": "markdown",
      "metadata": {
        "id": "YYwkcpr-Zi41"
      },
      "source": [
        "## Import libraries\n",
        "\n",
        "- [Matplotlib](https://matplotlib.org/): Plotting and visualization library for Python. We'll use the `pyplot` module from `matplotlib`. As convention, it is often imported as `plt`.\n",
        "- [Seaborn](https://seaborn.pydata.org/): An easy-to-use visualizetion library that builds on top of Matplotlib and lets you create beautiful charts with just a few lines of code."
      ]
    },
    {
      "cell_type": "code",
      "execution_count": null,
      "metadata": {
        "id": "Q88-lKkBZi42"
      },
      "outputs": [],
      "source": []
    },
    {
      "cell_type": "code",
      "execution_count": null,
      "metadata": {
        "id": "mXuQvvx8Zi43"
      },
      "outputs": [],
      "source": []
    },
    {
      "cell_type": "code",
      "execution_count": null,
      "metadata": {
        "id": "dXPp6PVbZi44"
      },
      "outputs": [],
      "source": []
    },
    {
      "cell_type": "markdown",
      "metadata": {
        "id": "bic2L5ItZi45"
      },
      "source": [
        "## Line Chart"
      ]
    },
    {
      "cell_type": "markdown",
      "metadata": {
        "id": "_nx1iheqZi47"
      },
      "source": [
        "A line chart displays information as a series of data points or markers, connected by a straight lines. You can customize the shape, size, color and other aesthetic elements of the markers and lines for better visual clarity.\n",
        "\n",
        "### Example\n",
        "\n",
        "We'll create a line chart to compare the yields of apples and oranges over 12 years in the imaginary region of Hoenn."
      ]
    },
    {
      "cell_type": "code",
      "execution_count": null,
      "metadata": {
        "id": "AsSeOq2JZi47"
      },
      "outputs": [],
      "source": []
    },
    {
      "cell_type": "markdown",
      "metadata": {
        "id": "nKIY4igvZi48"
      },
      "source": [
        "## Scatter Plot\n",
        "In a scatter plot, the values of 2 variables are plotted as points on a 2-dimensional grid. Additonally, you can also use a third variable to determine the size or color of the points.\n",
        "\n",
        "### Example\n",
        "The [Iris flower dataset](https://en.wikipedia.org/wiki/Iris_flower_data_set) provides samples measurements of sepals and petals for 3 species of flowers. The Iris dataset is included with the `seaborn` library, and can be loaded as a `pandas` dataframe."
      ]
    },
    {
      "cell_type": "code",
      "execution_count": null,
      "metadata": {
        "id": "VJ6So4RSZi5A"
      },
      "outputs": [],
      "source": []
    },
    {
      "cell_type": "markdown",
      "metadata": {
        "id": "_11vwmL2Zi5A"
      },
      "source": [
        "We can use a scatter plot to visualize sepal length & sepal witdh vary across different species of flowers. The points for each species form a separate cluster, with some overlap between the Versicolor and Virginica species."
      ]
    },
    {
      "cell_type": "code",
      "execution_count": null,
      "metadata": {
        "id": "mmMXorJXZi5B"
      },
      "outputs": [],
      "source": []
    },
    {
      "cell_type": "markdown",
      "metadata": {
        "id": "F8Trnq85Zi5C"
      },
      "source": [
        "## Histogram and Frequency Distribution\n",
        "\n",
        "A histogram represents the distribution of data by forming bins along the range of the data and then drawing bars to show the number of observations that fall in each bin.\n",
        "\n",
        "### Example\n",
        "We can use a histogram to visualize how the values of sepal width are distributed."
      ]
    },
    {
      "cell_type": "code",
      "execution_count": null,
      "metadata": {
        "id": "KrPDJceJZi5C"
      },
      "outputs": [],
      "source": []
    },
    {
      "cell_type": "markdown",
      "metadata": {
        "id": "4ST3ViOxZi5C"
      },
      "source": [
        "We can immediately see that values of sepal width fall in the range 2.0 - 4.5, and around 35 values are in the range 2.9 - 3.1. We can also look at this data as a frequency distribution, where the values on Y-axis are percentagess instead of counts."
      ]
    },
    {
      "cell_type": "code",
      "execution_count": null,
      "metadata": {
        "id": "aGJVfgxpZi5C"
      },
      "outputs": [],
      "source": []
    },
    {
      "cell_type": "markdown",
      "metadata": {
        "id": "JtjOGE-QZi5D"
      },
      "source": [
        "## Heatmap\n",
        "\n",
        "A heatamp is used to visualize 2-dimensional data like a matrix or a table using colors.\n",
        "\n",
        "### Example\n",
        "We'll use another sample dataset from Seaborn, called \"flights\", to visualize monthly passenger footfall at an airport over 12 years."
      ]
    },
    {
      "cell_type": "code",
      "execution_count": null,
      "metadata": {
        "id": "Rf52PP_oZi5J"
      },
      "outputs": [],
      "source": []
    },
    {
      "cell_type": "markdown",
      "metadata": {
        "id": "-6Z_j2ERZi5K"
      },
      "source": [
        "## Contour Plot\n",
        "\n",
        "Contour plot uses contours or color-coded regions helps us to visualize 3 numerical variables in two dimensions. One variable is represented on the horizontal axis and a second variable is represented on the vertical axis. The third variable is represented by a color gradient and isolines (lines of constant value).\n",
        "\n",
        "## Example\n",
        "We can visulize the values of sepal width & sepal length from the flowers dataset using a contour plot. The shade of blue represent the density of values in a region of the graph."
      ]
    },
    {
      "cell_type": "code",
      "execution_count": null,
      "metadata": {
        "id": "Prm8suPSZi5K"
      },
      "outputs": [],
      "source": []
    },
    {
      "cell_type": "markdown",
      "metadata": {
        "id": "bPcBvLMMZi5L"
      },
      "source": [
        "We can segment speicies of flowers by creating multiple contour plots with different colors."
      ]
    },
    {
      "cell_type": "code",
      "execution_count": null,
      "metadata": {
        "id": "q7wv-V1OZi5L"
      },
      "outputs": [],
      "source": []
    },
    {
      "cell_type": "markdown",
      "metadata": {
        "id": "z9ckipJIZi5L"
      },
      "source": [
        "## Box Plot\n",
        "A box plot shows the distribution of data along a single axis, using a \"box\" and \"whiskers\". The lower end of the box represents the 1st quartile (i.e. 25% of values are below it), and the upper end of the box represents the 3rd quartile (i.e. 25% of values are above it). The median value is represented via a line inside the box. The \"whiskers\" represent the minimum & maximum values (sometimes excluding outliers, which are represented as dots).\n",
        "\n",
        "### Example\n",
        "We'll use another sample dataset included with Seaborn, called \"tips\". The dataset contains information about the sex, time of day, total bill and tip amount for customers visiting a restraurant over a week."
      ]
    },
    {
      "cell_type": "code",
      "execution_count": null,
      "metadata": {
        "id": "AjaSff0xZi5L"
      },
      "outputs": [],
      "source": []
    },
    {
      "cell_type": "markdown",
      "metadata": {
        "id": "1Aw2-zULZi5L"
      },
      "source": [
        "We can use a box plot to visualize the distribution of total bill for each day of the week, segmented by whether the customer was a smoker."
      ]
    },
    {
      "cell_type": "code",
      "execution_count": null,
      "metadata": {
        "id": "WFUhYPSoZi5M"
      },
      "outputs": [],
      "source": []
    },
    {
      "cell_type": "markdown",
      "metadata": {
        "id": "60-9J71-Zi5M"
      },
      "source": [
        "## Bar Chart\n",
        "\n",
        "A bar chart presents categorical data with rectangular bars with heights proportional to the values that they represent. If there are multiple values for each category, then a bar plot can also represent the average value, with confidence intervals.\n",
        "\n",
        "\n",
        "### Example\n",
        "We can use a bar chart visulize the average value of total bill for different days of the week, segmented by sex, for the \"tips\" dataset"
      ]
    },
    {
      "cell_type": "code",
      "execution_count": null,
      "metadata": {
        "id": "QAVsbzO7Zi5M"
      },
      "outputs": [],
      "source": []
    },
    {
      "cell_type": "markdown",
      "metadata": {
        "id": "hcVRenxgZi5N"
      },
      "source": [
        "## Further Reading\n",
        "\n",
        "This guide intends to serve as introduction to the most commonly used data visualization techniques. With minor modifications to the examples shown above, you can visualize a wide variety of datasets. Visit the official documentation websites for more examples & tutorials:\n",
        "\n",
        "- Seaborn: https://seaborn.pydata.org/tutorial.html\n",
        "- Matplotlib: https://matplotlib.org/tutorials/index.html\n",
        "\n",
        "To share your data visualzations online, just install the Jovian python library and run `jovian.commit`."
      ]
    },
    {
      "cell_type": "code",
      "execution_count": null,
      "metadata": {
        "id": "zsQE5XCKZi5N"
      },
      "outputs": [],
      "source": []
    },
    {
      "cell_type": "code",
      "execution_count": null,
      "metadata": {
        "id": "8DHBsO6pZi5N"
      },
      "outputs": [],
      "source": []
    },
    {
      "cell_type": "code",
      "execution_count": null,
      "metadata": {
        "id": "_EvczFlwZi5O"
      },
      "outputs": [],
      "source": []
    },
    {
      "cell_type": "code",
      "execution_count": null,
      "metadata": {
        "id": "5BsGvFgUZi5O"
      },
      "outputs": [],
      "source": []
    }
  ],
  "metadata": {
    "kernelspec": {
      "display_name": "Python 3",
      "language": "python",
      "name": "python3"
    },
    "language_info": {
      "codemirror_mode": {
        "name": "ipython",
        "version": 3
      },
      "file_extension": ".py",
      "mimetype": "text/x-python",
      "name": "python",
      "nbconvert_exporter": "python",
      "pygments_lexer": "ipython3",
      "version": "3.7.6"
    },
    "colab": {
      "provenance": [],
      "include_colab_link": true
    }
  },
  "nbformat": 4,
  "nbformat_minor": 0
}