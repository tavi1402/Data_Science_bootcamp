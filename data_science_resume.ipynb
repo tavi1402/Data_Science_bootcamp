{
  "cells": [
    {
      "cell_type": "markdown",
      "metadata": {
        "id": "view-in-github",
        "colab_type": "text"
      },
      "source": [
        "<a href=\"https://colab.research.google.com/github/tavi1402/Data_Science_bootcamp/blob/main/data_science_resume.ipynb\" target=\"_parent\"><img src=\"https://colab.research.google.com/assets/colab-badge.svg\" alt=\"Open In Colab\"/></a>"
      ]
    },
    {
      "cell_type": "markdown",
      "id": "urban-fitting",
      "metadata": {
        "id": "urban-fitting"
      },
      "source": [
        "<iframe src=\"https://docs.google.com/presentation/d/e/2PACX-1vTOg5NRAD3lKG2BkfONDoT0zmhbRo0N3HcbYN5EE8s2oMeeUhT4mjpn1cj9eFNtsgczwcrc2ApaP9qI/embed?start=false&loop=false&delayms=60000\" frameborder=\"0\" width=\"960\" height=\"569\" style=\"height: 569px;\" allowfullscreen=\"true\" mozallowfullscreen=\"true\" webkitallowfullscreen=\"true\"></iframe>\n",
        "\n"
      ]
    },
    {
      "cell_type": "markdown",
      "id": "headed-graduate",
      "metadata": {
        "id": "headed-graduate"
      },
      "source": [
        "## Templates\n",
        "\n",
        "Bio: https://bit.ly/datasciencebio\n",
        "\n",
        "Resume:\n",
        "\n",
        "- https://jvn.io/resume1\n",
        "- https://jvn.io/resume2\n",
        "\n",
        "Jovian Hiring Profile: https://jovian.ai/settings/hire"
      ]
    }
  ],
  "metadata": {
    "kernelspec": {
      "display_name": "Python 3",
      "language": "python",
      "name": "python3"
    },
    "language_info": {
      "codemirror_mode": {
        "name": "ipython",
        "version": 3
      },
      "file_extension": ".py",
      "mimetype": "text/x-python",
      "name": "python",
      "nbconvert_exporter": "python",
      "pygments_lexer": "ipython3",
      "version": "3.6.13"
    },
    "colab": {
      "provenance": [],
      "include_colab_link": true
    }
  },
  "nbformat": 4,
  "nbformat_minor": 5
}