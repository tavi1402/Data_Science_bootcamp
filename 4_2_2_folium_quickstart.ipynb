{
  "cells": [
    {
      "cell_type": "markdown",
      "metadata": {
        "id": "view-in-github",
        "colab_type": "text"
      },
      "source": [
        "<a href=\"https://colab.research.google.com/github/tavi1402/Data_Science_bootcamp/blob/main/4_2_2_folium_quickstart.ipynb\" target=\"_parent\"><img src=\"https://colab.research.google.com/assets/colab-badge.svg\" alt=\"Open In Colab\"/></a>"
      ]
    },
    {
      "cell_type": "markdown",
      "metadata": {
        "id": "m_V0aX4Ab4d3"
      },
      "source": [
        "Quickstart\n",
        "==========\n",
        "\n",
        "\n",
        "Getting Started\n",
        "---------------\n",
        "\n",
        "\n",
        "To create a base map, simply pass your starting coordinates to Folium:"
      ]
    },
    {
      "cell_type": "code",
      "execution_count": null,
      "metadata": {
        "id": "W5PesItbb4d-"
      },
      "outputs": [],
      "source": []
    },
    {
      "cell_type": "markdown",
      "metadata": {
        "id": "LjQ49fn9b4d_"
      },
      "source": [
        "To display it in a Jupyter notebook, simply ask for the object representation:"
      ]
    },
    {
      "cell_type": "code",
      "execution_count": null,
      "metadata": {
        "id": "Qt0j0tLWb4eA"
      },
      "outputs": [],
      "source": []
    },
    {
      "cell_type": "markdown",
      "metadata": {
        "id": "-fFdmKxAb4eA"
      },
      "source": [
        "to save it in a file,"
      ]
    },
    {
      "cell_type": "code",
      "execution_count": null,
      "metadata": {
        "id": "mIFbvZ80b4eA"
      },
      "outputs": [],
      "source": []
    },
    {
      "cell_type": "markdown",
      "metadata": {
        "id": "69s838_Fb4eA"
      },
      "source": [
        "The default tiles are set to `OpenStreetMap`, but `Stamen Terrain`, `Stamen Toner`, `Mapbox Bright`, and `Mapbox Control Room`, and many others tiles are built in."
      ]
    },
    {
      "cell_type": "code",
      "execution_count": null,
      "metadata": {
        "id": "-ZzHhYVSb4eB"
      },
      "outputs": [],
      "source": []
    },
    {
      "cell_type": "markdown",
      "metadata": {
        "id": "YBfvqMtYb4eB"
      },
      "source": [
        "One can use `Cloudmade` or `Mapbox` custom tilesets--simply pass your key to the `API_key` keyword:\n",
        "\n",
        "```python\n",
        "folium.Map(location=[45.5236, -122.6750],\n",
        "           tiles='Mapbox',\n",
        "           API_key='your.API.key')\n",
        "```\n",
        "Lastly, Folium supports passing any `leaflet.js` compatible custom tileset:\n",
        "\n",
        "```python\n",
        "folium.Map(location=[45.372, -121.6972],\n",
        "           zoom_start=12,\n",
        "           tiles='http://{s}.tiles.yourtiles.com/{z}/{x}/{y}.png',\n",
        "           attr='My Data Attribution')\n",
        "```\n",
        "**NOTE**\n",
        "\n",
        "Built-in templates for Mapbox and Cloudmade have been removed in Folium.\n",
        "\n",
        "Here's what you can try if you run into an error-\n",
        "\n",
        "- Go to https://account.mapbox.com/ and create a free account with an email address (for verification)\n",
        "\n",
        "- After verification, login and copy the 'Default public token' on the first page (https://account.mapbox.com/access-tokens/)\n",
        "\n",
        "- Insert the token\n",
        "```\n",
        "         world_map = folium.Map(tiles='https://api.mapbox.com/styles/v1/mapbox/light-v10/tiles/{z}/{x}/{y}?access_token=INSERT_TOKEN_HERE, attr='Mapbox Bright')\n",
        "world_map\n",
        "```\n",
        "- Code should look something like the below:\n",
        "```\n",
        "         world_map = folium.Map(tiles='https://api.mapbox.com/styles/v1/mapbox/light-v10/tiles/{z}/{x}/{y}?access_token=pk.eyJ1IjoieWVsbG93dHdpb.....................P9btqwA', attr='Mapbox Bright')\n",
        "```\n"
      ]
    },
    {
      "cell_type": "markdown",
      "metadata": {
        "id": "8by4Qs1Ib4eB"
      },
      "source": [
        "Markers\n",
        "-------\n",
        "\n",
        "There are numerous marker types, starting with a simple `Leaflet`\n",
        "style location marker with a popup and tooltip `HTML`."
      ]
    },
    {
      "cell_type": "code",
      "execution_count": null,
      "metadata": {
        "id": "gHzsELr9b4eC"
      },
      "outputs": [],
      "source": []
    },
    {
      "cell_type": "markdown",
      "metadata": {
        "id": "NuipfZmNb4eC"
      },
      "source": [
        "There is built in support for colors and marker icon types from bootstrap."
      ]
    },
    {
      "cell_type": "code",
      "execution_count": null,
      "metadata": {
        "id": "1Gcj4gLnb4eC"
      },
      "outputs": [],
      "source": []
    },
    {
      "cell_type": "markdown",
      "metadata": {
        "id": "AXbNE7jHb4eC"
      },
      "source": [
        "Leaflet's `Circle` and `CircleMarker`, implemented to reflect radii in units of meters and pixels respectively, are available as `features`. See the `features.py` for more options."
      ]
    },
    {
      "cell_type": "code",
      "execution_count": null,
      "metadata": {
        "id": "yARlpFAtb4eC"
      },
      "outputs": [],
      "source": []
    },
    {
      "cell_type": "markdown",
      "metadata": {
        "id": "Vr76n557b4eC"
      },
      "source": [
        "a convenience function to enable lat/lon popovers. This can help users to find a location by interactively browsing the map."
      ]
    },
    {
      "cell_type": "code",
      "execution_count": null,
      "metadata": {
        "id": "38JbRD8_b4eD"
      },
      "outputs": [],
      "source": []
    },
    {
      "cell_type": "markdown",
      "metadata": {
        "id": "gOmnx615b4eD"
      },
      "source": [
        "and click-for-marker functionality for on-the-fly placement of markers:"
      ]
    },
    {
      "cell_type": "code",
      "execution_count": null,
      "metadata": {
        "id": "lWU40O_Kb4eD"
      },
      "outputs": [],
      "source": []
    },
    {
      "cell_type": "markdown",
      "metadata": {
        "id": "WA9gEhL6b4eD"
      },
      "source": [
        "## Vincent/Vega and Altair/VegaLite Markers\n",
        "\n",
        "`folium` enables passing any HTML object as a popup,\n",
        "including [`bokeh`](https://bokeh.pydata.org/en/latest/) plots,\n",
        "but there is a built-in support for [vincent](https://github.com/wrobstory/vincent) and [altair](https://altair-viz.github.io) visualizations to any marker type, with the visualization as the popover."
      ]
    },
    {
      "cell_type": "code",
      "execution_count": null,
      "metadata": {
        "id": "uYuh-BfWb4eD"
      },
      "outputs": [],
      "source": []
    },
    {
      "cell_type": "code",
      "execution_count": null,
      "metadata": {
        "id": "fC79NTgSb4eD"
      },
      "outputs": [],
      "source": []
    },
    {
      "cell_type": "markdown",
      "metadata": {
        "id": "mX1LspmPb4eD"
      },
      "source": [
        "For more information about popups, please visit [Popups.ipynb](https://nbviewer.jupyter.org/github/python-visualization/folium/blob/master/examples/Popups.ipynb)"
      ]
    },
    {
      "cell_type": "markdown",
      "metadata": {
        "id": "2-a8iUYXb4eD"
      },
      "source": [
        "## GeoJSON/TopoJSON Overlays\n",
        "\n",
        "Both GeoJSON and TopoJSON layers can be passed to the map as an overlay, and multiple layers can be visualized on the same map:"
      ]
    },
    {
      "cell_type": "code",
      "execution_count": null,
      "metadata": {
        "scrolled": false,
        "id": "VRtYs7Tfb4eD"
      },
      "outputs": [],
      "source": []
    },
    {
      "cell_type": "markdown",
      "metadata": {
        "id": "vRR7rLq1b4eD"
      },
      "source": [
        "## Choropleth maps\n",
        "\n",
        "Choropleth can be easily created by binding the data between Pandas DataFrames/Series and Geo/TopoJSON geometries. [Color Brewer](http://colorbrewer2.org/) sequential color schemes are built-in to the library, and can be passed to quickly visualize different combinations."
      ]
    },
    {
      "cell_type": "code",
      "execution_count": null,
      "metadata": {
        "id": "oKnJxvdpb4eF"
      },
      "outputs": [],
      "source": []
    },
    {
      "cell_type": "markdown",
      "metadata": {
        "id": "pax0Zz-Ib4eF"
      },
      "source": [
        "The legend on the upper right is automatically generated for your values using 6 same sized bins.\n",
        "Passing your own bins (number or list) is simple:"
      ]
    },
    {
      "cell_type": "code",
      "execution_count": null,
      "metadata": {
        "id": "dxyodtbZb4eF"
      },
      "outputs": [],
      "source": []
    },
    {
      "cell_type": "markdown",
      "metadata": {
        "id": "f7bgNbLVb4eG"
      },
      "source": [
        "By binding data via the Pandas DataFrame, different datasets can be quickly visualized."
      ]
    },
    {
      "cell_type": "markdown",
      "metadata": {
        "id": "GaYUJF-zb4eG"
      },
      "source": [
        "## Styling function\n",
        "\n",
        "`GeoJson` and `TopoJson` features accepts `style_function` to allow for further custimization of the map.\n",
        "Take a look at the use examples below."
      ]
    },
    {
      "cell_type": "code",
      "execution_count": null,
      "metadata": {
        "id": "41EgpIkAb4eG"
      },
      "outputs": [],
      "source": []
    },
    {
      "cell_type": "code",
      "execution_count": null,
      "metadata": {
        "id": "AdQEQVxnb4eG"
      },
      "outputs": [],
      "source": []
    },
    {
      "cell_type": "code",
      "execution_count": null,
      "metadata": {
        "id": "UKZuNvV2b4eG"
      },
      "outputs": [],
      "source": []
    },
    {
      "cell_type": "markdown",
      "metadata": {
        "id": "Fm7peLIEb4eG"
      },
      "source": [
        "For more examples and use cases please take a look at the gallery:\n",
        "\n",
        "https://nbviewer.jupyter.org/github/python-visualization/folium_contrib/tree/master/notebooks/"
      ]
    },
    {
      "cell_type": "markdown",
      "metadata": {
        "id": "RN0x6ptdb4eG"
      },
      "source": [
        "## Questions for Revision\n",
        "1.\tWhat is Folium?\n",
        "2.\tCreate a base map using Folium.\n",
        "3.\tWhat are the necessary parameters in a Folium map?\n",
        "4.\tWhat is `tiles` parameter in Folium?\n",
        "5.\tWhat is `tooltip` parameter in Folium?\n",
        "6.\tHow do you add markers in a Folium map?\n",
        "7.\tWhat is `add_to()` in Folium map?\n",
        "8.\tWhat are GeoJSON and TopoJSON overlays in Folium map?\n",
        "9.\tWhat is `LayerControl()` in Folium map?\n",
        "10.\tWhat are Choropleth maps? Illustrate with an example.\n",
        "11.\tWhat is `geo_data` parameter in Folium Choropleth map?\n",
        "12.\tWhat is branca?\n",
        "13.\tWhat is `zoom_start` parameter in Folium map?\n",
        "14.\tWhat does `reset=True` mean in Folium Choropleth?\n",
        "15.\tWhat is `style_function()`?\n",
        "16.\tWhat is `colorscale()`?"
      ]
    }
  ],
  "metadata": {
    "kernelspec": {
      "display_name": "Python 3",
      "language": "python",
      "name": "python3"
    },
    "language_info": {
      "codemirror_mode": {
        "name": "ipython",
        "version": 3
      },
      "file_extension": ".py",
      "mimetype": "text/x-python",
      "name": "python",
      "nbconvert_exporter": "python",
      "pygments_lexer": "ipython3",
      "version": "3.8.8"
    },
    "toc": {
      "base_numbering": 1,
      "nav_menu": {},
      "number_sections": true,
      "sideBar": true,
      "skip_h1_title": false,
      "title_cell": "Table of Contents",
      "title_sidebar": "Contents",
      "toc_cell": false,
      "toc_position": {},
      "toc_section_display": true,
      "toc_window_display": false
    },
    "colab": {
      "provenance": [],
      "include_colab_link": true
    }
  },
  "nbformat": 4,
  "nbformat_minor": 0
}