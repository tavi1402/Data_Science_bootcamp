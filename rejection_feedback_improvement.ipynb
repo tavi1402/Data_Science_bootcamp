{
  "cells": [
    {
      "cell_type": "markdown",
      "metadata": {
        "id": "view-in-github",
        "colab_type": "text"
      },
      "source": [
        "<a href=\"https://colab.research.google.com/github/tavi1402/Data_Science_bootcamp/blob/main/rejection_feedback_improvement.ipynb\" target=\"_parent\"><img src=\"https://colab.research.google.com/assets/colab-badge.svg\" alt=\"Open In Colab\"/></a>"
      ]
    },
    {
      "cell_type": "markdown",
      "id": "protected-calculator",
      "metadata": {
        "id": "protected-calculator"
      },
      "source": [
        "# Rejection, Feedback and Improvement\n",
        "\n",
        "![](https://i.imgur.com/ScV2Xz7.png)"
      ]
    },
    {
      "cell_type": "markdown",
      "id": "stretch-start",
      "metadata": {
        "id": "stretch-start"
      },
      "source": [
        "Applying to jobs is a long & tedious process, with very low conversion at each stage:\n",
        "\n",
        "<img src=\"https://i.imgur.com/8ARQl3P.png\" width=\"360\" style=\"margin-left:0;\">\n",
        "\n",
        "Translation: You'll face a lot of rejection during the job application process. You may have to apply for up to 200 jobs to get an offer, and it's important to learn from rejections and get better with every application."
      ]
    },
    {
      "cell_type": "markdown",
      "id": "tough-companion",
      "metadata": {
        "id": "tough-companion"
      },
      "source": [
        "\n",
        "\n",
        "### The Vicious Cycle\n",
        "\n",
        "Here's what might happen if you don't deal with rejections properly:\n",
        "\n",
        "1. The first few interviews go badly and you're rejected.\n",
        "2. You feel you're not good enough and you lose confidence.\n",
        "3. You start doing poorly in the following interviews.\n",
        "4. You face more rejections and stop applying to jobs.\n",
        "\n",
        "You walk away from this experience thinking something like \"I'm not cut out for this\" or \"Maybe this isn't for me\"."
      ]
    },
    {
      "cell_type": "markdown",
      "id": "robust-samoa",
      "metadata": {
        "id": "robust-samoa"
      },
      "source": [
        "\n",
        "### The Virtuous Cycle\n",
        "\n",
        "Here's what happens if you deal with rejections properly:\n",
        "\n",
        "1. The first few interviews go badly and you're rejected.\n",
        "2. You identify what you're doing wrong and work on it.\n",
        "3. You start performing better in following interviews.\n",
        "4. You start moving further and receive multiple offers.\n",
        "\n",
        "You walk away from this experience with greater confidence, better skills and a high-paying job.\n",
        "\n"
      ]
    },
    {
      "cell_type": "markdown",
      "id": "southeast-manual",
      "metadata": {
        "id": "southeast-manual"
      },
      "source": [
        "### Principles for Dealing with Rejection\n",
        "\n",
        "Use these principles to avoid the vicious cycle and create a virtuous cycle:\n",
        "\n",
        "1. Have a plan and stick to it\n",
        "2. Learn from every rejection\n",
        "3. Manage your mindset\n",
        "\n",
        "Let's take a closer look at each one of these."
      ]
    },
    {
      "cell_type": "markdown",
      "id": "fourth-tokyo",
      "metadata": {
        "id": "fourth-tokyo"
      },
      "source": [
        "## 1. Have a plan & stick to it\n",
        "\n",
        "Applying for jobs & getting hired takes time. It's easy to get overwhelmed if you don't plan ahead, and it's natural to feel demotivated after the first few rejections.\n",
        "\n",
        "\n"
      ]
    },
    {
      "cell_type": "markdown",
      "id": "personal-butter",
      "metadata": {
        "id": "personal-butter"
      },
      "source": [
        "Here's a 3-step plan that you should commit to for the next 8 weeks:\n",
        "\n",
        "1. **Interview Preparation**: Spend 12-15 hrs every week preparing for coding challenges & interviews\n",
        "2. **Job Applications**: Spend 1-1.5 hours every day applying for jobs across different mediums.\n",
        "3. **Learning & Improvement**: Spend 10-12 hours per week revising, learning and working on projects.\n"
      ]
    },
    {
      "cell_type": "markdown",
      "id": "patent-royal",
      "metadata": {
        "id": "patent-royal"
      },
      "source": [
        "How to stick to the plan:\n",
        "- Spend 30 minutes every Monday reviewing the last week & planning for the upcoming week\n",
        "- Block specific time slots on your calendar to work on each of the above steps.\n",
        "- Share regular updates with us (Jovian team) or members of your batch to stay accountable.\n",
        "\n",
        "\n",
        "Every Monday, spend 30 minutes reviewing your plan for the week, and block time slots on your calendar to work on each each of the above."
      ]
    },
    {
      "cell_type": "markdown",
      "id": "advanced-statistics",
      "metadata": {
        "id": "advanced-statistics"
      },
      "source": [
        "### 1.1 Interview Preparation\n",
        "\n",
        "Spend 12-15 hrs every week preparing for coding challenges & interviews:\n",
        "\n",
        "1. **Mock Interviews**: Watch 1-2 mock interviews for your job role every week. (2 hrs/week)\n",
        "2. **Non-Technical Questions**: Revise and improve your answers to behavioral questions. (3 hrs/week)\n",
        "3. **Coding Challenges**: Solve 3-5 EASY questions on LeetCode every week. (6 hrs/week)\n",
        "4. **Technical Questions**: Practice 3-5 questions every day. Always answer out loud. (1 hr/day)\n",
        "\n",
        "Use the Data Science Interview Preparation Guide: https://jovianai.notion.site/Data-Science-Interview-Preparation-Guide-68059024627d440b89890cf37e938acd\n"
      ]
    },
    {
      "cell_type": "markdown",
      "id": "overall-retirement",
      "metadata": {
        "id": "overall-retirement"
      },
      "source": [
        "### 1.2 Job Applications\n",
        "\n",
        "Spend 1-1.5 hours every day applying for jobs, using the following mediums:\n",
        "\n",
        "1. **Referrals** - Reach out to at least one person every day (20 mins)\n",
        "2. **Cold outreach** - Reach out to at least 2 recruiters/employers everyday (20 mins)\n",
        "3. **Company website** - Apply on 2 company websites every day (20 mins)\n",
        "4. **Job sites (AngelList, Indeed, Naukri)** - Apply to 4 recently posted jobs everyday (20 mins)\n",
        "5. **LinkedIn Easy Apply** - Apply to all jobs posted recently (20 mins)\n",
        "\n",
        "Aim to apply for 200 jobs over 1.5-2 months. The key is to do it consistently.\n",
        "\n",
        "Use the Job Application & Outreach Tracking sheet: https://bit.ly/jobapplicationtracking\n"
      ]
    },
    {
      "cell_type": "markdown",
      "id": "aggressive-racing",
      "metadata": {
        "id": "aggressive-racing"
      },
      "source": [
        "### 1.3 Learning & Improvement\n",
        "\n",
        "It's important to continue learning and improving even while you apply for jobs, so that you don't lose touch with the technical material. Here's what you should do every week:\n",
        "\n",
        "1. **Review Lessons**: Review bootcamp materials (videos & notebooks) for topics you find tough. (2-3 hrs/week)\n",
        "2. **Complete Tutorials**: Watch tutorials to answer interview questions for topics not covered in the bootcamp. (2-3 hrs/week)\n",
        "3. **Build & Publish Projects**: Keep working on a project and publish at least one blog post every month. (3-5 hrs/week)\n",
        "\n",
        "The best part about data science & machine learning is that you can never stop learning & improving. Remember to have fun!"
      ]
    },
    {
      "cell_type": "markdown",
      "id": "asian-usage",
      "metadata": {
        "id": "asian-usage"
      },
      "source": [
        "## 2. Learn From Every Rejection\n",
        "\n",
        "Here's how you can learn from every rejection:\n",
        "\n",
        "1. Retrospect after every interview\n",
        "2. Ask for feedback, whenever possible\n",
        "3. Talk to batchmates & the Jovian team"
      ]
    },
    {
      "cell_type": "markdown",
      "id": "persistent-mapping",
      "metadata": {
        "id": "persistent-mapping"
      },
      "source": [
        "### 2.1 Interview Retrospective\n",
        "\n",
        "It's important to analyze your performance immediately after an interview (while it's still fresh in your mind). Fill out this retrospective form after every interview: https://bit.ly/interview-retrospective\n",
        "\n",
        "Here are some questions you should answer:\n",
        "\n",
        "- How would you rate your performance in the interview?\n",
        "- What questions were you asked during the interview?\n",
        "- What went well during the interview?\n",
        "- What didn't go well during the interview?\n",
        "- What would you have done differently if you could take the interview again?\n",
        "- What are 3-5 key action items to improve your performance in the next interview?\n",
        "- Are there any areas where you need help from the Jovian team?\n",
        "\n",
        "Doing a retrospective can significantly improve your performance interview after interview. On the flip side, without a retrospective, you may keep making the same mistakes over and over again."
      ]
    },
    {
      "cell_type": "markdown",
      "id": "oriental-forge",
      "metadata": {
        "id": "oriental-forge"
      },
      "source": [
        "### 2.2 Ask for Feedback\n",
        "\n",
        "Whenever you receive a rejection email, you should always write back asking for feedback on your application & interviews. Here's a template you can use:\n",
        "\n",
        "\n",
        "> Hi XYZ,\n",
        ">\n",
        "> It's sad to hear that I didn't make it to the next round. I'd really appreciate it if you could you please share some feedback from the interviewers. I know they're probably busy, but even a few lines of feedback will be really helpful for me. Thanks in advance!\n",
        ">\n",
        "> Regards,<br/>\n",
        "> Aakash\n",
        "\n",
        "Here are some other ways of getting feedback:\n",
        "\n",
        "- Talk to people working in your target role. Show them your Resume and request them for mock interviews.\n",
        "\n",
        "- If the recruiter doesn't write back. Reach out to your interviewer on LinkedIn and request them to share a few lines of feedback.\n",
        "\n",
        "- If an interview didn't go too well, ask for feedback at the end. You'll be surprised how much you can learn simply by asking an interviewer the question _\"How did I do? Do you have any feedback for me?\"_\n",
        "\n",
        "\n"
      ]
    },
    {
      "cell_type": "markdown",
      "id": "informal-adolescent",
      "metadata": {
        "id": "informal-adolescent"
      },
      "source": [
        "### 2.3 Talk to Batchmates & the Jovian Team\n",
        "\n",
        "Remember that you're not in this journey alone, and you can learn from others too. Talking to others also helps you think through things clearly. Here's what you can do:\n",
        "\n",
        "* Fill out the interview retrospective form and schedule a 1:1 call with us.\n",
        "* Get on an informal call with your batchmates and exchange notes from interviews\n",
        "* Share tricky questions, ask for advice and engage in discussions on Slack\n",
        "\n",
        "Whatever's bothering you the most, share it with someone. It'll automatically become a lot easier to deal with and you'll get a lot of great inputs."
      ]
    },
    {
      "cell_type": "markdown",
      "id": "little-nitrogen",
      "metadata": {
        "id": "little-nitrogen"
      },
      "source": [
        "## 3. Manage Your Mindset\n",
        "\n",
        "Managing your mindset is probably the most important part of the job hunting process. Here are 3 tips to manage your mindset:\n",
        "\n",
        "1. Don't take it personally\n",
        "2. Adopt a growth mindset\n",
        "3. Prepare yourself before interviews\n",
        "\n",
        "\n",
        "\n",
        "\n",
        "\n"
      ]
    },
    {
      "cell_type": "markdown",
      "id": "empirical-match",
      "metadata": {
        "id": "empirical-match"
      },
      "source": [
        "### 3.1 Don't Take it Personally\n",
        "\n",
        "Most of the time, a rejection is because of factors outside your control\n",
        "\n",
        "* The job may already have received hundreds of applications and your Resume was never seen\n",
        "\n",
        "* The company may have decided to hire one of the first few candidates they interviewed, so they won't interview any more people\n",
        "\n",
        "* Someone more experienced than you in a specific skill/technology may have applied to the role, so the company chose to go with them\n",
        "\n",
        "* You weren't prepared to answer one of the questions you were asked during one of the interviews, and the interviewer chose to base their entire decision on that one question\n",
        "\n",
        "* etc.\n",
        "\n",
        "It's natural to immediately jump to the conclusion \"I'm not good enough\" when you get a rejection. Just a take a minute to reflect and realize that there's a very good chance the rejection may have absolutely nothing to do with your skills.\n",
        "\n",
        "<img src=\"https://i.imgur.com/8ARQl3P.png\" width=\"360\" style=\"margin-left:0;\">\n",
        "\n",
        "This is why it's important to stick to the plan and keep applying. The more you apply, the higher are your chances of finding an opportunity where you do not get rejected for reasons outside your control.\n",
        "\n"
      ]
    },
    {
      "cell_type": "markdown",
      "id": "sensitive-characterization",
      "metadata": {
        "id": "sensitive-characterization"
      },
      "source": [
        "### 3.2 Adopt a Growth Mindset\n",
        "\n",
        "Turn the feeling of \"I'm not good enough\" into \"Here's how I can get better\".\n",
        "\n",
        "* You should look at a rejection as a form of feedback for the _current state_ of your skills.\n",
        "* Adopt a “growth mindset” - your skills & abilities are not fixed, and you can learn anything with sufficient effort.\n",
        "* Just like techincal skills, interviewing is also a learnable skill that you'll get better at with practice.\n",
        "\n",
        "\n",
        "Remember: You learn the most when you struggle. So look at struggle, rejection & failure as a positive experience that will help you grow and become a better data science practitioner."
      ]
    },
    {
      "cell_type": "markdown",
      "id": "global-lounge",
      "metadata": {
        "id": "global-lounge"
      },
      "source": [
        "### 3.3 Prepare Yourself Mentally Before Interviews\n",
        "\n",
        "Each interview is a fresh new opportunity to prove yourself. What you do just before an interview can make a big difference. Here are some quick practical tips to manage yourself before & during an interview:\n",
        "\n",
        "1. Do some research about the company, you should understand well what they do, and where your role fits in.\n",
        "\n",
        "\n",
        "2. Keep your answers to “Tell me about yourself” and other non-technical questions open in front of you for reference.\n",
        "\n",
        "\n",
        "3. For technical questions, if you don’t understand something, ask for a clarification. If you still don’t understand it, just say politely that you don’t know about it, but you’ll read up & get back over email.\n",
        "\n",
        "\n",
        "4. Take time to think during the interview (don’t be afraid of silence), but share your thought process as you are thinking through a problem (don’t be silent for more than 30 seconds). The interviewer is also assessing how you communicate.\n",
        "\n",
        "\n",
        "5. Speak slowly and clearly, and after you’re done speaking for some time, try asking “Does that make sense?” Remember, it’s a conversation, not a monologue.\n",
        "\n",
        "\n",
        "6. Don’t be afraid to ask questions. The more questions you ask, the greater interest in the company and the role the interviewer will infer.\n",
        "\n",
        "\n",
        "7. Be confident. You know everything you need to do this job, and you have the ability to learn the other skills as and when required. Think back about the 100s of hours you have put in.\n",
        "\n",
        "\n",
        "8. Remind yourself again that you’re good enough for this role. Remember: to convince the interviewer that you’re right for the job, you have to be convinced yourself first.\n",
        "\n",
        "\n",
        "9. Just before the call starts, take 8-10 deep breaths, clear your mind and enter the interview with a relaxed & positive state of mind."
      ]
    },
    {
      "cell_type": "markdown",
      "id": "regulated-cambodia",
      "metadata": {
        "id": "regulated-cambodia"
      },
      "source": [
        "## Summary\n",
        "\n",
        "Here's what you should do to deal with rejections during the job hunting process:\n",
        "\n",
        "1. Have a plan and stick to it\n",
        "    1. Spend 12-15 hrs every week preparing for coding challenges & interviews\n",
        "    2. Spend 1-1.5 hours every day applying for jobs across different mediums.\n",
        "    3. Spend 10-12 hours per week revising, learning and working on projects.\n",
        "\n",
        "\n",
        "2. Learn from every rejection\n",
        "    1. Retrospect after every interview\n",
        "    2. Ask for feedback, whenever possible\n",
        "    3. Talk to batchmates & the Jovian team\n",
        "\n",
        "\n",
        "3. Manage your mindset\n",
        "    1. Don't take it personally\n",
        "    2. Adopt a growth mindset\n",
        "    3. Prepare yourself before interviews\n",
        "\n",
        "    \n",
        "If you do this right, you'll create a virtuous cycle:\n",
        "\n",
        "1. The first few interviews go badly and you're rejected.\n",
        "2. You identify what you're doing wrong and work on it.\n",
        "3. You start performing better in following interviews.\n",
        "4. You start moving further and receive multiple offers.\n"
      ]
    },
    {
      "cell_type": "code",
      "execution_count": null,
      "id": "brown-greeting",
      "metadata": {
        "id": "brown-greeting"
      },
      "outputs": [],
      "source": []
    }
  ],
  "metadata": {
    "kernelspec": {
      "display_name": "Python 3",
      "language": "python",
      "name": "python3"
    },
    "language_info": {
      "codemirror_mode": {
        "name": "ipython",
        "version": 3
      },
      "file_extension": ".py",
      "mimetype": "text/x-python",
      "name": "python",
      "nbconvert_exporter": "python",
      "pygments_lexer": "ipython3",
      "version": "3.6.13"
    },
    "colab": {
      "provenance": [],
      "include_colab_link": true
    }
  },
  "nbformat": 4,
  "nbformat_minor": 5
}