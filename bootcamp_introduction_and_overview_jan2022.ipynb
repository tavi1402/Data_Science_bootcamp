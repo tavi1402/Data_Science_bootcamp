{
  "cells": [
    {
      "cell_type": "markdown",
      "metadata": {
        "id": "view-in-github",
        "colab_type": "text"
      },
      "source": [
        "<a href=\"https://colab.research.google.com/github/tavi1402/Data_Science_bootcamp/blob/main/bootcamp_introduction_and_overview_jan2022.ipynb\" target=\"_parent\"><img src=\"https://colab.research.google.com/assets/colab-badge.svg\" alt=\"Open In Colab\"/></a>"
      ]
    },
    {
      "cell_type": "markdown",
      "metadata": {
        "id": "--aQATCshR0Y"
      },
      "source": [
        "Welcome to the Jovian Data Science Bootcamp! In this introduction session, we go over how the bootcamp works, what your typical week will look like, and how you get help when you need it.\n",
        "\n",
        "The following topics are covered:\n",
        "\n",
        "- Welcome & introduction\n",
        "- Curriculum deep-dive\n",
        "- Learning platform walkthrough\n",
        "- Slack group walkthrough\n",
        "- How the program works\n",
        "- How to get help\n",
        "- How to succeed\n",
        "- Jovian team introductions"
      ]
    },
    {
      "cell_type": "markdown",
      "source": [
        "<iframe src=\"https://docs.google.com/presentation/d/e/2PACX-1vQUz52cle-TwrYSxfcWvjdd5G41YI8KZ9A8PmW_LmhpM86a_MjT4rXRusYYZq88NBDUEIes3VcHEgrn/embed?start=false&loop=false&delayms=60000\" frameborder=\"0\" width=\"960\" style=\"height:569px;\" allowfullscreen=\"true\" mozallowfullscreen=\"true\" webkitallowfullscreen=\"true\"></iframe>"
      ],
      "metadata": {
        "id": "s8eNeDiihbuC"
      }
    },
    {
      "cell_type": "markdown",
      "metadata": {
        "id": "knosSF7AhR0g"
      },
      "source": [
        "<iframe src=\"https://docs.google.com/presentation/d/e/2PACX-1vQUz52cle-TwrYSxfcWvjdd5G41YI8KZ9A8PmW_LmhpM86a_MjT4rXRusYYZq88NBDUEIes3VcHEgrn/embed?start=false&loop=false&delayms=60000\" frameborder=\"0\" width=\"960\" style=\"height:569px;\" allowfullscreen=\"true\" mozallowfullscreen=\"true\" webkitallowfullscreen=\"true\"></iframe>"
      ]
    }
  ],
  "metadata": {
    "kernelspec": {
      "display_name": "Python 3 (ipykernel)",
      "language": "python",
      "name": "python3"
    },
    "language_info": {
      "codemirror_mode": {
        "name": "ipython",
        "version": 3
      },
      "file_extension": ".py",
      "mimetype": "text/x-python",
      "name": "python",
      "nbconvert_exporter": "python",
      "pygments_lexer": "ipython3",
      "version": "3.9.6"
    },
    "colab": {
      "provenance": [],
      "include_colab_link": true
    }
  },
  "nbformat": 4,
  "nbformat_minor": 0
}