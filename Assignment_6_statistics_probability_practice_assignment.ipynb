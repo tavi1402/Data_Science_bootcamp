{
  "cells": [
    {
      "cell_type": "markdown",
      "metadata": {
        "id": "view-in-github",
        "colab_type": "text"
      },
      "source": [
        "<a href=\"https://colab.research.google.com/github/tavi1402/Data_Science_bootcamp/blob/main/Assignment_6_statistics_probability_practice_assignment.ipynb\" target=\"_parent\"><img src=\"https://colab.research.google.com/assets/colab-badge.svg\" alt=\"Open In Colab\"/></a>"
      ]
    },
    {
      "cell_type": "markdown",
      "id": "f4713bf5",
      "metadata": {
        "id": "f4713bf5"
      },
      "source": [
        "# Assignment - Statistics and Probability Practice\n",
        "\n",
        "As you go through this notebook, you will find the symbol **???** in certain places. To complete this assignment, you must replace all the **???** with appropriate values, expressions, or statements to ensure that the notebook runs properly end-to-end.\n",
        "\n",
        "**Guidelines**\n",
        "\n",
        "1. Make sure to run all the code cells in order. Otherwise, you may get errors like `NameError` for undefined variables.\n",
        "2. Do not change variable names, delete cells, or disturb other existing code. It may cause problems during evaluation.\n",
        "3. In some cases, you may need to add some code cells or new statements before or after the line of code containing the **???**.\n",
        "4. Since you'll be using a temporary online service for code execution, save your work by running `jovian.commit` at regular intervals.\n",
        "5. Questions marked **(Optional)** will not be considered for evaluation and can be skipped. They are for your learning.\n",
        "6. If you are stuck, you can ask for help on the bootcamp Slack group. Post errors, ask for hints, and help others, but **please don't share the complete solution code on Slack** to give others a chance to write the code themselves.\n",
        "7. There are some tests included with this notebook to help you test your implementation. However, after submission, your code will be tested with some hidden test cases. Make sure to test your code exhaustively to cover all edge cases.\n"
      ]
    },
    {
      "cell_type": "markdown",
      "id": "b2aa548d",
      "metadata": {
        "id": "b2aa548d"
      },
      "source": [
        "### How to Run the Code and Save Your Work\n",
        "\n",
        "**Option 1: Running using free online resources (1-click, recommended)**: Click the **Run** button at the top of this page and select **Run on Binder**. You can also select \"Run on Colab\" or \"Run on Kaggle\", but you'll need to create an account on [Google Colab](https://colab.research.google.com) or [Kaggle](https://kaggle.com) to use these platforms.\n",
        "\n",
        "\n",
        "**Option 2: Running on your computer locally**: To run the code on your computer locally, you'll need to set up [Python](https://www.python.org) & [Conda](https://docs.conda.io/projects/conda/en/latest/user-guide/install/), download the notebook and install the required libraries. Click the **Run** button at the top of this page, select the **Run Locally** option, and follow the instructions.\n",
        "\n",
        "**Saving your work**: You can save a snapshot of the assignment to your [Jovian](https://jovian.ai) profile, so that you can access it later and continue your work. Keep saving your work by running `jovian.commit` from time to time."
      ]
    },
    {
      "cell_type": "code",
      "execution_count": null,
      "id": "0d89fa6d",
      "metadata": {
        "id": "0d89fa6d"
      },
      "outputs": [],
      "source": [
        "project_name='statistics-probability-practice-assignment'"
      ]
    },
    {
      "cell_type": "code",
      "execution_count": null,
      "id": "74ae6a05",
      "metadata": {
        "id": "74ae6a05"
      },
      "outputs": [],
      "source": [
        "!pip install jovian --upgrade --quiet"
      ]
    },
    {
      "cell_type": "code",
      "execution_count": null,
      "id": "17e71538",
      "metadata": {
        "id": "17e71538"
      },
      "outputs": [],
      "source": [
        "import jovian"
      ]
    },
    {
      "cell_type": "code",
      "execution_count": null,
      "id": "f9446118",
      "metadata": {
        "id": "f9446118"
      },
      "outputs": [],
      "source": [
        "jovian.commit(project=project_name, privacy='secret')"
      ]
    },
    {
      "cell_type": "markdown",
      "id": "45702e9c",
      "metadata": {
        "id": "45702e9c"
      },
      "source": [
        "## Helper Functions\n",
        "\n",
        "You may find the following helper functions useful in one or more questions."
      ]
    },
    {
      "cell_type": "code",
      "execution_count": null,
      "id": "0518ef9d",
      "metadata": {
        "id": "0518ef9d"
      },
      "outputs": [],
      "source": [
        "def probability(matching_outcomes, total_outcomes):\n",
        "    \"\"\"Compute probability of an event when all outcomes are equally likely\"\"\"\n",
        "    return matching_outcomes / total_outcomes\n",
        "\n",
        "def union_probability(p_a, p_b, p_intersection):\n",
        "    \"\"\"Compute the probability of P(A or B) given P(A), P(B) and P(A and B)\"\"\"\n",
        "    return p_a + p_b - p_intersection\n",
        "\n",
        "def estimate_probability(matching_experiments, total_experiments):\n",
        "    \"\"\"Estimate the probability of an event by conducting many experiments\"\"\"\n",
        "    return matching_experiments / total_experiments\n",
        "\n",
        "def quartiles(nums):\n",
        "    \"\"\"Returns the quartiles for the given set of numbers\"\"\"\n",
        "    return np.percentile(nums, 25), np.median(nums), np.percentile(nums, 75)\n",
        "\n",
        "def datarange(nums):\n",
        "    \"\"\"Returns the minimum and maximum number in a set of numbers\"\"\"\n",
        "    return min(nums), max(nums)\n",
        "\n",
        "def count_occurrences(elements):\n",
        "    \"\"\"Returns a dictionary containing the no. of occurrence for each unique element\"\"\"\n",
        "    # Create a dictionary of results\n",
        "    counts = {}\n",
        "    # Go over each element in the list\n",
        "    for element in elements:\n",
        "        # Check we already have an entry for it\n",
        "        if element in counts:\n",
        "            # Increment the count\n",
        "            counts[element] += 1\n",
        "        else:\n",
        "            # If not present already, create an entry\n",
        "            counts[element] = 1\n",
        "    # Return the dictionary of results\n",
        "    return counts\n",
        "\n",
        "def mode(elements):\n",
        "    \"\"\"Returns a list containing the most frequently occuring element(s)\"\"\"\n",
        "    # Count the no. of occurences of each value\n",
        "    counts = count_occurrences(elements)\n",
        "    # Get the maximum no. of occurences of any value\n",
        "    max_count = max(counts.values())\n",
        "    # Make a list of the matching elements\n",
        "    results = []\n",
        "    # Iterate over unique elements\n",
        "    for element in counts:\n",
        "        # Check if its count matches max_count\n",
        "        if counts[element] == max_count:\n",
        "            # Add it to results\n",
        "            results.append(element)\n",
        "    return results"
      ]
    },
    {
      "cell_type": "code",
      "execution_count": null,
      "id": "cfae3a7b",
      "metadata": {
        "id": "cfae3a7b"
      },
      "outputs": [],
      "source": [
        "# Uncomment if you're unable to import pandas or numpy\n",
        "# !pip install pandas numpy --upgrade --quiet"
      ]
    },
    {
      "cell_type": "code",
      "execution_count": null,
      "id": "467193bd",
      "metadata": {
        "id": "467193bd"
      },
      "outputs": [],
      "source": [
        "import pandas as pd\n",
        "import numpy as np"
      ]
    },
    {
      "cell_type": "markdown",
      "id": "e077f1b3",
      "metadata": {
        "id": "e077f1b3"
      },
      "source": [
        "## Problems\n",
        "\n",
        "Replace each occurrence **???** with your answer. You can add new code cells if necessary. Optional problems can be skipped."
      ]
    },
    {
      "cell_type": "markdown",
      "id": "08ddc619",
      "metadata": {
        "id": "08ddc619"
      },
      "source": [
        "> **QUESTION 1**: A coin is tossed 10,000 times and results in a head 3,490 times. Estimate the probability of getting a tail when the coin is tossed. The variable `p_tail` should contain your answer."
      ]
    },
    {
      "cell_type": "code",
      "execution_count": null,
      "id": "7a143022",
      "metadata": {
        "id": "7a143022"
      },
      "outputs": [],
      "source": [
        "p_tail = ???"
      ]
    },
    {
      "cell_type": "code",
      "execution_count": null,
      "id": "e8785b2a",
      "metadata": {
        "id": "e8785b2a"
      },
      "outputs": [],
      "source": [
        "p_tail"
      ]
    },
    {
      "cell_type": "code",
      "execution_count": null,
      "id": "2ed32285",
      "metadata": {
        "id": "2ed32285"
      },
      "outputs": [],
      "source": []
    },
    {
      "cell_type": "code",
      "execution_count": null,
      "id": "4bff0a63",
      "metadata": {
        "id": "4bff0a63"
      },
      "outputs": [],
      "source": []
    },
    {
      "cell_type": "markdown",
      "id": "9063c569",
      "metadata": {
        "id": "9063c569"
      },
      "source": [
        "(Optional) If the same coin is tossed another 5,000 times, how many can you expect to get a tail?"
      ]
    },
    {
      "cell_type": "code",
      "execution_count": null,
      "id": "8e6fbd49",
      "metadata": {
        "id": "8e6fbd49"
      },
      "outputs": [],
      "source": []
    },
    {
      "cell_type": "code",
      "execution_count": null,
      "id": "f754dfdd",
      "metadata": {
        "id": "f754dfdd"
      },
      "outputs": [],
      "source": [
        "jovian.commit()"
      ]
    },
    {
      "cell_type": "markdown",
      "id": "f6cc7a5f",
      "metadata": {
        "id": "f6cc7a5f"
      },
      "source": [
        "> **QUESTION 2**: The participants of an online course include 8 men from India, 9 women from India, 5 men from the USA, and 7 women from the USA. If a participant is picked at random, what is the probability that the participant is American or a woman? The variable `p_american_or_woman` should contain your answer.\n",
        ">\n",
        "> *Hint*: Identify the events \"$A$\", \"$B$\", \"$A \\textrm{ and } B$\" and \"$A \\textrm{ or } B$\", then use the `union_probability` function."
      ]
    },
    {
      "cell_type": "code",
      "execution_count": null,
      "id": "9b883032",
      "metadata": {
        "id": "9b883032"
      },
      "outputs": [],
      "source": [
        "p_american_or_woman = ???"
      ]
    },
    {
      "cell_type": "code",
      "execution_count": null,
      "id": "851f3382",
      "metadata": {
        "id": "851f3382"
      },
      "outputs": [],
      "source": [
        "p_american_or_woman"
      ]
    },
    {
      "cell_type": "code",
      "execution_count": null,
      "id": "001ca4c0",
      "metadata": {
        "id": "001ca4c0"
      },
      "outputs": [],
      "source": []
    },
    {
      "cell_type": "code",
      "execution_count": null,
      "id": "2bfae678",
      "metadata": {
        "id": "2bfae678"
      },
      "outputs": [],
      "source": []
    },
    {
      "cell_type": "code",
      "execution_count": null,
      "id": "929a545a",
      "metadata": {
        "id": "929a545a"
      },
      "outputs": [],
      "source": [
        "jovian.commit()"
      ]
    },
    {
      "cell_type": "markdown",
      "id": "5a0662a2",
      "metadata": {
        "id": "5a0662a2"
      },
      "source": [
        "> **QUESTION 3**: Download [this CSV file](https://gist.githubusercontent.com/aakashns/ee78201d1de1bd8f88cc4b03868b664b/raw/5f2e3baa1d4ab72130bf5dfb46c2f5f4d3c3ff74/us_population_density.csv) containing the population density (average number of persons per square km) and land area (square km) for various states and territories within the United States. The first few rows of the table are shown below. Find the total population density of the united states. The variable `us_population_density` should contain your answer.\n",
        ">\n",
        "> <img src=\"https://i.imgur.com/7rOOMZg.png\" width=\"480\">\n",
        ">\n",
        "> *Hint*: The Population density of a region is obtained by dividing the total population of the area with its land area. You may find the functions `np.multiply` and `np.sum` useful."
      ]
    },
    {
      "cell_type": "code",
      "execution_count": null,
      "id": "b92fdd9e",
      "metadata": {
        "id": "b92fdd9e"
      },
      "outputs": [],
      "source": [
        "population_density_csv = 'https://gist.githubusercontent.com/aakashns/ee78201d1de1bd8f88cc4b03868b664b/raw/5f2e3baa1d4ab72130bf5dfb46c2f5f4d3c3ff74/us_population_density.csv'\n",
        "density_df = pd.read_csv(population_density_csv)"
      ]
    },
    {
      "cell_type": "code",
      "execution_count": null,
      "id": "b1b68503",
      "metadata": {
        "id": "b1b68503"
      },
      "outputs": [],
      "source": [
        "density_df"
      ]
    },
    {
      "cell_type": "code",
      "execution_count": null,
      "id": "630f37ae",
      "metadata": {
        "id": "630f37ae"
      },
      "outputs": [],
      "source": [
        "us_population_density = ???"
      ]
    },
    {
      "cell_type": "code",
      "execution_count": null,
      "id": "4e98b950",
      "metadata": {
        "id": "4e98b950"
      },
      "outputs": [],
      "source": [
        "us_population_density"
      ]
    },
    {
      "cell_type": "code",
      "execution_count": null,
      "id": "d71fbe57",
      "metadata": {
        "id": "d71fbe57"
      },
      "outputs": [],
      "source": []
    },
    {
      "cell_type": "code",
      "execution_count": null,
      "id": "70203c9c",
      "metadata": {
        "scrolled": true,
        "id": "70203c9c"
      },
      "outputs": [],
      "source": [
        "jovian.commit()"
      ]
    },
    {
      "cell_type": "markdown",
      "id": "60d0a524",
      "metadata": {
        "id": "60d0a524"
      },
      "source": [
        "> **QUESTION 4**: Download this [CSV file](https://gist.githubusercontent.com/aakashns/f7d8f99c391f0727270e27e157460e3a/raw/2128978f3297f39ca4237a9ff843c80dd44ca4e3/stocks_returns.csv) containing information about returns on stock price for several public companies. Find the median, quartiles and range for the data. The variables `stocks_median`, `stocks_quartiles` and `stocks_range` should contain your answers.\n",
        ">"
      ]
    },
    {
      "cell_type": "code",
      "execution_count": null,
      "id": "b6bb63a6",
      "metadata": {
        "id": "b6bb63a6"
      },
      "outputs": [],
      "source": [
        "stocks_csv = 'https://gist.githubusercontent.com/aakashns/f7d8f99c391f0727270e27e157460e3a/raw/2128978f3297f39ca4237a9ff843c80dd44ca4e3/stocks_returns.csv'\n",
        "stocks_df = pd.read_csv(stocks_csv)"
      ]
    },
    {
      "cell_type": "code",
      "execution_count": null,
      "id": "9d27a7f4",
      "metadata": {
        "id": "9d27a7f4"
      },
      "outputs": [],
      "source": [
        "stocks_df"
      ]
    },
    {
      "cell_type": "code",
      "execution_count": null,
      "id": "1d3bbcd0",
      "metadata": {
        "id": "1d3bbcd0"
      },
      "outputs": [],
      "source": [
        "stocks_median = ???"
      ]
    },
    {
      "cell_type": "code",
      "execution_count": null,
      "id": "e5a8d41d",
      "metadata": {
        "id": "e5a8d41d"
      },
      "outputs": [],
      "source": [
        "stocks_quartiles = ???"
      ]
    },
    {
      "cell_type": "code",
      "execution_count": null,
      "id": "2ed78685",
      "metadata": {
        "id": "2ed78685"
      },
      "outputs": [],
      "source": [
        "stocks_range = ???"
      ]
    },
    {
      "cell_type": "code",
      "execution_count": null,
      "id": "d8fd6c86",
      "metadata": {
        "id": "d8fd6c86"
      },
      "outputs": [],
      "source": [
        "stocks_median, stocks_quartiles, stocks_range"
      ]
    },
    {
      "cell_type": "code",
      "execution_count": null,
      "id": "c210faf8",
      "metadata": {
        "id": "c210faf8"
      },
      "outputs": [],
      "source": []
    },
    {
      "cell_type": "code",
      "execution_count": null,
      "id": "01e6edd2",
      "metadata": {
        "id": "01e6edd2"
      },
      "outputs": [],
      "source": [
        "jovian.commit()"
      ]
    },
    {
      "cell_type": "markdown",
      "id": "df8e7f3a",
      "metadata": {
        "id": "df8e7f3a"
      },
      "source": [
        "> **QUESTION 5**: Your friend Alex designs shoes as a hobby, and you've persuaded her to start selling her shoes online. You've found a vendor who can manufacture, store and ship the shoes for you. You've requested some sample units from the vendor to inspect the quality of the shoes. However, the vendor does not manufacture fewer than 100 units of single shoe size. Which shoe size would you like them to manufacture? The variable `shoe_size` should contain your answer.\n",
        ">\n",
        "> You may find this [CSV file](https://gist.githubusercontent.com/aakashns/f4655dd2a33c176aa60874dafe838260/raw/52915d2edbcfe7a2e961d10745510de9aa78d09e/shoes.csv) containing a list of shoes recently sold by an online store useful.\n",
        "\n"
      ]
    },
    {
      "cell_type": "code",
      "execution_count": null,
      "id": "2cfaaa2c",
      "metadata": {
        "id": "2cfaaa2c",
        "outputId": "27916dd6-4e96-4aab-907f-22c129c62719"
      },
      "outputs": [
        {
          "data": {
            "text/html": [
              "<div>\n",
              "<style scoped>\n",
              "    .dataframe tbody tr th:only-of-type {\n",
              "        vertical-align: middle;\n",
              "    }\n",
              "\n",
              "    .dataframe tbody tr th {\n",
              "        vertical-align: top;\n",
              "    }\n",
              "\n",
              "    .dataframe thead th {\n",
              "        text-align: right;\n",
              "    }\n",
              "</style>\n",
              "<table border=\"1\" class=\"dataframe\">\n",
              "  <thead>\n",
              "    <tr style=\"text-align: right;\">\n",
              "      <th></th>\n",
              "      <th>company</th>\n",
              "      <th>price</th>\n",
              "      <th>size</th>\n",
              "    </tr>\n",
              "  </thead>\n",
              "  <tbody>\n",
              "    <tr>\n",
              "      <th>0</th>\n",
              "      <td>Puma</td>\n",
              "      <td>₹2,969</td>\n",
              "      <td>9</td>\n",
              "    </tr>\n",
              "    <tr>\n",
              "      <th>1</th>\n",
              "      <td>Puma</td>\n",
              "      <td>₹2,279</td>\n",
              "      <td>8</td>\n",
              "    </tr>\n",
              "    <tr>\n",
              "      <th>2</th>\n",
              "      <td>Deals4you</td>\n",
              "      <td>₹397</td>\n",
              "      <td>7</td>\n",
              "    </tr>\n",
              "    <tr>\n",
              "      <th>3</th>\n",
              "      <td>MILESWALKER</td>\n",
              "      <td>₹379</td>\n",
              "      <td>11</td>\n",
              "    </tr>\n",
              "    <tr>\n",
              "      <th>4</th>\n",
              "      <td>Chevit</td>\n",
              "      <td>₹389</td>\n",
              "      <td>7</td>\n",
              "    </tr>\n",
              "    <tr>\n",
              "      <th>...</th>\n",
              "      <td>...</td>\n",
              "      <td>...</td>\n",
              "      <td>...</td>\n",
              "    </tr>\n",
              "    <tr>\n",
              "      <th>1035</th>\n",
              "      <td>Wika</td>\n",
              "      <td>₹449</td>\n",
              "      <td>4</td>\n",
              "    </tr>\n",
              "    <tr>\n",
              "      <th>1036</th>\n",
              "      <td>Hotstyle</td>\n",
              "      <td>₹449</td>\n",
              "      <td>10</td>\n",
              "    </tr>\n",
              "    <tr>\n",
              "      <th>1037</th>\n",
              "      <td>Bond Street By Red Tape</td>\n",
              "      <td>₹1,048</td>\n",
              "      <td>7</td>\n",
              "    </tr>\n",
              "    <tr>\n",
              "      <th>1038</th>\n",
              "      <td>Shoes Kingdom</td>\n",
              "      <td>₹719</td>\n",
              "      <td>6</td>\n",
              "    </tr>\n",
              "    <tr>\n",
              "      <th>1039</th>\n",
              "      <td>Earton</td>\n",
              "      <td>₹419</td>\n",
              "      <td>11</td>\n",
              "    </tr>\n",
              "  </tbody>\n",
              "</table>\n",
              "<p>1040 rows × 3 columns</p>\n",
              "</div>"
            ],
            "text/plain": [
              "                      company   price  size\n",
              "0                        Puma  ₹2,969     9\n",
              "1                        Puma  ₹2,279     8\n",
              "2                   Deals4you    ₹397     7\n",
              "3                 MILESWALKER    ₹379    11\n",
              "4                      Chevit    ₹389     7\n",
              "...                       ...     ...   ...\n",
              "1035                     Wika    ₹449     4\n",
              "1036                 Hotstyle    ₹449    10\n",
              "1037  Bond Street By Red Tape  ₹1,048     7\n",
              "1038            Shoes Kingdom    ₹719     6\n",
              "1039                   Earton    ₹419    11\n",
              "\n",
              "[1040 rows x 3 columns]"
            ]
          },
          "execution_count": 1,
          "metadata": {},
          "output_type": "execute_result"
        }
      ],
      "source": [
        "import pandas as pd\n",
        "\n",
        "shoes_url = 'https://gist.githubusercontent.com/aakashns/f4655dd2a33c176aa60874dafe838260/raw/52915d2edbcfe7a2e961d10745510de9aa78d09e/shoes.csv'\n",
        "shoes_df = pd.read_csv(shoes_url)\n",
        "shoes_df"
      ]
    },
    {
      "cell_type": "code",
      "execution_count": null,
      "id": "c37a0078",
      "metadata": {
        "id": "c37a0078"
      },
      "outputs": [],
      "source": [
        "shoe_size = ???"
      ]
    },
    {
      "cell_type": "code",
      "execution_count": null,
      "id": "fa9749c2",
      "metadata": {
        "id": "fa9749c2"
      },
      "outputs": [],
      "source": [
        "shoe_size"
      ]
    },
    {
      "cell_type": "code",
      "execution_count": null,
      "id": "1cd63d8e",
      "metadata": {
        "id": "1cd63d8e"
      },
      "outputs": [],
      "source": []
    },
    {
      "cell_type": "code",
      "execution_count": null,
      "id": "536418ca",
      "metadata": {
        "id": "536418ca"
      },
      "outputs": [],
      "source": []
    },
    {
      "cell_type": "markdown",
      "id": "8adc532a",
      "metadata": {
        "id": "8adc532a"
      },
      "source": [
        "## LeetCode Problems"
      ]
    },
    {
      "cell_type": "markdown",
      "id": "a43dd2e4",
      "metadata": {
        "id": "a43dd2e4"
      },
      "source": [
        "### [**Problem 441**](https://leetcode.com/problems/arranging-coins/) - **Arranging Coins**\n",
        "\n",
        "You have `n` coins and you want to build a staircase with these coins. The staircase consists of `k` rows where the `ith` row has exactly `i` coins. The last row of the staircase may be incomplete.\n",
        "\n",
        "Given the integer `n`, return the number of complete rows of the staircase you will build."
      ]
    },
    {
      "cell_type": "markdown",
      "id": "a53cd0ab",
      "metadata": {
        "id": "a53cd0ab"
      },
      "source": [
        "**Example 1:**\n",
        "![](https://i.imgur.com/FxaU5uC.jpg)\n",
        "```\n",
        "Input: n = 5\n",
        "Output: 2\n",
        "Explanation: Because the 3rd row is incomplete, we return 2.\n",
        "```\n",
        "\n",
        "\n",
        "**Constraints:**\n",
        "- `1 <= n <= 231 - 1`"
      ]
    },
    {
      "cell_type": "code",
      "execution_count": null,
      "id": "96d8a933",
      "metadata": {
        "id": "96d8a933"
      },
      "outputs": [],
      "source": [
        "def arrangeCoins(n):\n",
        "    ???"
      ]
    },
    {
      "cell_type": "code",
      "execution_count": null,
      "id": "86716627",
      "metadata": {
        "id": "86716627"
      },
      "outputs": [],
      "source": [
        "# This should return \"True\"\n",
        "arrangeCoin(5) == 2"
      ]
    },
    {
      "cell_type": "code",
      "execution_count": null,
      "id": "c2ac84e6",
      "metadata": {
        "id": "c2ac84e6"
      },
      "outputs": [],
      "source": [
        "# This should return \"True\"\n",
        "arrangeCoin(8) == 3"
      ]
    },
    {
      "cell_type": "markdown",
      "id": "fe43965f",
      "metadata": {
        "id": "fe43965f"
      },
      "source": [
        "### [**Problem 412**](https://leetcode.com/problems/fizz-buzz/) - **Fizz Buzz**\n",
        "\n",
        "Given an integer `n`, return a string array `answer` (1-indexed) where:\n",
        "\n",
        "- `answer[i] == \"FizzBuzz\"` if `i` is divisible by `3` and `5`.\n",
        "- `answer[i] == \"Fizz\"` if `i` is divisible by `3`.\n",
        "- `answer[i] == \"Buzz\"` if `i` is divisible by `5`.\n",
        "- `answer[i] == i` (as a string) if none of the above conditions are true.\n"
      ]
    },
    {
      "cell_type": "markdown",
      "id": "dde271f8",
      "metadata": {
        "id": "dde271f8"
      },
      "source": [
        "**Example 1:**\n",
        "```\n",
        "Input: n = 3\n",
        "Output: [\"1\",\"2\",\"Fizz\"]\n",
        "```\n",
        "\n",
        "\n",
        "**Constraints:**\n",
        "- `1 <= n <= 104`"
      ]
    },
    {
      "cell_type": "code",
      "execution_count": null,
      "id": "e32d53ef",
      "metadata": {
        "id": "e32d53ef"
      },
      "outputs": [],
      "source": [
        "def fizzBuzz(n):\n",
        "    ???"
      ]
    },
    {
      "cell_type": "code",
      "execution_count": null,
      "id": "1b771273",
      "metadata": {
        "id": "1b771273"
      },
      "outputs": [],
      "source": [
        "# This should return \"True\"\n",
        "fizzBuzz(3) == [\"1\",\"2\",\"Fizz\"]"
      ]
    },
    {
      "cell_type": "code",
      "execution_count": null,
      "id": "59fff1dd",
      "metadata": {
        "id": "59fff1dd"
      },
      "outputs": [],
      "source": [
        "# This should return \"True\"\n",
        "fizzBuzz(5) == [\"1\",\"2\",\"Fizz\",\"4\",\"Buzz\"]"
      ]
    },
    {
      "cell_type": "code",
      "execution_count": null,
      "id": "b0fabe26",
      "metadata": {
        "id": "b0fabe26"
      },
      "outputs": [],
      "source": [
        "# This should return \"True\"\n",
        "fizzBuzz(15) == [\"1\",\"2\",\"Fizz\",\"4\",\"Buzz\",\"Fizz\",\"7\",\"8\",\"Fizz\",\"Buzz\",\"11\",\"Fizz\",\"13\",\"14\",\"FizzBuzz\"]"
      ]
    },
    {
      "cell_type": "markdown",
      "id": "54344938",
      "metadata": {
        "id": "54344938"
      },
      "source": [
        "## Make a Submission\n",
        "\n",
        "To make a submission, you can submit your Jovian notebook link on the assignment 'submit' page.\n",
        "\n",
        "You can make any number of submissions. Only your final submission will be considered for grading."
      ]
    },
    {
      "cell_type": "markdown",
      "id": "d8822d58",
      "metadata": {
        "id": "d8822d58"
      },
      "source": [
        "The rest of this assignment is optional, and can be skipped."
      ]
    },
    {
      "cell_type": "markdown",
      "id": "c199d89c",
      "metadata": {
        "id": "c199d89c"
      },
      "source": [
        "> **(OPTIONAL) QUESTION 6**: The table below shows the total no. of goals scored in the FIFA Soccer World Cup 2018 by teams participating in the tournament. 12 teams scored a total of 2 goals each in the tournament, 4 teams scored a total of 3 goals each, 1 team scored a total of 4 goals, 2 teams scored a total of 6 goals each and so on.\n",
        ">\n",
        "> <img src=\"https://i.imgur.com/4DwHIam.png\" width=\"240\">\n",
        ">\n",
        "> Answer the following questions using the above data:\n",
        ">\n",
        "> 1. Find the total number of goals scored in the tournament.\n",
        "> 2. Find the total number of teams in the tournament.\n",
        "> 3. Find the average number of goals scored by a team in the tournament.\n",
        "> 4. Find the median number of goals scored by a team in the tournament.\n",
        "> 5. Find the range and quartiles for the number of goals scored by a team in the tournament.\n",
        "> 6. Visualize the range and quartiles of the number of goals using a box plot.\n",
        "> 7. Find the mode of the number of goals scored by a team in the tournament.\n",
        "> 8. What is the maximum number of goals scored by a team in the tournament?\n",
        "> 9. What is the minimum number of goals scored by a team in the tournament?\n",
        "> 10. Find the standard deviation of the number of goals scored by a team in the tournament?\n",
        "> 11. If you randomly pick one of the teams who participated in the tournament at random, what is the probability that team has scored less than three goals in the tournament?\n",
        ">\n",
        "> 12. Find the average number of goals scored per match in the tournament? (you may need additional information)\n",
        "> 13. If you randomly pick one of the goals scored in the tournament, what is the probability that the goal was scored by Belgium?\n",
        ">\n",
        "> The table is also available as a CSV file [here](https://gist.githubusercontent.com/aakashns/80896b90166ac9e81fb3e11f15ba3dd3/raw/95f8d847a82f46566cd45fbd7a72b046e2b52a5c/gistfile1.txt).\n",
        "\n"
      ]
    },
    {
      "cell_type": "code",
      "execution_count": null,
      "id": "1e34861a",
      "metadata": {
        "id": "1e34861a"
      },
      "outputs": [],
      "source": [
        "goals_url = 'https://gist.githubusercontent.com/aakashns/80896b90166ac9e81fb3e11f15ba3dd3/raw/95f8d847a82f46566cd45fbd7a72b046e2b52a5c/gistfile1.txt'"
      ]
    },
    {
      "cell_type": "code",
      "execution_count": null,
      "id": "9f9b50a2",
      "metadata": {
        "id": "9f9b50a2"
      },
      "outputs": [],
      "source": []
    },
    {
      "cell_type": "code",
      "execution_count": null,
      "id": "cb540f12",
      "metadata": {
        "id": "cb540f12"
      },
      "outputs": [],
      "source": []
    },
    {
      "cell_type": "code",
      "execution_count": null,
      "id": "aa6ffc49",
      "metadata": {
        "id": "aa6ffc49"
      },
      "outputs": [],
      "source": []
    },
    {
      "cell_type": "code",
      "execution_count": null,
      "id": "199c63bf",
      "metadata": {
        "id": "199c63bf"
      },
      "outputs": [],
      "source": [
        "jovian.commit()"
      ]
    }
  ],
  "metadata": {
    "kernelspec": {
      "display_name": "Python 3 (ipykernel)",
      "language": "python",
      "name": "python3"
    },
    "language_info": {
      "codemirror_mode": {
        "name": "ipython",
        "version": 3
      },
      "file_extension": ".py",
      "mimetype": "text/x-python",
      "name": "python",
      "nbconvert_exporter": "python",
      "pygments_lexer": "ipython3",
      "version": "3.9.7"
    },
    "colab": {
      "provenance": [],
      "include_colab_link": true
    }
  },
  "nbformat": 4,
  "nbformat_minor": 5
}