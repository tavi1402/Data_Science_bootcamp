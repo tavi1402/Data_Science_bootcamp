{
  "cells": [
    {
      "cell_type": "markdown",
      "metadata": {
        "id": "view-in-github",
        "colab_type": "text"
      },
      "source": [
        "<a href=\"https://colab.research.google.com/github/tavi1402/Data_Science_bootcamp/blob/main/job_application_guide.ipynb\" target=\"_parent\"><img src=\"https://colab.research.google.com/assets/colab-badge.svg\" alt=\"Open In Colab\"/></a>"
      ]
    },
    {
      "cell_type": "markdown",
      "id": "continent-disposal",
      "metadata": {
        "id": "continent-disposal"
      },
      "source": [
        "# How to Apply for Jobs the Right Way\n",
        "\n",
        "![](https://i.imgur.com/2cJ4XfW.png)\n",
        "\n",
        "Applying to jobs can be a long, stressful, tiresome and overwhelming process. In this tutorial, we'll discuss some strategies to make your job application process effective, efficient and organized.\n",
        "\n",
        "Job Application and Outreach Tracking sheet: https://bit.ly/jobapplicationtracking"
      ]
    },
    {
      "cell_type": "markdown",
      "id": "stunning-european",
      "metadata": {
        "id": "stunning-european"
      },
      "source": [
        "## Different Ways to Apply for Jobs\n",
        "\n",
        "Here are some ways you can apply for jobs:\n",
        "\n",
        "1. LinkedIn Easy Apply (one-click)\n",
        "2. Job sites (AngelList, Indeed, Naukri)\n",
        "3. Company websites e.g. https://www.facebook.com/careers\n",
        "5. Cold outreach to recruiters/employers\n",
        "4. Referral from someone working at a company\n",
        "6. Inbound from recruiters/employers\n",
        "\n",
        "Ease of application reduces as you go down but effectiveness increases."
      ]
    },
    {
      "cell_type": "markdown",
      "id": "basic-radar",
      "metadata": {
        "id": "basic-radar"
      },
      "source": [
        "## Job Application & Outreach Tracking\n",
        "\n",
        "You may need to apply to 200+ jobs to get hired, so it's important to stay organized.\n",
        "\n",
        "Use this sheet: https://bit.ly/jobapplicationtracking\n",
        "\n",
        "How to use it:\n",
        "\n",
        "1. Make a copy of this sheet using \"File\" > \"Make a Copy\"\n",
        "1. Make an entry into the sheet whenever you're reaching out to someone or apply to a new job\n",
        "2. Modify the relevant entries whenever something changes\n",
        "3. Add notes from interviews, phone calls, company research etc.\n",
        "4. Review the sheet weekly (use filters) and identify action items (follow up, learning etc.)"
      ]
    },
    {
      "cell_type": "markdown",
      "id": "regulation-affect",
      "metadata": {
        "id": "regulation-affect"
      },
      "source": [
        "## Inbound from Recruiters/Employers\n",
        "\n",
        "Putting all your data science work online will help recruiters/employers find you:\n",
        "\n",
        "- Write blog posts (on Medium, dev.to etc.)\n",
        "- Submit your blog posts to popular publications\n",
        "- Participate in Kaggle competitions\n",
        "- Have an updated LinkedIn profile with all your work\n",
        "- Share your work on LinkedIn regularly\n",
        "- Stay active on Data Science communities\n",
        "- Contribute to open source projects\n",
        "- Deliver presentations & workshops at meetups & conferences\n",
        "\n",
        "Keep learning, keep building projects and keep sharing your work online."
      ]
    },
    {
      "cell_type": "markdown",
      "id": "rapid-container",
      "metadata": {
        "id": "rapid-container"
      },
      "source": [
        "## Referral from someone working at a company\n",
        "\n",
        "<img src=\"https://i.imgur.com/x3CXhJ5.png\" width=\"480\">\n",
        "\n",
        "This is likely to be the most effective strategy for finding a job. Being referred makes your Resume 10-50 times more likely to be looked at and shortlisted compared to applying via job portals, so it's worth the effort. Use the [outreach tracking sheet](https://docs.google.com/spreadsheets/d/1JqdViZClcFPvb_LhfsXuWnLfcbDQpa_DtOR8HJrp1iY/edit#gid=1449119434) to stay organized.\n",
        "\n",
        "### How it Works\n",
        "\n",
        "Here's how referrals works:\n",
        "\n",
        "- You reach out to someone who works at company that you want to apply to\n",
        "- They forward your Resume internally to the right team/person\n",
        "- If your Resume meets the hiring criteria, you're invited to interview\n",
        "- If you accept an offer from the company, the referrer generally gets a bonus\n",
        "\n",
        "### Who to Ask\n",
        "\n",
        "LinkedIn is the best way to find & reach out to people who can refer you. Here's the order of priority for outreach:\n",
        "\n",
        "1. People you know personally (friends/ex-colleagues)\n",
        "2. 1st connections on LinkedIn\n",
        "3. 2nd connections on LinkedIn\n",
        "4. People from your university & previous workplaces\n",
        "5. People you aren't connected to yet\n",
        "\n",
        "If people don't reply on LinkedIn, you can try emailing them. Use this guide: https://www.demandcurve.com/article/find-emails-linkedin\n",
        "\n",
        "\n",
        "### Outreach Message Template\n",
        "\n",
        "Create and use an outreach message template that you can modify for each lead. It should cover:\n",
        "\n",
        "- Greeting and introduction about yourself\n",
        "- Your interest in the company and in the person\n",
        "- Your ask: refer me or can we speak\n",
        "- Thanks\n",
        "\n",
        "Follow up at least a couple of times, once after 3-4 days, and after 10-12 days.\n",
        "\n",
        "### Talk to Referrers\n",
        "\n",
        "Most companies have internal guidelines that employees should only refer folks they know personally, can vouch for or find exceptional. So, if possible, speak with the person referring you. Here's the agenda for the call:\n",
        "\n",
        "- Understand what the day to day work in their company look like (for your target role)\n",
        "- Understand their hiring process and what they look for in candidates\n",
        "- Tell them about yourself (500+ hours of coursework in the bootcamp), your projects etc.\n",
        "- Ask them if they think you are good fit for the role. If not, find out what you're missing\n",
        "\n",
        "Treat each conversation as an opportunity to learn and improve. Target having at least one conversation every week.\n"
      ]
    },
    {
      "cell_type": "markdown",
      "id": "unauthorized-reception",
      "metadata": {
        "id": "unauthorized-reception"
      },
      "source": [
        "## Cold outreach to recruiters/employers\n",
        "\n",
        "This works much better than you'd expect, especially if it's done well. It's similar to asking for referrals, except in this case you reach out the recruiter/employer directly.\n",
        "\n",
        "<img src=\"https://i.imgur.com/0lRHdQa.png\" width=\"420\">\n",
        "\n",
        "<img src=\"https://i.imgur.com/KMyVz3J.png\" width=\"480\">\n",
        "\n",
        "<img src=\"https://i.imgur.com/eXJCXZN.png\" width=\"480\">\n",
        "\n",
        "### Who to Ask\n",
        "\n",
        "LinkedIn is the best place to find recruiters & employers to reach out to. Follow this process:\n",
        "\n",
        "1. Find a company that has openings for your target role (junior or senior)\n",
        "2. Go to the company's LinkedIn page and browse through the list of employees\n",
        "3. Find people with \"Lead\" or \"Manager\" in their job title\n",
        "4. Send them a connection request and let them know you're interested in the role\n",
        "\n",
        "Other ways to find people:\n",
        "\n",
        "1. Contact the hiring manager for the job listing\n",
        "2. Search for \"Data Science Recruiter\" or \"Machine Learning Recruiter\"\n",
        "\n",
        "\n",
        "If people don't reply on LinkedIn, you can try emailing them. Use this guide: https://www.demandcurve.com/article/find-emails-linkedin\n",
        "\n",
        "### Outreach Message Template\n",
        "\n",
        "Create and use an outreach message template that you can modify for each lead. It should cover:\n",
        "\n",
        "- Greeting and introduction about yourself\n",
        "- Your interest in the company and in the person\n",
        "- Your ask: consider me for job/project/internship\n",
        "- Links to your projects/internships\n",
        "- Thanks\n",
        "\n",
        "Follow up at least a couple of times, once after 3-4 days, and after 10-12 days."
      ]
    },
    {
      "cell_type": "markdown",
      "id": "several-knock",
      "metadata": {
        "id": "several-knock"
      },
      "source": [
        "## Applying via Company Websites\n",
        "\n",
        "<img src=\"https://i.imgur.com/Q1jda1F.png\" width=\"640\">\n",
        "\n",
        "Most large companies have job sites where you can find and apply for jobs. Many jobs on LinkedIn also redirect to company websites.\n",
        "\n",
        "1. Add the companies that you'd like to work at to the Job Application Tracking sheet.\n",
        "2. Navigate to the careers site of the company and look for data science openings\n",
        "3. Fill out the application form (save your answers) and upload your cover letter & Resume\n",
        "4. Try reaching out to a recruiter/employer/employee at the company to increase your chances\n",
        "\n",
        "Look for jobs that have been posted recently (within the past 2-3 weeks).\n",
        "\n",
        "### Cover Letter\n",
        "\n",
        "Here's what your cover letter should include:\n",
        "\n",
        "1. Greeting\n",
        "2. What you like about the company & what excites you about the role\n",
        "3. Description of relevant educational background, projects & work experience\n",
        "4. Links to your projects, blog posts or other useful material\n",
        "5. Why you're right for the role and what sets you apart\n",
        "6. Thanks\n",
        "\n",
        "Follow this guide for more: https://novoresume.com/career-blog/how-to-write-a-cover-letter-guide\n",
        "\n",
        "\n",
        "### Example Sites\n",
        "\n",
        "- https://careers.google.com/\n",
        "- https://careers.facebook.com\n",
        "- https://careers.microsoft.com/\n",
        "- https://jobs.lever.co/dreamsports\n",
        "- https://www.flipkartcareers.com/\n",
        "- https://stripe.com/en-in/jobs"
      ]
    },
    {
      "cell_type": "markdown",
      "id": "impressive-front",
      "metadata": {
        "id": "impressive-front"
      },
      "source": [
        "## Applying via Job Sites (AngelList, Indeed, Naukri etc.)\n",
        "\n",
        "![](https://i.imgur.com/jl5WR4p.png)\n",
        "\n",
        "There are different job sites based on location, role and type of company\n",
        "\n",
        "1. Apply the right search criteria and search for you target role\n",
        "2. Apply for the jobs and add them to the job tracking sheet\n",
        "3. Try reaching out to someone who works at the company\n",
        "4. Check everyday to find & apply for recent jobs within 48 hours\n",
        "\n",
        "It's quite similar to applying via company career sites, except you get to apply for different companies on the same site.\n",
        "\n"
      ]
    },
    {
      "cell_type": "markdown",
      "id": "dynamic-gabriel",
      "metadata": {
        "id": "dynamic-gabriel"
      },
      "source": [
        "## LinkedIn Easy Apply\n",
        "\n",
        "LinkedIn offers 1-click job application for jobs created using LinkedIn's job portal. Make sure your LinkedIn profile is up to date, and your latest Resume is uploaded in LinkedIn settings to get the most out of this.\n",
        "\n",
        "To apply for a job on LinkedIn using Easy Apply:\n",
        "\n",
        "- Click on the job title to view details.\n",
        "- Click the \"Easy Apply/Apply Now\" button at the top.\n",
        "- Enter the required information in the popup screens.\n",
        "- Click \"Review\" to review the application.\n",
        "- Click \"Submit\" application.\n",
        "\n",
        "Because it's so easy to apply via LinkedIn, most jobs get hundreds of applications just a few days after being posted. For your profile to be viewed by a recruiter/employer, you have to apply for a job within 48 of it being posted."
      ]
    },
    {
      "cell_type": "markdown",
      "id": "accredited-specification",
      "metadata": {
        "id": "accredited-specification"
      },
      "source": [
        "## Suggested Application Volume\n",
        "\n",
        "Aim to apply for at least 200 roles over 1.5-2 months to maximize your chances of getting the best opportunity. Set aside at least 2 hours every day for applying to jobs. Here's how you should use that time:\n",
        "\n",
        "1. **Inbound** - Publish a blog post every month & share it on LinkedIn\n",
        "2. **Referrals** - Reach out to at least one person every day (20 mins)\n",
        "3. **Cold outreach** - Reach out to at least 2 recruiters/employers everyday (20 mins)\n",
        "4. **Company website** - Apply on 2 company websites every day (20 mins)\n",
        "5. **Job sites (AngelList, Indeed, Naukri)** - Apply to 4 recently posted jobs everyday (20 mins)\n",
        "6. **LinkedIn Easy Apply** - Apply to all jobs posted recently (20 mins)\n",
        "\n",
        "Review the job & outreach tracking sheet every Monday, and identify what you need to change. Here are some examples:\n",
        "\n",
        "- Check your success rate for each type of application & adjust your strategy\n",
        "- See which roles you're getting shortlisted for and which ones you aren't\n",
        "- Study the percentage conversion from one stage to the next & see where you need to improve\n",
        "- If you're getting rejected constantly, take a week's to identify what you need to change\n",
        "\n",
        "Schedule a 1:1 call with us and share your Job Application Tracking sheet to get feedback on your strategy."
      ]
    }
  ],
  "metadata": {
    "kernelspec": {
      "display_name": "Python 3",
      "language": "python",
      "name": "python3"
    },
    "language_info": {
      "codemirror_mode": {
        "name": "ipython",
        "version": 3
      },
      "file_extension": ".py",
      "mimetype": "text/x-python",
      "name": "python",
      "nbconvert_exporter": "python",
      "pygments_lexer": "ipython3",
      "version": "3.6.13"
    },
    "colab": {
      "provenance": [],
      "include_colab_link": true
    }
  },
  "nbformat": 4,
  "nbformat_minor": 5
}