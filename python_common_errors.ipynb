{
  "cells": [
    {
      "cell_type": "markdown",
      "metadata": {
        "id": "view-in-github",
        "colab_type": "text"
      },
      "source": [
        "<a href=\"https://colab.research.google.com/github/tavi1402/Data_Science_bootcamp/blob/main/python_common_errors.ipynb\" target=\"_parent\"><img src=\"https://colab.research.google.com/assets/colab-badge.svg\" alt=\"Open In Colab\"/></a>"
      ]
    },
    {
      "cell_type": "markdown",
      "metadata": {
        "id": "UDOvKu9zYENi"
      },
      "source": [
        "# Understanding Errors and Exceptions in Python\n",
        "\n",
        "![](https://images.unsplash.com/photo-1616990277552-3db5bca0ce13?ixlib=rb-1.2.1&ixid=MnwxMjA3fDB8MHxwaG90by1wYWdlfHx8fGVufDB8fHx8&auto=format&fit=crop&w=1072&q=80)\n",
        "\n",
        "One of the most common situations while writing code is getting stuck on an unidentifiable error. In such a case, python's ecosystem helps us to trace back our function calls with the help of **traceback reports**, to find out the exception raised.\n",
        "\n",
        "![Imgur](https://i.imgur.com/LsZIyLI.png)\n",
        "\n",
        "\n",
        "\n",
        "These tracebacks return the **exception name** and the **error message** along with the executed code to help us identify the reason for these exceptions being raised.\n",
        "\n",
        "*Exceptions raised simply define the type of error our program has run into.* Which is why these terms are used interchangeably, but precisely mean the same.\n",
        "\n",
        "There are a number of built-in exceptions in python library, who's awareness can help to speed up the our programming. Let's look at some of the important buit-in exceptions in python.  "
      ]
    },
    {
      "cell_type": "markdown",
      "metadata": {
        "id": "JUDvA6FpZlwH"
      },
      "source": [
        "## SyntaxError\n",
        "\n",
        "The most common type of error in a Python program is when the user uses incorrect syntax. i.e, when a piece of code is not in accordance with its documentation.\n",
        "\n",
        "In the code below, the variable `a` has been declared with its desired data type stated before the variable name, which is not how a variable is declared in Python."
      ]
    },
    {
      "cell_type": "code",
      "execution_count": null,
      "metadata": {
        "id": "KcbLLG9bZlKK"
      },
      "outputs": [],
      "source": []
    },
    {
      "cell_type": "markdown",
      "metadata": {
        "id": "_5pN6adIjNNP"
      },
      "source": [
        "The error message apprises us that there was an error in our syntax. Delving into the traceback, there is a $ ^ $ Caret symbol, that points out the location of incorrect code which caused the exception ."
      ]
    },
    {
      "cell_type": "code",
      "execution_count": null,
      "metadata": {
        "id": "on-2va0WcLci"
      },
      "outputs": [],
      "source": []
    },
    {
      "cell_type": "markdown",
      "metadata": {
        "id": "4qe_viFsDxbR"
      },
      "source": [
        "## Indentation Error\n",
        "\n",
        "Indentation refers to the spaces in the begining of our code. In other programming languages, indentation is only for readability whereas in python, indentation is very important.\n",
        "\n",
        "*Python uses indentation to indicate a block of code*."
      ]
    },
    {
      "cell_type": "code",
      "execution_count": null,
      "metadata": {
        "id": "MlNJ0ixpZlSF"
      },
      "outputs": [],
      "source": []
    },
    {
      "cell_type": "markdown",
      "metadata": {
        "id": "yTgVvl-SbZIJ"
      },
      "source": [
        "In the above code, the missing indentation before `print` raises an IndentationError.\n",
        "\n",
        "![](https://i.imgflip.com/3g3u5v.jpg)"
      ]
    },
    {
      "cell_type": "markdown",
      "metadata": {
        "id": "I0fAeTvDvnoB"
      },
      "source": [
        "## Index Error\n",
        "\n",
        "The `IndexError` is thrown when we try to access an element who's index is not in the range of our iterable object.\n",
        "\n",
        "\n",
        "\n"
      ]
    },
    {
      "cell_type": "code",
      "execution_count": null,
      "metadata": {
        "id": "pRIZO5E-oSCB"
      },
      "outputs": [],
      "source": []
    },
    {
      "cell_type": "markdown",
      "metadata": {
        "id": "mY-h9zr2oqpy"
      },
      "source": [
        "The indexing of a list begins from zero and goes upto (n-1), where n = length of list.\n",
        "In the code above, we are trying to access the element at the $nth $ index, whereas the last index is $(n-1)$.  "
      ]
    },
    {
      "cell_type": "markdown",
      "metadata": {
        "id": "N0ZcF_lHvthD"
      },
      "source": [
        "## Key Error\n",
        "\n",
        "The `KeyError` is like an IndexError but for dictionaries. It is raised when we try to access an invalid/nonexistent key in the dictionary."
      ]
    },
    {
      "cell_type": "code",
      "execution_count": null,
      "metadata": {
        "id": "4zrSzwvFvxHJ"
      },
      "outputs": [],
      "source": []
    },
    {
      "cell_type": "markdown",
      "metadata": {
        "id": "WF70Ue8mL4XF"
      },
      "source": [
        "## Import Error  \n",
        "\n",
        "This exception is raised when the parser is not able to import the module that is needed to be imported.\n",
        "\n",
        "\n",
        "\n"
      ]
    },
    {
      "cell_type": "code",
      "execution_count": null,
      "metadata": {
        "id": "TUdosEv_kQXF"
      },
      "outputs": [],
      "source": []
    },
    {
      "cell_type": "markdown",
      "metadata": {
        "id": "M4bxIMdylRb9"
      },
      "source": [
        "Now, there is no `numpy.mediam` function in the `numpy` library. Instead the correct function is `numpy.median` which is why we got the `ImportError`."
      ]
    },
    {
      "cell_type": "markdown",
      "metadata": {
        "id": "W0osnqGGxZab"
      },
      "source": [
        "### ModuleNotFoundError\n",
        "\n",
        "This is a subclass of `ImportError`. It is raised when the module we are trying to import cannot be located."
      ]
    },
    {
      "cell_type": "code",
      "execution_count": null,
      "metadata": {
        "id": "_jSVqcoGxP6f"
      },
      "outputs": [],
      "source": []
    },
    {
      "cell_type": "markdown",
      "metadata": {
        "id": "2ei2Sf__l41p"
      },
      "source": [
        "Because `wrongmodule` is a made up module/library, we get the exception `ModuleNotFoundError`."
      ]
    },
    {
      "cell_type": "markdown",
      "metadata": {
        "id": "_KXNGbJfLwO5"
      },
      "source": [
        "## Name Error\n",
        "\n",
        "The `NameError` is raised when we call an undefined variable, class or function locally or globally.\n"
      ]
    },
    {
      "cell_type": "code",
      "execution_count": null,
      "metadata": {
        "id": "sfVQCRdexLtg"
      },
      "outputs": [],
      "source": []
    },
    {
      "cell_type": "markdown",
      "metadata": {
        "id": "sbceOSEGL092"
      },
      "source": [
        "## Attribute Error\n",
        "\n",
        "An `AttributeError` is thrown when we access that attribute on an object which it doesnt have defined.\n",
        "\n",
        "For example in the code below, we are trying to access the `length` attribute of an instance of `Frame` class. But because there is no such attribute as `length` defined, we get an `AttributeError`."
      ]
    },
    {
      "cell_type": "code",
      "execution_count": null,
      "metadata": {
        "id": "Gd-djChiZlOj"
      },
      "outputs": [],
      "source": []
    },
    {
      "cell_type": "markdown",
      "metadata": {
        "id": "qKo-wb2iL7CK"
      },
      "source": [
        "## Value Error\n",
        "\n",
        "A value error is raised when an operation in python is given the right type of argument but an inappropriate value.\n",
        "\n",
        "This can be considered a more generic case of `IndexError`. Where an element is being accesed but is not present. Or visa versa.\n",
        "\n",
        "Let's look at some examples of value error."
      ]
    },
    {
      "cell_type": "code",
      "execution_count": null,
      "metadata": {
        "id": "05IXsl8fvuRT"
      },
      "outputs": [],
      "source": []
    },
    {
      "cell_type": "code",
      "execution_count": null,
      "metadata": {
        "id": "a8gPdLQ8wmBo"
      },
      "outputs": [],
      "source": []
    },
    {
      "cell_type": "markdown",
      "metadata": {
        "id": "2BMK7GVrvvzg"
      },
      "source": [
        "## Type Error\n",
        "\n",
        "A `TypeError` is thrown when a python function/operation is applied to an object of inappropriate datatype. For example, adding two strings."
      ]
    },
    {
      "cell_type": "code",
      "execution_count": null,
      "metadata": {
        "id": "5jkDucBQpOqA"
      },
      "outputs": [],
      "source": []
    },
    {
      "cell_type": "code",
      "execution_count": null,
      "metadata": {
        "id": "HVFWeuqu6LLO"
      },
      "outputs": [],
      "source": []
    },
    {
      "cell_type": "code",
      "execution_count": null,
      "metadata": {
        "id": "qsJwaBxgZk4X"
      },
      "outputs": [],
      "source": []
    },
    {
      "cell_type": "markdown",
      "metadata": {
        "id": "bYINGJttu4yy"
      },
      "source": [
        "## Conclusion\n",
        "\n",
        "To get hold of your python errors, it is important to delve into tracebacks and built-in exceptions. There are a bunch of inbuilt exceptions we haven't talked about here, but you can find in the [python documentary](https://docs.python.org/3/library/exceptions.html#built-in-exceptions).\n",
        "\n",
        "Exception handling is one such technique to get passed these errors without letting your code terminate in the middle. More on that later."
      ]
    },
    {
      "cell_type": "markdown",
      "metadata": {
        "id": "sLqFqh8Pz2Hd"
      },
      "source": [
        "## References\n",
        "\n",
        "- https://docs.python.org/3/library/exceptions.html#built-in-exceptions\n",
        "\n",
        "- https://realpython.com/python-traceback/"
      ]
    },
    {
      "cell_type": "code",
      "execution_count": null,
      "metadata": {
        "id": "u7cdVeQ2YENk"
      },
      "outputs": [],
      "source": []
    },
    {
      "cell_type": "code",
      "execution_count": null,
      "metadata": {
        "id": "BmKDJ5kPYENk"
      },
      "outputs": [],
      "source": []
    }
  ],
  "metadata": {
    "colab": {
      "provenance": [],
      "include_colab_link": true
    },
    "kernelspec": {
      "display_name": "Python 3",
      "language": "python",
      "name": "python3"
    },
    "language_info": {
      "codemirror_mode": {
        "name": "ipython",
        "version": 3
      },
      "file_extension": ".py",
      "mimetype": "text/x-python",
      "name": "python",
      "nbconvert_exporter": "python",
      "pygments_lexer": "ipython3",
      "version": "3.7.6"
    }
  },
  "nbformat": 4,
  "nbformat_minor": 0
}