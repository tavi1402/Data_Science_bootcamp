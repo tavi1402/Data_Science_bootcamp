{
  "cells": [
    {
      "cell_type": "markdown",
      "metadata": {
        "id": "view-in-github",
        "colab_type": "text"
      },
      "source": [
        "<a href=\"https://colab.research.google.com/github/tavi1402/Data_Science_bootcamp/blob/main/3_2_1_python_pandas_data_analysis.ipynb\" target=\"_parent\"><img src=\"https://colab.research.google.com/assets/colab-badge.svg\" alt=\"Open In Colab\"/></a>"
      ]
    },
    {
      "cell_type": "markdown",
      "metadata": {
        "id": "7J8D6sc4YCY5"
      },
      "source": [
        "# Analyzing Tabular Data using Python and Pandas\n",
        "\n",
        "![](https://i.imgur.com/zfxLzEv.png)\n",
        "\n",
        "\n",
        "This tutorial series is a beginner-friendly introduction to programming and data analysis using the Python programming language. These tutorials take a practical and coding-focused approach. The best way to learn the material is to execute the code and experiment with it yourself."
      ]
    },
    {
      "cell_type": "markdown",
      "metadata": {
        "id": "ElA9YPt9YCZA"
      },
      "source": [
        "This tutorial covers the following topics:\n",
        "\n",
        "- Reading a CSV file into a Pandas data frame\n",
        "- Retrieving data from Pandas data frames\n",
        "- Querying, sorting, and analyzing data\n",
        "- Merging, grouping, and aggregation of data\n",
        "- Extracting useful information from dates\n",
        "- Basic plotting using line and bar charts\n",
        "- Writing data frames to CSV files"
      ]
    },
    {
      "cell_type": "markdown",
      "metadata": {
        "id": "ZS3TaiNlYCZB"
      },
      "source": [
        "### How to run the code\n",
        "\n",
        "This tutorial is an executable [Jupyter notebook](https://jupyter.org) hosted on [Jovian](https://www.jovian.ai). You can _run_ this tutorial and experiment with the code examples in a couple of ways: *using free online resources* (recommended) or *on your computer*.\n",
        "\n",
        "#### Option 1: Running using free online resources (1-click, recommended)\n",
        "\n",
        "The easiest way to start executing the code is to click the **Run** button at the top of this page and select **Run on Binder**. You can also select \"Run on Colab\" or \"Run on Kaggle\", but you'll need to create an account on [Google Colab](https://colab.research.google.com) or [Kaggle](https://kaggle.com) to use these platforms.\n",
        "\n",
        "\n",
        "#### Option 2: Running on your computer locally\n",
        "\n",
        "To run the code on your computer locally, you'll need to set up [Python](https://www.python.org), download the notebook and install the required libraries. We recommend using the [Conda](https://docs.conda.io/projects/conda/en/latest/user-guide/install/) distribution of Python. Click the **Run** button at the top of this page, select the **Run Locally** option, and follow the instructions.\n",
        "\n",
        ">  **Jupyter Notebooks**: This tutorial is a [Jupyter notebook](https://jupyter.org) - a document made of _cells_. Each cell can contain code written in Python or explanations in plain English. You can execute code cells and view the results, e.g., numbers, messages, graphs, tables, files, etc., instantly within the notebook. Jupyter is a powerful platform for experimentation and analysis. Don't be afraid to mess around with the code & break things - you'll learn a lot by encountering and fixing errors. You can use the \"Kernel > Restart & Clear Output\" menu option to clear all outputs and start again from the top."
      ]
    },
    {
      "cell_type": "markdown",
      "metadata": {
        "id": "rmTPQ623YCZC"
      },
      "source": [
        "## Reading a CSV file using Pandas\n",
        "\n",
        "[Pandas](https://pandas.pydata.org/) is a popular Python library used for working in tabular data (similar to the data stored in a spreadsheet). Pandas provides helper functions to read data from various file formats like CSV, Excel spreadsheets, HTML tables, JSON, SQL, and more. Let's download a file `italy-covid-daywise.txt` which contains day-wise Covid-19 data for Italy in the following format:\n",
        "\n",
        "```\n",
        "date,new_cases,new_deaths,new_tests\n",
        "2020-04-21,2256.0,454.0,28095.0\n",
        "2020-04-22,2729.0,534.0,44248.0\n",
        "2020-04-23,3370.0,437.0,37083.0\n",
        "2020-04-24,2646.0,464.0,95273.0\n",
        "2020-04-25,3021.0,420.0,38676.0\n",
        "2020-04-26,2357.0,415.0,24113.0\n",
        "2020-04-27,2324.0,260.0,26678.0\n",
        "2020-04-28,1739.0,333.0,37554.0\n",
        "...\n",
        "```\n",
        "\n",
        "This format of storing data is known as *comma-separated values* or CSV.\n",
        "\n",
        "> **CSVs**: A comma-separated values (CSV) file is a delimited text file that uses a comma to separate values. Each line of the file is a data record. Each record consists of one or more fields, separated by commas. A CSV file typically stores tabular data (numbers and text) in plain text, in which case each line will have the same number of fields. (Wikipedia)\n",
        "\n",
        "\n",
        "We'll download this file using the `urlretrieve` function from the `urllib.request` module."
      ]
    },
    {
      "cell_type": "code",
      "execution_count": null,
      "metadata": {
        "id": "CLHqlRFZYCZD"
      },
      "outputs": [],
      "source": []
    },
    {
      "cell_type": "code",
      "execution_count": null,
      "metadata": {
        "id": "Jzijq-oFYCZE"
      },
      "outputs": [],
      "source": []
    },
    {
      "cell_type": "markdown",
      "metadata": {
        "id": "DzWY56TGYCZE"
      },
      "source": [
        "To read the file, we can use the `read_csv` method from Pandas. First, let's install the Pandas library."
      ]
    },
    {
      "cell_type": "code",
      "execution_count": null,
      "metadata": {
        "id": "cBsmnknsYCZF"
      },
      "outputs": [],
      "source": []
    },
    {
      "cell_type": "markdown",
      "metadata": {
        "id": "jOuiWuwMYCZG"
      },
      "source": [
        "We can now import the `pandas` module. As a convention, it is imported with the alias `pd`."
      ]
    },
    {
      "cell_type": "code",
      "execution_count": null,
      "metadata": {
        "id": "WJqq4dRzYCZH"
      },
      "outputs": [],
      "source": []
    },
    {
      "cell_type": "code",
      "execution_count": null,
      "metadata": {
        "id": "DuFnzGT1YCZH"
      },
      "outputs": [],
      "source": []
    },
    {
      "cell_type": "markdown",
      "metadata": {
        "id": "ws3WRQaoYCZH"
      },
      "source": [
        "Data from the file is read and stored in a `DataFrame` object - one of the core data structures in Pandas for storing and working with tabular data. We typically use the `_df` suffix in the variable names for dataframes."
      ]
    },
    {
      "cell_type": "code",
      "execution_count": null,
      "metadata": {
        "id": "vy1O541xYCZI"
      },
      "outputs": [],
      "source": []
    },
    {
      "cell_type": "code",
      "execution_count": null,
      "metadata": {
        "id": "ZXZR2CpFYCZI"
      },
      "outputs": [],
      "source": []
    },
    {
      "cell_type": "markdown",
      "metadata": {
        "id": "cy776TYdYCZI"
      },
      "source": [
        "Here's what we can tell by looking at the dataframe:\n",
        "\n",
        "- The file provides four day-wise counts for COVID-19 in Italy\n",
        "- The metrics reported are new cases, deaths, and tests\n",
        "- Data is provided for 248 days: from Dec 12, 2019, to Sep 3, 2020\n",
        "\n",
        "Keep in mind that these are officially reported numbers. The actual number of cases & deaths may be higher, as not all cases are diagnosed.\n",
        "\n",
        "We can view some basic information about the data frame using the `.info` method."
      ]
    },
    {
      "cell_type": "code",
      "execution_count": null,
      "metadata": {
        "id": "HWIBDCvKYCZJ"
      },
      "outputs": [],
      "source": []
    },
    {
      "cell_type": "markdown",
      "metadata": {
        "id": "v1QzcA05YCZJ"
      },
      "source": [
        "It appears that each column contains values of a specific data type. You can view statistical information for numerical columns (mean, standard deviation, minimum/maximum values, and the number of non-empty values) using the `.describe` method."
      ]
    },
    {
      "cell_type": "code",
      "execution_count": null,
      "metadata": {
        "id": "2qqo2HBIYCZK"
      },
      "outputs": [],
      "source": []
    },
    {
      "cell_type": "markdown",
      "metadata": {
        "id": "1tIYvMpEYCZK"
      },
      "source": [
        "The `columns` property contains the list of columns within the data frame."
      ]
    },
    {
      "cell_type": "code",
      "execution_count": null,
      "metadata": {
        "id": "BNKEz13AYCZK"
      },
      "outputs": [],
      "source": []
    },
    {
      "cell_type": "markdown",
      "metadata": {
        "id": "TB7OOxZMYCZL"
      },
      "source": [
        "You can also retrieve the number of rows and columns in the data frame using the `.shape` property"
      ]
    },
    {
      "cell_type": "code",
      "execution_count": null,
      "metadata": {
        "id": "weU3CDMhYCZL"
      },
      "outputs": [],
      "source": []
    },
    {
      "cell_type": "markdown",
      "metadata": {
        "id": "-1wu-fZEYCZL"
      },
      "source": [
        "Here's a summary of the functions & methods we've looked at so far:\n",
        "\n",
        "* `pd.read_csv` - Read data from a CSV file into a Pandas `DataFrame` object\n",
        "* `.info()` - View basic infomation about rows, columns & data types\n",
        "* `.describe()` - View statistical information about numeric columns\n",
        "* `.columns` - Get the list of column names\n",
        "* `.shape` - Get the number of rows & columns as a tuple\n"
      ]
    },
    {
      "cell_type": "markdown",
      "metadata": {
        "id": "c2Yga7ZuYCZM"
      },
      "source": [
        "### Save and upload your notebook\n",
        "\n",
        "Whether you're running this Jupyter notebook online or on your computer, it's essential to save your work from time to time. You can continue working on a saved notebook later or share it with friends and colleagues to let them execute your code. [Jovian](https://www.jovian.ai) offers an easy way of saving and sharing your Jupyter notebooks online."
      ]
    },
    {
      "cell_type": "code",
      "execution_count": null,
      "metadata": {
        "id": "rs_VKTAvYCZM"
      },
      "outputs": [],
      "source": []
    },
    {
      "cell_type": "code",
      "execution_count": null,
      "metadata": {
        "id": "QZc7LeEYYCZM"
      },
      "outputs": [],
      "source": []
    },
    {
      "cell_type": "code",
      "execution_count": null,
      "metadata": {
        "id": "9Dm36mUxYCZM"
      },
      "outputs": [],
      "source": []
    },
    {
      "cell_type": "markdown",
      "metadata": {
        "id": "G2vE78-yYCZM"
      },
      "source": [
        "The first time you run `jovian.commit`, you'll be asked to provide an API Key to securely upload the notebook to your Jovian account. You can get the API key from your [Jovian profile page](https://jovian.ai) after logging in / signing up.\n",
        "\n",
        "\n",
        "`jovian.commit` uploads the notebook to your Jovian account, captures the Python environment, and creates a shareable link for your notebook, as shown above. You can use this link to share your work and let anyone (including you) run your notebooks and reproduce your work."
      ]
    },
    {
      "cell_type": "markdown",
      "metadata": {
        "id": "O9A4wFg4YCZN"
      },
      "source": [
        "## Retrieving data from a data frame\n",
        "\n",
        "The first thing you might want to do is retrieve data from this data frame, e.g., the counts of a specific day or the list of values in a particular column. To do this, it might help to understand the internal representation of data in a data frame. Conceptually, you can think of a dataframe as a dictionary of lists: keys are column names, and values are lists/arrays containing data for the respective columns."
      ]
    },
    {
      "cell_type": "code",
      "execution_count": null,
      "metadata": {
        "id": "x24OTyK7YCZN"
      },
      "outputs": [],
      "source": []
    },
    {
      "cell_type": "markdown",
      "metadata": {
        "id": "_-ICYeLOYCZN"
      },
      "source": [
        "Representing data in the above format has a few benefits:\n",
        "\n",
        "* All values in a column typically have the same type of value, so it's more efficient to store them in a single array.\n",
        "* Retrieving the values for a particular row simply requires extracting the elements at a given index from each column array.\n",
        "* The representation is more compact (column names are recorded only once) compared to other formats that use a dictionary for each row of data (see the example below)."
      ]
    },
    {
      "cell_type": "code",
      "execution_count": null,
      "metadata": {
        "id": "cVFN4GlDYCZN"
      },
      "outputs": [],
      "source": []
    },
    {
      "cell_type": "markdown",
      "metadata": {
        "id": "YZv6IVoiYCZO"
      },
      "source": [
        "With the dictionary of lists analogy in mind, you can now guess how to retrieve data from a data frame. For example, we can get a list of values from a specific column using the `[]` indexing notation."
      ]
    },
    {
      "cell_type": "code",
      "execution_count": null,
      "metadata": {
        "id": "9Y5fDs7MYCZO"
      },
      "outputs": [],
      "source": []
    },
    {
      "cell_type": "code",
      "execution_count": null,
      "metadata": {
        "id": "3ejWGVwPYCZO"
      },
      "outputs": [],
      "source": []
    },
    {
      "cell_type": "markdown",
      "metadata": {
        "id": "Wh7_N0BbYCZO"
      },
      "source": [
        "Each column is represented using a data structure called `Series`, which is essentially a numpy array with some extra methods and properties."
      ]
    },
    {
      "cell_type": "code",
      "execution_count": null,
      "metadata": {
        "id": "oP_1bCFyYCZO"
      },
      "outputs": [],
      "source": []
    },
    {
      "cell_type": "markdown",
      "metadata": {
        "id": "yI7mXSHQYCZO"
      },
      "source": [
        "Like arrays, you can retrieve a specific value with a series using the indexing notation `[]`."
      ]
    },
    {
      "cell_type": "code",
      "execution_count": null,
      "metadata": {
        "id": "FR0QrLVTYCZP"
      },
      "outputs": [],
      "source": []
    },
    {
      "cell_type": "code",
      "execution_count": null,
      "metadata": {
        "id": "0Wl4O8rtYCZW"
      },
      "outputs": [],
      "source": []
    },
    {
      "cell_type": "markdown",
      "metadata": {
        "id": "VInxsiqvYCZW"
      },
      "source": [
        "Pandas also provides the `.at` method to retrieve the element at a specific row & column directly."
      ]
    },
    {
      "cell_type": "code",
      "execution_count": null,
      "metadata": {
        "id": "IsAryVIaYCZX"
      },
      "outputs": [],
      "source": []
    },
    {
      "cell_type": "code",
      "execution_count": null,
      "metadata": {
        "id": "uCFVQ3ixYCZX"
      },
      "outputs": [],
      "source": []
    },
    {
      "cell_type": "markdown",
      "metadata": {
        "id": "30gfxRPdYCZX"
      },
      "source": [
        "Instead of using the indexing notation `[]`, Pandas also allows accessing columns as properties of the dataframe using the `.` notation. However, this method only works for columns whose names do not contain spaces or special characters."
      ]
    },
    {
      "cell_type": "code",
      "execution_count": null,
      "metadata": {
        "id": "q-Ld5VBQYCZY"
      },
      "outputs": [],
      "source": []
    },
    {
      "cell_type": "markdown",
      "metadata": {
        "id": "4JXFl7M7YCZY"
      },
      "source": [
        "Further, you can also pass a list of columns within the indexing notation `[]` to access a subset of the data frame with just the given columns."
      ]
    },
    {
      "cell_type": "code",
      "execution_count": null,
      "metadata": {
        "id": "eBcry2FPYCZY"
      },
      "outputs": [],
      "source": []
    },
    {
      "cell_type": "markdown",
      "metadata": {
        "id": "HrK69-zsYCZY"
      },
      "source": [
        "The new data frame `cases_df` is simply a \"view\" of the original data frame `covid_df`. Both point to the same data in the computer's memory. Changing any values inside one of them will also change the respective values in the other. Sharing data between data frames makes data manipulation in Pandas blazing fast. You needn't worry about the overhead of copying thousands or millions of rows every time you want to create a new data frame by operating on an existing one.\n",
        "\n",
        "Sometimes you might need a full copy of the data frame, in which case you can use the `copy` method."
      ]
    },
    {
      "cell_type": "code",
      "execution_count": null,
      "metadata": {
        "id": "l5CV3kVuYCZZ"
      },
      "outputs": [],
      "source": []
    },
    {
      "cell_type": "markdown",
      "metadata": {
        "id": "yonRyAFaYCZd"
      },
      "source": [
        "The data within `covid_df_copy` is completely separate from `covid_df`, and changing values inside one of them will not affect the other."
      ]
    },
    {
      "cell_type": "markdown",
      "metadata": {
        "id": "luKzjewGYCZd"
      },
      "source": [
        "To access a specific row of data, Pandas provides the `.loc` method."
      ]
    },
    {
      "cell_type": "code",
      "execution_count": null,
      "metadata": {
        "id": "5Wh_CYGEYCZe"
      },
      "outputs": [],
      "source": []
    },
    {
      "cell_type": "code",
      "execution_count": null,
      "metadata": {
        "id": "C6sVo6ndYCZe"
      },
      "outputs": [],
      "source": []
    },
    {
      "cell_type": "markdown",
      "metadata": {
        "id": "oBk4FbaEYCZe"
      },
      "source": [
        "Each retrieved row is also a `Series` object."
      ]
    },
    {
      "cell_type": "code",
      "execution_count": null,
      "metadata": {
        "id": "8ap7IwsvYCZf"
      },
      "outputs": [],
      "source": []
    },
    {
      "cell_type": "markdown",
      "metadata": {
        "id": "dp2Rer5_YCZf"
      },
      "source": [
        "We can use the `.head` and `.tail` methods to view the first or last few rows of data."
      ]
    },
    {
      "cell_type": "code",
      "execution_count": null,
      "metadata": {
        "id": "wLF89st2YCZf"
      },
      "outputs": [],
      "source": []
    },
    {
      "cell_type": "code",
      "execution_count": null,
      "metadata": {
        "id": "aE753RXoYCZf"
      },
      "outputs": [],
      "source": []
    },
    {
      "cell_type": "markdown",
      "metadata": {
        "id": "D_Rys21aYCZf"
      },
      "source": [
        "Notice above that while the first few values in the `new_cases` and `new_deaths` columns are `0`, the corresponding values within the `new_tests` column are `NaN`. That is because the CSV file does not contain any data for the `new_tests` column for specific dates (you can verify this by looking into the file). These values may be missing or unknown."
      ]
    },
    {
      "cell_type": "code",
      "execution_count": null,
      "metadata": {
        "id": "erQZCQiWYCZg"
      },
      "outputs": [],
      "source": []
    },
    {
      "cell_type": "code",
      "execution_count": null,
      "metadata": {
        "id": "UC42zvFtYCZg"
      },
      "outputs": [],
      "source": []
    },
    {
      "cell_type": "markdown",
      "metadata": {
        "id": "QeAlo0ivYCZg"
      },
      "source": [
        "The distinction between `0` and `NaN` is subtle but important. In this dataset, it represents that daily test numbers were not reported on specific dates. Italy started reporting daily tests on Apr 19, 2020. 93,5310 tests had already been conducted before Apr 19.\n",
        "\n",
        "We can find the first index that doesn't contain a `NaN` value using a column's `first_valid_index` method."
      ]
    },
    {
      "cell_type": "code",
      "execution_count": null,
      "metadata": {
        "id": "RSaa6JRoYCZg"
      },
      "outputs": [],
      "source": []
    },
    {
      "cell_type": "markdown",
      "metadata": {
        "id": "AihnoDOOYCZh"
      },
      "source": [
        "Let's look at a few rows before and after this index to verify that the values change from `NaN` to actual numbers. We can do this by passing a range to `loc`."
      ]
    },
    {
      "cell_type": "code",
      "execution_count": null,
      "metadata": {
        "id": "0RDPwIWDYCZh"
      },
      "outputs": [],
      "source": []
    },
    {
      "cell_type": "markdown",
      "metadata": {
        "id": "1plWOhCSYCZh"
      },
      "source": [
        "We can use the `.sample` method to retrieve a random sample of rows from the data frame."
      ]
    },
    {
      "cell_type": "code",
      "execution_count": null,
      "metadata": {
        "id": "0rbWxJACYCZp"
      },
      "outputs": [],
      "source": []
    },
    {
      "cell_type": "markdown",
      "metadata": {
        "id": "5cvOtc6uYCZq"
      },
      "source": [
        "Notice that even though we have taken a random sample, each row's original index is preserved - this is a useful property of data frames.\n",
        "\n"
      ]
    },
    {
      "cell_type": "markdown",
      "metadata": {
        "id": "PqZjbZmxYCZq"
      },
      "source": [
        "Here's a summary of the functions & methods we looked at in this section:\n",
        "\n",
        "- `covid_df['new_cases']` - Retrieving columns as a `Series` using the column name\n",
        "- `new_cases[243]` - Retrieving values from a `Series` using an index\n",
        "- `covid_df.at[243, 'new_cases']` - Retrieving a single value from a data frame\n",
        "- `covid_df.copy()` - Creating a deep copy of a data frame\n",
        "- `covid_df.loc[243]` - Retrieving a row or range of rows of data from the data frame\n",
        "- `head`, `tail`, and `sample` - Retrieving multiple rows of data from the data frame\n",
        "- `covid_df.new_tests.first_valid_index` - Finding the first non-empty index in a series\n",
        "\n"
      ]
    },
    {
      "cell_type": "markdown",
      "metadata": {
        "id": "LsqRrAd9YCZq"
      },
      "source": [
        "Let's save a snapshot of our notebook before continuing."
      ]
    },
    {
      "cell_type": "code",
      "execution_count": null,
      "metadata": {
        "id": "fnwW5NPYYCZq"
      },
      "outputs": [],
      "source": []
    },
    {
      "cell_type": "code",
      "execution_count": null,
      "metadata": {
        "id": "xLAIRbHbYCZr"
      },
      "outputs": [],
      "source": []
    },
    {
      "cell_type": "markdown",
      "metadata": {
        "id": "MnaVPo3qYCZr"
      },
      "source": [
        "## Analyzing data from data frames\n",
        "\n",
        "Let's try to answer some questions about our data.\n",
        "\n",
        "**Q: What are the total number of reported cases and deaths related to Covid-19 in Italy?**\n",
        "\n",
        "Similar to Numpy arrays, a Pandas series supports the `sum` method to answer these questions."
      ]
    },
    {
      "cell_type": "code",
      "execution_count": null,
      "metadata": {
        "id": "CWdXrBCLYCZr"
      },
      "outputs": [],
      "source": []
    },
    {
      "cell_type": "code",
      "execution_count": null,
      "metadata": {
        "id": "lwzQomuFYCZr"
      },
      "outputs": [],
      "source": []
    },
    {
      "cell_type": "markdown",
      "metadata": {
        "id": "Au2bRcLBYCZr"
      },
      "source": [
        "**Q: What is the overall death rate (ratio of reported deaths to reported cases)?**"
      ]
    },
    {
      "cell_type": "code",
      "execution_count": null,
      "metadata": {
        "id": "-d3BEyfKYCZs"
      },
      "outputs": [],
      "source": []
    },
    {
      "cell_type": "code",
      "execution_count": null,
      "metadata": {
        "id": "Di8OICbrYCZs"
      },
      "outputs": [],
      "source": []
    },
    {
      "cell_type": "markdown",
      "metadata": {
        "id": "QU7S6t4nYCZs"
      },
      "source": [
        "**Q: What is the overall number of tests conducted? A total of 935310 tests were conducted before daily test numbers were reported.**\n"
      ]
    },
    {
      "cell_type": "code",
      "execution_count": null,
      "metadata": {
        "id": "jXPKvJDYYCZs"
      },
      "outputs": [],
      "source": []
    },
    {
      "cell_type": "code",
      "execution_count": null,
      "metadata": {
        "id": "JV3w2U2NYCZs"
      },
      "outputs": [],
      "source": []
    },
    {
      "cell_type": "markdown",
      "metadata": {
        "id": "hkj-GfWRYCZt"
      },
      "source": [
        "**Q: What fraction of tests returned a positive result?**"
      ]
    },
    {
      "cell_type": "code",
      "execution_count": null,
      "metadata": {
        "id": "lwhK8JpWYCZt"
      },
      "outputs": [],
      "source": []
    },
    {
      "cell_type": "code",
      "execution_count": null,
      "metadata": {
        "id": "fxxhaLsPYCZt"
      },
      "outputs": [],
      "source": []
    },
    {
      "cell_type": "markdown",
      "metadata": {
        "id": "cTkooVtLYCZu"
      },
      "source": [
        "Try asking and answering some more questions about the data using the empty cells below."
      ]
    },
    {
      "cell_type": "code",
      "execution_count": null,
      "metadata": {
        "id": "If0eP7mNYCZu"
      },
      "outputs": [],
      "source": []
    },
    {
      "cell_type": "code",
      "execution_count": null,
      "metadata": {
        "id": "Tcj4YP1AYCZu"
      },
      "outputs": [],
      "source": []
    },
    {
      "cell_type": "markdown",
      "metadata": {
        "id": "v-Gbh2YUYCZu"
      },
      "source": [
        "Let's save and commit our work before continuing."
      ]
    },
    {
      "cell_type": "code",
      "execution_count": null,
      "metadata": {
        "id": "fBtNgjphYCZu"
      },
      "outputs": [],
      "source": []
    },
    {
      "cell_type": "code",
      "execution_count": null,
      "metadata": {
        "id": "q6_saD05YCZu"
      },
      "outputs": [],
      "source": []
    },
    {
      "cell_type": "markdown",
      "metadata": {
        "id": "zgMBy10bYCZu"
      },
      "source": [
        "## Querying and sorting rows\n",
        "\n",
        "Let's say we want only want to look at the days which had more than 1000 reported cases. We can use a boolean expression to check which rows satisfy this criterion."
      ]
    },
    {
      "cell_type": "code",
      "execution_count": null,
      "metadata": {
        "id": "qjj5xpepYCZu"
      },
      "outputs": [],
      "source": []
    },
    {
      "cell_type": "code",
      "execution_count": null,
      "metadata": {
        "id": "FKoFUhbpYCZu"
      },
      "outputs": [],
      "source": []
    },
    {
      "cell_type": "markdown",
      "metadata": {
        "id": "4v3Mtr7FYCZu"
      },
      "source": [
        "The boolean expression returns a series containing `True` and `False` boolean values. You can use this series to select a subset of rows from the original dataframe, corresponding to the `True` values in the series."
      ]
    },
    {
      "cell_type": "code",
      "execution_count": null,
      "metadata": {
        "id": "YOc3gNuxYCZu"
      },
      "outputs": [],
      "source": []
    },
    {
      "cell_type": "markdown",
      "metadata": {
        "id": "kXbACAM_YCZv"
      },
      "source": [
        "We can write this succinctly on a single line by passing the boolean expression as an index to the data frame."
      ]
    },
    {
      "cell_type": "code",
      "execution_count": null,
      "metadata": {
        "id": "7DmodSvHYCZv"
      },
      "outputs": [],
      "source": []
    },
    {
      "cell_type": "code",
      "execution_count": null,
      "metadata": {
        "id": "nYTDwH2yYCZv"
      },
      "outputs": [],
      "source": []
    },
    {
      "cell_type": "markdown",
      "metadata": {
        "id": "FUdb0O1mYCZv"
      },
      "source": [
        "The data frame contains 72 rows, but only the first & last five rows are displayed by default with Jupyter for brevity. We can change some display options to view all the rows."
      ]
    },
    {
      "cell_type": "code",
      "execution_count": null,
      "metadata": {
        "scrolled": true,
        "id": "RZ75euNuYCZv"
      },
      "outputs": [],
      "source": []
    },
    {
      "cell_type": "markdown",
      "metadata": {
        "id": "wgtvu9qGYCZv"
      },
      "source": [
        "We can also formulate more complex queries that involve multiple columns. As an example, let's try to determine the days when the ratio of cases reported to tests conducted is higher than the overall `positive_rate`."
      ]
    },
    {
      "cell_type": "code",
      "execution_count": null,
      "metadata": {
        "id": "XWiJFMO9YCZv"
      },
      "outputs": [],
      "source": []
    },
    {
      "cell_type": "code",
      "execution_count": null,
      "metadata": {
        "id": "FUT3ekK_YCZv"
      },
      "outputs": [],
      "source": []
    },
    {
      "cell_type": "code",
      "execution_count": null,
      "metadata": {
        "id": "TYkEbGToYCZv"
      },
      "outputs": [],
      "source": []
    },
    {
      "cell_type": "markdown",
      "metadata": {
        "id": "pQmRZAgaYCZw"
      },
      "source": [
        "The result of performing an operation on two columns is a new series."
      ]
    },
    {
      "cell_type": "code",
      "execution_count": null,
      "metadata": {
        "id": "zdONbKBPYCZw"
      },
      "outputs": [],
      "source": []
    },
    {
      "cell_type": "markdown",
      "metadata": {
        "id": "ze8d8bgAYCZw"
      },
      "source": [
        "We can use this series to add a new column to the data frame."
      ]
    },
    {
      "cell_type": "code",
      "execution_count": null,
      "metadata": {
        "id": "GjWvMR32YCZw"
      },
      "outputs": [],
      "source": []
    },
    {
      "cell_type": "code",
      "execution_count": null,
      "metadata": {
        "id": "iRaTKdWeYCZx"
      },
      "outputs": [],
      "source": []
    },
    {
      "cell_type": "markdown",
      "metadata": {
        "id": "bi8bfwgCYCZx"
      },
      "source": [
        "However, keep in mind that sometimes it takes a few days to get the results for a test, so we can't compare the number of new cases with the number of tests conducted on the same day. Any inference based on this `positive_rate` column is likely to be incorrect. It's essential to watch out for such subtle relationships that are often not conveyed within the CSV file and require some external context. It's always a good idea to read through the documentation provided with the dataset or ask for more information.\n",
        "\n",
        "For now, let's remove the `positive_rate` column using the `drop` method."
      ]
    },
    {
      "cell_type": "code",
      "execution_count": null,
      "metadata": {
        "id": "wsvJV1QdYCZx"
      },
      "outputs": [],
      "source": []
    },
    {
      "cell_type": "markdown",
      "metadata": {
        "id": "IofzoPjSYCZx"
      },
      "source": [
        "Can you figure the purpose of the `inplace` argument?"
      ]
    },
    {
      "cell_type": "markdown",
      "metadata": {
        "id": "TO7A9hbSYCZx"
      },
      "source": [
        "### Sorting rows using column values\n",
        "\n",
        "The rows can also be sorted by a specific column using `.sort_values`. Let's sort to identify the days with the highest number of cases, then chain it with the `head` method to list just the first ten results."
      ]
    },
    {
      "cell_type": "code",
      "execution_count": null,
      "metadata": {
        "id": "iaey4JgZYCZy"
      },
      "outputs": [],
      "source": []
    },
    {
      "cell_type": "markdown",
      "metadata": {
        "id": "9kQI8YPzYCZy"
      },
      "source": [
        "It looks like the last two weeks of March had the highest number of daily cases. Let's compare this to the days where the highest number of deaths were recorded."
      ]
    },
    {
      "cell_type": "code",
      "execution_count": null,
      "metadata": {
        "id": "e1cnDroBYCZy"
      },
      "outputs": [],
      "source": []
    },
    {
      "cell_type": "markdown",
      "metadata": {
        "id": "iEmljilvYCZz"
      },
      "source": [
        "It appears that daily deaths hit a peak just about a week after the peak in daily new cases.\n",
        "\n",
        "Let's also look at the days with the least number of cases. We might expect to see the first few days of the year on this list."
      ]
    },
    {
      "cell_type": "code",
      "execution_count": null,
      "metadata": {
        "id": "tugOG5K6YCZz"
      },
      "outputs": [],
      "source": []
    },
    {
      "cell_type": "markdown",
      "metadata": {
        "id": "yvYLgtMqYCZz"
      },
      "source": [
        "It seems like the count of new cases on Jun 20, 2020, was `-148`, a negative number! Not something we might have expected, but that's the nature of real-world data. It could be a data entry error, or the government may have issued a correction to account for miscounting in the past. Can you dig through news articles online and figure out why the number was negative?\n",
        "\n",
        "Let's look at some days before and after Jun 20, 2020."
      ]
    },
    {
      "cell_type": "code",
      "execution_count": null,
      "metadata": {
        "id": "e5l4efn9YCZz"
      },
      "outputs": [],
      "source": []
    },
    {
      "cell_type": "markdown",
      "metadata": {
        "id": "QgC3dviMYCZ0"
      },
      "source": [
        "For now, let's assume this was indeed a data entry error. We can use one of the following approaches for dealing with the missing or faulty value:\n",
        "1. Replace it with `0`.\n",
        "2. Replace it with the average of the entire column\n",
        "3. Replace it with the average of the values on the previous & next date\n",
        "4. Discard the row entirely\n",
        "\n",
        "Which approach you pick requires some context about the data and the problem. In this case, since we are dealing with data ordered by date, we can go ahead with the third approach.\n",
        "\n",
        "You can use the `.at` method to modify a specific value within the dataframe."
      ]
    },
    {
      "cell_type": "code",
      "execution_count": null,
      "metadata": {
        "id": "F_SOow4zYCZ0"
      },
      "outputs": [],
      "source": []
    },
    {
      "cell_type": "markdown",
      "metadata": {
        "id": "yWBmEY2lYCZ0"
      },
      "source": [
        "Here's a summary of the functions & methods we looked at in this section:\n",
        "\n",
        "- `covid_df.new_cases.sum()` - Computing the sum of values in a column or series\n",
        "- `covid_df[covid_df.new_cases > 1000]` - Querying a subset of rows satisfying the chosen criteria using boolean expressions\n",
        "- `df['pos_rate'] = df.new_cases/df.new_tests` - Adding new columns by combining data from existing columns\n",
        "- `covid_df.drop('positive_rate')` - Removing one or more columns from the data frame\n",
        "- `sort_values` - Sorting the rows of a data frame using column values\n",
        "- `covid_df.at[172, 'new_cases'] = ...` - Replacing a value within the data frame"
      ]
    },
    {
      "cell_type": "markdown",
      "metadata": {
        "id": "s3Ha0xH7YCZ0"
      },
      "source": [
        "Let's save and commit our work before continuing."
      ]
    },
    {
      "cell_type": "code",
      "execution_count": null,
      "metadata": {
        "id": "wBJOgim8YCZ1"
      },
      "outputs": [],
      "source": []
    },
    {
      "cell_type": "code",
      "execution_count": null,
      "metadata": {
        "id": "MNp-mRJZYCZ1"
      },
      "outputs": [],
      "source": []
    },
    {
      "cell_type": "markdown",
      "metadata": {
        "id": "7wyqwYoSYCZ1"
      },
      "source": [
        "## Working with dates\n",
        "\n",
        "While we've looked at overall numbers for the cases, tests, positive rate, etc., it would also be useful to study these numbers on a month-by-month basis. The `date` column might come in handy here, as Pandas provides many utilities for working with dates."
      ]
    },
    {
      "cell_type": "code",
      "execution_count": null,
      "metadata": {
        "id": "p1MsKEZ-YCZ1"
      },
      "outputs": [],
      "source": []
    },
    {
      "cell_type": "markdown",
      "metadata": {
        "id": "-k-a1ORHYCZ1"
      },
      "source": [
        "The data type of date is currently `object`, so Pandas does not know that this column is a date. We can convert it into a `datetime` column using the `pd.to_datetime` method."
      ]
    },
    {
      "cell_type": "code",
      "execution_count": null,
      "metadata": {
        "id": "-DfhsvPYYCZ2"
      },
      "outputs": [],
      "source": []
    },
    {
      "cell_type": "code",
      "execution_count": null,
      "metadata": {
        "id": "y5fDHU-nYCZ4"
      },
      "outputs": [],
      "source": []
    },
    {
      "cell_type": "markdown",
      "metadata": {
        "id": "AMioRMcKYCZ4"
      },
      "source": [
        "You can see that it now has the datatype `datetime64`. We can now extract different parts of the data into separate columns, using the `DatetimeIndex` class ([view docs](https://pandas.pydata.org/pandas-docs/version/0.23.4/generated/pandas.DatetimeIndex.html))."
      ]
    },
    {
      "cell_type": "code",
      "execution_count": null,
      "metadata": {
        "id": "trfbb76CYCZ5"
      },
      "outputs": [],
      "source": []
    },
    {
      "cell_type": "code",
      "execution_count": null,
      "metadata": {
        "id": "oPTE380BYCZ5"
      },
      "outputs": [],
      "source": []
    },
    {
      "cell_type": "markdown",
      "metadata": {
        "id": "sXUwqRLdYCZ5"
      },
      "source": [
        "Let's check the overall metrics for May. We can query the rows for May, choose a subset of columns, and use the `sum` method to aggregate each selected column's values."
      ]
    },
    {
      "cell_type": "code",
      "execution_count": null,
      "metadata": {
        "id": "XqCGo1ACYCZ5"
      },
      "outputs": [],
      "source": []
    },
    {
      "cell_type": "code",
      "execution_count": null,
      "metadata": {
        "id": "q4mPYf-dYCZ6"
      },
      "outputs": [],
      "source": []
    },
    {
      "cell_type": "code",
      "execution_count": null,
      "metadata": {
        "id": "TJ_29Z-nYCZ6"
      },
      "outputs": [],
      "source": []
    },
    {
      "cell_type": "markdown",
      "metadata": {
        "id": "C4vDWCz2YCZ6"
      },
      "source": [
        "We can also combine the above operations into a single statement."
      ]
    },
    {
      "cell_type": "code",
      "execution_count": null,
      "metadata": {
        "id": "DplJPLFuYCZ6"
      },
      "outputs": [],
      "source": []
    },
    {
      "cell_type": "markdown",
      "metadata": {
        "id": "YykFovkRYCZ7"
      },
      "source": [
        "As another example, let's check if the number of cases reported on Sundays is higher than the average number of cases reported every day. This time, we might want to aggregate columns using the `.mean` method."
      ]
    },
    {
      "cell_type": "code",
      "execution_count": null,
      "metadata": {
        "id": "Bw9dxEFqYCZ7"
      },
      "outputs": [],
      "source": []
    },
    {
      "cell_type": "code",
      "execution_count": null,
      "metadata": {
        "id": "OSpZiew7YCZ7"
      },
      "outputs": [],
      "source": []
    },
    {
      "cell_type": "markdown",
      "metadata": {
        "id": "lTMKylAWYCZ7"
      },
      "source": [
        "It seems like more cases were reported on Sundays compared to other days.\n",
        "\n",
        "Try asking and answering some more date-related questions about the data using the cells below."
      ]
    },
    {
      "cell_type": "code",
      "execution_count": null,
      "metadata": {
        "id": "tprNY2ClYCZ8"
      },
      "outputs": [],
      "source": []
    },
    {
      "cell_type": "code",
      "execution_count": null,
      "metadata": {
        "id": "3BeCr9njYCZ8"
      },
      "outputs": [],
      "source": []
    },
    {
      "cell_type": "code",
      "execution_count": null,
      "metadata": {
        "id": "QTzn2qOGYCZ8"
      },
      "outputs": [],
      "source": []
    },
    {
      "cell_type": "code",
      "execution_count": null,
      "metadata": {
        "id": "c2R4lk6uYCZ8"
      },
      "outputs": [],
      "source": []
    },
    {
      "cell_type": "markdown",
      "metadata": {
        "id": "ilioGyIRYCZ8"
      },
      "source": [
        "Let's save and commit our work before continuing."
      ]
    },
    {
      "cell_type": "code",
      "execution_count": null,
      "metadata": {
        "id": "Eez-c8-eYCZ9"
      },
      "outputs": [],
      "source": []
    },
    {
      "cell_type": "code",
      "execution_count": null,
      "metadata": {
        "id": "cHSlUrNRYCZ9"
      },
      "outputs": [],
      "source": []
    },
    {
      "cell_type": "markdown",
      "metadata": {
        "id": "Yo03VG_yYCZ9"
      },
      "source": [
        "## Grouping and aggregation\n",
        "\n",
        "As a next step, we might want to summarize the day-wise data and create a new dataframe with month-wise data. We can use the `groupby` function to create a group for each month, select the columns we wish to aggregate, and aggregate them using the `sum` method."
      ]
    },
    {
      "cell_type": "code",
      "execution_count": null,
      "metadata": {
        "id": "Et5hLUVdYCZ9"
      },
      "outputs": [],
      "source": []
    },
    {
      "cell_type": "code",
      "execution_count": null,
      "metadata": {
        "id": "960fsRmeYCZ-"
      },
      "outputs": [],
      "source": []
    },
    {
      "cell_type": "markdown",
      "metadata": {
        "id": "4Mis8AZnYCZ-"
      },
      "source": [
        "The result is a new data frame that uses unique values from the column passed to `groupby` as the index. Grouping and aggregation is a powerful method for progressively summarizing data into smaller data frames.\n",
        "\n",
        "Instead of aggregating by sum, you can also aggregate by other measures like mean. Let's compute the average number of daily new cases, deaths, and tests for each month."
      ]
    },
    {
      "cell_type": "code",
      "execution_count": null,
      "metadata": {
        "id": "J2yGfcVxYCZ-"
      },
      "outputs": [],
      "source": []
    },
    {
      "cell_type": "code",
      "execution_count": null,
      "metadata": {
        "id": "B_E8-iSZYCZ_"
      },
      "outputs": [],
      "source": []
    },
    {
      "cell_type": "markdown",
      "metadata": {
        "id": "kblfZxsrYCZ_"
      },
      "source": [
        "Apart from grouping, another form of aggregation is the running or cumulative sum of cases, tests, or death up to each row's date. We can use the `cumsum` method to compute the cumulative sum of a column as a new series. Let's add three new columns: `total_cases`, `total_deaths`, and `total_tests`."
      ]
    },
    {
      "cell_type": "code",
      "execution_count": null,
      "metadata": {
        "id": "66g8GAQaYCZ_"
      },
      "outputs": [],
      "source": []
    },
    {
      "cell_type": "code",
      "execution_count": null,
      "metadata": {
        "id": "oO_eSKCZYCZ_"
      },
      "outputs": [],
      "source": []
    },
    {
      "cell_type": "code",
      "execution_count": null,
      "metadata": {
        "id": "0ZlMgivRYCZ_"
      },
      "outputs": [],
      "source": []
    },
    {
      "cell_type": "markdown",
      "metadata": {
        "id": "lZPAcoltYCaA"
      },
      "source": [
        "We've also included the initial test count in `total_test` to account for tests conducted before daily reporting was started."
      ]
    },
    {
      "cell_type": "code",
      "execution_count": null,
      "metadata": {
        "id": "iaiWxKlyYCaA"
      },
      "outputs": [],
      "source": []
    },
    {
      "cell_type": "markdown",
      "metadata": {
        "id": "zj9KdT0XYCaA"
      },
      "source": [
        "Notice how the `NaN` values in the `total_tests` column remain unaffected."
      ]
    },
    {
      "cell_type": "markdown",
      "metadata": {
        "id": "aDPYNrqEYCaA"
      },
      "source": [
        "## Merging data from multiple sources\n",
        "\n",
        "To determine other metrics like test per million, cases per million, etc., we require some more information about the country, viz. its population. Let's download another file `locations.csv` that contains health-related information for many countries, including Italy."
      ]
    },
    {
      "cell_type": "code",
      "execution_count": null,
      "metadata": {
        "id": "bkj0nRRkYCaA"
      },
      "outputs": [],
      "source": []
    },
    {
      "cell_type": "code",
      "execution_count": null,
      "metadata": {
        "id": "o18GtYhZYCaA"
      },
      "outputs": [],
      "source": []
    },
    {
      "cell_type": "code",
      "execution_count": null,
      "metadata": {
        "id": "LLJ_n5-vYCaA"
      },
      "outputs": [],
      "source": []
    },
    {
      "cell_type": "code",
      "execution_count": null,
      "metadata": {
        "id": "bLtK1T0dYCaA"
      },
      "outputs": [],
      "source": []
    },
    {
      "cell_type": "markdown",
      "metadata": {
        "id": "R7e-9ELXYCaA"
      },
      "source": [
        "We can merge this data into our existing data frame by adding more columns. However, to merge two data frames, we need at least one common column. Let's insert a `location` column in the `covid_df` dataframe with all values set to `\"Italy\"`."
      ]
    },
    {
      "cell_type": "code",
      "execution_count": null,
      "metadata": {
        "id": "giOMOV7rYCaA"
      },
      "outputs": [],
      "source": []
    },
    {
      "cell_type": "code",
      "execution_count": null,
      "metadata": {
        "id": "gUmbIlPhYCaB"
      },
      "outputs": [],
      "source": []
    },
    {
      "cell_type": "markdown",
      "metadata": {
        "id": "oaQWcAXAYCaB"
      },
      "source": [
        "We can now add the columns from `locations_df` into `covid_df` using the `.merge` method."
      ]
    },
    {
      "cell_type": "code",
      "execution_count": null,
      "metadata": {
        "id": "QQ92eLZOYCaB"
      },
      "outputs": [],
      "source": []
    },
    {
      "cell_type": "code",
      "execution_count": null,
      "metadata": {
        "id": "7jNEKjZ1YCaC"
      },
      "outputs": [],
      "source": []
    },
    {
      "cell_type": "markdown",
      "metadata": {
        "id": "2R2TOKEOYCaC"
      },
      "source": [
        "The location data for Italy is appended to each row within `covid_df`. If the `covid_df` data frame contained data for multiple locations, then the respective country's location data would be appended for each row.\n",
        "\n",
        "We can now calculate metrics like cases per million, deaths per million, and tests per million."
      ]
    },
    {
      "cell_type": "code",
      "execution_count": null,
      "metadata": {
        "id": "d6TQ-MKIYCaC"
      },
      "outputs": [],
      "source": []
    },
    {
      "cell_type": "code",
      "execution_count": null,
      "metadata": {
        "id": "R-xPt_MJYCaC"
      },
      "outputs": [],
      "source": []
    },
    {
      "cell_type": "code",
      "execution_count": null,
      "metadata": {
        "id": "zrxtoMdAYCaD"
      },
      "outputs": [],
      "source": []
    },
    {
      "cell_type": "code",
      "execution_count": null,
      "metadata": {
        "scrolled": false,
        "id": "7heRoRqPYCaD"
      },
      "outputs": [],
      "source": []
    },
    {
      "cell_type": "markdown",
      "metadata": {
        "id": "BJ9qL5iBYCaD"
      },
      "source": [
        "Let's save and commit our work before continuing."
      ]
    },
    {
      "cell_type": "code",
      "execution_count": null,
      "metadata": {
        "id": "Z6m_ZQiEYCaD"
      },
      "outputs": [],
      "source": []
    },
    {
      "cell_type": "code",
      "execution_count": null,
      "metadata": {
        "id": "ChSkND3bYCaD"
      },
      "outputs": [],
      "source": []
    },
    {
      "cell_type": "markdown",
      "metadata": {
        "id": "3HyavnvgYCaE"
      },
      "source": [
        "## Writing data back to files\n",
        "\n",
        "After completing your analysis and adding new columns, you should write the results back to a file. Otherwise, the data will be lost when the Jupyter notebook shuts down. Before writing to file, let us first create a data frame containing just the columns we wish to record."
      ]
    },
    {
      "cell_type": "code",
      "execution_count": null,
      "metadata": {
        "id": "4uQ5zWB4YCaE"
      },
      "outputs": [],
      "source": []
    },
    {
      "cell_type": "code",
      "execution_count": null,
      "metadata": {
        "scrolled": false,
        "id": "aW0hsQWXYCaE"
      },
      "outputs": [],
      "source": []
    },
    {
      "cell_type": "markdown",
      "metadata": {
        "id": "d070Hek_YCaF"
      },
      "source": [
        "To write the data from the data frame into a file, we can use the `to_csv` function."
      ]
    },
    {
      "cell_type": "code",
      "execution_count": null,
      "metadata": {
        "id": "ab5IoOUuYCaF"
      },
      "outputs": [],
      "source": []
    },
    {
      "cell_type": "markdown",
      "metadata": {
        "id": "7eVhRuZ9YCaF"
      },
      "source": [
        "The `to_csv` function also includes an additional column for storing the index of the dataframe by default. We pass `index=None` to turn off this behavior. You can now verify that the `results.csv` is created and contains data from the data frame in CSV format:\n",
        "\n",
        "```\n",
        "date,new_cases,total_cases,new_deaths,total_deaths,new_tests,total_tests,cases_per_million,deaths_per_million,tests_per_million\n",
        "2020-02-27,78.0,400.0,1.0,12.0,,,6.61574439992122,0.1984723319976366,\n",
        "2020-02-28,250.0,650.0,5.0,17.0,,,10.750584649871982,0.28116913699665186,\n",
        "2020-02-29,238.0,888.0,4.0,21.0,,,14.686952567825108,0.34732658099586405,\n",
        "2020-03-01,240.0,1128.0,8.0,29.0,,,18.656399207777838,0.47964146899428844,\n",
        "2020-03-02,561.0,1689.0,6.0,35.0,,,27.93498072866735,0.5788776349931067,\n",
        "2020-03-03,347.0,2036.0,17.0,52.0,,,33.67413899559901,0.8600467719897585,\n",
        "...\n",
        "```"
      ]
    },
    {
      "cell_type": "markdown",
      "metadata": {
        "id": "grzKFW7HYCaG"
      },
      "source": [
        "You can attach the `results.csv` file to our notebook while uploading it to [Jovian](https://jovian.ai) using the `outputs` argument to `jovian.commit`."
      ]
    },
    {
      "cell_type": "code",
      "execution_count": null,
      "metadata": {
        "id": "2EiIk3K6YCaG"
      },
      "outputs": [],
      "source": []
    },
    {
      "cell_type": "code",
      "execution_count": null,
      "metadata": {
        "id": "q91uxvqVYCaG"
      },
      "outputs": [],
      "source": []
    },
    {
      "cell_type": "markdown",
      "metadata": {
        "id": "Mm21FRHHYCaG"
      },
      "source": [
        "You can find the CSV file in the \"Files\" tab on the project page."
      ]
    },
    {
      "cell_type": "markdown",
      "metadata": {
        "id": "ReTS_rJvYCaH"
      },
      "source": [
        "## Bonus: Basic Plotting with Pandas\n",
        "\n",
        "We generally use a library like `matplotlib` or `seaborn` plot graphs within a Jupyter notebook. However, Pandas dataframes & series provide a handy `.plot` method for quick and easy plotting.\n",
        "\n",
        "Let's plot a line graph showing how the number of daily cases varies over time."
      ]
    },
    {
      "cell_type": "code",
      "execution_count": null,
      "metadata": {
        "id": "3dzK-NmsYCaH"
      },
      "outputs": [],
      "source": []
    },
    {
      "cell_type": "markdown",
      "metadata": {
        "id": "P9Rj5-LfYCaH"
      },
      "source": [
        "While this plot shows the overall trend, it's hard to tell where the peak occurred, as there are no dates on the X-axis. We can use the `date` column as the index for the data frame to address this issue."
      ]
    },
    {
      "cell_type": "code",
      "execution_count": null,
      "metadata": {
        "id": "XxUPYWVIYCaH"
      },
      "outputs": [],
      "source": []
    },
    {
      "cell_type": "code",
      "execution_count": null,
      "metadata": {
        "id": "Mds72NEbYCaH"
      },
      "outputs": [],
      "source": []
    },
    {
      "cell_type": "markdown",
      "metadata": {
        "id": "_ihfP2G6YCaI"
      },
      "source": [
        "Notice that the index of a data frame doesn't have to be numeric. Using the date as the index also allows us to get the data for a specific data using `.loc`."
      ]
    },
    {
      "cell_type": "code",
      "execution_count": null,
      "metadata": {
        "id": "l2PPOdbFYCaI"
      },
      "outputs": [],
      "source": []
    },
    {
      "cell_type": "markdown",
      "metadata": {
        "id": "WC8T2RU1YCaJ"
      },
      "source": [
        "Let's plot the new cases & new deaths per day as line graphs."
      ]
    },
    {
      "cell_type": "code",
      "execution_count": null,
      "metadata": {
        "id": "U68mo0HaYCaJ"
      },
      "outputs": [],
      "source": []
    },
    {
      "cell_type": "markdown",
      "metadata": {
        "id": "-R0t7yuWYCaJ"
      },
      "source": [
        "We can also compare the total cases vs. total deaths."
      ]
    },
    {
      "cell_type": "code",
      "execution_count": null,
      "metadata": {
        "id": "XH_ExWDLYCaK"
      },
      "outputs": [],
      "source": []
    },
    {
      "cell_type": "markdown",
      "metadata": {
        "id": "JBp0NYjeYCaK"
      },
      "source": [
        "Let's see how the death rate and positive testing rates vary over time."
      ]
    },
    {
      "cell_type": "code",
      "execution_count": null,
      "metadata": {
        "id": "0B-ltY4HYCaK"
      },
      "outputs": [],
      "source": []
    },
    {
      "cell_type": "code",
      "execution_count": null,
      "metadata": {
        "id": "a9oIMv-pYCaK"
      },
      "outputs": [],
      "source": []
    },
    {
      "cell_type": "code",
      "execution_count": null,
      "metadata": {
        "id": "bipb7OveYCaL"
      },
      "outputs": [],
      "source": []
    },
    {
      "cell_type": "markdown",
      "metadata": {
        "id": "qvFU8I7OYCaL"
      },
      "source": [
        "Finally, let's plot some month-wise data using a bar chart to visualize the trend at a higher level."
      ]
    },
    {
      "cell_type": "code",
      "execution_count": null,
      "metadata": {
        "id": "AYISrW7AYCaL"
      },
      "outputs": [],
      "source": []
    },
    {
      "cell_type": "code",
      "execution_count": null,
      "metadata": {
        "id": "tKVlC446YCaL"
      },
      "outputs": [],
      "source": []
    },
    {
      "cell_type": "markdown",
      "metadata": {
        "id": "fyWNwHOuYCaL"
      },
      "source": [
        "Let's save and commit our work to Jovian."
      ]
    },
    {
      "cell_type": "code",
      "execution_count": null,
      "metadata": {
        "id": "dnyaFVv0YCaM"
      },
      "outputs": [],
      "source": []
    },
    {
      "cell_type": "code",
      "execution_count": null,
      "metadata": {
        "id": "YDQUM2YvYCaM"
      },
      "outputs": [],
      "source": []
    },
    {
      "cell_type": "markdown",
      "metadata": {
        "id": "WLXzlOQ_YCaM"
      },
      "source": [
        "## Exercises\n",
        "\n",
        "Try the following exercises to become familiar with Pandas dataframe and practice your skills:\n",
        "\n",
        "* Assignment on Pandas dataframes: https://jovian.ml/aakashns/pandas-practice-assignment\n",
        "* Additional exercises on Pandas: https://github.com/guipsamora/pandas_exercises\n",
        "* Try downloading and analyzing some data from Kaggle: https://www.kaggle.com/datasets\n",
        "\n"
      ]
    },
    {
      "cell_type": "markdown",
      "metadata": {
        "id": "lxT_aEZ0YCaQ"
      },
      "source": [
        "## Summary and Further Reading\n",
        "\n",
        "\n",
        "We've covered the following topics in this tutorial:\n",
        "\n",
        "- Reading a CSV file into a Pandas data frame\n",
        "- Retrieving data from Pandas data frames\n",
        "- Querying, soring, and analyzing data\n",
        "- Merging, grouping, and aggregation of data\n",
        "- Extracting useful information from dates\n",
        "- Basic plotting using line and bar charts\n",
        "- Writing data frames to CSV files\n",
        "\n",
        "\n",
        "Check out the following resources to learn more about Pandas:\n",
        "\n",
        "* User guide for Pandas: https://pandas.pydata.org/docs/user_guide/index.html\n",
        "* Python for Data Analysis (book by Wes McKinney - creator of Pandas): https://www.oreilly.com/library/view/python-for-data/9781491957653/\n",
        "\n",
        "You are ready to move on to the next tutorial: [Data Visualization using Matplotlib & Seaborn](https://jovian.ai/aakashns/python-matplotlib-data-visualization)."
      ]
    },
    {
      "cell_type": "markdown",
      "metadata": {
        "id": "GtdzP2olYCaR"
      },
      "source": [
        "## Questions for Revision\n",
        "\n",
        "Try answering the following questions to test your understanding of the topics covered in this notebook:\n",
        "\n",
        "1. What is Pandas? What makes it useful?\n",
        "2. How do you install the Pandas library?\n",
        "3. How do you import the `pandas` module?\n",
        "4. What is the common alias used while importing the `pandas` module?\n",
        "5. How do you read a CSV file using Pandas? Give an example?\n",
        "6. What are some other file formats you can read using Pandas? Illustrate with examples.\n",
        "7. What are Pandas dataframes?\n",
        "8. How are Pandas dataframes different from Numpy arrays?\n",
        "9. How do you find the number of rows and columns in a dataframe?\n",
        "10. How do you get the list of columns in a dataframe?\n",
        "11. What is the purpose of the `describe` method of a dataframe?\n",
        "12. How are the `info` and `describe` dataframe methods different?\n",
        "13. Is a Pandas dataframe conceptually similar to a list of dictionaries or a dictionary of lists? Explain with an example.\n",
        "14. What is a Pandas `Series`? How is it different from a Numpy array?\n",
        "15. How do you access a column from a dataframe?\n",
        "16. How do you access a row from a dataframe?\n",
        "17. How do you access an element at a specific row & column of a dataframe?\n",
        "18. How do you create a subset of a dataframe with a specific set of columns?\n",
        "19. How do you create a subset of a dataframe with a specific range of rows?\n",
        "20. Does changing a value within a dataframe affect other dataframes created using a subset of the rows or columns? Why is it so?\n",
        "21. How do you create a copy of a dataframe?\n",
        "22. Why should you avoid creating too many copies of a dataframe?\n",
        "23. How do you view the first few rows of a dataframe?\n",
        "24. How do you view the last few rows of a dataframe?\n",
        "25. How do you view a random selection of rows of a dataframe?\n",
        "26. What is the \"index\" in a dataframe? How is it useful?\n",
        "27. What does a `NaN` value in a Pandas dataframe represent?\n",
        "28. How is `Nan` different from `0`?\n",
        "29. How do you identify the first non-empty row in a Pandas series or column?\n",
        "30. What is the difference between `df.loc` and `df.at`?\n",
        "31. Where can you find a full list of methods supported by Pandas `DataFrame` and `Series` objects?\n",
        "32. How do you find the sum of numbers in a column of dataframe?\n",
        "33. How do you find the mean of numbers in a column of a dataframe?\n",
        "34. How do you find the number of non-empty numbers in a column of a dataframe?\n",
        "35. What is the result obtained by using a Pandas column in a boolean expression? Illustrate with an example.\n",
        "36. How do you select a subset of rows where a specific column's value meets a given condition? Illustrate with an example.\n",
        "37. What is the result of the expression `df[df.new_cases > 100]` ?\n",
        "38. How do you display all the rows of a pandas dataframe in a Jupyter cell output?\n",
        "39. What is the result obtained when you perform an arithmetic operation between two columns of a dataframe? Illustrate with an example.\n",
        "40. How do you add a new column to a dataframe by combining values from two existing columns? Illustrate with an example.\n",
        "41. How do you remove a column from a dataframe? Illustrate with an example.\n",
        "42. What is the purpose of the `inplace` argument in dataframe methods?\n",
        "43. How do you sort the rows of a dataframe based on the values in a particular column?\n",
        "44. How do you sort a pandas dataframe using values from multiple columns?\n",
        "45. How do you specify whether to sort by ascending or descending order while sorting a Pandas dataframe?\n",
        "46. How do you change a specific value within a dataframe?\n",
        "47. How do you convert a dataframe column to the `datetime` data type?\n",
        "48. What are the benefits of using the `datetime` data type instead of `object`?\n",
        "49. How do you extract different parts of a date column like the month, year, month, weekday, etc., into separate columns? Illustrate with an example.\n",
        "50. How do you aggregate multiple columns of a dataframe together?\n",
        "51. What is the purpose of the `groupby` method of a dataframe? Illustrate with an example.\n",
        "52. What are the different ways in which you can aggregate the groups created by `groupby`?\n",
        "53. What do you mean by a running or cumulative sum?\n",
        "54. How do you create a new column containing the running or cumulative sum of another column?\n",
        "55. What are other cumulative measures supported by Pandas dataframes?\n",
        "56. What does it mean to merge two dataframes? Give an example.\n",
        "57. How do you specify the columns that should be used for merging two dataframes?\n",
        "58. How do you write data from a Pandas dataframe into a CSV file? Give an example.\n",
        "59. What are some other file formats you can write to from a Pandas dataframe? Illustrate with examples.\n",
        "60. How do you create a line plot showing the values within a column of dataframe?\n",
        "61. How do you convert a column of a dataframe into its index?\n",
        "62. Can the index of a dataframe be non-numeric?\n",
        "63. What are the benefits of using a non-numeric dataframe? Illustrate with an example.\n",
        "64. How you create a bar plot showing the values within a column of a dataframe?\n",
        "65. What are some other types of plots supported by Pandas dataframes and series?\n"
      ]
    },
    {
      "cell_type": "code",
      "execution_count": null,
      "metadata": {
        "id": "CNqUogpkYCaS"
      },
      "outputs": [],
      "source": []
    }
  ],
  "metadata": {
    "kernelspec": {
      "display_name": "Python 3",
      "language": "python",
      "name": "python3"
    },
    "language_info": {
      "codemirror_mode": {
        "name": "ipython",
        "version": 3
      },
      "file_extension": ".py",
      "mimetype": "text/x-python",
      "name": "python",
      "nbconvert_exporter": "python",
      "pygments_lexer": "ipython3",
      "version": "3.8.6"
    },
    "colab": {
      "provenance": [],
      "include_colab_link": true
    }
  },
  "nbformat": 4,
  "nbformat_minor": 0
}