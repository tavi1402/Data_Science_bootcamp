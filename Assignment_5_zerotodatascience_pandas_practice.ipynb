{
  "cells": [
    {
      "cell_type": "markdown",
      "metadata": {
        "id": "view-in-github",
        "colab_type": "text"
      },
      "source": [
        "<a href=\"https://colab.research.google.com/github/tavi1402/Data_Science_bootcamp/blob/main/Assignment_5_zerotodatascience_pandas_practice.ipynb\" target=\"_parent\"><img src=\"https://colab.research.google.com/assets/colab-badge.svg\" alt=\"Open In Colab\"/></a>"
      ]
    },
    {
      "cell_type": "markdown",
      "metadata": {
        "id": "JY9ro2BLY6ft"
      },
      "source": [
        "# Assignment - Pandas Data Analysis Practice\n",
        "\n",
        "*This assignment is a part of the [\"Zero to Data Science Bootcamp by Jovian\"](https://zerotodatascience.com)*\n",
        "\n",
        "In this assignment, you'll get to practice some of the concepts and skills covered this tutorial: https://jovian.ml/aakashns/python-pandas-data-analysis\n",
        "\n",
        "As you go through this notebook, you will find the symbol **???** in certain places. To complete this assignment, you must replace all the **???** with appropriate values, expressions or statements to ensure that the notebook runs properly end-to-end.\n",
        "\n",
        "**Guidelines**\n",
        "\n",
        "1. Make sure to run all the code cells, otherwise you may get errors like `NameError` for undefined variables.\n",
        "2. Do not change variable names, delete cells or disturb other existing code. It may cause problems during evaluation.\n",
        "3. In some cases, you may need to add some code cells or new statements before or after the line of code containing the **???**.\n",
        "4. Since you'll be using a temporary online service for code execution, save your work by running `jovian.commit` at regular intervals.\n",
        "5. Questions marked **(Optional)** will not be considered for evaluation, and can be skipped. They are for your learning.\n",
        "6. If you are stuck, you can ask for help on the bootcamp Slack group. Post errors, ask for hints and help others, but **please don't share the full solution answer code on Slack** to give others a chance to write the code themselves.\n",
        "7. There are some tests included with this notebook to help you test your implementation. However, after submission your code will be tested with some hidden test cases. Make sure to test your code exhaustively to cover all edge cases.\n",
        "\n",
        "\n",
        "**Important Links**\n",
        "\n",
        "* Submit your work here: https://jovian.ai/learn/zero-to-data-analyst-bootcamp/assignment/pandas-data-analysis-practice/submit\n",
        "* Review Lesson: https://jovian.ai/learn/zero-to-data-analyst-bootcamp/lesson/3-2-analyzing-tabular-data-with-pandas\n",
        "* Additional exercises: https://github.com/guipsamora/pandas_exercises\n"
      ]
    },
    {
      "cell_type": "code",
      "source": [],
      "metadata": {
        "id": "Ar8dEMFWZHk6"
      },
      "execution_count": null,
      "outputs": []
    },
    {
      "cell_type": "markdown",
      "metadata": {
        "id": "bsM98e4AY6fy"
      },
      "source": [
        "### How to Run the Code and Save Your Work\n",
        "\n",
        "**Option 1: Running using free online resources (1-click, recommended)**: Click the **Run** button at the top of this page and select **Run on Binder**. You can also select \"Run on Colab\" or \"Run on Kaggle\", but you'll need to create an account on [Google Colab](https://colab.research.google.com) or [Kaggle](https://kaggle.com) to use these platforms.\n",
        "\n",
        "\n",
        "**Option 2: Running on your computer locally**: To run the code on your computer locally, you'll need to set up [Python](https://www.python.org) & [Conda](https://docs.conda.io/projects/conda/en/latest/user-guide/install/), download the notebook and install the required libraries. Click the **Run** button at the top of this page, select the **Run Locally** option, and follow the instructions.\n",
        "\n",
        "**Saving your work**: You can save a snapshot of the assignment to your [Jovian](https://jovian.ai) profile, so that you can access it later and continue your work. Keep saving your work by running `jovian.commit` from time to time."
      ]
    },
    {
      "cell_type": "code",
      "execution_count": null,
      "metadata": {
        "id": "8fFw5sOrY6fz"
      },
      "outputs": [],
      "source": [
        "# Run the next line to install Pandas\n",
        "!pip install pandas --upgrade --quiet"
      ]
    },
    {
      "cell_type": "code",
      "execution_count": null,
      "metadata": {
        "id": "zzwPf1e7Y6f0"
      },
      "outputs": [],
      "source": [
        "import pandas as pd"
      ]
    },
    {
      "cell_type": "markdown",
      "metadata": {
        "id": "G7xfxfZUY6f0"
      },
      "source": [
        "In this assignment, we're going to analyze an operate on data from a CSV file. Let's begin by downloading the CSV file."
      ]
    },
    {
      "cell_type": "code",
      "execution_count": null,
      "metadata": {
        "id": "ssQM831yY6f0",
        "outputId": "0b9c6ad9-abdc-4e4c-d03f-674e300c4a76"
      },
      "outputs": [
        {
          "data": {
            "text/plain": [
              "('countries.csv', <http.client.HTTPMessage at 0x7ff360370320>)"
            ]
          },
          "execution_count": 7,
          "metadata": {},
          "output_type": "execute_result"
        }
      ],
      "source": [
        "from urllib.request import urlretrieve\n",
        "\n",
        "data_url = 'https://gist.githubusercontent.com/aakashns/28b2e504b3350afd9bdb157893f9725c/raw/994b65665757f4f8887db1c85986a897abb23d84/countries.csv'\n",
        "\n",
        "urlretrieve(data_url, 'countries.csv')"
      ]
    },
    {
      "cell_type": "markdown",
      "metadata": {
        "id": "74dDJfRiY6f2"
      },
      "source": [
        "Let's load the data from the CSV file into a Pandas data frame."
      ]
    },
    {
      "cell_type": "code",
      "execution_count": null,
      "metadata": {
        "id": "Ngl0RMAuY6f3"
      },
      "outputs": [],
      "source": [
        "countries_df = pd.read_csv('countries.csv')"
      ]
    },
    {
      "cell_type": "code",
      "execution_count": null,
      "metadata": {
        "id": "-uvNeEpYY6f3",
        "outputId": "7f36a718-a9b2-4c19-aa6f-8b4e7b7806cc"
      },
      "outputs": [
        {
          "data": {
            "text/html": [
              "<div>\n",
              "<style scoped>\n",
              "    .dataframe tbody tr th:only-of-type {\n",
              "        vertical-align: middle;\n",
              "    }\n",
              "\n",
              "    .dataframe tbody tr th {\n",
              "        vertical-align: top;\n",
              "    }\n",
              "\n",
              "    .dataframe thead th {\n",
              "        text-align: right;\n",
              "    }\n",
              "</style>\n",
              "<table border=\"1\" class=\"dataframe\">\n",
              "  <thead>\n",
              "    <tr style=\"text-align: right;\">\n",
              "      <th></th>\n",
              "      <th>location</th>\n",
              "      <th>continent</th>\n",
              "      <th>population</th>\n",
              "      <th>life_expectancy</th>\n",
              "      <th>hospital_beds_per_thousand</th>\n",
              "      <th>gdp_per_capita</th>\n",
              "    </tr>\n",
              "  </thead>\n",
              "  <tbody>\n",
              "    <tr>\n",
              "      <th>0</th>\n",
              "      <td>Afghanistan</td>\n",
              "      <td>Asia</td>\n",
              "      <td>38928341.0</td>\n",
              "      <td>64.83</td>\n",
              "      <td>0.50</td>\n",
              "      <td>1803.987</td>\n",
              "    </tr>\n",
              "    <tr>\n",
              "      <th>1</th>\n",
              "      <td>Albania</td>\n",
              "      <td>Europe</td>\n",
              "      <td>2877800.0</td>\n",
              "      <td>78.57</td>\n",
              "      <td>2.89</td>\n",
              "      <td>11803.431</td>\n",
              "    </tr>\n",
              "    <tr>\n",
              "      <th>2</th>\n",
              "      <td>Algeria</td>\n",
              "      <td>Africa</td>\n",
              "      <td>43851043.0</td>\n",
              "      <td>76.88</td>\n",
              "      <td>1.90</td>\n",
              "      <td>13913.839</td>\n",
              "    </tr>\n",
              "    <tr>\n",
              "      <th>3</th>\n",
              "      <td>Andorra</td>\n",
              "      <td>Europe</td>\n",
              "      <td>77265.0</td>\n",
              "      <td>83.73</td>\n",
              "      <td>NaN</td>\n",
              "      <td>NaN</td>\n",
              "    </tr>\n",
              "    <tr>\n",
              "      <th>4</th>\n",
              "      <td>Angola</td>\n",
              "      <td>Africa</td>\n",
              "      <td>32866268.0</td>\n",
              "      <td>61.15</td>\n",
              "      <td>NaN</td>\n",
              "      <td>5819.495</td>\n",
              "    </tr>\n",
              "    <tr>\n",
              "      <th>...</th>\n",
              "      <td>...</td>\n",
              "      <td>...</td>\n",
              "      <td>...</td>\n",
              "      <td>...</td>\n",
              "      <td>...</td>\n",
              "      <td>...</td>\n",
              "    </tr>\n",
              "    <tr>\n",
              "      <th>205</th>\n",
              "      <td>Vietnam</td>\n",
              "      <td>Asia</td>\n",
              "      <td>97338583.0</td>\n",
              "      <td>75.40</td>\n",
              "      <td>2.60</td>\n",
              "      <td>6171.884</td>\n",
              "    </tr>\n",
              "    <tr>\n",
              "      <th>206</th>\n",
              "      <td>Western Sahara</td>\n",
              "      <td>Africa</td>\n",
              "      <td>597330.0</td>\n",
              "      <td>70.26</td>\n",
              "      <td>NaN</td>\n",
              "      <td>NaN</td>\n",
              "    </tr>\n",
              "    <tr>\n",
              "      <th>207</th>\n",
              "      <td>Yemen</td>\n",
              "      <td>Asia</td>\n",
              "      <td>29825968.0</td>\n",
              "      <td>66.12</td>\n",
              "      <td>0.70</td>\n",
              "      <td>1479.147</td>\n",
              "    </tr>\n",
              "    <tr>\n",
              "      <th>208</th>\n",
              "      <td>Zambia</td>\n",
              "      <td>Africa</td>\n",
              "      <td>18383956.0</td>\n",
              "      <td>63.89</td>\n",
              "      <td>2.00</td>\n",
              "      <td>3689.251</td>\n",
              "    </tr>\n",
              "    <tr>\n",
              "      <th>209</th>\n",
              "      <td>Zimbabwe</td>\n",
              "      <td>Africa</td>\n",
              "      <td>14862927.0</td>\n",
              "      <td>61.49</td>\n",
              "      <td>1.70</td>\n",
              "      <td>1899.775</td>\n",
              "    </tr>\n",
              "  </tbody>\n",
              "</table>\n",
              "<p>210 rows × 6 columns</p>\n",
              "</div>"
            ],
            "text/plain": [
              "           location continent  population  life_expectancy  \\\n",
              "0       Afghanistan      Asia  38928341.0            64.83   \n",
              "1           Albania    Europe   2877800.0            78.57   \n",
              "2           Algeria    Africa  43851043.0            76.88   \n",
              "3           Andorra    Europe     77265.0            83.73   \n",
              "4            Angola    Africa  32866268.0            61.15   \n",
              "..              ...       ...         ...              ...   \n",
              "205         Vietnam      Asia  97338583.0            75.40   \n",
              "206  Western Sahara    Africa    597330.0            70.26   \n",
              "207           Yemen      Asia  29825968.0            66.12   \n",
              "208          Zambia    Africa  18383956.0            63.89   \n",
              "209        Zimbabwe    Africa  14862927.0            61.49   \n",
              "\n",
              "     hospital_beds_per_thousand  gdp_per_capita  \n",
              "0                          0.50        1803.987  \n",
              "1                          2.89       11803.431  \n",
              "2                          1.90       13913.839  \n",
              "3                           NaN             NaN  \n",
              "4                           NaN        5819.495  \n",
              "..                          ...             ...  \n",
              "205                        2.60        6171.884  \n",
              "206                         NaN             NaN  \n",
              "207                        0.70        1479.147  \n",
              "208                        2.00        3689.251  \n",
              "209                        1.70        1899.775  \n",
              "\n",
              "[210 rows x 6 columns]"
            ]
          },
          "execution_count": 9,
          "metadata": {},
          "output_type": "execute_result"
        }
      ],
      "source": [
        "countries_df"
      ]
    },
    {
      "cell_type": "markdown",
      "metadata": {
        "id": "WfYpiKMcY6f3"
      },
      "source": [
        "**Q1: How many countries does the dataframe contain?**\n",
        "\n",
        "Hint: Use the `.shape` method."
      ]
    },
    {
      "cell_type": "code",
      "execution_count": null,
      "metadata": {
        "id": "ovL64wLAY6f4"
      },
      "outputs": [],
      "source": [
        "num_countries = ???"
      ]
    },
    {
      "cell_type": "code",
      "execution_count": null,
      "metadata": {
        "id": "_YJ-_UzRY6f4"
      },
      "outputs": [],
      "source": [
        "print('There are {} countries in the dataset'.format(num_countries))"
      ]
    },
    {
      "cell_type": "markdown",
      "metadata": {
        "id": "4tL2lAYcY6f4"
      },
      "source": [
        "**Q2: Retrieve a list of continents from the dataframe?**\n",
        "\n",
        "*Hint: Use the `.unique` method of a series.*"
      ]
    },
    {
      "cell_type": "code",
      "execution_count": null,
      "metadata": {
        "id": "xEngiZHpY6f4"
      },
      "outputs": [],
      "source": [
        "continents = ???"
      ]
    },
    {
      "cell_type": "code",
      "execution_count": null,
      "metadata": {
        "id": "30oYG8lfY6f4"
      },
      "outputs": [],
      "source": [
        "continents"
      ]
    },
    {
      "cell_type": "markdown",
      "metadata": {
        "id": "lRx18CphY6f4"
      },
      "source": [
        "**Q3: What is the total population of all the countries listed in this dataset?**"
      ]
    },
    {
      "cell_type": "code",
      "execution_count": null,
      "metadata": {
        "id": "GkE_3AviY6f4"
      },
      "outputs": [],
      "source": [
        "total_population = ???"
      ]
    },
    {
      "cell_type": "code",
      "execution_count": null,
      "metadata": {
        "id": "JE6nTEr8Y6f4"
      },
      "outputs": [],
      "source": [
        "print('The total population is {}.'.format(int(total_population)))"
      ]
    },
    {
      "cell_type": "markdown",
      "metadata": {
        "id": "jp5_3Ur8Y6f4"
      },
      "source": [
        "**Q: (Optional) What is the overall life expectancy across in the world?**\n",
        "\n",
        "*Hint: You'll need to take a weighted average of life expectancy using populations as weights.*"
      ]
    },
    {
      "cell_type": "code",
      "execution_count": null,
      "metadata": {
        "id": "YiKHD3EKY6f5"
      },
      "outputs": [],
      "source": []
    },
    {
      "cell_type": "code",
      "execution_count": null,
      "metadata": {
        "id": "UXuKd6OYY6f5"
      },
      "outputs": [],
      "source": []
    },
    {
      "cell_type": "markdown",
      "metadata": {
        "id": "aRA_0kC5Y6f5"
      },
      "source": [
        "**Q4: Create a dataframe containing 10 countries with the highest population.**\n",
        "\n",
        "*Hint: Chain the `sort_values` and `head` methods.*"
      ]
    },
    {
      "cell_type": "code",
      "execution_count": null,
      "metadata": {
        "id": "BRJFn43BY6f5"
      },
      "outputs": [],
      "source": [
        "most_populous_df = ???"
      ]
    },
    {
      "cell_type": "code",
      "execution_count": null,
      "metadata": {
        "id": "_AXYSfKHY6f5"
      },
      "outputs": [],
      "source": [
        "most_populous_df"
      ]
    },
    {
      "cell_type": "markdown",
      "metadata": {
        "id": "75S460R3Y6f5"
      },
      "source": [
        "**Q5: Add a new column in `countries_df` to record the overall GDP per country (product of population & per capita GDP).**\n",
        "\n"
      ]
    },
    {
      "cell_type": "code",
      "execution_count": null,
      "metadata": {
        "id": "KvWdQoiGY6f5"
      },
      "outputs": [],
      "source": [
        "countries_df['gdp'] = ???"
      ]
    },
    {
      "cell_type": "code",
      "execution_count": null,
      "metadata": {
        "id": "j2vKAVVkY6f5"
      },
      "outputs": [],
      "source": [
        "countries_df"
      ]
    },
    {
      "cell_type": "markdown",
      "metadata": {
        "id": "U-p77HHSY6f5"
      },
      "source": [
        "**Q: (Optional) Create a dataframe containing 10 countries with the lowest GDP per capita, among the counties with population greater than 100 million.**"
      ]
    },
    {
      "cell_type": "code",
      "execution_count": null,
      "metadata": {
        "id": "k5JrEOihY6f5"
      },
      "outputs": [],
      "source": []
    },
    {
      "cell_type": "code",
      "execution_count": null,
      "metadata": {
        "id": "_Km6r-9gY6f5"
      },
      "outputs": [],
      "source": []
    },
    {
      "cell_type": "markdown",
      "metadata": {
        "id": "b6sSz2x0Y6f5"
      },
      "source": [
        "**Q6: Create a data frame that counts the number countries in each continent?**\n",
        "\n",
        "*Hint: Use `groupby`, select the `location` column and aggregate using `count`.*"
      ]
    },
    {
      "cell_type": "code",
      "execution_count": null,
      "metadata": {
        "id": "2XC7DD_RY6f5"
      },
      "outputs": [],
      "source": [
        "country_counts_df = ???"
      ]
    },
    {
      "cell_type": "code",
      "execution_count": null,
      "metadata": {
        "id": "iJoukpZ-Y6f5"
      },
      "outputs": [],
      "source": [
        "country_counts_df"
      ]
    },
    {
      "cell_type": "markdown",
      "metadata": {
        "id": "DQmowo3HY6f5"
      },
      "source": [
        "**Q7: Create a data frame showing the total population of each continent.**\n",
        "\n",
        "*Hint: Use `groupby`, select the population column and aggregate using `sum`.*"
      ]
    },
    {
      "cell_type": "code",
      "execution_count": null,
      "metadata": {
        "id": "aVAnN4R_Y6f5"
      },
      "outputs": [],
      "source": [
        "continent_populations_df = ???"
      ]
    },
    {
      "cell_type": "code",
      "execution_count": null,
      "metadata": {
        "id": "ovqALEFjY6f5"
      },
      "outputs": [],
      "source": [
        "continent_populations_df"
      ]
    },
    {
      "cell_type": "markdown",
      "metadata": {
        "id": "Ks6QB3NPY6f6"
      },
      "source": [
        "Let's download another CSV file containing overall Covid-19 stats for various countires, and read the data into another Pandas data frame."
      ]
    },
    {
      "cell_type": "code",
      "execution_count": null,
      "metadata": {
        "id": "4x_dRDw0Y6f6",
        "outputId": "b6e110a4-faa2-4a45-dd7c-2faa59687d7d"
      },
      "outputs": [
        {
          "data": {
            "text/plain": [
              "('covid-countries-data.csv', <http.client.HTTPMessage at 0x7ff36038a390>)"
            ]
          },
          "execution_count": 19,
          "metadata": {},
          "output_type": "execute_result"
        }
      ],
      "source": [
        "covid_data_url = 'https://gist.githubusercontent.com/aakashns/b2a968a6cfd9fbbb0ff3d6bd0f26262b/raw/b115ed1dfa17f10fc88bf966236cd4d9032f1df8/covid-countries-data.csv'\n",
        "\n",
        "urlretrieve(covid_data_url, 'covid-countries-data.csv')"
      ]
    },
    {
      "cell_type": "code",
      "execution_count": null,
      "metadata": {
        "id": "4p2i2lMxY6f6"
      },
      "outputs": [],
      "source": [
        "covid_data_df = pd.read_csv('covid-countries-data.csv')"
      ]
    },
    {
      "cell_type": "code",
      "execution_count": null,
      "metadata": {
        "scrolled": true,
        "id": "2n3HMm3GY6f9",
        "outputId": "3511101f-1a7d-4260-c4fe-1fd62d50ec29"
      },
      "outputs": [
        {
          "data": {
            "text/html": [
              "<div>\n",
              "<style scoped>\n",
              "    .dataframe tbody tr th:only-of-type {\n",
              "        vertical-align: middle;\n",
              "    }\n",
              "\n",
              "    .dataframe tbody tr th {\n",
              "        vertical-align: top;\n",
              "    }\n",
              "\n",
              "    .dataframe thead th {\n",
              "        text-align: right;\n",
              "    }\n",
              "</style>\n",
              "<table border=\"1\" class=\"dataframe\">\n",
              "  <thead>\n",
              "    <tr style=\"text-align: right;\">\n",
              "      <th></th>\n",
              "      <th>location</th>\n",
              "      <th>total_cases</th>\n",
              "      <th>total_deaths</th>\n",
              "      <th>total_tests</th>\n",
              "    </tr>\n",
              "  </thead>\n",
              "  <tbody>\n",
              "    <tr>\n",
              "      <th>0</th>\n",
              "      <td>Afghanistan</td>\n",
              "      <td>38243.0</td>\n",
              "      <td>1409.0</td>\n",
              "      <td>NaN</td>\n",
              "    </tr>\n",
              "    <tr>\n",
              "      <th>1</th>\n",
              "      <td>Albania</td>\n",
              "      <td>9728.0</td>\n",
              "      <td>296.0</td>\n",
              "      <td>NaN</td>\n",
              "    </tr>\n",
              "    <tr>\n",
              "      <th>2</th>\n",
              "      <td>Algeria</td>\n",
              "      <td>45158.0</td>\n",
              "      <td>1525.0</td>\n",
              "      <td>NaN</td>\n",
              "    </tr>\n",
              "    <tr>\n",
              "      <th>3</th>\n",
              "      <td>Andorra</td>\n",
              "      <td>1199.0</td>\n",
              "      <td>53.0</td>\n",
              "      <td>NaN</td>\n",
              "    </tr>\n",
              "    <tr>\n",
              "      <th>4</th>\n",
              "      <td>Angola</td>\n",
              "      <td>2729.0</td>\n",
              "      <td>109.0</td>\n",
              "      <td>NaN</td>\n",
              "    </tr>\n",
              "    <tr>\n",
              "      <th>...</th>\n",
              "      <td>...</td>\n",
              "      <td>...</td>\n",
              "      <td>...</td>\n",
              "      <td>...</td>\n",
              "    </tr>\n",
              "    <tr>\n",
              "      <th>207</th>\n",
              "      <td>Western Sahara</td>\n",
              "      <td>766.0</td>\n",
              "      <td>1.0</td>\n",
              "      <td>NaN</td>\n",
              "    </tr>\n",
              "    <tr>\n",
              "      <th>208</th>\n",
              "      <td>World</td>\n",
              "      <td>26059065.0</td>\n",
              "      <td>863535.0</td>\n",
              "      <td>NaN</td>\n",
              "    </tr>\n",
              "    <tr>\n",
              "      <th>209</th>\n",
              "      <td>Yemen</td>\n",
              "      <td>1976.0</td>\n",
              "      <td>571.0</td>\n",
              "      <td>NaN</td>\n",
              "    </tr>\n",
              "    <tr>\n",
              "      <th>210</th>\n",
              "      <td>Zambia</td>\n",
              "      <td>12415.0</td>\n",
              "      <td>292.0</td>\n",
              "      <td>NaN</td>\n",
              "    </tr>\n",
              "    <tr>\n",
              "      <th>211</th>\n",
              "      <td>Zimbabwe</td>\n",
              "      <td>6638.0</td>\n",
              "      <td>206.0</td>\n",
              "      <td>97272.0</td>\n",
              "    </tr>\n",
              "  </tbody>\n",
              "</table>\n",
              "<p>212 rows × 4 columns</p>\n",
              "</div>"
            ],
            "text/plain": [
              "           location  total_cases  total_deaths  total_tests\n",
              "0       Afghanistan      38243.0        1409.0          NaN\n",
              "1           Albania       9728.0         296.0          NaN\n",
              "2           Algeria      45158.0        1525.0          NaN\n",
              "3           Andorra       1199.0          53.0          NaN\n",
              "4            Angola       2729.0         109.0          NaN\n",
              "..              ...          ...           ...          ...\n",
              "207  Western Sahara        766.0           1.0          NaN\n",
              "208           World   26059065.0      863535.0          NaN\n",
              "209           Yemen       1976.0         571.0          NaN\n",
              "210          Zambia      12415.0         292.0          NaN\n",
              "211        Zimbabwe       6638.0         206.0      97272.0\n",
              "\n",
              "[212 rows x 4 columns]"
            ]
          },
          "execution_count": 21,
          "metadata": {},
          "output_type": "execute_result"
        }
      ],
      "source": [
        "covid_data_df"
      ]
    },
    {
      "cell_type": "markdown",
      "metadata": {
        "id": "mS_dVKHWY6f9"
      },
      "source": [
        "**Q8: Count the number of countries for which the `total_tests` data is missing.**\n",
        "\n",
        "*Hint: Use the `.isna` method.*"
      ]
    },
    {
      "cell_type": "code",
      "execution_count": null,
      "metadata": {
        "id": "lPaRUuYrY6f9"
      },
      "outputs": [],
      "source": [
        "total_tests_missing = ???"
      ]
    },
    {
      "cell_type": "code",
      "execution_count": null,
      "metadata": {
        "id": "LmfmqdEJY6f9"
      },
      "outputs": [],
      "source": [
        "print(\"The data for total tests is missing for {} countries.\".format(int(total_tests_missing)))"
      ]
    },
    {
      "cell_type": "markdown",
      "metadata": {
        "id": "4xI4s3Q2Y6f-"
      },
      "source": [
        "Let's merge the two data frames, and compute some more metrics.\n",
        "\n",
        "**Q9: Merge `countries_df` with `covid_data_df` on the `location` column.**\n",
        "\n",
        "*Hint: Use the `.merge` method on `countries_df`."
      ]
    },
    {
      "cell_type": "code",
      "execution_count": null,
      "metadata": {
        "id": "fp_B3wdZY6f-"
      },
      "outputs": [],
      "source": [
        "combined_df = ???"
      ]
    },
    {
      "cell_type": "code",
      "execution_count": null,
      "metadata": {
        "id": "VHdXsR4ZY6f-"
      },
      "outputs": [],
      "source": [
        "combined_df"
      ]
    },
    {
      "cell_type": "markdown",
      "metadata": {
        "id": "G4ErGjTuY6f-"
      },
      "source": [
        "**Q10: Add columns `tests_per_million`, `cases_per_million` and `deaths_per_million` into `combined_df`.**"
      ]
    },
    {
      "cell_type": "code",
      "execution_count": null,
      "metadata": {
        "id": "Qa2rxd0qY6f-"
      },
      "outputs": [],
      "source": [
        "combined_df['tests_per_million'] = combined_df['total_tests'] * 1e6 / combined_df['population']"
      ]
    },
    {
      "cell_type": "code",
      "execution_count": null,
      "metadata": {
        "id": "uU_sFSMzY6f-"
      },
      "outputs": [],
      "source": [
        "combined_df['cases_per_million'] = ???"
      ]
    },
    {
      "cell_type": "code",
      "execution_count": null,
      "metadata": {
        "id": "fkAUa0zYY6f-"
      },
      "outputs": [],
      "source": [
        "combined_df['deaths_per_million'] = ???"
      ]
    },
    {
      "cell_type": "code",
      "execution_count": null,
      "metadata": {
        "id": "PHkhctolY6f-"
      },
      "outputs": [],
      "source": [
        "combined_df"
      ]
    },
    {
      "cell_type": "markdown",
      "metadata": {
        "id": "3FLiBXaSY6f-"
      },
      "source": [
        "**Q11: Create a dataframe with 10 countires that have highest number of tests per million people.**"
      ]
    },
    {
      "cell_type": "code",
      "execution_count": null,
      "metadata": {
        "id": "Xsjows9YY6f-"
      },
      "outputs": [],
      "source": [
        "highest_tests_df = ???"
      ]
    },
    {
      "cell_type": "code",
      "execution_count": null,
      "metadata": {
        "id": "TUgQ--0KY6f-"
      },
      "outputs": [],
      "source": [
        "highest_tests_df"
      ]
    },
    {
      "cell_type": "markdown",
      "metadata": {
        "id": "vZ6g6g3JY6f-"
      },
      "source": [
        "**Q12: Create a dataframe with 10 countires that have highest number of positive cases per million people.**"
      ]
    },
    {
      "cell_type": "code",
      "execution_count": null,
      "metadata": {
        "id": "YDVYJSliY6f-"
      },
      "outputs": [],
      "source": [
        "highest_cases_df = ???"
      ]
    },
    {
      "cell_type": "code",
      "execution_count": null,
      "metadata": {
        "id": "hqXwzZ0hY6f-"
      },
      "outputs": [],
      "source": [
        "highest_cases_df"
      ]
    },
    {
      "cell_type": "markdown",
      "metadata": {
        "id": "ojOkZBjGY6f_"
      },
      "source": [
        "**Q13: Create a dataframe with 10 countires that have highest number of deaths cases per million people?**"
      ]
    },
    {
      "cell_type": "code",
      "execution_count": null,
      "metadata": {
        "id": "fzzSzL9BY6f_"
      },
      "outputs": [],
      "source": [
        "highest_deaths_df = ???"
      ]
    },
    {
      "cell_type": "code",
      "execution_count": null,
      "metadata": {
        "id": "PvIE9EZJY6f_"
      },
      "outputs": [],
      "source": [
        "highest_deaths_df"
      ]
    },
    {
      "cell_type": "markdown",
      "metadata": {
        "id": "iqTGqtBhY6f_"
      },
      "source": [
        "**(Optional) Q: Count number of countries that feature in both the lists of \"highest number of tests per million\" and \"highest number of cases per million\".**"
      ]
    },
    {
      "cell_type": "code",
      "execution_count": null,
      "metadata": {
        "id": "8s6LU1RBY6f_"
      },
      "outputs": [],
      "source": []
    },
    {
      "cell_type": "code",
      "execution_count": null,
      "metadata": {
        "id": "SJAb5g7VY6f_"
      },
      "outputs": [],
      "source": []
    },
    {
      "cell_type": "markdown",
      "metadata": {
        "id": "1PWFMBesY6f_"
      },
      "source": [
        "**(Optional) Q: Count number of countries that feature in both the lists \"20 countries with lowest GDP per capita\" and \"20 countries with the lowest number of hospital beds per thousand population\". Only consider countries with a population higher than 10 million while creating the list.**"
      ]
    },
    {
      "cell_type": "code",
      "execution_count": null,
      "metadata": {
        "id": "U1QirVQaY6f_"
      },
      "outputs": [],
      "source": []
    },
    {
      "cell_type": "code",
      "execution_count": null,
      "metadata": {
        "id": "rzXeCEnPY6f_"
      },
      "outputs": [],
      "source": []
    },
    {
      "cell_type": "markdown",
      "metadata": {
        "id": "-Dm-zqTKY6f_"
      },
      "source": [
        "## LeetCode Problems"
      ]
    },
    {
      "cell_type": "markdown",
      "metadata": {
        "id": "YUMp2xGkY6f_"
      },
      "source": [
        "### [Problem 482](https://leetcode.com/problems/license-key-formatting/) - License Key Formatting"
      ]
    },
    {
      "cell_type": "markdown",
      "metadata": {
        "id": "BBbmgmqfY6f_"
      },
      "source": [
        "You are given a license key represented as a string s that consists of only alphanumeric characters and dashes. The string is separated into n + 1 groups by n dashes. You are also given an integer k.\n",
        "\n",
        "We want to reformat the string s such that each group contains exactly k characters, except for the first group, which could be shorter than k but still must contain at least one character. Furthermore, there must be a dash inserted between two groups, and you should convert all lowercase letters to uppercase.\n",
        "\n",
        "Return the reformatted license key."
      ]
    },
    {
      "cell_type": "markdown",
      "metadata": {
        "id": "DYfToc-IY6f_"
      },
      "source": [
        "**Example 1:**\n",
        "```\n",
        "Input: s = \"5F3Z-2e-9-w\", k = 4\n",
        "\n",
        "Output: \"5F3Z-2E9W\"\n",
        "\n",
        "Explanation:  The string s has been split into two parts, each part has 4 characters.\n",
        "Note that the two extra dashes are not needed and can be removed.\n",
        "```\n",
        "\n",
        "\n",
        "\n",
        "\n",
        "\n"
      ]
    },
    {
      "cell_type": "markdown",
      "metadata": {
        "id": "0YuilnyCY6f_"
      },
      "source": [
        "**Example 2:**\n",
        "```\n",
        "Input: s = \"2-5g-3-J\", k = 2\n",
        "\n",
        "Output: \"2-5G-3J\"\n",
        "\n",
        "Explanation:  The string s has been split into three parts, each part has 2 characters\n",
        "except the first part as it could be shorter as mentioned above.\n",
        "```\n",
        "\n",
        "\n"
      ]
    },
    {
      "cell_type": "markdown",
      "metadata": {
        "id": "THaVh8E5Y6f_"
      },
      "source": [
        "\n",
        "**Constraints:**\n",
        "```\n",
        "1 <= s.length <= 105\n",
        "s consists of English letters, digits, and dashes '-'.\n",
        "1 <= k <= 104\n",
        "```"
      ]
    },
    {
      "cell_type": "code",
      "execution_count": null,
      "metadata": {
        "id": "I3FmCh8CY6gA"
      },
      "outputs": [],
      "source": [
        "def licenseKeyFormatting(s, k):\n",
        "    ???"
      ]
    },
    {
      "cell_type": "code",
      "execution_count": null,
      "metadata": {
        "id": "CW76EC9AY6gA"
      },
      "outputs": [],
      "source": [
        "# This should return TRUE\n",
        "licenseKeyFormatting(\"5F3Z-2e-9-w\", 4) == \"5F3Z-2E9W\""
      ]
    },
    {
      "cell_type": "code",
      "execution_count": null,
      "metadata": {
        "id": "U09sIYNNY6gA"
      },
      "outputs": [],
      "source": [
        "# This should return TRUE\n",
        "licenseKeyFormatting(\"2-5g-3-J\", 2) == \"2-5G-3J\""
      ]
    },
    {
      "cell_type": "markdown",
      "metadata": {
        "id": "C--C0xKcY6gA"
      },
      "source": [
        "### [Problem 383](https://leetcode.com/problems/ransom-note/) - Ransom Note\n",
        "\n",
        "Given two strings `ransomNote` and `magazine`, return `true` if `ransomNote` can be constructed by using the letters from `magazine` and `false` otherwise.\n",
        "\n",
        "Each letter in `magazine` can only be used once in `ransomNote`."
      ]
    },
    {
      "cell_type": "markdown",
      "metadata": {
        "id": "xQSn3EB7Y6gA"
      },
      "source": [
        "**Example 1:**\n",
        "```\n",
        "Input: ransomNote = \"a\", magazine = \"b\"\n",
        "Output: false\n",
        "```\n",
        "\n",
        "**Example 2:**\n",
        "```\n",
        "Input: ransomNote = \"aa\", magazine = \"ab\"\n",
        "Output: false\n",
        "```\n",
        "\n",
        "**Example 3:**\n",
        "```\n",
        "Input: ransomNote = \"aa\", magazine = \"aab\"\n",
        "Output: true\n",
        "```\n",
        "\n",
        "**Constraints:**\n",
        "```\n",
        "1 <= ransomNote.length, magazine.length <= 105\n",
        "ransomNote and magazine consist of lowercase English letters.\n",
        "```"
      ]
    },
    {
      "cell_type": "code",
      "execution_count": null,
      "metadata": {
        "id": "mP7dIevcY6gA"
      },
      "outputs": [],
      "source": [
        "def canConstruct(ransomNote, magazine):\n",
        "    ???"
      ]
    },
    {
      "cell_type": "code",
      "execution_count": null,
      "metadata": {
        "id": "IqM1aghMY6gA"
      },
      "outputs": [],
      "source": [
        "# This should return \"True\"\n",
        "canConstruct(\"a\", \"b\") == False"
      ]
    },
    {
      "cell_type": "code",
      "execution_count": null,
      "metadata": {
        "id": "nN2gIBaeY6gA"
      },
      "outputs": [],
      "source": [
        "# This should return \"True\"\n",
        "canConstruct(\"aa\", \"ab\") == False"
      ]
    },
    {
      "cell_type": "code",
      "execution_count": null,
      "metadata": {
        "id": "vibTFHTOY6gA"
      },
      "outputs": [],
      "source": [
        "# This should return \"True\"\n",
        "canConstruct(\"aa\", \"aab\") == True"
      ]
    }
  ],
  "metadata": {
    "kernelspec": {
      "display_name": "Python 3 (ipykernel)",
      "language": "python",
      "name": "python3"
    },
    "language_info": {
      "codemirror_mode": {
        "name": "ipython",
        "version": 3
      },
      "file_extension": ".py",
      "mimetype": "text/x-python",
      "name": "python",
      "nbconvert_exporter": "python",
      "pygments_lexer": "ipython3",
      "version": "3.9.7"
    },
    "colab": {
      "provenance": [],
      "include_colab_link": true
    }
  },
  "nbformat": 4,
  "nbformat_minor": 0
}