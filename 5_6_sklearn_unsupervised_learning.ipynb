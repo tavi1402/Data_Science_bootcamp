{
  "cells": [
    {
      "cell_type": "markdown",
      "metadata": {
        "id": "view-in-github",
        "colab_type": "text"
      },
      "source": [
        "<a href=\"https://colab.research.google.com/github/tavi1402/Data_Science_bootcamp/blob/main/5_6_sklearn_unsupervised_learning.ipynb\" target=\"_parent\"><img src=\"https://colab.research.google.com/assets/colab-badge.svg\" alt=\"Open In Colab\"/></a>"
      ]
    },
    {
      "cell_type": "markdown",
      "id": "authentic-array",
      "metadata": {
        "id": "authentic-array"
      },
      "source": [
        "# Unsupervised Learning using Scikit Learn\n",
        "\n",
        "\n",
        "![](https://i.imgur.com/eyfi64y.png)"
      ]
    },
    {
      "cell_type": "markdown",
      "id": "limiting-darwin",
      "metadata": {
        "id": "limiting-darwin"
      },
      "source": [
        "The following topics are covered in this tutorial:\n",
        "\n",
        "- Overview of unsupervised learning algorithms in Scikit-learn\n",
        "- Clustering algorithms: K Means, DBScan, Hierarchical clustering etc.\n",
        "- Dimensionality reduction (PCA) and manifold learning (t-SNE)\n"
      ]
    },
    {
      "cell_type": "markdown",
      "id": "right-waters",
      "metadata": {
        "id": "right-waters"
      },
      "source": [
        "### How to run the code\n",
        "\n",
        "This tutorial is an executable [Jupyter notebook](https://jupyter.org) hosted on [Jovian](https://www.jovian.ai). You can _run_ this tutorial and experiment with the code examples in a couple of ways: *using free online resources* (recommended) or *on your computer*.\n",
        "\n",
        "#### Option 1: Running using free online resources (1-click, recommended)\n",
        "\n",
        "The easiest way to start executing the code is to click the **Run** button at the top of this page and select **Run on Binder**. You can also select \"Run on Colab\" or \"Run on Kaggle\", but you'll need to create an account on [Google Colab](https://colab.research.google.com) or [Kaggle](https://kaggle.com) to use these platforms.\n",
        "\n",
        "\n",
        "#### Option 2: Running on your computer locally\n",
        "\n",
        "To run the code on your computer locally, you'll need to set up [Python](https://www.python.org), download the notebook and install the required libraries. We recommend using the [Conda](https://docs.conda.io/projects/conda/en/latest/user-guide/install/) distribution of Python. Click the **Run** button at the top of this page, select the **Run Locally** option, and follow the instructions.\n",
        "\n",
        ">  **Jupyter Notebooks**: This tutorial is a [Jupyter notebook](https://jupyter.org) - a document made of _cells_. Each cell can contain code written in Python or explanations in plain English. You can execute code cells and view the results, e.g., numbers, messages, graphs, tables, files, etc., instantly within the notebook. Jupyter is a powerful platform for experimentation and analysis. Don't be afraid to mess around with the code & break things - you'll learn a lot by encountering and fixing errors. You can use the \"Kernel > Restart & Clear Output\" menu option to clear all outputs and start again from the top."
      ]
    },
    {
      "cell_type": "markdown",
      "id": "prepared-handling",
      "metadata": {
        "id": "prepared-handling"
      },
      "source": [
        "Let's install the required libraries."
      ]
    },
    {
      "cell_type": "code",
      "execution_count": null,
      "id": "laden-romance",
      "metadata": {
        "id": "laden-romance"
      },
      "outputs": [],
      "source": []
    },
    {
      "cell_type": "code",
      "execution_count": null,
      "id": "correct-color",
      "metadata": {
        "id": "correct-color"
      },
      "outputs": [],
      "source": []
    },
    {
      "cell_type": "markdown",
      "id": "nominated-loading",
      "metadata": {
        "id": "nominated-loading"
      },
      "source": [
        "## Introduction to Unsupervised Learning\n",
        "\n",
        "Unsupervised machine learning refers to the category of machine learning techniques where models are trained on a dataset without labels. Unsupervised learning is generally use to discover patterns in data and reduce high-dimensional data to fewer dimensions. Here's how unsupervised learning fits into the landscape of machine learning algorithms([source](https://medium.datadriveninvestor.com/machine-learning-in-10-minutes-354d83e5922e)):\n",
        "\n",
        "<img src=\"https://miro.medium.com/max/842/1*tlQwBmbL6RkuuFq8OPJofw.png\" width=\"640\">"
      ]
    },
    {
      "cell_type": "markdown",
      "id": "authorized-assist",
      "metadata": {
        "id": "authorized-assist"
      },
      "source": [
        "Here are the topics in machine learning that we're studying in this course ([source](https://vas3k.com/blog/machine_learning/)):\n",
        "\n",
        "<img src=\"https://i.imgur.com/VbVFAsg.png\" width=\"640\">\n"
      ]
    },
    {
      "cell_type": "markdown",
      "id": "abandoned-worst",
      "metadata": {
        "id": "abandoned-worst"
      },
      "source": [
        "Scikit-learn offers the following cheatsheet to decide which model to pick for a given problem. Can you identify the unsupervised learning algorithms?\n",
        "\n",
        "![](https://scikit-learn.org/stable/_static/ml_map.png)\n",
        "\n",
        "Here is a full list of unsupervised learning algorithms available in Scikit-learn: https://scikit-learn.org/stable/unsupervised_learning.html"
      ]
    },
    {
      "cell_type": "markdown",
      "id": "labeled-desert",
      "metadata": {
        "id": "labeled-desert"
      },
      "source": [
        "## Clustering\n",
        "\n",
        "Clustering is the process of grouping objects from a dataset such that objects in the same group (called a cluster) are more similar (in some sense) to each other than to those in other groups ([Wikipedia](https://en.wikipedia.org/wiki/Cluster_analysis)). Scikit-learn offers several clustering algorithms. You can learn more about them here: https://scikit-learn.org/stable/modules/clustering.html\n"
      ]
    },
    {
      "cell_type": "markdown",
      "id": "legal-replica",
      "metadata": {
        "id": "legal-replica"
      },
      "source": [
        "Here is a visual representation of clustering:\n",
        "\n",
        "<img src=\"https://i.imgur.com/VXPgw6H.png\" width=\"400\">\n",
        "\n"
      ]
    },
    {
      "cell_type": "markdown",
      "id": "going-adjustment",
      "metadata": {
        "id": "going-adjustment"
      },
      "source": [
        "Here are some real-world applications of clustering:\n",
        "\n",
        "* Customer segmentation\n",
        "* Product recommendation\n",
        "* Feature engineering\n",
        "* Anomaly/fraud detection\n",
        "* Taxonomy creation\n"
      ]
    },
    {
      "cell_type": "markdown",
      "id": "enormous-steel",
      "metadata": {
        "id": "enormous-steel"
      },
      "source": [
        "We'll use the [Iris flower dataset](https://en.wikipedia.org/wiki/Iris_flower_data_set) to study some of the clustering algorithms available in `scikit-learn`. It contains various measurements for 150 flowers belonging to 3 different species."
      ]
    },
    {
      "cell_type": "code",
      "execution_count": null,
      "id": "saving-strap",
      "metadata": {
        "id": "saving-strap"
      },
      "outputs": [],
      "source": []
    },
    {
      "cell_type": "code",
      "execution_count": null,
      "id": "pretty-ballet",
      "metadata": {
        "id": "pretty-ballet"
      },
      "outputs": [],
      "source": []
    },
    {
      "cell_type": "code",
      "execution_count": null,
      "id": "lined-czech",
      "metadata": {
        "id": "lined-czech"
      },
      "outputs": [],
      "source": []
    },
    {
      "cell_type": "code",
      "execution_count": null,
      "id": "international-battery",
      "metadata": {
        "id": "international-battery"
      },
      "outputs": [],
      "source": []
    },
    {
      "cell_type": "markdown",
      "id": "agreed-organic",
      "metadata": {
        "id": "agreed-organic"
      },
      "source": [
        "We'll attempt to cluster observations using numeric columns in the data."
      ]
    },
    {
      "cell_type": "code",
      "execution_count": null,
      "id": "indie-alberta",
      "metadata": {
        "id": "indie-alberta"
      },
      "outputs": [],
      "source": []
    },
    {
      "cell_type": "code",
      "execution_count": null,
      "id": "competent-advertiser",
      "metadata": {
        "id": "competent-advertiser"
      },
      "outputs": [],
      "source": []
    },
    {
      "cell_type": "markdown",
      "id": "piano-single",
      "metadata": {
        "id": "piano-single"
      },
      "source": [
        "### K Means Clustering\n",
        "\n",
        "The K-means algorithm attempts to classify objects into a pre-determined number of clusters by finding optimal central points (called centroids) for each cluster. Each object is classifed as belonging the cluster represented by the closest centroid.\n",
        "\n",
        "<img src=\"https://miro.medium.com/max/1400/1*rw8IUza1dbffBhiA4i0GNQ.png\" width=\"640\">"
      ]
    },
    {
      "cell_type": "markdown",
      "id": "narrow-snowboard",
      "metadata": {
        "id": "narrow-snowboard"
      },
      "source": [
        "Here's how the K-means algorithm works:\n",
        "\n",
        "1. Pick K random objects as the initial cluster centers.\n",
        "2. Classify each object into the cluster whose center is closest to the point.\n",
        "3. For each cluster of classified objects, compute the centroid (mean).\n",
        "4. Now reclassify each object using the centroids as cluster centers.\n",
        "5. Calculate the total variance of the clusters (this is the measure of goodness).\n",
        "6. Repeat steps 1 to 6 a few more times and pick the cluster centers with the lowest total variance.\n",
        "\n",
        "Here's a video showing the above steps: https://www.youtube.com/watch?v=4b5d3muPQmA"
      ]
    },
    {
      "cell_type": "markdown",
      "id": "jewish-boost",
      "metadata": {
        "id": "jewish-boost"
      },
      "source": [
        "Let's apply K-means clustering to the Iris dataset."
      ]
    },
    {
      "cell_type": "code",
      "execution_count": null,
      "id": "indie-pioneer",
      "metadata": {
        "id": "indie-pioneer"
      },
      "outputs": [],
      "source": []
    },
    {
      "cell_type": "code",
      "execution_count": null,
      "id": "working-reaction",
      "metadata": {
        "id": "working-reaction"
      },
      "outputs": [],
      "source": []
    },
    {
      "cell_type": "code",
      "execution_count": null,
      "id": "incorporate-perry",
      "metadata": {
        "id": "incorporate-perry"
      },
      "outputs": [],
      "source": []
    },
    {
      "cell_type": "markdown",
      "id": "basic-coordination",
      "metadata": {
        "id": "basic-coordination"
      },
      "source": [
        "We can check the cluster centers for each cluster."
      ]
    },
    {
      "cell_type": "code",
      "execution_count": null,
      "id": "social-success",
      "metadata": {
        "id": "social-success"
      },
      "outputs": [],
      "source": []
    },
    {
      "cell_type": "markdown",
      "id": "closing-experience",
      "metadata": {
        "id": "closing-experience"
      },
      "source": [
        "We can now classify points using the model."
      ]
    },
    {
      "cell_type": "code",
      "execution_count": null,
      "id": "normal-singing",
      "metadata": {
        "id": "normal-singing"
      },
      "outputs": [],
      "source": []
    },
    {
      "cell_type": "code",
      "execution_count": null,
      "id": "naked-virgin",
      "metadata": {
        "id": "naked-virgin"
      },
      "outputs": [],
      "source": []
    },
    {
      "cell_type": "code",
      "execution_count": null,
      "id": "straight-millennium",
      "metadata": {
        "id": "straight-millennium"
      },
      "outputs": [],
      "source": []
    },
    {
      "cell_type": "markdown",
      "id": "deadly-health",
      "metadata": {
        "id": "deadly-health"
      },
      "source": [
        "As you can see, K-means algorithm was able to classify (for the most part) different specifies of flowers into separate clusters. Note that we did not provide the \"species\" column as an input to `KMeans`."
      ]
    },
    {
      "cell_type": "markdown",
      "id": "technological-problem",
      "metadata": {
        "id": "technological-problem"
      },
      "source": [
        "We can check the \"goodness\" of the fit by looking at `model.inertia_`, which contains the sum of squared distances of samples to their closest cluster center. Lower the inertia, better the fit."
      ]
    },
    {
      "cell_type": "code",
      "execution_count": null,
      "id": "assigned-newspaper",
      "metadata": {
        "id": "assigned-newspaper"
      },
      "outputs": [],
      "source": []
    },
    {
      "cell_type": "markdown",
      "id": "refined-marker",
      "metadata": {
        "id": "refined-marker"
      },
      "source": [
        "Let's try creating 6 clusters."
      ]
    },
    {
      "cell_type": "code",
      "execution_count": null,
      "id": "federal-central",
      "metadata": {
        "id": "federal-central"
      },
      "outputs": [],
      "source": []
    },
    {
      "cell_type": "code",
      "execution_count": null,
      "id": "stopped-executive",
      "metadata": {
        "id": "stopped-executive"
      },
      "outputs": [],
      "source": []
    },
    {
      "cell_type": "code",
      "execution_count": null,
      "id": "critical-photographer",
      "metadata": {
        "id": "critical-photographer"
      },
      "outputs": [],
      "source": []
    },
    {
      "cell_type": "markdown",
      "id": "right-psychiatry",
      "metadata": {
        "id": "right-psychiatry"
      },
      "source": [
        "In most real-world scenarios, there's no predetermined number of clusters. In such a case, you can create a plot of \"No. of clusters\" vs \"Inertia\" to pick the right number of clusters."
      ]
    },
    {
      "cell_type": "code",
      "execution_count": null,
      "id": "unexpected-evening",
      "metadata": {
        "id": "unexpected-evening"
      },
      "outputs": [],
      "source": []
    },
    {
      "cell_type": "markdown",
      "id": "engaged-relative",
      "metadata": {
        "id": "engaged-relative"
      },
      "source": [
        "The chart is creates an \"elbow\" plot, and you can pick the number of clusters beyond which the reduction in inertia decreases sharply."
      ]
    },
    {
      "cell_type": "markdown",
      "id": "racial-mapping",
      "metadata": {
        "id": "racial-mapping"
      },
      "source": [
        "**Mini Batch K Means**: The K-means algorithm can be quite slow for really large dataset. Mini-batch K-means is an iterative alternative to K-means that works well for large datasets. Learn more about it here: https://scikit-learn.org/stable/modules/clustering.html#mini-batch-kmeans\n",
        "\n"
      ]
    },
    {
      "cell_type": "markdown",
      "id": "sweet-analyst",
      "metadata": {
        "id": "sweet-analyst"
      },
      "source": [
        "> **EXERCISE**: Perform clustering on the [Mall customers dataset](https://www.kaggle.com/vjchoudhary7/customer-segmentation-tutorial-in-python) on Kaggle. Study the segments carefully and report your observations."
      ]
    },
    {
      "cell_type": "code",
      "execution_count": null,
      "id": "fourth-explanation",
      "metadata": {
        "id": "fourth-explanation"
      },
      "outputs": [],
      "source": []
    },
    {
      "cell_type": "code",
      "execution_count": null,
      "id": "alone-comparison",
      "metadata": {
        "id": "alone-comparison"
      },
      "outputs": [],
      "source": []
    },
    {
      "cell_type": "markdown",
      "id": "suspended-cause",
      "metadata": {
        "id": "suspended-cause"
      },
      "source": [
        "### DBSCAN\n",
        "\n",
        "Density-based spatial clustering of applications with noise (DBSCAN) uses the density of points in a region to form clusters. It has two main parameters: \"epsilon\" and \"min samples\" using which it classifies each point as a core point, reachable point or noise point (outlier).\n",
        "\n",
        "<img src=\"https://upload.wikimedia.org/wikipedia/commons/thumb/a/af/DBSCAN-Illustration.svg/800px-DBSCAN-Illustration.svg.png\" width=\"400\">\n",
        "\n",
        "Here's a video explaining how the DBSCAN algorithm works: https://www.youtube.com/watch?v=C3r7tGRe2eI\n"
      ]
    },
    {
      "cell_type": "code",
      "execution_count": null,
      "id": "organizational-sound",
      "metadata": {
        "id": "organizational-sound"
      },
      "outputs": [],
      "source": []
    },
    {
      "cell_type": "code",
      "execution_count": null,
      "id": "german-rescue",
      "metadata": {
        "id": "german-rescue"
      },
      "outputs": [],
      "source": []
    },
    {
      "cell_type": "code",
      "execution_count": null,
      "id": "rising-norwegian",
      "metadata": {
        "id": "rising-norwegian"
      },
      "outputs": [],
      "source": []
    },
    {
      "cell_type": "code",
      "execution_count": null,
      "id": "cultural-commons",
      "metadata": {
        "id": "cultural-commons"
      },
      "outputs": [],
      "source": []
    },
    {
      "cell_type": "markdown",
      "id": "freelance-flour",
      "metadata": {
        "id": "freelance-flour"
      },
      "source": [
        "In DBSCAN, there's no prediction step. It directly assigns labels to all the inputs."
      ]
    },
    {
      "cell_type": "code",
      "execution_count": null,
      "id": "tropical-today",
      "metadata": {
        "id": "tropical-today"
      },
      "outputs": [],
      "source": []
    },
    {
      "cell_type": "code",
      "execution_count": null,
      "id": "ordered-mother",
      "metadata": {
        "id": "ordered-mother"
      },
      "outputs": [],
      "source": []
    },
    {
      "cell_type": "markdown",
      "id": "divine-driving",
      "metadata": {
        "id": "divine-driving"
      },
      "source": [
        "> **EXERCISE**: Try changing the values of `eps` and `min_samples` and observe how the number of clusters the classification changes."
      ]
    },
    {
      "cell_type": "code",
      "execution_count": null,
      "id": "geological-philippines",
      "metadata": {
        "id": "geological-philippines"
      },
      "outputs": [],
      "source": []
    },
    {
      "cell_type": "code",
      "execution_count": null,
      "id": "elegant-adapter",
      "metadata": {
        "id": "elegant-adapter"
      },
      "outputs": [],
      "source": []
    },
    {
      "cell_type": "markdown",
      "id": "determined-anderson",
      "metadata": {
        "id": "determined-anderson"
      },
      "source": [
        "Here's how the results of DBSCAN and K Means differ:\n",
        "\n",
        "<img src=\"https://miro.medium.com/max/1339/0*xu3GYMsWu9QiKNOo.png\" width=\"640\">"
      ]
    },
    {
      "cell_type": "markdown",
      "id": "differential-coral",
      "metadata": {
        "id": "differential-coral"
      },
      "source": [
        "### Hierarchical Clustering\n",
        "\n",
        "Hierarchical clustering, as the name suggests, creates a hierarchy or a tree of clusters.\n",
        "\n",
        "<img src=\"https://dashee87.github.io/images/hierarch.gif\" width=\"640\">\n",
        "\n",
        "While there are several approaches to hierarchical clustering, the most common approach works as follows:\n",
        "\n",
        "1. Mark each point in the dataset as a cluster.\n",
        "2. Pick the two closest cluster centers without a parent and combine them into a new cluster.\n",
        "3. The new cluster is the parent cluster of the two clusters, and its center is the mean of all the points in the cluster.\n",
        "3. Repeat steps 2 and 3 till there's just one cluster left.\n",
        "\n",
        "Watch this video for a visual explanation of hierarchical clustering: https://www.youtube.com/watch?v=7xHsRkOdVwo"
      ]
    },
    {
      "cell_type": "markdown",
      "id": "martial-gallery",
      "metadata": {
        "id": "martial-gallery"
      },
      "source": [
        "> **EXERCISE**: Implement hierarchical clustering for the Iris dataset using `scikit-learn`."
      ]
    },
    {
      "cell_type": "code",
      "execution_count": null,
      "id": "powered-symphony",
      "metadata": {
        "id": "powered-symphony"
      },
      "outputs": [],
      "source": []
    },
    {
      "cell_type": "code",
      "execution_count": null,
      "id": "aging-mongolia",
      "metadata": {
        "id": "aging-mongolia"
      },
      "outputs": [],
      "source": []
    },
    {
      "cell_type": "markdown",
      "id": "finite-income",
      "metadata": {
        "id": "finite-income"
      },
      "source": [
        "There are several other clustering algorithms in Scikit-learn. You can learn more about them and when to use them here: https://scikit-learn.org/stable/modules/clustering.html"
      ]
    },
    {
      "cell_type": "markdown",
      "id": "blond-slope",
      "metadata": {
        "id": "blond-slope"
      },
      "source": [
        "Let's save our work before continuing."
      ]
    },
    {
      "cell_type": "code",
      "execution_count": null,
      "id": "technical-upper",
      "metadata": {
        "id": "technical-upper"
      },
      "outputs": [],
      "source": []
    },
    {
      "cell_type": "markdown",
      "id": "essential-runner",
      "metadata": {
        "id": "essential-runner"
      },
      "source": [
        "## Dimensionality Reduction and Manifold Learning\n",
        "\n",
        "In machine learning problems, we often encounter datasets with a very large number of dimensions (features or columns). Dimensionality reduction techniques are used to reduce the number of dimensions or features within the data to a manageable or convenient number.\n",
        "\n",
        "\n",
        "Applications of dimensionality reduction:\n",
        "\n",
        "* Reducing size of data without loss of information\n",
        "* Training machine learning models efficiently\n",
        "* Visualizing high-dimensional data in 2/3 dimensions\n"
      ]
    },
    {
      "cell_type": "markdown",
      "id": "binding-rwanda",
      "metadata": {
        "id": "binding-rwanda"
      },
      "source": [
        "### Principal Component Analysis (PCA)\n",
        "\n",
        "Principal component is a dimensionality reduction technique that uses linear projections of data to reduce their dimensions, while attempting to maximize the variance of data in the projection. Watch this video to learn how PCA works: https://www.youtube.com/watch?v=FgakZw6K1QQ\n",
        "\n",
        "Here's an example of PCA to reduce 2D data to 1D:\n",
        "\n",
        "<img src=\"https://i.imgur.com/ZJ7utlo.png\" width=\"480\">\n",
        "\n",
        "Here's an example of PCA to reduce 3D data to 2D:\n",
        "\n",
        "<img src=\"https://www.researchgate.net/publication/345602552/figure/fig1/AS:1028064637104131@1622121118891/PCA-Example-3D-to-2D.png\" width=\"640\">\n",
        "\n",
        "\n",
        "Let's apply Principal Component Analysis to the Iris dataset."
      ]
    },
    {
      "cell_type": "code",
      "execution_count": null,
      "id": "casual-brand",
      "metadata": {
        "id": "casual-brand"
      },
      "outputs": [],
      "source": []
    },
    {
      "cell_type": "code",
      "execution_count": null,
      "id": "geographic-kazakhstan",
      "metadata": {
        "id": "geographic-kazakhstan"
      },
      "outputs": [],
      "source": []
    },
    {
      "cell_type": "code",
      "execution_count": null,
      "id": "electoral-party",
      "metadata": {
        "id": "electoral-party"
      },
      "outputs": [],
      "source": []
    },
    {
      "cell_type": "code",
      "execution_count": null,
      "id": "respected-theater",
      "metadata": {
        "id": "respected-theater"
      },
      "outputs": [],
      "source": []
    },
    {
      "cell_type": "code",
      "execution_count": null,
      "id": "equipped-wheel",
      "metadata": {
        "id": "equipped-wheel"
      },
      "outputs": [],
      "source": []
    },
    {
      "cell_type": "code",
      "execution_count": null,
      "id": "assured-catch",
      "metadata": {
        "id": "assured-catch"
      },
      "outputs": [],
      "source": []
    },
    {
      "cell_type": "code",
      "execution_count": null,
      "id": "characteristic-certificate",
      "metadata": {
        "id": "characteristic-certificate"
      },
      "outputs": [],
      "source": []
    },
    {
      "cell_type": "code",
      "execution_count": null,
      "id": "ongoing-complaint",
      "metadata": {
        "id": "ongoing-complaint"
      },
      "outputs": [],
      "source": []
    },
    {
      "cell_type": "code",
      "execution_count": null,
      "id": "specific-traveler",
      "metadata": {
        "id": "specific-traveler"
      },
      "outputs": [],
      "source": []
    },
    {
      "cell_type": "markdown",
      "id": "radio-terminal",
      "metadata": {
        "id": "radio-terminal"
      },
      "source": [
        "As you can see, the PCA algorithm has done a very good job of separating different species of flowers using just 2 measures."
      ]
    },
    {
      "cell_type": "markdown",
      "id": "right-exchange",
      "metadata": {
        "id": "right-exchange"
      },
      "source": [
        "> **EXERCISE**: Apply Principal Component Analysis to a large high-dimensional dataset and train a machine learning model using the low-dimensional results. Observe the changes in the loss and training time for different numbers of target dimensions."
      ]
    },
    {
      "cell_type": "code",
      "execution_count": null,
      "id": "hearing-clear",
      "metadata": {
        "id": "hearing-clear"
      },
      "outputs": [],
      "source": []
    },
    {
      "cell_type": "code",
      "execution_count": null,
      "id": "instrumental-boxing",
      "metadata": {
        "id": "instrumental-boxing"
      },
      "outputs": [],
      "source": []
    },
    {
      "cell_type": "markdown",
      "id": "moderate-secret",
      "metadata": {
        "id": "moderate-secret"
      },
      "source": [
        "Learn more about Principal Component Analysis here: https://jakevdp.github.io/PythonDataScienceHandbook/05.09-principal-component-analysis.html"
      ]
    },
    {
      "cell_type": "markdown",
      "id": "automatic-alfred",
      "metadata": {
        "id": "automatic-alfred"
      },
      "source": [
        "### t-Distributed Stochastic Neighbor Embedding (t-SNE)\n",
        "\n",
        "Manifold learning is an approach to non-linear dimensionality reduction. Algorithms for this task are based on the idea that the dimensionality of many data sets is only artificially high. Scikit-learn provides many algorithms for manifold learning: https://scikit-learn.org/stable/modules/manifold.html . A commonly-used manifold learning technique is t-Distributed Stochastic Neighbor Embedding or t-SNE, used to visualize high dimensional data in one, two or three dimensions.\n",
        "\n",
        "Here's a visual representation of t-SNE applied to visualize 2 dimensional data in 1 dimension:\n",
        "\n",
        "<img src=\"https://i.imgur.com/rVMAaix.png\" width=\"360\">\n",
        "\n",
        "\n",
        "Here's a visual representation of t-SNE applied to the MNIST dataset, which contains 28px x 28px images of handrwritten digits 0 to 9, a reduction from 784 dimensions to 2 dimensions ([source](https://colah.github.io/posts/2014-10-Visualizing-MNIST/)):\n",
        "\n",
        "<img src=\"https://i.imgur.com/kpD7d2a.png\" width=\"640\">\n",
        "\n",
        "Here's a video explaning how t-SNE works: https://www.youtube.com/watch?v=NEaUSP4YerM"
      ]
    },
    {
      "cell_type": "code",
      "execution_count": null,
      "id": "independent-allergy",
      "metadata": {
        "id": "independent-allergy"
      },
      "outputs": [],
      "source": []
    },
    {
      "cell_type": "code",
      "execution_count": null,
      "id": "restricted-longitude",
      "metadata": {
        "id": "restricted-longitude"
      },
      "outputs": [],
      "source": []
    },
    {
      "cell_type": "code",
      "execution_count": null,
      "id": "legislative-advertiser",
      "metadata": {
        "id": "legislative-advertiser"
      },
      "outputs": [],
      "source": []
    },
    {
      "cell_type": "code",
      "execution_count": null,
      "id": "ceramic-interim",
      "metadata": {
        "id": "ceramic-interim"
      },
      "outputs": [],
      "source": []
    },
    {
      "cell_type": "code",
      "execution_count": null,
      "id": "exclusive-textbook",
      "metadata": {
        "id": "exclusive-textbook"
      },
      "outputs": [],
      "source": []
    },
    {
      "cell_type": "markdown",
      "id": "verified-sperm",
      "metadata": {
        "id": "verified-sperm"
      },
      "source": [
        "As you can see, the flowers from the same species are clustered very closely together. The relative distance between the species is also conveyed by the gaps between the clusters."
      ]
    },
    {
      "cell_type": "markdown",
      "id": "domestic-permission",
      "metadata": {
        "id": "domestic-permission"
      },
      "source": [
        "> **EXERCISE**: Use t-SNE to visualize the [MNIST handwritten digits dataset](https://www.kaggle.com/oddrationale/mnist-in-csv)."
      ]
    },
    {
      "cell_type": "code",
      "execution_count": null,
      "id": "neutral-convention",
      "metadata": {
        "id": "neutral-convention"
      },
      "outputs": [],
      "source": []
    },
    {
      "cell_type": "code",
      "execution_count": null,
      "id": "present-winning",
      "metadata": {
        "id": "present-winning"
      },
      "outputs": [],
      "source": []
    },
    {
      "cell_type": "markdown",
      "id": "fossil-python",
      "metadata": {
        "id": "fossil-python"
      },
      "source": [
        "Let's save our work before continuing."
      ]
    },
    {
      "cell_type": "code",
      "execution_count": null,
      "id": "median-choice",
      "metadata": {
        "id": "median-choice"
      },
      "outputs": [],
      "source": []
    },
    {
      "cell_type": "markdown",
      "id": "identified-communications",
      "metadata": {
        "id": "identified-communications"
      },
      "source": [
        "## Summary and References\n",
        "\n",
        "<img src=\"https://i.imgur.com/VbVFAsg.png\" width=\"640\">\n",
        "\n",
        "The following topics were covered in this tutorial:\n",
        "\n",
        "- Overview of unsupervised learning algorithms in Scikit-learn\n",
        "- Clustering algorithms: K Means, DBScan, Hierarchical clustering etc.\n",
        "- Dimensionality reduction (PCA) and manifold learning (t-SNE)\n",
        "\n",
        "\n",
        "Check out these resources to learn more:\n",
        "\n",
        "- https://www.coursera.org/learn/machine-learning\n",
        "- https://dashee87.github.io/data%20science/general/Clustering-with-Scikit-with-GIFs/\n",
        "- https://scikit-learn.org/stable/unsupervised_learning.html\n",
        "- https://scikit-learn.org/stable/modules/clustering.html"
      ]
    },
    {
      "cell_type": "markdown",
      "id": "b2aced6f",
      "metadata": {
        "id": "b2aced6f"
      },
      "source": [
        "## Revision Questions\n",
        "1.\tWhat is unsupervised learning?\n",
        "2.\tWhat is the landscape of Machine Learning algorithms?\n",
        "3.\tWhat is clustering?\n",
        "4.\tWhat are some real-world applications of clustering?\n",
        "5.\tWhat is K-Means clustering?\n",
        "6.\tWhat are centroids?\n",
        "7.\tHow does K-Means algorithm work?\n",
        "8.\tWhat is goodness of fit?\n",
        "9.\tWhat does model.inertia_ contain?\n",
        "10.\tWhat is an elbow plot?\n",
        "11.\tWhat is Mini Batch K-Means?\n",
        "12.\tWhat is DBSCAN?\n",
        "13.\tWhat is Hierarchical clustering? What are it’s common approaches?\n",
        "14.\tWhat is dimensionality reduction?\n",
        "15.\tWhat are the applications of dimensionality reduction?\n",
        "16.\tWhat does PCA stand for? How does it work?\n",
        "17.\tWhat is Manifold learning?\n",
        "18.\tWhat is t-SNE? How does it work?"
      ]
    }
  ],
  "metadata": {
    "kernelspec": {
      "display_name": "Python 3 (ipykernel)",
      "language": "python",
      "name": "python3"
    },
    "language_info": {
      "codemirror_mode": {
        "name": "ipython",
        "version": 3
      },
      "file_extension": ".py",
      "mimetype": "text/x-python",
      "name": "python",
      "nbconvert_exporter": "python",
      "pygments_lexer": "ipython3",
      "version": "3.9.6"
    },
    "colab": {
      "provenance": [],
      "include_colab_link": true
    }
  },
  "nbformat": 4,
  "nbformat_minor": 5
}