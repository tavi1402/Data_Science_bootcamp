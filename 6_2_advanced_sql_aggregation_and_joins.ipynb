{
  "cells": [
    {
      "cell_type": "markdown",
      "metadata": {
        "id": "view-in-github",
        "colab_type": "text"
      },
      "source": [
        "<a href=\"https://colab.research.google.com/github/tavi1402/Data_Science_bootcamp/blob/main/6_2_advanced_sql_aggregation_and_joins.ipynb\" target=\"_parent\"><img src=\"https://colab.research.google.com/assets/colab-badge.svg\" alt=\"Open In Colab\"/></a>"
      ]
    },
    {
      "cell_type": "markdown",
      "id": "offensive-characteristic",
      "metadata": {
        "id": "offensive-characteristic"
      },
      "source": [
        "# Aggregation and Joins with SQL\n",
        "\n",
        "![](https://i.imgur.com/63oIWPU.png)\n"
      ]
    },
    {
      "cell_type": "markdown",
      "id": "amino-regression",
      "metadata": {
        "id": "amino-regression"
      },
      "source": [
        "The following topics are covered in this tutorial:\n",
        "\n",
        "- Aggregation, grouping and pagination in SQL queries\n",
        "- Mapping functions, arithmetic and working with dates\n",
        "- Combining data from different tables using SQL joins\n",
        "- Improving query performance with indexes\n",
        "- Executing SQL queries using Python and SQLAlchemy\n",
        "\n",
        "This tutorial is a continuation of the tutorial [Relational Databases and SQL](https://jovian.ai/aakashns/relational-databases-and-sql)."
      ]
    },
    {
      "cell_type": "markdown",
      "id": "systematic-bacteria",
      "metadata": {
        "id": "systematic-bacteria"
      },
      "source": [
        "## Setting up MySQL Server Locally\n",
        "\n",
        "We'll use the MySQL server for this tutorial. Make sure to install the following on your computer:\n",
        "\n",
        "- MySQL server: https://dev.mysql.com/downloads/mysql/\n",
        "- MySQL workbench: https://dev.mysql.com/downloads/workbench/\n",
        "\n",
        "You'll be asked to set a root password while installing MySQL server.\n",
        "\n",
        "To interact with the MySQL server via the terminal use:\n",
        "\n",
        "```\n",
        "$ /usr/local/mysql/bin/mysql -u root -p\n",
        "```\n",
        "\n",
        "Depending on your operating system the path `/usr/local/mysql/bin/mysql` may be different. If you're unable to connect, make sure that the server is running and you're using the correct password.\n",
        "\n",
        "Alternatively, the [MySQL Workbench](https://www.mysql.com/products/workbench/) can be used to interact with a MySQL server (local or remote) via a GUI.\n",
        "\n",
        "<img src=\"https://i.imgur.com/LaHS8x0.png\" width=\"640\" style=\"border-radius:4px\">\n"
      ]
    },
    {
      "cell_type": "markdown",
      "id": "attempted-attendance",
      "metadata": {
        "id": "attempted-attendance"
      },
      "source": [
        "## Database Setup\n",
        "\n",
        "In this tutorial, we'll use the [Classic Models database](https://www.mysqltutorial.org/mysql-sample-database.aspx) from [the previous tutorial](https://jovian.ai/aakashns/relational-databases-and-sql). To set up the database locally with sample data:\n",
        "\n",
        "1. Download this [SQL file](https://drive.google.com/file/d/1QFVRlpQ0i6NNMLNQFfz4RDg6wWaV3h09/view?usp=sharing)\n",
        "2. In MySQL Workbench, click \"File\" > \"Open SQL Script\" to open the script;\n",
        "3. Execute the script to create and populate the database.\n",
        "\n",
        "Once executed, you should be able to view and browse tables in the \"Schema\" section of the sidebar. If you face an error, make sure you have MySQL server running.\n",
        "\n",
        "> Classic Models Inc. is a distributor of small scale models of cars, motorcycles, planes, ships trains etc. Products manufactured by Classic Models are sold in toy & gift stores around the world. Here's a small sample of their products ([source](https://tinytown.in/)):\n",
        ">\n",
        "> ![](https://i.imgur.com/9F9WbbA.png)\n",
        ">\n",
        "> Classic Models has offices around the world with dozens of employees. The customers of Classic Models are typically toy/gift stores. Each customer has a designated sales representative (an employee of Classic Models) they interact with. Customers typically place orders requesting several products in different quantities and pay for multiple orders at once via cheques.\n",
        "\n",
        "\n",
        "Here's the Entity Relationship Diagram (ERD) for the database:\n",
        "\n",
        "![](https://i.imgur.com/H6q1dAb.png)\n",
        "\n"
      ]
    },
    {
      "cell_type": "markdown",
      "id": "entitled-monaco",
      "metadata": {
        "id": "entitled-monaco"
      },
      "source": [
        "## Aggregation, Grouping and Aliases\n",
        "\n",
        "SQL provides several functions like `COUNT`, `AVERAGE`,  `SUM`, `MIN` and `MAX` for aggregating the results of a query."
      ]
    },
    {
      "cell_type": "markdown",
      "id": "german-findings",
      "metadata": {
        "id": "german-findings"
      },
      "source": [
        "### `COUNT`\n",
        "\n",
        "> **QUESTION**: Report the total number of payments received before October 28, 2004.\n",
        "\n",
        "We can use the `COUNT` function to count the number of rows returned for a query.\n",
        "\n",
        "> ```SELECT COUNT(*) FROM payments WHERE paymentDate<\"2004-10-28\";```\n",
        "\n",
        "\n"
      ]
    },
    {
      "cell_type": "markdown",
      "id": "double-underground",
      "metadata": {
        "id": "double-underground"
      },
      "source": [
        "### `COUNT` and `DISTINCT`\n",
        "\n",
        "Another common use case involves counting the number of distinct values in a column.\n",
        "\n",
        "> **QUESTION**: Report the number of customer who have made payments before October 28, 2004.\n",
        "\n",
        "We just need to add the `DISTINCT` keyword before a column name.\n",
        "\n",
        "> ```SELECT COUNT(DISTINCT customerNumber) FROM payments WHERE paymentDate<\"2004-10-28\";```"
      ]
    },
    {
      "cell_type": "markdown",
      "id": "reserved-maldives",
      "metadata": {
        "id": "reserved-maldives"
      },
      "source": [
        "### `DISTINCT`\n",
        "\n",
        "Of course, `DISTINCT` can also be used without `COUNT`.\n",
        "\n",
        "> **QUESTION**: Retrieve the list of customer numbers for customer who have made a payment before October 28, 2004.\n",
        "\n",
        "> ```SELECT DISTINCT customerNumber FROM payments WHERE paymentDate<\"2004-10-28\";```\n",
        "\n",
        "Learn more about `DISTINCT` here: https://www.w3schools.com/sql/sql_distinct.asp"
      ]
    },
    {
      "cell_type": "markdown",
      "id": "cutting-welding",
      "metadata": {
        "id": "cutting-welding"
      },
      "source": [
        "### Chaining Queries\n",
        "\n",
        "What if we wanted not just customer numbers, but all the details? We can do this by chaining two SQL queries.\n",
        "\n",
        "> **QUESTION**: Retrieve the details all customers who have made a payment before October 28, 2004.\n",
        "\n",
        "We can use the result of the first query (a list of customer numbers) as an input to a second query.\n",
        "\n",
        "> ```\n",
        "> SELECT * FROM customers WHERE customerNumber in\n",
        ">  (SELECT DISTINCT customerNumber FROM payments WHERE paymentDate<\"2004-10-28\");\n",
        "> ```\n",
        "\n",
        "The above question can also be answered using join, which we'll look at later."
      ]
    },
    {
      "cell_type": "markdown",
      "id": "technological-affiliate",
      "metadata": {
        "id": "technological-affiliate"
      },
      "source": [
        "\n",
        "> **EXERCISE**: Retrieve details of all the customers in the United States who have made payments between April 1st 2003 and March 31st 2004.\n",
        ">\n",
        "> ```???```\n"
      ]
    },
    {
      "cell_type": "markdown",
      "id": "prescription-broadway",
      "metadata": {
        "id": "prescription-broadway"
      },
      "source": [
        "### `GROUP BY` and `AS`\n",
        "\n",
        "\n",
        "> **QUESTION**: Find the total number of payments made each customer before October 28, 2004.\n",
        "\n",
        "While performing aggregation, we can specify a column to group rows by. We can also rename aggregate columns using the `AS` keyword.\n",
        "\n",
        "> ```SELECT customerNumber, COUNT(*) as totalPayments FROM payments WHERE paymentDate<\"2004-10-28\" GROUP BY customerNumber;```\n",
        "\n"
      ]
    },
    {
      "cell_type": "markdown",
      "id": "functioning-processor",
      "metadata": {
        "id": "functioning-processor"
      },
      "source": [
        "### `SUM`\n",
        "\n",
        "Apart from the count of rows, we can also compute the sum of values in a column.\n",
        "\n",
        "> **QUESTION**: Find the total amount paid by each customer payment before October 28, 2004.\n",
        "\n",
        "> ```\n",
        "> SELECT customerNumber, SUM(amount) as totalPayment\n",
        ">    FROM payments WHERE paymentDate<\"2004-10-28\"\n",
        ">    GROUP BY customerNumber;\n",
        "> ```"
      ]
    },
    {
      "cell_type": "markdown",
      "id": "metallic-observation",
      "metadata": {
        "id": "metallic-observation"
      },
      "source": [
        "> **EXERCISE**: Determine the total number of units sold for each product\n",
        ">\n",
        "> `???`"
      ]
    },
    {
      "cell_type": "markdown",
      "id": "rental-booth",
      "metadata": {
        "id": "rental-booth"
      },
      "source": [
        "### `SUM` and `COUNT`\n",
        "\n",
        "> **QUESTION**: Find the total no. of payments and total payment amount for each customer for payments made before October 28, 2004.\n",
        "\n",
        "We can create separate columns for `SUM` and `COUNT`\n",
        "\n",
        "```\n",
        "SELECT customerNumber,\n",
        "  COUNT(*) as numberOfPayments,  \n",
        "  SUM(amount) as totalPayment\n",
        "  FROM payments\n",
        "  WHERE paymentDate<\"2004-10-28\"\n",
        "  GROUP BY customerNumber;\n",
        "```"
      ]
    },
    {
      "cell_type": "markdown",
      "id": "least-darkness",
      "metadata": {
        "id": "least-darkness"
      },
      "source": [
        "### `MIN`, `MAX` and `AVERAGE`\n",
        "\n",
        "> **EXERCISE**: Modify the above query to also show the minimum, maximum and average payment value for each customer.\n",
        ">\n",
        "> `???`\n",
        "\n"
      ]
    },
    {
      "cell_type": "markdown",
      "id": "adequate-payment",
      "metadata": {
        "id": "adequate-payment"
      },
      "source": [
        "## Sorting and Pagination\n",
        "\n",
        "Sorting of query results in SQL is done using the `ORDER BY` keyword. For pagination, you can use the `LIMIT` and `OFFSET` keywords.\n"
      ]
    },
    {
      "cell_type": "markdown",
      "id": "signal-aside",
      "metadata": {
        "id": "signal-aside"
      },
      "source": [
        "### `ORDER BY` and `LIMIT`\n",
        "\n",
        "> **QUESTION**: Retrieve the customer number for 10 customers who made the highest total payment in 2004.\n",
        "\n",
        "```\n",
        "SELECT customerNumber, SUM(amount) as totalPayment\n",
        "\tFROM payments\n",
        "    WHERE paymentDate<\"2004-10-28\"\n",
        "    GROUP BY customerNumber\n",
        "    ORDER BY totalPayment DESC\n",
        "    LIMIT 10;\n",
        "```"
      ]
    },
    {
      "cell_type": "markdown",
      "id": "absolute-details",
      "metadata": {
        "id": "absolute-details"
      },
      "source": [
        "### `OFFSET`\n",
        "\n",
        "To get the next 10 results, we can simply add an `OFFSET` with the number of rows to skip.\n",
        "\n",
        "```\n",
        "SELECT customerNumber, SUM(amount) as totalPayment\n",
        "\tFROM payments\n",
        "    WHERE paymentDate<\"2004-10-28\"\n",
        "    GROUP BY customerNumber\n",
        "    ORDER BY totalPayment DESC\n",
        "    LIMIT 10\n",
        "    OFFSET 10;\n",
        "```"
      ]
    },
    {
      "cell_type": "markdown",
      "id": "bigger-equity",
      "metadata": {
        "id": "bigger-equity"
      },
      "source": [
        "## Mapping Functions\n",
        "\n",
        "Apart from aggregation functions, SQL also provides mapping functions like `UCASE`, `LCASE`, `SUBSTRING`, `LEN`, `ROUND`, `CONCAT` that are applied to individual values. Let's look at some examples."
      ]
    },
    {
      "cell_type": "markdown",
      "id": "invisible-consensus",
      "metadata": {
        "id": "invisible-consensus"
      },
      "source": [
        "### `UCASE` and `CONCAT`\n",
        "\n",
        "> **QUESTION**: Display the full name of point of contact each customer in the United States in upper case, along with their phone number, sorted by alphabetical order of customer name.\n",
        "\n",
        "```\n",
        "SELECT customerName,\n",
        "\tCONCAT(UCASE(contactFirstName), \" \", UCASE(contactLastName)) AS contact,\n",
        "    phone\n",
        "    FROM customers\n",
        "    WHERE country=\"USA\"\n",
        "    ORDER BY customerName;\n",
        "```"
      ]
    },
    {
      "cell_type": "markdown",
      "id": "happy-collar",
      "metadata": {
        "id": "happy-collar"
      },
      "source": [
        "###  `SUBSTRING` and `LCASE`\n",
        "\n",
        "> **QUESTION**: Display a paginated list of customers (sorted by customer name), with a country code column. The country is simply the first 3 letters in the country name, in lower case.\n",
        "\n",
        "```\n",
        "select customerName,\n",
        "\tLCASE(SUBSTRING(country, 1, 3))\n",
        "    AS countryCode\n",
        "    FROM customers ORDER BY customerName;\n",
        "```"
      ]
    },
    {
      "cell_type": "markdown",
      "id": "considerable-intellectual",
      "metadata": {
        "id": "considerable-intellectual"
      },
      "source": [
        "### `ROUND`\n",
        "\n",
        "> **QUESTION**: Display the list of the 5 most expensive products in the \"Motorcycles\" product line with their price (MSRP) rounded to dollars.\n",
        "\n",
        "```\n",
        "select productName,\n",
        "\tROUND(MSRP) AS salePrice\n",
        "    FROM products\n",
        "    WHERE productLine=\"Motorcycles\"\n",
        "    ORDER BY salePrice DESC\n",
        "    LIMIT 5;\n",
        "```"
      ]
    },
    {
      "cell_type": "markdown",
      "id": "sufficient-psychiatry",
      "metadata": {
        "id": "sufficient-psychiatry"
      },
      "source": [
        "## Arithmetic Operations\n",
        "\n",
        "Columns can also be combined using arithmetic operations."
      ]
    },
    {
      "cell_type": "markdown",
      "id": "renewable-criminal",
      "metadata": {
        "id": "renewable-criminal"
      },
      "source": [
        "> **QUESTION**: Display the product code, product name, buy price, sale price and profit margin percentage (`(MSRP - buyPrice)*100/buyPrice`) for the 10 products with the highest profit margin. Round the profit margin to 2 decimals.\n",
        "\n",
        "```\n",
        "SELECT productCode,\n",
        "\tproductName,\n",
        "    buyPrice,\n",
        "    MSRP,\n",
        "    ROUND(((MSRP - buyPrice)*100/buyPrice), 2) AS profitMargin\n",
        "    FROM products\n",
        "    ORDER BY profitMargin DESC\n",
        "    LIMIT 10;\n",
        "```\n",
        "\n",
        "Here is a full list of operators supported in SQL: https://www.w3schools.com/sql/sql_operators.asp"
      ]
    },
    {
      "cell_type": "markdown",
      "id": "overhead-beverage",
      "metadata": {
        "id": "overhead-beverage"
      },
      "source": [
        "## Working with Dates\n",
        "\n",
        "SQL provides functions for extracting information like year, month etc. out of date columns."
      ]
    },
    {
      "cell_type": "markdown",
      "id": "geological-imperial",
      "metadata": {
        "id": "geological-imperial"
      },
      "source": [
        "### `YEAR`\n",
        "\n",
        "> **QUESTION**: List the largest single payment done by every customer in the year 2004, ordered by the transaction value (highest to lowest).\n",
        "\n",
        "\n",
        "```\n",
        "SELECT customerNumber,\n",
        "\tMAX(amount) AS largestPayment\n",
        "    FROM payments\n",
        "    WHERE YEAR(paymentDate)=2004\n",
        "    GROUP BY customerNumber\n",
        "    ORDER BY largestPayment DESC;\n",
        "```\n"
      ]
    },
    {
      "cell_type": "markdown",
      "id": "changing-swiss",
      "metadata": {
        "id": "changing-swiss"
      },
      "source": [
        "### `MONTH`\n",
        "\n",
        "\n",
        "> **QUESTION**: Show the total payments received month by month for every year.\n",
        "\n",
        "```\n",
        "SELECT YEAR(paymentDate) as `year`,\n",
        "\tMONTH(paymentDate) as `month`,\n",
        "\tROUND(SUM(amount), 2) as `totalPayments`\n",
        "    FROM payments\n",
        "    GROUP BY `year`, `month`\n",
        "    ORDER BY `year`, `month`;\n",
        "```\n",
        "\n"
      ]
    },
    {
      "cell_type": "markdown",
      "id": "intelligent-criminal",
      "metadata": {
        "id": "intelligent-criminal"
      },
      "source": [
        "### `DATE_FORMAT` and `FORMAT`\n",
        "\n",
        "> **QUESTION**: For the above query, format the amount properly with a dollar symbol and comma separation (e.g `$26,267.62`), and also show the month as a string.\n",
        "\n",
        "```\n",
        "SELECT YEAR(paymentDate) as `year`,\n",
        "\tDATE_FORMAT(paymentDate, \"%b\") AS `monthName`,\n",
        "\tCONCAT(\"$\", FORMAT(SUM(amount), 2)) AS `totalPayments`\n",
        "    FROM payments\n",
        "    GROUP BY `year`, MONTH(paymentDate), `monthName`\n",
        "    ORDER BY `year`, MONTH(paymentDate);\n",
        "```\n",
        "\n",
        "Learn more about dates here:\n",
        "\n",
        "- https://www.w3schools.com/sql/sql_dates.asp\n",
        "- https://www.w3schools.com/sql/func_mysql_date_format.asp"
      ]
    },
    {
      "cell_type": "markdown",
      "id": "turned-location",
      "metadata": {
        "id": "turned-location"
      },
      "source": [
        "## Combining Tables using Joins\n",
        "\n",
        "A JOIN clause is used to combine rows from two or more tables, based on a related column between them. There are four types of joins: inner join, left (outer) join, right (outer) join, and (full) outer join.\n",
        "\n",
        "Here's a visual explanation of different kinds of joins ([source](https://dataschool.com/how-to-teach-people-sql/sql-join-types-explained-visually/)):\n",
        "\n",
        "<img src=\"https://i.imgur.com/m3IonpI.png\" width=\"480\">"
      ]
    },
    {
      "cell_type": "markdown",
      "id": "labeled-testament",
      "metadata": {
        "id": "labeled-testament"
      },
      "source": [
        "### Inner Join\n",
        "\n",
        "This is the default join in MySQL.\n",
        "\n",
        "> **QUESTION**: Show the 10 most recent payments with customer details (name & phone no.).\n",
        "\n",
        "```\n",
        "SELECT checkNumber, paymentDate, amount, customers.customerNumber, customerName, phone\n",
        "\tFROM payments JOIN customers\n",
        "    ON payments.customerNumber=customers.customerNumber\n",
        "    ORDER BY paymentDate DESC LIMIT 10;\n",
        "```\n",
        "\n",
        "You can also replace `JOIN` with `INNER JOIN` above for clarity."
      ]
    },
    {
      "cell_type": "markdown",
      "id": "complicated-romance",
      "metadata": {
        "id": "complicated-romance"
      },
      "source": [
        "> **EXERCISE**: Show the full office address and phone number for each employee.\n",
        ">\n",
        "> ???"
      ]
    },
    {
      "cell_type": "markdown",
      "id": "separated-oasis",
      "metadata": {
        "id": "separated-oasis"
      },
      "source": [
        "> **EXERCISE**: Show the full order information and product details for order no. 10100.\n",
        ">\n",
        "> `???`"
      ]
    },
    {
      "cell_type": "markdown",
      "id": "unnecessary-latitude",
      "metadata": {
        "id": "unnecessary-latitude"
      },
      "source": [
        "### Left, Right and Outer Joins\n",
        "\n",
        "Follow these links to practice left, right and outer joins:\n",
        "\n",
        "- https://www.w3schools.com/sql/sql_join_left.asp\n",
        "- https://www.w3schools.com/sql/sql_join_right.asp\n",
        "- https://www.w3schools.com/sql/sql_join_full.asp"
      ]
    },
    {
      "cell_type": "markdown",
      "id": "approved-expert",
      "metadata": {
        "id": "approved-expert"
      },
      "source": [
        "### Self Join\n",
        "\n",
        "A table can also be joined with itself. Each instance of the table can be given a temporary alias."
      ]
    },
    {
      "cell_type": "markdown",
      "id": "muslim-microwave",
      "metadata": {
        "id": "muslim-microwave"
      },
      "source": [
        "> **QUESTION**: Show a list of employees with the name & employee number of their manager.\n",
        "\n",
        "```\n",
        "select E.employeeNumber,\n",
        "\tE.firstName,\n",
        "    E.lastName,\n",
        "    M.employeeNumber as managerEmployeeNumber,\n",
        "    CONCAT(M.firstName, \" \", M.lastName) as managerName\n",
        "    from employees E LEFT JOIN employees M ON E.reportsTo=M.employeeNumber;\n",
        "````\n",
        "\n",
        "Can you explain why we performed a left outer join here? What happens if we perform a inner, right our outer join here?"
      ]
    },
    {
      "cell_type": "markdown",
      "id": "underlying-freight",
      "metadata": {
        "id": "underlying-freight"
      },
      "source": [
        "**EXERCISES**: Try the following exercises to become familiar with SQL joins:\n",
        "\n",
        "1. Report the account representative for each customer.\n",
        "2. Report total payments for Atelier graphique.\n",
        "3. Report the total payments by date\n",
        "4. Report the products that have not been sold.\n",
        "5. List the amount paid by each customer.\n",
        "5. How many orders have been placed by Herkku Gifts?\n",
        "6. Who are the employees in Boston?\n",
        "7. Report those payments greater than \\\\$100,000. Sort the report so the customer who made the highest payment appears first.\n",
        "8. List the value of 'On Hold' orders.\n",
        "9. Report the number of orders 'On Hold' for each customer.\n",
        "10. List products sold by order date.\n",
        "11. List the order dates in descending order for orders for the 1940 Ford Pickup Truck.\n",
        "12. List the names of customers and their corresponding order number where a particular order from that customer has a value greater than $25,000?\n",
        "14. Are there any products that appear on all orders?\n",
        "15. List the names of products sold at less than 80% of the MSRP.\n",
        "16. Reports those products that have been sold with a markup of 100% or more (i.e.,  the priceEach is at least twice the buyPrice)\n",
        "17. List the products ordered on a Monday.\n",
        "18. What is the quantity on hand for products listed on 'On Hold' orders?\n",
        "\n",
        "**NOTE**: Not all of the above may necessarily require joins, and it may be possible to solve some of the above questions without join.\n",
        "\n",
        "You can find the solutions for these questions here: https://github.com/harsha547/ClassicModels-Database-Queries"
      ]
    },
    {
      "cell_type": "markdown",
      "id": "weekly-homeless",
      "metadata": {
        "id": "weekly-homeless"
      },
      "source": [
        "## Improving Query Performance\n",
        "\n",
        "Query performance can be improved using indexes and views."
      ]
    },
    {
      "cell_type": "markdown",
      "id": "sustained-leader",
      "metadata": {
        "id": "sustained-leader"
      },
      "source": [
        "### Index\n",
        "\n",
        "If you often search or order data by a particular column that's not a primary key, you can add an index to make query performance faster."
      ]
    },
    {
      "cell_type": "markdown",
      "id": "ethical-sensitivity",
      "metadata": {
        "id": "ethical-sensitivity"
      },
      "source": [
        "> **QUESTION**: Add an index on the `lastName` column of the `customers` table.\n",
        "\n",
        "```\n",
        "CREATE INDEX customer_lastname_index ON customers (contactLastName);\n",
        "```\n",
        "\n",
        "This index will speed up queries like:\n",
        "\n",
        "```\n",
        "SELECT * FROM customers WHERE contactLastName=\"Lee\";\n",
        "```\n",
        "\n",
        "and\n",
        "\n",
        "```\n",
        "SELECT * FROM customers ORDER BY contactLastName LIMIT 10;\n",
        "```"
      ]
    },
    {
      "cell_type": "markdown",
      "id": "valued-bracket",
      "metadata": {
        "id": "valued-bracket"
      },
      "source": [
        "To view the indexes on a table, run:\n",
        "\n",
        "```\n",
        "SHOW INDEX FROM table_name\n",
        "```"
      ]
    },
    {
      "cell_type": "markdown",
      "id": "mexican-bookmark",
      "metadata": {
        "id": "mexican-bookmark"
      },
      "source": [
        "Indexes can also be created on multiple columns. Learn more about indexes here: https://www.w3schools.com/sql/sql_create_index.asp"
      ]
    },
    {
      "cell_type": "markdown",
      "id": "painful-check",
      "metadata": {
        "id": "painful-check"
      },
      "source": [
        "### Views\n",
        "\n",
        "If you perform a query often or frequently join two tables for querying, you can create a _virtual table_ called a \"view\" to make it easier to write queries."
      ]
    },
    {
      "cell_type": "markdown",
      "id": "associate-spare",
      "metadata": {
        "id": "associate-spare"
      },
      "source": [
        "Here's how a view is created:\n",
        "\n",
        "```CREATE VIEW usaCustomers AS SELECT * FROM customers WHERE country='USA';```"
      ]
    },
    {
      "cell_type": "markdown",
      "id": "accompanied-swaziland",
      "metadata": {
        "id": "accompanied-swaziland"
      },
      "source": [
        "A view can be queried just like a table:\n",
        "\n",
        "```\n",
        "select * from usaCustomers WHERE state=\"CA\";\n",
        "```\n",
        "\n",
        "The term `usaCustomers` is replaced with the query used to create the view."
      ]
    },
    {
      "cell_type": "markdown",
      "id": "removable-consultancy",
      "metadata": {
        "id": "removable-consultancy"
      },
      "source": [
        "\n",
        "Learn more about views here: https://www.w3schools.com/sql/sql_view.asp.\n",
        "\n",
        "Certain relational databases support creation of [materialized views](https://en.wikipedia.org/wiki/Materialized_view) which caches the result of query that creates the view. This can significantly speed up query execution."
      ]
    },
    {
      "cell_type": "markdown",
      "id": "delayed-mineral",
      "metadata": {
        "id": "delayed-mineral"
      },
      "source": [
        "## Executing SQL queries using Python\n",
        "\n",
        "We can use the SQL Alchemy library to connect to relational databases and execute SQL queries. It also requires a connecting library for the underlying database e.g. [`MySQL-python`](https://pypi.org/project/MySQL-python/) for MySQL\n",
        "\n",
        "**NOTE:** To execute the code in this section, you'll need to run this notebook locally on your computer. Press the \"Run Locally\" button on the Jovian notebook page or lesson page and follow the instructions. Also make sure you have MySQL server running locally with the Classic Models database created and populated.\n"
      ]
    },
    {
      "cell_type": "markdown",
      "id": "mexican-judges",
      "metadata": {
        "id": "mexican-judges"
      },
      "source": [
        "### SQLAlchemy"
      ]
    },
    {
      "cell_type": "code",
      "execution_count": null,
      "id": "social-investigation",
      "metadata": {
        "id": "social-investigation"
      },
      "outputs": [],
      "source": []
    },
    {
      "cell_type": "code",
      "execution_count": null,
      "id": "42050307",
      "metadata": {
        "id": "42050307"
      },
      "outputs": [],
      "source": []
    },
    {
      "cell_type": "code",
      "execution_count": null,
      "id": "veterinary-belarus",
      "metadata": {
        "id": "veterinary-belarus"
      },
      "outputs": [],
      "source": []
    },
    {
      "cell_type": "code",
      "execution_count": null,
      "id": "corrected-jungle",
      "metadata": {
        "id": "corrected-jungle"
      },
      "outputs": [],
      "source": []
    },
    {
      "cell_type": "code",
      "execution_count": null,
      "id": "worse-staff",
      "metadata": {
        "id": "worse-staff"
      },
      "outputs": [],
      "source": []
    },
    {
      "cell_type": "code",
      "execution_count": null,
      "id": "searching-pencil",
      "metadata": {
        "id": "searching-pencil"
      },
      "outputs": [],
      "source": []
    },
    {
      "cell_type": "code",
      "execution_count": null,
      "id": "leading-battery",
      "metadata": {
        "id": "leading-battery"
      },
      "outputs": [],
      "source": []
    },
    {
      "cell_type": "code",
      "execution_count": null,
      "id": "constitutional-respondent",
      "metadata": {
        "id": "constitutional-respondent"
      },
      "outputs": [],
      "source": []
    },
    {
      "cell_type": "code",
      "execution_count": null,
      "id": "subtle-shopper",
      "metadata": {
        "id": "subtle-shopper"
      },
      "outputs": [],
      "source": []
    },
    {
      "cell_type": "code",
      "execution_count": null,
      "id": "brief-capture",
      "metadata": {
        "id": "brief-capture"
      },
      "outputs": [],
      "source": []
    },
    {
      "cell_type": "markdown",
      "id": "powered-restriction",
      "metadata": {
        "id": "powered-restriction"
      },
      "source": [
        "SQL Alchemy also offers Object Relational Mapping (ORM), a way to map Python classes with database tables, for a more Python-friendly access to a SQL database. Learn about the ORMs here: https://docs.sqlalchemy.org/en/14/orm/tutorial.html#version-check"
      ]
    },
    {
      "cell_type": "markdown",
      "id": "arranged-harassment",
      "metadata": {
        "id": "arranged-harassment"
      },
      "source": [
        "### `%sql` and `%%sql` Jupyter magics\n",
        "\n",
        "Writing raw SQL queries using SQL Alchemy can be cumbersome. The [`ipython-sql`](https://pypi.org/project/ipython-sql/) library provides magic commands to write raw SQL queries in Jupyter notebooks and retrieve results. It uses SQLAlchemy under the hood."
      ]
    },
    {
      "cell_type": "code",
      "execution_count": null,
      "id": "binding-rwanda",
      "metadata": {
        "id": "binding-rwanda"
      },
      "outputs": [],
      "source": []
    },
    {
      "cell_type": "code",
      "execution_count": null,
      "id": "loaded-separate",
      "metadata": {
        "id": "loaded-separate"
      },
      "outputs": [],
      "source": []
    },
    {
      "cell_type": "code",
      "execution_count": null,
      "id": "surrounded-machinery",
      "metadata": {
        "id": "surrounded-machinery"
      },
      "outputs": [],
      "source": []
    },
    {
      "cell_type": "code",
      "execution_count": null,
      "id": "neither-affect",
      "metadata": {
        "id": "neither-affect"
      },
      "outputs": [],
      "source": []
    },
    {
      "cell_type": "code",
      "execution_count": null,
      "id": "unnecessary-accident",
      "metadata": {
        "id": "unnecessary-accident"
      },
      "outputs": [],
      "source": []
    },
    {
      "cell_type": "markdown",
      "id": "stuffed-conservative",
      "metadata": {
        "id": "stuffed-conservative"
      },
      "source": [
        "We can now execute queries. Single line queries can be written using `%sql` and multiline queries using `%%sql`."
      ]
    },
    {
      "cell_type": "code",
      "execution_count": null,
      "id": "negative-biotechnology",
      "metadata": {
        "scrolled": true,
        "id": "negative-biotechnology"
      },
      "outputs": [],
      "source": []
    },
    {
      "cell_type": "code",
      "execution_count": null,
      "id": "equipped-catch",
      "metadata": {
        "id": "equipped-catch"
      },
      "outputs": [],
      "source": []
    },
    {
      "cell_type": "markdown",
      "id": "opening-flash",
      "metadata": {
        "id": "opening-flash"
      },
      "source": [
        "We can also store results in a variable when using `%sql`"
      ]
    },
    {
      "cell_type": "code",
      "execution_count": null,
      "id": "anonymous-adventure",
      "metadata": {
        "id": "anonymous-adventure"
      },
      "outputs": [],
      "source": []
    },
    {
      "cell_type": "code",
      "execution_count": null,
      "id": "2a835b9f",
      "metadata": {
        "id": "2a835b9f"
      },
      "outputs": [],
      "source": []
    },
    {
      "cell_type": "code",
      "execution_count": null,
      "id": "lasting-parcel",
      "metadata": {
        "id": "lasting-parcel"
      },
      "outputs": [],
      "source": []
    },
    {
      "cell_type": "code",
      "execution_count": null,
      "id": "exotic-department",
      "metadata": {
        "id": "exotic-department"
      },
      "outputs": [],
      "source": []
    },
    {
      "cell_type": "code",
      "execution_count": null,
      "id": "productive-piece",
      "metadata": {
        "id": "productive-piece"
      },
      "outputs": [],
      "source": []
    },
    {
      "cell_type": "code",
      "execution_count": null,
      "id": "organizational-niagara",
      "metadata": {
        "id": "organizational-niagara"
      },
      "outputs": [],
      "source": []
    },
    {
      "cell_type": "code",
      "execution_count": null,
      "id": "cardiovascular-causing",
      "metadata": {
        "id": "cardiovascular-causing"
      },
      "outputs": [],
      "source": []
    },
    {
      "cell_type": "markdown",
      "id": "speaking-sculpture",
      "metadata": {
        "id": "speaking-sculpture"
      },
      "source": [
        "## Summary\n",
        "\n",
        "The following topics are covered in this tutorial:\n",
        "\n",
        "- Aggregation, grouping and pagination in SQL queries\n",
        "- Mapping functions, arithmetic and working with dates\n",
        "- Combining data from different tables using SQL joins\n",
        "- Improving query performance with indexes and queues\n",
        "- Using Python to execute SQL queries\n",
        "\n",
        "Check out the following resources to learn more:\n",
        "- ClassicModels Database: https://www.mysqltutorial.org/mysql-sample-database.aspx\n",
        "- Solutions to challenges: https://github.com/harsha547/ClassicModels-Database-Queries/tree/master/challenges\n",
        "- SQL Exercises: https://www.db-book.com/university-lab-dir/lab-exercises-projects.html\n",
        "- SQL Interview Questions: https://github.com/alexeygrigorev/data-science-interviews/blob/master/technical.md#sql\n",
        "- SQL Tutorial: https://www.w3schools.com/sql/\n",
        "- SQLAlchemy tutorial: https://www.youtube.com/watch?v=sO7FFPNvX2s\n",
        "- Relational databases book: https://db-book.com"
      ]
    },
    {
      "cell_type": "code",
      "execution_count": null,
      "id": "acquired-chase",
      "metadata": {
        "id": "acquired-chase"
      },
      "outputs": [],
      "source": []
    },
    {
      "cell_type": "code",
      "execution_count": null,
      "id": "affected-joining",
      "metadata": {
        "id": "affected-joining"
      },
      "outputs": [],
      "source": []
    },
    {
      "cell_type": "code",
      "execution_count": null,
      "id": "catholic-hebrew",
      "metadata": {
        "id": "catholic-hebrew"
      },
      "outputs": [],
      "source": []
    },
    {
      "cell_type": "markdown",
      "id": "144e30be",
      "metadata": {
        "id": "144e30be"
      },
      "source": [
        "## Revision Questions\n",
        "1.\tWhat are aggregation functions in SQL? Give examples.\n",
        "2.\tHow do you display/show unique entries in a table?\n",
        "3.\tWhat are chaining queries? Explain with an example.\n",
        "4.\tWhat are pagination queries in SQL?\n",
        "5.\tHow do you sort query results in SQL?\n",
        "6.\tWhat does <code>OFFSET</code> keyword do?\n",
        "7.\tWhat are mapping functions in SQL? Explain with an example.\n",
        "8.\tWhat does <code>SUBSTRING</code> do?\n",
        "9.\tCan you perform arithmetic operations on SQL queries? If yes, give an example.\n",
        "10.\tWhat are the date functions in SQL? Explain with an example.\n",
        "11.\tWhy do we use <code>DATE_FORMAT</code>?\n",
        "12.\tWhat are the joins used in SQL?\n",
        "13.\tHow is <code>JOIN</code> different from <code>OUTER JOIN</code>?\n",
        "14.\tWhat is a <code>SELF JOIN</code>?\n",
        "15.\tWhat are the ways to improve query performance? Give some examples.\n",
        "16.\tWhat are the ways to execute SQL queries in Python?\n",
        "17.\tWhat is SQLAlchemy? How is it different from MySQL?\n",
        "18.\tWhat is the purpose of <code>ipython-sql</code> library?\n",
        "19.\tWhat are <code>%sql</code> and <code>%%sql</code> called?\n",
        "20.\tHow to store results in a variable using <code>%sql</code>?"
      ]
    },
    {
      "cell_type": "markdown",
      "id": "65ab264e",
      "metadata": {
        "id": "65ab264e"
      },
      "source": [
        "## Solutions for Exercises"
      ]
    },
    {
      "cell_type": "markdown",
      "id": "644cb5ac",
      "metadata": {
        "id": "644cb5ac"
      },
      "source": [
        "\n",
        "> **EXERCISE**: Retrieve details of all the customers in the United States who have made payments between April 1st 2003 and March 31st 2004.\n",
        ">\n"
      ]
    },
    {
      "cell_type": "markdown",
      "id": "8509e707",
      "metadata": {
        "id": "8509e707"
      },
      "source": [
        "```\n",
        "SELECT * FROM customers WHERE customerNumber in\n",
        "(SELECT DISTINCT customerNumber FROM payments WHERE paymentDate>\"2003-04-01\" and paymentDate<\"2004-03-31\" and country='USA');\n",
        "```"
      ]
    },
    {
      "cell_type": "markdown",
      "id": "c06e9e09",
      "metadata": {
        "id": "c06e9e09"
      },
      "source": [
        "> **EXERCISE**: Determine the total number of units sold for each product\n",
        ">\n"
      ]
    },
    {
      "cell_type": "markdown",
      "id": "dc1a206d",
      "metadata": {
        "id": "dc1a206d"
      },
      "source": [
        "```\n",
        "SELECT productcode, SUM(quantityordered) AS sold_units FROM orderdetails GROUP BY productcode;\n",
        "```"
      ]
    },
    {
      "cell_type": "markdown",
      "id": "7b2ebaa6",
      "metadata": {
        "id": "7b2ebaa6"
      },
      "source": [
        "\n",
        "\n",
        "> **EXERCISE**: Modify the above query to also show the minimum, maximum and average payment value for each customer.\n",
        "\n",
        "In reference to [```SUM``` and ```COUNT```](https://jovian.ai/landryroni/advanced-sql-aggregation-and-joins/v/20#C13) section"
      ]
    },
    {
      "cell_type": "markdown",
      "id": "19fcfe12",
      "metadata": {
        "id": "19fcfe12"
      },
      "source": [
        "```\n",
        "SELECT customernumber,\n",
        "MIN(amount) AS min_amount,\n",
        "MAX(amount) AS max_amount,\n",
        "AVG(amount) AS average_amount\n",
        "FROM payments\n",
        "WHERE paymentdate < '2004-10-28' GROUP BY customernumber;\n",
        "\n",
        "```"
      ]
    },
    {
      "cell_type": "markdown",
      "id": "1dc86801",
      "metadata": {
        "id": "1dc86801"
      },
      "source": [
        "> **EXERCISE**: Show the full office address and phone number for each employee.\n"
      ]
    },
    {
      "cell_type": "markdown",
      "id": "b08ad59d",
      "metadata": {
        "id": "b08ad59d"
      },
      "source": [
        "```\n",
        "SELECT employees.employeenumber, addressline1,addressline2, phone, offices.officecode\n",
        "FROM offices\n",
        "JOIN employees ON offices.officecode=employees.officecode;\n",
        "```"
      ]
    },
    {
      "cell_type": "markdown",
      "id": "c3db71fc",
      "metadata": {
        "id": "c3db71fc"
      },
      "source": [
        "> **EXERCISE**: Show the full order information and product details for order no. 10100.\n"
      ]
    },
    {
      "cell_type": "markdown",
      "id": "d0448d4e",
      "metadata": {
        "id": "d0448d4e"
      },
      "source": [
        "```\n",
        "SELECT ordernumber, products.productcode, products.productname,\n",
        "products.productdescription,quantityordered, priceeach,\n",
        "orderlineNumber FROM orderdetails\n",
        "JOIN products ON orderdetails.productcode= products.productcode\n",
        "WHERE ordernumber='10100';\n",
        "\n",
        "```"
      ]
    }
  ],
  "metadata": {
    "kernelspec": {
      "display_name": "Python 3 (ipykernel)",
      "language": "python",
      "name": "python3"
    },
    "language_info": {
      "codemirror_mode": {
        "name": "ipython",
        "version": 3
      },
      "file_extension": ".py",
      "mimetype": "text/x-python",
      "name": "python",
      "nbconvert_exporter": "python",
      "pygments_lexer": "ipython3",
      "version": "3.9.6"
    },
    "colab": {
      "provenance": [],
      "include_colab_link": true
    }
  },
  "nbformat": 4,
  "nbformat_minor": 5
}