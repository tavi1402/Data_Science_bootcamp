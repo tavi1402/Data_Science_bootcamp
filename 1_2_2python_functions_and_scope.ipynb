{
  "cells": [
    {
      "cell_type": "markdown",
      "metadata": {
        "id": "view-in-github",
        "colab_type": "text"
      },
      "source": [
        "<a href=\"https://colab.research.google.com/github/tavi1402/Data_Science_bootcamp/blob/main/1_2_2python_functions_and_scope.ipynb\" target=\"_parent\"><img src=\"https://colab.research.google.com/assets/colab-badge.svg\" alt=\"Open In Colab\"/></a>"
      ]
    },
    {
      "cell_type": "markdown",
      "metadata": {
        "id": "pJgqaO9tnrun"
      },
      "source": [
        "# Writing Reusable Code using Functions in Python\n",
        "\n",
        "This tutorial is a part of [Data Analysis with Python: Zero to Pandas](https://jovian.ai/learn/data-analysis-with-python-zero-to-pandas) and [Zero to Data Analyst Science Bootcamp](https://jovian.ai/learn/zero-to-data-analyst-bootcamp).\n",
        "\n",
        "![](https://i.imgur.com/TvNf5Jp.png)\n",
        "\n",
        "These tutorials take a practical and coding-focused approach. The best way to learn the material is to execute the code and experiment with it yourself."
      ]
    },
    {
      "cell_type": "markdown",
      "metadata": {
        "id": "we45_DTDnrut"
      },
      "source": [
        "This tutorial covers the following topics:\n",
        "\n",
        "- Creating and using functions in Python\n",
        "- Local variables, return values, and optional arguments\n",
        "- Reusing functions and using Python library functions\n",
        "- Exception handling using `try`-`except` blocks\n",
        "- Documenting functions using docstrings"
      ]
    },
    {
      "cell_type": "markdown",
      "metadata": {
        "id": "YXFV_8Lwnrut"
      },
      "source": [
        "### How to run the code\n",
        "\n",
        "This tutorial is an executable [Jupyter notebook](https://jupyter.org) hosted on [Jovian](https://www.jovian.ai). You can _run_ this tutorial and experiment with the code examples in a couple of ways: *using free online resources* (recommended) or *on your computer*.\n",
        "\n",
        "#### Option 1: Running using free online resources (1-click, recommended)\n",
        "\n",
        "The easiest way to start executing the code is to click the **Run** button at the top of this page and select **Run on Binder**. You can also select \"Run on Colab\" or \"Run on Kaggle\", but you'll need to create an account on [Google Colab](https://colab.research.google.com) or [Kaggle](https://kaggle.com) to use these platforms.\n",
        "\n",
        "\n",
        "#### Option 2: Running on your computer locally\n",
        "\n",
        "To run the code on your computer locally, you'll need to set up [Python](https://www.python.org), download the notebook and install the required libraries. We recommend using the [Conda](https://docs.conda.io/projects/conda/en/latest/user-guide/install/) distribution of Python. Click the **Run** button at the top of this page, select the **Run Locally** option, and follow the instructions.\n",
        "\n",
        ">  **Jupyter Notebooks**: This tutorial is a [Jupyter notebook](https://jupyter.org) - a document made of _cells_. Each cell can contain code written in Python or explanations in plain English. You can execute code cells and view the results, e.g., numbers, messages, graphs, tables, files, etc., instantly within the notebook. Jupyter is a powerful platform for experimentation and analysis. Don't be afraid to mess around with the code & break things - you'll learn a lot by encountering and fixing errors. You can use the \"Kernel > Restart & Clear Output\" menu option to clear all outputs and start again from the top."
      ]
    },
    {
      "cell_type": "markdown",
      "metadata": {
        "id": "KDdBFMAUnruu"
      },
      "source": [
        "## Creating and using functions\n",
        "\n",
        "A function is a reusable set of instructions that takes one or more inputs, performs some operations, and often returns an output. Python contains many in-built functions like `print`, `len`, etc., and provides the ability to define new ones."
      ]
    },
    {
      "cell_type": "code",
      "execution_count": null,
      "metadata": {
        "id": "xziUW9Aunruv"
      },
      "outputs": [],
      "source": []
    },
    {
      "cell_type": "markdown",
      "metadata": {
        "id": "Q1PA8Obpnruw"
      },
      "source": [
        "You can define a new function using the `def` keyword."
      ]
    },
    {
      "cell_type": "code",
      "execution_count": null,
      "metadata": {
        "id": "xINBzTRDnruw"
      },
      "outputs": [],
      "source": []
    },
    {
      "cell_type": "markdown",
      "metadata": {
        "id": "VG7nLcT8nrux"
      },
      "source": [
        "Note the round brackets or parentheses `()` and colon `:` after the function's name. Both are essential parts of the syntax. The function's *body* contains an indented block of statements. The statements inside a function's body are not executed when the function is defined. To execute the statements, we need to *call* or *invoke* the function."
      ]
    },
    {
      "cell_type": "code",
      "execution_count": null,
      "metadata": {
        "id": "kHsGNTWanruy"
      },
      "outputs": [],
      "source": []
    },
    {
      "cell_type": "markdown",
      "metadata": {
        "id": "Z-yY5yY6nruy"
      },
      "source": [
        "### Function arguments\n",
        "\n",
        "Functions can accept zero or more values as *inputs* (also knows as *arguments* or *parameters*). Arguments help us write flexible functions that can perform the same operations on different values. Further, functions can return a result that can be stored in a variable or used in other expressions.\n",
        "\n",
        "Here's a function that filters out the even numbers from a list and returns a new list using the `return` keyword."
      ]
    },
    {
      "cell_type": "code",
      "execution_count": null,
      "metadata": {
        "id": "NnpIddDSnruy"
      },
      "outputs": [],
      "source": []
    },
    {
      "cell_type": "markdown",
      "metadata": {
        "id": "kalsmcginruy"
      },
      "source": [
        "Can you understand what the function does by looking at the code? If not, try executing each line of the function's body separately within a code cell with an actual list of numbers in place of `number_list`."
      ]
    },
    {
      "cell_type": "code",
      "execution_count": null,
      "metadata": {
        "id": "ReFmk4WSnruz"
      },
      "outputs": [],
      "source": []
    },
    {
      "cell_type": "code",
      "execution_count": null,
      "metadata": {
        "id": "5a_t6D2Wnruz"
      },
      "outputs": [],
      "source": []
    },
    {
      "cell_type": "markdown",
      "metadata": {
        "id": "Qus9uMPqnruz"
      },
      "source": [
        "## Writing great functions in Python\n",
        "\n",
        "As a programmer, you will spend most of your time writing and using functions. Python offers many features to make your functions powerful and flexible. Let's explore some of these by solving a problem:\n",
        "\n",
        "> Radha is planning to buy a house that costs `$1,260,000`. She considering two options to finance her purchase:\n",
        ">\n",
        "> * Option 1: Make an immediate down payment of `$300,000`, and take loan 8-year loan with an interest rate of 10% (compounded monthly) for the remaining amount.\n",
        "> * Option 2: Take a 10-year loan with an interest rate of 8% (compounded monthly) for the entire amount.\n",
        ">\n",
        "> Both these loans have to be paid back in equal monthly installments (EMIs). Which loan has a lower EMI among the two?\n",
        "\n",
        "\n",
        "Since we need to compare the EMIs for two loan options, defining a function to calculate the EMI for a loan would be a great idea.  The inputs to the function would be cost of the house, the down payment, duration of the loan, rate of interest etc. We'll build this function step by step.\n",
        "\n",
        "First, let's write a simple function that calculates the EMI on the entire cost of the house, assuming that the loan must be paid back in one year, and there is no interest or down payment."
      ]
    },
    {
      "cell_type": "code",
      "execution_count": null,
      "metadata": {
        "id": "3vWLRDOnnruz"
      },
      "outputs": [],
      "source": []
    },
    {
      "cell_type": "code",
      "execution_count": null,
      "metadata": {
        "id": "PrInQ3kPnruz"
      },
      "outputs": [],
      "source": []
    },
    {
      "cell_type": "markdown",
      "metadata": {
        "id": "Zkxfz91Inruz"
      },
      "source": [
        "### Local variables and scope\n",
        "\n",
        "Let's add a second argument to account for the duration of the loan in months."
      ]
    },
    {
      "cell_type": "code",
      "execution_count": null,
      "metadata": {
        "id": "D4Yqlftnnruz"
      },
      "outputs": [],
      "source": []
    },
    {
      "cell_type": "markdown",
      "metadata": {
        "id": "JuSyv4Cxnruz"
      },
      "source": [
        "Note that the variable `emi` defined inside the function is not accessible outside. The same is true for the parameters `amount` and `duration`. These are all *local variables* that lie within the *scope* of the function.\n",
        "\n",
        "> **Scope**: Scope refers to the region within the code where a particular variable is visible. Every function (or class definition) defines a scope within Python. Variables defined in this scope are called *local variables*. Variables that are available everywhere are called *global variables*. Scope rules allow you to use the same variable names in different functions without sharing values from one to the other."
      ]
    },
    {
      "cell_type": "code",
      "execution_count": null,
      "metadata": {
        "id": "YVoe_HIbnruz"
      },
      "outputs": [],
      "source": []
    },
    {
      "cell_type": "code",
      "execution_count": null,
      "metadata": {
        "id": "LaE98ZGynru0"
      },
      "outputs": [],
      "source": []
    },
    {
      "cell_type": "code",
      "execution_count": null,
      "metadata": {
        "id": "wVisTCyonru0"
      },
      "outputs": [],
      "source": []
    },
    {
      "cell_type": "markdown",
      "metadata": {
        "id": "iLTuscBvnru0"
      },
      "source": [
        "We can now compare a 8-year loan vs. a 10-year loan (assuming no down payment or interest)."
      ]
    },
    {
      "cell_type": "code",
      "execution_count": null,
      "metadata": {
        "id": "YIEdG7wJnru0"
      },
      "outputs": [],
      "source": []
    },
    {
      "cell_type": "code",
      "execution_count": null,
      "metadata": {
        "scrolled": true,
        "id": "yfBCiX_hnru0"
      },
      "outputs": [],
      "source": []
    },
    {
      "cell_type": "markdown",
      "metadata": {
        "id": "CX_5HcTtnru0"
      },
      "source": [
        "### Return values\n",
        "\n",
        "As you might expect, the EMI for the 6-year loan is higher compared to the 10-year loan. Right now, we're printing out the result. It would be better to return it and store the results in variables for easier comparison. We can do this using the `return` statement"
      ]
    },
    {
      "cell_type": "code",
      "execution_count": null,
      "metadata": {
        "id": "s_eLGfeKnru0"
      },
      "outputs": [],
      "source": []
    },
    {
      "cell_type": "code",
      "execution_count": null,
      "metadata": {
        "id": "Ybny8x-unru0"
      },
      "outputs": [],
      "source": []
    },
    {
      "cell_type": "code",
      "execution_count": null,
      "metadata": {
        "id": "jTab4pldnru0"
      },
      "outputs": [],
      "source": []
    },
    {
      "cell_type": "code",
      "execution_count": null,
      "metadata": {
        "scrolled": true,
        "id": "fkdpVebXnru0"
      },
      "outputs": [],
      "source": []
    },
    {
      "cell_type": "code",
      "execution_count": null,
      "metadata": {
        "id": "PMr97F6_nru0"
      },
      "outputs": [],
      "source": []
    },
    {
      "cell_type": "markdown",
      "metadata": {
        "id": "wnQss3Fgnru0"
      },
      "source": [
        "### Optional arguments\n",
        "\n",
        "Next, let's add another argument to account for the immediate down payment. We'll make this an *optional argument* with a default value of 0."
      ]
    },
    {
      "cell_type": "code",
      "execution_count": null,
      "metadata": {
        "id": "t339TXRnnru0"
      },
      "outputs": [],
      "source": []
    },
    {
      "cell_type": "code",
      "execution_count": null,
      "metadata": {
        "id": "nDsLBhHWnru0"
      },
      "outputs": [],
      "source": []
    },
    {
      "cell_type": "code",
      "execution_count": null,
      "metadata": {
        "id": "jBRk_Tounru0"
      },
      "outputs": [],
      "source": []
    },
    {
      "cell_type": "code",
      "execution_count": null,
      "metadata": {
        "id": "kmk682uenru1"
      },
      "outputs": [],
      "source": []
    },
    {
      "cell_type": "code",
      "execution_count": null,
      "metadata": {
        "id": "SZ7TluFTnru1"
      },
      "outputs": [],
      "source": []
    },
    {
      "cell_type": "markdown",
      "metadata": {
        "id": "ptdzcqebnru1"
      },
      "source": [
        "Next, let's add the interest calculation into the function. Here's the formula used to calculate the EMI for a loan:\n",
        "\n",
        "<img src=\"https://i.imgur.com/iKujHGK.png\" style=\"width:240px\">\n",
        "\n",
        "where:\n",
        "\n",
        "* `P` is the loan amount (principal)\n",
        "* `n` is the no. of months\n",
        "* `r` is the rate of interest per month\n",
        "\n",
        "The derivation of this formula is beyond the scope of this tutorial. See this video for an explanation: https://youtu.be/Coxza9ugW4E ."
      ]
    },
    {
      "cell_type": "code",
      "execution_count": null,
      "metadata": {
        "id": "-Mv-mSIlnru8"
      },
      "outputs": [],
      "source": []
    },
    {
      "cell_type": "markdown",
      "metadata": {
        "id": "pX5OMnOtnru8"
      },
      "source": [
        "Note that while defining the function, required arguments like `cost`, `duration` and `rate` must appear before optional arguments like `down_payment`.\n",
        "\n",
        "Let's calculate the EMI for Option 1"
      ]
    },
    {
      "cell_type": "code",
      "execution_count": null,
      "metadata": {
        "scrolled": true,
        "id": "utSfVC2Cnru8"
      },
      "outputs": [],
      "source": []
    },
    {
      "cell_type": "markdown",
      "metadata": {
        "id": "prW6XQafnru9"
      },
      "source": [
        "While calculating the EMI for Option 2, we need not include the `down_payment` argument."
      ]
    },
    {
      "cell_type": "code",
      "execution_count": null,
      "metadata": {
        "id": "k6Uu8df_nru9"
      },
      "outputs": [],
      "source": []
    },
    {
      "cell_type": "markdown",
      "metadata": {
        "id": "5i4AVdtNnru9"
      },
      "source": [
        "### Named arguments\n",
        "\n",
        "Invoking a function with many arguments can often get confusing and is prone to human errors. Python provides the option of invoking functions with *named* arguments for better clarity. You can also split function invocation into multiple lines."
      ]
    },
    {
      "cell_type": "code",
      "execution_count": null,
      "metadata": {
        "id": "PRJMVstLnru9"
      },
      "outputs": [],
      "source": []
    },
    {
      "cell_type": "code",
      "execution_count": null,
      "metadata": {
        "id": "twr-Un8hnru9"
      },
      "outputs": [],
      "source": []
    },
    {
      "cell_type": "code",
      "execution_count": null,
      "metadata": {
        "id": "xgVs7cNYnru-"
      },
      "outputs": [],
      "source": []
    },
    {
      "cell_type": "code",
      "execution_count": null,
      "metadata": {
        "id": "wckTUZcqnru-"
      },
      "outputs": [],
      "source": []
    },
    {
      "cell_type": "markdown",
      "metadata": {
        "id": "P-3C3seInru-"
      },
      "source": [
        "### Modules and library functions\n",
        "\n",
        "We can already see that the EMI for Option 1 is lower than the EMI for Option 2. However, it would be nice to round up the amount to full dollars, rather than showing digits after the decimal. To achieve this, we might want to write a function that can take a number and round it up to the next integer (e.g., 1.2 is rounded up to 2). That would be a great exercise to try out!\n",
        "\n",
        "However, since rounding numbers is a fairly common operation, Python provides a function for it (along with thousands of other functions) as part of the [Python Standard Library](https://docs.python.org/3/library/). Functions are organized into *modules* that need to be imported to use the functions they contain.\n",
        "\n",
        "> **Modules**: Modules are files containing Python code (variables, functions, classes, etc.). They provide a way of organizing the code for large Python projects into files and folders. The key benefit of using modules is _namespaces_: you must import the module to use its functions within a Python script or notebook. Namespaces provide encapsulation and avoid naming conflicts between your code and a module or across modules.\n",
        "\n",
        "We can use the `ceil` function (short for *ceiling*) from the `math` module to round up numbers. Let's import the module and use it to round up the number `1.2`."
      ]
    },
    {
      "cell_type": "code",
      "execution_count": null,
      "metadata": {
        "id": "RFvwW1qMnru-"
      },
      "outputs": [],
      "source": []
    },
    {
      "cell_type": "code",
      "execution_count": null,
      "metadata": {
        "id": "plaaRil8nru-"
      },
      "outputs": [],
      "source": []
    },
    {
      "cell_type": "code",
      "execution_count": null,
      "metadata": {
        "id": "8-gaYbmhnru-"
      },
      "outputs": [],
      "source": []
    },
    {
      "cell_type": "markdown",
      "metadata": {
        "id": "GbQnnLIfnru-"
      },
      "source": [
        "Let's now use the `math.ceil` function within the `home_loan_emi` function to round up the EMI amount.\n",
        "\n",
        "> Using functions to build other functions is a great way to reuse code and implement complex business logic while still keeping the code small, understandable, and manageable. Ideally, a function should do one thing and one thing only. If you find yourself writing a function that does too many things, consider splitting it into multiple smaller, independent functions. As a rule of thumb, try to limit your functions to 10 lines of code or less. Good programmers always write short, simple, and readable functions.\n",
        "\n"
      ]
    },
    {
      "cell_type": "code",
      "execution_count": null,
      "metadata": {
        "id": "4XHuwqoBnru-"
      },
      "outputs": [],
      "source": []
    },
    {
      "cell_type": "code",
      "execution_count": null,
      "metadata": {
        "id": "V3KKiyPSnru-"
      },
      "outputs": [],
      "source": []
    },
    {
      "cell_type": "code",
      "execution_count": null,
      "metadata": {
        "id": "oc2oRE3enru_"
      },
      "outputs": [],
      "source": []
    },
    {
      "cell_type": "code",
      "execution_count": null,
      "metadata": {
        "id": "Sy3kyzgjnru_"
      },
      "outputs": [],
      "source": []
    },
    {
      "cell_type": "code",
      "execution_count": null,
      "metadata": {
        "id": "BbtttuoSnru_"
      },
      "outputs": [],
      "source": []
    },
    {
      "cell_type": "markdown",
      "metadata": {
        "id": "ZHpruTNFnru_"
      },
      "source": [
        "Let's compare the EMIs and display a message for the option with the lower EMI."
      ]
    },
    {
      "cell_type": "code",
      "execution_count": null,
      "metadata": {
        "id": "fGTOp292nru_"
      },
      "outputs": [],
      "source": []
    },
    {
      "cell_type": "markdown",
      "metadata": {
        "id": "h2wORp7xnru_"
      },
      "source": [
        "### Reusing and improving functions\n",
        "\n",
        "Now we know for sure that \"Option 1\" has the lower EMI among the two options. But what's even better is that we now have a handy function `loan_emi` that we can use to solve many other similar problems with just a few lines of code. Let's try it with a couple more questions."
      ]
    },
    {
      "cell_type": "markdown",
      "metadata": {
        "id": "HiRJvhyEnru_"
      },
      "source": [
        "> **Q**: Shaun is currently paying back a home loan for a house he bought a few years ago. The cost of the house was `$800,000`. Shaun made a down payment of `25%` of the price. He financed the remaining amount using a 6-year loan with an interest rate of `7%` per annum (compounded monthly). Shaun is now buying a car worth `$60,000`, which he is planning to finance using a 1-year loan with an interest rate of `12%` per annum. Both loans are paid back in EMIs. What is the total monthly payment Shaun makes towards loan repayment?\n",
        "\n",
        "This question is now straightforward to solve, using the `loan_emi` function we've already defined."
      ]
    },
    {
      "cell_type": "code",
      "execution_count": null,
      "metadata": {
        "id": "sxclpqOmnru_"
      },
      "outputs": [],
      "source": []
    },
    {
      "cell_type": "code",
      "execution_count": null,
      "metadata": {
        "id": "Wzjtj4mUnru_"
      },
      "outputs": [],
      "source": []
    },
    {
      "cell_type": "code",
      "execution_count": null,
      "metadata": {
        "id": "iMHtXt-Qnru_"
      },
      "outputs": [],
      "source": []
    },
    {
      "cell_type": "markdown",
      "metadata": {
        "id": "IAsrdLXJnrvA"
      },
      "source": [
        "### Exceptions and `try`-`except`\n",
        "\n",
        "> Q: If you borrow `$100,000` using a 10-year loan with an interest rate of 9% per annum, what is the total amount you end up paying as interest?\n",
        "\n",
        "One way to solve this problem is to compare the EMIs for two loans: one with the given rate of interest and another with a 0% rate of interest. The total interest paid is then simply the sum of monthly differences over the duration of the loan."
      ]
    },
    {
      "cell_type": "code",
      "execution_count": null,
      "metadata": {
        "id": "v5WNno24nrvA"
      },
      "outputs": [],
      "source": []
    },
    {
      "cell_type": "code",
      "execution_count": null,
      "metadata": {
        "id": "OJWYyh2JnrvA"
      },
      "outputs": [],
      "source": []
    },
    {
      "cell_type": "markdown",
      "metadata": {
        "id": "a6Mv7zkjnrvA"
      },
      "source": [
        "Something seems to have gone wrong! If you look at the error message above carefully, Python tells us precisely what is wrong. Python *throws* a `ZeroDivisionError` with a message indicating that we're trying to divide a number by zero. `ZeroDivisonError` is an *exception* that stops further execution of the program.\n",
        "\n",
        "> **Exception**: Even if a statement or expression is syntactically correct, it may cause an error when the Python interpreter tries to execute it. Errors detected during execution are called exceptions. Exceptions typically stop further execution of the program unless handled within the program using `try`-`except` statements.\n",
        "\n",
        "Python provides many built-in exceptions *thrown* when built-in operators, functions, or methods are used incorrectly: https://docs.python.org/3/library/exceptions.html#built-in-exceptions. You can also define your custom exception by extending the `Exception` class (more on that later).\n",
        "\n",
        "You can use the `try` and `except` statements to *handle* an exception. Here's an example:"
      ]
    },
    {
      "cell_type": "code",
      "execution_count": null,
      "metadata": {
        "id": "WY64YVn1nrvA"
      },
      "outputs": [],
      "source": []
    },
    {
      "cell_type": "markdown",
      "metadata": {
        "id": "hEDB7m1TnrvA"
      },
      "source": [
        "When an exception occurs inside a `try` block, the block's remaining statements are skipped. The `except` block is executed if the type of exception thrown matches that of the exception being handled. After executing the `except` block, the program execution returns to the normal flow.\n",
        "\n",
        "You can also handle more than one type of exception using multiple `except` statements. Learn more about exceptions here: https://www.w3schools.com/python/python_try_except.asp .\n",
        "\n",
        "Let's enhance the `loan_emi` function to use `try`-`except` to handle the scenario where the interest rate is 0%. It's common practice to make changes/enhancements to functions over time as new scenarios and use cases come up. It makes functions more robust & versatile."
      ]
    },
    {
      "cell_type": "code",
      "execution_count": null,
      "metadata": {
        "id": "1Fhp5s2ynrvA"
      },
      "outputs": [],
      "source": []
    },
    {
      "cell_type": "markdown",
      "metadata": {
        "id": "jFQvedcWnrvA"
      },
      "source": [
        "We can use the updated `loan_emi` function to solve our problem.\n",
        "\n",
        "> **Q**: If you borrow `$100,000` using a 10-year loan with an interest rate of 9% per annum, what is the total amount you end up paying as interest?\n",
        "\n"
      ]
    },
    {
      "cell_type": "code",
      "execution_count": null,
      "metadata": {
        "id": "lyvoasExnrvA"
      },
      "outputs": [],
      "source": []
    },
    {
      "cell_type": "code",
      "execution_count": null,
      "metadata": {
        "id": "ox8ydOWLnrvD"
      },
      "outputs": [],
      "source": []
    },
    {
      "cell_type": "code",
      "execution_count": null,
      "metadata": {
        "id": "14sqnZvEnrvD"
      },
      "outputs": [],
      "source": []
    },
    {
      "cell_type": "code",
      "execution_count": null,
      "metadata": {
        "id": "f3y3qpZ2nrvD"
      },
      "outputs": [],
      "source": []
    },
    {
      "cell_type": "markdown",
      "metadata": {
        "id": "xbgEcf6jnrvD"
      },
      "source": [
        "### Documenting functions using Docstrings\n",
        "\n",
        "We can add some documentation within our function using a *docstring*. A docstring is simply a string that appears as the first statement within the function body, and is used by the `help` function. A good docstring describes what the function does, and provides some explanation about the arguments."
      ]
    },
    {
      "cell_type": "code",
      "execution_count": null,
      "metadata": {
        "id": "tYlin00HnrvD"
      },
      "outputs": [],
      "source": []
    },
    {
      "cell_type": "markdown",
      "metadata": {
        "id": "iKksSUnwnrvE"
      },
      "source": [
        "In the docstring above, we've provided some additional information that the `duration` and `rate` are measured in months. You might even consider naming the arguments `duration_months` and `rate_monthly`, to avoid any confusion whatsoever. Can you think of some other ways to improve the function?"
      ]
    },
    {
      "cell_type": "code",
      "execution_count": null,
      "metadata": {
        "id": "_GtZ8ixAnrvE"
      },
      "outputs": [],
      "source": []
    },
    {
      "cell_type": "markdown",
      "metadata": {
        "id": "Q6Gj9ZqsnrvE"
      },
      "source": [
        "### Save and upload your notebook\n",
        "\n",
        "Whether you're running this Jupyter notebook online or on your computer, it's essential to save your work from time to time. You can continue working on a saved notebook later or share it with friends and colleagues to let them execute your code. [Jovian](https://www.jovian.ai) offers an easy way of saving and sharing your Jupyter notebooks online."
      ]
    },
    {
      "cell_type": "code",
      "execution_count": null,
      "metadata": {
        "id": "13fauqtbnrvE"
      },
      "outputs": [],
      "source": []
    },
    {
      "cell_type": "code",
      "execution_count": null,
      "metadata": {
        "id": "kbCVSEhrnrvE"
      },
      "outputs": [],
      "source": []
    },
    {
      "cell_type": "code",
      "execution_count": null,
      "metadata": {
        "id": "oga0IBounrvE"
      },
      "outputs": [],
      "source": []
    },
    {
      "cell_type": "markdown",
      "metadata": {
        "id": "PiAzJxY8nrvE"
      },
      "source": [
        "The first time you run `jovian.commit`, you'll be asked to provide an API Key to securely upload the notebook to your Jovian account. You can get the API key from your [Jovian profile page](https://jovian.ai) after logging in / signing up.\n",
        "\n",
        "\n",
        "`jovian.commit` uploads the notebook to your Jovian account, captures the Python environment, and creates a shareable link for your notebook, as shown above. You can use this link to share your work and let anyone (including you) run your notebooks and reproduce your work."
      ]
    },
    {
      "cell_type": "markdown",
      "metadata": {
        "id": "1K89a-dKnrvF"
      },
      "source": [
        "## Exercise - Data Analysis for Vacation Planning\n",
        "\n",
        "You're planning a vacation, and you need to decide which city you want to visit. You have shortlisted four cities and identified the return flight cost, daily hotel cost, and weekly car rental cost. While renting a car, you need to pay for entire weeks, even if you return the car sooner.\n",
        "\n",
        "\n",
        "| City | Return Flight (`$`) | Hotel per day (`$`) | Weekly Car Rental  (`$`) |\n",
        "|------|--------------------------|------------------|------------------------|\n",
        "| Paris|       200                |       20         |          200           |\n",
        "| London|      250                |       30         |          120           |\n",
        "| Dubai|       370                |       15         |          80           |\n",
        "| Mumbai|      450                |       10         |          70           |         \n",
        "\n",
        "\n",
        "Answer the following questions using the data above:\n",
        "\n",
        "1. If you're planning a 1-week long trip, which city should you visit to spend the least amount of money?\n",
        "2. How does the answer to the previous question change if you change the trip's duration to four days, ten days or two weeks?\n",
        "3. If your total budget for the trip is `$1000`, which city should you visit to maximize the duration of your trip? Which city should you visit if you want to minimize the duration?\n",
        "4. How does the answer to the previous question change if your budget is `$600`, `$2000`, or `$1500`?\n",
        "\n",
        "*Hint: To answer these questions, it will help to define a function `cost_of_trip` with relevant inputs like flight cost, hotel rate, car rental rate, and duration of the trip. You may find the `math.ceil` function useful for calculating the total cost of car rental.*"
      ]
    },
    {
      "cell_type": "code",
      "execution_count": null,
      "metadata": {
        "id": "SIH-6BXBnrvF"
      },
      "outputs": [],
      "source": []
    },
    {
      "cell_type": "code",
      "execution_count": null,
      "metadata": {
        "id": "mO40nHeInrvF"
      },
      "outputs": [],
      "source": []
    },
    {
      "cell_type": "code",
      "execution_count": null,
      "metadata": {
        "id": "eUUMJ11rnrvF"
      },
      "outputs": [],
      "source": []
    },
    {
      "cell_type": "code",
      "execution_count": null,
      "metadata": {
        "id": "ZJIjaydanrvF"
      },
      "outputs": [],
      "source": []
    },
    {
      "cell_type": "markdown",
      "metadata": {
        "id": "wpEK3CPEnrvF"
      },
      "source": [
        "## Summary and Further Reading\n",
        "\n",
        "With this, we complete our discussion of functions in Python. We've covered the following topics in this tutorial:\n",
        "\n",
        "* Creating and using functions\n",
        "* Functions with one or more arguments\n",
        "* Local variables and scope\n",
        "* Returning values using `return`\n",
        "* Using default arguments to make a function flexible\n",
        "* Using named arguments while invoking a function\n",
        "* Importing modules and using library functions\n",
        "* Reusing and improving functions to handle new use cases\n",
        "* Handling exceptions with `try`-`except`\n",
        "* Documenting functions using docstrings\n",
        "\n",
        "This tutorial on functions in Python is by no means exhaustive. Here are a few more topics to learn about:\n",
        "\n",
        "* Functions with an arbitrary number of arguments using (`*args` and `**kwargs`)\n",
        "* Defining functions inside functions (and closures)\n",
        "* A function that invokes itself (recursion)\n",
        "* Functions that accept other functions as arguments or return other functions\n",
        "* Functions that enhance other functions (decorators)\n",
        "\n",
        "Following are some resources to learn about more functions in Python:\n",
        "\n",
        "* Python Tutorial at W3Schools: https://www.w3schools.com/python/\n",
        "* Practical Python Programming: https://dabeaz-course.github.io/practical-python/Notes/Contents.html\n",
        "* Python official documentation: https://docs.python.org/3/tutorial/index.html\n",
        "\n",
        "You are ready to move on to the next tutorial: [\"Reading from and writing to files using Python\"](https://jovian.ml/aakashns/python-os-and-filesystem)."
      ]
    },
    {
      "cell_type": "markdown",
      "metadata": {
        "id": "zou1poatnrvF"
      },
      "source": [
        "## Questions for Revision\n",
        "\n",
        "Try answering the following questions to test your understanding of the topics covered in this notebook:\n",
        "\n",
        "1. What is a function?\n",
        "2. What are the benefits of using functions?\n",
        "3. What are some built-in functions in Python?\n",
        "4. How do you define a function in Python? Give an example.\n",
        "5. What is the body of a function?\n",
        "6. When are the statements in the body of a function executed?\n",
        "7. What is meant by calling or invoking a function? Give an example.\n",
        "8. What are function arguments? How are they useful?\n",
        "9. How do you store the result of a function in a variable?\n",
        "10. What is the purpose of the `return` keyword in Python?\n",
        "11. Can you return multiple values from a function?\n",
        "12. Can a `return` statement be used inside an `if` block or a `for` loop?\n",
        "13. Can the `return` keyword be used outside a function?\n",
        "14. What is scope in a programming region?\n",
        "15. How do you define a variable inside a function?\n",
        "16. What are local & global variables?\n",
        "17. Can you access the variables defined inside a function outside its body? Why or why not?\n",
        "18. What do you mean by the statement \"a function defines a scope within Python\"?\n",
        "19. Do for and while loops define a scope, like functions?\n",
        "20. Do if-else blocks define a scope, like functions?\n",
        "21. What are optional function arguments & default values? Give an example.\n",
        "22. Why should the required arguments appear before the optional arguments in a function definition?\n",
        "23. How do you invoke a function with named arguments? Illustrate with an example.\n",
        "24. Can you split a function invocation into multiple lines?\n",
        "25. Write a function that takes a number and rounds it up to the nearest integer.\n",
        "26. What are modules in Python?\n",
        "27. What is a Python library?\n",
        "28. What is the Python Standard Library?\n",
        "29. Where can you learn about the modules and functions available in the Python standard library?\n",
        "30. How do you install a third-party library?\n",
        "31. What is a module namespace? How is it useful?\n",
        "32. What problems would you run into if Python modules did not provide namespaces?\n",
        "33. How do you import a module?\n",
        "34. How do you use a function from an imported module? Illustrate with an example.\n",
        "35. Can you invoke a function inside the body of another function? Give an example.\n",
        "36. What is the single responsibility principle, and how does it apply while writing functions?\n",
        "37. What some characteristics of well-written functions?\n",
        "38. Can you use if statements or while loops within a function? Illustrate with an example.\n",
        "39. What are exceptions in Python? When do they occur?\n",
        "40. How are exceptions different from syntax errors?\n",
        "41. What are the different types of in-built exceptions in Python? Where can you learn about them?\n",
        "42. How do you prevent the termination of a program due to an exception?\n",
        "43. What is the purpose of the `try`-`except` statements in Python?\n",
        "44. What is the syntax of the `try`-`except` statements? Give an example.\n",
        "45. What happens if an exception occurs inside a `try` block?\n",
        "46. How do you handle two different types of exceptions using `except`? Can you have multiple `except` blocks under a single `try` block?\n",
        "47. How do you create an `except` block to handle any type of exception?\n",
        "48. Illustrate the usage of `try`-`except` inside a function with an example.\n",
        "49. What is a docstring? Why is it useful?\n",
        "50. How do you display the docstring for a function?\n",
        "51. What are *args and **kwargs? How are they useful? Give an example.\n",
        "52. Can you define functions inside functions?\n",
        "53. What is function closure in Python? How is it useful? Give an example.\n",
        "54. What is recursion? Illustrate with an example.\n",
        "55. Can functions accept other functions as arguments? Illustrate with an example.\n",
        "56. Can functions return other functions as results? Illustrate with an example.\n",
        "57. What are decorators? How are they useful?\n",
        "58. Implement a function decorator which prints the arguments and result of wrapped functions.\n",
        "59. What are some in-built decorators in Python?\n",
        "60. What are some popular Python libraries?"
      ]
    },
    {
      "cell_type": "markdown",
      "metadata": {
        "id": "f8pnUjtCnrvG"
      },
      "source": [
        "## Solution for Exercise"
      ]
    },
    {
      "cell_type": "markdown",
      "metadata": {
        "id": "gx4boVOTnrvG"
      },
      "source": [
        "### Exercise - Data Analysis for Vacation Planning\n",
        "\n",
        "You're planning a vacation, and you need to decide which city you want to visit. You have shortlisted four cities and identified the return flight cost, daily hotel cost, and weekly car rental cost. While renting a car, you need to pay for entire weeks, even if you return the car sooner.\n",
        "\n",
        "\n",
        "| City | Return Flight (`$`) | Hotel per day (`$`) | Weekly Car Rental  (`$`) |\n",
        "|------|--------------------------|------------------|------------------------|\n",
        "| Paris|       200                |       20         |          200           |\n",
        "| London|      250                |       30         |          120           |\n",
        "| Dubai|       370                |       15         |          80           |\n",
        "| Mumbai|      450                |       10         |          70           |         \n",
        "\n",
        "\n",
        "Answer the following questions using the data above:\n",
        "\n",
        "1. If you're planning a 1-week long trip, which city should you visit to spend the least amount of money?\n",
        "2. How does the answer to the previous question change if you change the trip's duration to four days, ten days or two weeks?\n",
        "3. If your total budget for the trip is `$600`, which city should you visit to maximize the duration of your trip? Which city should you visit if you want to minimize the duration?\n",
        "4. How does the answer to the previous question change if your budget is `$1000`, `$2000`, or `$1500`?\n",
        "\n",
        "*Hint: To answer these questions, it will help to define a function `cost_of_trip` with relevant inputs like flight cost, hotel rate, car rental rate, and duration of the trip. You may find the `math.ceil` function useful for calculating the total cost of car rental.*"
      ]
    },
    {
      "cell_type": "code",
      "execution_count": null,
      "metadata": {
        "id": "mzreR6k1nrvG"
      },
      "outputs": [],
      "source": []
    },
    {
      "cell_type": "code",
      "execution_count": null,
      "metadata": {
        "id": "ul7fMQ8WnrvG"
      },
      "outputs": [],
      "source": []
    },
    {
      "cell_type": "code",
      "execution_count": null,
      "metadata": {
        "id": "5VLQQl-UnrvG"
      },
      "outputs": [],
      "source": []
    },
    {
      "cell_type": "code",
      "execution_count": null,
      "metadata": {
        "id": "Bzz-gXvInrvG"
      },
      "outputs": [],
      "source": []
    },
    {
      "cell_type": "markdown",
      "metadata": {
        "id": "Eur0kfq8nrvH"
      },
      "source": [
        "> 1. If you're planning a 1-week long trip, which city should you visit to spend the least amount of money?"
      ]
    },
    {
      "cell_type": "code",
      "execution_count": null,
      "metadata": {
        "id": "OUpYzhX9nrvH"
      },
      "outputs": [],
      "source": []
    },
    {
      "cell_type": "markdown",
      "metadata": {
        "id": "RC83R0YznrvH"
      },
      "source": [
        "> 2. How does the answer to the previous question change if you change the trip's duration to four days, ten days or two weeks?"
      ]
    },
    {
      "cell_type": "code",
      "execution_count": null,
      "metadata": {
        "id": "3p9BxP2fnrvH"
      },
      "outputs": [],
      "source": []
    },
    {
      "cell_type": "code",
      "execution_count": null,
      "metadata": {
        "id": "32Lc125hnrvI"
      },
      "outputs": [],
      "source": []
    },
    {
      "cell_type": "code",
      "execution_count": null,
      "metadata": {
        "id": "6MbcheQBnrvI"
      },
      "outputs": [],
      "source": []
    },
    {
      "cell_type": "markdown",
      "metadata": {
        "id": "WY61VxENnrvI"
      },
      "source": [
        "> 3. If your total budget for the trip is `$600`, which city should you visit to maximize the duration of your trip? Which city should you visit if you want to minimize the duration?"
      ]
    },
    {
      "cell_type": "code",
      "execution_count": null,
      "metadata": {
        "id": "uXUSigtrnrvI"
      },
      "outputs": [],
      "source": []
    },
    {
      "cell_type": "code",
      "execution_count": null,
      "metadata": {
        "id": "6Y9mmPB_nrvI"
      },
      "outputs": [],
      "source": []
    },
    {
      "cell_type": "code",
      "execution_count": null,
      "metadata": {
        "id": "vSGBN7YJnrvJ"
      },
      "outputs": [],
      "source": []
    },
    {
      "cell_type": "code",
      "execution_count": null,
      "metadata": {
        "id": "i2NkTXIEnrvJ"
      },
      "outputs": [],
      "source": []
    },
    {
      "cell_type": "code",
      "execution_count": null,
      "metadata": {
        "id": "QyHmB5l5nrvJ"
      },
      "outputs": [],
      "source": []
    },
    {
      "cell_type": "markdown",
      "metadata": {
        "id": "XJN2xQbPnrvK"
      },
      "source": [
        "> 4. How does the answer to the previous question change if your budget is `$1000`, `$2000`, or `$1500`?"
      ]
    },
    {
      "cell_type": "markdown",
      "metadata": {
        "id": "CYCkVZ1gnrvK"
      },
      "source": [
        "- For 1000 dollars"
      ]
    },
    {
      "cell_type": "code",
      "execution_count": null,
      "metadata": {
        "id": "7Tv6KJ8LnrvK"
      },
      "outputs": [],
      "source": []
    },
    {
      "cell_type": "code",
      "execution_count": null,
      "metadata": {
        "id": "Tlyuqh_jnrvK"
      },
      "outputs": [],
      "source": []
    },
    {
      "cell_type": "markdown",
      "metadata": {
        "id": "AKywl761nrvL"
      },
      "source": [
        "- For 2000 dollars"
      ]
    },
    {
      "cell_type": "code",
      "execution_count": null,
      "metadata": {
        "id": "lecV_eQknrvL"
      },
      "outputs": [],
      "source": []
    },
    {
      "cell_type": "code",
      "execution_count": null,
      "metadata": {
        "id": "1v9Ep3cHnrvL"
      },
      "outputs": [],
      "source": []
    },
    {
      "cell_type": "markdown",
      "metadata": {
        "id": "-qCGDsKlnrvL"
      },
      "source": [
        "- For 1500 dollars"
      ]
    },
    {
      "cell_type": "code",
      "execution_count": null,
      "metadata": {
        "id": "YG7woQgunrvL"
      },
      "outputs": [],
      "source": []
    },
    {
      "cell_type": "code",
      "execution_count": null,
      "metadata": {
        "id": "esIaUQlZnrvL"
      },
      "outputs": [],
      "source": []
    }
  ],
  "metadata": {
    "kernelspec": {
      "display_name": "Python 3 (ipykernel)",
      "language": "python",
      "name": "python3"
    },
    "language_info": {
      "codemirror_mode": {
        "name": "ipython",
        "version": 3
      },
      "file_extension": ".py",
      "mimetype": "text/x-python",
      "name": "python",
      "nbconvert_exporter": "python",
      "pygments_lexer": "ipython3",
      "version": "3.9.6"
    },
    "colab": {
      "provenance": [],
      "include_colab_link": true
    }
  },
  "nbformat": 4,
  "nbformat_minor": 0
}