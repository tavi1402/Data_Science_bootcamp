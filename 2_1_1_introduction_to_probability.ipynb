{
  "cells": [
    {
      "cell_type": "markdown",
      "metadata": {
        "id": "view-in-github",
        "colab_type": "text"
      },
      "source": [
        "<a href=\"https://colab.research.google.com/github/tavi1402/Data_Science_bootcamp/blob/main/2_1_1_introduction_to_probability.ipynb\" target=\"_parent\"><img src=\"https://colab.research.google.com/assets/colab-badge.svg\" alt=\"Open In Colab\"/></a>"
      ]
    },
    {
      "cell_type": "markdown",
      "id": "46d9d265",
      "metadata": {
        "id": "46d9d265"
      },
      "source": [
        "# A Practical Introduction to Probability\n",
        "\n",
        "![](https://i.imgur.com/OdvIK56.png)\n",
        "\n",
        "Probability is a way of measuring and describing how likely an event is to occur, or how likely it is that a certain condition is true. It's a useful mathematical tool for dealing with uncertainty and randomness. In this tutorial, we'll cover some fundamental concepts, techniques and results in probability and learn how to compute/estimate the probability of an event."
      ]
    },
    {
      "cell_type": "markdown",
      "id": "5a66fada",
      "metadata": {
        "id": "5a66fada"
      },
      "source": [
        "This tutorial covers the following topics:\n",
        "\n",
        "* Introduction to randomness and uncertainty\n",
        "* Probability of an event given equally like outcomes\n",
        "* Estimating probability by conducting experiments\n",
        "* Common problems: coin toss, dice roll, playing cards etc.\n",
        "* Practical applications of probability\n",
        "* Addition rule of probability and mutually exclusive events\n",
        "* Probability of complement and sum of probabilities\n",
        "* Sequence of independent events and counting combinations\n",
        "* Dependent events and the multiplication rule of probability\n",
        "* Bayes theorem and posterior probability\n"
      ]
    },
    {
      "cell_type": "markdown",
      "id": "b30fa379",
      "metadata": {
        "id": "b30fa379"
      },
      "source": [
        "### How to Run the Code\n",
        "\n",
        "The best way to learn the material is to execute the code and experiment with it yourself. This tutorial is an executable [Jupyter notebook](https://jupyter.org). You can _run_ this tutorial and experiment with the code examples in a couple of ways: *using free online resources* (recommended) or *on your computer*.\n",
        "\n",
        "#### Option 1: Running using free online resources (1-click, recommended)\n",
        "\n",
        "The easiest way to start executing the code is to click the **Run** button at the top of this page and select **Run on Binder**. You can also select \"Run on Colab\" or \"Run on Kaggle\", but you'll need to create an account on [Google Colab](https://colab.research.google.com) or [Kaggle](https://kaggle.com) to use these platforms.\n",
        "\n",
        "\n",
        "#### Option 2: Running on your computer locally\n",
        "\n",
        "To run the code on your computer locally, you'll need to set up [Python](https://www.python.org), download the notebook and install the required libraries. We recommend using the [Conda](https://docs.conda.io/projects/conda/en/latest/user-guide/install/) distribution of Python. Click the **Run** button at the top of this page, select the **Run Locally** option, and follow the instructions.\n",
        "\n",
        "\n"
      ]
    },
    {
      "cell_type": "markdown",
      "id": "329f0898",
      "metadata": {
        "id": "329f0898"
      },
      "source": [
        "## Tossing a fair coin\n",
        "\n",
        "Currency coins are often said to have two sides: a \"head\" and a \"tail\".\n",
        "\n",
        "<img src=\"https://i.imgur.com/Y80gpdr.png\" width=\"360\">\n",
        "\n",
        "A *fair* coin is one that is equally likely to land on either side when *tossed* or *flipped*. The side that shows up on top once the coin lands is referred to as the result of a coin toss/flip.\n",
        "\n",
        "![](https://media.tenor.com/images/16d4f2d1ab5dfad7224d6b93171926f9/tenor.gif)"
      ]
    },
    {
      "cell_type": "markdown",
      "id": "f05851be",
      "metadata": {
        "id": "f05851be"
      },
      "source": [
        "It may be possible to determine the result of a coin toss if we have exact measurements of the physical environment and the forces applied to toss the coin. However, we generally don't have this information at hand and it's very difficult (perhaps even impossible) to perform all these measurements with sufficient accuracy. (image courtesy: Olly, Fotolia)\n",
        "\n",
        "![](http://www.digitalmarket.asia/wp-content/uploads/2016/12/too-much-info.jpg)\n",
        "\n",
        "The assumption of randomness offers a way of working with limited information and uncertainty of outcomes. We say that tossing a coin is an *experiment* that can lead to one of two results at random. Probability is the measure of how likely each result is.\n",
        "\n",
        "Here are some examples of randomness and uncertainty:\n",
        "\n",
        "- Weather (temperature, rainfall, humidity etc.)\n",
        "- Winning a million-dollar lottery\n",
        "- The stock price of Apple computers tomorrow\n",
        "- Your friend/sibling guessing your email password\n",
        "- A political candidate winning an election\n",
        "- The GDP of a country twenty years from now\n",
        "\n",
        "Remember that we consider many of these events *random* not because they are not deterministic, but because we don't have sufficient information to accurately determine their value."
      ]
    },
    {
      "cell_type": "markdown",
      "id": "0272712a",
      "metadata": {
        "id": "0272712a"
      },
      "source": [
        "## Equally likely outcomes\n",
        "\n",
        "> **Question**: If you flip a fair coin, what is the **probability** of **getting heads**?\n",
        "\n",
        "When we have several equally likely possible outcomes, the probability of a condition (also called event) is defined as:\n",
        "\n",
        "> $$P(\\textrm{condition}) = \\frac{\\textrm{ No. of outcomes satisfying the condition }} {\\textrm{Number of equally likely outcomes}}$$\n",
        "\n",
        "**The probability of a condition/event is a number between 0 and 1.**\n",
        "\n",
        "\n",
        "We can define a function `probability` to perform this calculation."
      ]
    },
    {
      "cell_type": "code",
      "execution_count": null,
      "id": "2c9cccb0",
      "metadata": {
        "id": "2c9cccb0"
      },
      "outputs": [],
      "source": []
    },
    {
      "cell_type": "markdown",
      "id": "c4e51412",
      "metadata": {
        "id": "c4e51412"
      },
      "source": [
        "When we flip a fair coin, there are only two possible outcomes, both equally likely: \"head\" and \"tail\". One of the outcomes matches the condition \"getting a head\".\n",
        "\n",
        "With this information, we can now use the formula to compute the probability of a getting a head."
      ]
    },
    {
      "cell_type": "code",
      "execution_count": null,
      "id": "96765b4e",
      "metadata": {
        "id": "96765b4e"
      },
      "outputs": [],
      "source": []
    },
    {
      "cell_type": "markdown",
      "id": "2820ed8f",
      "metadata": {
        "id": "2820ed8f"
      },
      "source": [
        "Thus, the probability of getting a \"head\" when you flip a fair coin is $1/2$ or $0.5$.\n",
        "\n",
        "Compute the probability of some other conditions by trying the exercises below."
      ]
    },
    {
      "cell_type": "markdown",
      "id": "eebfb931",
      "metadata": {
        "id": "eebfb931"
      },
      "source": [
        "> **Exercise**: If you flip a fair coin, what is the probability of **getting a tail**?"
      ]
    },
    {
      "cell_type": "code",
      "execution_count": null,
      "id": "3c9c51e0",
      "metadata": {
        "id": "3c9c51e0"
      },
      "outputs": [],
      "source": []
    },
    {
      "cell_type": "markdown",
      "id": "0138a4b2",
      "metadata": {
        "id": "0138a4b2"
      },
      "source": [
        "> **Exercise**: If you flip a fair coin, what is the probability of **getting a head or a tail**?"
      ]
    },
    {
      "cell_type": "code",
      "execution_count": null,
      "id": "aed982ea",
      "metadata": {
        "id": "aed982ea"
      },
      "outputs": [],
      "source": []
    },
    {
      "cell_type": "markdown",
      "id": "30aa36b2",
      "metadata": {
        "id": "30aa36b2"
      },
      "source": [
        "> **Exercise**: If you flip a fair coin, what is the probability of **getting neither a head nor a tail**?"
      ]
    },
    {
      "cell_type": "code",
      "execution_count": null,
      "id": "b3aa7157",
      "metadata": {
        "id": "b3aa7157"
      },
      "outputs": [],
      "source": []
    },
    {
      "cell_type": "markdown",
      "id": "8e23e5db",
      "metadata": {
        "id": "8e23e5db"
      },
      "source": [
        "> **Exercise**: If you flip a fair coin, what is the probability of **getting a head and a tail** on the same coin toss?"
      ]
    },
    {
      "cell_type": "code",
      "execution_count": null,
      "id": "690021b6",
      "metadata": {
        "id": "690021b6"
      },
      "outputs": [],
      "source": []
    },
    {
      "cell_type": "markdown",
      "id": "557214eb",
      "metadata": {
        "id": "557214eb"
      },
      "source": [
        "> **Exercise**: If you flip a fair coin, what is the probability **that it will rain in Bengaluru tomorrow**?"
      ]
    },
    {
      "cell_type": "code",
      "execution_count": null,
      "id": "06fada57",
      "metadata": {
        "id": "06fada57"
      },
      "outputs": [],
      "source": []
    },
    {
      "cell_type": "markdown",
      "id": "b7951d19",
      "metadata": {
        "id": "b7951d19"
      },
      "source": [
        "Do you see the difference between *outcomes* of an experiment and *conditions/events* for which probability is computed?"
      ]
    },
    {
      "cell_type": "markdown",
      "id": "e8d7cafd",
      "metadata": {
        "id": "e8d7cafd"
      },
      "source": [
        "Let's save our work before continuing."
      ]
    },
    {
      "cell_type": "code",
      "execution_count": null,
      "id": "0504951d",
      "metadata": {
        "id": "0504951d"
      },
      "outputs": [],
      "source": []
    },
    {
      "cell_type": "code",
      "execution_count": null,
      "id": "bdb0b27e",
      "metadata": {
        "id": "bdb0b27e"
      },
      "outputs": [],
      "source": []
    },
    {
      "cell_type": "code",
      "execution_count": null,
      "id": "7dd1ab00",
      "metadata": {
        "id": "7dd1ab00"
      },
      "outputs": [],
      "source": []
    },
    {
      "cell_type": "markdown",
      "id": "bf067b99",
      "metadata": {
        "id": "bf067b99"
      },
      "source": [
        "## Rolling dice\n",
        "\n",
        "A *die* (plural *dice*) is a 6-sided cube with each face marked with a different number of dots (one to six). When a die is rolled or thrown, the number of dots that shows on the top face once the die comes to rest is known as the result of the roll/throw. Thus, the possible outcomes of a die throw are 1, 2, 3, 4, 5 and 6.\n",
        "\n",
        "<img src=\"https://i.imgur.com/fVfurkk.png\" width=\"200\">\n",
        "\n",
        "> **Question**: What is the probability of getting a four when a fair die is rolled?\n",
        "\n",
        "All outcomes are equally likely for a fair die, and the only the outcome 4 satisfies the condition \"getting a 4\". Thus, we can calculate the probability of the condition is $1/6$ or $0.1666..$"
      ]
    },
    {
      "cell_type": "code",
      "execution_count": null,
      "id": "0b5a42f3",
      "metadata": {
        "id": "0b5a42f3"
      },
      "outputs": [],
      "source": []
    },
    {
      "cell_type": "markdown",
      "id": "19c8845c",
      "metadata": {
        "id": "19c8845c"
      },
      "source": [
        "> **Question**: What is the probability of **getting an even number** when a fair die is rolled?\n",
        "\n",
        "Among six equally likely outcomes, three of the outcomes (2, 4 and 6) satisfy the condition \"getting an even number\"."
      ]
    },
    {
      "cell_type": "code",
      "execution_count": null,
      "id": "933bcb0c",
      "metadata": {
        "id": "933bcb0c"
      },
      "outputs": [],
      "source": []
    },
    {
      "cell_type": "markdown",
      "id": "a9cd8f1a",
      "metadata": {
        "id": "a9cd8f1a"
      },
      "source": [
        "Thus, there's a 50% probability of getting an even number. Try out some more exercises below."
      ]
    },
    {
      "cell_type": "markdown",
      "id": "ca3e3ce2",
      "metadata": {
        "id": "ca3e3ce2"
      },
      "source": [
        "> **Exercise**: What is the probability of **getting a three or a six** when a fair die is rolled?"
      ]
    },
    {
      "cell_type": "code",
      "execution_count": null,
      "id": "2fe2797d",
      "metadata": {
        "id": "2fe2797d"
      },
      "outputs": [],
      "source": []
    },
    {
      "cell_type": "markdown",
      "id": "8ed1d077",
      "metadata": {
        "id": "8ed1d077"
      },
      "source": [
        "> **Exercise**: What is the probability of **getting a three and a six** when a fair die is rolled once?"
      ]
    },
    {
      "cell_type": "code",
      "execution_count": null,
      "id": "e5014816",
      "metadata": {
        "id": "e5014816"
      },
      "outputs": [],
      "source": []
    },
    {
      "cell_type": "markdown",
      "id": "24151f4f",
      "metadata": {
        "id": "24151f4f"
      },
      "source": [
        "> **Exercise**: What is the probability of **getting a multiple of two or a multiple of three** when a fair die is rolled?"
      ]
    },
    {
      "cell_type": "code",
      "execution_count": null,
      "id": "9e170a3f",
      "metadata": {
        "id": "9e170a3f"
      },
      "outputs": [],
      "source": []
    },
    {
      "cell_type": "markdown",
      "id": "3d965b7c",
      "metadata": {
        "id": "3d965b7c"
      },
      "source": [
        "> **Exercise**: What is the probability of **getting a three or a seven** when a fair die is rolled?"
      ]
    },
    {
      "cell_type": "code",
      "execution_count": null,
      "id": "51223920",
      "metadata": {
        "id": "51223920"
      },
      "outputs": [],
      "source": []
    },
    {
      "cell_type": "markdown",
      "id": "8235d7de",
      "metadata": {
        "id": "8235d7de"
      },
      "source": [
        "> **Exercise**: What is the probability of **getting a prime number** when a fair die is rolled?"
      ]
    },
    {
      "cell_type": "code",
      "execution_count": null,
      "id": "5d66d780",
      "metadata": {
        "id": "5d66d780"
      },
      "outputs": [],
      "source": []
    },
    {
      "cell_type": "code",
      "execution_count": null,
      "id": "2ac43cf0",
      "metadata": {
        "id": "2ac43cf0"
      },
      "outputs": [],
      "source": []
    },
    {
      "cell_type": "code",
      "execution_count": null,
      "id": "675a3a01",
      "metadata": {
        "id": "675a3a01"
      },
      "outputs": [],
      "source": []
    },
    {
      "cell_type": "code",
      "execution_count": null,
      "id": "49a124db",
      "metadata": {
        "id": "49a124db"
      },
      "outputs": [],
      "source": []
    },
    {
      "cell_type": "code",
      "execution_count": null,
      "id": "62513f45",
      "metadata": {
        "id": "62513f45"
      },
      "outputs": [],
      "source": []
    },
    {
      "cell_type": "markdown",
      "id": "c295b319",
      "metadata": {
        "id": "c295b319"
      },
      "source": [
        "Let's save and commit our work before continuing."
      ]
    },
    {
      "cell_type": "code",
      "execution_count": null,
      "id": "27406dea",
      "metadata": {
        "id": "27406dea"
      },
      "outputs": [],
      "source": []
    },
    {
      "cell_type": "code",
      "execution_count": null,
      "id": "2006aa95",
      "metadata": {
        "id": "2006aa95"
      },
      "outputs": [],
      "source": []
    },
    {
      "cell_type": "markdown",
      "id": "244ad1da",
      "metadata": {
        "id": "244ad1da"
      },
      "source": [
        "## Playing Cards\n",
        "\n",
        "<img src=\"https://i.imgur.com/F7dXnzB.jpg\" width=\"400\">\n",
        "\n",
        "A deck of playing cards consists of 52 cards. Each card belongs to one of four suits: Spade ♠️, Clubs ♣️, Hearts ♥️ or Diamonds ♦️. There are 13 cards belonging to each suit: *Ace, 2, 3, 4, 5, 6, 7, 8, 9, 10, Jack, Queen* and *King*. Spades & clubs are black in color and hearts & diamonds are red in color.\n",
        "\n",
        "![](https://i.imgur.com/hJtBa4i.png)\n",
        "\n",
        "\n",
        "\n",
        "In a well-shuffled deck of cards, any card is equally likely to end up at any position in the deck.\n",
        "\n",
        "![](https://media.giphy.com/media/8gX7CPRgzNt5gIzHam/giphy.gif)\n"
      ]
    },
    {
      "cell_type": "markdown",
      "id": "594006f1",
      "metadata": {
        "id": "594006f1"
      },
      "source": [
        "> **Question**: What is the probability of **drawing a King of Hearts** from a well-shuffled deck of cards?\n",
        "\n",
        "There are 52 equally likely outcomes of the card being drawn, and just one outcome matches this condition."
      ]
    },
    {
      "cell_type": "code",
      "execution_count": null,
      "id": "3b080c1c",
      "metadata": {
        "id": "3b080c1c"
      },
      "outputs": [],
      "source": []
    },
    {
      "cell_type": "markdown",
      "id": "da19a63a",
      "metadata": {
        "id": "da19a63a"
      },
      "source": [
        "Thus, the probability of drawing a King of Hearts (or any specific card) is 1/52 or 0.0192."
      ]
    },
    {
      "cell_type": "markdown",
      "id": "456ea48d",
      "metadata": {
        "id": "456ea48d"
      },
      "source": [
        "> **Exercise**: What is the probability of **drawing a red card** from a well-shuffled deck of cards.\n",
        ">\n",
        "> *Hint*: Count the number of red cards."
      ]
    },
    {
      "cell_type": "code",
      "execution_count": null,
      "id": "58b7462c",
      "metadata": {
        "id": "58b7462c"
      },
      "outputs": [],
      "source": []
    },
    {
      "cell_type": "code",
      "execution_count": null,
      "id": "aca8323c",
      "metadata": {
        "id": "aca8323c"
      },
      "outputs": [],
      "source": []
    },
    {
      "cell_type": "markdown",
      "id": "3ec7e6c9",
      "metadata": {
        "id": "3ec7e6c9"
      },
      "source": [
        "> **Exercise**: What is the probability of **drawing a spade** from a well-shuffled deck of cards."
      ]
    },
    {
      "cell_type": "code",
      "execution_count": null,
      "id": "4698669b",
      "metadata": {
        "id": "4698669b"
      },
      "outputs": [],
      "source": []
    },
    {
      "cell_type": "code",
      "execution_count": null,
      "id": "422cffbf",
      "metadata": {
        "id": "422cffbf"
      },
      "outputs": [],
      "source": []
    },
    {
      "cell_type": "markdown",
      "id": "c992913a",
      "metadata": {
        "id": "c992913a"
      },
      "source": [
        "> **Exercise**: What is the probability of **drawing a 7** from a well-shuffled deck of cards."
      ]
    },
    {
      "cell_type": "code",
      "execution_count": null,
      "id": "16df8480",
      "metadata": {
        "id": "16df8480"
      },
      "outputs": [],
      "source": []
    },
    {
      "cell_type": "code",
      "execution_count": null,
      "id": "06f6f3e5",
      "metadata": {
        "id": "06f6f3e5"
      },
      "outputs": [],
      "source": []
    },
    {
      "cell_type": "markdown",
      "id": "dea79ae0",
      "metadata": {
        "id": "dea79ae0"
      },
      "source": [
        "> **Exercise**: What is the probability of **drawing a card that's a spade and a jack** from a well-shuffled deck of cards?"
      ]
    },
    {
      "cell_type": "code",
      "execution_count": null,
      "id": "6f11856d",
      "metadata": {
        "id": "6f11856d"
      },
      "outputs": [],
      "source": []
    },
    {
      "cell_type": "code",
      "execution_count": null,
      "id": "e07f5eed",
      "metadata": {
        "id": "e07f5eed"
      },
      "outputs": [],
      "source": []
    },
    {
      "cell_type": "markdown",
      "id": "d77ff681",
      "metadata": {
        "id": "d77ff681"
      },
      "source": [
        "Here are some more problems on probabilities with playing cards: https://www.math-only-math.com/playing-cards-probability.html"
      ]
    },
    {
      "cell_type": "markdown",
      "id": "2efc9621",
      "metadata": {
        "id": "2efc9621"
      },
      "source": [
        "## Probability of multiple conditions\n",
        "\n",
        "> **Question**: What is the probability of **drawing a spade or a jack** from a well-shuffled deck of cards.\n",
        "\n",
        "Among the 52 equally likely outcomes, there are thirteen spades and four Jacks. However, the Jack of Spades is both a spade and a Jack. So, in total we have $13 + 4 - 1 = 16$ outcomes satisfying the condition *drawing a spade or a jack*. Thus, the probability is 16/52."
      ]
    },
    {
      "cell_type": "code",
      "execution_count": null,
      "id": "a0ecb8f8",
      "metadata": {
        "id": "a0ecb8f8"
      },
      "outputs": [],
      "source": []
    },
    {
      "cell_type": "markdown",
      "id": "315a0191",
      "metadata": {
        "id": "315a0191"
      },
      "source": [
        "\n",
        "\n",
        "> **Question**: The participants of an online course include 8 men from India, 9 women from India, 5 men from the USA and 7 women from the USA. If a participant is picked at random, what is the probability that the participant is Indian or a man?\n",
        "\n",
        "The total number of participants is $29$, and they are all equally likely to be picked. There are 17 Indians and 13 men. However, the 8 participants are Indian men. So, in total, we have $17 + 13 - 8 = 22$ participants who are either Indian or men. So the probability that a randomly picked participant is an Indian or a man is $22/29$.\n",
        "\n",
        "![](https://i.imgur.com/ZpyrLRt.png)"
      ]
    },
    {
      "cell_type": "code",
      "execution_count": null,
      "id": "f7f29547",
      "metadata": {
        "id": "f7f29547"
      },
      "outputs": [],
      "source": []
    },
    {
      "cell_type": "markdown",
      "id": "e4f9156f",
      "metadata": {
        "id": "e4f9156f"
      },
      "source": [
        "If we use the letters $A$ and $B$ to represent the conditions \"picking an Indian\" and \"picking a man\" respectively, then we can derive the following general rule:\n",
        "\n",
        "$$P(A \\textrm{ or } B) = P(A) + P(B) - P(A \\textrm{ and } B)$$\n",
        "\n",
        "The symbols $\\cup$ and and $\\cap$ are often used to represent \"or\" (union) and \"and\" (intersection).\n",
        "\n",
        "$$P(A \\cup B) = P(A) + P(B) - P(A \\cap B)$$\n",
        "\n",
        "The above relation is called the **addition rule of probability**."
      ]
    },
    {
      "cell_type": "code",
      "execution_count": null,
      "id": "d536dbe8",
      "metadata": {
        "id": "d536dbe8"
      },
      "outputs": [],
      "source": []
    },
    {
      "cell_type": "markdown",
      "id": "47d94c9d",
      "metadata": {
        "id": "47d94c9d"
      },
      "source": [
        "> **Exercise**: What is the probability of drawing a red card or a 6 from a well-shuffled deck of cards?\n",
        "\n",
        "![](https://i.imgur.com/052OCcH.png)"
      ]
    },
    {
      "cell_type": "code",
      "execution_count": null,
      "id": "7d39fbfb",
      "metadata": {
        "id": "7d39fbfb"
      },
      "outputs": [],
      "source": []
    },
    {
      "cell_type": "code",
      "execution_count": null,
      "id": "eda2b3e4",
      "metadata": {
        "id": "eda2b3e4"
      },
      "outputs": [],
      "source": []
    },
    {
      "cell_type": "markdown",
      "id": "c46fdc0a",
      "metadata": {
        "id": "c46fdc0a"
      },
      "source": [
        "> **Exercise**: The participants of an online course include 8 men from India, 9 women from India, 5 men from the USA and 7 women from the USA. If a participant is picked at random, what is the probability that the participant is American or a woman?"
      ]
    },
    {
      "cell_type": "code",
      "execution_count": null,
      "id": "c9b49c3b",
      "metadata": {
        "id": "c9b49c3b"
      },
      "outputs": [],
      "source": []
    },
    {
      "cell_type": "code",
      "execution_count": null,
      "id": "fc5c0010",
      "metadata": {
        "id": "fc5c0010"
      },
      "outputs": [],
      "source": []
    },
    {
      "cell_type": "markdown",
      "id": "40482bec",
      "metadata": {
        "id": "40482bec"
      },
      "source": [
        "> **Exercise**: A bag contains 3 red balls, 5 blue balls and 2 green balls. What is the probability of picking a ball that's red or green?"
      ]
    },
    {
      "cell_type": "code",
      "execution_count": null,
      "id": "189c6a47",
      "metadata": {
        "id": "189c6a47"
      },
      "outputs": [],
      "source": []
    },
    {
      "cell_type": "code",
      "execution_count": null,
      "id": "6d9189cf",
      "metadata": {
        "id": "6d9189cf"
      },
      "outputs": [],
      "source": []
    },
    {
      "cell_type": "markdown",
      "id": "8e6af761",
      "metadata": {
        "id": "8e6af761"
      },
      "source": [
        "> **Exercise:** A bag contains 3 red balls, 5 blue balls and 2 green balls. What is the probability of picking a ball that's yellow or red?"
      ]
    },
    {
      "cell_type": "code",
      "execution_count": null,
      "id": "a741afb0",
      "metadata": {
        "id": "a741afb0"
      },
      "outputs": [],
      "source": []
    },
    {
      "cell_type": "code",
      "execution_count": null,
      "id": "4732c94c",
      "metadata": {
        "id": "4732c94c"
      },
      "outputs": [],
      "source": []
    },
    {
      "cell_type": "markdown",
      "id": "fc0dab2f",
      "metadata": {
        "id": "fc0dab2f"
      },
      "source": [
        "## Mutually Exclusive Events\n",
        "\n",
        "Given two events $A$ and $B$, we know that\n",
        "\n",
        "$$P(A \\cup B) = P(A) + P(B) - P(A \\cap B)$$\n",
        "\n",
        "In some cases, $P(A \\cap B)$ is $0$ e.g. if we roll a fair die and A & B represent the conditions \"getting a 2\" and \"getting a 3\" respectively, then condition $A \\cap B$ represents the condition \"getting a 2 and a 3\", which is impossible.\n",
        "\n",
        "If $P(A \\cap B)$ is 0, then $A$ & $B$ are said to be mutually exclusive, and it follows that\n",
        "\n",
        "$$P(A \\cup B) = P(A) + P(B)$$"
      ]
    },
    {
      "cell_type": "code",
      "execution_count": null,
      "id": "1f00f5e4",
      "metadata": {
        "id": "1f00f5e4"
      },
      "outputs": [],
      "source": []
    },
    {
      "cell_type": "code",
      "execution_count": null,
      "id": "14e6d605",
      "metadata": {
        "id": "14e6d605"
      },
      "outputs": [],
      "source": []
    },
    {
      "cell_type": "markdown",
      "id": "0a2f7751",
      "metadata": {
        "id": "0a2f7751"
      },
      "source": [
        "**Exercise**: What is the probability of getting a 2 or getting a 3 on rolling a fair die?"
      ]
    },
    {
      "cell_type": "code",
      "execution_count": null,
      "id": "47e4fa48",
      "metadata": {
        "id": "47e4fa48"
      },
      "outputs": [],
      "source": []
    },
    {
      "cell_type": "code",
      "execution_count": null,
      "id": "e486a408",
      "metadata": {
        "id": "e486a408"
      },
      "outputs": [],
      "source": []
    },
    {
      "cell_type": "code",
      "execution_count": null,
      "id": "e44b6fa5",
      "metadata": {
        "id": "e44b6fa5"
      },
      "outputs": [],
      "source": []
    },
    {
      "cell_type": "markdown",
      "id": "c250c2c1",
      "metadata": {
        "id": "c250c2c1"
      },
      "source": [
        "**Exercise:** If you pick a random person living in the United States, what is the probability that the person lives in Texas or California?\n",
        "\n",
        "<img src=\"https://i.imgur.com/UcZAYl0.png\" width=\"400\">"
      ]
    },
    {
      "cell_type": "code",
      "execution_count": null,
      "id": "30b183f4",
      "metadata": {
        "id": "30b183f4"
      },
      "outputs": [],
      "source": []
    },
    {
      "cell_type": "code",
      "execution_count": null,
      "id": "751b97db",
      "metadata": {
        "id": "751b97db"
      },
      "outputs": [],
      "source": []
    },
    {
      "cell_type": "code",
      "execution_count": null,
      "id": "f7b379d7",
      "metadata": {
        "id": "f7b379d7"
      },
      "outputs": [],
      "source": []
    },
    {
      "cell_type": "markdown",
      "id": "61aa7807",
      "metadata": {
        "id": "61aa7807"
      },
      "source": [
        "Let's save our work before continuing."
      ]
    },
    {
      "cell_type": "code",
      "execution_count": null,
      "id": "cb57eea7",
      "metadata": {
        "id": "cb57eea7"
      },
      "outputs": [],
      "source": []
    },
    {
      "cell_type": "markdown",
      "id": "d2a42318",
      "metadata": {
        "id": "d2a42318"
      },
      "source": [
        "## Probability of Complement\n",
        "\n",
        "Sometimes we're interested in the probability of a condition not holding true.\n",
        "\n",
        "> **Question**: A bag contains 3 red balls, 5 blue balls and 2 green balls. What is the probability of picking a ball that's not red?\n",
        "\n",
        "There are 10 balls in total, and 3 of them are red, thus $10-3 = 7$ balls are not red. So, the probability is 7/10.\n"
      ]
    },
    {
      "cell_type": "code",
      "execution_count": null,
      "id": "37eafcce",
      "metadata": {
        "id": "37eafcce"
      },
      "outputs": [],
      "source": []
    },
    {
      "cell_type": "markdown",
      "id": "b96c56cf",
      "metadata": {
        "id": "b96c56cf"
      },
      "source": [
        "However, we can also calculate it as follows:\n",
        "\n",
        "$$P(\\textrm{not red}) = \\frac{\\textrm{No. of balls} - \\textrm{No. of red balls}}{\\textrm{No. of balls}}$$\n",
        "\n",
        "$$P(\\textrm{not red}) = 1 - \\frac{\\textrm{No. of red balls}}{\\textrm{No. of balls}}$$\n",
        "\n",
        "$$P(\\textrm{not red}) = 1 - P(\\textrm{red})$$\n",
        "\n",
        "We can express this as a general rule. Given an event $A$, the event $\\textrm{not} A$ is often called the *complement* of $A$ and is represented as $A^c$. Thus, we have the general rule:\n",
        "\n",
        "$$P(\\textrm { not } A) = 1 - P(A)$$\n",
        "\n",
        "$$P(A^C) = 1 - P(A)$$\n"
      ]
    },
    {
      "cell_type": "markdown",
      "id": "64cf22cb",
      "metadata": {
        "id": "64cf22cb"
      },
      "source": [
        "> **Exercise**: If a fair die is rolled, what is the probability that the result is not a prime number?"
      ]
    },
    {
      "cell_type": "code",
      "execution_count": null,
      "id": "5f9d9aef",
      "metadata": {
        "id": "5f9d9aef"
      },
      "outputs": [],
      "source": []
    },
    {
      "cell_type": "code",
      "execution_count": null,
      "id": "ea07d22e",
      "metadata": {
        "id": "ea07d22e"
      },
      "outputs": [],
      "source": []
    },
    {
      "cell_type": "markdown",
      "id": "36ad1ad8",
      "metadata": {
        "id": "36ad1ad8"
      },
      "source": [
        "> **Exercise**: If you pick a random card from a well-shuffled deck, what is the probability of drawing a card that's neither a Jack nor a spade?\n",
        "\n",
        "![](https://i.imgur.com/hJtBa4i.png)"
      ]
    },
    {
      "cell_type": "code",
      "execution_count": null,
      "id": "1d1bcba4",
      "metadata": {
        "id": "1d1bcba4"
      },
      "outputs": [],
      "source": []
    },
    {
      "cell_type": "code",
      "execution_count": null,
      "id": "52bade48",
      "metadata": {
        "id": "52bade48"
      },
      "outputs": [],
      "source": []
    },
    {
      "cell_type": "code",
      "execution_count": null,
      "id": "87fcc259",
      "metadata": {
        "id": "87fcc259"
      },
      "outputs": [],
      "source": []
    },
    {
      "cell_type": "markdown",
      "id": "74855328",
      "metadata": {
        "id": "74855328"
      },
      "source": [
        "> **Exercise**: If a number is chosen randomly from the list `[23, 17, 2, 12, 15, 21, 9, 16]`, what is the probability that the number is not a multiple of 3?"
      ]
    },
    {
      "cell_type": "code",
      "execution_count": null,
      "id": "88da59ce",
      "metadata": {
        "id": "88da59ce"
      },
      "outputs": [],
      "source": []
    },
    {
      "cell_type": "code",
      "execution_count": null,
      "id": "084193f6",
      "metadata": {
        "id": "084193f6"
      },
      "outputs": [],
      "source": []
    },
    {
      "cell_type": "markdown",
      "id": "8d88e0ef",
      "metadata": {
        "id": "8d88e0ef"
      },
      "source": [
        "> **Exercise:** If you pick a random location within the boundary of the United States, what is the probability that the location lies outside Texas?\n",
        "\n",
        "<img src=\"https://i.imgur.com/5mpChbk.png\">"
      ]
    },
    {
      "cell_type": "code",
      "execution_count": null,
      "id": "14a7ef5b",
      "metadata": {
        "id": "14a7ef5b"
      },
      "outputs": [],
      "source": []
    },
    {
      "cell_type": "markdown",
      "id": "a9c548c3",
      "metadata": {
        "id": "a9c548c3"
      },
      "source": [
        "> **Exercise:** If you pick a random person living in the United States, what is the probability that the person does not live in Texas?\n",
        "\n",
        "<img src=\"https://i.imgur.com/5mpChbk.png\">"
      ]
    },
    {
      "cell_type": "code",
      "execution_count": null,
      "id": "27ea4406",
      "metadata": {
        "id": "27ea4406"
      },
      "outputs": [],
      "source": []
    },
    {
      "cell_type": "code",
      "execution_count": null,
      "id": "2318b1bc",
      "metadata": {
        "id": "2318b1bc"
      },
      "outputs": [],
      "source": []
    },
    {
      "cell_type": "code",
      "execution_count": null,
      "id": "8af6a33a",
      "metadata": {
        "id": "8af6a33a"
      },
      "outputs": [],
      "source": []
    },
    {
      "cell_type": "markdown",
      "id": "42c627df",
      "metadata": {
        "id": "42c627df"
      },
      "source": [
        "## Sum of Probabilities\n",
        "\n",
        "Recall the formula for probability:\n",
        "\n",
        "> $$P(\\textrm{condition}) = \\frac{\\textrm{ No. of outcomes satisfying the condition }} {\\textrm{Number of equally likely outcomes}}$$\n",
        "\n",
        "The set of all possible outcomes is called the sample set, and is often represented by `S`. In any experiment, the probability that the result matches any of of the possible outcomes is 1. (can you verify this?)\n",
        "\n",
        "$$P(S) = 1$$\n",
        "\n",
        "Further, if there are several mutually exclusive conditions/events which together cover all the possible outcomes, then the **sum of their probabilities is 1**. Verify this by solving the following exercises."
      ]
    },
    {
      "cell_type": "markdown",
      "id": "c9790ca0",
      "metadata": {
        "id": "c9790ca0"
      },
      "source": [
        "> **Exercises**: If you flip a fair coin, what is the probability of getting a head or a tail?\n",
        "\n",
        "The mutually exclusive conditions/events here are \"head\" and \"tail\". Together they cover all possible outcomes."
      ]
    },
    {
      "cell_type": "code",
      "execution_count": null,
      "id": "b51d2918",
      "metadata": {
        "id": "b51d2918"
      },
      "outputs": [],
      "source": []
    },
    {
      "cell_type": "markdown",
      "id": "7dbfd3e3",
      "metadata": {
        "id": "7dbfd3e3"
      },
      "source": [
        "> **Exercise**: If you roll a fair die, what is the probability of getting a 1, 2, 3, 4, 5 or 6?\n",
        "\n",
        "The mutually exclusive conditions/events here are 1, 2, 3, 4, 5 and 6. Together they cover all possible outcomes."
      ]
    },
    {
      "cell_type": "code",
      "execution_count": null,
      "id": "1bc9e5f4",
      "metadata": {
        "id": "1bc9e5f4"
      },
      "outputs": [],
      "source": []
    },
    {
      "cell_type": "markdown",
      "id": "2187c4b4",
      "metadata": {
        "id": "2187c4b4"
      },
      "source": [
        "> **Exercise**: If you roll a fair die, what is the probability of getting an even or an odd number?\n",
        "\n"
      ]
    },
    {
      "cell_type": "code",
      "execution_count": null,
      "id": "c684b844",
      "metadata": {
        "id": "c684b844"
      },
      "outputs": [],
      "source": []
    },
    {
      "cell_type": "markdown",
      "id": "89dd17f3",
      "metadata": {
        "id": "89dd17f3"
      },
      "source": [
        "> **Exercise**: If you pick a random card from a well shuffled deck, what is the probability that the card is of one of the four suites: Spades, Hearts, Diamonds and Clubs."
      ]
    },
    {
      "cell_type": "code",
      "execution_count": null,
      "id": "2a97d35c",
      "metadata": {
        "id": "2a97d35c"
      },
      "outputs": [],
      "source": []
    },
    {
      "cell_type": "markdown",
      "id": "686e0800",
      "metadata": {
        "id": "686e0800"
      },
      "source": [
        "> **Exercise**: A bag contains 3 red balls, 5 blue balls and 2 green balls. What is the probability of picking a ball that's red or green or blue?"
      ]
    },
    {
      "cell_type": "code",
      "execution_count": null,
      "id": "94b4d148",
      "metadata": {
        "id": "94b4d148"
      },
      "outputs": [],
      "source": []
    },
    {
      "cell_type": "code",
      "execution_count": null,
      "id": "c5157d76",
      "metadata": {
        "id": "c5157d76"
      },
      "outputs": [],
      "source": []
    },
    {
      "cell_type": "code",
      "execution_count": null,
      "id": "bce6df8b",
      "metadata": {
        "id": "bce6df8b"
      },
      "outputs": [],
      "source": []
    },
    {
      "cell_type": "markdown",
      "id": "3944ff7b",
      "metadata": {
        "id": "3944ff7b"
      },
      "source": [
        "## Estimating probability\n",
        "\n",
        "Sometimes, it is not known beforehand if all the possible outcomes are equally likely. In such a case, we can *estimate* the probability of a condition by conducting repeated experiments. E.g. we may toss a coin a thousand times to estimate the probability of getting a head.\n",
        "\n",
        "> $$P(\\textrm{condition}) \\approx \\frac{\\textrm{ No. of experiments satisfying the condition }} {\\textrm{No. of experiments conducted}}$$\n",
        "\n",
        "The more experiments we conduct, the closer we can get to the *true* probability of each outcome.\n",
        "\n",
        "Let's define a function `approx_probability` to perform this calculation."
      ]
    },
    {
      "cell_type": "code",
      "execution_count": null,
      "id": "6f19b37a",
      "metadata": {
        "id": "6f19b37a"
      },
      "outputs": [],
      "source": []
    },
    {
      "cell_type": "markdown",
      "id": "582fd17f",
      "metadata": {
        "id": "582fd17f"
      },
      "source": [
        "If we flip a coin 100 times, and it shows heads 48 times, the probability of heads can be estimated as:"
      ]
    },
    {
      "cell_type": "code",
      "execution_count": null,
      "id": "04e84bd2",
      "metadata": {
        "id": "04e84bd2"
      },
      "outputs": [],
      "source": []
    },
    {
      "cell_type": "markdown",
      "id": "6153a551",
      "metadata": {
        "id": "6153a551"
      },
      "source": [
        "> **Question**: You are given a function `flip_coin` defined below, which simulates a coin flip and returns `H` or `T` for the results \"head\" or \"tail\". Find the probability of getting a head when we toss the coin."
      ]
    },
    {
      "cell_type": "code",
      "execution_count": null,
      "id": "dc0c1741",
      "metadata": {
        "id": "dc0c1741"
      },
      "outputs": [],
      "source": []
    },
    {
      "cell_type": "markdown",
      "id": "f37308ea",
      "metadata": {
        "id": "f37308ea"
      },
      "source": [
        "Each time `flip_coin` is invoked, it results in a 'H' or a 'T'."
      ]
    },
    {
      "cell_type": "code",
      "execution_count": null,
      "id": "2a60ddbf",
      "metadata": {
        "id": "2a60ddbf"
      },
      "outputs": [],
      "source": []
    },
    {
      "cell_type": "code",
      "execution_count": null,
      "id": "e9e6fd4b",
      "metadata": {
        "id": "e9e6fd4b"
      },
      "outputs": [],
      "source": []
    },
    {
      "cell_type": "code",
      "execution_count": null,
      "id": "a33ed768",
      "metadata": {
        "id": "a33ed768"
      },
      "outputs": [],
      "source": []
    },
    {
      "cell_type": "markdown",
      "id": "eade095f",
      "metadata": {
        "id": "eade095f"
      },
      "source": [
        "Let's create a helper function to perform an experiment a given number of times."
      ]
    },
    {
      "cell_type": "code",
      "execution_count": null,
      "id": "8ccd1f9e",
      "metadata": {
        "id": "8ccd1f9e"
      },
      "outputs": [],
      "source": []
    },
    {
      "cell_type": "markdown",
      "id": "4e76c1b3",
      "metadata": {
        "id": "4e76c1b3"
      },
      "source": [
        "We can now simulate 10 coin tosses using `flip_coin` and get the results."
      ]
    },
    {
      "cell_type": "code",
      "execution_count": null,
      "id": "3aae8852",
      "metadata": {
        "id": "3aae8852"
      },
      "outputs": [],
      "source": []
    },
    {
      "cell_type": "code",
      "execution_count": null,
      "id": "bed6a1ce",
      "metadata": {
        "id": "bed6a1ce"
      },
      "outputs": [],
      "source": []
    },
    {
      "cell_type": "markdown",
      "id": "00ea7f2e",
      "metadata": {
        "id": "00ea7f2e"
      },
      "source": [
        "To estimate the probability of \"getting a head\", we need to count the number of results that match this condition.\n",
        "\n",
        "> **Exercise**: Estimate the probability of \"getting a head\" by counting the number of heads in `results` and applying the `approx_probability` function."
      ]
    },
    {
      "cell_type": "code",
      "execution_count": null,
      "id": "9351a88e",
      "metadata": {
        "id": "9351a88e"
      },
      "outputs": [],
      "source": []
    },
    {
      "cell_type": "markdown",
      "id": "21534f0b",
      "metadata": {
        "id": "21534f0b"
      },
      "source": [
        "Counting matching results manually is tedious and error prone, so let's define a helper function to count the number of results that match a given condition."
      ]
    },
    {
      "cell_type": "code",
      "execution_count": null,
      "id": "ce15681b",
      "metadata": {
        "id": "ce15681b"
      },
      "outputs": [],
      "source": []
    },
    {
      "cell_type": "markdown",
      "id": "28176b3e",
      "metadata": {
        "id": "28176b3e"
      },
      "source": [
        "The argument `condition` is itself a function which accepts a single result as an argument, and returns `True` if the result satisfies the condition, and `False` otherwise.\n",
        "\n",
        "Here's a condition `is_head` which checks whether a result is a head."
      ]
    },
    {
      "cell_type": "code",
      "execution_count": null,
      "id": "e4e6f29a",
      "metadata": {
        "id": "e4e6f29a"
      },
      "outputs": [],
      "source": []
    },
    {
      "cell_type": "code",
      "execution_count": null,
      "id": "ad7a2fb7",
      "metadata": {
        "id": "ad7a2fb7"
      },
      "outputs": [],
      "source": []
    },
    {
      "cell_type": "code",
      "execution_count": null,
      "id": "0390e69e",
      "metadata": {
        "id": "0390e69e"
      },
      "outputs": [],
      "source": []
    },
    {
      "cell_type": "markdown",
      "id": "5f8e81c3",
      "metadata": {
        "id": "5f8e81c3"
      },
      "source": [
        "We can use `is_head` and `count_matching` to count the number of heads in `results`."
      ]
    },
    {
      "cell_type": "code",
      "execution_count": null,
      "id": "73f69c6b",
      "metadata": {
        "id": "73f69c6b"
      },
      "outputs": [],
      "source": []
    },
    {
      "cell_type": "markdown",
      "id": "a43525ac",
      "metadata": {
        "id": "a43525ac"
      },
      "source": [
        "Finally, we can use `approx_probability` to estimate the probability of getting a head when tossing the given coin."
      ]
    },
    {
      "cell_type": "code",
      "execution_count": null,
      "id": "50d67e73",
      "metadata": {
        "id": "50d67e73"
      },
      "outputs": [],
      "source": []
    },
    {
      "cell_type": "markdown",
      "id": "7b99e094",
      "metadata": {
        "id": "7b99e094"
      },
      "source": [
        "Seems like the probability of getting a heads while tossing the given coin is around 0.7. Keep in mind that this is an estimate the not the *true* probability of the condition.\n",
        "\n",
        "To make our estimate better, it would help to repeat the experiment 100, 1000 or 10000 times. Let's define a helper function `estimate_probability` which performs an experiment a given number of times, and estimates the probability of a condition."
      ]
    },
    {
      "cell_type": "code",
      "execution_count": null,
      "id": "c476fb1d",
      "metadata": {
        "id": "c476fb1d"
      },
      "outputs": [],
      "source": []
    },
    {
      "cell_type": "markdown",
      "id": "bcef6720",
      "metadata": {
        "id": "bcef6720"
      },
      "source": [
        "We can now improve our probability estimate."
      ]
    },
    {
      "cell_type": "code",
      "execution_count": null,
      "id": "6a34de02",
      "metadata": {
        "id": "6a34de02"
      },
      "outputs": [],
      "source": []
    },
    {
      "cell_type": "code",
      "execution_count": null,
      "id": "45b22378",
      "metadata": {
        "id": "45b22378"
      },
      "outputs": [],
      "source": []
    },
    {
      "cell_type": "code",
      "execution_count": null,
      "id": "fde10513",
      "metadata": {
        "id": "fde10513"
      },
      "outputs": [],
      "source": []
    },
    {
      "cell_type": "code",
      "execution_count": null,
      "id": "182e1b4f",
      "metadata": {
        "id": "182e1b4f"
      },
      "outputs": [],
      "source": []
    },
    {
      "cell_type": "markdown",
      "id": "79c8c618",
      "metadata": {
        "id": "79c8c618"
      },
      "source": [
        "As we increase the number of experiments, we can see the that probability estimate for getting heads gets closer to 0.75, which may be the *true* probability of getting a head. This relationship can also be stated in the following manner:\n",
        "\n",
        "> **Result**: The probability of a condition indicates the fraction of results that will satisfy the condition if the experiment is repeated a large number of times.\n",
        "\n",
        "You can now repeat the exercise to determine the probability of getting a tail.\n",
        "\n",
        "> **Exercise**: Estimate the probability of getting a tail when we flip the coin simulated using the `flip_coin` function defined earlier. By comparing the probabilities of \"head\" and \"tail\", can you determine if the coin is fair?\n",
        "\n",
        "*Hint*: Use the `estimate_probability` function defined above, and define a condition `is_tail`."
      ]
    },
    {
      "cell_type": "code",
      "execution_count": null,
      "id": "dee41622",
      "metadata": {
        "id": "dee41622"
      },
      "outputs": [],
      "source": []
    },
    {
      "cell_type": "code",
      "execution_count": null,
      "id": "96baf6a2",
      "metadata": {
        "id": "96baf6a2"
      },
      "outputs": [],
      "source": []
    },
    {
      "cell_type": "markdown",
      "id": "7cacd90f",
      "metadata": {
        "id": "7cacd90f"
      },
      "source": [
        "Let's save our work before continuing."
      ]
    },
    {
      "cell_type": "code",
      "execution_count": null,
      "id": "3ebbc478",
      "metadata": {
        "id": "3ebbc478"
      },
      "outputs": [],
      "source": []
    },
    {
      "cell_type": "code",
      "execution_count": null,
      "id": "85153fd6",
      "metadata": {
        "id": "85153fd6"
      },
      "outputs": [],
      "source": []
    },
    {
      "cell_type": "markdown",
      "id": "d511818e",
      "metadata": {
        "id": "d511818e"
      },
      "source": [
        "Here are all the generic helper functions we've created so far, which can be applied to any problem."
      ]
    },
    {
      "cell_type": "code",
      "execution_count": null,
      "id": "5364f64b",
      "metadata": {
        "id": "5364f64b"
      },
      "outputs": [],
      "source": []
    },
    {
      "cell_type": "code",
      "execution_count": null,
      "id": "5aed04d3",
      "metadata": {
        "id": "5aed04d3"
      },
      "outputs": [],
      "source": []
    },
    {
      "cell_type": "code",
      "execution_count": null,
      "id": "9572f7f8",
      "metadata": {
        "id": "9572f7f8"
      },
      "outputs": [],
      "source": []
    },
    {
      "cell_type": "markdown",
      "id": "fe794223",
      "metadata": {
        "id": "fe794223"
      },
      "source": [
        "> **Exercise**: You are given a function `roll_die` defined below, which simulates the process of rolling a die and returns an integer between 1 and 6 as the result. Estimate the probability of getting an odd number when the die is rolled. Is the die fair?\n",
        ">\n",
        "> *Hint*: Use the `estimate_probability` function defined above."
      ]
    },
    {
      "cell_type": "code",
      "execution_count": null,
      "id": "026927d2",
      "metadata": {
        "id": "026927d2"
      },
      "outputs": [],
      "source": []
    },
    {
      "cell_type": "code",
      "execution_count": null,
      "id": "61a567ed",
      "metadata": {
        "id": "61a567ed"
      },
      "outputs": [],
      "source": []
    },
    {
      "cell_type": "code",
      "execution_count": null,
      "id": "f27019a1",
      "metadata": {
        "id": "f27019a1"
      },
      "outputs": [],
      "source": []
    },
    {
      "cell_type": "code",
      "execution_count": null,
      "id": "805aff65",
      "metadata": {
        "id": "805aff65"
      },
      "outputs": [],
      "source": []
    },
    {
      "cell_type": "markdown",
      "id": "20f2dc62",
      "metadata": {
        "id": "20f2dc62"
      },
      "source": [
        "> **Exercise**: Given a function `generate` that returns a different number each time it's invoked, estimate the probability that the number returned is divisible by 5.\n",
        ">\n",
        "> Hint: Use the `estimate_probability` function defined above."
      ]
    },
    {
      "cell_type": "code",
      "execution_count": null,
      "id": "895ea176",
      "metadata": {
        "id": "895ea176"
      },
      "outputs": [],
      "source": []
    },
    {
      "cell_type": "code",
      "execution_count": null,
      "id": "1e8edded",
      "metadata": {
        "id": "1e8edded"
      },
      "outputs": [],
      "source": []
    },
    {
      "cell_type": "code",
      "execution_count": null,
      "id": "5d2a8be3",
      "metadata": {
        "id": "5d2a8be3"
      },
      "outputs": [],
      "source": []
    },
    {
      "cell_type": "code",
      "execution_count": null,
      "id": "057ef422",
      "metadata": {
        "id": "057ef422"
      },
      "outputs": [],
      "source": []
    },
    {
      "cell_type": "code",
      "execution_count": null,
      "id": "ea022373",
      "metadata": {
        "id": "ea022373"
      },
      "outputs": [],
      "source": []
    },
    {
      "cell_type": "markdown",
      "id": "93554438",
      "metadata": {
        "id": "93554438"
      },
      "source": [
        "> **Exercise**: 12 cards have been removed from a full deck of cards. You are not allowed to look at the cards, but you allowed to shuffle the deck, pick a random card, look at it and put it back into the deck. You repeat this process 1000 times and note the suit of the card that was picked. You observe the following:\n",
        "> * Spades ♠️ was picked 300 times\n",
        "> * Clubs ♣️ was picked 250 times\n",
        "> * Hearts ♥️ was picked 250 times\n",
        "> * Diamonds ♦️ was picked 200 times\n",
        ">\n",
        "> Can you use this information to estimate the number of cards belonging to each suit in the partial deck?"
      ]
    },
    {
      "cell_type": "code",
      "execution_count": null,
      "id": "ddf5e2f4",
      "metadata": {
        "id": "ddf5e2f4"
      },
      "outputs": [],
      "source": []
    },
    {
      "cell_type": "code",
      "execution_count": null,
      "id": "6a3e6699",
      "metadata": {
        "id": "6a3e6699"
      },
      "outputs": [],
      "source": []
    },
    {
      "cell_type": "code",
      "execution_count": null,
      "id": "64d89352",
      "metadata": {
        "id": "64d89352"
      },
      "outputs": [],
      "source": []
    },
    {
      "cell_type": "markdown",
      "id": "ec8605ac",
      "metadata": {
        "id": "ec8605ac"
      },
      "source": [
        "## Practical Applications of Probability\n",
        "\n",
        "Let's look at some real-world applications of probability.\n",
        "\n",
        "### Counting fish in a pond\n",
        "\n",
        "\n",
        "> **Exercise:** Supposed you cast a net in the middle of a pond and catch 1600 fish. You mark all the fish using a special waterproof ink and release them back into the pond. You return a few days later and cast a net at the same spot. This time you catch 1200 fish and you find that 100 of them are already marked with the special waterproof ink. Can you use this information to estimate the number of fish in the pond?\n",
        "\n",
        "*Hint*: Estimate the probability of find a marked fish in the second catch and compare it with the true probability of catching a marked fish.\n"
      ]
    },
    {
      "cell_type": "code",
      "execution_count": null,
      "id": "6ff234a6",
      "metadata": {
        "id": "6ff234a6"
      },
      "outputs": [],
      "source": []
    },
    {
      "cell_type": "code",
      "execution_count": null,
      "id": "db50fc98",
      "metadata": {
        "id": "db50fc98"
      },
      "outputs": [],
      "source": []
    },
    {
      "cell_type": "markdown",
      "id": "8858352f",
      "metadata": {
        "id": "8858352f"
      },
      "source": [
        "At a later point, we will also learn about statistical significance, to determine how reliable the estimate is.\n",
        "\n",
        "### Counting leaves in a Tree\n",
        "\n",
        "> **Exercise**: Come up with a strategy to estimate the number of leaves in a tree.\n",
        ">\n",
        "> *Hint*: See the previous exercise."
      ]
    },
    {
      "cell_type": "code",
      "execution_count": null,
      "id": "44c38066",
      "metadata": {
        "id": "44c38066"
      },
      "outputs": [],
      "source": []
    },
    {
      "cell_type": "code",
      "execution_count": null,
      "id": "7407706a",
      "metadata": {
        "id": "7407706a"
      },
      "outputs": [],
      "source": []
    },
    {
      "cell_type": "markdown",
      "id": "d532f3ff",
      "metadata": {
        "id": "d532f3ff"
      },
      "source": [
        "### Ad Campaign Analysis\n",
        "\n",
        "> **Exercise**: You're running an social network advertising campaign to promote your upcoming course \"Machine Learning with Python: Zero to GBMs\". The course is priced at $\\$400$. The platform charges you \\$.08$ for every impression of you ad i.e. to display your ad once in a person's feed.\n",
        ">\n",
        "> - The probability that someone clicks on your ad to visit the course page is 0.01\n",
        "> - The probability that someone who visits the course page will sign up for a trial of the course is 0.15\n",
        "> - The probability that someone who signs up for a trail will pay for the course is 0.1\n",
        ">\n",
        "> Given the above information, should you move forward with this ad campaign?"
      ]
    },
    {
      "cell_type": "code",
      "execution_count": null,
      "id": "ee6dc2e4",
      "metadata": {
        "id": "ee6dc2e4"
      },
      "outputs": [],
      "source": []
    },
    {
      "cell_type": "code",
      "execution_count": null,
      "id": "34fd81bc",
      "metadata": {
        "id": "34fd81bc"
      },
      "outputs": [],
      "source": []
    },
    {
      "cell_type": "markdown",
      "id": "1d2c6ada",
      "metadata": {
        "id": "1d2c6ada"
      },
      "source": [
        "> **Exercise**: For the above problem, answer the following:\n",
        ">\n",
        "> - How can you determine the probability whether someone clicking on your ad?\n",
        "> - How can you determine the probability whether someone who visits the course page will sign up for a trial?\n",
        "> - How can you determine the probability whether someone who signed up for trial will pay for the course?\n",
        ">\n",
        "> Suggest some strategies for increase each of the above probabilities."
      ]
    },
    {
      "cell_type": "code",
      "execution_count": null,
      "id": "b8b4fd67",
      "metadata": {
        "id": "b8b4fd67"
      },
      "outputs": [],
      "source": []
    },
    {
      "cell_type": "code",
      "execution_count": null,
      "id": "87038896",
      "metadata": {
        "id": "87038896"
      },
      "outputs": [],
      "source": []
    },
    {
      "cell_type": "markdown",
      "id": "e5e79ad7",
      "metadata": {
        "id": "e5e79ad7"
      },
      "source": [
        "Save and commit your work before continuing."
      ]
    },
    {
      "cell_type": "code",
      "execution_count": null,
      "id": "c58ac039",
      "metadata": {
        "id": "c58ac039"
      },
      "outputs": [],
      "source": []
    },
    {
      "cell_type": "code",
      "execution_count": null,
      "id": "13a24a75",
      "metadata": {
        "id": "13a24a75"
      },
      "outputs": [],
      "source": []
    },
    {
      "cell_type": "markdown",
      "id": "88c23cc0",
      "metadata": {
        "id": "88c23cc0"
      },
      "source": [
        "## Independent Events and Compound Probability\n",
        "\n",
        "When we conduct multiple experiments independently (i.e. the result of one of the experiments does not affect the result of the other), we can compute the probability of a combination of results.\n",
        "\n",
        "> **Question:** If you flip a fair coin 2 times, what is the probability of getting a head followed by a tail?\n",
        "\n",
        "We know the the probability of getting a head for the first toss is $1/2$. And the probability of getting a tail for the second toss is also $1/2$, since both tosses are performed independently.\n",
        "\n",
        "<img src=\"https://i.imgur.com/pg1aXVK.png\">\n",
        "\n",
        "There are $2 \\times 2 = 4$ possible outcomes of the combined experiment: $HH$, $HT$, $TH$ and $TT$, and only one of them ($HT$) matches the given condition. Thus the probability of the condition is $1/2$."
      ]
    },
    {
      "cell_type": "code",
      "execution_count": null,
      "id": "1a8a2b7d",
      "metadata": {
        "id": "1a8a2b7d"
      },
      "outputs": [],
      "source": []
    },
    {
      "cell_type": "markdown",
      "id": "3ad63a92",
      "metadata": {
        "id": "3ad63a92"
      },
      "source": [
        "Let's try this with another example and try to derive a general rule.\n",
        "\n",
        "> **Question**: If you flip a fair coin and roll a fair die, what is the probability of getting a head on the coin and an number greater than two on the die?\n",
        "\n",
        "Let $A$ denote the event \"getting a head for the coin toss\" and let $B$ denote the event \"getting a number greater than two for the die roll\". It's easy to see that\n",
        "\n",
        "$$P(A) = 1/2$$\n",
        "$$P(B) = 4/6$$\n",
        "\n",
        "Based on the notation we defined earlier, $A \\cap B$ represents the event $A \\textrm{ and } B$ i.e. \"getting a head and a number greater than two\". We wish to find $P(A \\cup B)$.\n",
        "\n",
        "When we toss a coin and roll a die, each outcome is a pair consisting of the result of the coin toss and the result of a the die roll. The total number of outcomes is $2 * 6 = 12$ All the possible outcomes are shown below:\n",
        "\n",
        "![](https://i.imgur.com/X1YAqKH.png)\n",
        "\n",
        "\n",
        "Only 1 out of the 2 outcomes of the coin toss matches condition $A$, and only 4 out of the 6 outcomes of the die roll matches condition $B$. Thus, the number of pairs that match both conditions i.e. $A \\cap B$ is $1 \\times 4 = 4$. We can now calculate $P(A \\cap B)$ as follows:\n",
        "\n",
        "$$P(A \\cap B) = \\frac{1 \\times 4}{ 2 \\times 6}$$\n",
        "\n",
        "The above equation can be rewritten as follows:\n",
        "\n",
        "$$P(A \\cap B) = \\frac{1}{2} \\times \\frac{4}{6}$$\n",
        "\n",
        "$$P(A \\cap B) = P(A)P(B)$$\n",
        "\n",
        "Thus, when two or more events are independent, the probability of all of the occurring together is equal to the product of their probabilities.\n",
        "\n",
        "We can now compute the probability of the given condition as follows."
      ]
    },
    {
      "cell_type": "code",
      "execution_count": null,
      "id": "f08b3090",
      "metadata": {
        "id": "f08b3090"
      },
      "outputs": [],
      "source": []
    },
    {
      "cell_type": "markdown",
      "id": "c373b793",
      "metadata": {
        "id": "c373b793"
      },
      "source": [
        "> **Exercise:** If you flip a fair coin 3 times, what is the probability of getting at least two heads?\n"
      ]
    },
    {
      "cell_type": "code",
      "execution_count": null,
      "id": "2e9319fd",
      "metadata": {
        "id": "2e9319fd"
      },
      "outputs": [],
      "source": []
    },
    {
      "cell_type": "markdown",
      "id": "4e0698cd",
      "metadata": {
        "id": "4e0698cd"
      },
      "source": [
        "> **Exercise**: If you roll two fair dice, what is the probability of getting a total of 7?"
      ]
    },
    {
      "cell_type": "code",
      "execution_count": null,
      "id": "441ddcc4",
      "metadata": {
        "id": "441ddcc4"
      },
      "outputs": [],
      "source": []
    },
    {
      "cell_type": "code",
      "execution_count": null,
      "id": "5fbb37cc",
      "metadata": {
        "id": "5fbb37cc"
      },
      "outputs": [],
      "source": []
    },
    {
      "cell_type": "markdown",
      "id": "de107330",
      "metadata": {
        "id": "de107330"
      },
      "source": [
        "> **Exercise:** If you flip a fair coin 10 times, what is the probability of getting exactly four heads?"
      ]
    },
    {
      "cell_type": "code",
      "execution_count": null,
      "id": "2f2531a1",
      "metadata": {
        "id": "2f2531a1"
      },
      "outputs": [],
      "source": []
    },
    {
      "cell_type": "code",
      "execution_count": null,
      "id": "e02a5d4a",
      "metadata": {
        "id": "e02a5d4a"
      },
      "outputs": [],
      "source": []
    },
    {
      "cell_type": "markdown",
      "id": "09ae000b",
      "metadata": {
        "id": "09ae000b"
      },
      "source": [
        "> **Exercise**: What is the difference between independent events and mutually exclusive events? Illustrate with an example."
      ]
    },
    {
      "cell_type": "code",
      "execution_count": null,
      "id": "6b70467c",
      "metadata": {
        "id": "6b70467c"
      },
      "outputs": [],
      "source": []
    },
    {
      "cell_type": "code",
      "execution_count": null,
      "id": "833e3fb1",
      "metadata": {
        "id": "833e3fb1"
      },
      "outputs": [],
      "source": []
    },
    {
      "cell_type": "markdown",
      "id": "6dedd55d",
      "metadata": {
        "id": "6dedd55d"
      },
      "source": [
        "> **Exercise**: If you pick one card each from five different well shuffled decks of cards, what is the probability that you will end up with a flush (all cards belonging to the same suit)?"
      ]
    },
    {
      "cell_type": "code",
      "execution_count": null,
      "id": "4a066718",
      "metadata": {
        "id": "4a066718"
      },
      "outputs": [],
      "source": []
    },
    {
      "cell_type": "code",
      "execution_count": null,
      "id": "3e4b524d",
      "metadata": {
        "id": "3e4b524d"
      },
      "outputs": [],
      "source": []
    },
    {
      "cell_type": "markdown",
      "id": "27404cb4",
      "metadata": {
        "id": "27404cb4"
      },
      "source": [
        "> **Exercise**: If you pick five cards from a well shuffled deck of cards one by one, what is the probability that you will end up with a flush (all cards belonging to the same suit)?"
      ]
    },
    {
      "cell_type": "code",
      "execution_count": null,
      "id": "27c8ab3a",
      "metadata": {
        "id": "27c8ab3a"
      },
      "outputs": [],
      "source": []
    },
    {
      "cell_type": "code",
      "execution_count": null,
      "id": "b0c58bc6",
      "metadata": {
        "id": "b0c58bc6"
      },
      "outputs": [],
      "source": []
    },
    {
      "cell_type": "markdown",
      "id": "818aa0af",
      "metadata": {
        "id": "818aa0af"
      },
      "source": [
        "## Dependent events and conditional probability\n",
        "\n",
        "In the previous question, the outcome of drawing a second card from a deck is dependent on the outcome of the drawing the first card. In such a case, it's not possible to apply the multiplication rule for independent events. Let's look at some examples of dependent events.\n",
        "\n",
        "\n",
        "> **Question**: A bag contains three green marbles and two red marbles. You draw two marbles from the bag, one by one. If we know that the first marble drawn was green in color, what is the probability that the second marble drawn is red?\n",
        "\n",
        "![](https://i.imgur.com/6AlkxFD.png)\n",
        "\n",
        "\n",
        "Let $A$ denote the condition \"drawing a green marble in the first draw\" and let $B$ denote the condition \"drawing a red marble in the second draw\".\n",
        "\n",
        "\n",
        "We use the notation $P(B | A)$ to denote the probability of the condition $B$ *given* that the condition $A$ holds true i.e. \"probability that the second marble drawn is red if we know that the first marble is green\".\n",
        "\n",
        "\n",
        "![](https://i.imgur.com/zX8qqws.png)\n",
        "\n",
        "If the first marble picked is green, that leaves two green marbles and two red marbles in the bag. We can use this information to compute the probability of the given condition. Any of the four marbles is equally likely to be drawn, and two of them satisfy the condition. Thus $P(B | A) = 2/4 = 0.5$\n",
        "\n",
        "\n"
      ]
    },
    {
      "cell_type": "code",
      "execution_count": null,
      "id": "80fc3da1",
      "metadata": {
        "id": "80fc3da1"
      },
      "outputs": [],
      "source": []
    },
    {
      "cell_type": "markdown",
      "id": "8144441f",
      "metadata": {
        "id": "8144441f"
      },
      "source": [
        "> **Question**: A bag contains three green marbles and two red marbles. You draw two marbles from the bag, one by one. What is the probability that the first marble drawn is green and the second marble drawn is red?\n",
        "\n",
        "![](https://i.imgur.com/6AlkxFD.png)\n",
        "\n",
        "Once again, let $A$ denote the condition \"drawing a green marble in the first draw\" and let $B$ denote the condition \"drawing a red marble in the second draw\". This time, we're interested in the probability of $A \\cap B$ i.e. $A \\textrm{ and } B$.\n",
        "\n",
        "When we draw the first marble, it is green with the probability $P(A)$. Once the first marble has been drawn, the second marble drawn is red with the probability $P(B|A)$. Thus, it follows that:\n",
        "\n",
        "$$P(A \\cap B) = P(A) P (B | A)$$\n",
        "\n",
        "This rule is called the **multiplication rule of probability**. We can now compute the required probability as follows:\n"
      ]
    },
    {
      "cell_type": "code",
      "execution_count": null,
      "id": "fbc48d99",
      "metadata": {
        "id": "fbc48d99"
      },
      "outputs": [],
      "source": []
    },
    {
      "cell_type": "markdown",
      "id": "ff48ac25",
      "metadata": {
        "id": "ff48ac25"
      },
      "source": [
        "Thus, for dependent events, we can use the multiplication rule to compute the probability of both events occurring.\n",
        "\n",
        "Independent events are a special case of the multiplication rule. $P(B|A) = P(B)$ for independent events $A$ and $B$. For example, the probability that we \"get a six on a dice roll\" given we \"get a head on coin toss\" is simply the probability of \"getting a six on a dice roll\". Hence, for independent events,\n",
        "\n",
        "$$P(A \\cap B) = P(A) P (B | A) = P(A) P(B)$$"
      ]
    },
    {
      "cell_type": "code",
      "execution_count": null,
      "id": "d0a45cee",
      "metadata": {
        "id": "d0a45cee"
      },
      "outputs": [],
      "source": []
    },
    {
      "cell_type": "code",
      "execution_count": null,
      "id": "dda6d4ed",
      "metadata": {
        "id": "dda6d4ed"
      },
      "outputs": [],
      "source": []
    },
    {
      "cell_type": "code",
      "execution_count": null,
      "id": "4404c2ef",
      "metadata": {
        "id": "4404c2ef"
      },
      "outputs": [],
      "source": []
    },
    {
      "cell_type": "markdown",
      "id": "b95a459f",
      "metadata": {
        "id": "b95a459f"
      },
      "source": [
        "> **Question**: A bag contains three green marbles and two red marbles. You draw two marbles from the bag, one by one. What is the probability that the second marble drawn is red.\n",
        "\n",
        "\n",
        "![](https://i.imgur.com/6AlkxFD.png)\n",
        "\n",
        "This time we don't know the color of the first marble drawn. However, there are exactly two mutually exclusive possibilities:\n",
        "\n",
        "1. The first marble drawn in green and the second marble drawn is red.\n",
        "2. The first marble drawn in red and the second marble drawn is red.\n",
        "\n",
        "Let $A$ denote \"drawing a green marble in the first draw\" and let $B$ denote \"drawing a red marble in the second draw\". It follows that:\n",
        "\n",
        "$$P(B) = P(A \\cap B) + P(A^C \\cap B)$$\n",
        "\n",
        "Using the multiplication rule,\n",
        "\n",
        "$$P(B) = P(A)P(B|A) + P(A^C)P(B|A^C)$$\n",
        "\n",
        "\n",
        "> **Exercise**: Substitute the right values into the above expression to compute the desired probability."
      ]
    },
    {
      "cell_type": "code",
      "execution_count": null,
      "id": "89328953",
      "metadata": {
        "id": "89328953"
      },
      "outputs": [],
      "source": []
    },
    {
      "cell_type": "code",
      "execution_count": null,
      "id": "3bcaaf7d",
      "metadata": {
        "id": "3bcaaf7d"
      },
      "outputs": [],
      "source": []
    },
    {
      "cell_type": "code",
      "execution_count": null,
      "id": "f39328d1",
      "metadata": {
        "id": "f39328d1"
      },
      "outputs": [],
      "source": []
    },
    {
      "cell_type": "code",
      "execution_count": null,
      "id": "388eda90",
      "metadata": {
        "id": "388eda90"
      },
      "outputs": [],
      "source": []
    },
    {
      "cell_type": "markdown",
      "id": "33481111",
      "metadata": {
        "id": "33481111"
      },
      "source": [
        "## Bayes Theorem\n",
        "\n",
        "The multiplication rule can be written in two ways:\n",
        "\n",
        "$$P(A \\cap B) = P(A) P (B | A)$$\n",
        "$$P(A \\cap B) = P(B \\cap A) = P(B) P (A | B)$$\n",
        "\n",
        "Thus, it follows that:\n",
        "\n",
        "$$P(B) P (A | B) = P(A) P (B | A)$$\n",
        "\n",
        "The above equation can be rewritten as:\n",
        "\n",
        "$$P (A | B) = \\frac{P(A) P (B | A)}{P(B)}$$\n",
        "\n",
        "This relation is known as the **Bayes theorem**, and it is used to compute probability of $A|B$ using the probability of $B|A$. Bayes theorem has many practical applications. Watch this tutorial for a visual introduction to Bayes theorem: https://youtu.be/HZGCoVF3YvM"
      ]
    },
    {
      "cell_type": "markdown",
      "id": "5a42b565",
      "metadata": {
        "id": "5a42b565"
      },
      "source": [
        "> **Question**: A bag contains three green marbles and two red marbles. You draw two marbles from the bag, one by one. If it is known that the second marble drawn is red, what is the probability that the first marble drawn was green?\n",
        "\n",
        "![](https://i.imgur.com/6AlkxFD.png)\n",
        "\n",
        "Let $A$ denote \"drawing a green marble in the first draw\" and let $B$ denote \"drawing a red marble in the second draw\". We need to compute $P(A|B)$.\n",
        "\n",
        "From the previous problems, we already know the value of $P(A)$, $P(B|A)$ and $P(B)$.\n",
        "\n",
        "\n",
        "Thus, we can now apply Bayes theorem to get:\n",
        "\n",
        "$$P (A | B) = \\frac{P(A) P (B | A)}{P(B)}$$\n",
        "\n",
        "> **Exercise**: Substitute the right values into the above formula to compute the desired probability.\n"
      ]
    },
    {
      "cell_type": "code",
      "execution_count": null,
      "id": "75ada7a3",
      "metadata": {
        "id": "75ada7a3"
      },
      "outputs": [],
      "source": []
    },
    {
      "cell_type": "code",
      "execution_count": null,
      "id": "ca2bb60f",
      "metadata": {
        "id": "ca2bb60f"
      },
      "outputs": [],
      "source": []
    },
    {
      "cell_type": "code",
      "execution_count": null,
      "id": "4bbfb44e",
      "metadata": {
        "id": "4bbfb44e"
      },
      "outputs": [],
      "source": []
    },
    {
      "cell_type": "markdown",
      "id": "3a11a777",
      "metadata": {
        "id": "3a11a777"
      },
      "source": [
        "\n",
        "\n",
        "> **Exercise**: Medical records in a clinic indicate that 10% of patients entering the clinic have liver disease and five percent of the clinic's patients are alcoholics. Medical research suggests among patients diagnosed with liver disease, 7% are alcoholics. What is a patient's probability of having liver disease if they are an alcoholic?\n",
        "\n",
        "*Hint*: Let $A$ represent the event \"a person has liver disease\" and $B$ represent the event \"a person is an alcoholic\". Apply Bayes theorem to compute $P(A|B)$\n"
      ]
    },
    {
      "cell_type": "code",
      "execution_count": null,
      "id": "f8503bc3",
      "metadata": {
        "id": "f8503bc3"
      },
      "outputs": [],
      "source": []
    },
    {
      "cell_type": "code",
      "execution_count": null,
      "id": "e331ce55",
      "metadata": {
        "id": "e331ce55"
      },
      "outputs": [],
      "source": []
    },
    {
      "cell_type": "code",
      "execution_count": null,
      "id": "c2236ad6",
      "metadata": {
        "id": "c2236ad6"
      },
      "outputs": [],
      "source": []
    },
    {
      "cell_type": "code",
      "execution_count": null,
      "id": "bb4981e1",
      "metadata": {
        "id": "bb4981e1"
      },
      "outputs": [],
      "source": []
    },
    {
      "cell_type": "markdown",
      "id": "6986d3a3",
      "metadata": {
        "id": "6986d3a3"
      },
      "source": [
        "> **Exercise**: Given the following statistics, what is the probability that a woman has breast cancer if she has a positive mammogram result?\n",
        ">\n",
        "> - One percent of women over 50 have breast cancer.\n",
        "> - Ninety percent of women who have breast cancer test positive on mammograms.\n",
        "> - Eight percent of women will have false positives.\n",
        "\n",
        "*Hint*: Let $A$ represent the event \"a woman has breast cancer\" and let $B$ represent the event \"a woman as a positive mammogram result\". Apply Bayes theorem to compute $P(A|B)$."
      ]
    },
    {
      "cell_type": "code",
      "execution_count": null,
      "id": "c63111f9",
      "metadata": {
        "id": "c63111f9"
      },
      "outputs": [],
      "source": []
    },
    {
      "cell_type": "code",
      "execution_count": null,
      "id": "c2052711",
      "metadata": {
        "id": "c2052711"
      },
      "outputs": [],
      "source": []
    },
    {
      "cell_type": "code",
      "execution_count": null,
      "id": "013d1f2e",
      "metadata": {
        "id": "013d1f2e"
      },
      "outputs": [],
      "source": []
    },
    {
      "cell_type": "code",
      "execution_count": null,
      "id": "452fc604",
      "metadata": {
        "id": "452fc604"
      },
      "outputs": [],
      "source": []
    },
    {
      "cell_type": "code",
      "execution_count": null,
      "id": "78ede805",
      "metadata": {
        "id": "78ede805"
      },
      "outputs": [],
      "source": []
    },
    {
      "cell_type": "code",
      "execution_count": null,
      "id": "f9728cbe",
      "metadata": {
        "id": "f9728cbe"
      },
      "outputs": [],
      "source": []
    },
    {
      "cell_type": "markdown",
      "id": "bae6b0a3",
      "metadata": {
        "id": "bae6b0a3"
      },
      "source": [
        "\n",
        "## Summary\n",
        "\n",
        "Here's a summary of the concepts and results we've covered in this tutorial:\n",
        "\n",
        "\n",
        "1. **Probability**: The probability of a condition/event is a number between 0 and 1. It indicates how likely the event is to occur or how likely it is that a condition holds true.\n",
        "\n",
        "2. **Equally likely outcomes**: When we have several equally likely outcomes, the probability of a condition is defined as\n",
        "\n",
        "$$P(\\textrm{condition}) = \\frac{\\textrm{ No. of outcomes satisfying the condition }} {\\textrm{Number of equally likely outcomes}}$$\n",
        "\n",
        "\n",
        "3. **Estimating probability**: We can estimate the probability of a condition by repeating an experiment several times\n",
        "\n",
        "$$P(\\textrm{condition}) \\approx \\frac{\\textrm{ No. of experiments satisfying the condition }} {\\textrm{No. of experiments conducted}}$$\n",
        "\n",
        "\n",
        "4. **Addition rule**: Given two conditions/events $A$ and $B$, we can compute the probability of either of A or B occurring as follows:\n",
        "\n",
        "\n",
        "$$P(A \\textrm{ or } B) = P(A) + P(B) - P(A \\textrm { and } B)$$\n",
        "\n",
        "$$P(A \\cup B) = P(A) + P(B) - P(A \\cap B)$$\n",
        "\n",
        "\n",
        "5. **Mutually exclusive events**: Two conditions/events $A$ and $B$ are said to be mutually exclusive if they cannot occur together i.e. $P(A \\textrm{ and } B) = 0$. E.g. Getting a 6 and getting a 4 on a die roll are mutually exclusive events. In such a case:\n",
        "   \n",
        "\n",
        "$$P(A \\cup B) = P(A) + P(B)$$\n",
        "\n",
        "6. **Complement of an event** Given an event $A$, the condition $A^C$ represents the condition that $A$ does not occur. It is called the complement of $A$, and its probability is given by the relation:\n",
        "\n",
        "$$P(\\textrm { not } A) = 1 - P(A)$$\n",
        "\n",
        "$$P(A^C) = 1 - P(A)$$\n",
        "\n",
        "7. **Sum of Probabilities**: The sum of probabilities of all the possible mutually exclusive outcomes is 1. The set of all possible outcomes is called the *sample space* and is denoted by $S$.\n",
        "\n",
        "$$P(S) = 1$$\n",
        "\n",
        "\n",
        "8. **Independent Events**: Two events $A$ and $B$ are said to be independent if outcome of one does not affect the outcome of the other. For independent events,\n",
        "\n",
        "\n",
        "$$P(A \\cap B) = P(A)P(B)$$\n",
        "\n",
        "\n",
        "$$P(A \\cup B) = P(A) + P(B) - P(A)P(B)$$\n",
        "\n",
        "9. **Multiplication Rule**: Given two events $A$ and $B$, the probability of both $A$ and $B$ occurring can be computed as follows:\n",
        "\n",
        "\n",
        "$$P(A \\cap B) = P(A)P(B | A)$$\n",
        "\n",
        "$$P(A \\cap B) = P(B)P(A | B)$$\n",
        "\n",
        "10. **Probability of dependent events**: Given two events $A$ and $B$, if the outcome of $B$ is dependent on the outcome of $A$, $P(B)$ can be computed as:\n",
        "\n",
        "$$P(B) = P(A \\cap B) + P(A^C \\cap B)$$\n",
        "\n",
        "$$P(B) = P(A)P(B|A) + P(A^C)P(B|A^C)$$\n",
        "\n",
        "\n",
        "11. **Bayes Theorem**: Given two events $A$ and $B$, we can compute $P(A|B)$ using $P(B|A)$ as follows:\n",
        "\n",
        "$$P(A|B) = \\frac{P(A)P(B|A)}{P(B)}$$\n",
        "\n",
        "Some resources for learning and practice:\n",
        "\n",
        "- [Probability tutorials on Khan Academy](https://www.khanacademy.org/math/statistics-probability/probability-library)\n",
        "- [Problems on Probability](https://www.testprepreview.com/modules/probabilty.htm)\n",
        "- [Probability Interview Questions](https://github.com/kojino/120-Data-Science-Interview-Questions/blob/master/probability.md)\n",
        "- [A visual introduction to probability](https://luminousmen.com/post/data-science-probability)\n",
        "- [A visual explanation of Bayes Theorem](https://www.youtube.com/watch?v=HZGCoVF3YvM)\n"
      ]
    },
    {
      "cell_type": "code",
      "execution_count": null,
      "id": "8cdeb035",
      "metadata": {
        "id": "8cdeb035"
      },
      "outputs": [],
      "source": []
    },
    {
      "cell_type": "code",
      "execution_count": null,
      "id": "23504494",
      "metadata": {
        "id": "23504494"
      },
      "outputs": [],
      "source": []
    },
    {
      "cell_type": "markdown",
      "id": "c2b54813",
      "metadata": {
        "id": "c2b54813"
      },
      "source": [
        "## Questions for Revision\n",
        "\n",
        "Try answering the following questions to test your understanding of the topics covered in this notebook:\n",
        "\n",
        "1. What is an experiment?\n",
        "2. What is an outcome?\n",
        "3. What is an event?\n",
        "4. What is an elementary event?\n",
        "5. What is probability?\n",
        "6. What is a sample space?\n",
        "7. What is the difference between mutually exclusive events and non-exclusive events?\n",
        "8. What is the difference between mutually exclusive events and independent events?\n",
        "9. What are the laws of probability?\n",
        "10. What are the axioms of probability?\n",
        "11. What are the rules of addition and multiplication in probability?\n",
        "12. How is probability distribution of a random variable help in business decision making?\n",
        "13. What are the different approaches towards probability?\n",
        "14. Give few examples to explain probability other than tossing a coin or throwing a dice.\n",
        "15. What is a conditional probability?\n",
        "16. How is Bayes’ theorem relevant in solving real-time problems?"
      ]
    },
    {
      "cell_type": "markdown",
      "id": "2a6fd80a",
      "metadata": {
        "id": "2a6fd80a"
      },
      "source": [
        "## Solutions for Exercises"
      ]
    },
    {
      "cell_type": "markdown",
      "id": "b76f6ab9",
      "metadata": {
        "id": "b76f6ab9"
      },
      "source": [
        "### Basic formula for Probability\n",
        "\n",
        "Let 'A' is the `Condition under which an event happens`\n",
        "- Total outcomes = T\n",
        "- Matching outcomes = M\n",
        "- Probability(A), $P(A) = M/T$"
      ]
    },
    {
      "cell_type": "code",
      "execution_count": null,
      "id": "1a7c5d19",
      "metadata": {
        "id": "1a7c5d19"
      },
      "outputs": [],
      "source": []
    },
    {
      "cell_type": "markdown",
      "id": "39c2d211",
      "metadata": {
        "id": "39c2d211"
      },
      "source": [
        "Example: In a coin toss, probability of `a head` is:"
      ]
    },
    {
      "cell_type": "code",
      "execution_count": null,
      "id": "170ffabc",
      "metadata": {
        "id": "170ffabc"
      },
      "outputs": [],
      "source": []
    },
    {
      "cell_type": "markdown",
      "id": "10d5f977",
      "metadata": {
        "id": "10d5f977"
      },
      "source": [
        "> **Exercise:** If you flip a fair coin, what is the probability of getting `a tail`?"
      ]
    },
    {
      "cell_type": "code",
      "execution_count": null,
      "id": "1d79de95",
      "metadata": {
        "id": "1d79de95"
      },
      "outputs": [],
      "source": []
    },
    {
      "cell_type": "markdown",
      "id": "831b44a9",
      "metadata": {
        "id": "831b44a9"
      },
      "source": [
        "> **Exercise:** If you flip a fair coin, what is the probability of getting a `head or a tail`?\n",
        "\n",
        "**Solution:**\n",
        "\n",
        "Condition 'A' -> `head or a tail`\n",
        "\n",
        "- Total outcomes -> H or T = 2\n",
        "- Possible outcome_1 -> H, (matches  A `head or a tail`)\n",
        "- Possible outcome_2 -> T, (matches A `head or a tail`)\n",
        "- Therefore, total_matching_outcomes = 2"
      ]
    },
    {
      "cell_type": "code",
      "execution_count": null,
      "id": "dad04381",
      "metadata": {
        "id": "dad04381"
      },
      "outputs": [],
      "source": []
    },
    {
      "cell_type": "markdown",
      "id": "41c5c89a",
      "metadata": {
        "id": "41c5c89a"
      },
      "source": [
        "> **Exercise:** If you flip a fair coin, what is the probability of getting `neither a head nor a tail`?\n",
        "\n",
        "**Solution:**\n",
        "\n",
        "- Condition A -> `neither head, neither tail`\n",
        "- Total outcomes -> H or T = 2\n",
        "- Possible outcome_1 -> Head (Does not match A)\n",
        "- Possible outcome_2 -> Tail(Does not match A)\n",
        "- Therefore, matching_outcomes = 0"
      ]
    },
    {
      "cell_type": "code",
      "execution_count": null,
      "id": "ac8a8675",
      "metadata": {
        "id": "ac8a8675"
      },
      "outputs": [],
      "source": []
    },
    {
      "cell_type": "markdown",
      "id": "af1a067d",
      "metadata": {
        "id": "af1a067d"
      },
      "source": [
        "> **Exercise:** If you flip a fair coin, what is the probability of getting `a head and a tail on the same coin toss`?\n",
        "\n",
        "**Solution:**\n",
        "- Out of all possible outcomes:\n",
        "- Possible outcome_1 -> Head (That is a head but Not a Tail)\n",
        "Similarly,\n",
        "- Possible outcome_2 -> Tail(i.e a Tail but not a Head at the same time)\n",
        "- Therefore, Matching outcomes = 0"
      ]
    },
    {
      "cell_type": "code",
      "execution_count": null,
      "id": "f1ee1083",
      "metadata": {
        "id": "f1ee1083"
      },
      "outputs": [],
      "source": []
    },
    {
      "cell_type": "markdown",
      "id": "3bb2bc0f",
      "metadata": {
        "id": "3bb2bc0f"
      },
      "source": [
        "> **Exercise:** If you flip a fair coin, what is the probability that it will rain in Bengaluru tomorrow?\n",
        "\n",
        "**Solution:**\n",
        "\n",
        "- Since there is no effect/interdependence between a coin toss and the weather in Banglore, the probability of this event is non-deterministic."
      ]
    },
    {
      "cell_type": "markdown",
      "id": "29f78fdb",
      "metadata": {
        "id": "29f78fdb"
      },
      "source": [
        "### DICE"
      ]
    },
    {
      "cell_type": "markdown",
      "id": "d764c3ed",
      "metadata": {
        "id": "d764c3ed"
      },
      "source": [
        "> **Question:** What is the probability of getting an `even number` when a fair die is rolled?\n",
        "\n",
        "**Solution:**\n",
        "- Possible outcomes = 1,2,3,4,5,6 = 6\n",
        "- Matching Outcomes = 2,4,6 = 3\n"
      ]
    },
    {
      "cell_type": "code",
      "execution_count": null,
      "id": "a773fb0a",
      "metadata": {
        "id": "a773fb0a"
      },
      "outputs": [],
      "source": []
    },
    {
      "cell_type": "markdown",
      "id": "5dfd0c6b",
      "metadata": {
        "id": "5dfd0c6b"
      },
      "source": [
        "> **Exercise:** What is the probability of getting a three or a six when a fair die is rolled?\n",
        "\n",
        "- Possible outcomes = 1,2,3,4,5,6 = 6\n",
        "- Matching Outcomes = 3 or 6 = 2"
      ]
    },
    {
      "cell_type": "code",
      "execution_count": null,
      "id": "19c3be4f",
      "metadata": {
        "id": "19c3be4f"
      },
      "outputs": [],
      "source": []
    },
    {
      "cell_type": "markdown",
      "id": "b3c73938",
      "metadata": {
        "id": "b3c73938"
      },
      "source": [
        "> **Exercise:** What is the probability of getting a `three and a six` when a fair die is rolled once?\n",
        "\n",
        "- (Since a 3 and a 6 cannot be rolled at the same time)\n",
        "- Matching outcomes = 0\n"
      ]
    },
    {
      "cell_type": "code",
      "execution_count": null,
      "id": "65a9829a",
      "metadata": {
        "id": "65a9829a"
      },
      "outputs": [],
      "source": []
    },
    {
      "cell_type": "markdown",
      "id": "807c0bb2",
      "metadata": {
        "id": "807c0bb2"
      },
      "source": [
        "> **Exercise:** What is the probability of getting a `multiple of two or a multiple of three` when a fair die is rolled?\n",
        "\n",
        "- Matching outcomes = 2,4,6,3 = 4 in total"
      ]
    },
    {
      "cell_type": "code",
      "execution_count": null,
      "id": "cb634b1d",
      "metadata": {
        "id": "cb634b1d"
      },
      "outputs": [],
      "source": []
    },
    {
      "cell_type": "markdown",
      "id": "f742995a",
      "metadata": {
        "id": "f742995a"
      },
      "source": [
        "### Playing Cards"
      ]
    },
    {
      "cell_type": "markdown",
      "id": "689a8108",
      "metadata": {
        "id": "689a8108"
      },
      "source": [
        "> **Exercise:** What is the probability of drawing a `red card` from a well-shuffled deck of cards.\n",
        "\n",
        "**Solution:**\n",
        "- A - Condition -> The card is red\n",
        "- Total Cards  = 52 (= 52 different possible outcomes)\n",
        "- Possible Outcomes satisfying A = Total Red Cards (i.e 26)"
      ]
    },
    {
      "cell_type": "code",
      "execution_count": null,
      "id": "b4a18a94",
      "metadata": {
        "id": "b4a18a94"
      },
      "outputs": [],
      "source": []
    },
    {
      "cell_type": "markdown",
      "id": "5c4f4999",
      "metadata": {
        "id": "5c4f4999"
      },
      "source": [
        "> **Exercise:** What is the probability of drawing a spade from a well-shuffled deck of cards.\n",
        "\n",
        "- Matching outcomes = Total Spades = 13\n"
      ]
    },
    {
      "cell_type": "code",
      "execution_count": null,
      "id": "fbd7b8ca",
      "metadata": {
        "id": "fbd7b8ca"
      },
      "outputs": [],
      "source": []
    },
    {
      "cell_type": "markdown",
      "id": "717cca44",
      "metadata": {
        "id": "717cca44"
      },
      "source": [
        "> **Exercise:** What is the probability of drawing a card `that's a spade and a jack` from a well-shuffled deck of cards?\n",
        "\n",
        "- A -> the card is a spade and a jack, i.e equivalent to `jack of spades`.\n",
        "- Total possible Outcomes = 52 cards.\n",
        "- Possible matching outcomes = 1\n"
      ]
    },
    {
      "cell_type": "code",
      "execution_count": null,
      "id": "25c3e5b0",
      "metadata": {
        "id": "25c3e5b0"
      },
      "outputs": [],
      "source": []
    },
    {
      "cell_type": "markdown",
      "id": "9d039bac",
      "metadata": {
        "id": "9d039bac"
      },
      "source": [
        "### Probability of Multiple Conditions"
      ]
    },
    {
      "cell_type": "markdown",
      "id": "b74682b7",
      "metadata": {
        "id": "b74682b7"
      },
      "source": [
        "> **Question:** What is the probability of drawing a spade or a jack from a well-shuffled deck of cards.\n",
        "\n",
        "**Solution**\n",
        "- Condition A -> Card can either be a Spade/Jack\n",
        "- Possible outcome_1: Card is Spade and not a Jack, Total spade $= 13-1 = 12$(Because one of the 13 is a spade)\n",
        "- Possible outcome_2: Card is Jack and Not a spade, Hence, spade of clubs/heart/daimond = 3\n",
        "- Possible outcome_3: Card is Jack of Spades = 1\n",
        "- Adding all possible_outcomes $= 12+3+1 = 16$"
      ]
    },
    {
      "cell_type": "code",
      "execution_count": null,
      "id": "6305c9bd",
      "metadata": {
        "id": "6305c9bd"
      },
      "outputs": [],
      "source": []
    },
    {
      "cell_type": "markdown",
      "id": "a5c74411",
      "metadata": {
        "id": "a5c74411"
      },
      "source": [
        "> **Question:** The participants of an online course include 8 men from India, 9 women from India, 5 men from the USA and 7 women from the USA. If a participant is picked at random, what is the probability that the participant is Indian or a man?\n",
        "\n",
        "So there's more than one way to think our way through the solution!\n",
        "\n",
        "- Condition A: The person is Indian OR the person is a Man.\n",
        "- Possible Outcomes_1 = Picked an Indian but not man = 9\n",
        "- Possible Outcome_2 = Picked a Man Not Indian = 5\n",
        "- Possible Outcome_3 = Picked a Man and Indian = 8\n",
        "\n",
        "*OR*\n",
        "\n",
        "- Total Indian $= 8+9 = 17$\n",
        "- Total Men $= 8+5 = 13$\n",
        "- Indian Men are being added twice so we can remove them for once to make our equation look like: $17 + 13 - 8 = 22 $"
      ]
    },
    {
      "cell_type": "code",
      "execution_count": null,
      "id": "b3b54130",
      "metadata": {
        "id": "b3b54130"
      },
      "outputs": [],
      "source": []
    },
    {
      "cell_type": "markdown",
      "id": "4b51d9a7",
      "metadata": {
        "id": "4b51d9a7"
      },
      "source": [
        "> **Exercise:** The participants of an online course include 8 men from India, 9 women from India, 5 men from the USA and 7 women from the USA. If a participant is picked at random, what is the probability that the participant is American or a woman?\n",
        "\n",
        "- Total American$= 12 (7+5)$\n",
        "- Total Women $= 16 (7+9)$\n",
        "- $16 + 12 - 7 = 21$"
      ]
    },
    {
      "cell_type": "code",
      "execution_count": null,
      "id": "8502a9f6",
      "metadata": {
        "id": "8502a9f6"
      },
      "outputs": [],
      "source": []
    },
    {
      "cell_type": "markdown",
      "id": "c2ebde0e",
      "metadata": {
        "id": "c2ebde0e"
      },
      "source": [
        "> **Exercise:** A bag contains 3 red balls, 5 blue balls and 2 green balls. What is the probability of `picking a ball that's red or green`?\n",
        "\n",
        "- Total Red balls = 3\n",
        "- Total green balls = 2\n",
        "- Total balls in the bag = 10\n",
        "- Matching outcomes $= 3+2 = 5$"
      ]
    },
    {
      "cell_type": "code",
      "execution_count": null,
      "id": "c0c53c46",
      "metadata": {
        "id": "c0c53c46"
      },
      "outputs": [],
      "source": []
    },
    {
      "cell_type": "markdown",
      "id": "6b4bed60",
      "metadata": {
        "id": "6b4bed60"
      },
      "source": [
        "> **Exercise:** A bag contains 3 red balls, 5 blue balls and 2 green balls. What is the probability of picking a ball that's yellow or red?\n",
        "\n",
        "- Condition A = Ball is yellow, Condiiton B = Ball is Red\n",
        "- Total Balls = 10\n",
        "- $P(A) = 0,$ (No Yellow Balls)\n",
        "- $P(B) = 3 $ Red balls"
      ]
    },
    {
      "cell_type": "code",
      "execution_count": null,
      "id": "3d648c88",
      "metadata": {
        "id": "3d648c88"
      },
      "outputs": [],
      "source": []
    },
    {
      "cell_type": "markdown",
      "id": "783e70ff",
      "metadata": {
        "id": "783e70ff"
      },
      "source": [
        "> **Exercise:** What is the probability of drawing a red card or a 6 from a well-shuffled deck of cards?\n",
        "\n",
        "- A = Red, B = 6\n",
        "- Red Cards $= 26$\n",
        "- Total $6 = 4$\n",
        "- $26+4-2 = 28$\n",
        " - $P(A) = 26/52$\n",
        " - $P(B) = 4/52$\n",
        " - $P(A and B) = 1/52$\n",
        ""
      ]
    },
    {
      "cell_type": "code",
      "execution_count": null,
      "id": "363cead3",
      "metadata": {
        "id": "363cead3"
      },
      "outputs": [],
      "source": []
    },
    {
      "cell_type": "markdown",
      "id": "4963c420",
      "metadata": {
        "id": "4963c420"
      },
      "source": [
        "### Mutually Exclusive Events\n",
        "\n",
        "- Each event occurs under a certain condition or satisfies a certain condition. Two events say ONE and TWO are mututally exclusive, if ONE occurs and does not satisfy the condition under which TWO occurs. Or ONE and TWO cannot under any circumstances occur under the same condition.\n",
        "\n",
        "- eg: On throwing a single dice, we cannot see 1 and 4 at the same time!\n",
        "||ly,\n",
        "- A person living in New Delhi cannot be living in California at the same time."
      ]
    },
    {
      "cell_type": "markdown",
      "id": "423d38bf",
      "metadata": {
        "id": "423d38bf"
      },
      "source": [
        "> **Exercise:** What is the probability of getting a 2 or getting a 3 on rolling a fair die?\n",
        "\n",
        "**Solution:**\n",
        "- Let A, event of getting a 2\n",
        "- Let B, event of getting a 3\n",
        "- Possible outcomes$ = 1,2,3,4,5,6 = 6$\n",
        "- $P(A) = 1/6$\n",
        "- $P(B) = 1/6$\n",
        "- Since they are mutually exclusive, $P(A \\cap B) = 0$"
      ]
    },
    {
      "cell_type": "code",
      "execution_count": null,
      "id": "8f34dd35",
      "metadata": {
        "id": "8f34dd35"
      },
      "outputs": [],
      "source": []
    },
    {
      "cell_type": "markdown",
      "id": "b73cbfbe",
      "metadata": {
        "id": "b73cbfbe"
      },
      "source": [
        "> **Exercise:** If you pick a random person living in the United States, what is the probability that the person lives in Texas or California?\n",
        "\n",
        "\n",
        "**Solution:**\n",
        "- Here $P(T \\cap C)$ = 0, (Its not possible for person to be living at both places in the same time)\n",
        "- P(T) = Pop. of texas/Pop. of USA\n",
        "- P(C) = Pop. of Cal/ Pop. of USA\n",
        "\n",
        "    $P(T \\cup C) = (T \\cap C) + P(T) + P(C)$\n",
        "\n",
        "    $ P(T \\cup C) =  P(T) + P(C)$\n",
        "\n",
        "According to google :\n",
        "- Population of Texas is $29,360,759$.\n",
        "- Population of California  is $40,000,000$\n",
        "- Population of USA $331,000,000$\n"
      ]
    },
    {
      "cell_type": "code",
      "execution_count": null,
      "id": "6098503f",
      "metadata": {
        "id": "6098503f"
      },
      "outputs": [],
      "source": []
    },
    {
      "cell_type": "code",
      "execution_count": null,
      "id": "bc9d18d4",
      "metadata": {
        "id": "bc9d18d4"
      },
      "outputs": [],
      "source": []
    },
    {
      "cell_type": "markdown",
      "id": "7525da11",
      "metadata": {
        "id": "7525da11"
      },
      "source": [
        "### Probability of Complement"
      ]
    },
    {
      "cell_type": "markdown",
      "id": "885680e8",
      "metadata": {
        "id": "885680e8"
      },
      "source": [
        "> **Exercise:** If a fair die is rolled, what is the probability that the result is not a prime number?\n",
        "\n",
        "- Prime numbers: 2,3,5\n",
        "- P(prime_number) = 4/6\n",
        "- P(prime_Complement) = 1-P(prime_number)"
      ]
    },
    {
      "cell_type": "code",
      "execution_count": null,
      "id": "4dca859e",
      "metadata": {
        "id": "4dca859e"
      },
      "outputs": [],
      "source": []
    },
    {
      "cell_type": "markdown",
      "id": "9906ac89",
      "metadata": {
        "id": "9906ac89"
      },
      "source": [
        "> **Exercise:** If you pick a random card from a well-shuffled deck, what is the probability of drawing a card `that's neither a Jack nor a spade`?\n",
        "\n",
        "**Solution:**\n",
        "\n",
        "- Probability of Jack $ P(J) =4/52 $\n",
        "- Probability of Spade$ P(S) = 13/52 $\n",
        "- Probability of Jack and Spade $P(J \\cap S) = 1/52$\n",
        "- Probability if Jack or a Spade = $P(J \\cup S) = P(J) + P(S) - P(J \\cap S)$\n",
        "\n",
        "- $ P( neither J \\cup nor S) = 1- P(J \\cup S)$"
      ]
    },
    {
      "cell_type": "code",
      "execution_count": null,
      "id": "5b1406bf",
      "metadata": {
        "id": "5b1406bf"
      },
      "outputs": [],
      "source": []
    },
    {
      "cell_type": "markdown",
      "id": "5f6a9992",
      "metadata": {
        "id": "5f6a9992"
      },
      "source": [
        "> **Exercise:** If you pick a random location within the boundary of the United States, what is the probability that the location lies outside Texas?\n",
        "\n",
        "-  Probability that the location lies in Texas $P(T) = $ 1/Total_States\n",
        "- Probability that the location lies outside Texas = $ 1 -P(T) $"
      ]
    },
    {
      "cell_type": "code",
      "execution_count": null,
      "id": "2378bea7",
      "metadata": {
        "id": "2378bea7"
      },
      "outputs": [],
      "source": []
    },
    {
      "cell_type": "code",
      "execution_count": null,
      "id": "31b6b786",
      "metadata": {
        "id": "31b6b786"
      },
      "outputs": [],
      "source": []
    },
    {
      "cell_type": "markdown",
      "id": "b659297b",
      "metadata": {
        "id": "b659297b"
      },
      "source": [
        "### Sum of Probabilities: (Total Probabilty Rule)"
      ]
    },
    {
      "cell_type": "markdown",
      "id": "86c2dc56",
      "metadata": {
        "id": "86c2dc56"
      },
      "source": [
        "In any experiment, the probability that the result matches any of of the possible outcomes is 1. (can you verify this?)\n",
        "\n",
        "- If we add posibility/probabilty of all possible events, we get 1.\n",
        "- eg: A dice, P(H) = 0.5, P(T) = 0.5, both mutually exclusive. And $P(H) + P(T) = 1$"
      ]
    },
    {
      "cell_type": "markdown",
      "id": "ce986249",
      "metadata": {
        "id": "ce986249"
      },
      "source": [
        "> **Exercises:** If you flip a fair coin, what is the probability of getting a head or a tail?\n",
        "\n",
        "- Here, $P(H \\cap T) = 0$\n",
        "- P(H) = 1/2\n",
        "- P(T) = 1/2\n",
        "- $P(H \\cup T) = P(H) + P(T)$"
      ]
    },
    {
      "cell_type": "code",
      "execution_count": null,
      "id": "82c2c912",
      "metadata": {
        "id": "82c2c912"
      },
      "outputs": [],
      "source": []
    },
    {
      "cell_type": "markdown",
      "id": "decba9fe",
      "metadata": {
        "id": "decba9fe"
      },
      "source": [
        "> **Exercise:** If you roll a fair die, what is the probability of getting a 1, 2, 3, 4, 5 or 6?\n",
        "\n",
        "- Since 1,2,3,4,5,6 cannot appear all at the same time, they are mutually exclusive events. Hence P(ALL) = 0\n",
        "- So we can directly find the answer by adding Probability of all numbers.\n",
        "- $1/6 +1/6 +1/6 +1/6 +1/6 +1/6 = 6/6 $\n"
      ]
    },
    {
      "cell_type": "code",
      "execution_count": null,
      "id": "04f3cd25",
      "metadata": {
        "id": "04f3cd25"
      },
      "outputs": [],
      "source": []
    },
    {
      "cell_type": "markdown",
      "id": "20a5ab02",
      "metadata": {
        "id": "20a5ab02"
      },
      "source": [
        "> **Exercise:** If you pick a random card from a well shuffled deck, what is the probability that the card is of one of the four suites: Spades, Hearts, Diamonds and Clubs.\n",
        "\n",
        "- Again, we have mutually exclusive events as conditions:\n",
        "- P(Spades)=$P(S) =13/52$\n",
        "- P(Hearts) = $P(H) =13/52$\n",
        "- P(Diamonds) = $P(D) =13/52$\n",
        "- P(Clubs) = $P(C) =13/52$\n",
        "- $P(S)+P(H)+P(D)+P(C) = 13/52 + 13/52 + 13/52 + 13/52$"
      ]
    },
    {
      "cell_type": "code",
      "execution_count": null,
      "id": "20ce688a",
      "metadata": {
        "id": "20ce688a"
      },
      "outputs": [],
      "source": []
    },
    {
      "cell_type": "markdown",
      "id": "33b5ffe2",
      "metadata": {
        "id": "33b5ffe2"
      },
      "source": [
        "> **Exercise:** A bag contains 3 red balls, 5 blue balls and 2 green balls. What is the probability of picking a ball that's red or green or blue?\n",
        "- P(Red) = P(R), P(Green) = P(G), P(Blue) = P(B)\n",
        "- $P(R \\cap G \\cap B) = 0$\n",
        "- $P(R \\cap G) = 0$\n",
        "- $P(R \\cap B) = 0$\n",
        "- $P(B \\cap G) = 0$\n",
        "- $P(R \\cup G \\cup B) = P(R) + P(G) + P(B)$"
      ]
    },
    {
      "cell_type": "code",
      "execution_count": null,
      "id": "8c16a604",
      "metadata": {
        "id": "8c16a604"
      },
      "outputs": [],
      "source": []
    },
    {
      "cell_type": "markdown",
      "id": "4660365c",
      "metadata": {
        "id": "4660365c"
      },
      "source": [
        "### Estimating Probabilty"
      ]
    },
    {
      "cell_type": "code",
      "execution_count": null,
      "id": "5535c37e",
      "metadata": {
        "id": "5535c37e"
      },
      "outputs": [],
      "source": []
    },
    {
      "cell_type": "code",
      "execution_count": null,
      "id": "5e6d60ed",
      "metadata": {
        "id": "5e6d60ed"
      },
      "outputs": [],
      "source": []
    },
    {
      "cell_type": "code",
      "execution_count": null,
      "id": "21972202",
      "metadata": {
        "id": "21972202"
      },
      "outputs": [],
      "source": []
    },
    {
      "cell_type": "code",
      "execution_count": null,
      "id": "a44b41ab",
      "metadata": {
        "id": "a44b41ab"
      },
      "outputs": [],
      "source": []
    },
    {
      "cell_type": "code",
      "execution_count": null,
      "id": "00ec21f6",
      "metadata": {
        "id": "00ec21f6"
      },
      "outputs": [],
      "source": []
    },
    {
      "cell_type": "code",
      "execution_count": null,
      "id": "2805dd83",
      "metadata": {
        "id": "2805dd83"
      },
      "outputs": [],
      "source": []
    },
    {
      "cell_type": "code",
      "execution_count": null,
      "id": "8fdb2460",
      "metadata": {
        "id": "8fdb2460"
      },
      "outputs": [],
      "source": []
    },
    {
      "cell_type": "code",
      "execution_count": null,
      "id": "8efdee2d",
      "metadata": {
        "id": "8efdee2d"
      },
      "outputs": [],
      "source": []
    },
    {
      "cell_type": "code",
      "execution_count": null,
      "id": "62b75492",
      "metadata": {
        "id": "62b75492"
      },
      "outputs": [],
      "source": []
    },
    {
      "cell_type": "code",
      "execution_count": null,
      "id": "48213f1d",
      "metadata": {
        "id": "48213f1d"
      },
      "outputs": [],
      "source": []
    },
    {
      "cell_type": "code",
      "execution_count": null,
      "id": "e3188e2b",
      "metadata": {
        "id": "e3188e2b"
      },
      "outputs": [],
      "source": []
    },
    {
      "cell_type": "code",
      "execution_count": null,
      "id": "aeb503ac",
      "metadata": {
        "id": "aeb503ac"
      },
      "outputs": [],
      "source": []
    },
    {
      "cell_type": "code",
      "execution_count": null,
      "id": "7f688458",
      "metadata": {
        "id": "7f688458"
      },
      "outputs": [],
      "source": []
    },
    {
      "cell_type": "code",
      "execution_count": null,
      "id": "87eaac22",
      "metadata": {
        "id": "87eaac22"
      },
      "outputs": [],
      "source": []
    },
    {
      "cell_type": "markdown",
      "id": "d3153d62",
      "metadata": {
        "id": "d3153d62"
      },
      "source": [
        "#### Now, we have functions for the following:\n",
        "- A function defining the kind of experiment we are performing, (flipping a coin in this case).\n",
        "- Next we have a function to perform the experiment numerous times and storing the result in a list.\n",
        "- Then we have a function to check a certain condition and count the number of times it's being satisfied.\n",
        "- Finally we have our function to find out the estimated probability of the condition being satisfied.\n",
        "- Putting them all together:"
      ]
    },
    {
      "cell_type": "code",
      "execution_count": null,
      "id": "fc4c901e",
      "metadata": {
        "id": "fc4c901e"
      },
      "outputs": [],
      "source": []
    },
    {
      "cell_type": "markdown",
      "id": "04e57a32",
      "metadata": {
        "id": "04e57a32"
      },
      "source": [
        "> **Exercise:** Estimate the probability of getting a tail when we flip the coin simulated using the flip_coin function defined earlier. By comparing the probabilities of \"head\" and \"tail\", can you determine if the coin is fair?\n",
        "\n",
        "Now, To determine the estimated probability of getting a tail:\n",
        "- We have a function to simulate the flippig of a coin.\n",
        "- Next we can perform the experiment numerous times so as to find an estimated probability and store our result.\n",
        "- Now to check for 'tails', we can easily change the condition and then count the number of experiment matching my condition.\n",
        "- Finally I can estimate the probability of tails on this coin to see if it was a fair or an unfair coin.\n"
      ]
    },
    {
      "cell_type": "code",
      "execution_count": null,
      "id": "ffefd88d",
      "metadata": {
        "id": "ffefd88d"
      },
      "outputs": [],
      "source": []
    },
    {
      "cell_type": "code",
      "execution_count": null,
      "id": "6da9939d",
      "metadata": {
        "id": "6da9939d"
      },
      "outputs": [],
      "source": []
    },
    {
      "cell_type": "code",
      "execution_count": null,
      "id": "fe03b746",
      "metadata": {
        "id": "fe03b746"
      },
      "outputs": [],
      "source": []
    },
    {
      "cell_type": "code",
      "execution_count": null,
      "id": "51490ba9",
      "metadata": {
        "id": "51490ba9"
      },
      "outputs": [],
      "source": []
    },
    {
      "cell_type": "markdown",
      "id": "06c1ebb8",
      "metadata": {
        "id": "06c1ebb8"
      },
      "source": [
        "> **Exercise:** You are given a function roll_die mentioned above, which simulates the process of rolling a die and returns an integer between 1 and 6 as the result. Estimate the probability of getting an odd number when the die is rolled. Is the die fair?\n",
        "\n",
        "- We can create a simple condition for checking if the number is odd or not.\n",
        "- Next we will use the `estimate probability` function to perform the `roll_die` experiments multiple times and find the estimated_probabilty of getting an odd number."
      ]
    },
    {
      "cell_type": "code",
      "execution_count": null,
      "id": "e97a81cb",
      "metadata": {
        "id": "e97a81cb"
      },
      "outputs": [],
      "source": []
    },
    {
      "cell_type": "code",
      "execution_count": null,
      "id": "22938308",
      "metadata": {
        "id": "22938308"
      },
      "outputs": [],
      "source": []
    },
    {
      "cell_type": "code",
      "execution_count": null,
      "id": "54c8d6da",
      "metadata": {
        "id": "54c8d6da"
      },
      "outputs": [],
      "source": []
    },
    {
      "cell_type": "markdown",
      "id": "fa743536",
      "metadata": {
        "id": "fa743536"
      },
      "source": [
        "> **Exercise:** Given a function generate that returns a different number each time it's invoked, estimate the probability that the number returned is divisible by 5.\n",
        "\n",
        "- So, here the condition is whether the generated number is divisible by 5 or not.\n",
        "- We can create a simple function for this condition.  "
      ]
    },
    {
      "cell_type": "code",
      "execution_count": null,
      "id": "5983b77b",
      "metadata": {
        "id": "5983b77b"
      },
      "outputs": [],
      "source": []
    },
    {
      "cell_type": "code",
      "execution_count": null,
      "id": "c07973aa",
      "metadata": {
        "id": "c07973aa"
      },
      "outputs": [],
      "source": []
    },
    {
      "cell_type": "code",
      "execution_count": null,
      "id": "74c85d5c",
      "metadata": {
        "id": "74c85d5c"
      },
      "outputs": [],
      "source": []
    },
    {
      "cell_type": "markdown",
      "id": "21c5c181",
      "metadata": {
        "id": "21c5c181"
      },
      "source": [
        "> **Exercise:** 12 cards have been removed from a full deck of cards. You are not allowed to look at the cards, but you allowed to shuffle the deck, pick a random card, look at it and put it back into the deck. You repeat this process 1000 times and note the suit of the card that was picked. You observe the following:\n",
        "\n",
        ">Spades ♠️ was picked 300 times\n",
        "Clubs ♣️ was picked 250 times\n",
        "Hearts ♥️ was picked 250 times\n",
        "Diamonds ♦️ was picked 200 times\n",
        "Can you use this information to `estimate the number of cards belonging to each suit in the partial deck`?\n",
        "\n",
        "**Solution:**\n",
        "- Now, for a full deck we know that each card will be picked approximately equal number of times.\n",
        "- In this case, 12 cards have been removed hence to find the probabilty of each suit, we can compare their estimated probability to their probability after 12 cards were removed using a random variable say 'x' eg:\n",
        "    - Estimated $P(Spades) = 300/1000$\n",
        "    - Total cards = 40\n",
        "    - $P(Spades) = x/40 $ (probability of spades in remaining cards)\n",
        "    - $300/1000 = x/40$\n",
        "    - x = number of spades in the left over deck.\n",
        "-**We can perform this for all suits**."
      ]
    },
    {
      "cell_type": "code",
      "execution_count": null,
      "id": "300ef800",
      "metadata": {
        "id": "300ef800"
      },
      "outputs": [],
      "source": []
    },
    {
      "cell_type": "code",
      "execution_count": null,
      "id": "737c69d9",
      "metadata": {
        "id": "737c69d9"
      },
      "outputs": [],
      "source": []
    },
    {
      "cell_type": "markdown",
      "id": "262e0338",
      "metadata": {
        "id": "262e0338"
      },
      "source": [
        "### Practical applications of probability"
      ]
    },
    {
      "cell_type": "markdown",
      "id": "8bd265fb",
      "metadata": {
        "id": "8bd265fb"
      },
      "source": [
        "> **Exercise:** Supposed you cast a net in the middle of a pond and catch 1600 fish. You mark all the fish using a special waterproof ink and release them back into the pond. You return a few days later and cast a net at the same spot. This time you catch 1200 fish and you find that 100 of them are already marked with the special waterproof ink. Can you use this information to estimate the number of fish in the pond?\n",
        "\n",
        "**Solution:**\n",
        "- Real P(Marked_fish) = no. of marked fish(1600)/ no. of fish\n",
        "- estimated P(Marked_fish) = 100/1200\n",
        "- Comparing them will give us an estimate of the Total num. of fish in the pond!\n"
      ]
    },
    {
      "cell_type": "code",
      "execution_count": null,
      "id": "a7475e4a",
      "metadata": {
        "id": "a7475e4a"
      },
      "outputs": [],
      "source": []
    },
    {
      "cell_type": "code",
      "execution_count": null,
      "id": "3f40c4db",
      "metadata": {
        "id": "3f40c4db"
      },
      "outputs": [],
      "source": []
    },
    {
      "cell_type": "markdown",
      "id": "60bef818",
      "metadata": {
        "id": "60bef818"
      },
      "source": [
        "This should be pretty close to the estimated fish in the pond."
      ]
    },
    {
      "cell_type": "markdown",
      "id": "eb134946",
      "metadata": {
        "id": "eb134946"
      },
      "source": [
        "> **Exercise:** Come up with a strategy to estimate the number of leaves in a tree.\n",
        "\n",
        "**Solution:**\n",
        "- Following what we learnt from the question above, we can mark a certain number of leaves say, 1500.\n",
        "- The next day we can come back and select the leaves randomly and we find that out of the 1000 leaves we select, 30 of them are marked.\n",
        "- P(Marked_leaves) = 1500/Total number of trees.\n",
        "- estimated P(marked_leaves) = 30/1000\n",
        "- We can compare them to find the estimate of the total leaves on the tree."
      ]
    },
    {
      "cell_type": "code",
      "execution_count": null,
      "id": "9464a270",
      "metadata": {
        "id": "9464a270"
      },
      "outputs": [],
      "source": []
    },
    {
      "cell_type": "code",
      "execution_count": null,
      "id": "b615295d",
      "metadata": {
        "id": "b615295d"
      },
      "outputs": [],
      "source": []
    },
    {
      "cell_type": "markdown",
      "id": "e3b82c9c",
      "metadata": {
        "id": "e3b82c9c"
      },
      "source": [
        "So, we can say there are approximately around 50,000 leaves on this tree we picked."
      ]
    },
    {
      "cell_type": "markdown",
      "id": "b5337671",
      "metadata": {
        "id": "b5337671"
      },
      "source": [
        "> **Exercise:** You're running an social network advertising campaign to promote your upcoming course \"Machine Learning with Python: Zero to GBMs\". The course is priced at $$400..\n",
        "The platform charges you .08 cents for every impression of your ad i.e. to display your ad once in a person's feed.\n",
        "\n",
        ">The probability that someone clicks on your ad to visit the course page is 0.01\n",
        "The probability that someone who visits the course page will sign up for a trial of the course is 0.15\n",
        "The probability that someone who signs up for a trail will pay for the course is 0.1\n",
        "Given the above information, should you move forward with this ad campaign?\n",
        "\n",
        "- Consider 'n'=number of people who see the add.\n",
        "- People who visit = (n_visitors)= n * 0.01\n",
        "- People who sign up for trial=(n_trial) = (n_visitors)*0.15\n",
        "- People who paid for course=(n_paid) = (n_trial)*0.1"
      ]
    },
    {
      "cell_type": "code",
      "execution_count": null,
      "id": "f5f8df4b",
      "metadata": {
        "id": "f5f8df4b"
      },
      "outputs": [],
      "source": []
    },
    {
      "cell_type": "code",
      "execution_count": null,
      "id": "0f86a30f",
      "metadata": {
        "id": "0f86a30f"
      },
      "outputs": [],
      "source": []
    },
    {
      "cell_type": "code",
      "execution_count": null,
      "id": "370567c1",
      "metadata": {
        "id": "370567c1"
      },
      "outputs": [],
      "source": []
    },
    {
      "cell_type": "code",
      "execution_count": null,
      "id": "b7a121ef",
      "metadata": {
        "id": "b7a121ef"
      },
      "outputs": [],
      "source": []
    },
    {
      "cell_type": "markdown",
      "id": "d46638bc",
      "metadata": {
        "id": "d46638bc"
      },
      "source": [
        "- Spent 1600, and Earned 1200 which puts us at a loss.\n",
        "- So its very clear that we shouln't run the ad campaign!"
      ]
    },
    {
      "cell_type": "markdown",
      "id": "9b61e735",
      "metadata": {
        "id": "9b61e735"
      },
      "source": [
        "> **Exercise:** For the above problem, answer the following:\n",
        "\n",
        ">How can you determine the probability whether someone clicking on your ad?\n",
        "How can you determine the probability whether someone who visits the course page will sign up for a trial?\n",
        "How can you determine the probability whether someone who signed up for trial will pay for the course?\n",
        "Suggest some strategies for increase each of the above probabilities."
      ]
    },
    {
      "cell_type": "markdown",
      "id": "1133e095",
      "metadata": {
        "id": "1133e095"
      },
      "source": [
        "- You can always spend a certain amount on your add campaign for a trial and the results can help you yield the number of people who click on the add out of all the people who viewed the add. Further,\n",
        "- All prior probabilities can be found after running the ad for that certain amount.  \n",
        "\n",
        "- **For increasing probabilites**, or for increasing conversations from viewing to signing up happen, there are a bunch of methods we can try here. For example targetting the right audiences  under the right demographics. Next, by trying various representations for our ad campaign, and choosing the one that caught the most attention is something else you can try. Also called AB testing, trying different variations and then picking the one that performs the best!\n",
        "\n",
        "\n",
        "There are [several other ways](https://neilpatel.com/blog/8-techniques-thatll-double-your-google-adwords-conversion-rate/) to increase the conversation rates for an ad campaign to produce better results."
      ]
    },
    {
      "cell_type": "markdown",
      "id": "c3023af4",
      "metadata": {
        "id": "c3023af4"
      },
      "source": [
        "### Independent Events, Compound Probability."
      ]
    },
    {
      "cell_type": "markdown",
      "id": "dd474b7b",
      "metadata": {
        "id": "dd474b7b"
      },
      "source": [
        "> **Question:** If you flip a fair coin 2 times, what is the probability of getting `a head followed by a tail`?\n",
        "- P(H_in first throw) = 1/2\n",
        "- P(T_in second throw) = 1/2\n",
        "\n",
        "- All outcomes -> HH, HT, TH, TT\n",
        "- Matching Outcomes = 1/2 * 1/2 = 1/4"
      ]
    },
    {
      "cell_type": "code",
      "execution_count": null,
      "id": "99d6983b",
      "metadata": {
        "id": "99d6983b"
      },
      "outputs": [],
      "source": []
    },
    {
      "cell_type": "markdown",
      "id": "590a8528",
      "metadata": {
        "id": "590a8528"
      },
      "source": [
        "**Question:** If you flip a fair coin and roll a fair die, what is the probability of getting a `head on the coin and a number greater than two on the die`?\n",
        "\n",
        "- Possible outcomes, $12 - (H1,H2,H3, H4, H5, H6),( T1,T2,T3,T4,T5,T6)$\n",
        "- Matching outcomes - $H3, H4, H5, H6$\n",
        "\n",
        "*or*\n",
        "- A - Event of head appearing.\n",
        "- B - Event of number on die being > 2\n",
        "- $P(A) = 1/2$\n",
        "- $P(B) = 4/6$\n",
        "- $P(A \\cap B) = P(A) *P(B) $"
      ]
    },
    {
      "cell_type": "code",
      "execution_count": null,
      "id": "d7114fa0",
      "metadata": {
        "id": "d7114fa0"
      },
      "outputs": [],
      "source": []
    },
    {
      "cell_type": "code",
      "execution_count": null,
      "id": "c5c13ff0",
      "metadata": {
        "id": "c5c13ff0"
      },
      "outputs": [],
      "source": []
    },
    {
      "cell_type": "markdown",
      "id": "0218eb1d",
      "metadata": {
        "id": "0218eb1d"
      },
      "source": [
        "> **Exercise:** If you flip a fair coin 3 times, what is the probability of getting at least two heads?\n",
        "\n",
        "- Total Outcomes-$[HHH,HHT,HTT,HTH,TTT,THH, TTH, THT]$\n",
        "- Matching Outcomes - $[HHH,HHT,THH,HTH]$\n",
        "- Can solve directly - probability(4,8)\n",
        "\n",
        "*or*\n",
        "\n",
        "- For each event happening simultaneously, P(H) = 1/2\n",
        "- For all matching outcomes, $P(HHH) = 1/2 * 1/2* 1/2 = 1/8$,\n",
        "Simillarly\n",
        "    - $P(HHT) = 1/8$,\n",
        "    - $P(THH) = 1/8$,\n",
        "    - $P(HTH) = 1/8$\n",
        "- Probability of all these matching outcomes =$ 1/8 + 1/8 +1/8 + 1/8 = 4/8$"
      ]
    },
    {
      "cell_type": "code",
      "execution_count": null,
      "id": "dfb20717",
      "metadata": {
        "id": "dfb20717"
      },
      "outputs": [],
      "source": []
    },
    {
      "cell_type": "markdown",
      "id": "ba8c946f",
      "metadata": {
        "id": "ba8c946f"
      },
      "source": [
        "> **Exercise:** If you roll two fair dice, what is the probability of getting a total of 7?\n",
        "\n",
        "- Total possible combinations when two dice are rolled  = 6 X 6 $= 36$\n",
        "- Matching combinations that add up to 7$ = [(1,6),(2,5),(3,4),(4,3),(5,2),(6,1)] = 6$ total combinations"
      ]
    },
    {
      "cell_type": "code",
      "execution_count": null,
      "id": "9a9b6186",
      "metadata": {
        "id": "9a9b6186"
      },
      "outputs": [],
      "source": []
    },
    {
      "cell_type": "markdown",
      "id": "1f91cfc8",
      "metadata": {
        "id": "1f91cfc8"
      },
      "source": [
        ">**Exercise:** If you flip a fair coin 10 times, what is the probability of getting exactly four heads?\n",
        "\n",
        "-  Total **Possible combinations**:\n",
        "    - For each one time a coin is thrown, we have 2 possible sequences of heads and tails : $2^1$\n",
        "    - For the same coin thrown twice, possible sequences of heads and tails : $(2^1)(2^1) = 2^2$\n",
        "    - Again, for the same coin to be thrown thrice possible sequences :$(2^1)(2^1)(2^1) = 2^3$\n",
        "    - And so on...\n",
        "- Therefore, for the same coin thrown 10 times, possible sequences for heads and tails will be = $ 2raised10 = 1024$\n",
        "\n",
        "- **Matching Outcomes:**\n",
        "    - Now, we are to find possible sequences that have exactly 4 Heads irrespective of the order, which we can easily do using the formula for Combinations: $nC^r$\n",
        "    - **Combinations:** is the choice of selecting/arranging 'r' things from a set of 'n' things without replacement and where order does not matter.\n",
        "    - $nC^r = n!/r!(n-r)!$\n",
        "    - Therefore matching outcomes = $10C^4 = 210$"
      ]
    },
    {
      "cell_type": "code",
      "execution_count": null,
      "id": "4a835a83",
      "metadata": {
        "id": "4a835a83"
      },
      "outputs": [],
      "source": []
    },
    {
      "cell_type": "markdown",
      "id": "e6c72bd3",
      "metadata": {
        "id": "e6c72bd3"
      },
      "source": [
        "> **Exercise:** What is the difference between independent events and mutually exclusive events? Illustrate with an example."
      ]
    },
    {
      "cell_type": "markdown",
      "id": "1aa05d5c",
      "metadata": {
        "id": "1aa05d5c"
      },
      "source": [
        "- **Mutually exclusive** events simply cannot occur at the same time. **For example:** from A bag of balls containing only blue or red balls, we cannot pick a ball that would be blue and red at the same time.\n",
        "\n",
        "- **Independent events** on the other hand, happen when one event remains unaffected by the occurence of the other event.  **For example:** from two bags containing both red and blue balls, what ball was picked from bag-I does not effect the ball picked from bag-II"
      ]
    },
    {
      "cell_type": "markdown",
      "id": "3f4cae7b",
      "metadata": {
        "id": "3f4cae7b"
      },
      "source": [
        "> **Exercise:** If you pick five cards from a well shuffled deck of cards one by one, what is the probability that you will end up with a flush (all cards belonging to the same suit)?\n",
        "\n",
        "- **Possible Combinations** while picking 5 cards from a deck of 52 cards will be:\n",
        "    - Again using combinations: $52C^5 = 52!/5!(52-5)! = 2598960 $\n",
        "- **Matching Outcomes: **\n",
        "    - Matching outcomes is cards belonging to the same suit and we have 4 different suits,\n",
        "    - For each suit the possible combination could be : $13C^5 = 13!/5!(13-5)!$\n",
        "    - Since we have 4 suits:  the combination could be of either suit, so: $4C^1 = 4!/1!(4-1)!$\n",
        "    - Therefore, total matching outcomes will be: $ 4C^1 X 13C^5 = 5148 $"
      ]
    },
    {
      "cell_type": "code",
      "execution_count": null,
      "id": "ed2be391",
      "metadata": {
        "id": "ed2be391"
      },
      "outputs": [],
      "source": []
    },
    {
      "cell_type": "markdown",
      "id": "74d60878",
      "metadata": {
        "id": "74d60878"
      },
      "source": [
        "> **Exercise:** If you pick one card each from five different well shuffled decks of cards, what is the probability that you will end up with a flush (all cards belonging to the same suit)?\n",
        "\n",
        "- Possible Outcomes:\n",
        "    - $ 52C^1 * 52C^1 * 52C^1 * 52C^1 * 52C^1 = 380204032$\n",
        "- Matching Outcomes:\n",
        "    - For a sigle suit we have 13*5 times the same suit cards = 65 cards per suit.\n",
        "    - $ 65C^5 X 4C^1 = 8259888 * 4 = 33039552$"
      ]
    },
    {
      "cell_type": "code",
      "execution_count": null,
      "id": "32df3e0e",
      "metadata": {
        "id": "32df3e0e"
      },
      "outputs": [],
      "source": []
    },
    {
      "cell_type": "markdown",
      "id": "3fe80196",
      "metadata": {
        "id": "3fe80196"
      },
      "source": [
        "### Additional Resources\n",
        "\n",
        "[Theory](https://www.mbacrystalball.com/blog/2015/07/03/probability/)\n",
        "\n",
        "[Questions](https://www.sawaal.com/aptitude-and-Reasoning/probability-questions-and-answers.htm?page=3&sort=)"
      ]
    }
  ],
  "metadata": {
    "kernelspec": {
      "display_name": "Python 3",
      "language": "python",
      "name": "python3"
    },
    "language_info": {
      "codemirror_mode": {
        "name": "ipython",
        "version": 3
      },
      "file_extension": ".py",
      "mimetype": "text/x-python",
      "name": "python",
      "nbconvert_exporter": "python",
      "pygments_lexer": "ipython3",
      "version": "3.8.6"
    },
    "colab": {
      "provenance": [],
      "include_colab_link": true
    }
  },
  "nbformat": 4,
  "nbformat_minor": 5
}