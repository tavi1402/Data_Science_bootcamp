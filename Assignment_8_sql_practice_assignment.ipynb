{
  "cells": [
    {
      "cell_type": "markdown",
      "metadata": {
        "id": "view-in-github",
        "colab_type": "text"
      },
      "source": [
        "<a href=\"https://colab.research.google.com/github/tavi1402/Data_Science_bootcamp/blob/main/Assignment_8_sql_practice_assignment.ipynb\" target=\"_parent\"><img src=\"https://colab.research.google.com/assets/colab-badge.svg\" alt=\"Open In Colab\"/></a>"
      ]
    },
    {
      "cell_type": "markdown",
      "id": "formal-investing",
      "metadata": {
        "id": "formal-investing"
      },
      "source": [
        "# Assignment - SQL Querying Practice\n",
        "\n",
        "As you go through this notebook, you will find the symbol **???** in certain places. Your job is to replace the **???** with appropriate code or values, to ensure that the notebook runs properly end-to-end without errors.\n",
        "\n",
        "**Guidelines**\n",
        "\n",
        "1. Make sure to run all the code cells in order. Otherwise, you may get errors like `NameError` for undefined variables.\n",
        "2. Do not change variable names, delete cells, or disturb other existing code. It may cause problems during evaluation.\n",
        "3. In some cases, you may need to add some code cells or new statements before or after the line of code containing the **???**.\n",
        "4. Since you'll be using a temporary online service for code execution, save your work by running `jovian.commit` at regular intervals.\n",
        "5. Review the \"Evaluation Criteria\" for the assignment carefully and make sure your submission meets all the criteria.\n",
        "6. Questions marked **(Optional)** will not be considered for evaluation and can be skipped. They are for your learning. You can crosscheck your solutions for optional questions here: https://jovian.ai/himani007/optional-questions-solutions\n",
        "7. It's okay to ask for help & discuss ideas on the [Slack Group](https://zerotodatascience.com), but please don't post the full working code, to give everyone an opportunity to solve the assignment on their own.\n"
      ]
    },
    {
      "cell_type": "markdown",
      "id": "moving-trick",
      "metadata": {
        "id": "moving-trick"
      },
      "source": [
        "## How to Run the Code and Save Your Work\n",
        "\n",
        "\n",
        "**Option 1: Running using free online resources (1-click, recommended):** The easiest way to start executing the code is to click the **Run** button at the top of this page and select **Run on Binder**. This will set up a cloud-based Jupyter notebook server and allow you to modify/execute the code.\n",
        "\n",
        "\n",
        "**Option 2: Running on your computer locally:** To run the code on your computer locally, you'll need to set up [Python](https://www.python.org), download the notebook and install the required libraries. Click the **Run** button at the top of this page, select the **Run Locally** option, and follow the instructions.\n",
        "\n",
        "**Saving your work**: You can save a snapshot of the assignment to your [Jovian](https://jovian.ai) profile, so that you can access it later and continue your work. Keep saving your work by running `jovian.commit` from time to time."
      ]
    },
    {
      "cell_type": "code",
      "execution_count": null,
      "id": "other-canadian",
      "metadata": {
        "id": "other-canadian"
      },
      "outputs": [],
      "source": [
        "!pip install jovian --upgrade --quiet"
      ]
    },
    {
      "cell_type": "code",
      "execution_count": null,
      "id": "incredible-briefing",
      "metadata": {
        "id": "incredible-briefing"
      },
      "outputs": [],
      "source": [
        "import jovian"
      ]
    },
    {
      "cell_type": "code",
      "execution_count": null,
      "id": "patient-interface",
      "metadata": {
        "id": "patient-interface"
      },
      "outputs": [],
      "source": [
        "jovian.commit(project='sql-practice-assignment', privacy='secret')"
      ]
    },
    {
      "cell_type": "markdown",
      "id": "liquid-banana",
      "metadata": {
        "id": "liquid-banana"
      },
      "source": [
        "## SQLite and Initial Setup\n",
        "\n",
        "Relational databases generally have two components:\n",
        "\n",
        "1. **Database Server/Engine**: A software package that manages databases and runs in the background, listening for SQL queries from authorized users E.g. MySQL server, Microsoft SQL server, Postgres etc.\n",
        "2. **Database Client**: A command-line tool or graphical user interface (GUI) to connect to the database server and run SQL queries. E.g. MySQL workbench, PgAdmin etc.\n",
        "\n",
        "The server and client can be on the same computer e.g. both on your laptop, or on different computers e.g. the database server can be running on the cloud and you can connect to it using a client installed on your computer.\n",
        "\n",
        "Most database servers/engines are designed to operate on databases containing large amounts of data (e.g. 100s of GBs) and to handle a very high volume of queries (e.g. thousands of queries per second). They typically require powerful hardware i.e. multi-core CPUs and large amounts of RAM.\n",
        "\n",
        "\n",
        "<img src=\"https://www.sqlite.org/images/sqlite370_banner.gif\" width=\"240\" style=\"margin-left:0\">\n",
        "\n",
        "In this assignment, however, we'll use a lightweight database engine called [SQLite](https://www.sqlite.org/index.html), which is well-suited for databases with small amounts of data and has very limited CPU & RAM requirements. Despite being limited in its capabilities, it is the [most widely used database engine in the world](https://www.sqlite.org/mostdeployed.html). SQLite is used by smartphone apps, web browsers, desktop applications, IoT devices etc. to store and manage data locally on the device.\n",
        "\n",
        "If you're running this assignment locally, you'll need to [download and install `sqlite3`](https://www.servermania.com/kb/articles/install-sqlite/) on your computer. `sqlite3` is already installed on Binder. You can verify that you have `sqlite3` installed by running the following command to show the version of SQLite you have installed:"
      ]
    },
    {
      "cell_type": "code",
      "execution_count": null,
      "id": "strategic-investigation",
      "metadata": {
        "id": "strategic-investigation",
        "outputId": "c7e3b548-152f-417b-f78a-d3d19fc63df1"
      },
      "outputs": [
        {
          "name": "stdout",
          "output_type": "stream",
          "text": [
            "3.36.0 2021-06-18 18:36:39 5c9a6c06871cb9fe42814af9c039eb6da5427a6ec28f187af7ebfb62eafa66e5\r\n"
          ]
        }
      ],
      "source": [
        "!sqlite3 --version"
      ]
    },
    {
      "cell_type": "markdown",
      "id": "federal-lithuania",
      "metadata": {
        "id": "federal-lithuania"
      },
      "source": [
        "Unlike other relational databases, SQLite doesn't have separate server and client packages. The `sqlite3` command line tool is all your need to create and interact with SQLite databases. The databases themselves are stored as files with the extension `.sqlite`. You can perform CRUD operations on the database simply by passing SQL queries using `sqlite3`.\n",
        "\n",
        "Here's a visual representation of how SQLite differs from other relational database servers ([source](https://devopedia.org/sqlite)):\n",
        "\n",
        "<img src=\"https://i.imgur.com/eC5Ieni.png\" width=\"640\">\n",
        "\n",
        "\n",
        "Note that a `.sqlite` file is different from a `.sql` file, which contains commands for creating tables and inserting data. The `.sqlite` file is the actual database where the data is stored in a binary tabular format for efficient querying and manipulation.\n",
        "\n",
        "In this assignment, we'll use the [Chinook open source database](https://github.com/lerocha/chinook-database). Let's begin by downloading the `.sqlite` file for the database containing all the required tables and the sample data."
      ]
    },
    {
      "cell_type": "code",
      "execution_count": null,
      "id": "handy-property",
      "metadata": {
        "id": "handy-property"
      },
      "outputs": [],
      "source": [
        "from urllib.request import urlretrieve"
      ]
    },
    {
      "cell_type": "code",
      "execution_count": null,
      "id": "simple-editor",
      "metadata": {
        "id": "simple-editor"
      },
      "outputs": [],
      "source": [
        "db_url = 'https://github.com/lerocha/chinook-database/raw/master/ChinookDatabase/DataSources/Chinook_Sqlite.sqlite'"
      ]
    },
    {
      "cell_type": "code",
      "execution_count": null,
      "id": "patient-college",
      "metadata": {
        "id": "patient-college",
        "outputId": "f5caad61-498a-4135-9590-df7b3642f9b0"
      },
      "outputs": [
        {
          "data": {
            "text/plain": [
              "('chinook.sqlite', <http.client.HTTPMessage at 0x7ff06e8d4860>)"
            ]
          },
          "execution_count": 6,
          "metadata": {},
          "output_type": "execute_result"
        }
      ],
      "source": [
        "urlretrieve(db_url, 'chinook.sqlite')"
      ]
    },
    {
      "cell_type": "markdown",
      "id": "covered-grant",
      "metadata": {
        "id": "covered-grant"
      },
      "source": [
        "The database `chinook.sqlite` is now downloaded. To access and interact with the database by writing SQL queries directly within Jupyter, we'll use the [`ipython-sql`](https://pypi.org/project/ipython-sql/) library that provides the `%%sql` magic commands. It uses the [`sqlalchemy`](https://sqlalchemy.org) library behind the scenes to interact with the database."
      ]
    },
    {
      "cell_type": "code",
      "execution_count": null,
      "id": "explicit-chapter",
      "metadata": {
        "id": "explicit-chapter"
      },
      "outputs": [],
      "source": [
        "!pip install ipython-sql --quiet --upgrade"
      ]
    },
    {
      "cell_type": "code",
      "execution_count": null,
      "id": "5bf608f2",
      "metadata": {
        "id": "5bf608f2"
      },
      "outputs": [],
      "source": [
        "!pip install sqlalchemy --quiet"
      ]
    },
    {
      "cell_type": "code",
      "execution_count": null,
      "id": "whole-female",
      "metadata": {
        "id": "whole-female"
      },
      "outputs": [],
      "source": [
        "%load_ext sql"
      ]
    },
    {
      "cell_type": "markdown",
      "id": "foster-mouse",
      "metadata": {
        "id": "foster-mouse"
      },
      "source": [
        "We can now connect to the database using a [SQLAlchemy connection string](https://docs.sqlalchemy.org/en/14/core/engines.html). We'll use the `%%sql` Jupyter magic command."
      ]
    },
    {
      "cell_type": "code",
      "execution_count": null,
      "id": "abstract-might",
      "metadata": {
        "id": "abstract-might"
      },
      "outputs": [],
      "source": [
        "%%sql\n",
        "\n",
        "sqlite:///chinook.sqlite"
      ]
    },
    {
      "cell_type": "markdown",
      "id": "frank-concern",
      "metadata": {
        "id": "frank-concern"
      },
      "source": [
        "We are now connected to the database and we can start writing SQL queries."
      ]
    },
    {
      "cell_type": "markdown",
      "id": "deadly-browser",
      "metadata": {
        "id": "deadly-browser"
      },
      "source": [
        "## Chinook Database Structure and Queries\n",
        "\n",
        "The Chinook database represents a digital media store, including tables for artists, albums, media tracks, invoices and customers. Here's an [Entity Relationship Diagram](https://www.guru99.com/er-diagram-tutorial-dbms.html) (ERD) showing the structure of the Chinook database:\n",
        "\n",
        "![](https://i.imgur.com/X1wM142.png)\n",
        "\n",
        "Let's begin by looking at the data from some of the tables in the database. We can write SQL queries directly within Jupyter code cells by including the magic command `%%sql` as the first line of the cell, indicating that contents of cell represent a SQL query."
      ]
    },
    {
      "cell_type": "code",
      "execution_count": null,
      "id": "geological-temperature",
      "metadata": {
        "id": "geological-temperature",
        "outputId": "812f90ab-2dcb-4c38-9284-de1a4f3377a1"
      },
      "outputs": [
        {
          "name": "stdout",
          "output_type": "stream",
          "text": [
            " * sqlite:///chinook.sqlite\n",
            "Done.\n"
          ]
        },
        {
          "data": {
            "text/html": [
              "<table>\n",
              "    <tr>\n",
              "        <th>ArtistId</th>\n",
              "        <th>Name</th>\n",
              "    </tr>\n",
              "    <tr>\n",
              "        <td>1</td>\n",
              "        <td>AC/DC</td>\n",
              "    </tr>\n",
              "    <tr>\n",
              "        <td>2</td>\n",
              "        <td>Accept</td>\n",
              "    </tr>\n",
              "    <tr>\n",
              "        <td>3</td>\n",
              "        <td>Aerosmith</td>\n",
              "    </tr>\n",
              "    <tr>\n",
              "        <td>4</td>\n",
              "        <td>Alanis Morissette</td>\n",
              "    </tr>\n",
              "    <tr>\n",
              "        <td>5</td>\n",
              "        <td>Alice In Chains</td>\n",
              "    </tr>\n",
              "</table>"
            ],
            "text/plain": [
              "[(1, 'AC/DC'),\n",
              " (2, 'Accept'),\n",
              " (3, 'Aerosmith'),\n",
              " (4, 'Alanis Morissette'),\n",
              " (5, 'Alice In Chains')]"
            ]
          },
          "execution_count": 10,
          "metadata": {},
          "output_type": "execute_result"
        }
      ],
      "source": [
        "%%sql\n",
        "\n",
        "SELECT * FROM Artist LIMIT 5"
      ]
    },
    {
      "cell_type": "code",
      "execution_count": null,
      "id": "enclosed-amount",
      "metadata": {
        "id": "enclosed-amount",
        "outputId": "93c8db3a-3061-4d4d-bfde-26f046f9dbcc"
      },
      "outputs": [
        {
          "name": "stdout",
          "output_type": "stream",
          "text": [
            " * sqlite:///chinook.sqlite\n",
            "Done.\n"
          ]
        },
        {
          "data": {
            "text/html": [
              "<table>\n",
              "    <tr>\n",
              "        <th>AlbumId</th>\n",
              "        <th>Title</th>\n",
              "        <th>ArtistId</th>\n",
              "    </tr>\n",
              "    <tr>\n",
              "        <td>1</td>\n",
              "        <td>For Those About To Rock We Salute You</td>\n",
              "        <td>1</td>\n",
              "    </tr>\n",
              "    <tr>\n",
              "        <td>2</td>\n",
              "        <td>Balls to the Wall</td>\n",
              "        <td>2</td>\n",
              "    </tr>\n",
              "    <tr>\n",
              "        <td>3</td>\n",
              "        <td>Restless and Wild</td>\n",
              "        <td>2</td>\n",
              "    </tr>\n",
              "    <tr>\n",
              "        <td>4</td>\n",
              "        <td>Let There Be Rock</td>\n",
              "        <td>1</td>\n",
              "    </tr>\n",
              "    <tr>\n",
              "        <td>5</td>\n",
              "        <td>Big Ones</td>\n",
              "        <td>3</td>\n",
              "    </tr>\n",
              "</table>"
            ],
            "text/plain": [
              "[(1, 'For Those About To Rock We Salute You', 1),\n",
              " (2, 'Balls to the Wall', 2),\n",
              " (3, 'Restless and Wild', 2),\n",
              " (4, 'Let There Be Rock', 1),\n",
              " (5, 'Big Ones', 3)]"
            ]
          },
          "execution_count": 11,
          "metadata": {},
          "output_type": "execute_result"
        }
      ],
      "source": [
        "%%sql\n",
        "\n",
        "SELECT * FROM Album LIMIT 5"
      ]
    },
    {
      "cell_type": "markdown",
      "id": "nuclear-evanescence",
      "metadata": {
        "id": "nuclear-evanescence"
      },
      "source": [
        "## Selection and Ordering\n",
        "\n",
        "> **QUESTION 1**: Write a SQL query to sort the rows from the table `Track` in alphabetical order of Track name and display the first 10 rows. Replace the `???` in the cell below with your answer."
      ]
    },
    {
      "cell_type": "code",
      "execution_count": null,
      "id": "determined-diagnosis",
      "metadata": {
        "id": "determined-diagnosis"
      },
      "outputs": [],
      "source": [
        "%%sql\n",
        "\n",
        "???"
      ]
    },
    {
      "cell_type": "code",
      "execution_count": null,
      "id": "friendly-piano",
      "metadata": {
        "id": "friendly-piano"
      },
      "outputs": [],
      "source": [
        "# USED FOR EVALUATION. DON'T MODIFY/DELETE/MOVE THIS CELL!\n",
        "ans1 = _"
      ]
    },
    {
      "cell_type": "markdown",
      "id": "pointed-ceiling",
      "metadata": {
        "id": "pointed-ceiling"
      },
      "source": [
        "(OPTIONAL) Write a SQL query to show the _next 10_ rows based on the above criteria."
      ]
    },
    {
      "cell_type": "code",
      "execution_count": null,
      "id": "broadband-subsection",
      "metadata": {
        "id": "broadband-subsection"
      },
      "outputs": [],
      "source": []
    },
    {
      "cell_type": "markdown",
      "id": "tamil-shelter",
      "metadata": {
        "id": "tamil-shelter"
      },
      "source": [
        "(OPTIONAL) Write some SQL queries in the cells below to explore the first few rows of each table in the database."
      ]
    },
    {
      "cell_type": "code",
      "execution_count": null,
      "id": "elementary-paris",
      "metadata": {
        "id": "elementary-paris"
      },
      "outputs": [],
      "source": []
    },
    {
      "cell_type": "code",
      "execution_count": null,
      "id": "respective-passport",
      "metadata": {
        "id": "respective-passport"
      },
      "outputs": [],
      "source": []
    },
    {
      "cell_type": "code",
      "execution_count": null,
      "id": "established-rebate",
      "metadata": {
        "id": "established-rebate"
      },
      "outputs": [],
      "source": []
    },
    {
      "cell_type": "markdown",
      "id": "muslim-listening",
      "metadata": {
        "id": "muslim-listening"
      },
      "source": [
        "Let's save our work before continuing."
      ]
    },
    {
      "cell_type": "code",
      "execution_count": null,
      "id": "cellular-edinburgh",
      "metadata": {
        "id": "cellular-edinburgh"
      },
      "outputs": [],
      "source": [
        "jovian.commit()"
      ]
    },
    {
      "cell_type": "markdown",
      "id": "quality-addiction",
      "metadata": {
        "id": "quality-addiction"
      },
      "source": [
        "## Counting\n",
        "\n",
        "> **QUESTION 2**: Write a SQL query to calculate the total number of employees working at Chinook."
      ]
    },
    {
      "cell_type": "code",
      "execution_count": null,
      "id": "asian-burns",
      "metadata": {
        "id": "asian-burns"
      },
      "outputs": [],
      "source": [
        "%%sql\n",
        "\n",
        "???"
      ]
    },
    {
      "cell_type": "code",
      "execution_count": null,
      "id": "superior-thirty",
      "metadata": {
        "id": "superior-thirty"
      },
      "outputs": [],
      "source": [
        "# DON'T MODIFY THIS CELL! IT IS USED FOR EVALUATION.\n",
        "ans2 = _"
      ]
    },
    {
      "cell_type": "markdown",
      "id": "confident-blake",
      "metadata": {
        "id": "confident-blake"
      },
      "source": [
        "(OPTIONAL) Write SQL queries to calculate the total number customers, total number of artists and total number of tracks in the database."
      ]
    },
    {
      "cell_type": "code",
      "execution_count": null,
      "id": "expensive-hamilton",
      "metadata": {
        "id": "expensive-hamilton"
      },
      "outputs": [],
      "source": []
    },
    {
      "cell_type": "code",
      "execution_count": null,
      "id": "egyptian-mountain",
      "metadata": {
        "id": "egyptian-mountain"
      },
      "outputs": [],
      "source": []
    },
    {
      "cell_type": "code",
      "execution_count": null,
      "id": "joined-sculpture",
      "metadata": {
        "id": "joined-sculpture"
      },
      "outputs": [],
      "source": []
    },
    {
      "cell_type": "markdown",
      "id": "contained-friend",
      "metadata": {
        "id": "contained-friend"
      },
      "source": [
        "Let's save our work before continuing."
      ]
    },
    {
      "cell_type": "code",
      "execution_count": null,
      "id": "smoking-romania",
      "metadata": {
        "id": "smoking-romania"
      },
      "outputs": [],
      "source": [
        "jovian.commit()"
      ]
    },
    {
      "cell_type": "markdown",
      "id": "nonprofit-induction",
      "metadata": {
        "id": "nonprofit-induction"
      },
      "source": [
        "## Aggregation and Grouping\n",
        "\n",
        "> **QUESTION 3**: Write a SQL query to show the top 10 albums with the highest number of tracks. The result should contain 2 columns: album ID and number of tracks in the album (name the column \"Tracks\"). Here are the first few rows of the result:\n",
        "> <img src=\"https://i.imgur.com/0vGhVMZ.png\" width=\"120\">"
      ]
    },
    {
      "cell_type": "code",
      "execution_count": null,
      "id": "breeding-boring",
      "metadata": {
        "id": "breeding-boring"
      },
      "outputs": [],
      "source": [
        "%%sql\n",
        "\n",
        "???"
      ]
    },
    {
      "cell_type": "code",
      "execution_count": null,
      "id": "earned-neighbor",
      "metadata": {
        "id": "earned-neighbor"
      },
      "outputs": [],
      "source": [
        "# DON'T MODIFY THIS CELL! IT IS USED FOR EVALUATION.\n",
        "ans3 = _"
      ]
    },
    {
      "cell_type": "markdown",
      "id": "celtic-grenada",
      "metadata": {
        "id": "celtic-grenada"
      },
      "source": [
        "(OPTIONAL) Improve the above query to also show the album name, artist ID and artist name. Enter the updated query in the empty cell below."
      ]
    },
    {
      "cell_type": "code",
      "execution_count": null,
      "id": "facial-nomination",
      "metadata": {
        "id": "facial-nomination"
      },
      "outputs": [],
      "source": []
    },
    {
      "cell_type": "markdown",
      "id": "incomplete-phone",
      "metadata": {
        "id": "incomplete-phone"
      },
      "source": [
        "(OPTIONAL) List the top 10 albums with the highest number of tracks."
      ]
    },
    {
      "cell_type": "code",
      "execution_count": null,
      "id": "informal-reward",
      "metadata": {
        "id": "informal-reward"
      },
      "outputs": [],
      "source": []
    },
    {
      "cell_type": "markdown",
      "id": "optimum-visitor",
      "metadata": {
        "id": "optimum-visitor"
      },
      "source": [
        "(OPTIONAL) List the top 10 artists with the highest number of tracks."
      ]
    },
    {
      "cell_type": "code",
      "execution_count": null,
      "id": "commercial-apartment",
      "metadata": {
        "id": "commercial-apartment"
      },
      "outputs": [],
      "source": []
    },
    {
      "cell_type": "markdown",
      "id": "advance-trouble",
      "metadata": {
        "id": "advance-trouble"
      },
      "source": [
        "Let's save our work before continuing."
      ]
    },
    {
      "cell_type": "code",
      "execution_count": null,
      "id": "defensive-highway",
      "metadata": {
        "id": "defensive-highway"
      },
      "outputs": [],
      "source": [
        "jovian.commit()"
      ]
    },
    {
      "cell_type": "markdown",
      "id": "logical-province",
      "metadata": {
        "id": "logical-province"
      },
      "source": [
        "## Functions and Joins\n",
        "\n",
        "> **QUESTION 4**: Show a list of the top 10 customer with the highest total spend in 2012. Calculate the total amount spent by each customer by adding the totals from all their invoices in the year 2012. Order the list by the invoice total (decreasing order). The result should contain the rows CustomerId, FirstName, LastName and TotalSpend. Here are the first few rows of the result:\n",
        "> <img src=\"https://i.imgur.com/rayPKc3.png\" width=\"480\">\n",
        ">\n",
        ">\n",
        "> *Note*: SQLite doesn't support the `YEAR` function. Instead use `strftime(\"%Y\", Invoice.InvoiceDate)` to extract the year from the column `InvoiceDate` as a string. [Learn more.](https://www.w3resource.com/sqlite/sqlite-strftime.php)\n",
        ">\n",
        "> _Hint_: First try to write down a step-by-step solution to the problem in plain English, and then try to convert it to a SQL query. Use the empty cells below to experiment with intermediate queries."
      ]
    },
    {
      "cell_type": "code",
      "execution_count": null,
      "id": "qualified-trick",
      "metadata": {
        "id": "qualified-trick"
      },
      "outputs": [],
      "source": [
        "%%sql\n",
        "\n",
        "???"
      ]
    },
    {
      "cell_type": "code",
      "execution_count": null,
      "id": "homeless-cursor",
      "metadata": {
        "id": "homeless-cursor"
      },
      "outputs": [],
      "source": [
        "# DON'T MODIFY OR MOVE THIS CELL! IT IS USED FOR EVALUATION.\n",
        "ans4 = _"
      ]
    },
    {
      "cell_type": "code",
      "execution_count": null,
      "id": "distant-planner",
      "metadata": {
        "id": "distant-planner"
      },
      "outputs": [],
      "source": []
    },
    {
      "cell_type": "code",
      "execution_count": null,
      "id": "cooperative-television",
      "metadata": {
        "id": "cooperative-television"
      },
      "outputs": [],
      "source": []
    },
    {
      "cell_type": "markdown",
      "id": "antique-mauritius",
      "metadata": {
        "id": "antique-mauritius"
      },
      "source": [
        "Let's save our work before continuing."
      ]
    },
    {
      "cell_type": "code",
      "execution_count": null,
      "id": "speaking-google",
      "metadata": {
        "id": "speaking-google"
      },
      "outputs": [],
      "source": [
        "jovian.commit()"
      ]
    },
    {
      "cell_type": "markdown",
      "id": "offensive-disability",
      "metadata": {
        "id": "offensive-disability"
      },
      "source": [
        "## Joins and Arithmetic Operations\n",
        "\n",
        "> **QUESTION 5**: Write a SQL query to show the total number of albums and the average number of tracks per album for every artist. The result should include the artist ID, artist's name, total albums (name the column \"Albums\") and average tracks per album (name the column \"TracksPerAlbum\"). Sort the results in alphabetical order of artist name. Here are the first few rows of the result:\n",
        ">\n",
        "> <img src=\"https://i.imgur.com/WAE7oOx.png\" width=\"640\">\n",
        ">\n",
        "> *Hint*: While dividing two integers, multiply one of the numbers by 1.0 to convert them into floats. [Learn more.](https://stackoverflow.com/questions/8305613/converting-int-to-real-in-sqlite)"
      ]
    },
    {
      "cell_type": "code",
      "execution_count": null,
      "id": "together-final",
      "metadata": {
        "id": "together-final"
      },
      "outputs": [],
      "source": [
        "%%sql\n",
        "\n",
        "???"
      ]
    },
    {
      "cell_type": "code",
      "execution_count": null,
      "id": "silent-lyric",
      "metadata": {
        "id": "silent-lyric"
      },
      "outputs": [],
      "source": [
        "# DON'T MODIFY OR MOVE THIS CELL! IT IS USED FOR EVALUATION.\n",
        "ans5 = _"
      ]
    },
    {
      "cell_type": "code",
      "execution_count": null,
      "id": "christian-liechtenstein",
      "metadata": {
        "id": "christian-liechtenstein"
      },
      "outputs": [],
      "source": []
    },
    {
      "cell_type": "code",
      "execution_count": null,
      "id": "aware-credit",
      "metadata": {
        "id": "aware-credit"
      },
      "outputs": [],
      "source": []
    },
    {
      "cell_type": "markdown",
      "id": "deadly-calculation",
      "metadata": {
        "id": "deadly-calculation"
      },
      "source": [
        "Let's save our work before continuing."
      ]
    },
    {
      "cell_type": "code",
      "execution_count": null,
      "id": "acoustic-apollo",
      "metadata": {
        "id": "acoustic-apollo"
      },
      "outputs": [],
      "source": [
        "jovian.commit()"
      ]
    },
    {
      "cell_type": "markdown",
      "id": "welsh-opinion",
      "metadata": {
        "id": "welsh-opinion"
      },
      "source": [
        "(OPTIONAL) Write a SQL query to display the top 10 highest grossing tracks in 2012. The result should contain the track ID, track name, number of units sold, and the total revenue from the track in 2012. *Hint*: Use the `InvoiceLine` table."
      ]
    },
    {
      "cell_type": "code",
      "execution_count": null,
      "id": "induced-leisure",
      "metadata": {
        "id": "induced-leisure"
      },
      "outputs": [],
      "source": []
    },
    {
      "cell_type": "code",
      "execution_count": null,
      "id": "governing-affair",
      "metadata": {
        "id": "governing-affair"
      },
      "outputs": [],
      "source": []
    },
    {
      "cell_type": "code",
      "execution_count": null,
      "id": "pretty-greensboro",
      "metadata": {
        "id": "pretty-greensboro"
      },
      "outputs": [],
      "source": []
    },
    {
      "cell_type": "markdown",
      "id": "bearing-semester",
      "metadata": {
        "id": "bearing-semester"
      },
      "source": [
        "Let's save our work before continuing."
      ]
    },
    {
      "cell_type": "code",
      "execution_count": null,
      "id": "strong-devices",
      "metadata": {
        "id": "strong-devices"
      },
      "outputs": [],
      "source": [
        "jovian.commit()"
      ]
    },
    {
      "cell_type": "markdown",
      "id": "derived-shape",
      "metadata": {
        "id": "derived-shape"
      },
      "source": [
        "## Joining Multiple Tables\n",
        "\n",
        "> **QUESTION 6:** Show the following information for all the tracks by the Artist \"Metallica\": Track ID, Track Name, Album Title, Artist Name, Composer, Media Type, Genre and track length in milliseconds. Order the tracks in alphabetical order of album names.\n",
        ">\n",
        "> Here are the first few rows of the expected result:\n",
        ">\n",
        "> <img src=\"https://i.imgur.com/Ovhm9Nh.png\" width=\"640\">"
      ]
    },
    {
      "cell_type": "code",
      "execution_count": null,
      "id": "suited-tender",
      "metadata": {
        "id": "suited-tender"
      },
      "outputs": [],
      "source": [
        "%%sql\n",
        "\n",
        "???"
      ]
    },
    {
      "cell_type": "code",
      "execution_count": null,
      "id": "meaningful-surgeon",
      "metadata": {
        "id": "meaningful-surgeon"
      },
      "outputs": [],
      "source": [
        "# DON'T MODIFY OR MOVE THIS CELL! IT IS USED FOR EVALUATION.\n",
        "ans6 = _"
      ]
    },
    {
      "cell_type": "markdown",
      "id": "knowing-feelings",
      "metadata": {
        "id": "knowing-feelings"
      },
      "source": [
        "(OPTIONAL) Modify the above query to show the length of each track in the \"MM:SS\" format i.e. \"03:15\". Enter the updated query in the empty cell below."
      ]
    },
    {
      "cell_type": "code",
      "execution_count": null,
      "id": "bearing-iraqi",
      "metadata": {
        "id": "bearing-iraqi"
      },
      "outputs": [],
      "source": []
    },
    {
      "cell_type": "markdown",
      "id": "steady-redhead",
      "metadata": {
        "id": "steady-redhead"
      },
      "source": [
        "(OPTIONAL) Modify the above query to include the total revenue from the sales of each track. Enter the updated query in the empty cell below."
      ]
    },
    {
      "cell_type": "code",
      "execution_count": null,
      "id": "expected-scratch",
      "metadata": {
        "id": "expected-scratch"
      },
      "outputs": [],
      "source": []
    },
    {
      "cell_type": "markdown",
      "id": "endangered-horse",
      "metadata": {
        "id": "endangered-horse"
      },
      "source": [
        "Let's save our work before continuing."
      ]
    },
    {
      "cell_type": "code",
      "execution_count": null,
      "id": "framed-fountain",
      "metadata": {
        "id": "framed-fountain"
      },
      "outputs": [],
      "source": [
        "jovian.commit()"
      ]
    },
    {
      "cell_type": "markdown",
      "id": "declared-detroit",
      "metadata": {
        "id": "declared-detroit"
      },
      "source": [
        "## Table Creation  and Foreign Keys"
      ]
    },
    {
      "cell_type": "markdown",
      "id": "selected-browser",
      "metadata": {
        "id": "selected-browser"
      },
      "source": [
        "> **QUESTION 7**: Create a new table `HallOfFame` to track the list of artists who have been added into the Chinook Hall of Fame. The table should contain three columns:\n",
        ">\n",
        "> 1. `HallOfFameId` (int): Primary key with [Auto Increment](https://www.sqlite.org/autoinc.html)\n",
        "> 2. `ArtistId` (int): Foreign key (from the Artist table)\n",
        "> 3. `YearAdded` (int): The year the artist was added to the hall of fame\n",
        ">\n",
        "> Once created, add 5 entries to the table (any artists of your choice)."
      ]
    },
    {
      "cell_type": "code",
      "execution_count": null,
      "id": "nasty-intent",
      "metadata": {
        "id": "nasty-intent"
      },
      "outputs": [],
      "source": [
        "%%sql\n",
        "\n",
        "???"
      ]
    },
    {
      "cell_type": "code",
      "execution_count": null,
      "id": "infectious-justice",
      "metadata": {
        "id": "infectious-justice"
      },
      "outputs": [],
      "source": [
        "%%sql\n",
        "\n",
        "???"
      ]
    },
    {
      "cell_type": "code",
      "execution_count": null,
      "id": "increasing-isolation",
      "metadata": {
        "id": "increasing-isolation"
      },
      "outputs": [],
      "source": []
    },
    {
      "cell_type": "code",
      "execution_count": null,
      "id": "allied-bubble",
      "metadata": {
        "id": "allied-bubble"
      },
      "outputs": [],
      "source": []
    },
    {
      "cell_type": "markdown",
      "id": "through-approval",
      "metadata": {
        "id": "through-approval"
      },
      "source": [
        "Once the table is created and records have been inserted, you can view the list of artists in the hall of fame using the following query."
      ]
    },
    {
      "cell_type": "code",
      "execution_count": null,
      "id": "chicken-vertical",
      "metadata": {
        "id": "chicken-vertical"
      },
      "outputs": [],
      "source": [
        "%%sql\n",
        "\n",
        "SELECT * FROM HallOfFame JOIN Artist ON HallOfFame.ArtistId=Artist.ArtistId"
      ]
    },
    {
      "cell_type": "code",
      "execution_count": null,
      "id": "strange-potential",
      "metadata": {
        "id": "strange-potential"
      },
      "outputs": [],
      "source": [
        "# DON'T MODIFY OR MOVE THIS CELL! IT IS USED FOR EVALUATION.\n",
        "ans7 = _"
      ]
    },
    {
      "cell_type": "markdown",
      "id": "alone-bridges",
      "metadata": {
        "id": "alone-bridges"
      },
      "source": [
        "Let's save our work before continuing."
      ]
    },
    {
      "cell_type": "code",
      "execution_count": null,
      "id": "interstate-given",
      "metadata": {
        "id": "interstate-given"
      },
      "outputs": [],
      "source": [
        "jovian.commit()"
      ]
    },
    {
      "cell_type": "markdown",
      "id": "existing-supervision",
      "metadata": {
        "id": "existing-supervision"
      },
      "source": [
        "## Inserting Data into Tables\n",
        "\n",
        "> **QUESTION 8**: Write SQL queries to insert the following records into the database:\n",
        ">\n",
        "> 1. A new artist called \"Linkin Park\"\n",
        "> 2. Two new albums for the artist Linkin Park:\n",
        ">     1. Hybrid Theory\n",
        ">     2. Meteora\n",
        "> 3. Six new tracks (come up with sensible values for columns like Composer, Milliseconds etc.):\n",
        ">     1. Papercut (in the album Hybrid Theory)\n",
        ">     2. In The End (in the album Hybrid Theory)\n",
        ">     3. Crawling (in the album Hybrid Theory)\n",
        ">     4. Somewhere I Belong (in the album Meteora)\n",
        ">     5. Numb (in the album Meteora)\n",
        ">     6. Breaking the Habit (in the album Meteora)\n",
        ">\n",
        "> *Hint*: You need not provide a value for the ID (primary key) columns while inserting these rows, because the ID columns are marked as [AUTO INCREMENT](https://www.sqlite.org/autoinc.html) and will automatically be assigned the next available numeric value."
      ]
    },
    {
      "cell_type": "markdown",
      "id": "hollywood-extra",
      "metadata": {
        "id": "hollywood-extra"
      },
      "source": [
        "Here's the query to insert a new artist:"
      ]
    },
    {
      "cell_type": "code",
      "execution_count": null,
      "id": "aggregate-composite",
      "metadata": {
        "id": "aggregate-composite"
      },
      "outputs": [],
      "source": [
        "%%sql\n",
        "\n",
        "INSERT INTO Artist (Name) VALUES (\"Linkin Park\")"
      ]
    },
    {
      "cell_type": "markdown",
      "id": "wireless-comparative",
      "metadata": {
        "id": "wireless-comparative"
      },
      "source": [
        "Write the query to insert the new albums below:"
      ]
    },
    {
      "cell_type": "code",
      "execution_count": null,
      "id": "strong-plant",
      "metadata": {
        "id": "strong-plant"
      },
      "outputs": [],
      "source": [
        "%%sql\n",
        "\n",
        "???"
      ]
    },
    {
      "cell_type": "markdown",
      "id": "dental-cabin",
      "metadata": {
        "id": "dental-cabin"
      },
      "source": [
        "Write the query to insert the new tracks below:"
      ]
    },
    {
      "cell_type": "code",
      "execution_count": null,
      "id": "linear-transportation",
      "metadata": {
        "id": "linear-transportation"
      },
      "outputs": [],
      "source": [
        "%%sql\n",
        "\n",
        "???"
      ]
    },
    {
      "cell_type": "code",
      "execution_count": null,
      "id": "annoying-bulgarian",
      "metadata": {
        "id": "annoying-bulgarian"
      },
      "outputs": [],
      "source": []
    },
    {
      "cell_type": "code",
      "execution_count": null,
      "id": "characteristic-exposure",
      "metadata": {
        "id": "characteristic-exposure"
      },
      "outputs": [],
      "source": []
    },
    {
      "cell_type": "code",
      "execution_count": null,
      "id": "three-toddler",
      "metadata": {
        "id": "three-toddler"
      },
      "outputs": [],
      "source": []
    },
    {
      "cell_type": "markdown",
      "id": "executive-investment",
      "metadata": {
        "id": "executive-investment"
      },
      "source": [
        "Make sure to insert exactly one copy of each of the above records. If you've inserted multiple copies, delete the extra rows before submitting.\n",
        "\n",
        "If the records were inserted properly, you should be able to retrieve them back using the following queries."
      ]
    },
    {
      "cell_type": "code",
      "execution_count": null,
      "id": "different-future",
      "metadata": {
        "id": "different-future"
      },
      "outputs": [],
      "source": [
        "%%sql\n",
        "\n",
        "SELECT * FROM Artist WHERE Name=\"Linkin Park\""
      ]
    },
    {
      "cell_type": "code",
      "execution_count": null,
      "id": "traditional-provincial",
      "metadata": {
        "id": "traditional-provincial"
      },
      "outputs": [],
      "source": [
        "# DON'T MODIFY OR MOVE THIS CELL! IT IS USED FOR EVALUATION.\n",
        "ans8a = _"
      ]
    },
    {
      "cell_type": "code",
      "execution_count": null,
      "id": "nearby-insurance",
      "metadata": {
        "id": "nearby-insurance"
      },
      "outputs": [],
      "source": [
        "%%sql\n",
        "\n",
        "SELECT * FROM Album JOIN Artist on Album.ArtistId=Artist.ArtistId WHERE Artist.Name=\"Linkin Park\""
      ]
    },
    {
      "cell_type": "code",
      "execution_count": null,
      "id": "outside-pearl",
      "metadata": {
        "id": "outside-pearl"
      },
      "outputs": [],
      "source": [
        "# DON'T MODIFY OR MOVE THIS CELL! IT IS USED FOR EVALUATION.\n",
        "ans8b = _"
      ]
    },
    {
      "cell_type": "code",
      "execution_count": null,
      "id": "early-evaluation",
      "metadata": {
        "id": "early-evaluation"
      },
      "outputs": [],
      "source": [
        "%%sql\n",
        "\n",
        "SELECT *\n",
        "    FROM Track JOIN Album\n",
        "    ON Track.AlbumId=Album.AlbumId\n",
        "    JOIN Artist\n",
        "    ON Album.ArtistId=Artist.ArtistId\n",
        "    WHERE Artist.Name=\"Linkin Park\""
      ]
    },
    {
      "cell_type": "code",
      "execution_count": null,
      "id": "phantom-yorkshire",
      "metadata": {
        "id": "phantom-yorkshire"
      },
      "outputs": [],
      "source": [
        "# DON'T MODIFY OR MOVE THIS CELL! IT IS USED FOR EVALUATION.\n",
        "ans8c = _"
      ]
    },
    {
      "cell_type": "code",
      "execution_count": null,
      "id": "involved-report",
      "metadata": {
        "id": "involved-report"
      },
      "outputs": [],
      "source": []
    },
    {
      "cell_type": "code",
      "execution_count": null,
      "id": "outstanding-location",
      "metadata": {
        "id": "outstanding-location"
      },
      "outputs": [],
      "source": []
    },
    {
      "cell_type": "markdown",
      "id": "atlantic-sigma",
      "metadata": {
        "id": "atlantic-sigma"
      },
      "source": [
        "Let's save our work before continuing. Press `cntrl/cmd + s` to save your work."
      ]
    },
    {
      "cell_type": "markdown",
      "id": "3f0810a9",
      "metadata": {
        "id": "3f0810a9"
      },
      "source": [
        "## LeetCode Problems"
      ]
    },
    {
      "cell_type": "markdown",
      "id": "0c1c94dc",
      "metadata": {
        "id": "0c1c94dc"
      },
      "source": [
        "### Question 9\n",
        "\n",
        "[Problem 171](https://leetcode.com/problems/excel-sheet-column-number/) - Excel Sheet Column Number\n",
        "Given a string `columnTitle` that represents the column title as appears in an Excel sheet, return its corresponding column number."
      ]
    },
    {
      "cell_type": "markdown",
      "id": "2194e21c",
      "metadata": {
        "id": "2194e21c"
      },
      "source": [
        "For example:\n",
        "```\n",
        "A -> 1\n",
        "B -> 2\n",
        "C -> 3\n",
        "...\n",
        "Z -> 26\n",
        "AA -> 27\n",
        "AB -> 28\n",
        "...\n",
        "```\n",
        "Example 1:\n",
        "```\n",
        "Input: columnTitle = \"A\"\n",
        "Output: 1\n",
        "```\n",
        "Example 2:\n",
        "```\n",
        "Input: columnTitle = \"AB\"\n",
        "Output: 28\n",
        "Example 3:\n",
        "\n",
        "Input: columnTitle = \"ZY\"\n",
        "Output: 701\n",
        "```\n",
        "Constraints:\n",
        "```\n",
        "1 <= columnTitle.length <= 7\n",
        "columnTitle consists only of uppercase English letters.\n",
        "columnTitle is in the range [\"A\", \"FXSHRXW\"].\n",
        "```"
      ]
    },
    {
      "cell_type": "code",
      "execution_count": null,
      "id": "a4e9ed55",
      "metadata": {
        "id": "a4e9ed55"
      },
      "outputs": [],
      "source": [
        "def titleToNumber(columnTitle):\n",
        "    ???"
      ]
    },
    {
      "cell_type": "code",
      "execution_count": null,
      "id": "6f199b49",
      "metadata": {
        "id": "6f199b49"
      },
      "outputs": [],
      "source": [
        "# This should return \"True\"\n",
        "titleToNumber(\"A\") == 1"
      ]
    },
    {
      "cell_type": "code",
      "execution_count": null,
      "id": "49eaf5c6",
      "metadata": {
        "id": "49eaf5c6"
      },
      "outputs": [],
      "source": [
        "# This should return \"True\"\n",
        "titleToNumber(\"AB\") == 28"
      ]
    },
    {
      "cell_type": "code",
      "execution_count": null,
      "id": "45c83738",
      "metadata": {
        "id": "45c83738"
      },
      "outputs": [],
      "source": [
        "# This should return \"True\"\n",
        "titleToNumber(\"ZY\") == 701"
      ]
    },
    {
      "cell_type": "markdown",
      "id": "136d8630",
      "metadata": {
        "id": "136d8630"
      },
      "source": [
        "### Question 10\n",
        "\n",
        "[Problem 859](https://leetcode.com/problems/buddy-strings/) - Buddy Strings\n",
        "\n",
        "Given two strings `s` and `goal`, return `true` if you can swap two letters in `s` so the result is equal to `goal`, otherwise, return `false`.\n",
        "\n",
        "Swapping letters is defined as taking two indices `i` and `j` (0-indexed) such that `i != j` and swapping the characters at `s[i]` and `s[j]`."
      ]
    },
    {
      "cell_type": "markdown",
      "id": "cb64fcc3",
      "metadata": {
        "id": "cb64fcc3"
      },
      "source": [
        "For example, swapping at indices `0` and `2` in `\"abcd\"` results in `\"cbad\"`.\n",
        "\n",
        "\n",
        "Example 1:\n",
        "```\n",
        "Input: s = \"ab\", goal = \"ba\"\n",
        "Output: true\n",
        "Explanation: You can swap s[0] = 'a' and s[1] = 'b' to get \"ba\", which is equal to goal.\n",
        "```\n",
        "Example 2:\n",
        "```\n",
        "Input: s = \"ab\", goal = \"ab\"\n",
        "Output: false\n",
        "Explanation: The only letters you can swap are s[0] = 'a' and s[1] = 'b', which results in \"ba\" != goal.\n",
        "```\n",
        "Example 3:\n",
        "```\n",
        "Input: s = \"aa\", goal = \"aa\"\n",
        "Output: true\n",
        "Explanation: You can swap s[0] = 'a' and s[1] = 'a' to get \"aa\", which is equal to goal.\n",
        "```\n",
        "\n",
        "Constraints:\n",
        "```\n",
        "1 <= s.length, goal.length <= 2 * 104\n",
        "s and goal consist of lowercase letters.\n",
        "```"
      ]
    },
    {
      "cell_type": "code",
      "execution_count": null,
      "id": "9d406b9d",
      "metadata": {
        "id": "9d406b9d"
      },
      "outputs": [],
      "source": [
        "def buddyStrings(s, goal):\n",
        "    ???"
      ]
    },
    {
      "cell_type": "code",
      "execution_count": null,
      "id": "ae36939d",
      "metadata": {
        "id": "ae36939d"
      },
      "outputs": [],
      "source": [
        "# This should return \"True\"\n",
        "buddyStrings(\"ab\",\"ba\") == True"
      ]
    },
    {
      "cell_type": "code",
      "execution_count": null,
      "id": "cbd22531",
      "metadata": {
        "id": "cbd22531"
      },
      "outputs": [],
      "source": [
        "# This should return \"True\"\n",
        "buddyStrings(\"ab\",\"ab\") == False"
      ]
    },
    {
      "cell_type": "code",
      "execution_count": null,
      "id": "65105ef6",
      "metadata": {
        "id": "65105ef6"
      },
      "outputs": [],
      "source": [
        "# This should return \"True\"\n",
        "buddyStrings(\"aa\",\"aa\") == True"
      ]
    },
    {
      "cell_type": "markdown",
      "id": "indonesian-dealer",
      "metadata": {
        "id": "indonesian-dealer"
      },
      "source": [
        "## Make a Submission\n",
        "\n",
        "To make a submission, you can submit your Jovian notebook link on the assignment 'submit' page."
      ]
    },
    {
      "cell_type": "markdown",
      "id": "toxic-checkout",
      "metadata": {
        "id": "toxic-checkout"
      },
      "source": [
        "You can make any number of submissions. Only your final submission will be considered for grading.\n",
        "\n",
        "Here are some more optional questions you can try solving: https://github.com/LucasMcL/15-sql_queries_02-chinook"
      ]
    }
  ],
  "metadata": {
    "kernelspec": {
      "display_name": "Python 3 (ipykernel)",
      "language": "python",
      "name": "python3"
    },
    "language_info": {
      "codemirror_mode": {
        "name": "ipython",
        "version": 3
      },
      "file_extension": ".py",
      "mimetype": "text/x-python",
      "name": "python",
      "nbconvert_exporter": "python",
      "pygments_lexer": "ipython3",
      "version": "3.9.7"
    },
    "colab": {
      "provenance": [],
      "include_colab_link": true
    }
  },
  "nbformat": 4,
  "nbformat_minor": 5
}