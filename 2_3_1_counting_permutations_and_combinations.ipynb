{
  "cells": [
    {
      "cell_type": "markdown",
      "metadata": {
        "id": "view-in-github",
        "colab_type": "text"
      },
      "source": [
        "<a href=\"https://colab.research.google.com/github/tavi1402/Data_Science_bootcamp/blob/main/2_3_1_counting_permutations_and_combinations.ipynb\" target=\"_parent\"><img src=\"https://colab.research.google.com/assets/colab-badge.svg\" alt=\"Open In Colab\"/></a>"
      ]
    },
    {
      "cell_type": "markdown",
      "id": "44342576",
      "metadata": {
        "id": "44342576"
      },
      "source": [
        "# Introduction to Counting, Permutations and Combinations\n",
        "\n",
        "![](https://i.imgur.com/B2lB620.jpg)\n",
        "\n",
        "Solving problems in statistics and probability often involves counting events satisfying a criteria without listing them out. In this tutorial, we'll learn some basic counting techniques that can be combined in interesting ways. This tutorial covers the following topics:\n",
        "\n",
        "- Multiplication principle\n",
        "- Factorial rule\n",
        "- Permutations rule\n",
        "- Combinations rule\n",
        "- Computing probability using counting rules"
      ]
    },
    {
      "cell_type": "markdown",
      "id": "6bcec44d",
      "metadata": {
        "id": "6bcec44d"
      },
      "source": [
        "## Multiplication Principle of Counting\n",
        "\n",
        "> **QUESTION**: Your neighborhood Mexican restaurant \"Tacos El Vegano\" offer a \"build your own burrito\" option and claims that you create over 250 unique varieties by making the following choices:\n",
        ">\n",
        ">\n",
        ">\n",
        "> 1. Choice of tortilla: white flour or whole wheat flour\n",
        "> 2. Choice of filling: potatoes, jackfruit or mushroom\n",
        "> 3. Choice of beans: red beans, black beans, kidney beans or no beans\n",
        "> 4. Choice of salad: lettuce, rocket or no salad\n",
        "> 5. Choice of grilled vegetables: yes or no\n",
        "> 6. Choice of guacamole: yes or no\n",
        ">\n",
        "> <img src=\"https://i.imgur.com/1vx5O8w.png\" width=\"360\" style=\"border-radius:4px\">\n",
        ">\n",
        "> All the choices are made independently i.e. the choice of beans has no bearing on whether or not you can add guacamole and vice versa. Can you verify or refute this claim?\n",
        ">\n",
        "\n",
        "\n"
      ]
    },
    {
      "cell_type": "markdown",
      "id": "ea4c45c3",
      "metadata": {
        "id": "ea4c45c3"
      },
      "source": [
        "One way to check the validity of the claim is to systematically list all possible varieties:\n",
        "\n",
        "1. White flour, Potatoes, Red beans, Lettuce, Vegetables, Gaucamole\n",
        "2. White flour, Potatoes, Red beans, Lettuce, Vegetables, No Gaucamole\n",
        "3. White flour, Potatoes, Red beans, Lettuce, No Vegetables, Gaucamole\n",
        "4. White flour, Potatoes, Red beans, Lettuce, No Vegetables, No Gaucamole\n",
        "5. White flour, Potatoes, Red beans, Rocket, Vegetables, Gaucamole\n",
        "6. ...\n",
        "\n",
        "\n",
        "This is a long, tedious and error prone process. Fortunately, there's an easier way:\n",
        "\n",
        "![](https://i.imgur.com/nf3OD3L.png)\n",
        "\n",
        "\n",
        "* There are 2 choices for the tortilla (white flour or whole wheat flour).\n",
        "* Once a choice of tortilla is made, then the filling can be chosen in 3 ways (potatoes, jack fruit or mushroom) for each of the two choices. So, if we just consider the first two choices, we can create 3 + 3 = 2 * 3 = 6 total varieties.\n",
        "* Next, for each of these 6 combinations, we have 4 choices of beans (red beans, black beans, kidney beans or no beans). Thus the total number of varieties considering the first three choices are is 4 + 4 + 4 + 4 + 4 + 4 = 6 * 4 = 24.\n",
        "* and so on...\n",
        "\n",
        "If you keep going, you will realize that the total number of varieties is simply the product of the number of options for each choice. We can compute this using Python:"
      ]
    },
    {
      "cell_type": "code",
      "execution_count": null,
      "id": "f0250581",
      "metadata": {
        "id": "f0250581"
      },
      "outputs": [],
      "source": []
    },
    {
      "cell_type": "code",
      "execution_count": null,
      "id": "fda390f8",
      "metadata": {
        "id": "fda390f8"
      },
      "outputs": [],
      "source": []
    },
    {
      "cell_type": "code",
      "execution_count": null,
      "id": "c912a2c9",
      "metadata": {
        "id": "c912a2c9"
      },
      "outputs": [],
      "source": []
    },
    {
      "cell_type": "markdown",
      "id": "3de3b14f",
      "metadata": {
        "id": "3de3b14f"
      },
      "source": [
        "Turns out the restaurant's claim is valid after all! We can generalize the above result as follows:\n",
        "\n",
        "**Multiplication Principle**:  If we have $k$ independent choices to make, and the number of options for each choice are $x_1, x_2, x_3, \\ldots, x_k$, then we can make all of the choices in $x_1 \\times x_2 \\times x_3 \\times \\ldots \\times x_k$ ways.\n",
        "\n",
        "A special case of the multiplication principle is when the number of options is the same for each choice. This happens when we make the same choice many times.  \n",
        "\n",
        "**Repeated Choice Rule**: If we have $k$ independent choices to make, and the number of options for each choice is $n$, then we can make all the choices in $n^k$ ways.\n",
        "\n"
      ]
    },
    {
      "cell_type": "markdown",
      "id": "c1c2b41c",
      "metadata": {
        "id": "c1c2b41c"
      },
      "source": [
        "> **EXERCISE**: If you flip 10 coins, how many possible outcomes can you get?"
      ]
    },
    {
      "cell_type": "code",
      "execution_count": null,
      "id": "5e556c62",
      "metadata": {
        "id": "5e556c62"
      },
      "outputs": [],
      "source": []
    },
    {
      "cell_type": "markdown",
      "id": "aabd46ba",
      "metadata": {
        "id": "aabd46ba"
      },
      "source": [
        "> **EXERCISE**: If you roll 6 fair dice, how many possible outcomes can you get?"
      ]
    },
    {
      "cell_type": "code",
      "execution_count": null,
      "id": "f468338d",
      "metadata": {
        "id": "f468338d"
      },
      "outputs": [],
      "source": []
    },
    {
      "cell_type": "markdown",
      "id": "c7b3fbd3",
      "metadata": {
        "id": "c7b3fbd3"
      },
      "source": [
        "> **EXERCISE**: If you flip a coin, roll a die and pick a random card from a well-shuffled deck, how many possible outcomes can you get?"
      ]
    },
    {
      "cell_type": "code",
      "execution_count": null,
      "id": "eaaa2ed8",
      "metadata": {
        "id": "eaaa2ed8"
      },
      "outputs": [],
      "source": []
    },
    {
      "cell_type": "markdown",
      "id": "223803b3",
      "metadata": {
        "id": "223803b3"
      },
      "source": [
        "Let's save our work before continuing."
      ]
    },
    {
      "cell_type": "code",
      "execution_count": null,
      "id": "f797f6ba",
      "metadata": {
        "id": "f797f6ba"
      },
      "outputs": [],
      "source": []
    },
    {
      "cell_type": "code",
      "execution_count": null,
      "id": "8a9f1981",
      "metadata": {
        "id": "8a9f1981"
      },
      "outputs": [],
      "source": []
    },
    {
      "cell_type": "markdown",
      "id": "55c8494b",
      "metadata": {
        "id": "55c8494b"
      },
      "source": [
        "## Factorials\n",
        "\n",
        "> **QUESTION**: In how many ways can you seat 5 people on chairs numbered from 1 to 5?\n",
        ">\n",
        "> <img src=\"https://i.imgur.com/eLo4HFD.png\" width=\"420\">\n",
        "\n",
        "\n",
        "One way to determine the result is to list all possible arrangements systematically:\n",
        "\n",
        "1. A, B, C, D, E\n",
        "2. A, B, C, E, D\n",
        "3. A, B, D, C, E\n",
        "4. A, B, D, E, C\n",
        "5. ...\n",
        "\n",
        "This is a long, tedious and error prone process. However, we can apply the multiplication rule using the following insight:\n",
        "\n",
        "![](https://i.imgur.com/sbCygLM.png)\n",
        "\n",
        "1. We have 5 ways of choosing the person for seat number 1.\n",
        "2. Once a person is seated at seat no. 1, we have 4 ways of choosing the person for seat number 2 (because the person sitting on seat number 1 can't sit on seat number 2). Note that we have exactly 4 choices for the seat irrespective of which person we choose for seat 1.\n",
        "3. Once a person is seated at seat no. 2, we have 3 choices for choosing the person for seat number 3.\n",
        "4. Once a person is seated at seat no. 3, we have to choices for choosing the person at seat number 2.\n",
        "5. Once a person is seated at seat no. 3, we have just one choice to fill the remaining seat.\n",
        "\n",
        "\n",
        "Thus, by applying the multiplication rule, it follows that the total number of ways to seat five persons on five chairs is $5 \\times 4 \\times 3 \\times 2 \\times 1 = 120$.\n",
        "\n",
        "The product of numbers from $1$ to $5$ is also known as the factorial of $5$ and is represented using by the notation $5!$. In general $n!$ denotes the product of numbers from $1$ to $n$. $0!$ is defined as $1$ (can you guess why?). With this notation, we can now generalize the above result as follows:\n",
        "\n",
        "**Factorial Rule**: The number of ways of arranging $n$ items in list is $n!$ i.e. $n \\times (n-1) \\times (n-2) \\times \\ldots \\times 2 \\times 1 $.\n",
        "\n",
        "Let's define a function factorial which can help us compute this number easily."
      ]
    },
    {
      "cell_type": "code",
      "execution_count": null,
      "id": "b5a82654",
      "metadata": {
        "id": "b5a82654"
      },
      "outputs": [],
      "source": []
    },
    {
      "cell_type": "code",
      "execution_count": null,
      "id": "f8b4ae00",
      "metadata": {
        "id": "f8b4ae00"
      },
      "outputs": [],
      "source": []
    },
    {
      "cell_type": "markdown",
      "id": "2e94e1f3",
      "metadata": {
        "id": "2e94e1f3"
      },
      "source": [
        "> **EXERCISE**: If you pick out all the spades from a deck of cards, in how many ways can you arrange them in your hand?\n",
        ">\n",
        "> ![](https://i.imgur.com/XVscmAe.png)\n",
        ">\n",
        "> *Hint*: There are 13 spades."
      ]
    },
    {
      "cell_type": "code",
      "execution_count": null,
      "id": "fdee8ccb",
      "metadata": {
        "id": "fdee8ccb"
      },
      "outputs": [],
      "source": []
    },
    {
      "cell_type": "markdown",
      "id": "72530ba2",
      "metadata": {
        "id": "72530ba2"
      },
      "source": [
        "> **EXERCISE**: If you roll 6 dice together, in how many ways can you get 6 different numbers in the result e.g.  3,4,5,6,1,2."
      ]
    },
    {
      "cell_type": "code",
      "execution_count": null,
      "id": "a8545868",
      "metadata": {
        "id": "a8545868"
      },
      "outputs": [],
      "source": []
    },
    {
      "cell_type": "code",
      "execution_count": null,
      "id": "f49a32be",
      "metadata": {
        "id": "f49a32be"
      },
      "outputs": [],
      "source": []
    },
    {
      "cell_type": "markdown",
      "id": "80e51177",
      "metadata": {
        "id": "80e51177"
      },
      "source": [
        "Let's save our work before continuing."
      ]
    },
    {
      "cell_type": "code",
      "execution_count": null,
      "id": "9750825b",
      "metadata": {
        "id": "9750825b"
      },
      "outputs": [],
      "source": []
    },
    {
      "cell_type": "markdown",
      "id": "d49f921b",
      "metadata": {
        "id": "d49f921b"
      },
      "source": [
        "## Permutations\n",
        "\n",
        "> **QUESTION**: In how many ways can you seat 6 people on 4 chairs numbered from 1 to 4?\n",
        ">\n",
        "> <img src=\"https://i.imgur.com/xVmrrBj.png\" width=\"360\">\n",
        "\n",
        "\n",
        "Let's apply the multiplication rule once again:\n",
        "\n",
        "1. We have 6 ways of choosing the person for seat number 1.\n",
        "2. Once a person is sitting at seat number 1, we have 5 ways of choosing a person for seat number 2.\n",
        "3. Once a person is sitting at seat number 2, we have 4 ways of choosing a person for seat number 3.\n",
        "4. Once a person is sitting at seat number 3, we have 3 ways of choosing a person for seat number 1.\n",
        "\n",
        "And we're done! Applying the multiplication rule, it follows that the number of ways of seating 6 people on 4 chairs is $6 \\times 5 \\times 4 \\times 3 = 360$.\n",
        "\n",
        "\n",
        "However, we can also write the expression has follows:\n",
        "\n",
        "$$6 \\times 5 \\times 4 \\times 3 = \\frac {6 \\times 5 \\times 4 \\times 3 \\times 2 \\times 1} {2 \\times 1} = \\frac{6!}{2!} = \\frac{6!}{(6-4)!}$$\n",
        "\n",
        "\n",
        "We can generalize the above result as follows:\n",
        "\n",
        "**Permutation rule**: The number of ways of arranging $k$ items in a list out of $n$ items is $n!/(n-k)!$. This number is also denoted as ${}^nP_k$.\n",
        "\n",
        "$${}^nP_k = \\frac{n!}{(n-k)!} = n \\times (n-1) \\times \\ldots \\times (n-k+1)$$\n",
        "\n",
        "Each arrangement of `k` out of `n` items is called a permutation. Let's write a helper function to count the number of permutations of `k` out of `n` items.\n"
      ]
    },
    {
      "cell_type": "code",
      "execution_count": null,
      "id": "c8b4e36d",
      "metadata": {
        "id": "c8b4e36d"
      },
      "outputs": [],
      "source": []
    },
    {
      "cell_type": "markdown",
      "id": "3570be71",
      "metadata": {
        "id": "3570be71"
      },
      "source": [
        "> **EXERCISE**: You have 25 books but your bookshelf contains space for just 12 books. In how many ways can you arrange books on your bookshelf?"
      ]
    },
    {
      "cell_type": "code",
      "execution_count": null,
      "id": "8e5cdf75",
      "metadata": {
        "id": "8e5cdf75"
      },
      "outputs": [],
      "source": []
    },
    {
      "cell_type": "code",
      "execution_count": null,
      "id": "b27a8da0",
      "metadata": {
        "id": "b27a8da0"
      },
      "outputs": [],
      "source": []
    },
    {
      "cell_type": "markdown",
      "id": "3cbecd12",
      "metadata": {
        "id": "3cbecd12"
      },
      "source": [
        "> **EXERCISE**: How many unique four letter words can you create using the English alphabet (A to Z)?"
      ]
    },
    {
      "cell_type": "code",
      "execution_count": null,
      "id": "26738a35",
      "metadata": {
        "id": "26738a35"
      },
      "outputs": [],
      "source": []
    },
    {
      "cell_type": "code",
      "execution_count": null,
      "id": "5a6ccbe3",
      "metadata": {
        "id": "5a6ccbe3"
      },
      "outputs": [],
      "source": []
    },
    {
      "cell_type": "markdown",
      "id": "9eeffba3",
      "metadata": {
        "id": "9eeffba3"
      },
      "source": [
        "> **EXERCISE**: How many unique four letter words can you create using the English alphabet (A to Z), if you aren't allowed to use a letter more than once?"
      ]
    },
    {
      "cell_type": "code",
      "execution_count": null,
      "id": "dc65945f",
      "metadata": {
        "id": "dc65945f"
      },
      "outputs": [],
      "source": []
    },
    {
      "cell_type": "code",
      "execution_count": null,
      "id": "498d0239",
      "metadata": {
        "id": "498d0239"
      },
      "outputs": [],
      "source": []
    },
    {
      "cell_type": "markdown",
      "id": "215bf916",
      "metadata": {
        "id": "215bf916"
      },
      "source": [
        "\n",
        "\n",
        "> **EXERCISE**: How many 3 digit numbers greater than 300 can you create using the digit 1, 2, 3, 5, 7 and 8? You are not allowed to use a digit more than once. How many of these numbers are odd?"
      ]
    },
    {
      "cell_type": "code",
      "execution_count": null,
      "id": "66325239",
      "metadata": {
        "id": "66325239"
      },
      "outputs": [],
      "source": []
    },
    {
      "cell_type": "code",
      "execution_count": null,
      "id": "59e6c268",
      "metadata": {
        "id": "59e6c268"
      },
      "outputs": [],
      "source": []
    },
    {
      "cell_type": "markdown",
      "id": "0460b2a7",
      "metadata": {
        "id": "0460b2a7"
      },
      "source": [
        "> **EXERCISE**: In how many ways can you arrange 12 people in a circle?\n",
        ">\n",
        "> <img src=\"https://i.imgur.com/J738ur4.png\" width=\"360\">"
      ]
    },
    {
      "cell_type": "code",
      "execution_count": null,
      "id": "71b329e7",
      "metadata": {
        "id": "71b329e7"
      },
      "outputs": [],
      "source": []
    },
    {
      "cell_type": "markdown",
      "id": "0978bd88",
      "metadata": {
        "id": "0978bd88"
      },
      "source": [
        "Let's save our work before continuing."
      ]
    },
    {
      "cell_type": "code",
      "execution_count": null,
      "id": "0a352de4",
      "metadata": {
        "id": "0a352de4"
      },
      "outputs": [],
      "source": []
    },
    {
      "cell_type": "markdown",
      "id": "34da6cf3",
      "metadata": {
        "id": "34da6cf3"
      },
      "source": [
        "## Combinations\n",
        "\n",
        "> **QUESTION**: In how many ways can you choose 4 people out of a group of 6 people.\n",
        "\n",
        "Let's try to solve this problem step by step:\n",
        "\n",
        "* We already know from the permutation rule that we can arrange $4$ out of $6$ people in a list in ${}^6P_4$ ways.\n",
        "* However, we're no longer concerned with arrangement i.e. if we name the people A, B, C, D, E and F, then the arrangements ABCD, ACDB, ADCB all denote the same group. In fact, once $4$ people out of the $6$ have been chosen, we know from the factorial rule that there are $4!$ possible arrangements.\n",
        "* Thus, every $4!$ arrangements of any $4$ people denotes the same group. So, we can divide the total number of arrangements by $4!$ to determine the number of ways of choosing 4 people out of 6.\n",
        "\n",
        "\n",
        "$$\\textrm{No. of ways of choosing 4 people out of 6} = \\frac{\\textrm{No. of ways of arranging 4 people out of 6 in a list}}{\\textrm{No. of ways of arranging 4 people in a list}} = \\frac{{}^6P_4}{4!}$$\n",
        "\n",
        "This number is denoted by ${}^6C_4$. Simplifying, we get:\n",
        "\n",
        "$${}^6C_4 = \\frac{{}^6P_4}{4!} = \\frac{6!}{(6-4)!4!}$$\n",
        "\n",
        "\n",
        "The above result can be generalized as follows:\n",
        "\n",
        "**Combination Rule**: The number of ways of choosing $k$ items out of $n$ items is $\\frac{n!}{(n-k)!k!}$. It is denoted by ${}^nC_k$.\n",
        "\n",
        "$${}^nC_k = \\frac{{}^nP_k}{k!} = \\frac{n!}{(n-k)!k!} = \\frac{n \\times (n-1) \\times \\ldots \\times (n-k+1)}{k \\times (k-1) \\times \\ldots \\times 1}$$\n",
        "\n",
        "Let's write a function to count the number of ways of choosing `k` items out of `n`."
      ]
    },
    {
      "cell_type": "code",
      "execution_count": null,
      "id": "051ee2a4",
      "metadata": {
        "id": "051ee2a4"
      },
      "outputs": [],
      "source": []
    },
    {
      "cell_type": "code",
      "execution_count": null,
      "id": "924c42af",
      "metadata": {
        "id": "924c42af"
      },
      "outputs": [],
      "source": []
    },
    {
      "cell_type": "markdown",
      "id": "ca649eda",
      "metadata": {
        "id": "ca649eda"
      },
      "source": [
        "Thus, there are 15 ways of choosing 4 people out of 6. Can you verify this by listing out all possible groups?"
      ]
    },
    {
      "cell_type": "markdown",
      "id": "a969d579",
      "metadata": {
        "id": "a969d579"
      },
      "source": [
        "> **EXERCISE**: In how many ways can 22 soccer players be divided into two teams of 11 players each?"
      ]
    },
    {
      "cell_type": "code",
      "execution_count": null,
      "id": "827c9c84",
      "metadata": {
        "id": "827c9c84"
      },
      "outputs": [],
      "source": []
    },
    {
      "cell_type": "markdown",
      "id": "71ae553a",
      "metadata": {
        "id": "71ae553a"
      },
      "source": [
        "> **EXERCISE**: In how many ways can you get exactly 3 heads when you toss 10 fair coins?\n"
      ]
    },
    {
      "cell_type": "code",
      "execution_count": null,
      "id": "57a8b101",
      "metadata": {
        "id": "57a8b101"
      },
      "outputs": [],
      "source": []
    },
    {
      "cell_type": "markdown",
      "id": "2ac17518",
      "metadata": {
        "id": "2ac17518"
      },
      "source": [
        "> **EXERCISE**: Suppose you pick 4 letters from the English alphabet (A to Z). How many words can you create using the 4 letters (you are allowed to use a letter more than once in a word)?"
      ]
    },
    {
      "cell_type": "code",
      "execution_count": null,
      "id": "a393a02b",
      "metadata": {
        "id": "a393a02b"
      },
      "outputs": [],
      "source": []
    },
    {
      "cell_type": "markdown",
      "id": "60dfd331",
      "metadata": {
        "id": "60dfd331"
      },
      "source": [
        "Let's save our work before continuing."
      ]
    },
    {
      "cell_type": "code",
      "execution_count": null,
      "id": "404ef3f4",
      "metadata": {
        "id": "404ef3f4"
      },
      "outputs": [],
      "source": []
    },
    {
      "cell_type": "markdown",
      "id": "5b5c81b6",
      "metadata": {
        "id": "5b5c81b6"
      },
      "source": [
        "## Probabilities\n",
        "\n",
        "The rules of counting can be applied to compute probabilities events involving repeated experiments (or multiple different kinds of experiments). See this tutorial for a practical introduction to probability: https://jovian.ai/aakashns/introduction-to-probability .\n",
        "\n",
        "> **QUESTION**: If you toss 10 fair coins, what is the probability of getting exactly 3 heads?\n",
        "\n",
        "Since all possible outcomes are equally likely, it follows that\n",
        "\n",
        "$$P(\\textrm{Getting 3 heads}) = \\frac{\\textrm{No. of outcomes with exactly 3 heads}}{\\textrm{Total no. of outcomes}}$$\n",
        "\n",
        "$$\\textrm{Total no. of outcomes} = {2 \\times 2 \\times ... \\times 2}  \\textrm{(10 times)} = 2^{10}$$\n",
        "\n",
        "$$\\textrm{No. of outcomes with exactly 3 heads} = {}^{10}C_3 = \\frac{10!}{(10-3)!3!}$$\n",
        "\n",
        "We can use the functions defined earlier to compute this number."
      ]
    },
    {
      "cell_type": "code",
      "execution_count": null,
      "id": "d9453423",
      "metadata": {
        "id": "d9453423"
      },
      "outputs": [],
      "source": []
    },
    {
      "cell_type": "code",
      "execution_count": null,
      "id": "fd48aeb7",
      "metadata": {
        "id": "fd48aeb7"
      },
      "outputs": [],
      "source": []
    },
    {
      "cell_type": "markdown",
      "id": "3fe39267",
      "metadata": {
        "id": "3fe39267"
      },
      "source": [
        "> **QUESTION**: If you pick 5 random cards from a well shuffled deck, what is the probability of getting a flush (all cards of the same suit)?\n",
        "\n",
        "We can determine the total no. of outcomes by counting the number of ways of picking 5 cards out of a deck of 52 cards.\n",
        "\n",
        "$$\\textrm{Total no. of outcomes} = {}^{52}C_5$$\n",
        "\n",
        "To count the number of outcomes, we can first determine the suit in 4 ways, and then pick of 5 out of 13 cards in the suit.\n",
        "\n",
        "$$\\textrm{Matching outcomes} = 4 \\times {}^{13}C_5$$\n",
        "\n",
        "We can now compute the probability that all 5 cards belong to the same suit."
      ]
    },
    {
      "cell_type": "code",
      "execution_count": null,
      "id": "d6c38049",
      "metadata": {
        "id": "d6c38049"
      },
      "outputs": [],
      "source": []
    },
    {
      "cell_type": "code",
      "execution_count": null,
      "id": "ef0b9cd5",
      "metadata": {
        "id": "ef0b9cd5"
      },
      "outputs": [],
      "source": []
    },
    {
      "cell_type": "markdown",
      "id": "65ac62db",
      "metadata": {
        "id": "65ac62db"
      },
      "source": [
        "> **EXERCISE**: If you toss 12 fair coins what is the probablity of getting 7 or more heads?\n",
        ">\n",
        "> *Hint*: $P(\\textrm{7 or more heads}) = P(\\textrm{7 heads}) + P(\\textrm{8 heads}) + P(\\textrm{9 heads}) + \\ldots$"
      ]
    },
    {
      "cell_type": "code",
      "execution_count": null,
      "id": "dcef577a",
      "metadata": {
        "id": "dcef577a"
      },
      "outputs": [],
      "source": []
    },
    {
      "cell_type": "markdown",
      "id": "f205e09e",
      "metadata": {
        "id": "f205e09e"
      },
      "source": [
        "> **EXERCISE**: If you roll 6 fair dice together, what is the probablity of getting six different numbers in the result?"
      ]
    },
    {
      "cell_type": "code",
      "execution_count": null,
      "id": "0523c081",
      "metadata": {
        "id": "0523c081"
      },
      "outputs": [],
      "source": []
    },
    {
      "cell_type": "markdown",
      "id": "ec85e8cf",
      "metadata": {
        "id": "ec85e8cf"
      },
      "source": [
        "> **EXERCISE**: If you flip a coin, roll a die and pick a random card from a well-shuffled deck, what is the probability of getting a tail, an even number and a spade?"
      ]
    },
    {
      "cell_type": "code",
      "execution_count": null,
      "id": "2293fc31",
      "metadata": {
        "id": "2293fc31"
      },
      "outputs": [],
      "source": []
    },
    {
      "cell_type": "markdown",
      "id": "580e264d",
      "metadata": {
        "id": "580e264d"
      },
      "source": [
        "> **EXERCISE**: If you roll 3 fair dice, what is the probability of getting a sum lower than 6?"
      ]
    },
    {
      "cell_type": "code",
      "execution_count": null,
      "id": "7b106b4d",
      "metadata": {
        "id": "7b106b4d"
      },
      "outputs": [],
      "source": []
    },
    {
      "cell_type": "markdown",
      "id": "12c20cf6",
      "metadata": {
        "id": "12c20cf6"
      },
      "source": [
        "Let's save our work before continuing."
      ]
    },
    {
      "cell_type": "code",
      "execution_count": null,
      "id": "b19f274a",
      "metadata": {
        "id": "b19f274a"
      },
      "outputs": [],
      "source": []
    },
    {
      "cell_type": "markdown",
      "id": "0a88a5ca",
      "metadata": {
        "id": "0a88a5ca"
      },
      "source": [
        "Let's save our work before continuing."
      ]
    },
    {
      "cell_type": "code",
      "execution_count": null,
      "id": "9c1e0e04",
      "metadata": {
        "id": "9c1e0e04"
      },
      "outputs": [],
      "source": []
    },
    {
      "cell_type": "markdown",
      "id": "7c283a69",
      "metadata": {
        "id": "7c283a69"
      },
      "source": [
        "## Summary and Further Reading\n",
        "\n",
        "Here are the topics we've covered in this notebook:\n",
        "\n",
        "\n",
        "1. **Multiplication Principle**:  If we have $k$ independent choices to make, and the number of options for each choice are $x_1, x_2, x_3, \\ldots, x_k$, then we can make all of the choices in $x_1 \\times x_2 \\times x_3 \\times \\ldots \\times x_k$ ways.\n",
        "\n",
        "\n",
        "2. **Repeated choice rule**: A special case of the multiplication principle is when the number of options is the same for each choice. If we have $k$ independent choices to make, and the number of options for each choice is $n$, then we can make all the choices in $n^k$ ways.\n",
        "\n",
        "\n",
        "2. **Factorial Rule**: The number of ways of arranging $n$ items in list is $n!$ i.e. $n \\times (n-1) \\times (n-2) \\times \\ldots \\times 2 \\times 1 $.\n",
        "\n",
        "\n",
        "3. **Permutation rule**: The number of ways of arranging $k$ items in a list out of $n$ items is $n!/(n-k)!$. This number is also denoted as ${}^nP_k$.\n",
        "\n",
        "$${}^nP_k = \\frac{n!}{(n-k)!} = n \\times (n-1) \\times \\ldots \\times (n-k+1)$$\n",
        "\n",
        "\n",
        "4. **Combination Rule**: The number of ways of choosing $k$ items out of $n$ items is $\\frac{n!}{(n-k)!k!}$. It is denoted by ${}^nC_k$.\n",
        "\n",
        "$${}^nC_k = \\frac{{}^nP_k}{k!} = \\frac{n!}{(n-k)!k!} = \\frac{n \\times (n-1) \\times \\ldots \\times (n-k+1)}{k \\times (k-1) \\times \\ldots \\times 1}$$\n",
        "\n",
        "\n",
        "5. **Probability**: The rules of counting can be applied to compute probabilities events involving repeated experiments (or multiple different kinds of experiments).\n",
        "\n",
        "\n",
        "Resources to learn more:\n",
        "\n",
        "* Khan Academy: https://www.khanacademy.org/math/statistics-probability/counting-permutations-and-combinations\n",
        "* Permutations and Combinations problems: https://www.analyzemath.com/statistics/permutations_combinations.html\n",
        "* Better Explained: https://betterexplained.com/articles/easy-permutations-and-combinations/"
      ]
    },
    {
      "cell_type": "markdown",
      "id": "7d24bb25",
      "metadata": {
        "id": "7d24bb25"
      },
      "source": [
        "## Questions for Revision\n",
        "1.\tExplain multiplication rule with an example.\n",
        "2.\tWhat is the special case of multiplication rule?\n",
        "3.\tIn how many ways can we makes choices when the number of independent choices is 'q' and number of options for each choice is 'r'?\n",
        "4.\tWhere do we generally come across the repeated choice rule?\n",
        "5.\tWhat is the factorial rule?\n",
        "6.\tThere are 10 benches in a classroom placed one after another. In how many ways can the 10 students be seated on the benches for an examination?\n",
        "7.\tWhat are some examples of permutations and combinations that we come across on a daily basis?\n",
        "8.\tHow can you identify that a problem refers to either permutation or combination?\n",
        "9.\tHow is permutation different from combination?\n",
        "10.\tIs there any relationship between permutation and combination? If so, what is it?\n",
        "11.\tWhat are the rules of counting that can be applied to compute probabilities?\n",
        "12.\tGive an example for permutation when repetition is allowed and when repetition is not allowed.\n",
        "13.\tGive an example for combination when repetition is allowed and when repetition is not allowed.\n",
        "14.\tYou have 7 ice-cream flavours say- chocolate, tender coconut, mango, pistachio, vanilla, butterscotch, and blackcurrant. You choose any four flavours in each cup. How many variations can there be?\n",
        "15.\tIn how many ways can the word JOVIAN be arranged?"
      ]
    },
    {
      "cell_type": "markdown",
      "id": "6d72927d",
      "metadata": {
        "id": "6d72927d"
      },
      "source": [
        "## Solutions for Exercises"
      ]
    },
    {
      "cell_type": "markdown",
      "id": "e3d1b374",
      "metadata": {
        "id": "e3d1b374"
      },
      "source": [
        "### Multiplication Principle of Counting\n",
        "\n",
        "If we have $k$ independent choices to make, and the number of options for each choice are $x_1, x_2, x_3, \\ldots, x_k$, then we can make all of the choices in $x_1 \\times x_2 \\times x_3 \\times \\ldots \\times x_k$ ways.\n",
        "\n",
        "\n",
        "**Repeated Choice Rule**: If we have $k$ independent choices to make, and the number of options for each choice is $n$, then we can make all the choices in $n^k$ ways."
      ]
    },
    {
      "cell_type": "markdown",
      "id": "e63a0126",
      "metadata": {
        "id": "e63a0126"
      },
      "source": [
        "> **EXERCISE**: If you flip 10 coins, how many possible outcomes can you get?\n",
        "\n",
        "- We have two options for each choice i.e Heads or Tails\n",
        "- And we have a total of 'k' independent Choices = 10\n",
        "- Option for each choice = n = 2"
      ]
    },
    {
      "cell_type": "code",
      "execution_count": null,
      "id": "7f80fa22",
      "metadata": {
        "id": "7f80fa22"
      },
      "outputs": [],
      "source": []
    },
    {
      "cell_type": "markdown",
      "id": "4bcb013d",
      "metadata": {
        "id": "4bcb013d"
      },
      "source": [
        "> **EXERCISE**: If you roll 6 fair dice, how many possible outcomes can you get?\n",
        "\n",
        "- Each die can return a number between 1 and 6 at each roll, therefore number of options at each independent choice is n = 6\n",
        "\n",
        "- the number of independant choices(k) = 6\n",
        "\n",
        "- There fore total outcomes can be:"
      ]
    },
    {
      "cell_type": "code",
      "execution_count": null,
      "id": "3d7882e0",
      "metadata": {
        "id": "3d7882e0"
      },
      "outputs": [],
      "source": []
    },
    {
      "cell_type": "markdown",
      "id": "636047e4",
      "metadata": {
        "id": "636047e4"
      },
      "source": [
        "> **EXERCISE**: If you flip a coin, roll a die and pick a random card from a well-shuffled deck, how many possible outcomes can you get?\n",
        "\n",
        "- Sample outcomes could be: (H,6,Spade-7), (H,1, Heart-11) and so on,\n",
        "\n",
        "So,\n",
        "- *Flipping a coin:* gives us 2 options on one throw, $=x_1$\n",
        "- *Rolling a die:* 6 options on one throw, $=x_2$ and\n",
        "- *Picking a card:* 52 options in one throw,$=x_3$\n",
        "\n",
        "- So possible number of outcomes will be $= x_1 \\times x_2 \\times x_3$"
      ]
    },
    {
      "cell_type": "code",
      "execution_count": null,
      "id": "2c605dcf",
      "metadata": {
        "id": "2c605dcf"
      },
      "outputs": [],
      "source": []
    },
    {
      "cell_type": "markdown",
      "id": "50d548d6",
      "metadata": {
        "id": "50d548d6"
      },
      "source": [
        "### Factorials"
      ]
    },
    {
      "cell_type": "markdown",
      "id": "db7d6438",
      "metadata": {
        "id": "db7d6438"
      },
      "source": [
        "> **QUESTION:** In how many ways can you seat 5 people on chairs numbered from 1 to 5?"
      ]
    },
    {
      "cell_type": "code",
      "execution_count": null,
      "id": "a7ba6eab",
      "metadata": {
        "id": "a7ba6eab"
      },
      "outputs": [],
      "source": []
    },
    {
      "cell_type": "code",
      "execution_count": null,
      "id": "6b179876",
      "metadata": {
        "id": "6b179876"
      },
      "outputs": [],
      "source": []
    },
    {
      "cell_type": "markdown",
      "id": "9e3d0faa",
      "metadata": {
        "id": "9e3d0faa"
      },
      "source": [
        "> **EXERCISE**: If you pick out all the spades from a deck of cards, in how many ways can you arrange them in your hand?\n",
        ">\n",
        "> ![](https://i.imgur.com/XVscmAe.png)\n",
        ">\n",
        "\n",
        "\n",
        "- Total number of spades: 13\n",
        "- Number of ways to arrange 'n' things in a sequence: factorial(n)"
      ]
    },
    {
      "cell_type": "code",
      "execution_count": null,
      "id": "13bcf43c",
      "metadata": {
        "id": "13bcf43c"
      },
      "outputs": [],
      "source": []
    },
    {
      "cell_type": "markdown",
      "id": "c6cd2332",
      "metadata": {
        "id": "c6cd2332"
      },
      "source": [
        "> **EXERCISE**: If you roll 6 dice together, in how many ways can you get 6 different numbers in the result e.g.  3,4,5,6,1,2.\n",
        "\n",
        "- Total combinations when we roll 6 die's together $= 6^6 = 46656$\n",
        "- Getting 6 different numbers at each throw = $6\\times5\\times4\\times3\\times2\\times1 $ i.e $6!$"
      ]
    },
    {
      "cell_type": "code",
      "execution_count": null,
      "id": "b76c5a53",
      "metadata": {
        "id": "b76c5a53"
      },
      "outputs": [],
      "source": []
    },
    {
      "cell_type": "markdown",
      "id": "8584389c",
      "metadata": {
        "id": "8584389c"
      },
      "source": [
        "### Permutations"
      ]
    },
    {
      "cell_type": "code",
      "execution_count": null,
      "id": "8f2f4226",
      "metadata": {
        "id": "8f2f4226"
      },
      "outputs": [],
      "source": []
    },
    {
      "cell_type": "markdown",
      "id": "e8921d0a",
      "metadata": {
        "id": "e8921d0a"
      },
      "source": [
        "> **EXERCISE**: You have 25 books but your bookshelf contains space for just 12 books. In how many ways can you arrange books on your bookshelf?\n",
        "\n",
        "-  $25$ Total Books and Space for $12$  \n",
        "- Using Permutations, ${}^nP_k = \\frac{n!}{(n-k)!}$\n",
        "- $n = 25, k = 12$"
      ]
    },
    {
      "cell_type": "code",
      "execution_count": null,
      "id": "6457d409",
      "metadata": {
        "id": "6457d409"
      },
      "outputs": [],
      "source": []
    },
    {
      "cell_type": "markdown",
      "id": "62216eb2",
      "metadata": {
        "id": "62216eb2"
      },
      "source": [
        "> **EXERCISE**: How many unique four letter words can you create using the English alphabet (A to Z)?\n",
        "\n",
        "- Note that: while we are creating a word we can use repeated alphabets.\n",
        "- We have 26 Total alphabets\n",
        "- We have to create a word of 4 characters, meaning we have 26 options for each individual choice of the 4 letters.\n",
        "\n",
        "- So, using *Repeated Choice Rule*, we have $n^k = {26}^4$ options to choose from.  "
      ]
    },
    {
      "cell_type": "code",
      "execution_count": null,
      "id": "8bf9f63e",
      "metadata": {
        "id": "8bf9f63e"
      },
      "outputs": [],
      "source": []
    },
    {
      "cell_type": "markdown",
      "id": "c4a57321",
      "metadata": {
        "id": "c4a57321"
      },
      "source": [
        "> **EXERCISE**: How many unique four letter words can you create using the English alphabet (A to Z), if you aren't allowed to use a letter more than once?\n",
        "\n",
        "- Since we cannot use a letter more than once, we are left with a permutation of arranging 26 alphabets into 4 letters.\n",
        "- ${}^nP_k = ^{26}P_4$"
      ]
    },
    {
      "cell_type": "code",
      "execution_count": null,
      "id": "647d289a",
      "metadata": {
        "id": "647d289a"
      },
      "outputs": [],
      "source": []
    },
    {
      "cell_type": "markdown",
      "id": "68cc788d",
      "metadata": {
        "id": "68cc788d"
      },
      "source": [
        "> **EXERCISE**: How many 3 digit numbers greater than 300 can you create using the digit 1, 2, 3, 5, 7 and 8? You are not allowed to use a digit more than once. How many of these numbers are odd?\n",
        "\n",
        "**Solution:**\n",
        "- Let's consider 2 Sets depending on first digit for our three digit number: (We can only choose from 3,5,7,8 to make our number > 300)\n",
        "    - (odd) Set 1: Where first digit can be: 3 _ _,5 _ _,7 _ _\n",
        "    - (even) Set 2: Where first digit can be: 8 _ _  \n",
        "    \n",
        "- Set 1:\n",
        "    - First digit: 3 options to choose from as mentioned above.\n",
        "    - Last digit: {1,3,5,7}i.e 4 options to make our number odd, but one of 3,5,7 has already been used so 3 options to choose from.  \n",
        "    - Middle digit: 6 total options but 2 have been used already so 4 options to choose from.\n",
        "    - So for Set-1, there are $3\\times3\\times4 $ possible ways.\n",
        "- Set 2:\n",
        "    - First digit: 1 option as mentioned above.\n",
        "    - Last digit: {1,3,5,7}i.e 4 options to make our number odd, so 4 options to choose from.  \n",
        "    - Middle digit: 6 total options but 2 have been used already so 4 options to choose from.\n",
        "    - So for Set-1, there are $1\\times4\\times4 $ possible ways."
      ]
    },
    {
      "cell_type": "code",
      "execution_count": null,
      "id": "53806234",
      "metadata": {
        "id": "53806234"
      },
      "outputs": [],
      "source": []
    },
    {
      "cell_type": "code",
      "execution_count": null,
      "id": "1f03df16",
      "metadata": {
        "id": "1f03df16"
      },
      "outputs": [],
      "source": []
    },
    {
      "cell_type": "markdown",
      "id": "624befa3",
      "metadata": {
        "id": "624befa3"
      },
      "source": [
        "> **EXERCISE**: In how many ways can you arrange 12 people in a circle?\n",
        ">\n",
        "> <img src=\"https://i.imgur.com/J738ur4.png\" width=\"360\">\n",
        "\n",
        "**Solution:**\n",
        "\n",
        " **Circular Permutations:** Unlike linear arrangements, circular arrangements don't have a start and an end. For linear arrangements, total number of ways to arrange n objects is n! But for circular permutations total number of ways to arrange n objects is (n-1)!\n",
        "\n",
        "Read more about [Circular Permutations](https://doubleroot.in/lessons/permutations-combinations/circular-permutations/)\n",
        "\n",
        "- 12 people, therefore (12-1)! = 11!"
      ]
    },
    {
      "cell_type": "code",
      "execution_count": null,
      "id": "e36c4cf5",
      "metadata": {
        "id": "e36c4cf5"
      },
      "outputs": [],
      "source": []
    },
    {
      "cell_type": "markdown",
      "id": "10415341",
      "metadata": {
        "id": "10415341"
      },
      "source": [
        "### Combinations"
      ]
    },
    {
      "cell_type": "code",
      "execution_count": null,
      "id": "4e0a284d",
      "metadata": {
        "id": "4e0a284d"
      },
      "outputs": [],
      "source": []
    },
    {
      "cell_type": "markdown",
      "id": "cda5a35d",
      "metadata": {
        "id": "cda5a35d"
      },
      "source": [
        "> **EXERCISE**: In how many ways can 22 soccer players be divided into two teams of 11 players each?\n",
        "\n",
        "- After we choose 11 players, other 11 are automatically chosen."
      ]
    },
    {
      "cell_type": "code",
      "execution_count": null,
      "id": "9cd0099f",
      "metadata": {
        "id": "9cd0099f"
      },
      "outputs": [],
      "source": []
    },
    {
      "cell_type": "markdown",
      "id": "a20bb333",
      "metadata": {
        "id": "a20bb333"
      },
      "source": [
        "> **EXERCISE**: In how many ways can you get exactly 3 heads when you toss 10 fair coins?\n"
      ]
    },
    {
      "cell_type": "code",
      "execution_count": null,
      "id": "d43b3bac",
      "metadata": {
        "id": "d43b3bac"
      },
      "outputs": [],
      "source": []
    },
    {
      "cell_type": "markdown",
      "id": "1ee9d734",
      "metadata": {
        "id": "1ee9d734"
      },
      "source": [
        "> **EXERCISE**: Suppose you pick 4 letters from the English alphabet (A to Z). How many words can you create using the 4 letters (you are allowed to use a letter more than once in a word)?\n",
        "\n",
        "- For Picking 4 alphabets we have $^{26}C_4$ ways.\n",
        "- Since letter can be repeated\n",
        "- Using Multiplication rule: k = 4, x = 4\n"
      ]
    },
    {
      "cell_type": "code",
      "execution_count": null,
      "id": "f651008a",
      "metadata": {
        "id": "f651008a"
      },
      "outputs": [],
      "source": []
    },
    {
      "cell_type": "markdown",
      "id": "14645634",
      "metadata": {
        "id": "14645634"
      },
      "source": [
        "### Probabilities"
      ]
    },
    {
      "cell_type": "markdown",
      "id": "c142f3cb",
      "metadata": {
        "id": "c142f3cb"
      },
      "source": [
        "> **EXERCISE**: If you toss 12 fair coins what is the probablity of getting 7 or more heads?\n",
        ">\n",
        "> *Hint*: $P(\\textrm{7 or more heads}) = P(\\textrm{7 heads}) + P(\\textrm{8 heads}) + P(\\textrm{9 heads}) + \\ldots$\n",
        "\n",
        "- $P(\\textrm{7 heads}) = ^7C_3 /$ Total_outcomes\n",
        "- $P(\\textrm{8 heads}) = ^8C_3 / $Total_outcomes\n",
        "- $P(\\textrm{9 heads}) = ^9C_3 / $Total_outcomes\n",
        "- $P(\\textrm{10 heads}) =^{10}C_3 / $Total_outcomes\n",
        "- $P(\\textrm{11 heads}) =^{11}C_3 / $Total_outcomes\n",
        "- $P(\\textrm{12 heads}) =^{12}C_3 / $Total_outcomes"
      ]
    },
    {
      "cell_type": "code",
      "execution_count": null,
      "id": "9228a528",
      "metadata": {
        "id": "9228a528"
      },
      "outputs": [],
      "source": []
    },
    {
      "cell_type": "code",
      "execution_count": null,
      "id": "f7b7fc0e",
      "metadata": {
        "id": "f7b7fc0e"
      },
      "outputs": [],
      "source": []
    },
    {
      "cell_type": "code",
      "execution_count": null,
      "id": "dd98fbdf",
      "metadata": {
        "id": "dd98fbdf"
      },
      "outputs": [],
      "source": []
    },
    {
      "cell_type": "code",
      "execution_count": null,
      "id": "751a09fa",
      "metadata": {
        "id": "751a09fa"
      },
      "outputs": [],
      "source": []
    },
    {
      "cell_type": "markdown",
      "id": "9925d570",
      "metadata": {
        "id": "9925d570"
      },
      "source": [
        "> **EXERCISE**: If you roll 6 fair dice together, what is the probablity of getting six different numbers in the result?\n",
        "\n",
        "- Total Outcomes = $6^6$\n",
        "- 6 options for first dice, 5 for the second and so on...\n",
        "- Therefore, 6! shall be our answer!"
      ]
    },
    {
      "cell_type": "code",
      "execution_count": null,
      "id": "aa102405",
      "metadata": {
        "id": "aa102405"
      },
      "outputs": [],
      "source": []
    },
    {
      "cell_type": "code",
      "execution_count": null,
      "id": "44c99b44",
      "metadata": {
        "id": "44c99b44"
      },
      "outputs": [],
      "source": []
    },
    {
      "cell_type": "markdown",
      "id": "7b1e5db1",
      "metadata": {
        "id": "7b1e5db1"
      },
      "source": [
        "> **EXERCISE**: If you flip a coin, roll a die and pick a random card from a well-shuffled deck, what is the probability of getting a tail, an even number and a spade?\n",
        "\n",
        "\n",
        "- A - event of flipping a coin and getting a tail - $P(A) =  1\\div2$\n",
        "- B - event of rolling a die to get an even num - $P(B) = 3\\div6$\n",
        "- C - event, picking a random card and getting a spade - $P(C) = 13\\div52$\n",
        "- Since al three are independent events, $P(A)\\times P(B) \\times P(C) $"
      ]
    },
    {
      "cell_type": "code",
      "execution_count": null,
      "id": "dc40e419",
      "metadata": {
        "id": "dc40e419"
      },
      "outputs": [],
      "source": []
    },
    {
      "cell_type": "markdown",
      "id": "da17fab7",
      "metadata": {
        "id": "da17fab7"
      },
      "source": [
        "> **EXERCISE**: If you roll 3 fair dice, what is the probability of getting a sum lower than 6?\n",
        "\n",
        "- We can create a sample space for getting the sum lower than 6.\n",
        "- (1,1,1) (1,1,2) (1,2,1) (1,1,3) (1,3,1) (2,1,1) (2,2,1) (2,1,2) (3,1,1) (1,3,1) = 10 in Total\n",
        "- Total_outcomes = $6^3$"
      ]
    },
    {
      "cell_type": "code",
      "execution_count": null,
      "id": "2c60d275",
      "metadata": {
        "id": "2c60d275"
      },
      "outputs": [],
      "source": []
    }
  ],
  "metadata": {
    "kernelspec": {
      "display_name": "Python 3",
      "language": "python",
      "name": "python3"
    },
    "language_info": {
      "codemirror_mode": {
        "name": "ipython",
        "version": 3
      },
      "file_extension": ".py",
      "mimetype": "text/x-python",
      "name": "python",
      "nbconvert_exporter": "python",
      "pygments_lexer": "ipython3",
      "version": "3.8.6"
    },
    "colab": {
      "provenance": [],
      "include_colab_link": true
    }
  },
  "nbformat": 4,
  "nbformat_minor": 5
}