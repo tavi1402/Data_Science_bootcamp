{
  "cells": [
    {
      "cell_type": "markdown",
      "metadata": {
        "id": "view-in-github",
        "colab_type": "text"
      },
      "source": [
        "<a href=\"https://colab.research.google.com/github/tavi1402/Data_Science_bootcamp/blob/main/4_2_1_interactive_visualization_plotly.ipynb\" target=\"_parent\"><img src=\"https://colab.research.google.com/assets/colab-badge.svg\" alt=\"Open In Colab\"/></a>"
      ]
    },
    {
      "cell_type": "markdown",
      "id": "78ce3641",
      "metadata": {
        "id": "78ce3641"
      },
      "source": [
        "# Interactive Visualization with Plotly\n",
        "\n",
        "This tutorial is a part of the [Zero to Data Science Bootcamp by Jovian](https://zerotodatascience.com)\n",
        "\n",
        "![](https://i.imgur.com/jPcmxke.jpg)\n",
        "\n",
        "Plotly is a Python library used for creating interactive visualizations (graphs & charts). Unlike Matplotlib and Seaborn which create static images, Plotly renders an HTML document and uses JavaScript under the hood to enable interactivity. Plotly also offers a large selection of chart types to choose from.\n"
      ]
    },
    {
      "cell_type": "markdown",
      "id": "15388f54",
      "metadata": {
        "id": "15388f54"
      },
      "source": [
        "The following topics are covered in this tutorial:\n",
        "\n",
        "- Creating figures & adding interactive elements\n",
        "- A quick tour of popular interactive charts\n",
        "- Using Plotly as a plotting backend for Pandas\n",
        "- Creating and exploring 3D graphs\n",
        "- Adding controls and animating graphs"
      ]
    },
    {
      "cell_type": "markdown",
      "id": "c8db1dff",
      "metadata": {
        "id": "c8db1dff"
      },
      "source": [
        "### How to run the code\n",
        "\n",
        "This tutorial is an executable [Jupyter notebook](https://jupyter.org) hosted on [Jovian](https://www.jovian.ai). You can _run_ this tutorial and experiment with the code examples in a couple of ways: *using free online resources* (recommended) or *on your computer*.\n",
        "\n",
        "#### Option 1: Running using free online resources (1-click, recommended)\n",
        "\n",
        "The easiest way to start executing the code is to click the **Run** button at the top of this page and select **Run on Binder**. You can also select \"Run on Colab\" or \"Run on Kaggle\", but you'll need to create an account on [Google Colab](https://colab.research.google.com) or [Kaggle](https://kaggle.com) to use these platforms.\n",
        "\n",
        "\n",
        "#### Option 2: Running on your computer locally\n",
        "\n",
        "To run the code on your computer locally, you'll need to set up [Python](https://www.python.org), download the notebook and install the required libraries. We recommend using the [Conda](https://docs.conda.io/projects/conda/en/latest/user-guide/install/) distribution of Python. Click the **Run** button at the top of this page, select the **Run Locally** option, and follow the instructions.\n",
        "\n"
      ]
    },
    {
      "cell_type": "markdown",
      "id": "01b0fe3d",
      "metadata": {
        "id": "01b0fe3d"
      },
      "source": [
        "Let's begin by installing and importing the required libraries."
      ]
    },
    {
      "cell_type": "code",
      "execution_count": null,
      "id": "524a21a5",
      "metadata": {
        "id": "524a21a5"
      },
      "outputs": [],
      "source": []
    },
    {
      "cell_type": "code",
      "execution_count": null,
      "id": "b8c88396",
      "metadata": {
        "id": "b8c88396"
      },
      "outputs": [],
      "source": []
    },
    {
      "cell_type": "markdown",
      "id": "e656defe",
      "metadata": {
        "id": "e656defe"
      },
      "source": [
        "## Creating Figures and Adding Interactive Elements\n",
        "\n",
        "Like Matplotlib, Plotly provides several low-level functions for creating and customizing figures. While they offer fine grained control over various aspects of a graph, they're quite verbose and can be cumbersome to use. We'll start out by using Plotly express, a high-level API similar to Seaborn, that allows creating and customizing charts with a single line of code.\n",
        "\n",
        "Plotly express is often imported using the alias `px`."
      ]
    },
    {
      "cell_type": "code",
      "execution_count": null,
      "id": "9ce81022",
      "metadata": {
        "id": "9ce81022"
      },
      "outputs": [],
      "source": []
    },
    {
      "cell_type": "markdown",
      "id": "1c17686d",
      "metadata": {
        "id": "1c17686d"
      },
      "source": [
        "Let's download a [country-wise population dataset](https://data.worldbank.org/indicator/SP.POP.TOTL) from World Bank Open Data."
      ]
    },
    {
      "cell_type": "code",
      "execution_count": null,
      "id": "689f792c",
      "metadata": {
        "id": "689f792c"
      },
      "outputs": [],
      "source": []
    },
    {
      "cell_type": "markdown",
      "id": "edccc75c",
      "metadata": {
        "id": "edccc75c"
      },
      "source": [
        "Let's use `px.line` to create a line chart showing the population of Hungary from 1960 to 2019."
      ]
    },
    {
      "cell_type": "code",
      "execution_count": null,
      "id": "25812c16",
      "metadata": {
        "id": "25812c16"
      },
      "outputs": [],
      "source": []
    },
    {
      "cell_type": "code",
      "execution_count": null,
      "id": "8872c668",
      "metadata": {
        "id": "8872c668"
      },
      "outputs": [],
      "source": []
    },
    {
      "cell_type": "markdown",
      "id": "efc6b2e7",
      "metadata": {
        "id": "efc6b2e7"
      },
      "source": [
        "Note the following:\n",
        "\n",
        "* `px.line` automatically picks the index of the series as the X-axis.\n",
        "* You can hover over any point on the line to view the exact value.\n",
        "* You can Zoom in and out using the controls to take a closer look at specific areas of the chart.\n",
        "* There are several other controls e.g pan, autoscale, download PNG etc.\n",
        "\n",
        "For fine grained control over various aspects of the chart, we can use the Figure object returned by `px.line`. Let's change the axis labels, chart colors, and ensure that the y axis starts at 0."
      ]
    },
    {
      "cell_type": "code",
      "execution_count": null,
      "id": "2f0a5c79",
      "metadata": {
        "id": "2f0a5c79"
      },
      "outputs": [],
      "source": []
    },
    {
      "cell_type": "code",
      "execution_count": null,
      "id": "757e519b",
      "metadata": {
        "id": "757e519b"
      },
      "outputs": [],
      "source": []
    },
    {
      "cell_type": "markdown",
      "id": "07c1b494",
      "metadata": {
        "id": "07c1b494"
      },
      "source": [
        "Here's a list of properties you can set using `update_layout`: https://plotly.com/python/reference/layout/\n",
        "\n",
        "Plotly also has built-in support for Pandas dataframes.\n",
        "\n",
        "\n",
        "**Note**: Sometimes `fig.show()` does not display the graph on your jupyter notebook then you will have to run the code shared below in a code cell.\n",
        "\n",
        "\n",
        "```\n",
        "#Import necessary libraries\n",
        "import plotly.offline as pyo\n",
        "import plotly.graph_objs as go\n",
        "#Set notebook mode to work in offline\n",
        "pyo.init_notebook_mode()\n",
        "\n",
        "```"
      ]
    },
    {
      "cell_type": "code",
      "execution_count": null,
      "id": "7c71f6a4",
      "metadata": {
        "id": "7c71f6a4"
      },
      "outputs": [],
      "source": []
    },
    {
      "cell_type": "code",
      "execution_count": null,
      "id": "9555fdd3",
      "metadata": {
        "id": "9555fdd3"
      },
      "outputs": [],
      "source": []
    },
    {
      "cell_type": "markdown",
      "id": "caf0206b",
      "metadata": {
        "id": "caf0206b"
      },
      "source": [
        "Note that apart from providing RGB hexcodes for colors, we can also use named CSS colors: https://www.w3schools.com/cssref/css_colors.asp"
      ]
    },
    {
      "cell_type": "code",
      "execution_count": null,
      "id": "77a85dd2",
      "metadata": {
        "id": "77a85dd2"
      },
      "outputs": [],
      "source": []
    },
    {
      "cell_type": "markdown",
      "id": "fb521b0f",
      "metadata": {
        "id": "fb521b0f"
      },
      "source": [
        "Switching from a line chart to a bar chart is simply a matter of replacing `plt.line` with `plt.bar`."
      ]
    },
    {
      "cell_type": "code",
      "execution_count": null,
      "id": "cc2c6e95",
      "metadata": {
        "id": "cc2c6e95"
      },
      "outputs": [],
      "source": []
    },
    {
      "cell_type": "markdown",
      "id": "b347b306",
      "metadata": {
        "id": "b347b306"
      },
      "source": [
        "> **EXERCISE**: Compare the annual population increase of India and China using a line chart. Which of the two countries is growing faster? Hint: Use `population_df.diff()`"
      ]
    },
    {
      "cell_type": "code",
      "execution_count": null,
      "id": "82f0406d",
      "metadata": {
        "id": "82f0406d"
      },
      "outputs": [],
      "source": []
    },
    {
      "cell_type": "code",
      "execution_count": null,
      "id": "b6635237",
      "metadata": {
        "id": "b6635237"
      },
      "outputs": [],
      "source": []
    },
    {
      "cell_type": "markdown",
      "id": "0c20f69c",
      "metadata": {
        "id": "0c20f69c"
      },
      "source": [
        "> **EXERCISE**: Compare the populations of 10 most populous African countries (as of 2019) over the last 50 years using line charts."
      ]
    },
    {
      "cell_type": "code",
      "execution_count": null,
      "id": "8541720a",
      "metadata": {
        "id": "8541720a"
      },
      "outputs": [],
      "source": []
    },
    {
      "cell_type": "code",
      "execution_count": null,
      "id": "7e883339",
      "metadata": {
        "id": "7e883339"
      },
      "outputs": [],
      "source": []
    },
    {
      "cell_type": "markdown",
      "id": "982dffa6",
      "metadata": {
        "id": "982dffa6"
      },
      "source": [
        "> **EXERCISE**: Explore the documentation for `px.line`, `fig.update_layout` and `fig.update_yaxes`. Use their arguments to style the charts you've created."
      ]
    },
    {
      "cell_type": "code",
      "execution_count": null,
      "id": "0a008bfa",
      "metadata": {
        "id": "0a008bfa"
      },
      "outputs": [],
      "source": []
    },
    {
      "cell_type": "code",
      "execution_count": null,
      "id": "09edc13c",
      "metadata": {
        "id": "09edc13c"
      },
      "outputs": [],
      "source": []
    },
    {
      "cell_type": "code",
      "execution_count": null,
      "id": "337864b9",
      "metadata": {
        "id": "337864b9"
      },
      "outputs": [],
      "source": []
    },
    {
      "cell_type": "markdown",
      "id": "6387e3af",
      "metadata": {
        "id": "6387e3af"
      },
      "source": [
        "## A quick tour of popular interactive charts\n",
        "\n",
        "Plotly express provides more than 30 figure for creating different types of figures. Let's explore some popular interactive visualization techniques. We'll use the [built-in datasets](https://plotly.com/python-api-reference/generated/plotly.express.data.html) from `px.data` to demonstrate their usage."
      ]
    },
    {
      "cell_type": "markdown",
      "id": "e78c7e01",
      "metadata": {
        "id": "e78c7e01"
      },
      "source": [
        "### Scatter Plot\n",
        "\n"
      ]
    },
    {
      "cell_type": "code",
      "execution_count": null,
      "id": "821009d0",
      "metadata": {
        "id": "821009d0"
      },
      "outputs": [],
      "source": []
    },
    {
      "cell_type": "code",
      "execution_count": null,
      "id": "f92480a2",
      "metadata": {
        "id": "f92480a2"
      },
      "outputs": [],
      "source": []
    },
    {
      "cell_type": "markdown",
      "id": "1c43e716",
      "metadata": {
        "id": "1c43e716"
      },
      "source": [
        "> **EXERCISE**: Download the dataset `px.data.gapminder()` and visualize the relationship between GDP per capita and life expectancy in the year 2007 using a scatter plot. Set proper titles for the figure and the axes. Color the dots using the values in `continent` column, and show the country name and population on hover."
      ]
    },
    {
      "cell_type": "code",
      "execution_count": null,
      "id": "c6650250",
      "metadata": {
        "id": "c6650250"
      },
      "outputs": [],
      "source": []
    },
    {
      "cell_type": "code",
      "execution_count": null,
      "id": "a6a7063c",
      "metadata": {
        "id": "a6a7063c"
      },
      "outputs": [],
      "source": []
    },
    {
      "cell_type": "markdown",
      "id": "e3cbdef8",
      "metadata": {
        "id": "e3cbdef8"
      },
      "source": [
        "### Bar Chart\n",
        "\n",
        "We'll use the dataset `medals_long`, which contains represents the medal table for Olympic Short Track Speed Skating for the top three nations as of 2020."
      ]
    },
    {
      "cell_type": "code",
      "execution_count": null,
      "id": "6da7a164",
      "metadata": {
        "id": "6da7a164"
      },
      "outputs": [],
      "source": []
    },
    {
      "cell_type": "code",
      "execution_count": null,
      "id": "abe3c43e",
      "metadata": {
        "id": "abe3c43e"
      },
      "outputs": [],
      "source": []
    },
    {
      "cell_type": "markdown",
      "id": "06b02988",
      "metadata": {
        "id": "06b02988"
      },
      "source": [
        "> **EXERCISE**: Look up the documentation of `px.bar` and show the bars in the above chart side by side instead of stacking them on top of each other."
      ]
    },
    {
      "cell_type": "code",
      "execution_count": null,
      "id": "10c60342",
      "metadata": {
        "id": "10c60342"
      },
      "outputs": [],
      "source": []
    },
    {
      "cell_type": "code",
      "execution_count": null,
      "id": "bd45ccce",
      "metadata": {
        "id": "bd45ccce"
      },
      "outputs": [],
      "source": []
    },
    {
      "cell_type": "markdown",
      "id": "24d81fc6",
      "metadata": {
        "id": "24d81fc6"
      },
      "source": [
        "> **EXERCISE**: Replicate the above example with a different dataset. Find a dataset online or pick one from this page: https://plotly.com/python-api-reference/generated/plotly.express.data.html"
      ]
    },
    {
      "cell_type": "code",
      "execution_count": null,
      "id": "3d75c8d1",
      "metadata": {
        "id": "3d75c8d1"
      },
      "outputs": [],
      "source": []
    },
    {
      "cell_type": "code",
      "execution_count": null,
      "id": "eab31962",
      "metadata": {
        "id": "eab31962"
      },
      "outputs": [],
      "source": []
    },
    {
      "cell_type": "code",
      "execution_count": null,
      "id": "69f05875",
      "metadata": {
        "id": "69f05875"
      },
      "outputs": [],
      "source": []
    },
    {
      "cell_type": "markdown",
      "id": "cf71f7ce",
      "metadata": {
        "id": "cf71f7ce"
      },
      "source": [
        "### Treemap and Sunburst"
      ]
    },
    {
      "cell_type": "code",
      "execution_count": null,
      "id": "7d5ffcaf",
      "metadata": {
        "id": "7d5ffcaf"
      },
      "outputs": [],
      "source": []
    },
    {
      "cell_type": "code",
      "execution_count": null,
      "id": "6e3dfbe8",
      "metadata": {
        "id": "6e3dfbe8"
      },
      "outputs": [],
      "source": []
    },
    {
      "cell_type": "markdown",
      "id": "04ad4eb6",
      "metadata": {
        "id": "04ad4eb6"
      },
      "source": [
        "> **EXERCISE**: Replace `px.treemap` with `px.sunburst` in the above example and study the figure that's created. Can you tell what it represents?"
      ]
    },
    {
      "cell_type": "code",
      "execution_count": null,
      "id": "67cf08c4",
      "metadata": {
        "id": "67cf08c4"
      },
      "outputs": [],
      "source": []
    },
    {
      "cell_type": "code",
      "execution_count": null,
      "id": "2a5a7008",
      "metadata": {
        "id": "2a5a7008"
      },
      "outputs": [],
      "source": []
    },
    {
      "cell_type": "markdown",
      "id": "3e6b88ef",
      "metadata": {
        "id": "3e6b88ef"
      },
      "source": [
        "> **EXERCISE**: Replicate the above example with a different dataset. Find a dataset online or pick one from this page: https://plotly.com/python-api-reference/generated/plotly.express.data.html"
      ]
    },
    {
      "cell_type": "code",
      "execution_count": null,
      "id": "ce490d34",
      "metadata": {
        "id": "ce490d34"
      },
      "outputs": [],
      "source": []
    },
    {
      "cell_type": "code",
      "execution_count": null,
      "id": "e310879d",
      "metadata": {
        "id": "e310879d"
      },
      "outputs": [],
      "source": []
    },
    {
      "cell_type": "markdown",
      "id": "93854269",
      "metadata": {
        "id": "93854269"
      },
      "source": [
        "Learn more about Treemap and Sunburst charts here:\n",
        "\n",
        "* https://plotly.com/python/treemaps/\n",
        "* https://plotly.com/python/sunburst-charts/\n"
      ]
    },
    {
      "cell_type": "markdown",
      "id": "7be20780",
      "metadata": {
        "id": "7be20780"
      },
      "source": [
        "### Histogram and Rug Plots"
      ]
    },
    {
      "cell_type": "code",
      "execution_count": null,
      "id": "2fae8944",
      "metadata": {
        "id": "2fae8944"
      },
      "outputs": [],
      "source": []
    },
    {
      "cell_type": "code",
      "execution_count": null,
      "id": "831f752d",
      "metadata": {
        "scrolled": false,
        "id": "831f752d"
      },
      "outputs": [],
      "source": []
    },
    {
      "cell_type": "code",
      "execution_count": null,
      "id": "548e3768",
      "metadata": {
        "id": "548e3768"
      },
      "outputs": [],
      "source": []
    },
    {
      "cell_type": "code",
      "execution_count": null,
      "id": "e81183a1",
      "metadata": {
        "id": "e81183a1"
      },
      "outputs": [],
      "source": []
    },
    {
      "cell_type": "markdown",
      "id": "83d36f24",
      "metadata": {
        "id": "83d36f24"
      },
      "source": [
        "> **EXERCISE**: Replace `\"rug\"` with `\"box\"` or `\"violin\"` in the above example and study the charts. Do you understand what the marginal plots represent?"
      ]
    },
    {
      "cell_type": "code",
      "execution_count": null,
      "id": "1eede71e",
      "metadata": {
        "id": "1eede71e"
      },
      "outputs": [],
      "source": []
    },
    {
      "cell_type": "code",
      "execution_count": null,
      "id": "f3f16e21",
      "metadata": {
        "id": "f3f16e21"
      },
      "outputs": [],
      "source": []
    },
    {
      "cell_type": "markdown",
      "id": "852d4b42",
      "metadata": {
        "id": "852d4b42"
      },
      "source": [
        "> **EXERCISE**: Replicate the above example with a different dataset. Find a dataset online or pick one from this page: https://plotly.com/python-api-reference/generated/plotly.express.data.html"
      ]
    },
    {
      "cell_type": "code",
      "execution_count": null,
      "id": "4d2db8c4",
      "metadata": {
        "id": "4d2db8c4"
      },
      "outputs": [],
      "source": []
    },
    {
      "cell_type": "code",
      "execution_count": null,
      "id": "7ab8b843",
      "metadata": {
        "id": "7ab8b843"
      },
      "outputs": [],
      "source": []
    },
    {
      "cell_type": "markdown",
      "id": "634bb1e9",
      "metadata": {
        "id": "634bb1e9"
      },
      "source": [
        "Learn more about histograms in Plotly here: https://plotly.com/python/histograms/"
      ]
    },
    {
      "cell_type": "markdown",
      "id": "47a5044c",
      "metadata": {
        "id": "47a5044c"
      },
      "source": [
        "### Polar Chart"
      ]
    },
    {
      "cell_type": "code",
      "execution_count": null,
      "id": "8a16ffd5",
      "metadata": {
        "id": "8a16ffd5"
      },
      "outputs": [],
      "source": []
    },
    {
      "cell_type": "code",
      "execution_count": null,
      "id": "542de72d",
      "metadata": {
        "scrolled": false,
        "id": "542de72d"
      },
      "outputs": [],
      "source": []
    },
    {
      "cell_type": "markdown",
      "id": "f7006e59",
      "metadata": {
        "id": "f7006e59"
      },
      "source": [
        "> **EXERCISE**: Replace `line_polar` with `scatter_polar` or `bar_polar` in the example above and interpret the chart. When would you use one vs. the other?"
      ]
    },
    {
      "cell_type": "code",
      "execution_count": null,
      "id": "ddf5698d",
      "metadata": {
        "id": "ddf5698d"
      },
      "outputs": [],
      "source": []
    },
    {
      "cell_type": "code",
      "execution_count": null,
      "id": "ddf7fbe1",
      "metadata": {
        "id": "ddf7fbe1"
      },
      "outputs": [],
      "source": []
    },
    {
      "cell_type": "markdown",
      "id": "d679cb5b",
      "metadata": {
        "id": "d679cb5b"
      },
      "source": [
        "> **EXERCISE**: Replicate the above example with a different dataset. Find a dataset online or pick one from this page: https://plotly.com/python-api-reference/generated/plotly.express.data.html"
      ]
    },
    {
      "cell_type": "code",
      "execution_count": null,
      "id": "b0a3f83b",
      "metadata": {
        "id": "b0a3f83b"
      },
      "outputs": [],
      "source": []
    },
    {
      "cell_type": "code",
      "execution_count": null,
      "id": "516a80d3",
      "metadata": {
        "id": "516a80d3"
      },
      "outputs": [],
      "source": []
    },
    {
      "cell_type": "markdown",
      "id": "4024fa87",
      "metadata": {
        "id": "4024fa87"
      },
      "source": [
        "Learn more about polar charts in plotly here: https://plotly.com/python/polar-chart/"
      ]
    },
    {
      "cell_type": "code",
      "execution_count": null,
      "id": "756ed530",
      "metadata": {
        "id": "756ed530"
      },
      "outputs": [],
      "source": []
    },
    {
      "cell_type": "markdown",
      "id": "3a8220fd",
      "metadata": {
        "id": "3a8220fd"
      },
      "source": [
        "## Using Plotly as a plotting backend for Pandas\n",
        "\n",
        "We can configure Pandas to use Plotly as the backend for the `plot` methods of Pandas data frames & series. You can learn more about this here: https://plotly.com/python/pandas-backend/.\n",
        "\n",
        "The Plotly backend can be enabled as follows:"
      ]
    },
    {
      "cell_type": "code",
      "execution_count": null,
      "id": "17027172",
      "metadata": {
        "id": "17027172"
      },
      "outputs": [],
      "source": []
    },
    {
      "cell_type": "markdown",
      "id": "742dc76f",
      "metadata": {
        "id": "742dc76f"
      },
      "source": [
        "The Plotly backend supports the following kinds of Pandas plots: `scatter`, `line`, `area`, `bar`, `barh`, `hist` and `box`. Let's look at some examples."
      ]
    },
    {
      "cell_type": "code",
      "execution_count": null,
      "id": "a52c5f21",
      "metadata": {
        "id": "a52c5f21"
      },
      "outputs": [],
      "source": []
    },
    {
      "cell_type": "code",
      "execution_count": null,
      "id": "fd763be6",
      "metadata": {
        "id": "fd763be6"
      },
      "outputs": [],
      "source": []
    },
    {
      "cell_type": "code",
      "execution_count": null,
      "id": "f5e198a1",
      "metadata": {
        "id": "f5e198a1"
      },
      "outputs": [],
      "source": []
    },
    {
      "cell_type": "code",
      "execution_count": null,
      "id": "2a3eda20",
      "metadata": {
        "id": "2a3eda20"
      },
      "outputs": [],
      "source": []
    },
    {
      "cell_type": "code",
      "execution_count": null,
      "id": "f9bdca44",
      "metadata": {
        "id": "f9bdca44"
      },
      "outputs": [],
      "source": []
    },
    {
      "cell_type": "code",
      "execution_count": null,
      "id": "bedaf608",
      "metadata": {
        "id": "bedaf608"
      },
      "outputs": [],
      "source": []
    },
    {
      "cell_type": "markdown",
      "id": "8011bb69",
      "metadata": {
        "id": "8011bb69"
      },
      "source": [
        "> **EXERCISE**: Replicate the above examples with different datasets. Find a dataset online or pick from this page: https://plotly.com/python-api-reference/generated/plotly.express.data.html"
      ]
    },
    {
      "cell_type": "code",
      "execution_count": null,
      "id": "26711c99",
      "metadata": {
        "id": "26711c99"
      },
      "outputs": [],
      "source": []
    },
    {
      "cell_type": "code",
      "execution_count": null,
      "id": "34bdf7db",
      "metadata": {
        "id": "34bdf7db"
      },
      "outputs": [],
      "source": []
    },
    {
      "cell_type": "code",
      "execution_count": null,
      "id": "1d12985e",
      "metadata": {
        "id": "1d12985e"
      },
      "outputs": [],
      "source": []
    },
    {
      "cell_type": "markdown",
      "id": "2ccc7064",
      "metadata": {
        "id": "2ccc7064"
      },
      "source": [
        "## Creating and exploring 3D graphs\n",
        "\n",
        "Plotly can also be used to create 3D graphs. Let's look at an example of 3D surface plots, by plotting the elevation of a mountain."
      ]
    },
    {
      "cell_type": "code",
      "execution_count": null,
      "id": "e1b9d09a",
      "metadata": {
        "id": "e1b9d09a"
      },
      "outputs": [],
      "source": []
    },
    {
      "cell_type": "markdown",
      "id": "96e0aacb",
      "metadata": {
        "id": "96e0aacb"
      },
      "source": [
        "We need to use the low level `graph_objects` API to create a 3d surface and attach it to a figure."
      ]
    },
    {
      "cell_type": "code",
      "execution_count": null,
      "id": "a4904125",
      "metadata": {
        "id": "a4904125"
      },
      "outputs": [],
      "source": []
    },
    {
      "cell_type": "markdown",
      "id": "f0cf663f",
      "metadata": {
        "id": "f0cf663f"
      },
      "source": [
        "Plotly express can be used to create 3D linear and scatter plots."
      ]
    },
    {
      "cell_type": "code",
      "execution_count": null,
      "id": "c6b008e6",
      "metadata": {
        "id": "c6b008e6"
      },
      "outputs": [],
      "source": []
    },
    {
      "cell_type": "code",
      "execution_count": null,
      "id": "23fee2ad",
      "metadata": {
        "id": "23fee2ad"
      },
      "outputs": [],
      "source": []
    },
    {
      "cell_type": "code",
      "execution_count": null,
      "id": "000b5fce",
      "metadata": {
        "id": "000b5fce"
      },
      "outputs": [],
      "source": []
    },
    {
      "cell_type": "markdown",
      "id": "927420d5",
      "metadata": {
        "id": "927420d5"
      },
      "source": [
        "> **EXERCISE**: Create some 3D surface, line and scatter plots using some other datasets."
      ]
    },
    {
      "cell_type": "code",
      "execution_count": null,
      "id": "4652f127",
      "metadata": {
        "id": "4652f127"
      },
      "outputs": [],
      "source": []
    },
    {
      "cell_type": "code",
      "execution_count": null,
      "id": "cf1fc28e",
      "metadata": {
        "id": "cf1fc28e"
      },
      "outputs": [],
      "source": []
    },
    {
      "cell_type": "code",
      "execution_count": null,
      "id": "3331f52b",
      "metadata": {
        "id": "3331f52b"
      },
      "outputs": [],
      "source": []
    },
    {
      "cell_type": "markdown",
      "id": "0487025a",
      "metadata": {
        "id": "0487025a"
      },
      "source": [
        "## Adding controls and animating graphs\n",
        "\n",
        "Plotly express graphs can be animated by specifying an `animation_frame` column. Additionally, an `animation_group` can be specified to uniquely identify objects across frames. An animated graph also provides slider controls to skip to any frame."
      ]
    },
    {
      "cell_type": "code",
      "execution_count": null,
      "id": "90502d3a",
      "metadata": {
        "id": "90502d3a"
      },
      "outputs": [],
      "source": []
    },
    {
      "cell_type": "code",
      "execution_count": null,
      "id": "9b36b05a",
      "metadata": {
        "id": "9b36b05a"
      },
      "outputs": [],
      "source": []
    },
    {
      "cell_type": "code",
      "execution_count": null,
      "id": "1ba6c6d6",
      "metadata": {
        "id": "1ba6c6d6"
      },
      "outputs": [],
      "source": []
    },
    {
      "cell_type": "code",
      "execution_count": null,
      "id": "ca78d7f8",
      "metadata": {
        "id": "ca78d7f8"
      },
      "outputs": [],
      "source": []
    },
    {
      "cell_type": "markdown",
      "id": "2f1bf889",
      "metadata": {
        "id": "2f1bf889"
      },
      "source": [
        "> **EXERCISE**: Create some graphs with controls an animations using other datasets."
      ]
    },
    {
      "cell_type": "code",
      "execution_count": null,
      "id": "b56880a9",
      "metadata": {
        "id": "b56880a9"
      },
      "outputs": [],
      "source": []
    },
    {
      "cell_type": "code",
      "execution_count": null,
      "id": "beb6d0ea",
      "metadata": {
        "id": "beb6d0ea"
      },
      "outputs": [],
      "source": []
    },
    {
      "cell_type": "markdown",
      "id": "8b19e0ac",
      "metadata": {
        "id": "8b19e0ac"
      },
      "source": [
        "Learn more about Plotly animations and custom controls here: https://plotly.com/python/#controls"
      ]
    },
    {
      "cell_type": "code",
      "execution_count": null,
      "id": "7c231f77",
      "metadata": {
        "id": "7c231f77"
      },
      "outputs": [],
      "source": []
    },
    {
      "cell_type": "markdown",
      "id": "7c9476fc",
      "metadata": {
        "id": "7c9476fc"
      },
      "source": [
        "## Summary and Further Reading\n",
        "\n",
        "We've covered the following topics in this tutorial:\n",
        "\n",
        "- Creating figures & adding interactive elements\n",
        "- Replicating common graphs using Plotly\n",
        "- Using Plotly as a plotting backend for Pandas\n",
        "- Creating and exploring 3D graphs\n",
        "- Adding controls and animating graphs\n",
        "\n"
      ]
    },
    {
      "cell_type": "markdown",
      "id": "9948fdc5",
      "metadata": {
        "id": "9948fdc5"
      },
      "source": [
        "## Questions for Revision\n",
        "1.\tWhat is Plotly?\n",
        "2.\tHow is Plotly different from Matplotlib and Seaborn?\n",
        "3.\tHow do you plot line chart with Plotly? Illustrate with an example.\n",
        "4.\tWhat is the difference between `plt.bar`, `sns.barplot` and `px.bar`?\n",
        "5.\tWhat are the popular interactive charts in Plotly?\n",
        "6.\tWhat is the `color_discrete_sequence parameter` in Plotly?\n",
        "7.\tHow do you set titles for axes in Plotly?\n",
        "8.\tWhat is `hover_data` parameter in Plotly?\n",
        "9.\tHow do you plot sunburst chart with Plotly? Illustrate with an example.\n",
        "10.\tIllustrate the usage of a Treemap in Plotly.\n",
        "11.\tWhat is marginal parameter in Plotly?\n",
        "12.\tWhat is a polar chart? Illustrate with an example.\n",
        "13.\tHow can you use Plotly as backend for plot methods in Pandas dataframes and series?\n",
        "14.\tWhat is a boxplot? Plot it using Plotly.\n",
        "15.\tWhat is `graph_objects` in Plotly?\n",
        "16.\tHow do you import `graph_objects`?\n",
        "17.\tWhat kind of 3D plots can you be plotted using Plotly?\n",
        "18.\tWhat is an animated graph? Illustrate with an example.\n",
        "19.\tWhat is an `animation_frame`?\n",
        "20.\tWhat is an `animation_group`?"
      ]
    },
    {
      "cell_type": "markdown",
      "id": "857c673a",
      "metadata": {
        "id": "857c673a"
      },
      "source": [
        "## Solutions for Exercises\n"
      ]
    },
    {
      "cell_type": "markdown",
      "id": "274ca270",
      "metadata": {
        "id": "274ca270"
      },
      "source": [
        "> **EXERCISE**: Compare the annual population increase of India and China using a line chart. Which of the two countries is growing faster? Hint: Use `population_df.diff()`"
      ]
    },
    {
      "cell_type": "code",
      "execution_count": null,
      "id": "b713f6a4",
      "metadata": {
        "id": "b713f6a4"
      },
      "outputs": [],
      "source": []
    },
    {
      "cell_type": "code",
      "execution_count": null,
      "id": "e117dc76",
      "metadata": {
        "id": "e117dc76"
      },
      "outputs": [],
      "source": []
    },
    {
      "cell_type": "markdown",
      "id": "92b08830",
      "metadata": {
        "id": "92b08830"
      },
      "source": [
        "**OBSERVATION**: Toppr - Rapid growth of population is known as *Exponential growth* where the population is increased with the constant increasing birth rate. From the above graph, China has a rapid growth and decrease in population where as India has a consistent growth of population over the years."
      ]
    },
    {
      "cell_type": "markdown",
      "id": "f7a41987",
      "metadata": {
        "id": "f7a41987"
      },
      "source": [
        "> **EXERCISE**: Compare the populations of 10 most populous African countries (as of 2019) over the last 50 years using line charts."
      ]
    },
    {
      "cell_type": "code",
      "execution_count": null,
      "id": "36cdb102",
      "metadata": {
        "id": "36cdb102"
      },
      "outputs": [],
      "source": []
    },
    {
      "cell_type": "code",
      "execution_count": null,
      "id": "5b3c393e",
      "metadata": {
        "id": "5b3c393e"
      },
      "outputs": [],
      "source": []
    },
    {
      "cell_type": "code",
      "execution_count": null,
      "id": "668580c3",
      "metadata": {
        "id": "668580c3"
      },
      "outputs": [],
      "source": []
    },
    {
      "cell_type": "markdown",
      "id": "a76e50ea",
      "metadata": {
        "id": "a76e50ea"
      },
      "source": [
        "**OBSERVATION**: Nigeria has the highest population growth in the last 50 years."
      ]
    },
    {
      "cell_type": "markdown",
      "id": "8c49b681",
      "metadata": {
        "id": "8c49b681"
      },
      "source": [
        "> **EXERCISE**: Explore the documentation for `px.line`, `fig.update_layout` and `fig.update_yaxes`. Use their arguments to style the charts you've created."
      ]
    },
    {
      "cell_type": "code",
      "execution_count": null,
      "id": "0d962f47",
      "metadata": {
        "id": "0d962f47"
      },
      "outputs": [],
      "source": []
    },
    {
      "cell_type": "markdown",
      "id": "30af4517",
      "metadata": {
        "id": "30af4517"
      },
      "source": [
        "> **EXERCISE**: Download the dataset `px.data.gapminder()` and visualize the relationship between GDP per capita and life expectancy in the year 2007 using a scatter plot. Set proper titles for the figure and the axes. Color the dots using the values in `continent` column, and show the country name and population on hover."
      ]
    },
    {
      "cell_type": "code",
      "execution_count": null,
      "id": "d2207e42",
      "metadata": {
        "id": "d2207e42"
      },
      "outputs": [],
      "source": []
    },
    {
      "cell_type": "code",
      "execution_count": null,
      "id": "e0e24d68",
      "metadata": {
        "id": "e0e24d68"
      },
      "outputs": [],
      "source": []
    },
    {
      "cell_type": "code",
      "execution_count": null,
      "id": "773ad501",
      "metadata": {
        "id": "773ad501"
      },
      "outputs": [],
      "source": []
    },
    {
      "cell_type": "markdown",
      "id": "e2317bb1",
      "metadata": {
        "id": "e2317bb1"
      },
      "source": [
        "**OBSERVATION**: GDP per capita and life expectancy in the year 2007 seem to have a 'curvilinear relationship'.\n",
        "- Curvilinear relationship - A Curvilinear Relationship is a type of relationship between two variables where as one variable increases, so does the other variable, but only up to a certain point, after which, as one variable continues to increase, the other decreases."
      ]
    },
    {
      "cell_type": "markdown",
      "id": "bc521574",
      "metadata": {
        "id": "bc521574"
      },
      "source": [
        "> **EXERCISE**: Look up the documentation of `px.bar` and show the bars in the above chart side by side instead of stacking them on top of each other.\n",
        "\n",
        "- [*Reference to Bar Chart `long_df` visualization.*](https://jovian.ai/aakashns/interactive-visualization-plotly/v/18#C42)"
      ]
    },
    {
      "cell_type": "code",
      "execution_count": null,
      "id": "01414572",
      "metadata": {
        "id": "01414572"
      },
      "outputs": [],
      "source": []
    },
    {
      "cell_type": "markdown",
      "id": "af2674a2",
      "metadata": {
        "id": "af2674a2"
      },
      "source": [
        "> **EXERCISE**: Replicate the above example with a different dataset. Find a dataset online or pick one from this page: https://plotly.com/python-api-reference/generated/plotly.express.data.html\n",
        "\n",
        "- [*Reference to Bar chart visualization exercise*](https://jovian.ai/aakashns/interactive-visualization-plotly/v/18#C42)"
      ]
    },
    {
      "cell_type": "code",
      "execution_count": null,
      "id": "25c0ff2c",
      "metadata": {
        "id": "25c0ff2c"
      },
      "outputs": [],
      "source": []
    },
    {
      "cell_type": "code",
      "execution_count": null,
      "id": "9c9ef51e",
      "metadata": {
        "id": "9c9ef51e"
      },
      "outputs": [],
      "source": []
    },
    {
      "cell_type": "code",
      "execution_count": null,
      "id": "5ca24a68",
      "metadata": {
        "id": "5ca24a68"
      },
      "outputs": [],
      "source": []
    },
    {
      "cell_type": "markdown",
      "id": "6735907d",
      "metadata": {
        "id": "6735907d"
      },
      "source": [
        "**OBSERVATION**: Tips for male during the dinner time of the day are highest. Insteresting. Evening/Night shifts are taken up by men mostly and that could possibly be the reason for the huge difference."
      ]
    },
    {
      "cell_type": "markdown",
      "id": "95629c06",
      "metadata": {
        "id": "95629c06"
      },
      "source": [
        "> **EXERCISE**: Replicate the above example with a different dataset. Find a dataset online or pick one from this page: https://plotly.com/python-api-reference/generated/plotly.express.data.html\n",
        "\n",
        "- [*Reference to treemap and sunburst visualization exercise.*](https://jovian.ai/aakashns/interactive-visualization-plotly/v/18#C52)"
      ]
    },
    {
      "cell_type": "code",
      "execution_count": null,
      "id": "af99fe03",
      "metadata": {
        "id": "af99fe03"
      },
      "outputs": [],
      "source": []
    },
    {
      "cell_type": "code",
      "execution_count": null,
      "id": "efc3f6a1",
      "metadata": {
        "id": "efc3f6a1"
      },
      "outputs": [],
      "source": []
    },
    {
      "cell_type": "code",
      "execution_count": null,
      "id": "a4da7e8e",
      "metadata": {
        "id": "a4da7e8e"
      },
      "outputs": [],
      "source": []
    },
    {
      "cell_type": "markdown",
      "id": "d63d3e7f",
      "metadata": {
        "id": "d63d3e7f"
      },
      "source": [
        "**OBSERVATION**: Coderre has highest number of votes with maximum plurality wins and Joly has has the least number of votes with only two majority wins."
      ]
    },
    {
      "cell_type": "markdown",
      "id": "3eec8fbc",
      "metadata": {
        "id": "3eec8fbc"
      },
      "source": [
        "> **EXERCISE**: Replace `\"rug\"` with `\"box\"` or `\"violin\"` in the above example and study the charts. Do you understand what the marginal plots represent?\n",
        "\n",
        "- [*Reference to `tips_df` histogram visualization.*](https://jovian.ai/aakashns/interactive-visualization-plotly/v/18#C62)"
      ]
    },
    {
      "cell_type": "code",
      "execution_count": null,
      "id": "1db0e347",
      "metadata": {
        "id": "1db0e347"
      },
      "outputs": [],
      "source": []
    },
    {
      "cell_type": "code",
      "execution_count": null,
      "id": "9b3e6212",
      "metadata": {
        "id": "9b3e6212"
      },
      "outputs": [],
      "source": []
    },
    {
      "cell_type": "markdown",
      "id": "99495bda",
      "metadata": {
        "id": "99495bda"
      },
      "source": [
        "**OBSERVATION**: Marginal plots represent the small subplots above the main plot, which show the distribution of data along only one dimension."
      ]
    },
    {
      "cell_type": "markdown",
      "id": "f753cc99",
      "metadata": {
        "id": "f753cc99"
      },
      "source": [
        "> **EXERCISE**: Replicate the above example with a different dataset. Find a dataset online or pick one from this page: https://plotly.com/python-api-reference/generated/plotly.express.data.html\n",
        "\n",
        "- [*Reference to histogram visualization exercise.*](https://jovian.ai/aakashns/interactive-visualization-plotly/v/18#C62)"
      ]
    },
    {
      "cell_type": "code",
      "execution_count": null,
      "id": "1931d18e",
      "metadata": {
        "id": "1931d18e"
      },
      "outputs": [],
      "source": []
    },
    {
      "cell_type": "code",
      "execution_count": null,
      "id": "1b2be3ca",
      "metadata": {
        "id": "1b2be3ca"
      },
      "outputs": [],
      "source": []
    },
    {
      "cell_type": "code",
      "execution_count": null,
      "id": "e2ccc509",
      "metadata": {
        "id": "e2ccc509"
      },
      "outputs": [],
      "source": []
    },
    {
      "cell_type": "code",
      "execution_count": null,
      "id": "c2cd2b85",
      "metadata": {
        "id": "c2cd2b85"
      },
      "outputs": [],
      "source": []
    },
    {
      "cell_type": "markdown",
      "id": "66ef9a96",
      "metadata": {
        "id": "66ef9a96"
      },
      "source": [
        "**OBSERVATION**: `car_hours` seem to follow a normal distribution with few outliers."
      ]
    },
    {
      "cell_type": "markdown",
      "id": "a624bfad",
      "metadata": {
        "id": "a624bfad"
      },
      "source": [
        "> **EXERCISE**: Replace `line_polar` with `scatter_polar` or `bar_polar` in the example above and interpret the chart. When would you use one vs. the other?\n",
        "\n",
        "- [*Reference to `wind_df` polar chart visualization.*](https://jovian.ai/aakashns/interactive-visualization-plotly/v/18#C74)"
      ]
    },
    {
      "cell_type": "code",
      "execution_count": null,
      "id": "60aecf81",
      "metadata": {
        "id": "60aecf81"
      },
      "outputs": [],
      "source": []
    },
    {
      "cell_type": "code",
      "execution_count": null,
      "id": "2908b2fa",
      "metadata": {
        "id": "2908b2fa"
      },
      "outputs": [],
      "source": []
    },
    {
      "cell_type": "markdown",
      "id": "aa62e727",
      "metadata": {
        "id": "aa62e727"
      },
      "source": [
        "**OBSERVATION**: Bar polar charts are mostly used for categorical data where as scatter polar charts are used for data containing amount and direction values."
      ]
    },
    {
      "cell_type": "markdown",
      "id": "a8447e54",
      "metadata": {
        "id": "a8447e54"
      },
      "source": [
        "> **EXERCISE**: Replicate the above example with a different dataset. Find a dataset online or pick one from this page: https://plotly.com/python-api-reference/generated/plotly.express.data.html\n",
        "\n",
        "- [*Reference to polar chart visualization exercise.*](https://jovian.ai/aakashns/interactive-visualization-plotly/v/18#C74)"
      ]
    },
    {
      "cell_type": "code",
      "execution_count": null,
      "id": "48d23345",
      "metadata": {
        "id": "48d23345"
      },
      "outputs": [],
      "source": []
    },
    {
      "cell_type": "code",
      "execution_count": null,
      "id": "76a8c1b2",
      "metadata": {
        "id": "76a8c1b2"
      },
      "outputs": [],
      "source": []
    },
    {
      "cell_type": "markdown",
      "id": "a9f866eb",
      "metadata": {
        "id": "a9f866eb"
      },
      "source": [
        "**OBSERVATION**: Dinner time of the day during weekends recorded the highest paid bills at the restaurant."
      ]
    },
    {
      "cell_type": "code",
      "execution_count": null,
      "id": "4bfda642",
      "metadata": {
        "id": "4bfda642"
      },
      "outputs": [],
      "source": []
    },
    {
      "cell_type": "markdown",
      "id": "f21ac14d",
      "metadata": {
        "id": "f21ac14d"
      },
      "source": [
        "**OBSERVATION**: Dinner time of the day during weekends received the maximum number of tips."
      ]
    },
    {
      "cell_type": "markdown",
      "id": "b8ad0357",
      "metadata": {
        "id": "b8ad0357"
      },
      "source": [
        "> **EXERCISE**: Replicate the above examples with different datasets. Find a dataset online or pick from this page: https://plotly.com/python-api-reference/generated/plotly.express.data.html\n",
        "\n",
        "- [*Reference to Using Plotly as a plotting backend for Pandas exercise.*](https://jovian.ai/aakashns/interactive-visualization-plotly/v/18#C83)"
      ]
    },
    {
      "cell_type": "code",
      "execution_count": null,
      "id": "036b8ea1",
      "metadata": {
        "id": "036b8ea1"
      },
      "outputs": [],
      "source": []
    },
    {
      "cell_type": "code",
      "execution_count": null,
      "id": "a28d6e8e",
      "metadata": {
        "id": "a28d6e8e"
      },
      "outputs": [],
      "source": []
    },
    {
      "cell_type": "markdown",
      "id": "cb1709bd",
      "metadata": {
        "id": "cb1709bd"
      },
      "source": [
        "**OBSERVATION**: Coderre has highest number of votes with maximum plurality wins and Joly has has the least number of votes with only two majority wins."
      ]
    },
    {
      "cell_type": "code",
      "execution_count": null,
      "id": "7e16fe79",
      "metadata": {
        "id": "7e16fe79"
      },
      "outputs": [],
      "source": []
    },
    {
      "cell_type": "markdown",
      "id": "587216e6",
      "metadata": {
        "id": "587216e6"
      },
      "source": [
        "**OBSERVATION**: Coderre has the maximum number of entries in the `elections` dataset indicating that this person must have won elections in many districts."
      ]
    },
    {
      "cell_type": "code",
      "execution_count": null,
      "id": "be0ca858",
      "metadata": {
        "id": "be0ca858"
      },
      "outputs": [],
      "source": []
    },
    {
      "cell_type": "markdown",
      "id": "7c580a6b",
      "metadata": {
        "id": "7c580a6b"
      },
      "source": [
        "**OBSERVATION**: Europe and African continents have more outliers when compared to other continents in Life Expextancy. Asia has the highest Life Expectancy with 82.6 years and Africa the least Life Expectancy with 23.5 years."
      ]
    },
    {
      "cell_type": "markdown",
      "id": "724e1089",
      "metadata": {
        "id": "724e1089"
      },
      "source": [
        "> **EXERCISE**: Create some 3D surface, line and scatter plots using some other datasets.\n",
        "\n",
        "- [*Reference to Creating and exploring 3D graphs exercise.*](https://jovian.ai/aakashns/interactive-visualization-plotly/v/18#C96)"
      ]
    },
    {
      "cell_type": "code",
      "execution_count": null,
      "id": "93df16bb",
      "metadata": {
        "id": "93df16bb"
      },
      "outputs": [],
      "source": []
    },
    {
      "cell_type": "markdown",
      "id": "755663fb",
      "metadata": {
        "id": "755663fb"
      },
      "source": [
        "> **EXERCISE**: Create some graphs with controls an animations using other datasets.\n",
        "\n",
        "- [*Reference to Adding controls and animating graphs exercise.*](https://jovian.ai/aakashns/interactive-visualization-plotly/v/18#C108)"
      ]
    },
    {
      "cell_type": "code",
      "execution_count": null,
      "id": "d1f54550",
      "metadata": {
        "id": "d1f54550"
      },
      "outputs": [],
      "source": []
    },
    {
      "cell_type": "code",
      "execution_count": null,
      "id": "d0297e61",
      "metadata": {
        "id": "d0297e61"
      },
      "outputs": [],
      "source": []
    }
  ],
  "metadata": {
    "kernelspec": {
      "display_name": "Python 3 (ipykernel)",
      "language": "python",
      "name": "python3"
    },
    "language_info": {
      "codemirror_mode": {
        "name": "ipython",
        "version": 3
      },
      "file_extension": ".py",
      "mimetype": "text/x-python",
      "name": "python",
      "nbconvert_exporter": "python",
      "pygments_lexer": "ipython3",
      "version": "3.9.7"
    },
    "colab": {
      "provenance": [],
      "include_colab_link": true
    }
  },
  "nbformat": 4,
  "nbformat_minor": 5
}