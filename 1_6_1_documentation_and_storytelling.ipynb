{
  "cells": [
    {
      "cell_type": "markdown",
      "metadata": {
        "id": "view-in-github",
        "colab_type": "text"
      },
      "source": [
        "<a href=\"https://colab.research.google.com/github/tavi1402/Data_Science_bootcamp/blob/main/1_6_1_documentation_and_storytelling.ipynb\" target=\"_parent\"><img src=\"https://colab.research.google.com/assets/colab-badge.svg\" alt=\"Open In Colab\"/></a>"
      ]
    },
    {
      "cell_type": "markdown",
      "id": "grand-mercy",
      "metadata": {
        "id": "grand-mercy"
      },
      "source": [
        "# Documentation and Storytelling with Data Science Projects\n",
        "\n",
        "![](https://i.imgur.com/uhbehlX.png)\n",
        "\n",
        "This tutorial attempts to answer the following questions:\n",
        "\n",
        "- What is documentation, and why is it important?\n",
        "- Is documenting a project really worth the time?\n",
        "- What is the _right_ way to document a data science project?\n",
        "- What is storytelling, and how does it apply to data science projects?\n",
        "- How to add images or screenshots to a data science project?\n",
        "- What is code quality, and why is it important?\n",
        "- How to write high-quality code for a data science project?\n",
        "- How to convert experimental code into functions?\n",
        "- What is the right way to end a project?\n",
        "- When is a project *finished*? There's always more to do!\n",
        "- What to do if a project is taking too long?\n",
        "\n",
        "Practice with your own project, or use this one: https://jovian.ai/aakashns/web-scraping-project-rough"
      ]
    },
    {
      "cell_type": "markdown",
      "id": "growing-decade",
      "metadata": {
        "id": "growing-decade"
      },
      "source": [
        "## Going From a Rough Notebook to a Final Notebook\n",
        "\n",
        "It's common practice to start out with a rough notebook where you can experiment with the code and get the project into a working state. Once you've implemented all the functionality, it's a good idea to start a fresh \"final\" notebook which removes the experimental & messy code and replaces the with clear explanations & high-quality code.\n",
        "\n",
        "\n",
        "### Step 1: Notebook Title, Introduction and Outline\n",
        "\n",
        "* Come up with an interesting title that informs and intrigues the reader\n",
        "* Introduce the topic and the dataset and explain why this is a project worth doing\n",
        "* Provide a step-by-step outline of project to set the right expectations\n",
        "\n",
        "\n",
        "### Step 2: Section Headings, Descriptions & Images\n",
        "\n",
        "* Add section & sub-section Markdown headings matching the outline\n",
        "* Add a description at the beginning and summary at the end of each section\n",
        "* Add images, screenshots and illustrations wherever possible\n",
        "\n",
        "\n",
        "### Step 3: Reusable functions for each section\n",
        "\n",
        "* At the end of each section, create reusable function(s) to capture the functionality\n",
        "* Ensure that functions have proper inputs & outputs, and don't use global variables\n",
        "* Avoid carrying over too many variables or outputs form section to section\n",
        "\n",
        "\n",
        "### Step 4: Code quality and explanations for code cells\n",
        "\n",
        "* Use appropriate and memorable names for variables, functions and classes\n",
        "* Add comments within functions to explain what each line/block of code does\n",
        "* Add markdown cells before/after code cells explaining what the code does\n",
        "\n",
        "\n",
        "### Step 5: Summary, Future Work and References\n",
        "\n",
        "* Include a step-by-step summary of the project, show all relevant code together if feasible.\n",
        "* Include links to references, documentation, stack overflow answers etc.\n",
        "* Include ideas for future work, and encourage the reader to try it out\n",
        "\n",
        "\n",
        "### Step 6: (Optional) Writing a Blog Post with Embedded Code\n",
        "\n",
        "* Use a platform like [Medium.com](https://medium.com) for writing blog posts\n",
        "* [Embed code cells and outputs](https://jovian.ai/docs/user-guide/embed.html) from Jovian notebooks into the blog post\n",
        "* Submit your blog post to a publication like Jovian, Towards Data Science etc. for greater visibility.\n",
        "\n",
        "\n",
        "\n",
        "You can also record a video presenting your project. Check out [this YouTube playlist](https://www.youtube.com/watch?v=45njMELBWwI&list=PLyMom0n-MBrp7QcQ-dGW_Vz0HAZxQHkZr) for some examples.\n",
        "\n",
        "\n"
      ]
    },
    {
      "cell_type": "code",
      "execution_count": null,
      "id": "liberal-jackson",
      "metadata": {
        "id": "liberal-jackson"
      },
      "outputs": [],
      "source": []
    },
    {
      "cell_type": "code",
      "execution_count": null,
      "id": "fleet-disease",
      "metadata": {
        "id": "fleet-disease"
      },
      "outputs": [],
      "source": []
    },
    {
      "cell_type": "code",
      "execution_count": null,
      "id": "confidential-tissue",
      "metadata": {
        "id": "confidential-tissue"
      },
      "outputs": [],
      "source": []
    }
  ],
  "metadata": {
    "kernelspec": {
      "display_name": "Python 3",
      "language": "python",
      "name": "python3"
    },
    "language_info": {
      "codemirror_mode": {
        "name": "ipython",
        "version": 3
      },
      "file_extension": ".py",
      "mimetype": "text/x-python",
      "name": "python",
      "nbconvert_exporter": "python",
      "pygments_lexer": "ipython3",
      "version": "3.6.13"
    },
    "colab": {
      "provenance": [],
      "include_colab_link": true
    }
  },
  "nbformat": 4,
  "nbformat_minor": 5
}