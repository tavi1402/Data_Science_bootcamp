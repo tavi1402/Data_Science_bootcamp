{
  "cells": [
    {
      "cell_type": "markdown",
      "metadata": {
        "id": "view-in-github",
        "colab_type": "text"
      },
      "source": [
        "<a href=\"https://colab.research.google.com/github/tavi1402/Data_Science_bootcamp/blob/main/Assignment_6_data_analysis_visualization_practice_assignment.ipynb\" target=\"_parent\"><img src=\"https://colab.research.google.com/assets/colab-badge.svg\" alt=\"Open In Colab\"/></a>"
      ]
    },
    {
      "cell_type": "markdown",
      "id": "f03d1ebe",
      "metadata": {
        "id": "f03d1ebe"
      },
      "source": [
        "# Assignment - Data Analysis and Visualization Practice\n",
        "\n",
        "This assignment is part of the *Data Science Bootcamp* by Jovian\n",
        "\n",
        "As you go through this notebook, you will find the symbol **???** in certain places. To complete this assignment, you must replace all the **???** with appropriate values, expressions, or statements to ensure that the notebook runs properly end-to-end.\n",
        "\n",
        "**Guidelines**\n",
        "\n",
        "1. Make sure to run all the code cells in order. Otherwise, you may get errors like `NameError` for undefined variables.\n",
        "2. Do not change variable names, delete cells, or disturb other existing code. It may cause problems during evaluation.\n",
        "3. In some cases, you may need to add some code cells or new statements before or after the line of code containing the **???**.\n",
        "4. Since you'll be using a temporary online service for code execution, save your work by pressing `Command/CTRL + s` at regular intervals.\n",
        "5. Questions marked **(Optional)** will not be considered for evaluation and can be skipped. They are for your learning.\n",
        "\n",
        "\n",
        "**How to Get Help**\n",
        "\n",
        "If you are stuck, you can ask for help on the Bootcamp Slack group. Post errors, ask for hints, and help others. Follow these guidelines for getting help:\n",
        "\n",
        "- Try to spend at least 20 minutes solving a problem before asking for help. But if you've been stuck on a problem for more than 2 hours, please ask for help!\n",
        "- When you ask a question, make sure to explain what you have tried already and share your code and results if possible. This makes it easy for others to help you faster.\n",
        "- Try to be as specific as possible when asking a question. E.g. \"I can't solve question 3\" is too vague. \"I can't figure out how to create separate lines for different countries in question 1. Here's what I've tried: ...\" is specific enough.\n",
        "- Help others by resolving their errors, suggesting the correct approaches and sharing relevant resources. **Please don't share a complete working solution code on Slack** to give others a chance to solve the problem themselves.\n"
      ]
    },
    {
      "cell_type": "markdown",
      "id": "3e1a8810",
      "metadata": {
        "id": "3e1a8810"
      },
      "source": [
        "## How to run the code and save your work\n",
        "\n",
        "\n",
        "**Option 1: Running using free online resources (1-click, recommended):** The easiest way to start executing the code is to click the **Run** button at the top of this page and select **Run on Colab**. [Follow these instructions](https://jovian.ai/docs/user-guide/run.html#run-on-colab) to connect your Google Drive with Jovian.\n",
        "\n",
        "\n",
        "**Option 2: Running on your computer locally:** To run the code on your computer locally, you'll need to set up [Python](https://www.python.org), download the notebook and install the required libraries. We recommend using the [Conda](https://docs.conda.io/projects/conda/en/latest/user-guide/install/) distribution of Python. Click the **Run** button at the top of this page, select the **Run Locally** option, and follow the instructions.\n",
        "\n",
        "**Saving your work**: You can save a snapshot of the assignment to your [Jovian](https://jovian.ai) profile, so that you can access it later and continue your work. Keep saving your work by pressing `Command/CTRL + s` from time to time."
      ]
    },
    {
      "cell_type": "markdown",
      "id": "1c214a45",
      "metadata": {
        "id": "1c214a45"
      },
      "source": [
        "Let's begin by installing and importing the required libraries."
      ]
    },
    {
      "cell_type": "code",
      "execution_count": null,
      "id": "363f48e0",
      "metadata": {
        "id": "363f48e0"
      },
      "outputs": [],
      "source": [
        "#restart the kernel after installation\n",
        "!pip install numpy pandas-profiling matplotlib seaborn plotly folium opendatasets wordcloud --quiet --upgrade"
      ]
    },
    {
      "cell_type": "code",
      "execution_count": null,
      "id": "61d49683",
      "metadata": {
        "id": "61d49683"
      },
      "outputs": [],
      "source": [
        "import numpy as np\n",
        "import pandas as pd\n",
        "import opendatasets as od\n",
        "import matplotlib.pyplot as plt\n",
        "import seaborn as sns\n",
        "import plotly.express as px\n",
        "import folium\n",
        "import wordcloud"
      ]
    },
    {
      "cell_type": "markdown",
      "id": "6a6363d9",
      "metadata": {
        "id": "6a6363d9"
      },
      "source": [
        "> **QUESTION 1 (Line Chart)**: The Gapminder dataset provides population data from 1952 to 2007 (at 5 year intervals) for several countries around the world. Compare the populations of the European countries France, United Kingdom, Italy, Germany and Spain over this period using a line chart. Make appropriate modifications to the chart title, axis titles, legend, figure size, font size, colors etc. to make the chart readable and visually appealing.\n",
        ">\n",
        "> Hints (not all of these may be useful):\n",
        ">\n",
        "> - You can use either Matplotlib or Plotly to create this chart\n",
        "> - To select the data for the given countries, you may find the `isin` method of a Pandas series useful"
      ]
    },
    {
      "cell_type": "code",
      "execution_count": null,
      "id": "82ffb625",
      "metadata": {
        "id": "82ffb625"
      },
      "outputs": [],
      "source": [
        "gapminder_url = 'https://raw.githubusercontent.com/plotly/datasets/master/gapminderDataFiveYear.csv'"
      ]
    },
    {
      "cell_type": "code",
      "execution_count": null,
      "id": "62d221e2",
      "metadata": {
        "id": "62d221e2"
      },
      "outputs": [],
      "source": [
        "gapminder_df = pd.read_csv(gapminder_url)"
      ]
    },
    {
      "cell_type": "code",
      "execution_count": null,
      "id": "7986536c",
      "metadata": {
        "scrolled": false,
        "id": "7986536c",
        "outputId": "f29e9b38-a707-4688-c000-1113ccba6897"
      },
      "outputs": [
        {
          "data": {
            "text/html": [
              "<div>\n",
              "<style scoped>\n",
              "    .dataframe tbody tr th:only-of-type {\n",
              "        vertical-align: middle;\n",
              "    }\n",
              "\n",
              "    .dataframe tbody tr th {\n",
              "        vertical-align: top;\n",
              "    }\n",
              "\n",
              "    .dataframe thead th {\n",
              "        text-align: right;\n",
              "    }\n",
              "</style>\n",
              "<table border=\"1\" class=\"dataframe\">\n",
              "  <thead>\n",
              "    <tr style=\"text-align: right;\">\n",
              "      <th></th>\n",
              "      <th>country</th>\n",
              "      <th>year</th>\n",
              "      <th>pop</th>\n",
              "      <th>continent</th>\n",
              "      <th>lifeExp</th>\n",
              "      <th>gdpPercap</th>\n",
              "    </tr>\n",
              "  </thead>\n",
              "  <tbody>\n",
              "    <tr>\n",
              "      <th>0</th>\n",
              "      <td>Afghanistan</td>\n",
              "      <td>1952</td>\n",
              "      <td>8425333.0</td>\n",
              "      <td>Asia</td>\n",
              "      <td>28.801</td>\n",
              "      <td>779.445314</td>\n",
              "    </tr>\n",
              "    <tr>\n",
              "      <th>1</th>\n",
              "      <td>Afghanistan</td>\n",
              "      <td>1957</td>\n",
              "      <td>9240934.0</td>\n",
              "      <td>Asia</td>\n",
              "      <td>30.332</td>\n",
              "      <td>820.853030</td>\n",
              "    </tr>\n",
              "    <tr>\n",
              "      <th>2</th>\n",
              "      <td>Afghanistan</td>\n",
              "      <td>1962</td>\n",
              "      <td>10267083.0</td>\n",
              "      <td>Asia</td>\n",
              "      <td>31.997</td>\n",
              "      <td>853.100710</td>\n",
              "    </tr>\n",
              "    <tr>\n",
              "      <th>3</th>\n",
              "      <td>Afghanistan</td>\n",
              "      <td>1967</td>\n",
              "      <td>11537966.0</td>\n",
              "      <td>Asia</td>\n",
              "      <td>34.020</td>\n",
              "      <td>836.197138</td>\n",
              "    </tr>\n",
              "    <tr>\n",
              "      <th>4</th>\n",
              "      <td>Afghanistan</td>\n",
              "      <td>1972</td>\n",
              "      <td>13079460.0</td>\n",
              "      <td>Asia</td>\n",
              "      <td>36.088</td>\n",
              "      <td>739.981106</td>\n",
              "    </tr>\n",
              "    <tr>\n",
              "      <th>...</th>\n",
              "      <td>...</td>\n",
              "      <td>...</td>\n",
              "      <td>...</td>\n",
              "      <td>...</td>\n",
              "      <td>...</td>\n",
              "      <td>...</td>\n",
              "    </tr>\n",
              "    <tr>\n",
              "      <th>1699</th>\n",
              "      <td>Zimbabwe</td>\n",
              "      <td>1987</td>\n",
              "      <td>9216418.0</td>\n",
              "      <td>Africa</td>\n",
              "      <td>62.351</td>\n",
              "      <td>706.157306</td>\n",
              "    </tr>\n",
              "    <tr>\n",
              "      <th>1700</th>\n",
              "      <td>Zimbabwe</td>\n",
              "      <td>1992</td>\n",
              "      <td>10704340.0</td>\n",
              "      <td>Africa</td>\n",
              "      <td>60.377</td>\n",
              "      <td>693.420786</td>\n",
              "    </tr>\n",
              "    <tr>\n",
              "      <th>1701</th>\n",
              "      <td>Zimbabwe</td>\n",
              "      <td>1997</td>\n",
              "      <td>11404948.0</td>\n",
              "      <td>Africa</td>\n",
              "      <td>46.809</td>\n",
              "      <td>792.449960</td>\n",
              "    </tr>\n",
              "    <tr>\n",
              "      <th>1702</th>\n",
              "      <td>Zimbabwe</td>\n",
              "      <td>2002</td>\n",
              "      <td>11926563.0</td>\n",
              "      <td>Africa</td>\n",
              "      <td>39.989</td>\n",
              "      <td>672.038623</td>\n",
              "    </tr>\n",
              "    <tr>\n",
              "      <th>1703</th>\n",
              "      <td>Zimbabwe</td>\n",
              "      <td>2007</td>\n",
              "      <td>12311143.0</td>\n",
              "      <td>Africa</td>\n",
              "      <td>43.487</td>\n",
              "      <td>469.709298</td>\n",
              "    </tr>\n",
              "  </tbody>\n",
              "</table>\n",
              "<p>1704 rows × 6 columns</p>\n",
              "</div>"
            ],
            "text/plain": [
              "          country  year         pop continent  lifeExp   gdpPercap\n",
              "0     Afghanistan  1952   8425333.0      Asia   28.801  779.445314\n",
              "1     Afghanistan  1957   9240934.0      Asia   30.332  820.853030\n",
              "2     Afghanistan  1962  10267083.0      Asia   31.997  853.100710\n",
              "3     Afghanistan  1967  11537966.0      Asia   34.020  836.197138\n",
              "4     Afghanistan  1972  13079460.0      Asia   36.088  739.981106\n",
              "...           ...   ...         ...       ...      ...         ...\n",
              "1699     Zimbabwe  1987   9216418.0    Africa   62.351  706.157306\n",
              "1700     Zimbabwe  1992  10704340.0    Africa   60.377  693.420786\n",
              "1701     Zimbabwe  1997  11404948.0    Africa   46.809  792.449960\n",
              "1702     Zimbabwe  2002  11926563.0    Africa   39.989  672.038623\n",
              "1703     Zimbabwe  2007  12311143.0    Africa   43.487  469.709298\n",
              "\n",
              "[1704 rows x 6 columns]"
            ]
          },
          "execution_count": 13,
          "metadata": {},
          "output_type": "execute_result"
        }
      ],
      "source": [
        "gapminder_df"
      ]
    },
    {
      "cell_type": "code",
      "execution_count": null,
      "id": "f3abd0ea",
      "metadata": {
        "id": "f3abd0ea"
      },
      "outputs": [],
      "source": [
        "countries = ['France', 'United Kingdom', 'Italy', 'Germany', 'Spain']"
      ]
    },
    {
      "cell_type": "code",
      "execution_count": null,
      "id": "7e2da7de",
      "metadata": {
        "id": "7e2da7de"
      },
      "outputs": [],
      "source": [
        "???"
      ]
    },
    {
      "cell_type": "code",
      "execution_count": null,
      "id": "ae9f2a99",
      "metadata": {
        "id": "ae9f2a99"
      },
      "outputs": [],
      "source": []
    },
    {
      "cell_type": "code",
      "execution_count": null,
      "id": "bd0d612b",
      "metadata": {
        "id": "bd0d612b"
      },
      "outputs": [],
      "source": []
    },
    {
      "cell_type": "markdown",
      "id": "166abfd1",
      "metadata": {
        "id": "166abfd1"
      },
      "source": [
        "Let's save our work before continuing. Press `Command/CTRL + s`"
      ]
    },
    {
      "cell_type": "markdown",
      "id": "0d45e4de",
      "metadata": {
        "id": "0d45e4de"
      },
      "source": [
        "> **QUESTION 2 (Scatter Plot)**: `diamonds_url` points to a CSV file containing various attributes like carat, cut, color, clarity, price etc. for over 53,000 diamonds. Visualize the relationship between the carat (size of diamond) and price using a scatter plot. Instead of using the entire dataset for this visualization, just pick the diamonds with a clarity `\"SI2\"` and color `\"E\"`. Use the values of the \"cut\" column to color the dots in the scatter plot. Make appropriate modifications to the chart title, axis titles, legend, figure size, font size, colors etc. to make the chart readable and visually appealing.\n",
        ">\n",
        "> Hints (not all of these may be useful):\n",
        "> - You can use Seaborn or Plotly to create the scatter plot for this dataset\n",
        "> - Check [this stackoverflow answer](https://stackoverflow.com/questions/22591174/pandas-multiple-conditions-while-indexing-data-frame-unexpected-behavior) for selecting data frame rows using multiple conditions.\n",
        "\n"
      ]
    },
    {
      "cell_type": "code",
      "execution_count": null,
      "id": "f88b3ae8",
      "metadata": {
        "id": "f88b3ae8"
      },
      "outputs": [],
      "source": [
        "diamonds_url = 'https://raw.githubusercontent.com/mwaskom/seaborn-data/master/diamonds.csv'"
      ]
    },
    {
      "cell_type": "code",
      "execution_count": null,
      "id": "f23a51bf",
      "metadata": {
        "id": "f23a51bf"
      },
      "outputs": [],
      "source": [
        "diamonds_df = pd.read_csv(diamonds_url)"
      ]
    },
    {
      "cell_type": "code",
      "execution_count": null,
      "id": "d220035a",
      "metadata": {
        "id": "d220035a",
        "outputId": "0869cfb3-3f00-4249-c5f0-e295eb053bd2"
      },
      "outputs": [
        {
          "data": {
            "text/html": [
              "<div>\n",
              "<style scoped>\n",
              "    .dataframe tbody tr th:only-of-type {\n",
              "        vertical-align: middle;\n",
              "    }\n",
              "\n",
              "    .dataframe tbody tr th {\n",
              "        vertical-align: top;\n",
              "    }\n",
              "\n",
              "    .dataframe thead th {\n",
              "        text-align: right;\n",
              "    }\n",
              "</style>\n",
              "<table border=\"1\" class=\"dataframe\">\n",
              "  <thead>\n",
              "    <tr style=\"text-align: right;\">\n",
              "      <th></th>\n",
              "      <th>carat</th>\n",
              "      <th>cut</th>\n",
              "      <th>color</th>\n",
              "      <th>clarity</th>\n",
              "      <th>depth</th>\n",
              "      <th>table</th>\n",
              "      <th>price</th>\n",
              "      <th>x</th>\n",
              "      <th>y</th>\n",
              "      <th>z</th>\n",
              "    </tr>\n",
              "  </thead>\n",
              "  <tbody>\n",
              "    <tr>\n",
              "      <th>0</th>\n",
              "      <td>0.23</td>\n",
              "      <td>Ideal</td>\n",
              "      <td>E</td>\n",
              "      <td>SI2</td>\n",
              "      <td>61.5</td>\n",
              "      <td>55.0</td>\n",
              "      <td>326</td>\n",
              "      <td>3.95</td>\n",
              "      <td>3.98</td>\n",
              "      <td>2.43</td>\n",
              "    </tr>\n",
              "    <tr>\n",
              "      <th>1</th>\n",
              "      <td>0.21</td>\n",
              "      <td>Premium</td>\n",
              "      <td>E</td>\n",
              "      <td>SI1</td>\n",
              "      <td>59.8</td>\n",
              "      <td>61.0</td>\n",
              "      <td>326</td>\n",
              "      <td>3.89</td>\n",
              "      <td>3.84</td>\n",
              "      <td>2.31</td>\n",
              "    </tr>\n",
              "    <tr>\n",
              "      <th>2</th>\n",
              "      <td>0.23</td>\n",
              "      <td>Good</td>\n",
              "      <td>E</td>\n",
              "      <td>VS1</td>\n",
              "      <td>56.9</td>\n",
              "      <td>65.0</td>\n",
              "      <td>327</td>\n",
              "      <td>4.05</td>\n",
              "      <td>4.07</td>\n",
              "      <td>2.31</td>\n",
              "    </tr>\n",
              "    <tr>\n",
              "      <th>3</th>\n",
              "      <td>0.29</td>\n",
              "      <td>Premium</td>\n",
              "      <td>I</td>\n",
              "      <td>VS2</td>\n",
              "      <td>62.4</td>\n",
              "      <td>58.0</td>\n",
              "      <td>334</td>\n",
              "      <td>4.20</td>\n",
              "      <td>4.23</td>\n",
              "      <td>2.63</td>\n",
              "    </tr>\n",
              "    <tr>\n",
              "      <th>4</th>\n",
              "      <td>0.31</td>\n",
              "      <td>Good</td>\n",
              "      <td>J</td>\n",
              "      <td>SI2</td>\n",
              "      <td>63.3</td>\n",
              "      <td>58.0</td>\n",
              "      <td>335</td>\n",
              "      <td>4.34</td>\n",
              "      <td>4.35</td>\n",
              "      <td>2.75</td>\n",
              "    </tr>\n",
              "    <tr>\n",
              "      <th>...</th>\n",
              "      <td>...</td>\n",
              "      <td>...</td>\n",
              "      <td>...</td>\n",
              "      <td>...</td>\n",
              "      <td>...</td>\n",
              "      <td>...</td>\n",
              "      <td>...</td>\n",
              "      <td>...</td>\n",
              "      <td>...</td>\n",
              "      <td>...</td>\n",
              "    </tr>\n",
              "    <tr>\n",
              "      <th>53935</th>\n",
              "      <td>0.72</td>\n",
              "      <td>Ideal</td>\n",
              "      <td>D</td>\n",
              "      <td>SI1</td>\n",
              "      <td>60.8</td>\n",
              "      <td>57.0</td>\n",
              "      <td>2757</td>\n",
              "      <td>5.75</td>\n",
              "      <td>5.76</td>\n",
              "      <td>3.50</td>\n",
              "    </tr>\n",
              "    <tr>\n",
              "      <th>53936</th>\n",
              "      <td>0.72</td>\n",
              "      <td>Good</td>\n",
              "      <td>D</td>\n",
              "      <td>SI1</td>\n",
              "      <td>63.1</td>\n",
              "      <td>55.0</td>\n",
              "      <td>2757</td>\n",
              "      <td>5.69</td>\n",
              "      <td>5.75</td>\n",
              "      <td>3.61</td>\n",
              "    </tr>\n",
              "    <tr>\n",
              "      <th>53937</th>\n",
              "      <td>0.70</td>\n",
              "      <td>Very Good</td>\n",
              "      <td>D</td>\n",
              "      <td>SI1</td>\n",
              "      <td>62.8</td>\n",
              "      <td>60.0</td>\n",
              "      <td>2757</td>\n",
              "      <td>5.66</td>\n",
              "      <td>5.68</td>\n",
              "      <td>3.56</td>\n",
              "    </tr>\n",
              "    <tr>\n",
              "      <th>53938</th>\n",
              "      <td>0.86</td>\n",
              "      <td>Premium</td>\n",
              "      <td>H</td>\n",
              "      <td>SI2</td>\n",
              "      <td>61.0</td>\n",
              "      <td>58.0</td>\n",
              "      <td>2757</td>\n",
              "      <td>6.15</td>\n",
              "      <td>6.12</td>\n",
              "      <td>3.74</td>\n",
              "    </tr>\n",
              "    <tr>\n",
              "      <th>53939</th>\n",
              "      <td>0.75</td>\n",
              "      <td>Ideal</td>\n",
              "      <td>D</td>\n",
              "      <td>SI2</td>\n",
              "      <td>62.2</td>\n",
              "      <td>55.0</td>\n",
              "      <td>2757</td>\n",
              "      <td>5.83</td>\n",
              "      <td>5.87</td>\n",
              "      <td>3.64</td>\n",
              "    </tr>\n",
              "  </tbody>\n",
              "</table>\n",
              "<p>53940 rows × 10 columns</p>\n",
              "</div>"
            ],
            "text/plain": [
              "       carat        cut color clarity  depth  table  price     x     y     z\n",
              "0       0.23      Ideal     E     SI2   61.5   55.0    326  3.95  3.98  2.43\n",
              "1       0.21    Premium     E     SI1   59.8   61.0    326  3.89  3.84  2.31\n",
              "2       0.23       Good     E     VS1   56.9   65.0    327  4.05  4.07  2.31\n",
              "3       0.29    Premium     I     VS2   62.4   58.0    334  4.20  4.23  2.63\n",
              "4       0.31       Good     J     SI2   63.3   58.0    335  4.34  4.35  2.75\n",
              "...      ...        ...   ...     ...    ...    ...    ...   ...   ...   ...\n",
              "53935   0.72      Ideal     D     SI1   60.8   57.0   2757  5.75  5.76  3.50\n",
              "53936   0.72       Good     D     SI1   63.1   55.0   2757  5.69  5.75  3.61\n",
              "53937   0.70  Very Good     D     SI1   62.8   60.0   2757  5.66  5.68  3.56\n",
              "53938   0.86    Premium     H     SI2   61.0   58.0   2757  6.15  6.12  3.74\n",
              "53939   0.75      Ideal     D     SI2   62.2   55.0   2757  5.83  5.87  3.64\n",
              "\n",
              "[53940 rows x 10 columns]"
            ]
          },
          "execution_count": 27,
          "metadata": {},
          "output_type": "execute_result"
        }
      ],
      "source": [
        "diamonds_df"
      ]
    },
    {
      "cell_type": "code",
      "execution_count": null,
      "id": "316aecff",
      "metadata": {
        "id": "316aecff"
      },
      "outputs": [],
      "source": [
        "???"
      ]
    },
    {
      "cell_type": "code",
      "execution_count": null,
      "id": "1e1acbdd",
      "metadata": {
        "id": "1e1acbdd"
      },
      "outputs": [],
      "source": []
    },
    {
      "cell_type": "code",
      "execution_count": null,
      "id": "35da0be7",
      "metadata": {
        "id": "35da0be7"
      },
      "outputs": [],
      "source": []
    },
    {
      "cell_type": "markdown",
      "id": "837b91aa",
      "metadata": {
        "id": "837b91aa"
      },
      "source": [
        "Let's save our work before continuing. Press `Command/CTRL + s`"
      ]
    },
    {
      "cell_type": "markdown",
      "id": "6c675f1d",
      "metadata": {
        "id": "6c675f1d"
      },
      "source": [
        "> **QUESTION 3 (Histogram and Box Plot):** The Planets dataset contains details about the 1,000+ extrasolar planets discovered up to 2014. Visualize the distribution of the masses of the planets (expressed as a multiple of the mass of Jupiter), using a histogram and a box plot. Make appropriate modifications to the chart title, axis titles, legend, figure size, font size, colors etc. to make the chart readable and visually appealing.\n",
        ">\n",
        "> Hints:\n",
        ">\n",
        "> - You use use Matplotlib, Seaborn or Plotly to create these plots\n",
        "> - If you're using Plotly, you can show both charts together (use the `marginal` argument of `px.histogram`)"
      ]
    },
    {
      "cell_type": "code",
      "execution_count": null,
      "id": "94986003",
      "metadata": {
        "id": "94986003"
      },
      "outputs": [],
      "source": [
        "planets_csv = 'https://raw.githubusercontent.com/mwaskom/seaborn-data/master/planets.csv'"
      ]
    },
    {
      "cell_type": "code",
      "execution_count": null,
      "id": "891c7154",
      "metadata": {
        "id": "891c7154"
      },
      "outputs": [],
      "source": [
        "planets_df = pd.read_csv(planets_csv)"
      ]
    },
    {
      "cell_type": "code",
      "execution_count": null,
      "id": "98a14bd5",
      "metadata": {
        "id": "98a14bd5",
        "outputId": "e4f9481f-ff18-48fc-9860-4d07a6a32f93"
      },
      "outputs": [
        {
          "data": {
            "text/html": [
              "<div>\n",
              "<style scoped>\n",
              "    .dataframe tbody tr th:only-of-type {\n",
              "        vertical-align: middle;\n",
              "    }\n",
              "\n",
              "    .dataframe tbody tr th {\n",
              "        vertical-align: top;\n",
              "    }\n",
              "\n",
              "    .dataframe thead th {\n",
              "        text-align: right;\n",
              "    }\n",
              "</style>\n",
              "<table border=\"1\" class=\"dataframe\">\n",
              "  <thead>\n",
              "    <tr style=\"text-align: right;\">\n",
              "      <th></th>\n",
              "      <th>method</th>\n",
              "      <th>number</th>\n",
              "      <th>orbital_period</th>\n",
              "      <th>mass</th>\n",
              "      <th>distance</th>\n",
              "      <th>year</th>\n",
              "    </tr>\n",
              "  </thead>\n",
              "  <tbody>\n",
              "    <tr>\n",
              "      <th>0</th>\n",
              "      <td>Radial Velocity</td>\n",
              "      <td>1</td>\n",
              "      <td>269.300000</td>\n",
              "      <td>7.10</td>\n",
              "      <td>77.40</td>\n",
              "      <td>2006</td>\n",
              "    </tr>\n",
              "    <tr>\n",
              "      <th>1</th>\n",
              "      <td>Radial Velocity</td>\n",
              "      <td>1</td>\n",
              "      <td>874.774000</td>\n",
              "      <td>2.21</td>\n",
              "      <td>56.95</td>\n",
              "      <td>2008</td>\n",
              "    </tr>\n",
              "    <tr>\n",
              "      <th>2</th>\n",
              "      <td>Radial Velocity</td>\n",
              "      <td>1</td>\n",
              "      <td>763.000000</td>\n",
              "      <td>2.60</td>\n",
              "      <td>19.84</td>\n",
              "      <td>2011</td>\n",
              "    </tr>\n",
              "    <tr>\n",
              "      <th>3</th>\n",
              "      <td>Radial Velocity</td>\n",
              "      <td>1</td>\n",
              "      <td>326.030000</td>\n",
              "      <td>19.40</td>\n",
              "      <td>110.62</td>\n",
              "      <td>2007</td>\n",
              "    </tr>\n",
              "    <tr>\n",
              "      <th>4</th>\n",
              "      <td>Radial Velocity</td>\n",
              "      <td>1</td>\n",
              "      <td>516.220000</td>\n",
              "      <td>10.50</td>\n",
              "      <td>119.47</td>\n",
              "      <td>2009</td>\n",
              "    </tr>\n",
              "    <tr>\n",
              "      <th>...</th>\n",
              "      <td>...</td>\n",
              "      <td>...</td>\n",
              "      <td>...</td>\n",
              "      <td>...</td>\n",
              "      <td>...</td>\n",
              "      <td>...</td>\n",
              "    </tr>\n",
              "    <tr>\n",
              "      <th>1030</th>\n",
              "      <td>Transit</td>\n",
              "      <td>1</td>\n",
              "      <td>3.941507</td>\n",
              "      <td>NaN</td>\n",
              "      <td>172.00</td>\n",
              "      <td>2006</td>\n",
              "    </tr>\n",
              "    <tr>\n",
              "      <th>1031</th>\n",
              "      <td>Transit</td>\n",
              "      <td>1</td>\n",
              "      <td>2.615864</td>\n",
              "      <td>NaN</td>\n",
              "      <td>148.00</td>\n",
              "      <td>2007</td>\n",
              "    </tr>\n",
              "    <tr>\n",
              "      <th>1032</th>\n",
              "      <td>Transit</td>\n",
              "      <td>1</td>\n",
              "      <td>3.191524</td>\n",
              "      <td>NaN</td>\n",
              "      <td>174.00</td>\n",
              "      <td>2007</td>\n",
              "    </tr>\n",
              "    <tr>\n",
              "      <th>1033</th>\n",
              "      <td>Transit</td>\n",
              "      <td>1</td>\n",
              "      <td>4.125083</td>\n",
              "      <td>NaN</td>\n",
              "      <td>293.00</td>\n",
              "      <td>2008</td>\n",
              "    </tr>\n",
              "    <tr>\n",
              "      <th>1034</th>\n",
              "      <td>Transit</td>\n",
              "      <td>1</td>\n",
              "      <td>4.187757</td>\n",
              "      <td>NaN</td>\n",
              "      <td>260.00</td>\n",
              "      <td>2008</td>\n",
              "    </tr>\n",
              "  </tbody>\n",
              "</table>\n",
              "<p>1035 rows × 6 columns</p>\n",
              "</div>"
            ],
            "text/plain": [
              "               method  number  orbital_period   mass  distance  year\n",
              "0     Radial Velocity       1      269.300000   7.10     77.40  2006\n",
              "1     Radial Velocity       1      874.774000   2.21     56.95  2008\n",
              "2     Radial Velocity       1      763.000000   2.60     19.84  2011\n",
              "3     Radial Velocity       1      326.030000  19.40    110.62  2007\n",
              "4     Radial Velocity       1      516.220000  10.50    119.47  2009\n",
              "...               ...     ...             ...    ...       ...   ...\n",
              "1030          Transit       1        3.941507    NaN    172.00  2006\n",
              "1031          Transit       1        2.615864    NaN    148.00  2007\n",
              "1032          Transit       1        3.191524    NaN    174.00  2007\n",
              "1033          Transit       1        4.125083    NaN    293.00  2008\n",
              "1034          Transit       1        4.187757    NaN    260.00  2008\n",
              "\n",
              "[1035 rows x 6 columns]"
            ]
          },
          "execution_count": 53,
          "metadata": {},
          "output_type": "execute_result"
        }
      ],
      "source": [
        "planets_df"
      ]
    },
    {
      "cell_type": "code",
      "execution_count": null,
      "id": "10c8ab9e",
      "metadata": {
        "id": "10c8ab9e"
      },
      "outputs": [],
      "source": [
        "???"
      ]
    },
    {
      "cell_type": "code",
      "execution_count": null,
      "id": "0e619bbe",
      "metadata": {
        "id": "0e619bbe"
      },
      "outputs": [],
      "source": []
    },
    {
      "cell_type": "code",
      "execution_count": null,
      "id": "347856cd",
      "metadata": {
        "id": "347856cd"
      },
      "outputs": [],
      "source": []
    },
    {
      "cell_type": "markdown",
      "id": "988ff3cf",
      "metadata": {
        "id": "988ff3cf"
      },
      "source": [
        "> **(Optional) Question** Answer the following questions:\n",
        ">\n",
        "> - Is the distribution of planet mass an exponential or gaussian?\n",
        "> - What is the median exoplanet mass? How does it compare to the maximum?\n",
        "> - How does the mass of a planet compare with its orbital period? Visualize their relationship using a scatter plot."
      ]
    },
    {
      "cell_type": "code",
      "execution_count": null,
      "id": "44396ffe",
      "metadata": {
        "id": "44396ffe"
      },
      "outputs": [],
      "source": []
    },
    {
      "cell_type": "code",
      "execution_count": null,
      "id": "b8ad8e7b",
      "metadata": {
        "id": "b8ad8e7b"
      },
      "outputs": [],
      "source": []
    },
    {
      "cell_type": "markdown",
      "id": "cde3ac62",
      "metadata": {
        "id": "cde3ac62"
      },
      "source": [
        "Let's save our work before continuing. Press `Command/CTRL + s`"
      ]
    },
    {
      "cell_type": "markdown",
      "id": "36fa8c5e",
      "metadata": {
        "id": "36fa8c5e"
      },
      "source": [
        "> **QUESTION 4 (Bar Chart):** The Job Automation Probability dataset, created during a [Future of Employment study from 2013](https://www.oxfordmartin.ox.ac.uk/downloads/academic/The_Future_of_Employment.pdf), estimates the probability of different jobs being automated in the 21st century due to computerization. Crate a bar chart to show the 25 jobs requiring a \"Bachelor's degree\" (and no higher qualification) that are most likely to be automated. Make appropriate modifications to the chart title, axis titles, legend, figure size, font size, colors etc. to make the chart readable and visually appealing."
      ]
    },
    {
      "cell_type": "code",
      "execution_count": null,
      "id": "689f04b8",
      "metadata": {
        "id": "689f04b8"
      },
      "outputs": [],
      "source": [
        "job_automation_url = 'https://raw.githubusercontent.com/plotly/datasets/master/job-automation-probability.csv'"
      ]
    },
    {
      "cell_type": "code",
      "execution_count": null,
      "id": "50844268",
      "metadata": {
        "id": "50844268"
      },
      "outputs": [],
      "source": [
        "job_automation_df = pd.read_csv(job_automation_url)"
      ]
    },
    {
      "cell_type": "code",
      "execution_count": null,
      "id": "e38e9716",
      "metadata": {
        "id": "e38e9716",
        "outputId": "3dd9dcc5-1205-45ad-f4c6-9d5525d9ece6"
      },
      "outputs": [
        {
          "data": {
            "text/html": [
              "<div>\n",
              "<style scoped>\n",
              "    .dataframe tbody tr th:only-of-type {\n",
              "        vertical-align: middle;\n",
              "    }\n",
              "\n",
              "    .dataframe tbody tr th {\n",
              "        vertical-align: top;\n",
              "    }\n",
              "\n",
              "    .dataframe thead th {\n",
              "        text-align: right;\n",
              "    }\n",
              "</style>\n",
              "<table border=\"1\" class=\"dataframe\">\n",
              "  <thead>\n",
              "    <tr style=\"text-align: right;\">\n",
              "      <th></th>\n",
              "      <th>_ - rank</th>\n",
              "      <th>_ - code</th>\n",
              "      <th>prob</th>\n",
              "      <th>Average annual wage</th>\n",
              "      <th>education</th>\n",
              "      <th>occupation</th>\n",
              "      <th>short occupation</th>\n",
              "      <th>len</th>\n",
              "      <th>probability</th>\n",
              "      <th>numbEmployed</th>\n",
              "      <th>median_ann_wage</th>\n",
              "      <th>employed_may2016</th>\n",
              "      <th>average_ann_wage</th>\n",
              "    </tr>\n",
              "  </thead>\n",
              "  <tbody>\n",
              "    <tr>\n",
              "      <th>0</th>\n",
              "      <td>624</td>\n",
              "      <td>51-4033</td>\n",
              "      <td>0.9500</td>\n",
              "      <td>34920.0</td>\n",
              "      <td>High school diploma or equivalent</td>\n",
              "      <td>Grinding, Lapping, Polishing and Buffing Machi...</td>\n",
              "      <td>Tool setters, operators and tenders</td>\n",
              "      <td>35</td>\n",
              "      <td>0.9500</td>\n",
              "      <td>74600</td>\n",
              "      <td>32890.0</td>\n",
              "      <td>74600</td>\n",
              "      <td>34920.0</td>\n",
              "    </tr>\n",
              "    <tr>\n",
              "      <th>1</th>\n",
              "      <td>517</td>\n",
              "      <td>51-9012</td>\n",
              "      <td>0.8800</td>\n",
              "      <td>41450.0</td>\n",
              "      <td>High school diploma or equivalent</td>\n",
              "      <td>Separating, Filtering, Clarifying, Precipitati...</td>\n",
              "      <td>Tool setters, operators and tenders</td>\n",
              "      <td>35</td>\n",
              "      <td>0.8800</td>\n",
              "      <td>47160</td>\n",
              "      <td>38360.0</td>\n",
              "      <td>47160</td>\n",
              "      <td>41450.0</td>\n",
              "    </tr>\n",
              "    <tr>\n",
              "      <th>2</th>\n",
              "      <td>484</td>\n",
              "      <td>41-4012</td>\n",
              "      <td>0.8500</td>\n",
              "      <td>68410.0</td>\n",
              "      <td>High school diploma or equivalent</td>\n",
              "      <td>Sales Representatives, Wholesale and Manufactu...</td>\n",
              "      <td>Sales Representatives, Wholesale and Manufactu...</td>\n",
              "      <td>92</td>\n",
              "      <td>0.8500</td>\n",
              "      <td>1404050</td>\n",
              "      <td>57140.0</td>\n",
              "      <td>1404050</td>\n",
              "      <td>68410.0</td>\n",
              "    </tr>\n",
              "    <tr>\n",
              "      <th>3</th>\n",
              "      <td>105</td>\n",
              "      <td>53-1031</td>\n",
              "      <td>0.0290</td>\n",
              "      <td>59800.0</td>\n",
              "      <td>High school diploma or equivalent</td>\n",
              "      <td>First-Line Supervisors of Transportation and M...</td>\n",
              "      <td>Supervisors Transportation</td>\n",
              "      <td>26</td>\n",
              "      <td>0.0290</td>\n",
              "      <td>202760</td>\n",
              "      <td>57270.0</td>\n",
              "      <td>202760</td>\n",
              "      <td>59800.0</td>\n",
              "    </tr>\n",
              "    <tr>\n",
              "      <th>4</th>\n",
              "      <td>620</td>\n",
              "      <td>51-4072</td>\n",
              "      <td>0.9500</td>\n",
              "      <td>32660.0</td>\n",
              "      <td>High school diploma or equivalent</td>\n",
              "      <td>Molding, Coremaking and Casting Machine Setter...</td>\n",
              "      <td>Molding, Coremaking and Casting Machine Setter...</td>\n",
              "      <td>89</td>\n",
              "      <td>0.9500</td>\n",
              "      <td>145560</td>\n",
              "      <td>30480.0</td>\n",
              "      <td>145560</td>\n",
              "      <td>32660.0</td>\n",
              "    </tr>\n",
              "    <tr>\n",
              "      <th>...</th>\n",
              "      <td>...</td>\n",
              "      <td>...</td>\n",
              "      <td>...</td>\n",
              "      <td>...</td>\n",
              "      <td>...</td>\n",
              "      <td>...</td>\n",
              "      <td>...</td>\n",
              "      <td>...</td>\n",
              "      <td>...</td>\n",
              "      <td>...</td>\n",
              "      <td>...</td>\n",
              "      <td>...</td>\n",
              "      <td>...</td>\n",
              "    </tr>\n",
              "    <tr>\n",
              "      <th>697</th>\n",
              "      <td>259</td>\n",
              "      <td>27-2011</td>\n",
              "      <td>0.3700</td>\n",
              "      <td>71313.6</td>\n",
              "      <td>Some college, no degree</td>\n",
              "      <td>Actors</td>\n",
              "      <td>Actors</td>\n",
              "      <td>6</td>\n",
              "      <td>0.3700</td>\n",
              "      <td>48620</td>\n",
              "      <td>33473.0</td>\n",
              "      <td>48620</td>\n",
              "      <td>71313.6</td>\n",
              "    </tr>\n",
              "    <tr>\n",
              "      <th>698</th>\n",
              "      <td>522</td>\n",
              "      <td>51-3011</td>\n",
              "      <td>0.8900</td>\n",
              "      <td>27110.0</td>\n",
              "      <td>No formal educational credential</td>\n",
              "      <td>Bakers</td>\n",
              "      <td>Bakers</td>\n",
              "      <td>6</td>\n",
              "      <td>0.8900</td>\n",
              "      <td>180450</td>\n",
              "      <td>25090.0</td>\n",
              "      <td>180450</td>\n",
              "      <td>27110.0</td>\n",
              "    </tr>\n",
              "    <tr>\n",
              "      <th>699</th>\n",
              "      <td>42</td>\n",
              "      <td>21-2011</td>\n",
              "      <td>0.0081</td>\n",
              "      <td>49450.0</td>\n",
              "      <td>Bachelor's degree</td>\n",
              "      <td>Clergy</td>\n",
              "      <td>Clergy</td>\n",
              "      <td>6</td>\n",
              "      <td>0.0081</td>\n",
              "      <td>49320</td>\n",
              "      <td>45740.0</td>\n",
              "      <td>49320</td>\n",
              "      <td>49450.0</td>\n",
              "    </tr>\n",
              "    <tr>\n",
              "      <th>700</th>\n",
              "      <td>669</td>\n",
              "      <td>41-9012</td>\n",
              "      <td>0.9800</td>\n",
              "      <td>36560.0</td>\n",
              "      <td>No formal educational credential</td>\n",
              "      <td>Models</td>\n",
              "      <td>Models</td>\n",
              "      <td>6</td>\n",
              "      <td>0.9800</td>\n",
              "      <td>4390</td>\n",
              "      <td>21870.0</td>\n",
              "      <td>4390</td>\n",
              "      <td>36560.0</td>\n",
              "    </tr>\n",
              "    <tr>\n",
              "      <th>701</th>\n",
              "      <td>344</td>\n",
              "      <td>47-2082</td>\n",
              "      <td>0.6200</td>\n",
              "      <td>53790.0</td>\n",
              "      <td>No formal educational credential</td>\n",
              "      <td>Tapers</td>\n",
              "      <td>Tapers</td>\n",
              "      <td>6</td>\n",
              "      <td>0.6200</td>\n",
              "      <td>18480</td>\n",
              "      <td>48990.0</td>\n",
              "      <td>18480</td>\n",
              "      <td>53790.0</td>\n",
              "    </tr>\n",
              "  </tbody>\n",
              "</table>\n",
              "<p>702 rows × 13 columns</p>\n",
              "</div>"
            ],
            "text/plain": [
              "     _ - rank _ - code    prob  Average annual wage  \\\n",
              "0         624  51-4033  0.9500              34920.0   \n",
              "1         517  51-9012  0.8800              41450.0   \n",
              "2         484  41-4012  0.8500              68410.0   \n",
              "3         105  53-1031  0.0290              59800.0   \n",
              "4         620  51-4072  0.9500              32660.0   \n",
              "..        ...      ...     ...                  ...   \n",
              "697       259  27-2011  0.3700              71313.6   \n",
              "698       522  51-3011  0.8900              27110.0   \n",
              "699        42  21-2011  0.0081              49450.0   \n",
              "700       669  41-9012  0.9800              36560.0   \n",
              "701       344  47-2082  0.6200              53790.0   \n",
              "\n",
              "                             education  \\\n",
              "0    High school diploma or equivalent   \n",
              "1    High school diploma or equivalent   \n",
              "2    High school diploma or equivalent   \n",
              "3    High school diploma or equivalent   \n",
              "4    High school diploma or equivalent   \n",
              "..                                 ...   \n",
              "697            Some college, no degree   \n",
              "698   No formal educational credential   \n",
              "699                  Bachelor's degree   \n",
              "700   No formal educational credential   \n",
              "701   No formal educational credential   \n",
              "\n",
              "                                            occupation  \\\n",
              "0    Grinding, Lapping, Polishing and Buffing Machi...   \n",
              "1    Separating, Filtering, Clarifying, Precipitati...   \n",
              "2    Sales Representatives, Wholesale and Manufactu...   \n",
              "3    First-Line Supervisors of Transportation and M...   \n",
              "4    Molding, Coremaking and Casting Machine Setter...   \n",
              "..                                                 ...   \n",
              "697                                             Actors   \n",
              "698                                             Bakers   \n",
              "699                                             Clergy   \n",
              "700                                             Models   \n",
              "701                                             Tapers   \n",
              "\n",
              "                                      short occupation  len  probability  \\\n",
              "0                  Tool setters, operators and tenders   35       0.9500   \n",
              "1                  Tool setters, operators and tenders   35       0.8800   \n",
              "2    Sales Representatives, Wholesale and Manufactu...   92       0.8500   \n",
              "3                           Supervisors Transportation   26       0.0290   \n",
              "4    Molding, Coremaking and Casting Machine Setter...   89       0.9500   \n",
              "..                                                 ...  ...          ...   \n",
              "697                                             Actors    6       0.3700   \n",
              "698                                             Bakers    6       0.8900   \n",
              "699                                             Clergy    6       0.0081   \n",
              "700                                             Models    6       0.9800   \n",
              "701                                             Tapers    6       0.6200   \n",
              "\n",
              "     numbEmployed  median_ann_wage employed_may2016  average_ann_wage  \n",
              "0           74600          32890.0            74600           34920.0  \n",
              "1           47160          38360.0            47160           41450.0  \n",
              "2         1404050          57140.0          1404050           68410.0  \n",
              "3          202760          57270.0           202760           59800.0  \n",
              "4          145560          30480.0           145560           32660.0  \n",
              "..            ...              ...              ...               ...  \n",
              "697         48620          33473.0            48620           71313.6  \n",
              "698        180450          25090.0           180450           27110.0  \n",
              "699         49320          45740.0            49320           49450.0  \n",
              "700          4390          21870.0             4390           36560.0  \n",
              "701         18480          48990.0            18480           53790.0  \n",
              "\n",
              "[702 rows x 13 columns]"
            ]
          },
          "execution_count": 64,
          "metadata": {},
          "output_type": "execute_result"
        }
      ],
      "source": [
        "job_automation_df"
      ]
    },
    {
      "cell_type": "code",
      "execution_count": null,
      "id": "fb00fdec",
      "metadata": {
        "id": "fb00fdec"
      },
      "outputs": [],
      "source": []
    },
    {
      "cell_type": "code",
      "execution_count": null,
      "id": "c75db5b3",
      "metadata": {
        "id": "c75db5b3"
      },
      "outputs": [],
      "source": []
    },
    {
      "cell_type": "code",
      "execution_count": null,
      "id": "232f0ab3",
      "metadata": {
        "id": "232f0ab3"
      },
      "outputs": [],
      "source": []
    },
    {
      "cell_type": "markdown",
      "id": "bc596a2d",
      "metadata": {
        "id": "bc596a2d"
      },
      "source": [
        "> **(Optional) Question:** What other insights can you derive from the above data. Create some more visualizations and summarize your insights below."
      ]
    },
    {
      "cell_type": "code",
      "execution_count": null,
      "id": "1f741a82",
      "metadata": {
        "id": "1f741a82"
      },
      "outputs": [],
      "source": []
    },
    {
      "cell_type": "code",
      "execution_count": null,
      "id": "f70a25da",
      "metadata": {
        "id": "f70a25da"
      },
      "outputs": [],
      "source": []
    },
    {
      "cell_type": "markdown",
      "id": "f3a90e41",
      "metadata": {
        "id": "f3a90e41"
      },
      "source": [
        "Let's save our work before continuing. Press `Command/CTRL + s`"
      ]
    },
    {
      "cell_type": "markdown",
      "id": "eb697c53",
      "metadata": {
        "id": "eb697c53"
      },
      "source": [
        "> **QUESTION 5 (Geographical Map):** `nuclear_waste_url` points to a CSV file containing the locations of several nuclear waste storage sites in the United States. Show these sites as markers on a map of the United States. Clicking on a marker should display the name of the site. Pick the appropriate location, Zoom level and images tiles for the map."
      ]
    },
    {
      "cell_type": "code",
      "execution_count": null,
      "id": "8101bfad",
      "metadata": {
        "id": "8101bfad"
      },
      "outputs": [],
      "source": [
        "nuclear_waste_url = 'https://raw.githubusercontent.com/plotly/datasets/master/Nuclear%20Waste%20Sites%20on%20American%20Campuses.csv'"
      ]
    },
    {
      "cell_type": "code",
      "execution_count": null,
      "id": "fff7dc09",
      "metadata": {
        "id": "fff7dc09"
      },
      "outputs": [],
      "source": [
        "nuclear_waste_df = pd.read_csv(nuclear_waste_url)"
      ]
    },
    {
      "cell_type": "code",
      "execution_count": null,
      "id": "dd582278",
      "metadata": {
        "id": "dd582278",
        "outputId": "ee426797-cc13-4e36-810e-6ff55ec1dc2d"
      },
      "outputs": [
        {
          "data": {
            "text/html": [
              "<div>\n",
              "<style scoped>\n",
              "    .dataframe tbody tr th:only-of-type {\n",
              "        vertical-align: middle;\n",
              "    }\n",
              "\n",
              "    .dataframe tbody tr th {\n",
              "        vertical-align: top;\n",
              "    }\n",
              "\n",
              "    .dataframe thead th {\n",
              "        text-align: right;\n",
              "    }\n",
              "</style>\n",
              "<table border=\"1\" class=\"dataframe\">\n",
              "  <thead>\n",
              "    <tr style=\"text-align: right;\">\n",
              "      <th></th>\n",
              "      <th>lat</th>\n",
              "      <th>lon</th>\n",
              "      <th>text</th>\n",
              "    </tr>\n",
              "  </thead>\n",
              "  <tbody>\n",
              "    <tr>\n",
              "      <th>0</th>\n",
              "      <td>35.888827</td>\n",
              "      <td>-106.305022</td>\n",
              "      <td>Acid/Pueblo Canyon</td>\n",
              "    </tr>\n",
              "    <tr>\n",
              "      <th>1</th>\n",
              "      <td>39.503487</td>\n",
              "      <td>-84.743859</td>\n",
              "      <td>Alba Craft Shop</td>\n",
              "    </tr>\n",
              "    <tr>\n",
              "      <th>2</th>\n",
              "      <td>44.620822</td>\n",
              "      <td>-123.120917</td>\n",
              "      <td>\"Albany, Oregon, FUSRAP Site\"</td>\n",
              "    </tr>\n",
              "    <tr>\n",
              "      <th>3</th>\n",
              "      <td>40.641371</td>\n",
              "      <td>-80.242936</td>\n",
              "      <td>Aliquippa Forge</td>\n",
              "    </tr>\n",
              "    <tr>\n",
              "      <th>4</th>\n",
              "      <td>39.361063</td>\n",
              "      <td>-84.540750</td>\n",
              "      <td>Associated Aircraft Tool and Manufacturing Co.</td>\n",
              "    </tr>\n",
              "    <tr>\n",
              "      <th>5</th>\n",
              "      <td>39.957354</td>\n",
              "      <td>-83.011455</td>\n",
              "      <td>B &amp; T Metals</td>\n",
              "    </tr>\n",
              "    <tr>\n",
              "      <th>6</th>\n",
              "      <td>41.672189</td>\n",
              "      <td>-83.568625</td>\n",
              "      <td>Baker Brothers</td>\n",
              "    </tr>\n",
              "    <tr>\n",
              "      <th>7</th>\n",
              "      <td>40.746102</td>\n",
              "      <td>-74.006642</td>\n",
              "      <td>Baker and Williams Warehouses</td>\n",
              "    </tr>\n",
              "    <tr>\n",
              "      <th>8</th>\n",
              "      <td>35.899725</td>\n",
              "      <td>-106.290127</td>\n",
              "      <td>\"Bayo Canyon, New Mexico, FUSRAP Site\"</td>\n",
              "    </tr>\n",
              "    <tr>\n",
              "      <th>9</th>\n",
              "      <td>42.841147</td>\n",
              "      <td>-78.834060</td>\n",
              "      <td>Bliss and Laughlin Steel</td>\n",
              "    </tr>\n",
              "    <tr>\n",
              "      <th>10</th>\n",
              "      <td>41.888102</td>\n",
              "      <td>-84.016479</td>\n",
              "      <td>Bridgeport Brass Co.</td>\n",
              "    </tr>\n",
              "    <tr>\n",
              "      <th>11</th>\n",
              "      <td>40.537611</td>\n",
              "      <td>-79.782094</td>\n",
              "      <td>C.H. Schnorr</td>\n",
              "    </tr>\n",
              "    <tr>\n",
              "      <th>12</th>\n",
              "      <td>42.154201</td>\n",
              "      <td>-72.499778</td>\n",
              "      <td>Chapman Valve</td>\n",
              "    </tr>\n",
              "    <tr>\n",
              "      <th>13</th>\n",
              "      <td>34.214928</td>\n",
              "      <td>-105.879321</td>\n",
              "      <td>\"Chupadera Mesa, New Mexico, FUSRAP Site\"</td>\n",
              "    </tr>\n",
              "    <tr>\n",
              "      <th>14</th>\n",
              "      <td>38.687031</td>\n",
              "      <td>-90.167362</td>\n",
              "      <td>\"Dow Chemical Co., Madison Site\"</td>\n",
              "    </tr>\n",
              "    <tr>\n",
              "      <th>15</th>\n",
              "      <td>38.692620</td>\n",
              "      <td>-90.162290</td>\n",
              "      <td>General Steel Industries</td>\n",
              "    </tr>\n",
              "    <tr>\n",
              "      <th>16</th>\n",
              "      <td>37.872571</td>\n",
              "      <td>-122.256179</td>\n",
              "      <td>\"Gilman Hall, University of California at Berk...</td>\n",
              "    </tr>\n",
              "    <tr>\n",
              "      <th>17</th>\n",
              "      <td>39.382248</td>\n",
              "      <td>-84.547111</td>\n",
              "      <td>Hamilton OH Site</td>\n",
              "    </tr>\n",
              "    <tr>\n",
              "      <th>18</th>\n",
              "      <td>40.708736</td>\n",
              "      <td>-74.101281</td>\n",
              "      <td>Jersey City FUSRAP Site</td>\n",
              "    </tr>\n",
              "    <tr>\n",
              "      <th>19</th>\n",
              "      <td>40.577768</td>\n",
              "      <td>-74.496564</td>\n",
              "      <td>Middlesex North Site</td>\n",
              "    </tr>\n",
              "    <tr>\n",
              "      <th>20</th>\n",
              "      <td>41.798684</td>\n",
              "      <td>-87.606937</td>\n",
              "      <td>National Guard Armory</td>\n",
              "    </tr>\n",
              "    <tr>\n",
              "      <th>21</th>\n",
              "      <td>40.470280</td>\n",
              "      <td>-74.476254</td>\n",
              "      <td>\"New Brunswick, NJ, FUSRAP Site\"</td>\n",
              "    </tr>\n",
              "    <tr>\n",
              "      <th>22</th>\n",
              "      <td>43.220906</td>\n",
              "      <td>-78.973731</td>\n",
              "      <td>Niagara Falls Vicinity Properties</td>\n",
              "    </tr>\n",
              "    <tr>\n",
              "      <th>23</th>\n",
              "      <td>36.042730</td>\n",
              "      <td>-84.206653</td>\n",
              "      <td>\"Oak Ridge, TN, Warehouse Site\"</td>\n",
              "    </tr>\n",
              "    <tr>\n",
              "      <th>24</th>\n",
              "      <td>41.400790</td>\n",
              "      <td>-73.072232</td>\n",
              "      <td>Seymour Specialty Wire</td>\n",
              "    </tr>\n",
              "    <tr>\n",
              "      <th>25</th>\n",
              "      <td>42.991837</td>\n",
              "      <td>-78.920101</td>\n",
              "      <td>Tonawanda North FUSRAP Site</td>\n",
              "    </tr>\n",
              "    <tr>\n",
              "      <th>26</th>\n",
              "      <td>41.792480</td>\n",
              "      <td>-87.601036</td>\n",
              "      <td>University of Chicago Metallurgical Laboratory</td>\n",
              "    </tr>\n",
              "    <tr>\n",
              "      <th>27</th>\n",
              "      <td>42.540470</td>\n",
              "      <td>-70.888808</td>\n",
              "      <td>Ventron Corporation</td>\n",
              "    </tr>\n",
              "    <tr>\n",
              "      <th>28</th>\n",
              "      <td>40.969628</td>\n",
              "      <td>-74.270779</td>\n",
              "      <td>Wayne FUSRAP Site</td>\n",
              "    </tr>\n",
              "  </tbody>\n",
              "</table>\n",
              "</div>"
            ],
            "text/plain": [
              "          lat         lon                                               text\n",
              "0   35.888827 -106.305022                                 Acid/Pueblo Canyon\n",
              "1   39.503487  -84.743859                                    Alba Craft Shop\n",
              "2   44.620822 -123.120917                      \"Albany, Oregon, FUSRAP Site\"\n",
              "3   40.641371  -80.242936                                    Aliquippa Forge\n",
              "4   39.361063  -84.540750     Associated Aircraft Tool and Manufacturing Co.\n",
              "5   39.957354  -83.011455                                       B & T Metals\n",
              "6   41.672189  -83.568625                                     Baker Brothers\n",
              "7   40.746102  -74.006642                      Baker and Williams Warehouses\n",
              "8   35.899725 -106.290127             \"Bayo Canyon, New Mexico, FUSRAP Site\"\n",
              "9   42.841147  -78.834060                           Bliss and Laughlin Steel\n",
              "10  41.888102  -84.016479                               Bridgeport Brass Co.\n",
              "11  40.537611  -79.782094                                       C.H. Schnorr\n",
              "12  42.154201  -72.499778                                      Chapman Valve\n",
              "13  34.214928 -105.879321          \"Chupadera Mesa, New Mexico, FUSRAP Site\"\n",
              "14  38.687031  -90.167362                   \"Dow Chemical Co., Madison Site\"\n",
              "15  38.692620  -90.162290                           General Steel Industries\n",
              "16  37.872571 -122.256179  \"Gilman Hall, University of California at Berk...\n",
              "17  39.382248  -84.547111                                   Hamilton OH Site\n",
              "18  40.708736  -74.101281                            Jersey City FUSRAP Site\n",
              "19  40.577768  -74.496564                               Middlesex North Site\n",
              "20  41.798684  -87.606937                              National Guard Armory\n",
              "21  40.470280  -74.476254                   \"New Brunswick, NJ, FUSRAP Site\"\n",
              "22  43.220906  -78.973731                  Niagara Falls Vicinity Properties\n",
              "23  36.042730  -84.206653                    \"Oak Ridge, TN, Warehouse Site\"\n",
              "24  41.400790  -73.072232                             Seymour Specialty Wire\n",
              "25  42.991837  -78.920101                        Tonawanda North FUSRAP Site\n",
              "26  41.792480  -87.601036     University of Chicago Metallurgical Laboratory\n",
              "27  42.540470  -70.888808                                Ventron Corporation\n",
              "28  40.969628  -74.270779                                  Wayne FUSRAP Site"
            ]
          },
          "execution_count": 92,
          "metadata": {},
          "output_type": "execute_result"
        }
      ],
      "source": [
        "nuclear_waste_df"
      ]
    },
    {
      "cell_type": "code",
      "execution_count": null,
      "id": "24d593ae",
      "metadata": {
        "id": "24d593ae"
      },
      "outputs": [],
      "source": [
        "???"
      ]
    },
    {
      "cell_type": "code",
      "execution_count": null,
      "id": "72426ae4",
      "metadata": {
        "id": "72426ae4"
      },
      "outputs": [],
      "source": []
    },
    {
      "cell_type": "code",
      "execution_count": null,
      "id": "882b5c11",
      "metadata": {
        "id": "882b5c11"
      },
      "outputs": [],
      "source": []
    },
    {
      "cell_type": "markdown",
      "id": "1deb8ec8",
      "metadata": {
        "id": "1deb8ec8"
      },
      "source": [
        "Let's save our work before continuing. Press `Command/CTRL + s`"
      ]
    },
    {
      "cell_type": "markdown",
      "id": "5b162a85",
      "metadata": {
        "id": "5b162a85"
      },
      "source": [
        "## LeetCode Problems"
      ]
    },
    {
      "cell_type": "markdown",
      "id": "2f4dfe0b",
      "metadata": {
        "id": "2f4dfe0b"
      },
      "source": [
        "### [Problem 1626](https://leetcode.com/problems/best-team-with-no-conflicts/) - Best Team With No Conflicts\n",
        "\n",
        "You are the manager of a basketball team. For the upcoming tournament, you want to choose the team with the highest overall score. The score of the team is the **sum** of scores of all the players in the team.\n",
        "\n",
        "However, the basketball team is not allowed to have **conflicts**. A **conflict** exists if a younger player has a **strictly higher** score than an older player. A conflict does **not** occur between players of the same age.\n",
        "\n",
        "Given two lists, `scores` and `ages`, where each `scores[i]` and `ages[i]` represents the score and age of the i<sup>th</sup> player, respectively, return the highest overall score of all possible basketball teams."
      ]
    },
    {
      "cell_type": "markdown",
      "id": "f648fa54",
      "metadata": {
        "id": "f648fa54"
      },
      "source": [
        "**Example 1:**\n",
        "```\n",
        "Input: scores = [1,3,5,10,15], ages = [1,2,3,4,5]\n",
        "Output: 34\n",
        "Explanation: You can choose all the players.\n",
        "```\n",
        "\n",
        "**Example 2:**\n",
        "```\n",
        "Input: scores = [4,5,6,5], ages = [2,1,2,1]\n",
        "Output: 16\n",
        "Explanation: It is best to choose the last 3 players. Notice that you are\n",
        "allowed to choose multiple people of the same age.\n",
        "```\n",
        "\n",
        "**Example 3:**\n",
        "```\n",
        "Input: scores = [1,2,3,5], ages = [8,9,10,1]\n",
        "Output: 6\n",
        "Explanation: It is best to choose the first 3 players.\n",
        "```\n",
        "\n",
        "**Constraints:**\n",
        "```\n",
        "1 <= scores.length, ages.length <= 1000\n",
        "scores.length == ages.length\n",
        "1 <= scores[i] <= 106\n",
        "1 <= ages[i] <= 1000\n",
        "```"
      ]
    },
    {
      "cell_type": "code",
      "execution_count": null,
      "id": "da821d9f",
      "metadata": {
        "id": "da821d9f"
      },
      "outputs": [],
      "source": [
        "def bestTeamScore(scores, ages):\n",
        "    ???"
      ]
    },
    {
      "cell_type": "code",
      "execution_count": null,
      "id": "f1b1ecdc",
      "metadata": {
        "id": "f1b1ecdc"
      },
      "outputs": [],
      "source": [
        "# This should return \"True\"\n",
        "bestTeamScore([1,3,5,10,15], [1,2,3,4,5]) == 34"
      ]
    },
    {
      "cell_type": "code",
      "execution_count": null,
      "id": "b49dda52",
      "metadata": {
        "id": "b49dda52"
      },
      "outputs": [],
      "source": [
        "# This should return \"True\"\n",
        "bestTeamScore([4,5,6,5], [2,1,2,1]) == 16"
      ]
    },
    {
      "cell_type": "code",
      "execution_count": null,
      "id": "fe561972",
      "metadata": {
        "id": "fe561972"
      },
      "outputs": [],
      "source": [
        "# This should return \"True\"\n",
        "bestTeamScore([1,2,3,5], [8,9,10,1]) == 6"
      ]
    },
    {
      "cell_type": "markdown",
      "id": "72abd813",
      "metadata": {
        "id": "72abd813"
      },
      "source": [
        "### [Problem 16](https://leetcode.com/problems/3sum-closest/) - 3Sum Closest\n",
        "\n",
        "Given an integer array `nums` of length `n` and an integer `target`, find three integers in `nums` such that the sum is closest to `target`.\n",
        "\n",
        "Return the sum of the three integers.\n",
        "\n",
        "You may assume that each input would have exactly one solution."
      ]
    },
    {
      "cell_type": "markdown",
      "id": "e77bf5b8",
      "metadata": {
        "id": "e77bf5b8"
      },
      "source": [
        "**Example 1:**\n",
        "```\n",
        "Input: nums = [-1,2,1,-4], target = 1\n",
        "Output: 2\n",
        "Explanation: The sum that is closest to the target is 2. (-1 + 2 + 1 = 2).\n",
        "```\n",
        "\n",
        "**Example 2:**\n",
        "```\n",
        "Input: nums = [0,0,0], target = 1\n",
        "Output: 0\n",
        "Explanation: The sum that is closest to the target is 0. (0 + 0 + 0 = 0).\n",
        "```\n",
        "\n",
        "**Constraints:**\n",
        "```\n",
        "3 <= nums.length <= 500\n",
        "-1000 <= nums[i] <= 1000\n",
        "-104 <= target <= 104\n",
        "```"
      ]
    },
    {
      "cell_type": "code",
      "execution_count": null,
      "id": "7a596180",
      "metadata": {
        "id": "7a596180"
      },
      "outputs": [],
      "source": [
        "def threeSumClosest(nums, target):\n",
        "    ???"
      ]
    },
    {
      "cell_type": "code",
      "execution_count": null,
      "id": "449f3e78",
      "metadata": {
        "id": "449f3e78"
      },
      "outputs": [],
      "source": [
        "# This should return \"True\"\n",
        "threeSumClosest([-1,2,1,-4], 1) == 2"
      ]
    },
    {
      "cell_type": "code",
      "execution_count": null,
      "id": "cab31bc2",
      "metadata": {
        "id": "cab31bc2"
      },
      "outputs": [],
      "source": [
        "# This should return \"True\"\n",
        "threeSumClosest([0,0,0], 1) == 0"
      ]
    },
    {
      "cell_type": "markdown",
      "id": "e977b4eb",
      "metadata": {
        "id": "e977b4eb"
      },
      "source": [
        "You can submit any number of times. Only your final submission will be considered for evaluation.\n",
        "\n",
        "The remaining questions in this assignment are optional."
      ]
    },
    {
      "cell_type": "markdown",
      "id": "a1b51171",
      "metadata": {
        "id": "a1b51171"
      },
      "source": [
        "## Optional Questions"
      ]
    },
    {
      "cell_type": "markdown",
      "id": "00c3fb64",
      "metadata": {
        "id": "00c3fb64"
      },
      "source": [
        "> **(OPTIONAL) QUESTION 7:**  The following dataset contains information about some police deaths in US from 1984 to 2016. Create the following visualizations using this dataset.\n",
        ">\n",
        "> 1. Bar chart showing the total deaths per year for 1984-2016\n",
        "> 2. Line chart comparing the yearly deaths in different states\n",
        "> 3. A heat map overlaid on the map of the United States\n",
        "> 4. A Choropleth comparing the number of police deaths in different states\n",
        "> 5. A word cloud of the different causes of death (remove the string \"Cause of Death:\" for best results)\n",
        "> 6. A [marker cluster](https://georgetsilva.github.io/posts/mapping-points-with-folium/) showing the shootings in the state of California (show person's name on hover)\n",
        "> 7. Bar chart comparing the no. of deaths due to different causes, animated by year\n",
        "> 8. A heatmap of total deaths per state per year i.e. showing \"state\" on one axis and \"year\" on the other axis.\n",
        "> 9. A treemap with three levels: state, city (description), cause\n",
        "> 10. A rug plot showing a timeline of canine deaths."
      ]
    },
    {
      "cell_type": "code",
      "execution_count": null,
      "id": "b8ecf758",
      "metadata": {
        "id": "b8ecf758"
      },
      "outputs": [],
      "source": [
        "police_url = 'https://raw.githubusercontent.com/plotly/datasets/master/US-shooting-incidents.csv'\n",
        "police_df = pd.read_csv(police_url)"
      ]
    },
    {
      "cell_type": "code",
      "execution_count": null,
      "id": "791ca6f4",
      "metadata": {
        "id": "791ca6f4",
        "outputId": "110dbcef-1eca-44db-85d0-b49d78006878"
      },
      "outputs": [
        {
          "data": {
            "text/html": [
              "<div>\n",
              "<style scoped>\n",
              "    .dataframe tbody tr th:only-of-type {\n",
              "        vertical-align: middle;\n",
              "    }\n",
              "\n",
              "    .dataframe tbody tr th {\n",
              "        vertical-align: top;\n",
              "    }\n",
              "\n",
              "    .dataframe thead th {\n",
              "        text-align: right;\n",
              "    }\n",
              "</style>\n",
              "<table border=\"1\" class=\"dataframe\">\n",
              "  <thead>\n",
              "    <tr style=\"text-align: right;\">\n",
              "      <th></th>\n",
              "      <th>Unnamed: 0</th>\n",
              "      <th>person</th>\n",
              "      <th>dept</th>\n",
              "      <th>eow</th>\n",
              "      <th>cause</th>\n",
              "      <th>cause_short</th>\n",
              "      <th>date</th>\n",
              "      <th>year</th>\n",
              "      <th>canine</th>\n",
              "      <th>dept_name</th>\n",
              "      <th>state</th>\n",
              "      <th>description</th>\n",
              "      <th>latitude</th>\n",
              "      <th>longitude</th>\n",
              "      <th>state_name</th>\n",
              "    </tr>\n",
              "  </thead>\n",
              "  <tbody>\n",
              "    <tr>\n",
              "      <th>0</th>\n",
              "      <td>1</td>\n",
              "      <td>K9 Roscoe</td>\n",
              "      <td>Phoenix Police Department, AZ</td>\n",
              "      <td>EOW: Friday, July 13, 1984</td>\n",
              "      <td>Cause of Death: Struck by vehicle</td>\n",
              "      <td>Struck by vehicle</td>\n",
              "      <td>1984-07-13</td>\n",
              "      <td>1984</td>\n",
              "      <td>True</td>\n",
              "      <td>Phoenix Police Department</td>\n",
              "      <td>AZ</td>\n",
              "      <td>Phoenix</td>\n",
              "      <td>33.448143</td>\n",
              "      <td>-112.096962</td>\n",
              "      <td>Arizona</td>\n",
              "    </tr>\n",
              "    <tr>\n",
              "      <th>1</th>\n",
              "      <td>2</td>\n",
              "      <td>Police Officer Roy L. Leon, Jr.</td>\n",
              "      <td>Cotton Plant Police Department, AR</td>\n",
              "      <td>EOW: Friday, July 13, 1984</td>\n",
              "      <td>Cause of Death: Gunfire</td>\n",
              "      <td>Gunfire</td>\n",
              "      <td>1984-07-13</td>\n",
              "      <td>1984</td>\n",
              "      <td>False</td>\n",
              "      <td>Cotton Plant Police Department</td>\n",
              "      <td>AR</td>\n",
              "      <td>Little Rock</td>\n",
              "      <td>34.746613</td>\n",
              "      <td>-92.288986</td>\n",
              "      <td>Arkansas</td>\n",
              "    </tr>\n",
              "    <tr>\n",
              "      <th>2</th>\n",
              "      <td>3</td>\n",
              "      <td>Officer Stanley D. Pounds</td>\n",
              "      <td>Portland Police Bureau, OR</td>\n",
              "      <td>EOW: Wednesday, July 18, 1984</td>\n",
              "      <td>Cause of Death: Automobile accident</td>\n",
              "      <td>Automobile accident</td>\n",
              "      <td>1984-07-18</td>\n",
              "      <td>1984</td>\n",
              "      <td>False</td>\n",
              "      <td>Portland Police Bureau</td>\n",
              "      <td>OR</td>\n",
              "      <td>Salem</td>\n",
              "      <td>44.938461</td>\n",
              "      <td>-123.030403</td>\n",
              "      <td>Oregon</td>\n",
              "    </tr>\n",
              "    <tr>\n",
              "      <th>3</th>\n",
              "      <td>4</td>\n",
              "      <td>Enforcement Agent Ernest Joseph Gray, Jr.</td>\n",
              "      <td>Pennsylvania Public Utility Commission, PA</td>\n",
              "      <td>EOW: Friday, July 20, 1984</td>\n",
              "      <td>Cause of Death: Automobile accident</td>\n",
              "      <td>Automobile accident</td>\n",
              "      <td>1984-07-20</td>\n",
              "      <td>1984</td>\n",
              "      <td>False</td>\n",
              "      <td>Pennsylvania Public Utility Commission</td>\n",
              "      <td>PA</td>\n",
              "      <td>Harrisburg</td>\n",
              "      <td>40.264378</td>\n",
              "      <td>-76.883598</td>\n",
              "      <td>Pennsylvania</td>\n",
              "    </tr>\n",
              "    <tr>\n",
              "      <th>4</th>\n",
              "      <td>5</td>\n",
              "      <td>Police Officer James W. Carozza, Jr.</td>\n",
              "      <td>Greenburgh Police Department, NY</td>\n",
              "      <td>EOW: Friday, July 20, 1984</td>\n",
              "      <td>Cause of Death: Vehicle pursuit</td>\n",
              "      <td>Vehicle pursuit</td>\n",
              "      <td>1984-07-20</td>\n",
              "      <td>1984</td>\n",
              "      <td>False</td>\n",
              "      <td>Greenburgh Police Department</td>\n",
              "      <td>NY</td>\n",
              "      <td>Albany</td>\n",
              "      <td>42.652843</td>\n",
              "      <td>-73.757874</td>\n",
              "      <td>New York</td>\n",
              "    </tr>\n",
              "    <tr>\n",
              "      <th>...</th>\n",
              "      <td>...</td>\n",
              "      <td>...</td>\n",
              "      <td>...</td>\n",
              "      <td>...</td>\n",
              "      <td>...</td>\n",
              "      <td>...</td>\n",
              "      <td>...</td>\n",
              "      <td>...</td>\n",
              "      <td>...</td>\n",
              "      <td>...</td>\n",
              "      <td>...</td>\n",
              "      <td>...</td>\n",
              "      <td>...</td>\n",
              "      <td>...</td>\n",
              "      <td>...</td>\n",
              "    </tr>\n",
              "    <tr>\n",
              "      <th>4994</th>\n",
              "      <td>4995</td>\n",
              "      <td>Deputy Sheriff David Francis Michel, Jr.</td>\n",
              "      <td>Jefferson Parish Sheriff's Office, LA</td>\n",
              "      <td>EOW: Wednesday, June 22, 2016</td>\n",
              "      <td>Cause of Death: Gunfire</td>\n",
              "      <td>Gunfire</td>\n",
              "      <td>2016-06-22</td>\n",
              "      <td>2016</td>\n",
              "      <td>False</td>\n",
              "      <td>Jefferson Parish Sheriff's Office</td>\n",
              "      <td>LA</td>\n",
              "      <td>Baton Rouge</td>\n",
              "      <td>30.457069</td>\n",
              "      <td>-91.187393</td>\n",
              "      <td>Louisiana</td>\n",
              "    </tr>\n",
              "    <tr>\n",
              "      <th>4995</th>\n",
              "      <td>4996</td>\n",
              "      <td>K9 Tyson</td>\n",
              "      <td>Fountain County Sheriff's Office, IN</td>\n",
              "      <td>EOW: Monday, June 27, 2016</td>\n",
              "      <td>Cause of Death: Heat exhaustion</td>\n",
              "      <td>Heat exhaustion</td>\n",
              "      <td>2016-06-27</td>\n",
              "      <td>2016</td>\n",
              "      <td>True</td>\n",
              "      <td>Fountain County Sheriff's Office</td>\n",
              "      <td>IN</td>\n",
              "      <td>Indianapolis</td>\n",
              "      <td>39.768623</td>\n",
              "      <td>-86.162643</td>\n",
              "      <td>Indiana</td>\n",
              "    </tr>\n",
              "    <tr>\n",
              "      <th>4996</th>\n",
              "      <td>4997</td>\n",
              "      <td>K9 Credo</td>\n",
              "      <td>Long Beach Police Department, CA</td>\n",
              "      <td>EOW: Tuesday, June 28, 2016</td>\n",
              "      <td>Cause of Death: Gunfire (Accidental)</td>\n",
              "      <td>Gunfire (Accidental)</td>\n",
              "      <td>2016-06-28</td>\n",
              "      <td>2016</td>\n",
              "      <td>True</td>\n",
              "      <td>Long Beach Police Department</td>\n",
              "      <td>CA</td>\n",
              "      <td>Sacramento</td>\n",
              "      <td>38.576668</td>\n",
              "      <td>-121.493629</td>\n",
              "      <td>California</td>\n",
              "    </tr>\n",
              "    <tr>\n",
              "      <th>4997</th>\n",
              "      <td>4998</td>\n",
              "      <td>Deputy Sheriff Martin Tase Sturgill, II</td>\n",
              "      <td>Humphreys County Sheriff's Office, TN</td>\n",
              "      <td>EOW: Thursday, June 30, 2016</td>\n",
              "      <td>Cause of Death: Heart attack</td>\n",
              "      <td>Heart attack</td>\n",
              "      <td>2016-06-30</td>\n",
              "      <td>2016</td>\n",
              "      <td>False</td>\n",
              "      <td>Humphreys County Sheriff's Office</td>\n",
              "      <td>TN</td>\n",
              "      <td>Nashville</td>\n",
              "      <td>36.165810</td>\n",
              "      <td>-86.784241</td>\n",
              "      <td>Tennessee</td>\n",
              "    </tr>\n",
              "    <tr>\n",
              "      <th>4998</th>\n",
              "      <td>4999</td>\n",
              "      <td>K9 Roscoe</td>\n",
              "      <td>Emmett Police Department, ID</td>\n",
              "      <td>EOW: Friday, July 1, 2016</td>\n",
              "      <td>Cause of Death: Automobile accident</td>\n",
              "      <td>Automobile accident</td>\n",
              "      <td>2016-07-01</td>\n",
              "      <td>2016</td>\n",
              "      <td>True</td>\n",
              "      <td>Emmett Police Department</td>\n",
              "      <td>ID</td>\n",
              "      <td>Boise</td>\n",
              "      <td>43.617775</td>\n",
              "      <td>-116.199722</td>\n",
              "      <td>Idaho</td>\n",
              "    </tr>\n",
              "  </tbody>\n",
              "</table>\n",
              "<p>4999 rows × 15 columns</p>\n",
              "</div>"
            ],
            "text/plain": [
              "      Unnamed: 0                                     person  \\\n",
              "0              1                                  K9 Roscoe   \n",
              "1              2            Police Officer Roy L. Leon, Jr.   \n",
              "2              3                  Officer Stanley D. Pounds   \n",
              "3              4  Enforcement Agent Ernest Joseph Gray, Jr.   \n",
              "4              5       Police Officer James W. Carozza, Jr.   \n",
              "...          ...                                        ...   \n",
              "4994        4995   Deputy Sheriff David Francis Michel, Jr.   \n",
              "4995        4996                                   K9 Tyson   \n",
              "4996        4997                                   K9 Credo   \n",
              "4997        4998    Deputy Sheriff Martin Tase Sturgill, II   \n",
              "4998        4999                                  K9 Roscoe   \n",
              "\n",
              "                                            dept  \\\n",
              "0                  Phoenix Police Department, AZ   \n",
              "1             Cotton Plant Police Department, AR   \n",
              "2                     Portland Police Bureau, OR   \n",
              "3     Pennsylvania Public Utility Commission, PA   \n",
              "4               Greenburgh Police Department, NY   \n",
              "...                                          ...   \n",
              "4994       Jefferson Parish Sheriff's Office, LA   \n",
              "4995        Fountain County Sheriff's Office, IN   \n",
              "4996            Long Beach Police Department, CA   \n",
              "4997       Humphreys County Sheriff's Office, TN   \n",
              "4998                Emmett Police Department, ID   \n",
              "\n",
              "                                eow                                 cause  \\\n",
              "0        EOW: Friday, July 13, 1984     Cause of Death: Struck by vehicle   \n",
              "1        EOW: Friday, July 13, 1984               Cause of Death: Gunfire   \n",
              "2     EOW: Wednesday, July 18, 1984   Cause of Death: Automobile accident   \n",
              "3        EOW: Friday, July 20, 1984   Cause of Death: Automobile accident   \n",
              "4        EOW: Friday, July 20, 1984       Cause of Death: Vehicle pursuit   \n",
              "...                             ...                                   ...   \n",
              "4994  EOW: Wednesday, June 22, 2016               Cause of Death: Gunfire   \n",
              "4995     EOW: Monday, June 27, 2016       Cause of Death: Heat exhaustion   \n",
              "4996    EOW: Tuesday, June 28, 2016  Cause of Death: Gunfire (Accidental)   \n",
              "4997   EOW: Thursday, June 30, 2016          Cause of Death: Heart attack   \n",
              "4998      EOW: Friday, July 1, 2016   Cause of Death: Automobile accident   \n",
              "\n",
              "               cause_short        date  year  canine  \\\n",
              "0        Struck by vehicle  1984-07-13  1984    True   \n",
              "1                  Gunfire  1984-07-13  1984   False   \n",
              "2      Automobile accident  1984-07-18  1984   False   \n",
              "3      Automobile accident  1984-07-20  1984   False   \n",
              "4          Vehicle pursuit  1984-07-20  1984   False   \n",
              "...                    ...         ...   ...     ...   \n",
              "4994               Gunfire  2016-06-22  2016   False   \n",
              "4995       Heat exhaustion  2016-06-27  2016    True   \n",
              "4996  Gunfire (Accidental)  2016-06-28  2016    True   \n",
              "4997          Heart attack  2016-06-30  2016   False   \n",
              "4998   Automobile accident  2016-07-01  2016    True   \n",
              "\n",
              "                                   dept_name state   description   latitude  \\\n",
              "0                  Phoenix Police Department    AZ       Phoenix  33.448143   \n",
              "1             Cotton Plant Police Department    AR   Little Rock  34.746613   \n",
              "2                     Portland Police Bureau    OR         Salem  44.938461   \n",
              "3     Pennsylvania Public Utility Commission    PA    Harrisburg  40.264378   \n",
              "4               Greenburgh Police Department    NY        Albany  42.652843   \n",
              "...                                      ...   ...           ...        ...   \n",
              "4994       Jefferson Parish Sheriff's Office    LA   Baton Rouge  30.457069   \n",
              "4995        Fountain County Sheriff's Office    IN  Indianapolis  39.768623   \n",
              "4996            Long Beach Police Department    CA    Sacramento  38.576668   \n",
              "4997       Humphreys County Sheriff's Office    TN     Nashville  36.165810   \n",
              "4998                Emmett Police Department    ID         Boise  43.617775   \n",
              "\n",
              "       longitude    state_name  \n",
              "0    -112.096962       Arizona  \n",
              "1     -92.288986      Arkansas  \n",
              "2    -123.030403        Oregon  \n",
              "3     -76.883598  Pennsylvania  \n",
              "4     -73.757874      New York  \n",
              "...          ...           ...  \n",
              "4994  -91.187393     Louisiana  \n",
              "4995  -86.162643       Indiana  \n",
              "4996 -121.493629    California  \n",
              "4997  -86.784241     Tennessee  \n",
              "4998 -116.199722         Idaho  \n",
              "\n",
              "[4999 rows x 15 columns]"
            ]
          },
          "execution_count": 139,
          "metadata": {},
          "output_type": "execute_result"
        }
      ],
      "source": [
        "police_df"
      ]
    },
    {
      "cell_type": "code",
      "execution_count": null,
      "id": "4e4d4025",
      "metadata": {
        "id": "4e4d4025"
      },
      "outputs": [],
      "source": []
    },
    {
      "cell_type": "code",
      "execution_count": null,
      "id": "83487dee",
      "metadata": {
        "id": "83487dee"
      },
      "outputs": [],
      "source": []
    },
    {
      "cell_type": "code",
      "execution_count": null,
      "id": "75780742",
      "metadata": {
        "id": "75780742"
      },
      "outputs": [],
      "source": []
    },
    {
      "cell_type": "code",
      "execution_count": null,
      "id": "2deaddbc",
      "metadata": {
        "id": "2deaddbc"
      },
      "outputs": [],
      "source": []
    },
    {
      "cell_type": "code",
      "execution_count": null,
      "id": "1a1f9a04",
      "metadata": {
        "id": "1a1f9a04"
      },
      "outputs": [],
      "source": []
    },
    {
      "cell_type": "markdown",
      "id": "9eb1db08",
      "metadata": {
        "id": "9eb1db08"
      },
      "source": [
        "## Acknowledgement\n",
        "\n",
        "The datasets in this assignment are taken from the following sources:\n",
        "\n",
        "* Seaborn datasets: https://github.com/mwaskom/seaborn-data\n",
        "* Plotly datasets: https://github.com/plotly/datasets\n",
        "* Five Thirty Eight datasets: https://github.com/fivethirtyeight/data\n",
        "\n",
        "Check this links for many more datasets that can be used for data analysis and visualization."
      ]
    }
  ],
  "metadata": {
    "kernelspec": {
      "display_name": "Python 3 (ipykernel)",
      "language": "python",
      "name": "python3"
    },
    "language_info": {
      "codemirror_mode": {
        "name": "ipython",
        "version": 3
      },
      "file_extension": ".py",
      "mimetype": "text/x-python",
      "name": "python",
      "nbconvert_exporter": "python",
      "pygments_lexer": "ipython3",
      "version": "3.9.7"
    },
    "colab": {
      "provenance": [],
      "include_colab_link": true
    }
  },
  "nbformat": 4,
  "nbformat_minor": 5
}