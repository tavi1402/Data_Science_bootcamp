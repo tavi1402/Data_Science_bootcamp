{
  "cells": [
    {
      "cell_type": "markdown",
      "metadata": {
        "id": "view-in-github",
        "colab_type": "text"
      },
      "source": [
        "<a href=\"https://colab.research.google.com/github/tavi1402/Data_Science_bootcamp/blob/main/3_3_2_Category.ipynb\" target=\"_parent\"><img src=\"https://colab.research.google.com/assets/colab-badge.svg\" alt=\"Open In Colab\"/></a>"
      ]
    },
    {
      "cell_type": "markdown",
      "metadata": {
        "id": "4XYANXqSuKbe"
      },
      "source": [
        "# Working with CATEGORICAL data in Pandas:\n",
        "\n",
        "\n",
        "Pandas is the defacto toolbox for Python data scientists to ease the data analysis process. You can use it before you start analyzing, to collect, explore, and format the data. Pandas makes these steps a breeze via its numerous I/O and handy data manipulation functions."
      ]
    },
    {
      "cell_type": "markdown",
      "metadata": {
        "id": "wGLGu1Mw1n1l"
      },
      "source": [
        "**During Data analysis**, you must have encountered non-numeric datatypes mainly dates and some repetitive values called categorical datatypes.\n",
        "\n",
        "**In this tutorial**, you’ll learn the common tricks to handle **'categorical'** type of data and preprocess it to build machine learning models with them."
      ]
    },
    {
      "cell_type": "markdown",
      "metadata": {
        "id": "21go0xuSpBvD"
      },
      "source": [
        "### Prerequisites:\n",
        "- You should be familiar with Pandas data structures. Here's a [notebook](https://jovian.ai/aakashns/python-pandas-data-analysis) by Aakash NS for pandas from the very start.\n",
        "- You can find help with running this notebook online using this helper [notebook](https://jovian.ml/aakashns/05-cifar10-cnn/v/51&cellId=2).\n"
      ]
    },
    {
      "cell_type": "markdown",
      "metadata": {
        "id": "ndP_pLoQxYCd"
      },
      "source": [
        "## Loading Datasets into colab:\n",
        "I have used opendatsets, which is a Python library for downloading datasets from online sources like Kaggle and Google Drive using a simple Python command."
      ]
    },
    {
      "cell_type": "code",
      "execution_count": null,
      "metadata": {
        "id": "dlzEQmO8vWIe"
      },
      "outputs": [],
      "source": []
    },
    {
      "cell_type": "markdown",
      "metadata": {
        "id": "7xKb83z2l1aY"
      },
      "source": [
        "Steps involved in using opendatasets:\n",
        "\n",
        "* Mention the url of the dataset into a variable lets say, url_variable.\n",
        "* Import the dataset library after installing it.\n",
        "- Use `od.download(url_variable)`\n",
        "- Colab will ask for kaggle username and key which you can find on your kaggle profile.\n",
        "- Go to your account, Scroll to API section and Click Expire API Token to remove previous tokens\n",
        "- Click on Create New API Token - It will download kaggle.json file on your machine. (which contains the required information to download the dataset on your colaboratory)"
      ]
    },
    {
      "cell_type": "code",
      "execution_count": null,
      "metadata": {
        "id": "r8vaBoD_yVea"
      },
      "outputs": [],
      "source": []
    },
    {
      "cell_type": "code",
      "execution_count": null,
      "metadata": {
        "id": "VowsH5Izyu1o"
      },
      "outputs": [],
      "source": []
    },
    {
      "cell_type": "code",
      "execution_count": null,
      "metadata": {
        "id": "m_N8Z49AmNiV"
      },
      "outputs": [],
      "source": []
    },
    {
      "cell_type": "code",
      "execution_count": null,
      "metadata": {
        "id": "7jmCrgvH06r5"
      },
      "outputs": [],
      "source": []
    },
    {
      "cell_type": "code",
      "execution_count": null,
      "metadata": {
        "id": "aVLBjxVv35qM"
      },
      "outputs": [],
      "source": []
    },
    {
      "cell_type": "markdown",
      "metadata": {
        "id": "TdxAj87y4p30"
      },
      "source": [
        "So the dataset I have used for this tutorial contains about 4 million rows and 49 columns. This dataset is about accidents happening in the United States. For this tutorial let's just consider a sample of this data.  \n",
        "\n",
        "More information on the dataset I have used in this tutorial can be found [here](https://smoosavi.org/datasets/us_accidents).Or you can directly download the dataset from [kaggle](https://www.kaggle.com/sobhanmoosavi/us-accidents)."
      ]
    },
    {
      "cell_type": "code",
      "execution_count": null,
      "metadata": {
        "id": "WxDWr9Q6gvO9"
      },
      "outputs": [],
      "source": []
    },
    {
      "cell_type": "markdown",
      "metadata": {
        "id": "aNaKxsnVpuc-"
      },
      "source": [
        "Well, that reduced our dataset to One-tenth of its size.\n",
        "\n",
        "Lets begin with what are categorical datatypes:\n",
        "#  Categorical Datatypes:\n",
        "\n",
        "Categorical features can only take on a limited, and usually a fixed number of possible values. For example, in our dataset, i.e related to the number of accidents occurring in the US, typical columns for categorical data will be, accident location, timezone, airport_codes...etc. These are nominal features, where there is no order associated with categories. When there is order associated with them, they are called ordinal features. (eg.. small, medium, large)\n",
        "\n",
        "Few reasons why categorical values can be difficult to deal with are:\n",
        "- High cardinality (Features with a large number of levels)\n",
        "\n",
        "- Algebraic Machine Learning models, whose input must be numerical. (Hence categorical must be transformed into numbers before applying a learning algorithm to them)\n",
        "- It is difficult for an ML model to differentiate between highly different levels. For example, for an ML model, New York, New Jersey, and New Delhi are just three different levels.\n",
        "\n",
        "\n",
        "Hence we are challenged to figure out how we can turn these text values into numerical types for further processing and unmask information hidden among these features.\n",
        "\n",
        "Let's start with gathering information about our dataset:\n",
        "\n"
      ]
    },
    {
      "cell_type": "code",
      "execution_count": null,
      "metadata": {
        "id": "s-Rz9NWdtPBz"
      },
      "outputs": [],
      "source": []
    },
    {
      "cell_type": "markdown",
      "metadata": {
        "id": "2dmo79N6n3T0"
      },
      "source": [
        "The columns with `object` datatype are possible categorical features in our dataset. But you cannot wholly rely on `.info`, so its important that you investigate your raw dataset thouroughly and then clean it.\n",
        "\n"
      ]
    },
    {
      "cell_type": "markdown",
      "metadata": {
        "id": "00vHZZDhuRkD"
      },
      "source": [
        "Visually exploring the data is one of the best ways to extract information between variables which shall be our next step.\n",
        "But when it comes to categorical data, plotting the boxplot is the best way **to analyse the relationship between a continous and a categorical value**.\n",
        "Let's first start with some basic plots, then talk a little about boxplots."
      ]
    },
    {
      "cell_type": "code",
      "execution_count": null,
      "metadata": {
        "id": "7diDqyjNqhj_"
      },
      "outputs": [],
      "source": []
    },
    {
      "cell_type": "markdown",
      "metadata": {
        "id": "nrCQWJjTNh5m"
      },
      "source": [
        "One Exploratory Data Analysis step that you might want to do on categorical features is the frequency distribution of categories within the feature, which can be done with the `.value_counts()` method.\n"
      ]
    },
    {
      "cell_type": "code",
      "execution_count": null,
      "metadata": {
        "id": "TMXNtpUR_wGo"
      },
      "outputs": [],
      "source": []
    },
    {
      "cell_type": "markdown",
      "metadata": {
        "id": "H_L4Zrknqh7D"
      },
      "source": [
        "This graph depicts the state that has the highest number of accidents, which we can see is CA - California.\n",
        "We can get the same information with the help matplotlib's pie chart.\n",
        "Note that the above plot took up a total wall time of around 700 ms.\n"
      ]
    },
    {
      "cell_type": "markdown",
      "metadata": {
        "id": "5dLXCpGEZ6IV"
      },
      "source": [
        "**Tip:** In Pandas, it's a good practice to typecast categorical features to a category dtype because they make the operations on such columns much faster than the object dtype. You can do the typecasting by using `.astype()` method on your columns as shown below:"
      ]
    },
    {
      "cell_type": "code",
      "execution_count": null,
      "metadata": {
        "id": "iIg71A9At7_M"
      },
      "outputs": [],
      "source": []
    },
    {
      "cell_type": "markdown",
      "metadata": {
        "id": "L3yepAtxglXf"
      },
      "source": [
        "You can validate operations on the `category dtype` by timing the execution time of few data retrieving operations on this dataframe with columns as `category` dtype and even as `object` dtype with the `%%time` magic command in the cells below to compare the time taken in both cases.\n",
        "\n",
        "\n"
      ]
    },
    {
      "cell_type": "code",
      "execution_count": null,
      "metadata": {
        "id": "gR7tZPmKftSn"
      },
      "outputs": [],
      "source": []
    },
    {
      "cell_type": "code",
      "execution_count": null,
      "metadata": {
        "id": "VaDItJSPiYhW"
      },
      "outputs": [],
      "source": []
    },
    {
      "cell_type": "markdown",
      "metadata": {
        "id": "YZRIUgfSiZpu"
      },
      "source": [
        "You will notice that operations on dataframe with the `category` dtype will be much faster."
      ]
    },
    {
      "cell_type": "markdown",
      "metadata": {
        "id": "s6wOk-vHRdqr"
      },
      "source": [
        "## Handling Missing Data/Null Values,  \n",
        "Handling Missing Data/Null Values is one of the most important data pre-processing steps. It is a huge problem for data analysis because it misshapes our results. It’s difficult to be fully confident in the insights when you know that some entries are missing values.  \n",
        "\n",
        "Below I have mentioned a few ways to **Handle missing values in Categorical Columns.**  I have used only a few columns of our entire dataframe to understand these methods."
      ]
    },
    {
      "cell_type": "code",
      "execution_count": null,
      "metadata": {
        "id": "YKrWFTstPqVN"
      },
      "outputs": [],
      "source": []
    },
    {
      "cell_type": "code",
      "execution_count": null,
      "metadata": {
        "id": "vQp8FNa8GvLb"
      },
      "outputs": [],
      "source": []
    },
    {
      "cell_type": "markdown",
      "metadata": {
        "id": "djuUWG_MFPM9"
      },
      "source": [
        "The number of categories in each column with missing values:\n"
      ]
    },
    {
      "cell_type": "code",
      "execution_count": null,
      "metadata": {
        "id": "NJWHGS1cFSz0"
      },
      "outputs": [],
      "source": []
    },
    {
      "cell_type": "markdown",
      "metadata": {
        "id": "9GUhphEZ1HMa"
      },
      "source": [
        "### 1. Frequent Categorical Imputation:\n",
        "\n",
        "This is a method in which we **assume** that there is random order of missing values(MAR - Missing at Random) and there's a majority of these missing values.\n",
        "\n",
        "Under this approach we replace the missing values with the most common class, Hence the first step is to find out which category occurred most in each category using `mode()`.\n",
        "* [The mode of a set of values is the value that appears most often]"
      ]
    },
    {
      "cell_type": "code",
      "execution_count": null,
      "metadata": {
        "id": "piLmTy7g0-mI"
      },
      "outputs": [],
      "source": []
    },
    {
      "cell_type": "markdown",
      "metadata": {
        "id": "9wn6pGnLJLnP"
      },
      "source": [
        "The next step is to replace all NAN values in that column with that category"
      ]
    },
    {
      "cell_type": "code",
      "execution_count": null,
      "metadata": {
        "id": "oxBTjDRtIyk4"
      },
      "outputs": [],
      "source": []
    },
    {
      "cell_type": "code",
      "execution_count": null,
      "metadata": {
        "id": "PrehPNm5Qba5"
      },
      "outputs": [],
      "source": []
    },
    {
      "cell_type": "markdown",
      "metadata": {
        "id": "cuNy9cdWI3jp"
      },
      "source": [
        "Now you can see that there has been an addition of imputed columns that have zero null values, while the original columns continue to hold those null values which we will drop in our last step.\n",
        "\n",
        "The Last step is to Drop our original columns and keep the newly imputed ones."
      ]
    },
    {
      "cell_type": "code",
      "execution_count": null,
      "metadata": {
        "id": "62aWDibmI0nc"
      },
      "outputs": [],
      "source": []
    },
    {
      "cell_type": "markdown",
      "metadata": {
        "id": "9GxRXSeKJYRx"
      },
      "source": [
        "This is a very simple and one of the most basic approaches to handle missing values in our categorical columns, yet not a preferred one.\n",
        "* This can distort the relation of the most frequent class and,\n",
        "* Predictions may become biased due to columns that have max number of null values.\n",
        "\n",
        "So lets have a look at other ways to do the same and more efficiently.\n"
      ]
    },
    {
      "cell_type": "markdown",
      "metadata": {
        "id": "KZ5itn9r205A"
      },
      "source": [
        "### 2. Adding a variable to capture NaN:\n",
        "We use this approach without considering any assumptions, hence can be implemented on all kinds of categorical columns.\n",
        "\n",
        "In this approach, we replace the NAN categories with the most occurred values but in this case, we add a new feature to introduce some weight/importance to the non-imputed and imputed columns. Let's define our dataframe again,"
      ]
    },
    {
      "cell_type": "code",
      "execution_count": null,
      "metadata": {
        "id": "iBAdTW1OS06Z"
      },
      "outputs": [],
      "source": []
    },
    {
      "cell_type": "markdown",
      "metadata": {
        "id": "LeleS_rGU-ga"
      },
      "source": [
        "The first step is to create a new column and replace 1 if our feature value is NAN else 0. This column is an important column to the imputed category.  \n",
        "\n",
        "Next, we replace NAN value with the most occurred category in the actual column.\n"
      ]
    },
    {
      "cell_type": "code",
      "execution_count": null,
      "metadata": {
        "id": "qtHKu3SxU5Qu"
      },
      "outputs": [],
      "source": []
    },
    {
      "cell_type": "code",
      "execution_count": null,
      "metadata": {
        "id": "zP9pApE5YB0H"
      },
      "outputs": [],
      "source": []
    },
    {
      "cell_type": "markdown",
      "metadata": {
        "id": "H7jSMpXetrro"
      },
      "source": [
        "Again this method too has some disadvantages like,\n",
        "* Creating additional columns can cause Curse of Dimentionality.\n",
        "* For the Imputed Column to have value, Potentially misunderstood data & the number of missing data should be large enough."
      ]
    },
    {
      "cell_type": "markdown",
      "metadata": {
        "id": "VEwDPkx2wkAm"
      },
      "source": [
        "### 3. Create a new Category for NAN Values:\n",
        "\n",
        "Another approach to handling missing values is a very straightforward one. Again this approach can be applied to all categorical columns since we do not consider any assumptions. It has a very simple implementation. We create a new category, lets call it 'the Random Category' for all missing values."
      ]
    },
    {
      "cell_type": "code",
      "execution_count": null,
      "metadata": {
        "id": "ZPPzXbMQyfdc"
      },
      "outputs": [],
      "source": []
    },
    {
      "cell_type": "markdown",
      "metadata": {
        "id": "Xczt7VaGwxLD"
      },
      "source": [
        "I will replace NAN values with a new name, I have used the name \"Unknown\" here.\n"
      ]
    },
    {
      "cell_type": "code",
      "execution_count": null,
      "metadata": {
        "id": "o6ZLAHhgwji-"
      },
      "outputs": [],
      "source": []
    },
    {
      "cell_type": "code",
      "execution_count": null,
      "metadata": {
        "id": "J1F7H1ahxB0f"
      },
      "outputs": [],
      "source": []
    },
    {
      "cell_type": "markdown",
      "metadata": {
        "id": "Z8mqhvITyiSY"
      },
      "source": [
        "This approach preserves the variance of our data. But if the missing data is more, we will land up creating only more random data. Hence this approach doesn't give us good results when there is a high percentage of missing data."
      ]
    },
    {
      "cell_type": "markdown",
      "metadata": {
        "id": "80elLc0PRAGY"
      },
      "source": [
        "#### Machine learning algorithms and deep learning neural networks require that input and output variables are numbers. This means that categorical data must be encoded into numbers before we can use it to fit and evaluate a model. So another important step while dealing with categorical data is to encode our classes.  \n",
        "\n",
        "\n",
        "# Encoding categorical data:\n",
        "\n",
        "I'll continue to work with a small part of the entire data frame to understand these encoding techniques. I'll use the 2nd technique I mentioned to handle null values from it first and let us see what our final dataframe looks like."
      ]
    },
    {
      "cell_type": "code",
      "execution_count": null,
      "metadata": {
        "id": "9AVPic2c7Tin"
      },
      "outputs": [],
      "source": []
    },
    {
      "cell_type": "markdown",
      "metadata": {
        "id": "Oh9-2FiTu-Ye"
      },
      "source": [
        "Since we will only be looking at encoding techniques, I dont think we require these importance columns, so for now we can drop these imputed columns.  "
      ]
    },
    {
      "cell_type": "code",
      "execution_count": null,
      "metadata": {
        "id": "TNe-93szx61l"
      },
      "outputs": [],
      "source": []
    },
    {
      "cell_type": "markdown",
      "metadata": {
        "id": "A-XOVEJG_Fn7"
      },
      "source": [
        "### 1. Replacing Values:\n",
        "\n",
        "This is one of the most basic approaches and very straightforward to implement. We can just replace the categories with the desired numbers by putting them all together. This can easily be done with the `replace()` function in pandas. The idea is that we have the liberty to choose whatever numbers we want to assign to the categories according to the business use case.\n",
        "\n",
        "We first create a dictionary that will contain mapping numbers(i.e the replacement) for the categories in our category column.\n",
        "\n",
        "  I will apply this encoding technique to the `'Timezone'` column of our dataframe:"
      ]
    },
    {
      "cell_type": "code",
      "execution_count": null,
      "metadata": {
        "id": "7LvUAHBKV3aB"
      },
      "outputs": [],
      "source": []
    },
    {
      "cell_type": "code",
      "execution_count": null,
      "metadata": {
        "id": "LumRqK7APQWS"
      },
      "outputs": [],
      "source": []
    },
    {
      "cell_type": "markdown",
      "metadata": {
        "id": "vibpMjwvGZYv"
      },
      "source": [
        "The reason I have picked up the `Timezone` column is because it has a lower  number of categories. Which is why mapping is possible via a hard coded dictionary. When category count is high, typing out each mapping is not possible, which is why we cant use this technique with several categories.\n"
      ]
    },
    {
      "cell_type": "code",
      "execution_count": null,
      "metadata": {
        "id": "k85ZvMPxGM8m"
      },
      "outputs": [],
      "source": []
    },
    {
      "cell_type": "markdown",
      "metadata": {
        "id": "TXOtG9v5PPO6"
      },
      "source": [
        "You can see the `Timezone` column encoded as the mapped numbers in the dataframe above.\n",
        "\n",
        "### 2. Label Encoding:\n",
        "\n",
        "Another approach to encode categorical data is to convert each value in the column into a number. We use this encoding technique when the categorical feature is ordinal, i.e like I mentioned above, ordered categories. Hence encoding should reflect the sequence.\n",
        "\n",
        "In Label encoding, each label is converted into an integer value and these integers are always between 0 and num_categories-1.\n",
        "One way of achieving this is by using pandas `cat.codes` on our categorical column.\n"
      ]
    },
    {
      "cell_type": "code",
      "execution_count": null,
      "metadata": {
        "id": "7s88KcnGR0kV"
      },
      "outputs": [],
      "source": []
    },
    {
      "cell_type": "code",
      "execution_count": null,
      "metadata": {
        "id": "vItj9yq6bfQA"
      },
      "outputs": [],
      "source": []
    },
    {
      "cell_type": "markdown",
      "metadata": {
        "id": "xftO2_I_RcnA"
      },
      "source": [
        "Here's the different numerical equivalents of the categories in `Timezone` column using label encoder.\n",
        "\n",
        "You can also achieve this with the help of `scikit-learn`'s - `LabelEncoder` or `category_encoders`:"
      ]
    },
    {
      "cell_type": "code",
      "execution_count": null,
      "metadata": {
        "id": "V8pVB3cxrMlt"
      },
      "outputs": [],
      "source": []
    },
    {
      "cell_type": "code",
      "execution_count": null,
      "metadata": {
        "id": "q4XA4vpvR0Ab"
      },
      "outputs": [],
      "source": []
    },
    {
      "cell_type": "code",
      "execution_count": null,
      "metadata": {
        "id": "x8yEwC8D-n5u"
      },
      "outputs": [],
      "source": []
    },
    {
      "cell_type": "markdown",
      "metadata": {
        "id": "zb10dWXm6OUR"
      },
      "source": [
        "You can see the column `State` has numeric encoded values equal to the number of categories.  "
      ]
    },
    {
      "cell_type": "code",
      "execution_count": null,
      "metadata": {
        "id": "nBTX12w27MSu"
      },
      "outputs": [],
      "source": []
    },
    {
      "cell_type": "markdown",
      "metadata": {
        "id": "d_6Pp40XO4Yg"
      },
      "source": [
        "### 3. One Hot Encoding:\n",
        "\n",
        "This encoding technique is used when the features are nominal i.e do not have any order. For example in this dataset, the column `Airport_Codes` is categorical but we cant arrange them in a sequence.\n",
        "\n",
        "In one hot encoding, for each level of a categorical feature, we create a new variable. In simple terms, each category is converted into a new column. Then, each category is mapped with a binary variable containing either 0 or 1, where 0 represents the absence and 1 represents the presence of that category.\n",
        "These newly created binary features/columns are called **Dummy Variables** and are = no. of categories in a column.\n",
        "\n",
        "The simplest way to use this encoding tactic is by using `pandas` `.get_dummies()` method.  This function takes 3 arguments: dataframe, columns to perform encoding on, and lastly, the `prefix` argument that will allow us to specify the prefix for the new columns that will be created.\n",
        "\n",
        ""
      ]
    },
    {
      "cell_type": "markdown",
      "metadata": {
        "id": "KquKgczYJoRy"
      },
      "source": [
        "![category.png](data:image/png;base64,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)"
      ]
    },
    {
      "cell_type": "code",
      "execution_count": null,
      "metadata": {
        "id": "db94r7veRapz"
      },
      "outputs": [],
      "source": []
    },
    {
      "cell_type": "code",
      "execution_count": null,
      "metadata": {
        "id": "XX1vo92Rc1Gd"
      },
      "outputs": [],
      "source": []
    },
    {
      "cell_type": "markdown",
      "metadata": {
        "id": "JRIb06vy2UOt"
      },
      "source": [
        "You can even achieve one-hot encoding by directly creating a function as per our understanding of the concept of one-hot encoding."
      ]
    },
    {
      "cell_type": "code",
      "execution_count": null,
      "metadata": {
        "id": "W62B4zDhEloD"
      },
      "outputs": [],
      "source": []
    },
    {
      "cell_type": "code",
      "execution_count": null,
      "metadata": {
        "id": "RVmRyejMFs0d"
      },
      "outputs": [],
      "source": []
    },
    {
      "cell_type": "markdown",
      "metadata": {
        "id": "oLWPi8FgLcOr"
      },
      "source": [
        "As you can see, for the column `Source`:\n",
        "\n",
        "after encoding, in the second table(in both techniques), we have dummy variables each representing a category in the feature `Source`. Now for each category that is present, we have 1 in the column of that category and 0 for the others.\n",
        "\n",
        "The same can be achieved using `scikit-learn`'s `LabelBinarizer` and `OneHotEncoder` or even with `category_encoders`:\n",
        "Below I have implemented category_encoders's `.OneHotEncoder` method."
      ]
    },
    {
      "cell_type": "code",
      "execution_count": null,
      "metadata": {
        "id": "OYDdlSBxUo9U"
      },
      "outputs": [],
      "source": []
    },
    {
      "cell_type": "code",
      "execution_count": null,
      "metadata": {
        "id": "UUh0Zal5Sv6Z"
      },
      "outputs": [],
      "source": []
    },
    {
      "cell_type": "markdown",
      "metadata": {
        "id": "3M264FkHWCeY"
      },
      "source": [
        "While one-hot encoding solves the problem of unequal weights given to categories within a feature, it is not very useful when there are many categories, as that will result in the formation of as many new columns, which can result in the curse of dimensionality.\n",
        "\n",
        "The concept of the “curse of dimensionality” discusses that in high-dimensional spaces some things just stop working properly."
      ]
    },
    {
      "cell_type": "markdown",
      "metadata": {
        "id": "bZRdGjVacz2T"
      },
      "source": [
        "### 4. Binary Encoding:\n",
        "\n",
        "This is a combination of one-hot encoding and Hash encoding! In this encoding scheme, the categorical feature is first converted into numerical using an ordinal encoder (each unique category value is assigned an integer value eg, red-\"1\", blue-\"2\"). Then the numbers are transformed into a binary number. After that binary value is split into different columns. This results in fewer columns compared to one-hot encoding.\n",
        "\n",
        "Binary encoding works well when there are a high number of categories. For example, the `City` column in our dataset.  \n",
        "\n",
        "You must wonder why don't we stop after the ordinal encoding part itself, or why is a need for having to convert them into their binary equivalent only to further make columns. Here's one reason why,\n",
        "- When our categorical column is not ordinal, and the number of categories is numerous, we can not apply only Label Encoding, as that will lead to poor decision-making of our model. Unlike the case of ordinal columns. Having one-fourth of the total number of categories as columns in the dataframe can help in better decision-making of our model.  \n",
        "\n",
        "Once again I have used the `category_encoders` library and its `.BinaryEncoder` function to achieve this."
      ]
    },
    {
      "cell_type": "code",
      "execution_count": null,
      "metadata": {
        "id": "aCr8pPki5ktw"
      },
      "outputs": [],
      "source": []
    },
    {
      "cell_type": "markdown",
      "metadata": {
        "id": "L7SG2UQZ5lZU"
      },
      "source": [
        "Binary encoding is a memory-efficient encoding scheme as it uses fewer features than one-hot encoding. Further, It reduces the curse of dimensionality for data with high cardinality.\n",
        "\n",
        "- **Note** that `category_encoders` is a very useful library for encoding categorical columns. Not only does it support one-hot, binary, and label encoding, but also other advanced encoding methods like Helmert contrast, polynomial contrast, backward difference, etc."
      ]
    },
    {
      "cell_type": "code",
      "execution_count": null,
      "metadata": {
        "id": "8jRejPNot9r6"
      },
      "outputs": [],
      "source": []
    },
    {
      "cell_type": "code",
      "execution_count": null,
      "metadata": {
        "id": "GOMMIc0Yt9zz"
      },
      "outputs": [],
      "source": []
    },
    {
      "cell_type": "code",
      "execution_count": null,
      "metadata": {
        "id": "BRk59qDat99J"
      },
      "outputs": [],
      "source": []
    },
    {
      "cell_type": "markdown",
      "metadata": {
        "id": "-xnpAOJ1bjI3"
      },
      "source": [
        "## Further Reading:\n",
        "\n",
        "- [Other encoding techniques with category_encoder](https://contrib.scikit-learn.org/category_encoders/)\n",
        "\n",
        "- [Categorical data with big data using pyspark](https://towardsdatascience.com/feature-encoding-with-spark-2-3-0-part-1-9ede45562740)\n",
        "\n",
        "- [More on Categorical_encoding](https://www.analyticsvidhya.com/blog/2020/08/types-of-categorical-data-encoding/)"
      ]
    }
  ],
  "metadata": {
    "colab": {
      "provenance": [],
      "include_colab_link": true
    },
    "kernelspec": {
      "display_name": "Python 3 (ipykernel)",
      "language": "python",
      "name": "python3"
    },
    "language_info": {
      "codemirror_mode": {
        "name": "ipython",
        "version": 3
      },
      "file_extension": ".py",
      "mimetype": "text/x-python",
      "name": "python",
      "nbconvert_exporter": "python",
      "pygments_lexer": "ipython3",
      "version": "3.9.6"
    }
  },
  "nbformat": 4,
  "nbformat_minor": 0
}