{
  "cells": [
    {
      "cell_type": "markdown",
      "metadata": {
        "id": "view-in-github",
        "colab_type": "text"
      },
      "source": [
        "<a href=\"https://colab.research.google.com/github/tavi1402/Data_Science_bootcamp/blob/main/2_3_2random_variables_probability_distributions.ipynb\" target=\"_parent\"><img src=\"https://colab.research.google.com/assets/colab-badge.svg\" alt=\"Open In Colab\"/></a>"
      ]
    },
    {
      "cell_type": "markdown",
      "id": "27335a65",
      "metadata": {
        "id": "27335a65"
      },
      "source": [
        "# Random Variables and Probability Distributions\n",
        "\n",
        "This tutorial is a part of the [Zero to Data Analyst Bootcamp by Jovian](https://www.jovian.ai/data-analyst-bootcamp)\n",
        "\n",
        "![](https://i.imgur.com/wz7OnCB.jpg)\n",
        "\n",
        "\n",
        "In this tutorial, we study random variables: a powerful technique for modeling real world processes & phenomena using statistics and probability. We will also explore some commonly used probability distributions and study their applications with real-world examples."
      ]
    },
    {
      "cell_type": "markdown",
      "id": "b1956333",
      "metadata": {
        "id": "b1956333"
      },
      "source": [
        "The tutorial covers the following topics:\n",
        "    \n",
        "- Introduction to random variables and probability distributions\n",
        "- Discrete distributions: Bernoulli, Binomial, Poisson etc.\n",
        "- Continuous distributions: Uniform, Gaussian, Exponential\n",
        "- Expected value, variance and standard deviation\n",
        "- Simulating randomness with Python"
      ]
    },
    {
      "cell_type": "markdown",
      "id": "8c477ebf",
      "metadata": {
        "id": "8c477ebf"
      },
      "source": [
        "### How to Run the Code\n",
        "\n",
        "The best way to learn the material is to execute the code and experiment with it yourself. This tutorial is an executable [Jupyter notebook](https://jupyter.org). You can _run_ this tutorial and experiment with the code examples in a couple of ways: *using free online resources* (recommended) or *on your computer*.\n",
        "\n",
        "#### Option 1: Running using free online resources (1-click, recommended)\n",
        "\n",
        "The easiest way to start executing the code is to click the **Run** button at the top of this page and select **Run on Binder**. You can also select \"Run on Colab\" or \"Run on Kaggle\", but you'll need to create an account on [Google Colab](https://colab.research.google.com) or [Kaggle](https://kaggle.com) to use these platforms.\n",
        "\n",
        "\n",
        "#### Option 2: Running on your computer locally\n",
        "\n",
        "To run the code on your computer locally, you'll need to set up [Python](https://www.python.org), download the notebook and install the required libraries. We recommend using the [Conda](https://docs.conda.io/projects/conda/en/latest/user-guide/install/) distribution of Python. Click the **Run** button at the top of this page, select the **Run Locally** option, and follow the instructions.\n",
        "\n",
        "\n"
      ]
    },
    {
      "cell_type": "markdown",
      "id": "b5bd3e81",
      "metadata": {
        "id": "b5bd3e81"
      },
      "source": [
        "## Random Variables\n",
        "\n",
        "A random variable maps the **outcome of a random process** to a **number**. Here are some examples:\n",
        "\n",
        "1. A random variable $C$ has the value $1$ if the result of tossing a fair coin is a \"head\", and $0$ if the result is a \"tail\".\n",
        "2. A random variable $H$ counts the the number of heads obtained on tossing a fair coin 10 times. It can take the values 0, 1, 2, 3, 4, 5, 6, 7, 8, 10.\n",
        "3. A random variable $D$ indicates the result of a rolling a fair die. It can take the values 1, 2, 3, 4, 5, 6.\n",
        "4. A random variable $S$ indicates the sum of the numbers that show up when 2 fair dice are rolled. It can take the values 2, 3, 4, .... up to 12.\n",
        "5. A random variable $R$ indicates the amount of rainfall (in mm) in Bengaluru on a random day during the past week. Unlike, previous examples, it can take any value greater than or equal to 0. $R$ is a continuous random variable, while the others are discrete.\n",
        "6. A random variable $L$ indicates the exact duration of a video lesson on Jovian. What values can $L$ take? Is it continuous or discrete?\n",
        "7. A random variable $W$ indicates the width (diameter) of the trunk of a random tree in a forest (see picture above). Is $W$ continuous or discrete?\n",
        "\n",
        "> **EXERCISE**: Here's a simple thought experiment: think of a number between the 1 and 10. Let the random variable $T$ can indicate the result of this experiment. Repeat the experiment 20 times, and list all the values taken by T. Do some values show up more frequently than others?"
      ]
    },
    {
      "cell_type": "code",
      "execution_count": null,
      "id": "79cc2f91",
      "metadata": {
        "id": "79cc2f91"
      },
      "outputs": [],
      "source": []
    },
    {
      "cell_type": "markdown",
      "id": "e6222594",
      "metadata": {
        "id": "e6222594"
      },
      "source": [
        "Any real-world process or phenomenon whose outcome can be mapped to a number can be represented by a random variable. There are two types of random variables:\n",
        "\n",
        "1. **Discrete Random Variables**: A discrete random variable has a countable number of possible values it can take. Here are some examples: no. of heads in a coin toss, sum of two dice rolls, the number of eggs a hen lays in a given day, the number of children a random family in India has etc.\n",
        "\n",
        "\n",
        "2. **Continuous Random Variables**: A continuous random variable has an infinite number of possible from a continuous range of values. For example, the amount of rainfall in a city can take the value 1.2 mm or 1.21351 mm or 1.212321345481734 mm and so on. Similarly, the _exact_ duration of a video lesson can be 2048.537492743203 seconds. Other examples include the exact height of a random student picked from a class, the amount of water remaining in a bottle after you've taken a sip from it etc.\n",
        "\n",
        "\n",
        "> **EXERCISE**: Try to come up with 10 examples of random variables, 5 of them discrete and 5 of them continuous.\n",
        ">\n",
        "> 1. ???\n",
        "> 2. ???\n",
        "> 3. ???\n",
        "> 4. ???\n",
        "> 5. ???\n",
        "> 6. ???\n",
        "> 7. ???\n",
        "> 8. ???\n",
        "> 9. ???\n",
        "> 10. ???\n",
        "\n",
        "\n",
        "\n"
      ]
    },
    {
      "cell_type": "markdown",
      "id": "d5d00b0c",
      "metadata": {
        "id": "d5d00b0c"
      },
      "source": [
        "## Probability Distribution\n",
        "\n",
        "Consider the random variable $H$ which counts the the number of heads obtained on tossing a fair coin 10 times. It can take the values 0, 1, 2, 3, 4, 5, 6, 7, 8, 9, 10. It is the natural to ask questions like the following:\n",
        "\n",
        "- What are the chances of that $H$ takes the value 5?\n",
        "- What are the chances that it takes the value 10?\n",
        "- Is it more likely to take the 3 or the value 0?\n",
        "- Are all values equally likely? Why or why not?\n",
        "\n",
        "We can answer these questions by looking the probabilities of the different values the random variable $H$ can take. It is common practice to tabulate the values of a random variable with their probabilities:\n",
        "\n",
        "<img src=\"https://i.imgur.com/CPjpS5d.png\" width=\"240\">\n",
        "\n",
        "The above table is known as a probability distribution. A probability distribution is a **table or a function that gives the probabilities of occurrence of different possible values of a random variable**.\n",
        "\n",
        "> **EXERCISE**: Answer the following questions by looking at the probability distribution of $H$\n",
        ">\n",
        "> 1. What is the probability that $H$ takes the value 5?\n",
        "> 2. What is the probability that it takes the value 10?\n",
        "> 3. Is it more likely to take the 3 or the value 0?\n",
        "> 4. Are all values equally likely? Why or why not?\n",
        "> 5. What is the probability that $H$ takes an even value?\n",
        "> 6. What is the probability that $H$ takes the value 11?\n",
        "\n",
        "\n"
      ]
    },
    {
      "cell_type": "code",
      "execution_count": null,
      "id": "73e96a5f",
      "metadata": {
        "id": "73e96a5f"
      },
      "outputs": [],
      "source": []
    },
    {
      "cell_type": "code",
      "execution_count": null,
      "id": "7680f8fd",
      "metadata": {
        "id": "7680f8fd"
      },
      "outputs": [],
      "source": []
    },
    {
      "cell_type": "code",
      "execution_count": null,
      "id": "b3698d8d",
      "metadata": {
        "id": "b3698d8d"
      },
      "outputs": [],
      "source": []
    },
    {
      "cell_type": "code",
      "execution_count": null,
      "id": "d1044322",
      "metadata": {
        "id": "d1044322"
      },
      "outputs": [],
      "source": []
    },
    {
      "cell_type": "markdown",
      "id": "664c3bfd",
      "metadata": {
        "id": "664c3bfd"
      },
      "source": [
        "### Visualizing Probability Distributions\n",
        "\n",
        "The probability distribution of a random variables can be visualized using a bar graph.\n",
        "\n",
        "<img src=\"https://i.imgur.com/3tumTLf.jpg\" width=\"480\">\n",
        "\n",
        "The X axis of the graph lists all the values the random variable can take, in increasing order. The Y axis is used to indicate probability. For each value, we draw a bar with height is equal to to the probability of that value being taken by the random variable $H$.\n",
        "\n",
        "\n",
        "The probability distribution is also known as the **probability mass function (PMF)**."
      ]
    },
    {
      "cell_type": "markdown",
      "id": "c1596387",
      "metadata": {
        "id": "c1596387"
      },
      "source": [
        "> **QUESTION**: A random variable $C$ has the value $1$ if the result of tossing a fair coin is a \"head\", and $0$ if the result is a \"tail\". What is the probability distribution of $C$? Visualize it using a bar chart.\n",
        "\n",
        "Since \"head\" and \"tail\" are both equally likely outcomes, and each outcome corresponds a different value of the random variables, we can tabulate the probability distribution as follows:\n",
        "\n",
        "<img src=\"https://i.imgur.com/yRZz2Ab.png\" width=\"240\">\n",
        "\n",
        "This can be visualized using the following bar chart:\n",
        "\n",
        "\n",
        "<img src=\"https://i.imgur.com/qjQq4kn.jpg\" width=\"480\">\n",
        "\n"
      ]
    },
    {
      "cell_type": "markdown",
      "id": "ec97eb71",
      "metadata": {
        "id": "ec97eb71"
      },
      "source": [
        "> **QUESTION**: You toss a coin 5000 times and the result is a head 2913 times. A random variable $C'$ has the value $1$ if the result of tossing the coin is a \"head\", and $0$ if the result is a \"tail\". What is the probability distribution of $C'$? Visualize it using a bar chart.\n",
        "\n",
        "It's apparent that the coin is biases. First, let's estimate the probability of getting a head.\n",
        "\n",
        "$$P(\\textrm{Head}) \\approx \\frac{\\textrm{No. of tosses resulting in head}}{\\textrm{Total no. of tosses}}$$"
      ]
    },
    {
      "cell_type": "code",
      "execution_count": null,
      "id": "7c65bde0",
      "metadata": {
        "id": "7c65bde0"
      },
      "outputs": [],
      "source": []
    },
    {
      "cell_type": "code",
      "execution_count": null,
      "id": "7e090f37",
      "metadata": {
        "id": "7e090f37"
      },
      "outputs": [],
      "source": []
    },
    {
      "cell_type": "markdown",
      "id": "e27690c5",
      "metadata": {
        "id": "e27690c5"
      },
      "source": [
        "Now that we have the probabilities of heads and tails, and we know the values of the random variable they correspond to (0 and 1 respectively), we can tabulate the probability distribution.\n",
        "\n",
        "<img src=\"https://i.imgur.com/1nKaWQG.png\" width=\"240\">\n",
        "\n",
        "The probability distribution can be visualized as follows:\n",
        "\n",
        "<img src=\"https://i.imgur.com/IWwS6hA.jpg\" width=\"480\">\n"
      ]
    },
    {
      "cell_type": "markdown",
      "id": "aaa5bc19",
      "metadata": {
        "id": "aaa5bc19"
      },
      "source": [
        "> **QUESTION**: A random variable $S$ indicates the sum of the numbers that show up when 2 fair dice are rolled. It can take the values 2, 3, 4, .... up to 12. Tabulate and visualize the probability distribution of $S$\n",
        "\n",
        "If we represent the numbers on the faces of the two dice as a pair e.g. (2, 3) indicating that the first die shows a 2 and the second die shows a 3, the it follows that we have a total $6 \\times 6 = 36$ possible outcomes, all of which are equally likely.\n",
        "\n",
        "The value of the random variable $S$ indicates the sum of the two numbers obtained. To find the probability for each value of the random variable, we can simply count the number of outcomes that result in each value, and divide it by the total number of outcomes i.e. 36. Here's what it looks like:\n",
        "\n",
        "<img src=\"https://i.imgur.com/sEF0uTH.png\" width=\"480\">\n",
        "\n",
        "\n",
        "This probability distribution can be visualized as follows:\n",
        "\n",
        "<img src=\"https://i.imgur.com/47Z6AK0.jpg\" width=\"480\">"
      ]
    },
    {
      "cell_type": "markdown",
      "id": "53c4bbce",
      "metadata": {
        "id": "53c4bbce"
      },
      "source": [
        "> **EXERCISE**: Supposed you draw a random card from a well-shuffled deck of cards. The random variable $C$ takes a certain value depending on card drawn. If the card drawn has a number on it (2 to 10), then $C$ takes the same number as its value. Otherwise, the value of $C$ is 11. Tabulate and visualize the probability distribution of C."
      ]
    },
    {
      "cell_type": "code",
      "execution_count": null,
      "id": "549e85bb",
      "metadata": {
        "id": "549e85bb"
      },
      "outputs": [],
      "source": []
    },
    {
      "cell_type": "code",
      "execution_count": null,
      "id": "89a93f2b",
      "metadata": {
        "id": "89a93f2b"
      },
      "outputs": [],
      "source": []
    },
    {
      "cell_type": "markdown",
      "id": "5c9a9f44",
      "metadata": {
        "id": "5c9a9f44"
      },
      "source": [
        "## Common Discrete Probability Distributions\n",
        "\n",
        "A discrete random variable has a countable number of possible values it can take. Here are some examples: no. of heads in a coin toss, sum of two dice rolls, the number of eggs a hen lays in a given day, the number of children a random family in India has etc.\n",
        "\n",
        "Let's look at some probability distributions that occur commonly for discrete random variables. Keep in mind, however, it's entirely possible that the probability distribution of a discrete random variable does not fall into any of the categories listed below.\n",
        "\n",
        "\n",
        "### Bernoulli Distribution\n",
        "\n",
        "The Bernoulli distribution represents a random variable which takes exactly two values: 0 (\"failure\") and 1 (\"success\"). The value 1 occurs with some probability $p$. Here's what the distribution looks like:\n",
        "\n",
        "\n",
        "<img src=\"https://i.imgur.com/7k2O5UT.jpg\" width=\"480\">\n",
        "\n",
        "The probability distribution can also be expressed using this formula:\n",
        "\n",
        "<img src=\"https://i.imgur.com/PZ9MQRy.png\" width=\"360\">\n",
        "\n",
        "\n",
        "Here are some examples of Bernoulli distribution:\n",
        "\n",
        "- A random variable that takes the value 1 if the outcome of tossing a coin is \"head\" and 0 otherwise.\n",
        "- A random variable that takes the value 1 if a soccer team wins a championship and 0 otherwise.\n",
        "- A random variable that takes the value 1 if a student passes an exam and 0 otherwise\n",
        "- A random variable that takes the value 1 if the result of a die roll is 6 and takes the value 0 otherwise.\n",
        "\n",
        "A random variable which has a Bernoulli distribution is often called a Bernoulli trial.\n",
        "\n",
        "\n",
        "> **EXERCISE**: Tabulate and visualize the probability distributions of the above random variables.\n",
        "\n"
      ]
    },
    {
      "cell_type": "markdown",
      "id": "c2aa57b2",
      "metadata": {
        "id": "c2aa57b2"
      },
      "source": [
        "### Binomial Distribution\n",
        "\n",
        "If we perform an experiment which has two outcomes (\"success\" and \"failure\") multiple times, and use a random variable to count the number of successes, we get a binomial distribution. E.g. Tossing a fair coin 10 times and counting the number of heads results in the following probability distribution:\n",
        "\n",
        "<img src=\"https://i.imgur.com/3tumTLf.jpg\" width=\"480\">\n",
        "\n",
        "A binomial distribution is characterized by 2 parameters: the probability of success $p$ and the number of trails conducted $n$. The probability distribution is given by the formula:\n",
        "\n",
        "<img src=\"https://i.imgur.com/pauMYFD.png\" width=\"240\">\n",
        "\n",
        "Examples of Binomial distributions:\n",
        "\n",
        "- 80% of people who purchase pet insurance are women. If 9 pet insurance owners are randomly selected. The random variable $W$ counts on the number of women selected. $W$ has binomial distribution.\n",
        "- In the old days, there was a probability of  0.8 of success in any attempt to make a telephone call. 100 telephone calls were made at a phone booth last week. The random variable $P$ counts the number of telephone calls that were successful. P has a binomial distribution.\n",
        "- You roll a fair die 20 times. The random variable $S$ counts the number of times the result is a $6$. $S$ has a binomial probability distribution.\n",
        "- You pick a random card from a well-shuffled deck, look at it and put it back. You repeat this process 10 times. The random variable $C$ counts the number of spades drawn. $C$ has a binomial distribution.\n",
        "\n",
        "\n",
        "\n",
        "> **EXERCISE**: Identify the values of `n` (no. of trials) and `p` (probability of success) for each of the above examples. Tabulate and visualize their probability distributions.\n",
        "\n"
      ]
    },
    {
      "cell_type": "markdown",
      "id": "9bb3a163",
      "metadata": {
        "id": "9bb3a163"
      },
      "source": [
        "### Discrete Uniform Distribution\n",
        "\n",
        "A random variable that takes $n$ distinct values, each with equal probability $1/n$ is called a uniform distribution:\n",
        "\n",
        "![](https://i.imgur.com/9AdNQTE.png)\n",
        "\n",
        "\n",
        "Examples of uniform distribution:\n",
        "\n",
        "- The result of a rolling a fair die\n",
        "- You have a deck of cards with the cards numbered from 1 to 52. You draw a random card after shuffling the deck. The random variable $C$ indicates the number on the card drawn. $C$ has a uniform distribution.\n",
        "- Picking a random integer between 1 and 10\n"
      ]
    },
    {
      "cell_type": "markdown",
      "id": "5ccec0f1",
      "metadata": {
        "id": "5ccec0f1"
      },
      "source": [
        "## Continuous Probability Distributions\n",
        "\n",
        "A continuous random variable has an infinite number of possible from a continuous range of values.\n",
        "\n",
        "* For example, the amount of rainfall in a city can take the value 1.2 mm or 1.21351 mm or 1.212321345481734 mm and so on.\n",
        "* Similarly, the exact duration of a video lesson can be 2048.537492743203 seconds.\n",
        "* Other examples include the exact height of a random student picked from a class, the amount of water remaining in a bottle after you've taken a sip from it etc.\n",
        "\n",
        "Let's look at some commonly occuring continuous distributions.\n",
        "\n",
        "\n",
        "\n",
        "### Probability Density Function\n",
        "\n",
        "Since a random variable with a continuous distribution can taken an infinite number of continuous values, it's not to define the probability of any particular value. For instance:\n",
        "\n",
        "* It doesn't make sense to ask this question: What is the probability that the amount of rainfall tomorrow will be _exactly_ 2.4729834702384023 mm?\n",
        "* On the other hand, it makes perfect sense to ask: What is the probability that the amount of rainfall tomorrow will be between 2-3 mm.\n",
        "\n",
        "Thus, instead of defining a probability mass function specifying the probability of every single value the random variable can take, we define a **probability density function** (often denoted by $f(x)$ and abbreviated as PDF), which provides a relative measure of the likelihood of different values the random variable can take.\n",
        "\n",
        "\n",
        "<img src=\"https://i.imgur.com/DPDMrSw.png\">\n",
        "\n",
        "\n",
        "Keep in mind that the value of $f(a)$ at any specific value $a$ does not indicate the probability of $a$. Rather, to find the probability that the random variable takes a value between $a$ and $b$, we look at the area under the curve between $a$ and $b$. In calculus, this is known as the integral of the function $f$ from $a$ to $b$, denoted by $\\int_{a}^{b}f(x)$. Don't let the calculus scare you, just keep this fact in mind:\n",
        "\n",
        "> **Probability Density Function**: The area under the curve of a probability density function $f(x)$ between values $a$ and $b$ indicates the probability that the random variable represented by the PDF takes a value between $a$ and $b$.\n",
        "\n"
      ]
    },
    {
      "cell_type": "markdown",
      "id": "30f9cfac",
      "metadata": {
        "id": "30f9cfac"
      },
      "source": [
        "### Uniform Continuous Distribution\n",
        "\n",
        "A continuous uniform distribution (also referred to as rectangular distribution) represents a random variable with an infinite number of equally likely measurable values. Its density function can be visualized as follows:\n",
        "\n",
        "\n",
        "\n",
        "<img src=\"https://i.imgur.com/lnqZgMd.png\" width=\"360\">\n",
        "\n",
        "<img src=\"https://i.imgur.com/N1Yhh97.jpg\" width=\"240\">\n",
        "\n",
        "Uniform distributions rarely occur in the real world. Here are some examples:\n",
        "\n",
        "- Picking a real number between 3 and 5 (if all numbers are equally likely to be picked)\n",
        "- The exact age of a student picked randomly from a primary school that has an equal number of students in each class\n",
        "\n",
        "**Mean**: The mean of a uniform distribution that takes values between $a$ and $b$ is $\\frac{(a+b)}{2}$.\n",
        "\n",
        "**Variance**: The variance of a uniform distribution that takes values between $a$ and $b$ is $\\frac{(b-a)^2}{12}$.\n",
        "\n",
        "\n",
        "The `uniform` function from the module `random` can be used to choose value uniformly between two numbers."
      ]
    },
    {
      "cell_type": "markdown",
      "id": "1a332cd9",
      "metadata": {
        "id": "1a332cd9"
      },
      "source": [
        "### Normal Distribution\n",
        "\n",
        "A normal distribution, also known as the gaussian distribution or the bell curve, is a distribution that occurs naturally in many situations. The values around the distribution's mean are the most likely to occur. The farther a value is from its mean, the less likely it is to occur.\n",
        "\n",
        "<img src=\"https://i.imgur.com/ZkKS2SJ.png\" width=\"480\">\n",
        "\n",
        "<img src=\"https://i.imgur.com/Pr60Ejg.png\" width=\"360\">\n",
        "\n",
        "Examples:\n",
        "\n",
        "- The heights of people in a room\n",
        "- Blood pressures of 100 people randomly selected from a list\n",
        "- A random variable $R$ indicates the amount of rainfall (in mm) in Bengaluru on a random day. $R$ is quite likely to have normal distribution.\n",
        "\n",
        "![](https://i.imgur.com/4x094YH.png)\n",
        "\n",
        "\n",
        "If you study any naturally occurring phenomena whose outcomes can be quantified numerically and fall within a range with the most common value somewhere in between, chances are that you will end up with a normal distribution."
      ]
    },
    {
      "cell_type": "markdown",
      "id": "e50e626d",
      "metadata": {
        "id": "e50e626d"
      },
      "source": [
        "The **standard normal distribution** is the normal distribution with mean 0 and standard deviation 1.\n",
        "\n",
        "<img src=\"https://i.imgur.com/fHl3N58.png\" width=\"480\">\n",
        "\n",
        "\n",
        "As we vary the mean and the standard deviation, the shape of the curve remains the same, but it shifts left or right depending on the mean, and becomes wider (and shorter) or narrower (and taller) depending on the standard deviation.\n",
        "\n",
        "<img src=\"https://i.imgur.com/iYOMfR8.png\" width=\"480\">\n"
      ]
    },
    {
      "cell_type": "markdown",
      "id": "c23e5295",
      "metadata": {
        "id": "c23e5295"
      },
      "source": [
        "### Exponential Distribution\n",
        "\n",
        "The exponential distribution often represents a continuous random variable concerned with the amount of time until some specific event occurs. In general, it can represent any process where the likelihood of value gets lower as the value gets larger. Examples:\n",
        "\n",
        "- The amount of idle time between two customers arriving at a cashier.\n",
        "- The amount of money spent by shoppers in a single visit to the supermarket.\n",
        "- The number of miles that a particular car can run before its battery wears out.\n",
        "- The average income of a randomly selected person.\n",
        "\n",
        "\n",
        "<img src=\"https://i.imgur.com/RtSAY8r.png\" width=\"240\">\n",
        "\n",
        "<img src=\"https://i.imgur.com/P7ZyF87.png\" width=\"480\">\n",
        "\n",
        "\n"
      ]
    },
    {
      "cell_type": "code",
      "execution_count": null,
      "id": "d396c29d",
      "metadata": {
        "id": "d396c29d"
      },
      "outputs": [],
      "source": []
    },
    {
      "cell_type": "markdown",
      "id": "5f96fe72",
      "metadata": {
        "id": "5f96fe72"
      },
      "source": [
        "## (Optional) Simulating Randomness with Python\n",
        "\n",
        "The `random` module in Python can be used to simulate randomness and study random variables.\n",
        "\n",
        "\n",
        "We'll use the following random variables in this section:\n",
        "\n",
        "1. A random variable $C$ has the value $1$ if the result of tossing a fair coin is a \"head\", and $0$ if the result is a \"tail\".\n",
        "2. A random variable $H$ counts the the number of heads obtained on tossing a fair coin 10 times. It can take the values 0, 1, 2, 3, 4, 5, 6, 7, 8, 10.\n",
        "3. A random variable $D$ indicates the result of a rolling a fair die. It can take the values 1, 2, 3, 4, 5, 6.\n",
        "4. A random variable $S$ indicates the sum of the numbers that show up when 2 fair dice are rolled. It can take the values 2, 3, 4, .... up to 12.\n",
        "5. A random variable $R$ indicates the amount of rainfall (in mm) in Bengaluru on a random day during the past week. Unlike, previous examples, it can take any value greater than or equal to 0. $R$ is a continuous random variable, while the others are discrete.\n",
        "\n"
      ]
    },
    {
      "cell_type": "markdown",
      "id": "f63fb8d7",
      "metadata": {
        "id": "f63fb8d7"
      },
      "source": [
        "### Simulating Random Variables\n",
        "\n",
        "In some sense, the term \"variable\" in \"random variable\" is misleading because variables (both in Python and in mathematics) generally have a fixed value. A \"random variable\" on the other hand, can take many values.\n",
        "\n",
        "A random variable is more precisely defined as **a function that returns a random result corresponding the outcome of some random process**.\n",
        "\n",
        "Consider the function `toss_coin` shown below. It doesn't take any inputs. Each time we invoke `toss_coin`, a coin toss is simulated and the number $1$ is returned if the result is a head, and the number $0$ is returned if the result is a tail."
      ]
    },
    {
      "cell_type": "code",
      "execution_count": null,
      "id": "4895f6cb",
      "metadata": {
        "id": "4895f6cb"
      },
      "outputs": [],
      "source": []
    },
    {
      "cell_type": "code",
      "execution_count": null,
      "id": "4126c3a7",
      "metadata": {
        "id": "4126c3a7"
      },
      "outputs": [],
      "source": []
    },
    {
      "cell_type": "code",
      "execution_count": null,
      "id": "41791f82",
      "metadata": {
        "id": "41791f82"
      },
      "outputs": [],
      "source": []
    },
    {
      "cell_type": "code",
      "execution_count": null,
      "id": "82ac3580",
      "metadata": {
        "id": "82ac3580"
      },
      "outputs": [],
      "source": []
    },
    {
      "cell_type": "code",
      "execution_count": null,
      "id": "59ad18ca",
      "metadata": {
        "id": "59ad18ca"
      },
      "outputs": [],
      "source": []
    },
    {
      "cell_type": "markdown",
      "id": "b0c08470",
      "metadata": {
        "id": "b0c08470"
      },
      "source": [
        "Thus, the function `toss_coin` represents the random variable `C`.\n",
        "\n",
        "Similarly, the function `roll_die` below simulates rolling a fair die by randomly picking a number between 1 and 6."
      ]
    },
    {
      "cell_type": "code",
      "execution_count": null,
      "id": "1bc274d9",
      "metadata": {
        "id": "1bc274d9"
      },
      "outputs": [],
      "source": []
    },
    {
      "cell_type": "code",
      "execution_count": null,
      "id": "50ee4ff4",
      "metadata": {
        "id": "50ee4ff4"
      },
      "outputs": [],
      "source": []
    },
    {
      "cell_type": "code",
      "execution_count": null,
      "id": "3d0c5ab1",
      "metadata": {
        "id": "3d0c5ab1"
      },
      "outputs": [],
      "source": []
    },
    {
      "cell_type": "code",
      "execution_count": null,
      "id": "c26a0e97",
      "metadata": {
        "id": "c26a0e97"
      },
      "outputs": [],
      "source": []
    },
    {
      "cell_type": "code",
      "execution_count": null,
      "id": "fa6dd4a4",
      "metadata": {
        "id": "fa6dd4a4"
      },
      "outputs": [],
      "source": []
    },
    {
      "cell_type": "code",
      "execution_count": null,
      "id": "0fc79a98",
      "metadata": {
        "id": "0fc79a98"
      },
      "outputs": [],
      "source": []
    },
    {
      "cell_type": "markdown",
      "id": "7d7db31b",
      "metadata": {
        "id": "7d7db31b"
      },
      "source": [
        "Thus, the function `roll_die` represents the random variable $D$ defined earlier, which indicates the result of a rolling a fair die. It can take the values 1, 2, 3, 4, 5 and 6.\n",
        "\n",
        "Here's a function `toss_ten_coins` that simulates 10 coin tosses and counts the number of heads. Notice how we're using the `toss_coin` random variable within `toss_ten_coins` to simulate tossing each coin."
      ]
    },
    {
      "cell_type": "code",
      "execution_count": null,
      "id": "e6c4c3c5",
      "metadata": {
        "id": "e6c4c3c5"
      },
      "outputs": [],
      "source": []
    },
    {
      "cell_type": "code",
      "execution_count": null,
      "id": "437901fe",
      "metadata": {
        "id": "437901fe"
      },
      "outputs": [],
      "source": []
    },
    {
      "cell_type": "code",
      "execution_count": null,
      "id": "3f4be553",
      "metadata": {
        "id": "3f4be553"
      },
      "outputs": [],
      "source": []
    },
    {
      "cell_type": "code",
      "execution_count": null,
      "id": "7ee65b60",
      "metadata": {
        "id": "7ee65b60"
      },
      "outputs": [],
      "source": []
    },
    {
      "cell_type": "code",
      "execution_count": null,
      "id": "bbf9bb5e",
      "metadata": {
        "id": "bbf9bb5e"
      },
      "outputs": [],
      "source": []
    },
    {
      "cell_type": "markdown",
      "id": "81409cfd",
      "metadata": {
        "id": "81409cfd"
      },
      "source": [
        "\n",
        "\n",
        "> **EXERCISE**: Define a function `roll_two_dice` which simulates two dice rolls and returns the sum of the results. Invoke the function a few times and verify that it takes the different values you expect it to take."
      ]
    },
    {
      "cell_type": "code",
      "execution_count": null,
      "id": "76ff0ae5",
      "metadata": {
        "id": "76ff0ae5"
      },
      "outputs": [],
      "source": []
    },
    {
      "cell_type": "code",
      "execution_count": null,
      "id": "d4ad155c",
      "metadata": {
        "id": "d4ad155c"
      },
      "outputs": [],
      "source": []
    },
    {
      "cell_type": "code",
      "execution_count": null,
      "id": "7acc9795",
      "metadata": {
        "id": "7acc9795"
      },
      "outputs": [],
      "source": []
    },
    {
      "cell_type": "markdown",
      "id": "3e830c54",
      "metadata": {
        "id": "3e830c54"
      },
      "source": [
        "> **EXERCISE**: The following table shows the amount of rainfall in Bengaluru on each day during the last week. Define a function `rainfall_last_week` which returns the rainfall on a random day from the last week each time it is invoked.\n",
        "> <img src=\"https://i.imgur.com/gbj5GbP.png\" width=\"240\">\n",
        ">  "
      ]
    },
    {
      "cell_type": "code",
      "execution_count": null,
      "id": "1baf2927",
      "metadata": {
        "id": "1baf2927"
      },
      "outputs": [],
      "source": []
    },
    {
      "cell_type": "code",
      "execution_count": null,
      "id": "69feb57c",
      "metadata": {
        "id": "69feb57c"
      },
      "outputs": [],
      "source": []
    },
    {
      "cell_type": "markdown",
      "id": "eed5ec45",
      "metadata": {
        "id": "eed5ec45"
      },
      "source": [
        "\n",
        "\n",
        "> **QUESTION**: A random variable $C$ has the value $1$ if the result of tossing a fair coin is a \"head\", and $0$ if the result is a \"tail\". What is the probability distribution of $C$. Write a function `pmf_coin_toss` which takes a value as input and returns the probability of $C$ taking that value as output.\n",
        "\n",
        "The random variable takes 2 values: 0 and 1, depending on the whether the coin shows a tail or a head, both of which are equally likely. Thus the values 0 and 1 both have the probability 0.5.\n",
        "\n",
        "<img src=\"https://i.imgur.com/fcHugw5.png\" width=\"240\">\n",
        "\n",
        "We can represent the probability distribution of $C$ using a function."
      ]
    },
    {
      "cell_type": "code",
      "execution_count": null,
      "id": "c23ba6e5",
      "metadata": {
        "id": "c23ba6e5"
      },
      "outputs": [],
      "source": []
    },
    {
      "cell_type": "code",
      "execution_count": null,
      "id": "15a1b7a1",
      "metadata": {
        "id": "15a1b7a1"
      },
      "outputs": [],
      "source": []
    },
    {
      "cell_type": "markdown",
      "id": "57a77115",
      "metadata": {
        "id": "57a77115"
      },
      "source": [
        "### Visualizing Probability Distributions\n",
        "\n",
        "The probability distribution of a random variable can also be visualized using a bar chart."
      ]
    },
    {
      "cell_type": "code",
      "execution_count": null,
      "id": "291715ad",
      "metadata": {
        "id": "291715ad"
      },
      "outputs": [],
      "source": []
    },
    {
      "cell_type": "markdown",
      "id": "0d61a5fa",
      "metadata": {
        "id": "0d61a5fa"
      },
      "source": [
        "The function `visualize_pmf` takes a list of values and the probability density function of random variable. We use the `plt.bar` function from `matplotlib` to draw a bar chart. We'll learn more about `matplotlib` in a later lesson."
      ]
    },
    {
      "cell_type": "code",
      "execution_count": null,
      "id": "b0b254dd",
      "metadata": {
        "id": "b0b254dd"
      },
      "outputs": [],
      "source": []
    },
    {
      "cell_type": "markdown",
      "id": "0c87825e",
      "metadata": {
        "id": "0c87825e"
      },
      "source": [
        "> **EXERCISE**: You are given a biased coin that show a head with the probability 0.7. The random variable $B$ has the value $1$ if the result of tossing the biased coin is a \"head\", and $0$ if the result is a \"tail\".  Write a function `pmf_biased_coin_toss` which takes a value as input and returns the probability of $B$ taking that value as output."
      ]
    },
    {
      "cell_type": "code",
      "execution_count": null,
      "id": "52550ed0",
      "metadata": {
        "id": "52550ed0"
      },
      "outputs": [],
      "source": []
    },
    {
      "cell_type": "code",
      "execution_count": null,
      "id": "abea0c04",
      "metadata": {
        "id": "abea0c04"
      },
      "outputs": [],
      "source": []
    },
    {
      "cell_type": "code",
      "execution_count": null,
      "id": "7009938c",
      "metadata": {
        "id": "7009938c"
      },
      "outputs": [],
      "source": []
    },
    {
      "cell_type": "markdown",
      "id": "10c98b92",
      "metadata": {
        "id": "10c98b92"
      },
      "source": [
        "> **EXERCISE**: Write a function `pmf_die_roll` which represents the probability distribution of a the random variable $D$ that indicates the result of a rolling a fair die. It can take the values 1, 2, 3, 4, 5, 6. Visualize the probability distribution using a bar chart."
      ]
    },
    {
      "cell_type": "code",
      "execution_count": null,
      "id": "4a24c474",
      "metadata": {
        "id": "4a24c474"
      },
      "outputs": [],
      "source": []
    },
    {
      "cell_type": "code",
      "execution_count": null,
      "id": "b17b6e59",
      "metadata": {
        "id": "b17b6e59"
      },
      "outputs": [],
      "source": []
    },
    {
      "cell_type": "code",
      "execution_count": null,
      "id": "89a165dc",
      "metadata": {
        "id": "89a165dc"
      },
      "outputs": [],
      "source": []
    },
    {
      "cell_type": "markdown",
      "id": "17254820",
      "metadata": {
        "id": "17254820"
      },
      "source": [
        "> **QUESTION**: Write a function `pmf_toss_ten_coins` which represents the probability distribution of the random variable $H$ counting the the number of heads obtained on tossing a fair coin 10 times. It can take the values 0, 1, 2, 3, 4, 5, 6, 7, 8, 10. Visualize the probability distribution using a bar chart. You may find the following counting functions useful."
      ]
    },
    {
      "cell_type": "code",
      "execution_count": null,
      "id": "77058419",
      "metadata": {
        "id": "77058419"
      },
      "outputs": [],
      "source": []
    },
    {
      "cell_type": "markdown",
      "id": "27e13be3",
      "metadata": {
        "id": "27e13be3"
      },
      "source": [
        "To answer the above question, let's try to compute the probability that $H$ takes the value 3 i.e we get 3 heads when a fair coin is tossed 10 times.\n",
        "\n",
        "$$\\textrm{Total no. of outcomes} = 2^{10}$$\n",
        "\n",
        "$$\\textrm{No. of matching of outcomes} = \\textrm{No. of ways of selecting 3 positions out of 10} = {}^{10}C_3$$\n",
        "\n",
        "$$P(X = 3) = \\frac{\\textrm{No. of matching outcomes}}{\\textrm{Total no. of outcomes}} = \\frac{{}^{10}C_3}{2^{10}}$$\n",
        "\n",
        "Generalizing this, we get:\n",
        "\n",
        "$$P(X = k) = \\frac{{}^{10}C_k}{2^{10}}$$\n",
        "\n",
        "We can now define the function `pmf_toss_ten_coins`."
      ]
    },
    {
      "cell_type": "code",
      "execution_count": null,
      "id": "0959b349",
      "metadata": {
        "id": "0959b349"
      },
      "outputs": [],
      "source": []
    },
    {
      "cell_type": "code",
      "execution_count": null,
      "id": "14361ad0",
      "metadata": {
        "scrolled": true,
        "id": "14361ad0"
      },
      "outputs": [],
      "source": []
    },
    {
      "cell_type": "code",
      "execution_count": null,
      "id": "55aa1d30",
      "metadata": {
        "scrolled": true,
        "id": "55aa1d30"
      },
      "outputs": [],
      "source": []
    },
    {
      "cell_type": "code",
      "execution_count": null,
      "id": "6a212f74",
      "metadata": {
        "id": "6a212f74"
      },
      "outputs": [],
      "source": []
    },
    {
      "cell_type": "markdown",
      "id": "1f4770c1",
      "metadata": {
        "id": "1f4770c1"
      },
      "source": [
        "We can now visualize the probability distribution of $H$ using `visualize_pdf`."
      ]
    },
    {
      "cell_type": "code",
      "execution_count": null,
      "id": "c11f956d",
      "metadata": {
        "id": "c11f956d"
      },
      "outputs": [],
      "source": []
    },
    {
      "cell_type": "markdown",
      "id": "4425affc",
      "metadata": {
        "id": "4425affc"
      },
      "source": [
        "As you might have guessed, we're more likely to see 5 heads than we are to see 0 heads when a fair coin is tossed 10 times. The picture above demonstrates the same intuition using mathematical computations. Visualizing the probability distribution of a random variable can help us better understand the random process or phenomenon it represents."
      ]
    },
    {
      "cell_type": "markdown",
      "id": "fe7b6270",
      "metadata": {
        "id": "fe7b6270"
      },
      "source": [
        "> **EXERCISE**: Write a function `pdf_roll_two_dice` to represent the probability distribution of the random variable $S$ indicating the sum of the numbers that show up when 2 fair dice are rolled. It can take the values 2, 3, 4, .... up to 12. Visualize the PDF using a bar chart.\n",
        ">\n",
        "> *Hint*: List all the outcomes you can get when you roll two fair die, then count the number of outcomes where the sum equals a given value."
      ]
    },
    {
      "cell_type": "code",
      "execution_count": null,
      "id": "def72fe5",
      "metadata": {
        "id": "def72fe5"
      },
      "outputs": [],
      "source": []
    },
    {
      "cell_type": "code",
      "execution_count": null,
      "id": "c9684f6f",
      "metadata": {
        "id": "c9684f6f"
      },
      "outputs": [],
      "source": []
    },
    {
      "cell_type": "code",
      "execution_count": null,
      "id": "a1a2e24f",
      "metadata": {
        "id": "a1a2e24f"
      },
      "outputs": [],
      "source": []
    },
    {
      "cell_type": "markdown",
      "id": "89b1cd3a",
      "metadata": {
        "id": "89b1cd3a"
      },
      "source": [
        "### Modeling Discrete Distributions\n",
        "\n",
        "#### Bernoulli Distribution\n",
        "\n",
        "We can create a function to generate the PMF for a bernoulli random variable."
      ]
    },
    {
      "cell_type": "code",
      "execution_count": null,
      "id": "ac645e4a",
      "metadata": {
        "id": "ac645e4a"
      },
      "outputs": [],
      "source": []
    },
    {
      "cell_type": "markdown",
      "id": "b0d9797e",
      "metadata": {
        "id": "b0d9797e"
      },
      "source": [
        "#### Example: Fair Coin\n",
        "\n",
        "Let's use the above formula visualize the PMF of tossing an unbiased coin."
      ]
    },
    {
      "cell_type": "code",
      "execution_count": null,
      "id": "32e0132b",
      "metadata": {
        "id": "32e0132b"
      },
      "outputs": [],
      "source": []
    },
    {
      "cell_type": "markdown",
      "id": "7e4b574f",
      "metadata": {
        "id": "7e4b574f"
      },
      "source": [
        "#### Example: Biased Coin\n",
        "\n",
        "Let's use the above formula visualize the PMF of tossing an biased coin that results in a head with the probability 0.7"
      ]
    },
    {
      "cell_type": "code",
      "execution_count": null,
      "id": "8a80d6ad",
      "metadata": {
        "id": "8a80d6ad"
      },
      "outputs": [],
      "source": []
    },
    {
      "cell_type": "markdown",
      "id": "19c7c05c",
      "metadata": {
        "id": "19c7c05c"
      },
      "source": [
        "\n",
        "\n",
        "#### Binomial Distribution"
      ]
    },
    {
      "cell_type": "code",
      "execution_count": null,
      "id": "b4cb99bb",
      "metadata": {
        "id": "b4cb99bb"
      },
      "outputs": [],
      "source": []
    },
    {
      "cell_type": "markdown",
      "id": "cbe44f1f",
      "metadata": {
        "id": "cbe44f1f"
      },
      "source": [
        "#### Example: Fair Coin Tossed 10 Times\n",
        "\n",
        "Let's use the above formula visualize the PMF of no. of heads obtained when a fair coin is tossed 10 times."
      ]
    },
    {
      "cell_type": "code",
      "execution_count": null,
      "id": "4023ef69",
      "metadata": {
        "id": "4023ef69"
      },
      "outputs": [],
      "source": []
    },
    {
      "cell_type": "markdown",
      "id": "f3a3d459",
      "metadata": {
        "id": "f3a3d459"
      },
      "source": [
        "#### Biased Coin Tossed 10 Times\n",
        "\n",
        "Let's use the above formula visualize the PMF of no. of heads obtained when a biased coin that returns heads with the probability 0.7 is tossed 10 times."
      ]
    },
    {
      "cell_type": "code",
      "execution_count": null,
      "id": "1c20a8a2",
      "metadata": {
        "id": "1c20a8a2"
      },
      "outputs": [],
      "source": []
    },
    {
      "cell_type": "markdown",
      "id": "d44f93dd",
      "metadata": {
        "id": "d44f93dd"
      },
      "source": [
        "#### Uniform Distribution"
      ]
    },
    {
      "cell_type": "code",
      "execution_count": null,
      "id": "e857aa30",
      "metadata": {
        "id": "e857aa30"
      },
      "outputs": [],
      "source": []
    },
    {
      "cell_type": "markdown",
      "id": "0392f55c",
      "metadata": {
        "id": "0392f55c"
      },
      "source": [
        "#### Example: Rolling a Fair Die\n",
        "\n",
        "Let's use the above formula visualize the PMF of the result obtained when a fair die is rolled."
      ]
    },
    {
      "cell_type": "code",
      "execution_count": null,
      "id": "2f36c3e0",
      "metadata": {
        "id": "2f36c3e0"
      },
      "outputs": [],
      "source": []
    },
    {
      "cell_type": "markdown",
      "id": "5ae3bad6",
      "metadata": {
        "id": "5ae3bad6"
      },
      "source": [
        "### Expected Value, Variance and Standard Deviation\n",
        "\n",
        "**Expected Value**: The expected value of a discrete random variable is simply a weighted average of the values it takes, with the probabilities used as weights.\n",
        "\n",
        "**Variance**: The variance of a discrete random variable is the weighted average of the the square of the difference between the values and the expected value, with the probabilities used as weights.\n",
        "\n",
        "**Standard deviation**: The standard deviation of a random variable is the square root of its variance.\n",
        "\n",
        "\n",
        "Given the values and PMF for a random variable, we can use the following functions to find the expected value, variance and standard deviation."
      ]
    },
    {
      "cell_type": "code",
      "execution_count": null,
      "id": "4e937562",
      "metadata": {
        "id": "4e937562"
      },
      "outputs": [],
      "source": []
    },
    {
      "cell_type": "code",
      "execution_count": null,
      "id": "7d86b8df",
      "metadata": {
        "id": "7d86b8df"
      },
      "outputs": [],
      "source": []
    },
    {
      "cell_type": "code",
      "execution_count": null,
      "id": "94372554",
      "metadata": {
        "id": "94372554"
      },
      "outputs": [],
      "source": []
    },
    {
      "cell_type": "markdown",
      "id": "ae87fb52",
      "metadata": {
        "id": "ae87fb52"
      },
      "source": [
        "> **EXERCISE**: Find the expected value, variance and standard deviation for each of the random variables studied above."
      ]
    },
    {
      "cell_type": "code",
      "execution_count": null,
      "id": "910f4ed6",
      "metadata": {
        "id": "910f4ed6"
      },
      "outputs": [],
      "source": []
    },
    {
      "cell_type": "code",
      "execution_count": null,
      "id": "94ef2677",
      "metadata": {
        "id": "94ef2677"
      },
      "outputs": [],
      "source": []
    },
    {
      "cell_type": "markdown",
      "id": "c937508e",
      "metadata": {
        "id": "c937508e"
      },
      "source": [
        "Expected value, variance and standard distribution are also defined for continuous random variables, and they're typically computed using integrals."
      ]
    },
    {
      "cell_type": "markdown",
      "id": "56c2193d",
      "metadata": {
        "id": "56c2193d"
      },
      "source": [
        "### Simulating Continuous Random Variables\n",
        "\n",
        "#### Uniform"
      ]
    },
    {
      "cell_type": "code",
      "execution_count": null,
      "id": "1cb37cf9",
      "metadata": {
        "id": "1cb37cf9"
      },
      "outputs": [],
      "source": []
    },
    {
      "cell_type": "code",
      "execution_count": null,
      "id": "89a2e5bf",
      "metadata": {
        "scrolled": true,
        "id": "89a2e5bf"
      },
      "outputs": [],
      "source": []
    },
    {
      "cell_type": "markdown",
      "id": "b0e8c9ac",
      "metadata": {
        "id": "b0e8c9ac"
      },
      "source": [
        "Supposed we wanted to pick a random number uniformly between 0 and 5. Here's how we can do it:"
      ]
    },
    {
      "cell_type": "code",
      "execution_count": null,
      "id": "d6a310fe",
      "metadata": {
        "scrolled": true,
        "id": "d6a310fe"
      },
      "outputs": [],
      "source": []
    },
    {
      "cell_type": "code",
      "execution_count": null,
      "id": "afbe92e3",
      "metadata": {
        "id": "afbe92e3"
      },
      "outputs": [],
      "source": []
    },
    {
      "cell_type": "markdown",
      "id": "7663a159",
      "metadata": {
        "id": "7663a159"
      },
      "source": [
        "#### Normal"
      ]
    },
    {
      "cell_type": "code",
      "execution_count": null,
      "id": "47fa63b8",
      "metadata": {
        "id": "47fa63b8"
      },
      "outputs": [],
      "source": []
    },
    {
      "cell_type": "markdown",
      "id": "cd889d6e",
      "metadata": {
        "id": "cd889d6e"
      },
      "source": [
        "## Summary  and Further Reading\n",
        "\n",
        "We've covered the following topics in this tutorial:\n",
        "    \n",
        "- Introduction to random variables and probability distributions\n",
        "- Discrete distributions: Bernoulli, Binomial, Poisson etc.\n",
        "- Continuous distributions: Uniform, Gaussian, Exponential\n",
        "- Expected value, variance and standard deviation\n",
        "- Simulating randomness with Python\n",
        "\n",
        "\n",
        "    \n",
        "    \n",
        "Resources to learn more:\n",
        "\n",
        "- Khan Academy: https://www.khanacademy.org/math/statistics-probability/random-variables-stats-library\n",
        "- Crash course: [Distributions](https://www.youtube.com/watch?v=bPFNxD3Yg6U), [Binomial Distribution](https://www.youtube.com/watch?v=bPFNxD3Yg6U), [Normal Distribution](https://www.youtube.com/watch?v=rBjft49MAO8&list=PLH2l6uzC4UEW3iJO4T0qUeUEp_X-f1U7S&index=20)"
      ]
    },
    {
      "cell_type": "markdown",
      "id": "d707d731",
      "metadata": {
        "id": "d707d731"
      },
      "source": [
        "## Questions for Revision\n",
        "1.\tWhat is a random variable in terms of sample space?\n",
        "2.\tDefine the terms: (i.) Discrete data (ii.) Continuous data\n",
        "3.\tWhat is the range space of a discrete random variable and a continuous random variable?\n",
        "4.\tWhat are the conditions that probability distribution of a discrete random variable must satisfy?\n",
        "5.\tWhat are the conditions that probability distribution of a continuous random variable must satisfy?\n",
        "6.\tWhat is probability mass function (PMF) and probability density function (PDF)?\n",
        "7.\tWhat are the probability distributions of discrete random variables and continuous random variables?\n",
        "8.\tWhat are the properties of Binomial, Poisson, Exponential, Uniform, Gamma and Beta distributions?\n",
        "9.\tWhat is the difference between Bernoulli and Binomial distribution? Explain with examples.\n",
        "10.\tUnder what conditions Binomial distribution is considered as Poisson distribution?\n",
        "11.\tHow often does rectangular distribution occur in real world?\n",
        "12.\tWhat is standard normal distribution? In what scenarios do you often come across it?\n",
        "13.\tA knitting basket has ‘a’ green wool rolls and ‘b’ red wool rolls. Rolls are drawn one by one until only the left rolls are all of same colour. What is the probability that the left over rolls are green?\n",
        "14.\tWhat is the meaning bell-shaped curve in a graph? What does it tell about the data?\n",
        "15.\tWhat is the significance of lambda (λ) in exponential distribution?\n",
        "16.\tHow can you generate random variables for discrete and continuous states in Python? What library do we need?\n",
        "17.\tWhat are the laws of mathematical expectation?\n",
        "18.\tWhat is the importance of normal distribution in statistical analysis?\n",
        "19.\tFind the value of 'y' given f(x) is a pdf:\n",
        "                                  f (x) = y/x^2, 10<=x<=20;\n",
        "                                        = 0, otherwise\n",
        "20.\tGiven pdf of a discrete random variable where ‘z’ represent weekly demand of an item:\n",
        "                                        z=0,1,2,3\n",
        "                                  P(z)=0.15,0.25,0.35,0.45\n",
        "    If the weekly demands are identical and independent, find pdf for two-week demand.\n"
      ]
    },
    {
      "cell_type": "markdown",
      "id": "64f193c1",
      "metadata": {
        "id": "64f193c1"
      },
      "source": [
        "## Solutions for Exercises"
      ]
    },
    {
      "cell_type": "markdown",
      "id": "b979422c",
      "metadata": {
        "id": "b979422c"
      },
      "source": [
        "> **EXERCISE**: Suppose you draw a random card from a well-shuffled deck of cards. The random variable $C$ takes a certain value depending on card drawn. If the card drawn has a number on it (2 to 10), then $C$ takes the same number as its value. Otherwise, the value of $C$ is 11. Tabulate and visualize the probability distribution of C."
      ]
    },
    {
      "cell_type": "markdown",
      "id": "d248e7f3",
      "metadata": {
        "id": "d248e7f3"
      },
      "source": [
        "![](https://i.imgur.com/Jst9K6g.png)"
      ]
    },
    {
      "cell_type": "markdown",
      "id": "7e4419a1",
      "metadata": {
        "id": "7e4419a1"
      },
      "source": [
        "deck has 52 cards\n",
        "2-10 cards of 4 sets i.e. 27 number cards\n",
        "ace, king, queen and jack of 4 sets i.e. 12 letter cards"
      ]
    },
    {
      "cell_type": "markdown",
      "id": "6a52e6ea",
      "metadata": {
        "id": "6a52e6ea"
      },
      "source": [
        "probability of picking a number is 27/52 i.e. 0.5192307692307693\n",
        "probability of picking not a number is 12/52 i.e. 0.23076923076923078"
      ]
    },
    {
      "cell_type": "code",
      "execution_count": null,
      "id": "3a43fbbf",
      "metadata": {
        "id": "3a43fbbf"
      },
      "outputs": [],
      "source": []
    },
    {
      "cell_type": "code",
      "execution_count": null,
      "id": "716b75a5",
      "metadata": {
        "id": "716b75a5"
      },
      "outputs": [],
      "source": []
    },
    {
      "cell_type": "code",
      "execution_count": null,
      "id": "35866f39",
      "metadata": {
        "id": "35866f39"
      },
      "outputs": [],
      "source": []
    },
    {
      "cell_type": "code",
      "execution_count": null,
      "id": "6932ea6f",
      "metadata": {
        "id": "6932ea6f"
      },
      "outputs": [],
      "source": []
    },
    {
      "cell_type": "code",
      "execution_count": null,
      "id": "07ecc1b4",
      "metadata": {
        "id": "07ecc1b4"
      },
      "outputs": [],
      "source": []
    },
    {
      "cell_type": "code",
      "execution_count": null,
      "id": "e5e084ce",
      "metadata": {
        "id": "e5e084ce"
      },
      "outputs": [],
      "source": []
    },
    {
      "cell_type": "markdown",
      "id": "e217f978",
      "metadata": {
        "id": "e217f978"
      },
      "source": [
        "some examples of Bernoulli distribution:\n",
        "\n",
        "- A random variable that takes the value 1 if the outcome of tossing a coin is \"head\" and 0 otherwise.\n",
        "- A random variable that takes the value 1 if a soccer team wins a championship and 0 otherwise.\n",
        "- A random variable that takes the value 1 if a student passes an exam and 0 otherwise\n",
        "- A random variable that takes the value 1 if the result of a die roll is 6 and takes the value 0 otherwise.\n",
        "\n",
        "A random variable which has a Bernoulli distribution is often called a Bernoulli trial.\n",
        "\n",
        "\n",
        "> **EXERCISE**: Tabulate and visualize the probability distributions of the above random variables.\n",
        "\n"
      ]
    },
    {
      "cell_type": "markdown",
      "id": "38308202",
      "metadata": {
        "id": "38308202"
      },
      "source": [
        "- A random variable that takes the value 1 if a soccer team wins a championship and 0 otherwise."
      ]
    },
    {
      "cell_type": "code",
      "execution_count": null,
      "id": "ba30a287",
      "metadata": {
        "id": "ba30a287"
      },
      "outputs": [],
      "source": []
    },
    {
      "cell_type": "code",
      "execution_count": null,
      "id": "1df82b13",
      "metadata": {
        "id": "1df82b13"
      },
      "outputs": [],
      "source": []
    },
    {
      "cell_type": "markdown",
      "id": "e39e1744",
      "metadata": {
        "id": "e39e1744"
      },
      "source": [
        "- A random variable that takes the value 1 if the result of a die roll is 6 and takes the value 0 otherwise."
      ]
    },
    {
      "cell_type": "code",
      "execution_count": null,
      "id": "9f7eb340",
      "metadata": {
        "id": "9f7eb340"
      },
      "outputs": [],
      "source": []
    },
    {
      "cell_type": "code",
      "execution_count": null,
      "id": "709e51a8",
      "metadata": {
        "id": "709e51a8"
      },
      "outputs": [],
      "source": []
    },
    {
      "cell_type": "markdown",
      "id": "245e24e3",
      "metadata": {
        "id": "245e24e3"
      },
      "source": [
        "You can practice for other random variable examples :)"
      ]
    },
    {
      "cell_type": "markdown",
      "id": "7c745eaa",
      "metadata": {
        "id": "7c745eaa"
      },
      "source": [
        "> **EXERCISE**: Identify the values of `n` (no. of trials) and `p` (probability of success) for each of the above examples. Tabulate and visualize their probability distributions.\n",
        "\n"
      ]
    },
    {
      "cell_type": "code",
      "execution_count": null,
      "id": "cbbdf898",
      "metadata": {
        "id": "cbbdf898"
      },
      "outputs": [],
      "source": []
    },
    {
      "cell_type": "code",
      "execution_count": null,
      "id": "0691d81b",
      "metadata": {
        "id": "0691d81b"
      },
      "outputs": [],
      "source": []
    },
    {
      "cell_type": "code",
      "execution_count": null,
      "id": "819cc4cc",
      "metadata": {
        "id": "819cc4cc"
      },
      "outputs": [],
      "source": []
    },
    {
      "cell_type": "code",
      "execution_count": null,
      "id": "4422133c",
      "metadata": {
        "id": "4422133c"
      },
      "outputs": [],
      "source": []
    },
    {
      "cell_type": "markdown",
      "id": "08a17d5b",
      "metadata": {
        "id": "08a17d5b"
      },
      "source": [
        "- 80% of people who purchase pet insurance are women. If 9 pet insurance owners are randomly selected. The random variable $W$ counts on the number of women selected. $W$ has binomial distribution."
      ]
    },
    {
      "cell_type": "code",
      "execution_count": null,
      "id": "140aa921",
      "metadata": {
        "id": "140aa921"
      },
      "outputs": [],
      "source": []
    },
    {
      "cell_type": "code",
      "execution_count": null,
      "id": "d3fef46a",
      "metadata": {
        "id": "d3fef46a"
      },
      "outputs": [],
      "source": []
    },
    {
      "cell_type": "code",
      "execution_count": null,
      "id": "1af00c0a",
      "metadata": {
        "id": "1af00c0a"
      },
      "outputs": [],
      "source": []
    },
    {
      "cell_type": "code",
      "execution_count": null,
      "id": "52238321",
      "metadata": {
        "id": "52238321"
      },
      "outputs": [],
      "source": []
    },
    {
      "cell_type": "markdown",
      "id": "355e2b15",
      "metadata": {
        "id": "355e2b15"
      },
      "source": [
        "- In the old days, there was a probability of  0.8 of success in any attempt to make a telephone call. 100 telephone calls were made at a phone booth last week. The random variable $P$ counts the number of telephone calls that were successful. P has a binomial distribution."
      ]
    },
    {
      "cell_type": "code",
      "execution_count": null,
      "id": "d7caea67",
      "metadata": {
        "id": "d7caea67"
      },
      "outputs": [],
      "source": []
    },
    {
      "cell_type": "code",
      "execution_count": null,
      "id": "b1be6c04",
      "metadata": {
        "id": "b1be6c04"
      },
      "outputs": [],
      "source": []
    },
    {
      "cell_type": "code",
      "execution_count": null,
      "id": "3e1000e0",
      "metadata": {
        "id": "3e1000e0"
      },
      "outputs": [],
      "source": []
    },
    {
      "cell_type": "code",
      "execution_count": null,
      "id": "4b424553",
      "metadata": {
        "id": "4b424553"
      },
      "outputs": [],
      "source": []
    },
    {
      "cell_type": "markdown",
      "id": "505ac351",
      "metadata": {
        "id": "505ac351"
      },
      "source": [
        "- You roll a fair die 20 times. The random variable $S$ counts the number of times the result is a $6$. $S$ has a binomial probability distribution."
      ]
    },
    {
      "cell_type": "code",
      "execution_count": null,
      "id": "dbfeedd4",
      "metadata": {
        "id": "dbfeedd4"
      },
      "outputs": [],
      "source": []
    },
    {
      "cell_type": "code",
      "execution_count": null,
      "id": "876b3287",
      "metadata": {
        "id": "876b3287"
      },
      "outputs": [],
      "source": []
    },
    {
      "cell_type": "code",
      "execution_count": null,
      "id": "e3cad11e",
      "metadata": {
        "id": "e3cad11e"
      },
      "outputs": [],
      "source": []
    },
    {
      "cell_type": "code",
      "execution_count": null,
      "id": "e4b8aa72",
      "metadata": {
        "id": "e4b8aa72"
      },
      "outputs": [],
      "source": []
    },
    {
      "cell_type": "markdown",
      "id": "ee1d7b2d",
      "metadata": {
        "id": "ee1d7b2d"
      },
      "source": [
        "- You pick a random card from a well-shuffled deck, look at it and put it back. You repeat this process 10 times. The random variable $C$ counts the number of spades drawn. $C$ has a binomial distribution."
      ]
    },
    {
      "cell_type": "code",
      "execution_count": null,
      "id": "d6e784b5",
      "metadata": {
        "id": "d6e784b5"
      },
      "outputs": [],
      "source": []
    },
    {
      "cell_type": "code",
      "execution_count": null,
      "id": "9d7f29c8",
      "metadata": {
        "id": "9d7f29c8"
      },
      "outputs": [],
      "source": []
    },
    {
      "cell_type": "code",
      "execution_count": null,
      "id": "b62b683c",
      "metadata": {
        "id": "b62b683c"
      },
      "outputs": [],
      "source": []
    },
    {
      "cell_type": "code",
      "execution_count": null,
      "id": "105732af",
      "metadata": {
        "id": "105732af"
      },
      "outputs": [],
      "source": []
    },
    {
      "cell_type": "markdown",
      "id": "d0a8b25a",
      "metadata": {
        "id": "d0a8b25a"
      },
      "source": [
        "\n",
        "\n",
        "> **EXERCISE**: Define a function `roll_two_dice` which simulates two dice rolls and returns the sum of the results. Invoke the function a few times and verify that it takes the different values you expect it to take."
      ]
    },
    {
      "cell_type": "code",
      "execution_count": null,
      "id": "816ed141",
      "metadata": {
        "id": "816ed141"
      },
      "outputs": [],
      "source": []
    },
    {
      "cell_type": "code",
      "execution_count": null,
      "id": "2f89fdad",
      "metadata": {
        "id": "2f89fdad"
      },
      "outputs": [],
      "source": []
    },
    {
      "cell_type": "code",
      "execution_count": null,
      "id": "458855d9",
      "metadata": {
        "id": "458855d9"
      },
      "outputs": [],
      "source": []
    },
    {
      "cell_type": "code",
      "execution_count": null,
      "id": "c97bd530",
      "metadata": {
        "id": "c97bd530"
      },
      "outputs": [],
      "source": []
    },
    {
      "cell_type": "markdown",
      "id": "bb360893",
      "metadata": {
        "id": "bb360893"
      },
      "source": [
        "> **EXERCISE**: The following table shows the amount of rainfall in Bengaluru on each day during the last week. Define a function `rainfall_last_week` which returns the rainfall on a random day from the last week each time it is invoked.\n",
        "> <img src=\"https://i.imgur.com/gbj5GbP.png\" width=\"240\">\n",
        ">  "
      ]
    },
    {
      "cell_type": "code",
      "execution_count": null,
      "id": "55fe0d96",
      "metadata": {
        "id": "55fe0d96"
      },
      "outputs": [],
      "source": []
    },
    {
      "cell_type": "code",
      "execution_count": null,
      "id": "d5620c2e",
      "metadata": {
        "id": "d5620c2e"
      },
      "outputs": [],
      "source": []
    },
    {
      "cell_type": "code",
      "execution_count": null,
      "id": "a09719cf",
      "metadata": {
        "id": "a09719cf"
      },
      "outputs": [],
      "source": []
    },
    {
      "cell_type": "code",
      "execution_count": null,
      "id": "a26d2d3c",
      "metadata": {
        "id": "a26d2d3c"
      },
      "outputs": [],
      "source": []
    },
    {
      "cell_type": "markdown",
      "id": "c0ad07cc",
      "metadata": {
        "id": "c0ad07cc"
      },
      "source": [
        "> **EXERCISE**: You are given a biased coin that show a head with the probability 0.7. The random variable $B$ has the value $1$ if the result of tossing the biased coin is a \"head\", and $0$ if the result is a \"tail\".  Write a function `pmf_biased_coin_toss` which takes a value as input and returns the probability of $B$ taking that value as output."
      ]
    },
    {
      "cell_type": "code",
      "execution_count": null,
      "id": "770c2474",
      "metadata": {
        "id": "770c2474"
      },
      "outputs": [],
      "source": []
    },
    {
      "cell_type": "code",
      "execution_count": null,
      "id": "3460ade4",
      "metadata": {
        "id": "3460ade4"
      },
      "outputs": [],
      "source": []
    },
    {
      "cell_type": "markdown",
      "id": "b0a2e940",
      "metadata": {
        "id": "b0a2e940"
      },
      "source": [
        "> **EXERCISE**: Write a function `pmf_die_roll` which represents the probability distribution of a the random variable $D$ that indicates the result of a rolling a fair die. It can take the values 1, 2, 3, 4, 5, 6. Visualize the probability distribution using a bar chart."
      ]
    },
    {
      "cell_type": "code",
      "execution_count": null,
      "id": "c192a1bc",
      "metadata": {
        "id": "c192a1bc"
      },
      "outputs": [],
      "source": []
    },
    {
      "cell_type": "code",
      "execution_count": null,
      "id": "16fd61f5",
      "metadata": {
        "id": "16fd61f5"
      },
      "outputs": [],
      "source": []
    },
    {
      "cell_type": "code",
      "execution_count": null,
      "id": "ced735a1",
      "metadata": {
        "id": "ced735a1"
      },
      "outputs": [],
      "source": []
    },
    {
      "cell_type": "code",
      "execution_count": null,
      "id": "6ca9d79b",
      "metadata": {
        "id": "6ca9d79b"
      },
      "outputs": [],
      "source": []
    },
    {
      "cell_type": "code",
      "execution_count": null,
      "id": "5a9e508f",
      "metadata": {
        "id": "5a9e508f"
      },
      "outputs": [],
      "source": []
    },
    {
      "cell_type": "code",
      "execution_count": null,
      "id": "f83c2b76",
      "metadata": {
        "id": "f83c2b76"
      },
      "outputs": [],
      "source": []
    },
    {
      "cell_type": "code",
      "execution_count": null,
      "id": "4030130c",
      "metadata": {
        "id": "4030130c"
      },
      "outputs": [],
      "source": []
    },
    {
      "cell_type": "code",
      "execution_count": null,
      "id": "fcaed0f6",
      "metadata": {
        "id": "fcaed0f6"
      },
      "outputs": [],
      "source": []
    },
    {
      "cell_type": "code",
      "execution_count": null,
      "id": "717ea967",
      "metadata": {
        "id": "717ea967"
      },
      "outputs": [],
      "source": []
    },
    {
      "cell_type": "code",
      "execution_count": null,
      "id": "13d21c3b",
      "metadata": {
        "id": "13d21c3b"
      },
      "outputs": [],
      "source": []
    },
    {
      "cell_type": "markdown",
      "id": "ec5d1c1f",
      "metadata": {
        "id": "ec5d1c1f"
      },
      "source": [
        "> **EXERCISE**: Write a function `pdf_roll_two_dice` to represent the probability distribution of the random variable $S$ indicating the sum of the numbers that show up when 2 fair dice are rolled. It can take the values 2, 3, 4, .... up to 12. Visualize the PDF using a bar chart.\n",
        ">\n",
        "> *Hint*: List all the outcomes you can get when you roll two fair die, then count the number of outcomes where the sum equals a given value."
      ]
    },
    {
      "cell_type": "markdown",
      "id": "102c9b24",
      "metadata": {
        "id": "102c9b24"
      },
      "source": [
        "![](https://i.imgur.com/zBcb8rY.png)"
      ]
    },
    {
      "cell_type": "code",
      "execution_count": null,
      "id": "d2684deb",
      "metadata": {
        "id": "d2684deb"
      },
      "outputs": [],
      "source": []
    },
    {
      "cell_type": "code",
      "execution_count": null,
      "id": "32a86429",
      "metadata": {
        "id": "32a86429"
      },
      "outputs": [],
      "source": []
    },
    {
      "cell_type": "code",
      "execution_count": null,
      "id": "9740cb73",
      "metadata": {
        "id": "9740cb73"
      },
      "outputs": [],
      "source": []
    },
    {
      "cell_type": "code",
      "execution_count": null,
      "id": "2abe91c7",
      "metadata": {
        "id": "2abe91c7"
      },
      "outputs": [],
      "source": []
    },
    {
      "cell_type": "code",
      "execution_count": null,
      "id": "59f608db",
      "metadata": {
        "id": "59f608db"
      },
      "outputs": [],
      "source": []
    },
    {
      "cell_type": "code",
      "execution_count": null,
      "id": "d422d1c0",
      "metadata": {
        "id": "d422d1c0"
      },
      "outputs": [],
      "source": []
    },
    {
      "cell_type": "code",
      "execution_count": null,
      "id": "91d7a735",
      "metadata": {
        "id": "91d7a735"
      },
      "outputs": [],
      "source": []
    },
    {
      "cell_type": "markdown",
      "id": "6be75c85",
      "metadata": {
        "id": "6be75c85"
      },
      "source": [
        "> **EXERCISE**: Find the expected value, variance and standard deviation for each of the random variables studied above."
      ]
    },
    {
      "cell_type": "code",
      "execution_count": null,
      "id": "4d9980f0",
      "metadata": {
        "id": "4d9980f0"
      },
      "outputs": [],
      "source": []
    },
    {
      "cell_type": "code",
      "execution_count": null,
      "id": "d82c5fd2",
      "metadata": {
        "id": "d82c5fd2"
      },
      "outputs": [],
      "source": []
    },
    {
      "cell_type": "code",
      "execution_count": null,
      "id": "aedb3b76",
      "metadata": {
        "id": "aedb3b76"
      },
      "outputs": [],
      "source": []
    },
    {
      "cell_type": "markdown",
      "id": "3a44bfcb",
      "metadata": {
        "id": "3a44bfcb"
      },
      "source": [
        "#### Biased Coin Tossed 10 Times\n",
        "\n",
        "Let's use the above formula visualize the PMF of no. of heads obtained when a biased coin that returns heads with the probability 0.7 is tossed 10 times."
      ]
    },
    {
      "cell_type": "code",
      "execution_count": null,
      "id": "b376a198",
      "metadata": {
        "id": "b376a198"
      },
      "outputs": [],
      "source": []
    },
    {
      "cell_type": "code",
      "execution_count": null,
      "id": "173f91d7",
      "metadata": {
        "id": "173f91d7"
      },
      "outputs": [],
      "source": []
    },
    {
      "cell_type": "code",
      "execution_count": null,
      "id": "d3c23af0",
      "metadata": {
        "id": "d3c23af0"
      },
      "outputs": [],
      "source": []
    },
    {
      "cell_type": "code",
      "execution_count": null,
      "id": "471be0ff",
      "metadata": {
        "id": "471be0ff"
      },
      "outputs": [],
      "source": []
    },
    {
      "cell_type": "code",
      "execution_count": null,
      "id": "0b2b0093",
      "metadata": {
        "id": "0b2b0093"
      },
      "outputs": [],
      "source": []
    },
    {
      "cell_type": "markdown",
      "id": "480024dd",
      "metadata": {
        "id": "480024dd"
      },
      "source": [
        "You can practice for other random variable examples :)"
      ]
    }
  ],
  "metadata": {
    "kernelspec": {
      "display_name": "Python 3",
      "language": "python",
      "name": "python3"
    },
    "language_info": {
      "codemirror_mode": {
        "name": "ipython",
        "version": 3
      },
      "file_extension": ".py",
      "mimetype": "text/x-python",
      "name": "python",
      "nbconvert_exporter": "python",
      "pygments_lexer": "ipython3",
      "version": "3.9.5"
    },
    "colab": {
      "provenance": [],
      "include_colab_link": true
    }
  },
  "nbformat": 4,
  "nbformat_minor": 5
}