{
  "cells": [
    {
      "cell_type": "markdown",
      "metadata": {
        "id": "view-in-github",
        "colab_type": "text"
      },
      "source": [
        "<a href=\"https://colab.research.google.com/github/tavi1402/Data_Science_bootcamp/blob/main/4_3_stackoverflow_survey_exploratory_data_analysis.ipynb\" target=\"_parent\"><img src=\"https://colab.research.google.com/assets/colab-badge.svg\" alt=\"Open In Colab\"/></a>"
      ]
    },
    {
      "cell_type": "markdown",
      "metadata": {
        "id": "TNaEhydKnRwz"
      },
      "source": [
        "# Exploratory Data Analysis Case Study - Stack Overflow Developer Survey\n",
        "\n",
        "This notebook is a part of the [Zero to Data Science Bootcamp by Jovian](https://zerotodatascience.com)\n",
        "\n",
        "![](https://i.imgur.com/xX4uUFZ.png)\n",
        "\n",
        "Exploratory Data Analysis (EDA) is the process of exploring, investigating and gathering insights from data using statistical measures and visualizations. The objective of EDA is to develop and understanding of data, by uncovering trends, relationships and patterns.\n",
        "\n",
        "EDA is both a science and an art. On the one hand it requires the knowledge of statistics, visualization techniques and data analysis tools like Numpy, Pandas, Seaborn etc. On the other hand, it requires asking interesting questions to guide the investigation and interpreting numbers & figures to generate useful insights.\n"
      ]
    },
    {
      "cell_type": "markdown",
      "metadata": {
        "id": "LdxGlCaFnRw9"
      },
      "source": [
        "The following topics are covered in this tutorial:\n",
        "\n",
        "- Downloading a dataset from an online source\n",
        "- Data preparation and cleaning with Pandas\n",
        "- Open-ended exploratory analysis and visualization\n",
        "- Asking and answering interesting questions\n",
        "- Summarizing inferences and drawing conclusions"
      ]
    },
    {
      "cell_type": "markdown",
      "metadata": {
        "id": "Ka-Tyi51nRw_"
      },
      "source": [
        "### How to Run the Code\n",
        "\n",
        "The best way to learn the material is to execute the code and experiment with it yourself. This tutorial is an executable [Jupyter notebook](https://jupyter.org). You can _run_ this tutorial and experiment with the code examples in a couple of ways: *using free online resources* (recommended) or *on your computer*.\n",
        "\n",
        "#### Option 1: Running using free online resources (1-click, recommended)\n",
        "\n",
        "The easiest way to start executing the code is to click the **Run** button at the top of this page and select **Run on Binder**. You can also select \"Run on Colab\" or \"Run on Kaggle\", but you'll need to create an account on [Google Colab](https://colab.research.google.com) or [Kaggle](https://kaggle.com) to use these platforms.\n",
        "\n",
        "\n",
        "#### Option 2: Running on your computer locally\n",
        "\n",
        "To run the code on your computer locally, you'll need to set up [Python](https://www.python.org), download the notebook and install the required libraries. We recommend using the [Conda](https://docs.conda.io/projects/conda/en/latest/user-guide/install/) distribution of Python. Click the **Run** button at the top of this page, select the **Run Locally** option, and follow the instructions.\n"
      ]
    },
    {
      "cell_type": "markdown",
      "metadata": {
        "id": "ge_WNjeXnRxA"
      },
      "source": [
        "Before we begin, let's install the required libraries and save a copy of this notebook to Jovian."
      ]
    },
    {
      "cell_type": "code",
      "execution_count": null,
      "metadata": {
        "id": "4dSHzEhJnRxB"
      },
      "outputs": [],
      "source": []
    },
    {
      "cell_type": "code",
      "execution_count": null,
      "metadata": {
        "id": "nFnHB1P_nRxC"
      },
      "outputs": [],
      "source": []
    },
    {
      "cell_type": "code",
      "execution_count": null,
      "metadata": {
        "id": "ZvjjQlspnRxD"
      },
      "outputs": [],
      "source": []
    },
    {
      "cell_type": "markdown",
      "metadata": {
        "id": "FV23YDxfnRxE"
      },
      "source": [
        "## Introduction\n",
        "\n",
        "In this tutorial, we'll analyze the StackOverflow Developer Survey 2020 dataset. The dataset contains responses to an annual survey conducted by StackOverflow. You can find the official analysis of the data here: https://insights.stackoverflow.com/survey.\n",
        "\n",
        "There are several options for getting a dataset into Jupyter:\n",
        "\n",
        "- Download the CSV manually and upload it via Jupyter's GUI\n",
        "- Use the `urlretrieve` function from the `urllib.request` to download CSV files from a raw URL\n",
        "- Use the `opendatasets` library to download datasets from Kaggle datasets and Google Drive URLs\n",
        "\n",
        "In this case, the dataset is hosted on Google Drive at this location: https://drive.google.com/file/d/1dfGerWeWkcyQ9GX9x20rdSGj7WtEpzBB/view?usp=sharing\n",
        "\n",
        "We'll use the `opendatasets` helper library to download files from the above URL."
      ]
    },
    {
      "cell_type": "code",
      "execution_count": null,
      "metadata": {
        "id": "cwO1DzdgnRxG"
      },
      "outputs": [],
      "source": []
    },
    {
      "cell_type": "code",
      "execution_count": null,
      "metadata": {
        "id": "ej5itqmrnRxG"
      },
      "outputs": [],
      "source": []
    },
    {
      "cell_type": "code",
      "execution_count": null,
      "metadata": {
        "id": "mzB8P6IrnRxH"
      },
      "outputs": [],
      "source": []
    },
    {
      "cell_type": "markdown",
      "metadata": {
        "id": "zEWvXrrRnRxH"
      },
      "source": [
        "Let's verify that the dataset was downloaded into the directory `developer_survey_2020` and retrieve the list of files in the dataset."
      ]
    },
    {
      "cell_type": "code",
      "execution_count": null,
      "metadata": {
        "id": "EM67NuTsnRxI"
      },
      "outputs": [],
      "source": []
    },
    {
      "cell_type": "code",
      "execution_count": null,
      "metadata": {
        "id": "Xz-C_WdqnRxJ"
      },
      "outputs": [],
      "source": []
    },
    {
      "cell_type": "code",
      "execution_count": null,
      "metadata": {
        "scrolled": true,
        "id": "-Jfk-I7pnRxJ"
      },
      "outputs": [],
      "source": []
    },
    {
      "cell_type": "markdown",
      "metadata": {
        "id": "68bsURzdnRxK"
      },
      "source": [
        "**NOTE**: If the above Google Drive link doesn't work you can also use this alternate link from Kaggle: https://www.kaggle.com/aitzaz/stack-overflow-developer-survey-2020 (uncomment the code in the following cell to download)"
      ]
    },
    {
      "cell_type": "code",
      "execution_count": null,
      "metadata": {
        "id": "9xXCoW0knRxL"
      },
      "outputs": [],
      "source": []
    },
    {
      "cell_type": "markdown",
      "metadata": {
        "id": "C7nw2R7-nRxL"
      },
      "source": [
        "You can go through the downloaded files using the \"File\" > \"Open\" menu option in Jupyter. It seems like the dataset contains three files:\n",
        "\n",
        "- `README.txt` - Information about the dataset\n",
        "- `survey_results_schema.csv` - The list of questions, and shortcodes for each question\n",
        "- `survey_results_public.csv` - The full list of responses to the questions\n",
        "\n",
        "Let's load the CSV files using the Pandas library. We'll use the name `survey_raw_df` for the data frame to indicate this is unprocessed data that we might clean, filter, and modify to prepare a data frame ready for analysis."
      ]
    },
    {
      "cell_type": "code",
      "execution_count": null,
      "metadata": {
        "id": "HLrFbgIBnRxL"
      },
      "outputs": [],
      "source": []
    },
    {
      "cell_type": "code",
      "execution_count": null,
      "metadata": {
        "id": "XGz3A6E4nRxL"
      },
      "outputs": [],
      "source": []
    },
    {
      "cell_type": "code",
      "execution_count": null,
      "metadata": {
        "id": "sLJDSuU6nRxL"
      },
      "outputs": [],
      "source": []
    },
    {
      "cell_type": "markdown",
      "metadata": {
        "id": "tzYyRdULnRxL"
      },
      "source": [
        "The dataset contains over 64,000 responses to 60 questions (although many questions are optional). The responses have been anonymized to remove personally identifiable information, and each respondent has been assigned a randomized respondent ID.\n",
        "\n",
        "Let's view the list of columns in the data frame."
      ]
    },
    {
      "cell_type": "code",
      "execution_count": null,
      "metadata": {
        "id": "u-YWhx9EnRxM"
      },
      "outputs": [],
      "source": []
    },
    {
      "cell_type": "markdown",
      "metadata": {
        "id": "zwBnRmf7nRxM"
      },
      "source": [
        "It appears that shortcodes for questions have been used as column names.\n",
        "\n",
        "We can refer to the schema file to see the full text of each question. The schema file contains only two columns: `Column` and `QuestionText`. We can load it as Pandas Series with `Column` as the index and the  `QuestionText` as the value."
      ]
    },
    {
      "cell_type": "code",
      "execution_count": null,
      "metadata": {
        "id": "gtRcLYV_nRxM"
      },
      "outputs": [],
      "source": []
    },
    {
      "cell_type": "markdown",
      "metadata": {
        "id": "Bpg7XLAgnRxM"
      },
      "source": [
        "Since `schema_df` contains just one column, let's retrieve the column as a Pandas series."
      ]
    },
    {
      "cell_type": "code",
      "execution_count": null,
      "metadata": {
        "id": "Ta4bKQ1QnRxM"
      },
      "outputs": [],
      "source": []
    },
    {
      "cell_type": "code",
      "execution_count": null,
      "metadata": {
        "id": "QgaPjkv1nRxM"
      },
      "outputs": [],
      "source": []
    },
    {
      "cell_type": "markdown",
      "metadata": {
        "id": "JgTe3wkDnRxM"
      },
      "source": [
        "We can now use `schema_raw` to retrieve the full question text for any column in `survey_raw_df`."
      ]
    },
    {
      "cell_type": "code",
      "execution_count": null,
      "metadata": {
        "id": "bOBdmaZ-nRxM"
      },
      "outputs": [],
      "source": []
    },
    {
      "cell_type": "code",
      "execution_count": null,
      "metadata": {
        "id": "Nv2qJA3VnRxN"
      },
      "outputs": [],
      "source": []
    },
    {
      "cell_type": "code",
      "execution_count": null,
      "metadata": {
        "id": "7Kze8gjNnRxN"
      },
      "outputs": [],
      "source": []
    },
    {
      "cell_type": "markdown",
      "metadata": {
        "id": "j7Dv2jAynRxN"
      },
      "source": [
        "We've now loaded the dataset. We're ready to move on to the next step of preprocessing & cleaning the data for our analysis."
      ]
    },
    {
      "cell_type": "markdown",
      "metadata": {
        "id": "1946EBEunRxN"
      },
      "source": [
        "### Save and upload your notebook\n",
        "\n",
        "Whether you're running this Jupyter notebook online or on your computer, it's essential to save your work from time to time. You can continue working on a saved notebook later or share it with friends and colleagues to let them execute your code. [Jovian](https://www.jovian.ai) offers an easy way of saving and sharing your Jupyter notebooks online."
      ]
    },
    {
      "cell_type": "code",
      "execution_count": null,
      "metadata": {
        "id": "GYd1ruPMnRxN"
      },
      "outputs": [],
      "source": []
    },
    {
      "cell_type": "code",
      "execution_count": null,
      "metadata": {
        "id": "Mnt1Vvr1nRxN"
      },
      "outputs": [],
      "source": []
    },
    {
      "cell_type": "markdown",
      "metadata": {
        "id": "vIsxCIQwnRxN"
      },
      "source": [
        "## Data Preprocessing & Cleaning with Pandas\n",
        "\n",
        "While the survey responses contain a wealth of information, we'll limit our analysis to the following areas:\n",
        "\n",
        "- Demographics of the survey respondents and the global programming community\n",
        "- Distribution of programming skills, experience, and preferences\n",
        "- Employment-related information, preferences, and opinions\n",
        "\n",
        "Let's select a subset of columns with the relevant data for our analysis."
      ]
    },
    {
      "cell_type": "code",
      "execution_count": null,
      "metadata": {
        "id": "xE2kpAPonRxN"
      },
      "outputs": [],
      "source": []
    },
    {
      "cell_type": "code",
      "execution_count": null,
      "metadata": {
        "id": "51Doq-VknRxN"
      },
      "outputs": [],
      "source": []
    },
    {
      "cell_type": "markdown",
      "metadata": {
        "id": "vrl5ecmGnRxS"
      },
      "source": [
        "Let's extract a copy of the data from these columns into a new data frame `survey_df`. We can continue to modify further without affecting the original data frame."
      ]
    },
    {
      "cell_type": "code",
      "execution_count": null,
      "metadata": {
        "id": "-hhc6H0RnRxS"
      },
      "outputs": [],
      "source": []
    },
    {
      "cell_type": "code",
      "execution_count": null,
      "metadata": {
        "id": "DcB9fjd6nRxS"
      },
      "outputs": [],
      "source": []
    },
    {
      "cell_type": "markdown",
      "metadata": {
        "id": "QhnRJsWMnRxS"
      },
      "source": [
        "**Exercise:** Read and understand the question associated with each column in `survey_df` using `schema_raw`."
      ]
    },
    {
      "cell_type": "code",
      "execution_count": null,
      "metadata": {
        "id": "6Nhv0b4fnRxT"
      },
      "outputs": [],
      "source": []
    },
    {
      "cell_type": "code",
      "execution_count": null,
      "metadata": {
        "id": "9NmvGjIInRxT"
      },
      "outputs": [],
      "source": []
    },
    {
      "cell_type": "markdown",
      "metadata": {
        "id": "ucX-iydhnRxT"
      },
      "source": [
        "Let's view some basic information about the data frame."
      ]
    },
    {
      "cell_type": "code",
      "execution_count": null,
      "metadata": {
        "scrolled": true,
        "id": "NMsP841pnRxT"
      },
      "outputs": [],
      "source": []
    },
    {
      "cell_type": "code",
      "execution_count": null,
      "metadata": {
        "id": "Mgjr4YQdnRxU"
      },
      "outputs": [],
      "source": []
    },
    {
      "cell_type": "markdown",
      "metadata": {
        "id": "bmq-VhZvnRxV"
      },
      "source": [
        "Most columns have the data type `object`, either because they contain values of different types or contain empty values (`NaN`). It appears that every column contains some empty values since the Non-Null count for every column is lower than the total number of rows (64461). We'll need to deal with empty values and manually adjust the data type for each column on a case-by-case basis.\n",
        "\n"
      ]
    },
    {
      "cell_type": "markdown",
      "metadata": {
        "id": "grFE6jZgnRxV"
      },
      "source": [
        "**EXERCISE**: Explore the values in each column of `survey_df`. Use the functions like `max`, `min`, `unique`, `value_counts`, `isna` etc. to survey the range and distribution of values in the different."
      ]
    },
    {
      "cell_type": "code",
      "execution_count": null,
      "metadata": {
        "id": "sC7AT0DmnRxW"
      },
      "outputs": [],
      "source": []
    },
    {
      "cell_type": "code",
      "execution_count": null,
      "metadata": {
        "id": "3Q3_z4_4nRxW"
      },
      "outputs": [],
      "source": []
    },
    {
      "cell_type": "markdown",
      "metadata": {
        "id": "vZZJVAV6nRxX"
      },
      "source": [
        "Only three of the columns were detected as numeric columns (`Age` and `WorkWeekHrs`), even though a few other columns have mostly numeric values. To make our analysis easier, let's convert some other columns into numeric data types while ignoring any non-numeric value. The non-numeric are converted to `NaN`."
      ]
    },
    {
      "cell_type": "code",
      "execution_count": null,
      "metadata": {
        "scrolled": true,
        "id": "g2S2AEWgnRxX"
      },
      "outputs": [],
      "source": []
    },
    {
      "cell_type": "code",
      "execution_count": null,
      "metadata": {
        "id": "ViTo-DQNnRxX"
      },
      "outputs": [],
      "source": []
    },
    {
      "cell_type": "code",
      "execution_count": null,
      "metadata": {
        "id": "VgZIjRuDnRxY"
      },
      "outputs": [],
      "source": []
    },
    {
      "cell_type": "code",
      "execution_count": null,
      "metadata": {
        "id": "-e-y9p07nRxY"
      },
      "outputs": [],
      "source": []
    },
    {
      "cell_type": "markdown",
      "metadata": {
        "id": "qMNTf7NFnRxZ"
      },
      "source": [
        "Let's now view some basic statistics about numeric columns."
      ]
    },
    {
      "cell_type": "code",
      "execution_count": null,
      "metadata": {
        "id": "mmS5dOZRnRxZ"
      },
      "outputs": [],
      "source": []
    },
    {
      "cell_type": "markdown",
      "metadata": {
        "id": "NmM8djtmnRxZ"
      },
      "source": [
        "There seems to be a problem with the age column, as the minimum value is 1 and the maximum is 279. This is a common issue with surveys: responses may contain invalid values due to accidental or intentional errors while responding. A simple fix would be to ignore the rows where the age is higher than 100 years or lower than 10 years as invalid survey responses. We can do this using the `.drop` method, [as explained here](https://www.geeksforgeeks.org/drop-rows-from-the-dataframe-based-on-certain-condition-applied-on-a-column/)."
      ]
    },
    {
      "cell_type": "code",
      "execution_count": null,
      "metadata": {
        "id": "vmZHOdVunRxa"
      },
      "outputs": [],
      "source": []
    },
    {
      "cell_type": "markdown",
      "metadata": {
        "id": "Xn5hsC6cnRxa"
      },
      "source": [
        "The same holds for `WorkWeekHrs`. Let's ignore entries where the value for the column is higher than 140 hours. (~20 hours per day)."
      ]
    },
    {
      "cell_type": "code",
      "execution_count": null,
      "metadata": {
        "id": "T6dYwBmUnRxa"
      },
      "outputs": [],
      "source": []
    },
    {
      "cell_type": "markdown",
      "metadata": {
        "id": "_-MTNxcMnRxb"
      },
      "source": [
        "The gender column also allows for picking multiple options. We'll remove values containing more than one option to simplify our analysis."
      ]
    },
    {
      "cell_type": "code",
      "execution_count": null,
      "metadata": {
        "id": "7wsFcHoBnRxb"
      },
      "outputs": [],
      "source": []
    },
    {
      "cell_type": "code",
      "execution_count": null,
      "metadata": {
        "id": "QeBTvZkjnRxb"
      },
      "outputs": [],
      "source": []
    },
    {
      "cell_type": "code",
      "execution_count": null,
      "metadata": {
        "id": "5GgC43p_nRxb"
      },
      "outputs": [],
      "source": []
    },
    {
      "cell_type": "markdown",
      "metadata": {
        "id": "GBM14R-gnRxb"
      },
      "source": [
        "We've now cleaned up and prepared the dataset for analysis. Let's take a look at a sample of rows from the data frame."
      ]
    },
    {
      "cell_type": "code",
      "execution_count": null,
      "metadata": {
        "id": "dgT99divnRxc"
      },
      "outputs": [],
      "source": []
    },
    {
      "cell_type": "markdown",
      "metadata": {
        "id": "mnbFgzDQnRxc"
      },
      "source": [
        "Let's save and commit our work before continuing."
      ]
    },
    {
      "cell_type": "code",
      "execution_count": null,
      "metadata": {
        "id": "AmiJ5cZGnRxc"
      },
      "outputs": [],
      "source": []
    },
    {
      "cell_type": "code",
      "execution_count": null,
      "metadata": {
        "id": "sJ0tVzTQnRxc"
      },
      "outputs": [],
      "source": []
    },
    {
      "cell_type": "markdown",
      "metadata": {
        "id": "0fTyzf22nRxc"
      },
      "source": [
        "## Exploratory Analysis and Visualization\n",
        "\n",
        "Before we ask questions about the survey responses, it would help to understand the respondents' demographics, i.e., country, age, gender, education level, employment level, etc. It's essential to explore these variables to understand how representative the survey is of the worldwide programming community. A survey of this scale generally tends to have some [selection bias](https://en.wikipedia.org/wiki/Selection_bias).\n",
        "\n",
        "Let's begin by importing `matplotlib.pyplot` and `seaborn`."
      ]
    },
    {
      "cell_type": "code",
      "execution_count": null,
      "metadata": {
        "id": "vhSU4h_VnRxc"
      },
      "outputs": [],
      "source": []
    },
    {
      "cell_type": "markdown",
      "metadata": {
        "id": "9xu-lp7VnRxc"
      },
      "source": [
        "### Country\n",
        "\n",
        "Let's look at the number of countries from which there are responses in the survey and plot the ten countries with the highest number of responses."
      ]
    },
    {
      "cell_type": "code",
      "execution_count": null,
      "metadata": {
        "id": "JW1AFCQqnRxd"
      },
      "outputs": [],
      "source": []
    },
    {
      "cell_type": "code",
      "execution_count": null,
      "metadata": {
        "id": "87WWR5wcnRxd"
      },
      "outputs": [],
      "source": []
    },
    {
      "cell_type": "markdown",
      "metadata": {
        "id": "w2i0NrHUnRxd"
      },
      "source": [
        "We can identify the countries with the highest number of respondents using the `value_counts` method."
      ]
    },
    {
      "cell_type": "code",
      "execution_count": null,
      "metadata": {
        "id": "VnE4_EhknRxd"
      },
      "outputs": [],
      "source": []
    },
    {
      "cell_type": "markdown",
      "metadata": {
        "id": "vBUTB9sKnRxd"
      },
      "source": [
        "We can visualize this information using a bar chart."
      ]
    },
    {
      "cell_type": "code",
      "execution_count": null,
      "metadata": {
        "id": "bDZbBOKZnRxd"
      },
      "outputs": [],
      "source": []
    },
    {
      "cell_type": "markdown",
      "metadata": {
        "id": "QdVpJ8LinRxd"
      },
      "source": [
        "It appears that a disproportionately high number of respondents are from the US and India, probably because the survey is in English, and these countries have the highest English-speaking populations. We can already see that the survey may not be representative of the global programming community - especially from non-English speaking countries. Programmers from non-English speaking countries are almost certainly underrepresented.\n",
        "\n",
        "**Exercises**:\n",
        "\n",
        "1. Try finding the percentage of responses from English-speaking vs. non-English speaking countries. You can use [this list of languages spoken in different countries](https://github.com/JovianML/opendatasets/blob/master/data/countries-languages-spoken/countries-languages.csv).\n",
        "\n",
        "2. Instead of displaying overall count of responses for each country on the Y axis of the above chart, display the percentage of responses instead.\n",
        "\n",
        "3. Instead of displaying the overall count of response for each country, display \"reponses per million people\". Use an external dataset to get the population of each country."
      ]
    },
    {
      "cell_type": "code",
      "execution_count": null,
      "metadata": {
        "id": "ZMCnNvnRnRxd"
      },
      "outputs": [],
      "source": []
    },
    {
      "cell_type": "code",
      "execution_count": null,
      "metadata": {
        "id": "Srt9vlF6nRxe"
      },
      "outputs": [],
      "source": []
    },
    {
      "cell_type": "markdown",
      "metadata": {
        "id": "YMxM8iiDnRxe"
      },
      "source": [
        "Let's create a Choropleth map to better visualize the relative responses from various countries."
      ]
    },
    {
      "cell_type": "code",
      "execution_count": null,
      "metadata": {
        "id": "uj9ueoPOnRxe"
      },
      "outputs": [],
      "source": []
    },
    {
      "cell_type": "code",
      "execution_count": null,
      "metadata": {
        "id": "sGcK5C0jnRxe"
      },
      "outputs": [],
      "source": []
    },
    {
      "cell_type": "code",
      "execution_count": null,
      "metadata": {
        "id": "te0f2E1YnRxe"
      },
      "outputs": [],
      "source": []
    },
    {
      "cell_type": "code",
      "execution_count": null,
      "metadata": {
        "id": "iL0-3svYnRxe"
      },
      "outputs": [],
      "source": []
    },
    {
      "cell_type": "code",
      "execution_count": null,
      "metadata": {
        "id": "CWP6cJULnRxe"
      },
      "outputs": [],
      "source": []
    },
    {
      "cell_type": "markdown",
      "metadata": {
        "id": "fIiktmExnRxe"
      },
      "source": [
        "> **EXERCISE**: Enhance the above graph to show a tooltip with the count of respondents from a country when you hover over the country. Follow this tutorial: https://vverde.github.io/blob/interactivechoropleth.html"
      ]
    },
    {
      "cell_type": "code",
      "execution_count": null,
      "metadata": {
        "id": "l7_slwUpnRxf"
      },
      "outputs": [],
      "source": []
    },
    {
      "cell_type": "code",
      "execution_count": null,
      "metadata": {
        "id": "QgXj8XxRnRxf"
      },
      "outputs": [],
      "source": []
    },
    {
      "cell_type": "markdown",
      "metadata": {
        "id": "fBD8i9zDnRxf"
      },
      "source": [
        "### Age\n",
        "\n",
        "The distribution of respondents' age is another crucial factor to look at. We can use a histogram and box plot to visualize its distribution."
      ]
    },
    {
      "cell_type": "code",
      "execution_count": null,
      "metadata": {
        "id": "Dyxm37F4nRxf"
      },
      "outputs": [],
      "source": []
    },
    {
      "cell_type": "code",
      "execution_count": null,
      "metadata": {
        "id": "nj2UDG9AnRxf"
      },
      "outputs": [],
      "source": []
    },
    {
      "cell_type": "markdown",
      "metadata": {
        "id": "rXI0yt79nRxf"
      },
      "source": [
        "It appears that a large percentage of respondents are 20-40 years old. It's somewhat representative of the programming community in general. Many young people have taken up computer science as their field of study or profession in the last 20 years.\n",
        "\n",
        "**Exercise**: You may want to filter out responses by age (or age group) if you'd like to analyze and compare the survey results for different age groups. Create a new column called AgeGroup containing values like `Less than 10 years`, `10-18 years`, `18-30 years`, `30-45 years`, `45-60 years` and `Older than 60 years`. Then, repeat the analysis in the rest of this notebook for each age group.\n"
      ]
    },
    {
      "cell_type": "markdown",
      "metadata": {
        "id": "YDbNu7T8nRxf"
      },
      "source": [
        "### Gender\n",
        "\n",
        "Let's look at the distribution of responses for the Gender. It's a well-known fact that women and non-binary genders are underrepresented in the programming community, so we might expect to see a skewed distribution here."
      ]
    },
    {
      "cell_type": "code",
      "execution_count": null,
      "metadata": {
        "id": "2myXq5RPnRxg"
      },
      "outputs": [],
      "source": []
    },
    {
      "cell_type": "code",
      "execution_count": null,
      "metadata": {
        "id": "MnnOspWFnRxg"
      },
      "outputs": [],
      "source": []
    },
    {
      "cell_type": "markdown",
      "metadata": {
        "id": "TfJjAjrsnRxg"
      },
      "source": [
        "A pie chart would be a great way to visualize the distribution."
      ]
    },
    {
      "cell_type": "code",
      "execution_count": null,
      "metadata": {
        "id": "FzRQXoK_nRxg"
      },
      "outputs": [],
      "source": []
    },
    {
      "cell_type": "markdown",
      "metadata": {
        "id": "s1kUhhE6nRxg"
      },
      "source": [
        "Only about 8% of survey respondents who have answered the question identify as women or non-binary. This number is lower than the overall percentage of women & non-binary genders in the programming community - which is estimated to be around 12%.\n",
        "\n",
        "**Exercise**: It would be interesting to compare the survey responses & preferences across genders. Repeat this analysis with these breakdowns. How do the relative education levels differ across genders? How do the salaries vary? You may find this analysis on the [Gender Divide in Data Science](https://medium.com/datadriveninvestor/exploratory-data-analysis-eda-understanding-the-gender-divide-in-data-science-roles-9faa5da44f5b) useful."
      ]
    },
    {
      "cell_type": "markdown",
      "metadata": {
        "id": "CPMGcCpqnRxg"
      },
      "source": [
        "### Education Level\n",
        "\n",
        "Formal education in computer science is often considered an essential requirement for becoming a programmer. However, there are many free resources & tutorials available online to learn programming. Let's compare the education levels of respondents to gain some insight into this. We'll use a horizontal bar plot here."
      ]
    },
    {
      "cell_type": "code",
      "execution_count": null,
      "metadata": {
        "id": "eFVg-l7MnRxg"
      },
      "outputs": [],
      "source": []
    },
    {
      "cell_type": "markdown",
      "metadata": {
        "id": "Lutih4TCnRxh"
      },
      "source": [
        "It appears that well over half of the respondents hold a bachelor's or master's degree, so most programmers seem to have some college education. However, it's not clear from this graph alone if they hold a degree in computer science.\n",
        "\n",
        "**Exercises**: The graph currently shows the number of respondents for each option. Can you modify it to show the percentage instead? Further, try comparing the percentages for each degree for men vs. women."
      ]
    },
    {
      "cell_type": "markdown",
      "metadata": {
        "id": "MC4dbzm_nRxh"
      },
      "source": [
        "Let's also plot undergraduate majors, but this time we'll convert the numbers into percentages and sort the values to make it easier to visualize the order."
      ]
    },
    {
      "cell_type": "code",
      "execution_count": null,
      "metadata": {
        "id": "WRev9H2SnRxh"
      },
      "outputs": [],
      "source": []
    },
    {
      "cell_type": "code",
      "execution_count": null,
      "metadata": {
        "id": "91fyK4G1nRxh"
      },
      "outputs": [],
      "source": []
    },
    {
      "cell_type": "markdown",
      "metadata": {
        "id": "FE95aiBJnRxi"
      },
      "source": [
        "It turns out that 40% of programmers holding a college degree have a field of study other than computer science - which is very encouraging. It seems to suggest that while a college education is helpful in general, you do not need to pursue a major in computer science to become a successful programmer.\n",
        "\n",
        "**Exercises**: Analyze the `NEWEdImpt` column for respondents who hold some college degree vs. those who don't. Do you notice any difference in opinion?\n"
      ]
    },
    {
      "cell_type": "markdown",
      "metadata": {
        "id": "78pHn257nRxi"
      },
      "source": [
        "### Employment\n",
        "\n",
        "Freelancing or contract work is a common choice among programmers, so it would be interesting to compare the breakdown between full-time, part-time, and freelance work. Let's visualize the data from the `Employment` column."
      ]
    },
    {
      "cell_type": "code",
      "execution_count": null,
      "metadata": {
        "id": "cOlSvswwnRxi"
      },
      "outputs": [],
      "source": []
    },
    {
      "cell_type": "code",
      "execution_count": null,
      "metadata": {
        "id": "b7n-3Q5InRxi"
      },
      "outputs": [],
      "source": []
    },
    {
      "cell_type": "markdown",
      "metadata": {
        "id": "QdFDGdm3nRxi"
      },
      "source": [
        "It appears that close to 10% of respondents are employed part time or as freelancers.\n",
        "\n",
        "**Exercise**: Add a new column `EmploymentType` containing the values `Enthusiast` (student or not employed but looking for work), `Professional` (employed full-time, part-time or freelancing), and `Other` (not employed or retired). For each of the graphs that follow, show a comparison between `Enthusiast` and `Professional`.\n",
        "\n"
      ]
    },
    {
      "cell_type": "markdown",
      "metadata": {
        "id": "LahYNdAWnRxi"
      },
      "source": [
        "The `DevType` field contains information about the roles held by respondents. Since the question allows multiple answers, the column contains lists of values separated by a semi-colon `;`, making it a bit harder to analyze directly."
      ]
    },
    {
      "cell_type": "code",
      "execution_count": null,
      "metadata": {
        "id": "AwPKPv50nRxj"
      },
      "outputs": [],
      "source": []
    },
    {
      "cell_type": "code",
      "execution_count": null,
      "metadata": {
        "id": "5aIv3NS8nRxj"
      },
      "outputs": [],
      "source": []
    },
    {
      "cell_type": "markdown",
      "metadata": {
        "id": "iqAK3uzonRxj"
      },
      "source": [
        "Let's define a helper function that turns a column containing lists of values (like `survey_df.DevType`) into a data frame with one column for each possible option."
      ]
    },
    {
      "cell_type": "code",
      "execution_count": null,
      "metadata": {
        "id": "kwzYC1o0nRxj"
      },
      "outputs": [],
      "source": []
    },
    {
      "cell_type": "code",
      "execution_count": null,
      "metadata": {
        "id": "YEVLLMDQnRxj"
      },
      "outputs": [],
      "source": []
    },
    {
      "cell_type": "code",
      "execution_count": null,
      "metadata": {
        "id": "k6gYhCD_nRxj"
      },
      "outputs": [],
      "source": []
    },
    {
      "cell_type": "markdown",
      "metadata": {
        "id": "1zVEqGfwnRxj"
      },
      "source": [
        "The `dev_type_df` has one column for each option that can be selected as a response. If a respondent has chosen an option, the corresponding column's value is `True`. Otherwise, it is `False`.\n",
        "\n",
        "We can now use the column-wise totals to identify the most common roles.\n"
      ]
    },
    {
      "cell_type": "code",
      "execution_count": null,
      "metadata": {
        "id": "39xV4vTXnRxk"
      },
      "outputs": [],
      "source": []
    },
    {
      "cell_type": "markdown",
      "metadata": {
        "id": "_zqF1cDbnRxk"
      },
      "source": [
        "As one might expect, the most common roles include \"Developer\" in the name.\n",
        "\n"
      ]
    },
    {
      "cell_type": "markdown",
      "metadata": {
        "id": "-NIp5niEnRxk"
      },
      "source": [
        "We can also visualize the different jobs roles using a word cloud."
      ]
    },
    {
      "cell_type": "code",
      "execution_count": null,
      "metadata": {
        "id": "JgwHnWjNnRxk"
      },
      "outputs": [],
      "source": []
    },
    {
      "cell_type": "code",
      "execution_count": null,
      "metadata": {
        "scrolled": true,
        "id": "FMHKfRXenRxk"
      },
      "outputs": [],
      "source": []
    },
    {
      "cell_type": "markdown",
      "metadata": {
        "id": "qHIDMR5KnRxk"
      },
      "source": [
        "> **Exercises**:\n",
        ">\n",
        "> * Can you figure out what percentage of respondents work in roles related to data science?\n",
        "> * Which positions have the highest percentage of women?"
      ]
    },
    {
      "cell_type": "markdown",
      "metadata": {
        "id": "JExxuWTCnRxk"
      },
      "source": [
        "We can also visualize the `DevType` column using a word cloud."
      ]
    },
    {
      "cell_type": "code",
      "execution_count": null,
      "metadata": {
        "scrolled": false,
        "id": "6uI8f9m_nRxl"
      },
      "outputs": [],
      "source": []
    },
    {
      "cell_type": "markdown",
      "metadata": {
        "id": "7nsOqA01nRxl"
      },
      "source": [
        "### Compensation vs. Working Hours\n",
        "\n",
        "Let's visualize the relationship between working hours and compensation for two countries: US & India. We can do this using a scatter plot."
      ]
    },
    {
      "cell_type": "code",
      "execution_count": null,
      "metadata": {
        "id": "MzOMdL_InRxl"
      },
      "outputs": [],
      "source": []
    },
    {
      "cell_type": "code",
      "execution_count": null,
      "metadata": {
        "id": "bT44yzOYnRxl"
      },
      "outputs": [],
      "source": []
    },
    {
      "cell_type": "markdown",
      "metadata": {
        "id": "ZbV82_3wnRxl"
      },
      "source": [
        "> **Exercise**: What insights can you draw from the above plot? What can you say about he validity of the data?"
      ]
    },
    {
      "cell_type": "markdown",
      "metadata": {
        "id": "R8JFwuojnRxl"
      },
      "source": [
        "Let's visualize the distribution of compensation and hours of work independently."
      ]
    },
    {
      "cell_type": "code",
      "execution_count": null,
      "metadata": {
        "id": "olzl7z2MnRxl"
      },
      "outputs": [],
      "source": []
    },
    {
      "cell_type": "code",
      "execution_count": null,
      "metadata": {
        "id": "id2z2GtPnRxl"
      },
      "outputs": [],
      "source": []
    },
    {
      "cell_type": "markdown",
      "metadata": {
        "id": "7BCrE9mjnRxm"
      },
      "source": [
        "**Exercise**: Visualize the distribution of hourly compensation, instead of total annual compensation. Hint: Use `WorkWeekHrs` to determine the number of hours worked per week."
      ]
    },
    {
      "cell_type": "code",
      "execution_count": null,
      "metadata": {
        "id": "ZQLFSknxnRxo"
      },
      "outputs": [],
      "source": []
    },
    {
      "cell_type": "markdown",
      "metadata": {
        "id": "qkKNt_irnRxo"
      },
      "source": [
        "We've only explored a handful of columns from the 20 columns that we selected. Explore and visualize the remaining columns using the empty cells below."
      ]
    },
    {
      "cell_type": "code",
      "execution_count": null,
      "metadata": {
        "id": "ebWh1tItnRxo"
      },
      "outputs": [],
      "source": []
    },
    {
      "cell_type": "code",
      "execution_count": null,
      "metadata": {
        "id": "67vwRKTsnRxo"
      },
      "outputs": [],
      "source": []
    },
    {
      "cell_type": "code",
      "execution_count": null,
      "metadata": {
        "id": "dk22KHbRnRxo"
      },
      "outputs": [],
      "source": []
    },
    {
      "cell_type": "markdown",
      "metadata": {
        "id": "Ag1z0LIRnRxo"
      },
      "source": [
        "Let's save and upload our work before continuing."
      ]
    },
    {
      "cell_type": "code",
      "execution_count": null,
      "metadata": {
        "id": "zs42EdpPnRxp"
      },
      "outputs": [],
      "source": []
    },
    {
      "cell_type": "code",
      "execution_count": null,
      "metadata": {
        "id": "_yGuzIJNnRxp"
      },
      "outputs": [],
      "source": []
    },
    {
      "cell_type": "markdown",
      "metadata": {
        "id": "ngi5X5OFnRxp"
      },
      "source": [
        "## Asking and Answering Questions\n",
        "\n",
        "We've already gained several insights about the respondents and the programming community by exploring individual columns of the dataset. Let's ask some specific questions and try to answer them using data frame operations and visualizations."
      ]
    },
    {
      "cell_type": "markdown",
      "metadata": {
        "id": "DDLAn79jnRxp"
      },
      "source": [
        "#### Q: What are the most popular programming languages in 2020?\n",
        "\n",
        "To answer, this we can use the `LanguageWorkedWith` column. Similar to `DevType`, respondents were allowed to choose multiple options here."
      ]
    },
    {
      "cell_type": "code",
      "execution_count": null,
      "metadata": {
        "id": "fKSHCqtMnRxp"
      },
      "outputs": [],
      "source": []
    },
    {
      "cell_type": "markdown",
      "metadata": {
        "id": "zOeJIx5WnRxp"
      },
      "source": [
        "First, we'll split this column into a data frame containing a column of each language listed in the options."
      ]
    },
    {
      "cell_type": "code",
      "execution_count": null,
      "metadata": {
        "id": "hCuGJZzdnRxq"
      },
      "outputs": [],
      "source": []
    },
    {
      "cell_type": "code",
      "execution_count": null,
      "metadata": {
        "id": "A3RafaDVnRxq"
      },
      "outputs": [],
      "source": []
    },
    {
      "cell_type": "markdown",
      "metadata": {
        "id": "tcFV9uBvnRxq"
      },
      "source": [
        "It appears that a total of 25 languages were included among the options. Let's aggregate these to identify the percentage of respondents who selected each language.\n"
      ]
    },
    {
      "cell_type": "code",
      "execution_count": null,
      "metadata": {
        "id": "K8hnAyrxnRxq"
      },
      "outputs": [],
      "source": []
    },
    {
      "cell_type": "markdown",
      "metadata": {
        "id": "9Gf-jkgonRxq"
      },
      "source": [
        "We can plot this information using a horizontal bar chart."
      ]
    },
    {
      "cell_type": "code",
      "execution_count": null,
      "metadata": {
        "id": "Gek14LGBnRxq"
      },
      "outputs": [],
      "source": []
    },
    {
      "cell_type": "markdown",
      "metadata": {
        "id": "rJe3mzSmnRxr"
      },
      "source": [
        "Perhaps unsurprisingly, Javascript & HTML/CSS comes out at the top as web development is one of today's most sought skills. It also happens to be one of the easiest to get started. SQL is necessary for working with relational databases, so it's no surprise that most programmers work with SQL regularly. Python seems to be the popular choice for other forms of development, beating out Java, which was the industry standard for server & application development for over two decades.\n",
        "\n",
        "**Exercises**:\n",
        "\n",
        "* What are the most common languages used by students? How does the list compare with the most common languages used by professional developers?\n",
        "* What are the most common languages among respondents who do not describe themselves as \"Developer, front-end\"?\n",
        "* What are the most common languages among respondents who work in fields related to data science?\n",
        "* What are the most common languages used by developers older than 35 years of age?\n",
        "* What are the most common languages used by developers in your home country?"
      ]
    },
    {
      "cell_type": "markdown",
      "metadata": {
        "id": "DfV1P1t5nRxr"
      },
      "source": [
        "#### Q: Which languages are the most people interested to learn over the next year?\n",
        "\n",
        "For this, we can use the `LanguageDesireNextYear` column, with similar processing as the previous one."
      ]
    },
    {
      "cell_type": "code",
      "execution_count": null,
      "metadata": {
        "id": "7yr4kzJcnRxr"
      },
      "outputs": [],
      "source": []
    },
    {
      "cell_type": "code",
      "execution_count": null,
      "metadata": {
        "scrolled": false,
        "id": "gQRk0oQPnRxr"
      },
      "outputs": [],
      "source": []
    },
    {
      "cell_type": "markdown",
      "metadata": {
        "id": "mrBa4u8unRxr"
      },
      "source": [
        "Once again, it's not surprising that Python is the language most people are interested in learning - since it is an easy-to-learn general-purpose programming language well suited for a variety of domains: application development, numerical computing, data analysis, machine learning, big data, cloud automation, web scraping, scripting, etc. We're using Python for this very analysis, so we're in good company!\n",
        "\n",
        "**Exercises**: Repeat the exercises from the previous question, replacing \"most common languages\" with \"languages people are interested in learning/using.\""
      ]
    },
    {
      "cell_type": "markdown",
      "metadata": {
        "id": "ovx0FX8AnRxs"
      },
      "source": [
        "#### Q:  Which are the most loved languages, i.e., a high percentage of people who have used the language want to continue learning & using it over the next year?\n",
        "\n",
        "While this question may seem tricky at first, it's straightforward to solve using Pandas array operations. Here's what we can do:\n",
        "\n",
        "- Create a new data frame `languages_loved_df` that contains a `True` value for a language only if the corresponding values in `languages_worked_df` and `languages_interested_df` are both `True`\n",
        "- Take the column-wise sum of `languages_loved_df` and divide it by the column-wise sum of `languages_worked_df` to get the percentage of respondents who \"love\" the language\n",
        "- Sort the results in decreasing order and plot a horizontal bar graph"
      ]
    },
    {
      "cell_type": "code",
      "execution_count": null,
      "metadata": {
        "id": "PNkCsxRTnRxs"
      },
      "outputs": [],
      "source": []
    },
    {
      "cell_type": "code",
      "execution_count": null,
      "metadata": {
        "id": "gaBvtCEInRxs"
      },
      "outputs": [],
      "source": []
    },
    {
      "cell_type": "code",
      "execution_count": null,
      "metadata": {
        "id": "Iuu-0JNCnRxs"
      },
      "outputs": [],
      "source": []
    },
    {
      "cell_type": "markdown",
      "metadata": {
        "id": "dJ9qQ1LwnRxs"
      },
      "source": [
        "[Rust](https://www.rust-lang.org) has been StackOverflow's most-loved language for [four years in a row](https://stackoverflow.blog/2020/01/20/what-is-rust-and-why-is-it-so-popular/). The second most-loved language is TypeScript, a popular alternative to JavaScript for web development.\n",
        "\n",
        "Python features at number 3, despite already being one of the most widely-used languages in the world. Python has a solid foundation, is easy to learn & use, has a large ecosystem of domain-specific libraries, and a massive worldwide community.\n",
        "\n",
        "**Exercises:** What are the most dreaded languages, i.e., languages which people have used in the past year but do not want to learn/use over the next year. Hint: `~languages_interested_df`."
      ]
    },
    {
      "cell_type": "markdown",
      "metadata": {
        "id": "F6kg_unEnRxs"
      },
      "source": [
        "#### Q: In which countries do developers work the highest number of hours per week? Consider countries with more than 250 responses only.\n",
        "\n",
        "To answer this question, we'll need to use the `groupby` data frame method to aggregate the rows for each country. We'll also need to filter the results to only include the countries with more than 250 respondents."
      ]
    },
    {
      "cell_type": "code",
      "execution_count": null,
      "metadata": {
        "id": "hoERK9LUnRxs"
      },
      "outputs": [],
      "source": []
    },
    {
      "cell_type": "code",
      "execution_count": null,
      "metadata": {
        "id": "9EeyiBb5nRxt"
      },
      "outputs": [],
      "source": []
    },
    {
      "cell_type": "code",
      "execution_count": null,
      "metadata": {
        "id": "EaMnCq2InRxt"
      },
      "outputs": [],
      "source": []
    },
    {
      "cell_type": "markdown",
      "metadata": {
        "id": "fSGdWh0bnRxt"
      },
      "source": [
        "The Asian countries like Iran, China, and Israel have the highest working hours, followed by the United States. However, there isn't too much variation overall, and the average working hours seem to be around 40 hours per week.\n",
        "\n",
        "**Exercises:**\n",
        "\n",
        "* How do the average work hours compare across continents? You may find this list of [countries in each continent](https://hub.jovian.ml/wp-content/uploads/2020/09/countries.csv) useful.\n",
        "* Which role has the highest average number of hours worked per week? Which one has the lowest?\n",
        "* How do the hours worked compare between freelancers and developers working full-time?"
      ]
    },
    {
      "cell_type": "markdown",
      "metadata": {
        "id": "kjKNr1UanRxt"
      },
      "source": [
        "#### Q: How important is it to start young to build a career in programming?\n",
        "\n",
        "Let's create a scatter plot of `Age` vs. `YearsCodePro` (i.e., years of coding experience) to answer this question."
      ]
    },
    {
      "cell_type": "code",
      "execution_count": null,
      "metadata": {
        "id": "nigf_9cjnRxt"
      },
      "outputs": [],
      "source": []
    },
    {
      "cell_type": "code",
      "execution_count": null,
      "metadata": {
        "id": "TB8HYfhxnRxt"
      },
      "outputs": [],
      "source": []
    },
    {
      "cell_type": "markdown",
      "metadata": {
        "id": "lBRZHoEsnRxt"
      },
      "source": [
        "You can see points all over the graph, which indicates that you can **start programming professionally at any age**. Many people who have been coding for several decades professionally also seem to enjoy it as a hobby.\n",
        "\n",
        "We can also view the distribution of the `Age1stCode` column to see when the respondents tried programming for the first time."
      ]
    },
    {
      "cell_type": "code",
      "execution_count": null,
      "metadata": {
        "id": "1tqjq3c5nRxu"
      },
      "outputs": [],
      "source": []
    },
    {
      "cell_type": "markdown",
      "metadata": {
        "id": "ycwv054mnRxu"
      },
      "source": [
        "As you might expect, most people seem to have had some exposure to programming before the age of 40. However, but there are people of all ages and walks of life learning to code.\n",
        "\n",
        "**Exercises**:\n",
        "\n",
        "* How does programming experience change opinions & preferences? Repeat the entire analysis while comparing the responses of people who have more than ten years of professional programming experience vs. those who don't. Do you see any interesting trends?\n",
        "* Compare the years of professional coding experience across different genders.\n"
      ]
    },
    {
      "cell_type": "code",
      "execution_count": null,
      "metadata": {
        "id": "-Gz4XUGGnRxu"
      },
      "outputs": [],
      "source": []
    },
    {
      "cell_type": "markdown",
      "metadata": {
        "id": "r8KNlLRJnRxu"
      },
      "source": [
        "Hopefully, you are already thinking of many more questions you'd like to answer using this data. Use the empty cells below to ask and answer more questions."
      ]
    },
    {
      "cell_type": "code",
      "execution_count": null,
      "metadata": {
        "id": "eABBbOFQnRxu"
      },
      "outputs": [],
      "source": []
    },
    {
      "cell_type": "code",
      "execution_count": null,
      "metadata": {
        "id": "NyTIOU4WnRxu"
      },
      "outputs": [],
      "source": []
    },
    {
      "cell_type": "code",
      "execution_count": null,
      "metadata": {
        "id": "dCDcdgX7nRxu"
      },
      "outputs": [],
      "source": []
    },
    {
      "cell_type": "code",
      "execution_count": null,
      "metadata": {
        "id": "XDEXd0KHnRxu"
      },
      "outputs": [],
      "source": []
    },
    {
      "cell_type": "markdown",
      "metadata": {
        "id": "VRWw3z9vnRxv"
      },
      "source": [
        "Let's save and commit our work before continuing"
      ]
    },
    {
      "cell_type": "code",
      "execution_count": null,
      "metadata": {
        "id": "RkSZKNLanRxv"
      },
      "outputs": [],
      "source": []
    },
    {
      "cell_type": "code",
      "execution_count": null,
      "metadata": {
        "id": "iHPnyO0nnRxv"
      },
      "outputs": [],
      "source": []
    },
    {
      "cell_type": "markdown",
      "metadata": {
        "id": "rB6l6ZVNnRxv"
      },
      "source": [
        "## Inferences and Conclusions\n",
        "\n",
        "We've drawn many inferences from the survey. Here's a summary of a few of them:\n",
        "\n",
        "- Based on the survey respondents' demographics, we can infer that the survey is somewhat representative of the overall programming community. However, it has fewer responses from programmers in non-English-speaking countries and women & non-binary genders.\n",
        "\n",
        "- The programming community is not as diverse as it can be. Although things are improving, we should make more efforts to support & encourage underrepresented communities, whether in terms of age, country, race, gender, or otherwise.\n",
        "\n",
        "\n",
        "- Although most programmers hold a college degree, a reasonably large percentage did not have computer science as their college major. Hence, a computer science degree isn't compulsory for learning to code or building a career in programming.\n",
        "\n",
        "- A significant percentage of programmers either work part-time or as freelancers, which can be a great way to break into the field, especially when you're just getting started.\n",
        "\n",
        "- Javascript & HTML/CSS are the most used programming languages in 2020, closely followed by SQL & Python.\n",
        "\n",
        "- Python is the language most people are interested in learning - since it is an easy-to-learn general-purpose programming language well suited for various domains.\n",
        "\n",
        "- Rust and TypeScript are the most \"loved\" languages in 2020, both of which have small but fast-growing communities. Python is a close third, despite already being a widely used language.\n",
        "\n",
        "- Programmers worldwide seem to be working for around 40 hours a week on average, with slight variations by country.\n",
        "\n",
        "- You can learn and start programming professionally at any age. You're likely to have a long and fulfilling career if you also enjoy programming as a hobby.\n"
      ]
    },
    {
      "cell_type": "markdown",
      "metadata": {
        "id": "9qTi4inynRxv"
      },
      "source": [
        "## Exercises\n",
        "\n",
        "There's a wealth of information to be discovered using the survey, and we've barely scratched the surface. Here are some ideas for further exploration:\n",
        "\n",
        "- Repeat the analysis for different age groups & genders, and compare the results\n",
        "- Pick a different set of columns (we chose 20 out of 65) to analyze other facets of the data\n",
        "- Prepare an analysis focusing on diversity - and identify areas where underrepresented communities are at par with the majority (e.g., education) and where they aren't (e.g., salaries)\n",
        "- Compare the results of this year's survey with the previous years and identify interesting trends\n"
      ]
    },
    {
      "cell_type": "markdown",
      "metadata": {
        "id": "14apTnhonRxv"
      },
      "source": [
        "## References and Future Work\n",
        "\n",
        "Check out the following resources to learn more about the dataset and tools used in this notebook:\n",
        "\n",
        "- Stack Overflow Developer Survey: https://insights.stackoverflow.com/survey\n",
        "- Pandas user guide: https://pandas.pydata.org/docs/user_guide/index.html\n",
        "- Matplotlib user guide: https://matplotlib.org/3.3.1/users/index.html\n",
        "- Seaborn user guide & tutorial: https://seaborn.pydata.org/tutorial.html\n",
        "- `opendatasets` Python library: https://github.com/JovianML/opendatasets\n",
        "\n",
        "As a next step, you can try out a project on another dataset of your choice: https://jovian.ml/aakashns/zerotopandas-course-project-starter ."
      ]
    },
    {
      "cell_type": "code",
      "execution_count": null,
      "metadata": {
        "id": "xIIOS3DfnRxv"
      },
      "outputs": [],
      "source": []
    },
    {
      "cell_type": "code",
      "execution_count": null,
      "metadata": {
        "id": "8uvuVVJBnRxv"
      },
      "outputs": [],
      "source": []
    },
    {
      "cell_type": "code",
      "execution_count": null,
      "metadata": {
        "id": "1kc_NHi6nRxw"
      },
      "outputs": [],
      "source": []
    }
  ],
  "metadata": {
    "language_info": {
      "codemirror_mode": {
        "name": "ipython",
        "version": 3
      },
      "file_extension": ".py",
      "mimetype": "text/x-python",
      "name": "python",
      "nbconvert_exporter": "python",
      "pygments_lexer": "ipython3",
      "version": "3.6.13"
    },
    "colab": {
      "provenance": [],
      "include_colab_link": true
    }
  },
  "nbformat": 4,
  "nbformat_minor": 0
}