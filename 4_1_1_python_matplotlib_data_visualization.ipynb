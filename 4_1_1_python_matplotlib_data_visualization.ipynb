{
  "cells": [
    {
      "cell_type": "markdown",
      "metadata": {
        "id": "view-in-github",
        "colab_type": "text"
      },
      "source": [
        "<a href=\"https://colab.research.google.com/github/tavi1402/Data_Science_bootcamp/blob/main/4_1_1_python_matplotlib_data_visualization.ipynb\" target=\"_parent\"><img src=\"https://colab.research.google.com/assets/colab-badge.svg\" alt=\"Open In Colab\"/></a>"
      ]
    },
    {
      "cell_type": "markdown",
      "metadata": {
        "id": "Oiu84RfdZi1R"
      },
      "source": [
        "# Data Visualization using Python, Matplotlib and Seaborn\n",
        "\n",
        "\n",
        "![](https://i.imgur.com/9i806Rh.png)\n",
        "\n",
        "\n",
        "This tutorial series is a beginner-friendly introduction to programming and data analysis using the Python programming language. These tutorials take a practical and coding-focused approach. The best way to learn the material is to execute the code and experiment with it yourself."
      ]
    },
    {
      "cell_type": "markdown",
      "metadata": {
        "id": "Nn-hD8nFZi1W"
      },
      "source": [
        "This tutorial covers the following topics:\n",
        "\n",
        "- Creating and customizing line charts using Matplotlib\n",
        "- Visualizing relationships between two or more variables using scatter plots\n",
        "- Studying distributions of variables using histograms & bar charts\n",
        "- Visualizing two-dimensional data using heatmaps\n",
        "- Displaying images using Matplotlib's `plt.imshow`\n",
        "- Plotting multiple Matplotlib and Seaborn charts in a grid"
      ]
    },
    {
      "cell_type": "markdown",
      "metadata": {
        "id": "gWGbENqjZi1X"
      },
      "source": [
        "### How to run the code\n",
        "\n",
        "This tutorial is an executable [Jupyter notebook](https://jupyter.org) hosted on [Jovian](https://www.jovian.ai). You can _run_ this tutorial and experiment with the code examples in a couple of ways: *using free online resources* (recommended) or *on your computer*.\n",
        "\n",
        "#### Option 1: Running using free online resources (1-click, recommended)\n",
        "\n",
        "The easiest way to start executing the code is to click the **Run** button at the top of this page and select **Run on Binder**. You can also select \"Run on Colab\" or \"Run on Kaggle\", but you'll need to create an account on [Google Colab](https://colab.research.google.com) or [Kaggle](https://kaggle.com) to use these platforms.\n",
        "\n",
        "\n",
        "#### Option 2: Running on your computer locally\n",
        "\n",
        "To run the code on your computer locally, you'll need to set up [Python](https://www.python.org), download the notebook and install the required libraries. We recommend using the [Conda](https://docs.conda.io/projects/conda/en/latest/user-guide/install/) distribution of Python. Click the **Run** button at the top of this page, select the **Run Locally** option, and follow the instructions.\n",
        "\n",
        ">  **Jupyter Notebooks**: This tutorial is a [Jupyter notebook](https://jupyter.org) - a document made of _cells_. Each cell can contain code written in Python or explanations in plain English. You can execute code cells and view the results, e.g., numbers, messages, graphs, tables, files, etc., instantly within the notebook. Jupyter is a powerful platform for experimentation and analysis. Don't be afraid to mess around with the code & break things - you'll learn a lot by encountering and fixing errors. You can use the \"Kernel > Restart & Clear Output\" menu option to clear all outputs and start again from the top."
      ]
    },
    {
      "cell_type": "markdown",
      "metadata": {
        "id": "rBZrmbfjZi1X"
      },
      "source": [
        "## Introduction\n",
        "\n",
        "Data visualization is the graphic representation of data. It involves producing images that communicate relationships among the represented data to viewers. Visualizing data is an essential part of data analysis and machine learning. We'll use Python libraries [Matplotlib](https://matplotlib.org) and [Seaborn](https://seaborn.pydata.org) to learn and apply some popular data visualization techniques. We'll use the words _chart_, _plot_, and _graph_ interchangeably in this tutorial.\n",
        "\n",
        "To begin, let's install and import the libraries. We'll use the `matplotlib.pyplot` module for basic plots like line & bar charts. It is often imported with the alias `plt`. We'll use the `seaborn` module for more advanced plots. It is commonly imported with the alias `sns`."
      ]
    },
    {
      "cell_type": "code",
      "execution_count": null,
      "metadata": {
        "id": "dQiZoaMBZi1X"
      },
      "outputs": [],
      "source": []
    },
    {
      "cell_type": "code",
      "execution_count": null,
      "metadata": {
        "id": "GQu0cydWZi1Y"
      },
      "outputs": [],
      "source": []
    },
    {
      "cell_type": "markdown",
      "metadata": {
        "id": "Z9wn5DI1Zi1Z"
      },
      "source": [
        "Notice this we also include the special command `%matplotlib inline` to ensure that our plots are shown and embedded within the Jupyter notebook itself. Without this command, sometimes plots may show up in pop-up windows."
      ]
    },
    {
      "cell_type": "markdown",
      "metadata": {
        "id": "DV9UwgkzZi1a"
      },
      "source": [
        "## Line Chart\n",
        "\n",
        "The line chart is one of the simplest and most widely used data visualization techniques. A line chart displays information as a series of data points or markers connected by straight lines. You can customize the shape, size, color, and other aesthetic elements of the lines and markers for better visual clarity.\n",
        "\n",
        "Here's a Python list showing the yield of apples (tons per hectare) over six years in an imaginary country called Kanto."
      ]
    },
    {
      "cell_type": "code",
      "execution_count": null,
      "metadata": {
        "id": "ecOOe_81Zi1b"
      },
      "outputs": [],
      "source": []
    },
    {
      "cell_type": "markdown",
      "metadata": {
        "id": "b_C8SrsnZi1b"
      },
      "source": [
        "We can visualize how the yield of apples changes over time using a line chart. To draw a line chart, we can use the `plt.plot` function."
      ]
    },
    {
      "cell_type": "code",
      "execution_count": null,
      "metadata": {
        "id": "wn4gG5AlZi1c"
      },
      "outputs": [],
      "source": []
    },
    {
      "cell_type": "markdown",
      "metadata": {
        "id": "K4Qf57n8Zi1c"
      },
      "source": [
        "Calling the `plt.plot` function draws the line chart as expected. It also returns a list of plots drawn `[<matplotlib.lines.Line2D at 0x7ff70aa20760>]`, shown within the output. We can include a semicolon (`;`) at the end of the last statement in the cell to avoiding showing the output and display just the graph."
      ]
    },
    {
      "cell_type": "code",
      "execution_count": null,
      "metadata": {
        "id": "QVleQSx7Zi1c"
      },
      "outputs": [],
      "source": []
    },
    {
      "cell_type": "markdown",
      "metadata": {
        "id": "96r8QSa_Zi1c"
      },
      "source": [
        "Let's enhance this plot step-by-step to make it more informative and beautiful."
      ]
    },
    {
      "cell_type": "markdown",
      "metadata": {
        "id": "du7OLiFSZi1d"
      },
      "source": [
        "### Customizing the X-axis\n",
        "\n",
        "The X-axis of the plot currently shows list element indexes 0 to 5. The plot would be more informative if we could display the year for which we're plotting the data. We can do this by two arguments `plt.plot`."
      ]
    },
    {
      "cell_type": "code",
      "execution_count": null,
      "metadata": {
        "id": "RcZcw2MCZi1d"
      },
      "outputs": [],
      "source": []
    },
    {
      "cell_type": "code",
      "execution_count": null,
      "metadata": {
        "id": "wINOZnyaZi1d"
      },
      "outputs": [],
      "source": []
    },
    {
      "cell_type": "markdown",
      "metadata": {
        "id": "-bTczcUdZi1d"
      },
      "source": [
        "### Axis Labels\n",
        "\n",
        "We can add labels to the axes to show what each axis represents using the `plt.xlabel` and `plt.ylabel` methods."
      ]
    },
    {
      "cell_type": "code",
      "execution_count": null,
      "metadata": {
        "id": "R0dz7WwgZi1e"
      },
      "outputs": [],
      "source": []
    },
    {
      "cell_type": "markdown",
      "metadata": {
        "id": "3GwSPTppZi1e"
      },
      "source": [
        "### Plotting Multiple Lines\n",
        "\n",
        "You can invoke the `plt.plot` function once for each line to plot multiple lines in the same graph. Let's compare the yields of apples vs. oranges in Kanto."
      ]
    },
    {
      "cell_type": "code",
      "execution_count": null,
      "metadata": {
        "id": "cQ3m7qxuZi1e"
      },
      "outputs": [],
      "source": []
    },
    {
      "cell_type": "code",
      "execution_count": null,
      "metadata": {
        "id": "bM1Td6kcZi1e"
      },
      "outputs": [],
      "source": []
    },
    {
      "cell_type": "markdown",
      "metadata": {
        "id": "FK_nJdNTZi1f"
      },
      "source": [
        "### Chart Title and  Legend\n",
        "\n",
        "To differentiate between multiple lines, we can include a legend within the graph using the `plt.legend` function. We can also set a title for the chart using the `plt.title` function."
      ]
    },
    {
      "cell_type": "code",
      "execution_count": null,
      "metadata": {
        "id": "uBDpedXpZi1f"
      },
      "outputs": [],
      "source": []
    },
    {
      "cell_type": "markdown",
      "metadata": {
        "id": "2R4oGhJcZi1f"
      },
      "source": [
        "### Line Markers\n",
        "\n",
        "We can also show markers for the data points on each line using the `marker` argument of `plt.plot`. Matplotlib provides many different markers, like a circle, cross, square, diamond, etc. You can find the full list of marker types here: https://matplotlib.org/3.1.1/api/markers_api.html ."
      ]
    },
    {
      "cell_type": "code",
      "execution_count": null,
      "metadata": {
        "id": "0xJFTzxuZi1f"
      },
      "outputs": [],
      "source": []
    },
    {
      "cell_type": "markdown",
      "metadata": {
        "id": "u9YzH2fEZi1f"
      },
      "source": [
        "### Styling Lines and Markers\n",
        "\n",
        "The `plt.plot` function supports many arguments for styling lines and markers:\n",
        "\n",
        "- `color` or `c`: Set the color of the line ([supported colors](https://matplotlib.org/3.1.0/gallery/color/named_colors.html))\n",
        "- `linestyle` or `ls`: Choose between a solid or dashed line\n",
        "- `linewidth` or `lw`: Set the width of a line\n",
        "- `markersize` or `ms`: Set the size of markers\n",
        "- `markeredgecolor` or `mec`: Set the edge color for markers\n",
        "- `markeredgewidth` or `mew`: Set the edge width for markers\n",
        "- `markerfacecolor` or `mfc`: Set the fill color for markers\n",
        "- `alpha`: Opacity of the plot\n",
        "\n",
        "\n",
        "Check out the documentation for `plt.plot` to learn more: [https://matplotlib.org/api/_as_gen/matplotlib.pyplot.plot.html#matplotlib.pyplot.plot](https://matplotlib.org/api/_as_gen/matplotlib.pyplot.plot.html#matplotlib.pyplot.plot) ."
      ]
    },
    {
      "cell_type": "code",
      "execution_count": null,
      "metadata": {
        "id": "_ekhWNzmZi1f"
      },
      "outputs": [],
      "source": []
    },
    {
      "cell_type": "markdown",
      "metadata": {
        "id": "YOddum6pZi1f"
      },
      "source": [
        "The `fmt` argument provides a shorthand for specifying the marker shape, line style, and line color. It can be provided as the third argument to `plt.plot`.\n",
        "\n",
        "```\n",
        "fmt = '[marker][line][color]'\n",
        "```\n",
        "\n"
      ]
    },
    {
      "cell_type": "code",
      "execution_count": null,
      "metadata": {
        "id": "XS6f4TjzZi1f"
      },
      "outputs": [],
      "source": []
    },
    {
      "cell_type": "markdown",
      "metadata": {
        "id": "uIYMACTEZi1g"
      },
      "source": [
        "If you don't specify a line style in `fmt`, only markers are drawn."
      ]
    },
    {
      "cell_type": "code",
      "execution_count": null,
      "metadata": {
        "id": "w6SzFYRmZi1g"
      },
      "outputs": [],
      "source": []
    },
    {
      "cell_type": "markdown",
      "metadata": {
        "id": "6caf2_j6Zi1g"
      },
      "source": [
        "### Changing the Figure Size\n",
        "\n",
        "You can use the `plt.figure` function to change the size of the figure."
      ]
    },
    {
      "cell_type": "code",
      "execution_count": null,
      "metadata": {
        "id": "_MNGlTZfZi1g"
      },
      "outputs": [],
      "source": []
    },
    {
      "cell_type": "markdown",
      "metadata": {
        "id": "UQ69Acj3Zi1g"
      },
      "source": [
        "### Improving Default Styles using Seaborn\n",
        "\n",
        "An easy way to make your charts look beautiful is to use some default styles from the Seaborn library. These can be applied globally using the `sns.set_style` function. You can see a full list of predefined styles here: https://seaborn.pydata.org/generated/seaborn.set_style.html ."
      ]
    },
    {
      "cell_type": "code",
      "execution_count": null,
      "metadata": {
        "id": "Iy7il1gWZi1g"
      },
      "outputs": [],
      "source": []
    },
    {
      "cell_type": "code",
      "execution_count": null,
      "metadata": {
        "id": "7fyXLjORZi1g"
      },
      "outputs": [],
      "source": []
    },
    {
      "cell_type": "code",
      "execution_count": null,
      "metadata": {
        "id": "9rcJJ3tZZi1g"
      },
      "outputs": [],
      "source": []
    },
    {
      "cell_type": "code",
      "execution_count": null,
      "metadata": {
        "id": "SMaMQJ35Zi1g"
      },
      "outputs": [],
      "source": []
    },
    {
      "cell_type": "code",
      "execution_count": null,
      "metadata": {
        "id": "GJOfgFX4Zi1n"
      },
      "outputs": [],
      "source": []
    },
    {
      "cell_type": "markdown",
      "metadata": {
        "id": "zIBHQfL_Zi1o"
      },
      "source": [
        "You can also edit default styles directly by modifying the `matplotlib.rcParams` dictionary. Learn more: https://matplotlib.org/3.2.1/tutorials/introductory/customizing.html#matplotlib-rcparams ."
      ]
    },
    {
      "cell_type": "code",
      "execution_count": null,
      "metadata": {
        "id": "7937cVBoZi1o"
      },
      "outputs": [],
      "source": []
    },
    {
      "cell_type": "code",
      "execution_count": null,
      "metadata": {
        "id": "mWWDuAFIZi1p"
      },
      "outputs": [],
      "source": []
    },
    {
      "cell_type": "markdown",
      "metadata": {
        "id": "SpExkeF-Zi1p"
      },
      "source": [
        "### Save and upload your notebook\n",
        "\n",
        "Whether you're running this Jupyter notebook online or on your computer, it's essential to save your work from time to time. You can continue working on a saved notebook later or share it with friends and colleagues to let them execute your code. [Jovian](https://www.jovian.ai) offers an easy way of saving and sharing your Jupyter notebooks online."
      ]
    },
    {
      "cell_type": "code",
      "execution_count": null,
      "metadata": {
        "id": "9rAepf3mZi1p"
      },
      "outputs": [],
      "source": []
    },
    {
      "cell_type": "code",
      "execution_count": null,
      "metadata": {
        "id": "78XwSKh0Zi1p"
      },
      "outputs": [],
      "source": []
    },
    {
      "cell_type": "code",
      "execution_count": null,
      "metadata": {
        "id": "3kyBc5WoZi1q"
      },
      "outputs": [],
      "source": []
    },
    {
      "cell_type": "markdown",
      "metadata": {
        "id": "d5Nq8H2cZi1q"
      },
      "source": [
        "The first time you run `jovian.commit`, you'll be asked to provide an API Key to securely upload the notebook to your Jovian account. You can get the API key from your [Jovian profile page](https://jovian.ai) after logging in / signing up.\n",
        "\n",
        "\n",
        "`jovian.commit` uploads the notebook to your Jovian account, captures the Python environment, and creates a shareable link for your notebook, as shown above. You can use this link to share your work and let anyone (including you) run your notebooks and reproduce your work."
      ]
    },
    {
      "cell_type": "markdown",
      "metadata": {
        "id": "rwRN4At_Zi1q"
      },
      "source": [
        "## Scatter Plot\n",
        "\n",
        "In a scatter plot, the values of 2 variables are plotted as points on a 2-dimensional grid. Additionally, you can also use a third variable to determine the size or color of the points. Let's try out an example.\n",
        "\n",
        "The [Iris flower dataset](https://en.wikipedia.org/wiki/Iris_flower_data_set) provides sample measurements of sepals and petals for three species of flowers. The Iris dataset is included with the Seaborn library and can be loaded as a Pandas data frame."
      ]
    },
    {
      "cell_type": "code",
      "execution_count": null,
      "metadata": {
        "id": "DlTji_pZZi1q"
      },
      "outputs": [],
      "source": []
    },
    {
      "cell_type": "code",
      "execution_count": null,
      "metadata": {
        "id": "_scrH6qkZi1q"
      },
      "outputs": [],
      "source": []
    },
    {
      "cell_type": "code",
      "execution_count": null,
      "metadata": {
        "id": "_UX-l79VZi1r"
      },
      "outputs": [],
      "source": []
    },
    {
      "cell_type": "markdown",
      "metadata": {
        "id": "dGrlRWoMZi1r"
      },
      "source": [
        "Let's try to visualize the relationship between sepal length and sepal width. Our first instinct might be to create a line chart using `plt.plot`."
      ]
    },
    {
      "cell_type": "code",
      "execution_count": null,
      "metadata": {
        "id": "3kWp3-knZi1s"
      },
      "outputs": [],
      "source": []
    },
    {
      "cell_type": "markdown",
      "metadata": {
        "id": "8DJ1JHwfZi1s"
      },
      "source": [
        "The output is not very informative as there are too many combinations of the two properties within the dataset. There doesn't seem to be simple relationship between them.\n",
        "\n",
        "We can use a scatter plot to visualize how sepal length & sepal width vary using the `scatterplot` function from the `seaborn` module (imported as `sns`)."
      ]
    },
    {
      "cell_type": "code",
      "execution_count": null,
      "metadata": {
        "id": "tqy8_aGvZi1s"
      },
      "outputs": [],
      "source": []
    },
    {
      "cell_type": "markdown",
      "metadata": {
        "id": "I6L9-sBsZi1t"
      },
      "source": [
        "### Adding Hues\n",
        "\n",
        "Notice how the points in the above plot seem to form distinct clusters with some outliers. We can color the dots using the flower species as a `hue`. We can also make the points larger using the `s` argument."
      ]
    },
    {
      "cell_type": "code",
      "execution_count": null,
      "metadata": {
        "id": "REBVg8mMZi1t"
      },
      "outputs": [],
      "source": []
    },
    {
      "cell_type": "markdown",
      "metadata": {
        "id": "C4ZMEca3Zi1u"
      },
      "source": [
        "Adding hues makes the plot more informative. We can immediately tell that Setosa flowers have a smaller sepal length but higher sepal widths. In contrast, the opposite is true for Virginica flowers."
      ]
    },
    {
      "cell_type": "markdown",
      "metadata": {
        "id": "m1p6hQGnZi1v"
      },
      "source": [
        "### Customizing Seaborn Figures\n",
        "\n",
        "Since Seaborn uses Matplotlib's plotting functions internally, we can use functions like `plt.figure` and `plt.title` to modify the figure."
      ]
    },
    {
      "cell_type": "code",
      "execution_count": null,
      "metadata": {
        "id": "Mp-1FI12Zi1v"
      },
      "outputs": [],
      "source": []
    },
    {
      "cell_type": "markdown",
      "metadata": {
        "id": "-uDPuCvTZi1v"
      },
      "source": [
        "### Plotting using Pandas Data Frames\n",
        "\n",
        "Seaborn has in-built support for Pandas data frames. Instead of passing each column as a series, you can provide column names and use the `data` argument to specify a data frame."
      ]
    },
    {
      "cell_type": "code",
      "execution_count": null,
      "metadata": {
        "id": "g4avR0xlZi1v"
      },
      "outputs": [],
      "source": []
    },
    {
      "cell_type": "markdown",
      "metadata": {
        "id": "M_V3qjEfZi1v"
      },
      "source": [
        "Let's save and upload our work before continuing."
      ]
    },
    {
      "cell_type": "code",
      "execution_count": null,
      "metadata": {
        "id": "tuVO3MkVZi1v"
      },
      "outputs": [],
      "source": []
    },
    {
      "cell_type": "code",
      "execution_count": null,
      "metadata": {
        "scrolled": true,
        "id": "9LakmeWgZi1w"
      },
      "outputs": [],
      "source": []
    },
    {
      "cell_type": "markdown",
      "metadata": {
        "id": "Zoi983PgZi1w"
      },
      "source": [
        "## Histogram\n",
        "\n",
        "A histogram represents the distribution of a variable by creating bins (interval) along the range of values and showing vertical bars to indicate the number of observations in each bin.\n",
        "\n",
        "For example, let's visualize the distribution of values of sepal width in the flowers dataset. We can use the `plt.hist` function to create a histogram."
      ]
    },
    {
      "cell_type": "code",
      "execution_count": null,
      "metadata": {
        "id": "mSH_T3dUZi1w"
      },
      "outputs": [],
      "source": []
    },
    {
      "cell_type": "code",
      "execution_count": null,
      "metadata": {
        "id": "kT7WG8IWZi1w"
      },
      "outputs": [],
      "source": []
    },
    {
      "cell_type": "code",
      "execution_count": null,
      "metadata": {
        "id": "Mx_LNEtcZi1w"
      },
      "outputs": [],
      "source": []
    },
    {
      "cell_type": "markdown",
      "metadata": {
        "id": "s6ZBT2iCZi1x"
      },
      "source": [
        "We can immediately see that the sepal widths lie in the range 2.0 - 4.5, and around 35 values are in the range 2.9 - 3.1, which seems to be the most populous bin."
      ]
    },
    {
      "cell_type": "markdown",
      "metadata": {
        "id": "smRCnKUeZi1x"
      },
      "source": [
        "### Controlling the size and number of bins\n",
        "\n",
        "We can control the number of bins or the size of each one using the bins argument.\n"
      ]
    },
    {
      "cell_type": "code",
      "execution_count": null,
      "metadata": {
        "id": "eHtEBh2sZi1x"
      },
      "outputs": [],
      "source": []
    },
    {
      "cell_type": "code",
      "execution_count": null,
      "metadata": {
        "id": "bMUke4rnZi1x"
      },
      "outputs": [],
      "source": []
    },
    {
      "cell_type": "code",
      "execution_count": null,
      "metadata": {
        "id": "kLJ6P4ePZi1y"
      },
      "outputs": [],
      "source": []
    },
    {
      "cell_type": "markdown",
      "metadata": {
        "id": "6InRRtrgZi1y"
      },
      "source": [
        "### Multiple Histograms\n",
        "\n",
        "Similar to line charts, we can draw multiple histograms in a single chart. We can reduce each histogram's opacity  so that one histogram's bars don't hide the others'.\n",
        "\n",
        "Let's draw separate histograms for each species of flowers."
      ]
    },
    {
      "cell_type": "code",
      "execution_count": null,
      "metadata": {
        "id": "8ysq2YfKZi1y"
      },
      "outputs": [],
      "source": []
    },
    {
      "cell_type": "code",
      "execution_count": null,
      "metadata": {
        "id": "VkgiI-RbZi1y"
      },
      "outputs": [],
      "source": []
    },
    {
      "cell_type": "markdown",
      "metadata": {
        "id": "icNLlXb4Zi1z"
      },
      "source": [
        "We can also stack multiple histograms on top of one another."
      ]
    },
    {
      "cell_type": "code",
      "execution_count": null,
      "metadata": {
        "id": "zU4LQvGfZi1z"
      },
      "outputs": [],
      "source": []
    },
    {
      "cell_type": "markdown",
      "metadata": {
        "id": "5_UB0ZVfZi1z"
      },
      "source": [
        "Let's save and commit our work before continuing"
      ]
    },
    {
      "cell_type": "code",
      "execution_count": null,
      "metadata": {
        "id": "f28rZ6ydZi10"
      },
      "outputs": [],
      "source": []
    },
    {
      "cell_type": "code",
      "execution_count": null,
      "metadata": {
        "id": "mciMr0hWZi10"
      },
      "outputs": [],
      "source": []
    },
    {
      "cell_type": "markdown",
      "metadata": {
        "id": "q_318Ap3Zi10"
      },
      "source": [
        "## Bar Chart\n",
        "\n",
        "Bar charts are quite similar to line charts, i.e., they show a sequence of values. However, a bar is shown for each value, rather than points connected by lines. We can use the `plt.bar` function to draw a bar chart."
      ]
    },
    {
      "cell_type": "code",
      "execution_count": null,
      "metadata": {
        "id": "Yo91hcjJZi10"
      },
      "outputs": [],
      "source": []
    },
    {
      "cell_type": "code",
      "execution_count": null,
      "metadata": {
        "id": "09ldOOd1Zi10"
      },
      "outputs": [],
      "source": []
    },
    {
      "cell_type": "markdown",
      "metadata": {
        "id": "7oy28kOiZi11"
      },
      "source": [
        "Like histograms, we can stack bars on top of one another. We use the `bottom` argument of `plt.bar` to achieve this."
      ]
    },
    {
      "cell_type": "code",
      "execution_count": null,
      "metadata": {
        "id": "y-qdwX8WZi11"
      },
      "outputs": [],
      "source": []
    },
    {
      "cell_type": "markdown",
      "metadata": {
        "id": "SC45JvvwZi11"
      },
      "source": [
        "### Bar Plots with Averages\n",
        "\n",
        "Let's look at another sample dataset included with Seaborn, called `tips`. The dataset contains information about the sex, time of day, total bill, and tip amount for customers visiting a restaurant over a week."
      ]
    },
    {
      "cell_type": "code",
      "execution_count": null,
      "metadata": {
        "id": "rusIgoJhZi11"
      },
      "outputs": [],
      "source": []
    },
    {
      "cell_type": "code",
      "execution_count": null,
      "metadata": {
        "id": "3LlAocHiZi12"
      },
      "outputs": [],
      "source": []
    },
    {
      "cell_type": "markdown",
      "metadata": {
        "id": "FVW4aLJzZi12"
      },
      "source": [
        "We might want to draw a bar chart to visualize how the average bill amount varies across different days of the week. One way to do this would be to compute the day-wise averages and then use `plt.bar` (try it as an exercise).\n",
        "\n",
        "However, since this is a very common use case, the Seaborn library provides a `barplot` function which can automatically compute averages."
      ]
    },
    {
      "cell_type": "code",
      "execution_count": null,
      "metadata": {
        "id": "PIQlmjm0Zi12"
      },
      "outputs": [],
      "source": []
    },
    {
      "cell_type": "markdown",
      "metadata": {
        "id": "6B6KaCRFZi12"
      },
      "source": [
        "The lines cutting each bar represent the amount of variation in the values. For instance, it seems like the variation in the total bill is relatively high on Fridays and low on Saturday.\n",
        "\n",
        "We can also specify a `hue` argument to compare bar plots side-by-side based on a third feature, e.g., sex."
      ]
    },
    {
      "cell_type": "code",
      "execution_count": null,
      "metadata": {
        "id": "_xdL0GdRZi13"
      },
      "outputs": [],
      "source": []
    },
    {
      "cell_type": "markdown",
      "metadata": {
        "id": "EC-YH2G_Zi13"
      },
      "source": [
        "You can make the bars horizontal simply by switching the axes."
      ]
    },
    {
      "cell_type": "code",
      "execution_count": null,
      "metadata": {
        "id": "V5pIM55uZi13"
      },
      "outputs": [],
      "source": []
    },
    {
      "cell_type": "markdown",
      "metadata": {
        "id": "7ZT0l6oRZi13"
      },
      "source": [
        "Let's save and commit our work before continuing."
      ]
    },
    {
      "cell_type": "code",
      "execution_count": null,
      "metadata": {
        "id": "Nyld5RKMZi14"
      },
      "outputs": [],
      "source": []
    },
    {
      "cell_type": "code",
      "execution_count": null,
      "metadata": {
        "id": "CNpP3xAzZi14"
      },
      "outputs": [],
      "source": []
    },
    {
      "cell_type": "markdown",
      "metadata": {
        "id": "Zn3Z1mvXZi14"
      },
      "source": [
        "## Heatmap\n",
        "\n",
        "A heatmap is used to visualize 2-dimensional data like a matrix or a table using colors. The best way to understand it is by looking at an example. We'll use another sample dataset from Seaborn, called `flights`, to visualize monthly passenger footfall at an airport over 12 years."
      ]
    },
    {
      "cell_type": "code",
      "execution_count": null,
      "metadata": {
        "id": "P8zhDU3UZi14"
      },
      "outputs": [],
      "source": []
    },
    {
      "cell_type": "code",
      "execution_count": null,
      "metadata": {
        "id": "Y1dw9rvuZi14"
      },
      "outputs": [],
      "source": []
    },
    {
      "cell_type": "markdown",
      "metadata": {
        "id": "w1Atn-cWZi14"
      },
      "source": [
        "`flights_df` is a matrix with one row for each month and one column for each year. The values show the number of passengers (in thousands) that visited the airport in a specific month of a year. We can use the `sns.heatmap` function to visualize the footfall at the airport."
      ]
    },
    {
      "cell_type": "code",
      "execution_count": null,
      "metadata": {
        "id": "Gs0IcRcFZi14"
      },
      "outputs": [],
      "source": []
    },
    {
      "cell_type": "markdown",
      "metadata": {
        "id": "C4DtqhwkZi14"
      },
      "source": [
        "The brighter colors indicate a higher footfall at the airport. By looking at the graph, we can infer two things:\n",
        "\n",
        "- The footfall at the airport in any given year tends to be the highest around July & August.\n",
        "- The footfall at the airport in any given month tends to grow year by year.\n",
        "\n",
        "We can also display the actual values in each block by specifying `annot=True` and using the `cmap` argument to change the color palette."
      ]
    },
    {
      "cell_type": "code",
      "execution_count": null,
      "metadata": {
        "id": "imOLPai8Zi14"
      },
      "outputs": [],
      "source": []
    },
    {
      "cell_type": "markdown",
      "metadata": {
        "id": "awJdusffZi14"
      },
      "source": [
        "Let's save and upload our work before continuing."
      ]
    },
    {
      "cell_type": "code",
      "execution_count": null,
      "metadata": {
        "id": "OFQFi4UCZi14"
      },
      "outputs": [],
      "source": []
    },
    {
      "cell_type": "code",
      "execution_count": null,
      "metadata": {
        "id": "iI2kG23wZi14"
      },
      "outputs": [],
      "source": []
    },
    {
      "cell_type": "markdown",
      "metadata": {
        "id": "9jCZVKyCZi15"
      },
      "source": [
        "## Images\n",
        "\n",
        "We can also use Matplotlib to display images. Let's download an image from the internet."
      ]
    },
    {
      "cell_type": "code",
      "execution_count": null,
      "metadata": {
        "id": "GMD0gJhrZi15"
      },
      "outputs": [],
      "source": []
    },
    {
      "cell_type": "code",
      "execution_count": null,
      "metadata": {
        "id": "U6EAMw_ZZi15"
      },
      "outputs": [],
      "source": []
    },
    {
      "cell_type": "markdown",
      "metadata": {
        "id": "-67D12gEZi15"
      },
      "source": [
        "Before displaying an image, it has to be read into memory using the `PIL` module."
      ]
    },
    {
      "cell_type": "code",
      "execution_count": null,
      "metadata": {
        "id": "O89TctJVZi15"
      },
      "outputs": [],
      "source": []
    },
    {
      "cell_type": "code",
      "execution_count": null,
      "metadata": {
        "id": "wIg29NwyZi15"
      },
      "outputs": [],
      "source": []
    },
    {
      "cell_type": "markdown",
      "metadata": {
        "id": "ZpdCJFrzZi15"
      },
      "source": [
        "An image loaded using PIL is simply a 3-dimensional numpy array containing pixel intensities for the red, green & blue (RGB) channels of the image. We can convert the image into an array using `np.array`."
      ]
    },
    {
      "cell_type": "code",
      "execution_count": null,
      "metadata": {
        "id": "yYlOm7qGZi19"
      },
      "outputs": [],
      "source": []
    },
    {
      "cell_type": "code",
      "execution_count": null,
      "metadata": {
        "id": "9gZoPVUeZi1-"
      },
      "outputs": [],
      "source": []
    },
    {
      "cell_type": "markdown",
      "metadata": {
        "id": "ywUFM2-vZi1-"
      },
      "source": [
        "We can display the PIL image using `plt.imshow`."
      ]
    },
    {
      "cell_type": "code",
      "execution_count": null,
      "metadata": {
        "id": "1hhwTsK0Zi1-"
      },
      "outputs": [],
      "source": []
    },
    {
      "cell_type": "markdown",
      "metadata": {
        "id": "WRHfBp5KZi1_"
      },
      "source": [
        "We can turn off the axes & grid lines and show a title using the relevant functions."
      ]
    },
    {
      "cell_type": "code",
      "execution_count": null,
      "metadata": {
        "id": "0wBfPpbnZi2A"
      },
      "outputs": [],
      "source": []
    },
    {
      "cell_type": "markdown",
      "metadata": {
        "id": "npiwT1rMZi2A"
      },
      "source": [
        "To display a part of the image, we can simply select a slice from the numpy array."
      ]
    },
    {
      "cell_type": "code",
      "execution_count": null,
      "metadata": {
        "id": "h8sb3qIkZi2B"
      },
      "outputs": [],
      "source": []
    },
    {
      "cell_type": "markdown",
      "metadata": {
        "id": "sV1mVL-JZi2B"
      },
      "source": [
        "## Plotting multiple charts in a grid\n",
        "\n",
        "Matplotlib and Seaborn also support plotting multiple charts in a grid, using `plt.subplots`, which returns a set of axes for plotting.\n",
        "\n",
        "Here's a single grid showing the different types of charts we've covered in this tutorial."
      ]
    },
    {
      "cell_type": "code",
      "execution_count": null,
      "metadata": {
        "id": "mQWk3I5-Zi2R"
      },
      "outputs": [],
      "source": []
    },
    {
      "cell_type": "markdown",
      "metadata": {
        "id": "PLWYuSj9Zi2R"
      },
      "source": [
        "See this page for a full list of supported functions: https://matplotlib.org/3.3.1/api/axes_api.html#the-axes-class ."
      ]
    },
    {
      "cell_type": "markdown",
      "metadata": {
        "id": "8TBLGVcGZi2R"
      },
      "source": [
        "### Pair plots with Seaborn\n",
        "\n",
        "Seaborn also provides a helper function `sns.pairplot` to automatically plot several different charts for pairs of features within a dataframe."
      ]
    },
    {
      "cell_type": "code",
      "execution_count": null,
      "metadata": {
        "id": "dbQB0vBaZi2R"
      },
      "outputs": [],
      "source": []
    },
    {
      "cell_type": "code",
      "execution_count": null,
      "metadata": {
        "id": "pUI29T-QZi2S"
      },
      "outputs": [],
      "source": []
    },
    {
      "cell_type": "markdown",
      "metadata": {
        "id": "kneUyPhjZi2S"
      },
      "source": [
        "Let's save and upload our work before continuing."
      ]
    },
    {
      "cell_type": "code",
      "execution_count": null,
      "metadata": {
        "id": "kp2XnG24Zi2S"
      },
      "outputs": [],
      "source": []
    },
    {
      "cell_type": "code",
      "execution_count": null,
      "metadata": {
        "id": "UmbNhfJXZi2S"
      },
      "outputs": [],
      "source": []
    },
    {
      "cell_type": "markdown",
      "metadata": {
        "id": "PjyIZcUZZi2S"
      },
      "source": [
        "## Summary and Further Reading\n",
        "\n",
        "We have covered the following topics in this tutorial:\n",
        "\n",
        "- Creating and customizing line charts using Matplotlib\n",
        "- Visualizing relationships between two or more variables using scatter plots\n",
        "- Studying distributions of variables using histograms & bar charts to\n",
        "- Visualizing two-dimensional data using heatmaps\n",
        "- Displaying images using Matplotlib's `plt.imshow`\n",
        "- Plotting multiple Matplotlib and Seaborn charts in a grid\n",
        "\n",
        "In this tutorial we've covered some of the fundamental concepts and popular techniques for data visualization using Matplotlib and Seaborn. Data visualization is a vast field and we've barely scratched the surface here. Check out these references to learn and discover more:\n",
        "\n",
        "* Data Visualization cheat sheet: https://jovian.ml/aakashns/dataviz-cheatsheet\n",
        "* Seaborn gallery: https://seaborn.pydata.org/examples/index.html\n",
        "* Matplotlib gallery: https://matplotlib.org/3.1.1/gallery/index.html\n",
        "* Matplotlib tutorial: https://github.com/rougier/matplotlib-tutorial\n",
        "\n",
        "You are now ready to move on to the next tutorial: [Exploratory Data Analysis - A Case Study](https://jovian.ai/aakashns/python-eda-stackoverflow-survey)\n"
      ]
    },
    {
      "cell_type": "markdown",
      "metadata": {
        "id": "94rX1TubZi2T"
      },
      "source": [
        "## Questions for Revision\n",
        "\n",
        "Try answering the following questions to test your understanding of the topics covered in this notebook:\n",
        "\n",
        "1. What is data visualization?\n",
        "2. What is Matplotlib?\n",
        "3. What is Seaborn?\n",
        "4. How do you install Matplotlib and Seaborn?\n",
        "5. How you import Matplotlib and Seaborn? What are the common aliases used while importing these modules?\n",
        "6. What is the purpose of the magic command `%matplotlib inline`?\n",
        "7. What is a line chart?\n",
        "8. How do you plot a line chart in Python? Illustrate with an example.\n",
        "9. How do you specify values for the X-axis of a line chart?\n",
        "10. How do you specify labels for the axes of a chart?\n",
        "11. How do you plot multiple line charts on the same axes?\n",
        "12. How do you show a legend for a line chart with multiple lines?\n",
        "13. How you set a title for a chart?\n",
        "14. How do you show markers on a line chart?\n",
        "15. What are the different options for styling lines & markers in line charts? Illustrate with examples?\n",
        "16. What is the purpose of the `fmt` argument to `plt.plot`?\n",
        "17. How do you markers without a line using `plt.plot`?\n",
        "18. Where can you see a list of all the arguments accepted by `plt.plot`?\n",
        "19. How do you change the size of the figure using Matplotlib?\n",
        "20. How do you apply the default styles from Seaborn globally for all charts?\n",
        "21. What are the predefined styles available in Seaborn? Illustrate with examples.\n",
        "22. What is a scatter plot?\n",
        "23. How is a scatter plot different from a line chart?\n",
        "24. How do you draw a scatter plot using Seaborn? Illustrate with an example.\n",
        "25. How do you decide when to use a scatter plot v.s. a line chart?\n",
        "26. How do you specify the colors for dots on a scatter plot using a categorical variable?\n",
        "27. How do you customize the title, figure size, legend, etc., for Seaborn plots?\n",
        "28. How do you use a Pandas dataframe with `sns.scatterplot`?\n",
        "29. What is a histogram?\n",
        "30. When should you use a histogram v.s. a line chart?\n",
        "31. How do you draw a histogram using Matplotlib? Illustrate with an example.\n",
        "32. What are \"bins\" in a histogram?\n",
        "33. How do you change the sizes of bins in a histogram?\n",
        "34. How do you change the number of bins in a histogram?\n",
        "35. How do you show multiple histograms on the same axes?\n",
        "36. How do you stack multiple histograms on top of one another?\n",
        "37. What is a bar chart?\n",
        "38. How do you draw a bar chart using Matplotlib? Illustrate with an example.\n",
        "39. What is the difference between a bar chart and a histogram?\n",
        "40. What is the difference between a bar chart and a line chart?\n",
        "41. How do you stack bars on top of one another?\n",
        "42. What is the difference between `plt.bar` and `sns.barplot`?\n",
        "43. What do the lines cutting the bars in a Seaborn bar plot represent?\n",
        "44. How do you show bar plots side-by-side?\n",
        "45. How do you draw a horizontal bar plot?\n",
        "46. What is a heat map?\n",
        "47. What type of data is best visualized with a heat map?\n",
        "48. What does the `pivot` method of a Pandas dataframe do?\n",
        "49. How do you draw a heat map using Seaborn? Illustrate with an example.\n",
        "50. How do you change the color scheme of a heat map?\n",
        "51. How do you show the original values from the dataset on a heat map?\n",
        "52. How do you download images from a URL in Python?\n",
        "53. How do you open an image for processing in Python?\n",
        "54. What is the purpose of the `PIL` module in Python?\n",
        "55. How do you convert an image loaded using PIL into a Numpy array?\n",
        "56. How many dimensions does a Numpy array for an image have? What does each dimension represent?\n",
        "57. What are \"color channels\" in an image?\n",
        "58. What is RGB?\n",
        "59. How do you display an image using Matplotlib?\n",
        "60. How do you turn off the axes and gridlines in a chart?\n",
        "61. How do you display a portion of an image using Matplotlib?\n",
        "62. How do you plot multiple charts in a grid using Matplotlib and Seaborn? Illustrate with examples.\n",
        "63. What is the purpose of the `plt.subplots` function?\n",
        "64. What are pair plots in Seaborn? Illustrate with an example.\n",
        "65. How do you export a plot into a PNG image file using Matplotlib?\n",
        "66. Where can you learn about the different types of charts you can create using Matplotlib and Seaborn?\n"
      ]
    },
    {
      "cell_type": "code",
      "execution_count": null,
      "metadata": {
        "id": "miKRGuGPZi2T"
      },
      "outputs": [],
      "source": []
    }
  ],
  "metadata": {
    "kernelspec": {
      "display_name": "Python 3",
      "language": "python",
      "name": "python3"
    },
    "language_info": {
      "codemirror_mode": {
        "name": "ipython",
        "version": 3
      },
      "file_extension": ".py",
      "mimetype": "text/x-python",
      "name": "python",
      "nbconvert_exporter": "python",
      "pygments_lexer": "ipython3",
      "version": "3.8.5"
    },
    "colab": {
      "provenance": [],
      "include_colab_link": true
    }
  },
  "nbformat": 4,
  "nbformat_minor": 0
}