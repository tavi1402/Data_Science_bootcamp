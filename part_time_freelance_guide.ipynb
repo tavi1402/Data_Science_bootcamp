{
  "cells": [
    {
      "cell_type": "markdown",
      "metadata": {
        "id": "view-in-github",
        "colab_type": "text"
      },
      "source": [
        "<a href=\"https://colab.research.google.com/github/tavi1402/Data_Science_bootcamp/blob/main/part_time_freelance_guide.ipynb\" target=\"_parent\"><img src=\"https://colab.research.google.com/assets/colab-badge.svg\" alt=\"Open In Colab\"/></a>"
      ]
    },
    {
      "cell_type": "markdown",
      "id": "dying-trust",
      "metadata": {
        "id": "dying-trust"
      },
      "source": [
        "# Finding Part Time and Freelance Work\n",
        "\n",
        "![](https://i.imgur.com/yxOD0eX.jpg)\n",
        "\n",
        "In this tutorial, we look at different types of part-time work, how to approach them and what to charge for your work. We will also discuss some guidelines for planning, executing and delivering projects."
      ]
    },
    {
      "cell_type": "markdown",
      "id": "ancient-newcastle",
      "metadata": {
        "id": "ancient-newcastle"
      },
      "source": [
        "## Types of Part-Time Work\n",
        "\n",
        "There are different types of part-time work, depending on your expertise and the kind of work you're interested in doing:\n",
        "\n",
        "1. Internships - Part-time (or full time) work at a company for a limited period of time\n",
        "2. Freelancing - Part-time work as an individual contributor (typically paid by the hour or per project)\n",
        "3. Consulting - Part-time work where you provide your expertise to help a company/team execute a project.\n",
        "4. Academic Projects - Part-time work with a professor/researcher at a university\n",
        "\n"
      ]
    },
    {
      "cell_type": "markdown",
      "id": "possible-alberta",
      "metadata": {
        "id": "possible-alberta"
      },
      "source": [
        "## Internships\n",
        "\n",
        "<img src=\"https://www.deccanherald.com/sites/dh/files/styles/article_detail/public/article_images/2018/02/21/660685.jpg?itok=7DqJCe8F\" width=\"480\">\n",
        "\n",
        "An internship is part-time or full time work at a company for a limited period of time. The process of applying for internships is quite similar to applying for jobs.\n",
        "\n",
        "### When to do an internship\n",
        "\n",
        "- You want to gain real-world experience in a domain\n",
        "- Getting paid for your time is not an important factor\n",
        "- The projects on your Resume aren't good enough\n",
        "- You've been applying for jobs without much success\n",
        "\n",
        "### How to Find Internships\n",
        "\n",
        "Here are some ways you can find internships:\n",
        "\n",
        "1. Applying via the company's official website\n",
        "2. Applying via Job portals (AngelList, Indeed etc.)\n",
        "3. Reaching out to potential referrers/employers on LinkedIn\n",
        "4. Contributing to open source projects (e.g. PyTorch)\n",
        "\n",
        "\n",
        "### Outcomes of an internship\n",
        "\n",
        "- Accelerated learning and practical work experience\n",
        "- Some points on your Resume to help you find full-time work\n",
        "- A LinkedIn recommendation about your skills & professional behavior\n",
        "- Building a professional network within your target domain\n",
        "\n",
        "\n",
        "### Paid vs. Unpaid Internships\n",
        "\n",
        "Rather than evaluating opportunities as \"paid\" vs. \"non-paid\", I find that a more useful way is to evaluate the opportunity in terms of the amount of learning it offers. An unpaid internship where you are handling a project end to end may be a much better option than a paid internship where you're simply labeling data all day.\n",
        "\n",
        "Many people often struggle with self-study  due to a lack of accountability. Working with external stakeholders brings accountability and deadlines, both of which act as strong forcing functions to help people learn new skills and apply them.\n",
        "\n",
        "People do pay for education. If someone can offer the same education without requiring a payment, but by requiring a contribution to their business instead, then it's a win-win. Of course, you need to feel confident that what they're offering is worth your time, and is likely to be more effective/affordable compared to other options you can choose from.\n",
        "\n"
      ]
    },
    {
      "cell_type": "markdown",
      "id": "pleased-herald",
      "metadata": {
        "id": "pleased-herald"
      },
      "source": [
        "## Freelancing\n",
        "\n",
        "<img src=\"https://i.imgur.com/uVcQk1l.png\" width=\"480\">\n",
        "\n",
        "As a freelancer, you Part-time work as an individual contributor (typically paid by the hour or per project) with one or more companies.\n",
        "\n",
        "### When to Pursue Freelance Work\n",
        "\n",
        "- You're not looking for full-time work in the near future\n",
        "- You want to work on 3-4 projects in different areas\n",
        "- You're ready for a career transition, but want to try out a new domain\n",
        "- You want to work on short term projects, preferably individually\n",
        "- You need a side hustle to support your primary interest\n",
        "\n",
        "### Where to Find Freelance Work\n",
        "\n",
        "There are several websites where you can create a profile as a freelancer and apply for jobs:\n",
        "\n",
        "- https://www.upwork.com/\n",
        "- https://www.toptal.com/\n",
        "- https://gigster.com/talent/\n",
        "- https://freelancer.com\n",
        "- https://remoteok.io/\n",
        "\n",
        "Once you have done a few projects, you can also get new projects from your personal network (become known as the \"Data Science/ML expert\" among your friends/colleagues) and via referrals from previous clients.\n",
        "\n",
        "### How to Build Reputation\n",
        "\n",
        "Finding your first project is the hardest, as most clients look for experienced professionals with a good reputation & work history. Here's how you can build your reputation:\n",
        "\n",
        "- Publish your projects online & write blog posts\n",
        "- Keep your LinkedIn profile updated & feature your best work\n",
        "- Participate in Kaggle competitions & win medals\n",
        "- Offer to do pro bono work or bid really low\n",
        "- Deliver projects on time, and keep your clients happy\n",
        "- Request clients to leave a review on the site/LinkedIn\n",
        "\n",
        "\n",
        "\n",
        "\n"
      ]
    },
    {
      "cell_type": "markdown",
      "id": "congressional-military",
      "metadata": {
        "id": "congressional-military"
      },
      "source": [
        "## Consulting\n",
        "\n",
        "<img src=\"https://i.imgur.com/k37qSgy.png\" width=\"480\">\n",
        "\n",
        "Consulting refers to part-time work where you provide your expertise to help a company/team execute a project. Unlike freelancing, where you actually do the work, as a consultant, you help a team figure out what to do, and how to do it efficiently.\n",
        "\n",
        "Sometimes the lines between consulting & freelancing are blurry. Like freelancing, you get paid by the hour or per project, but the fees you can charge are much higher, because of your expertise in specific areas & the impact you're creating on the organization.\n",
        "\n",
        "### How to find consulting work\n",
        "\n",
        "1. Start out by doing freelance work (individual contributor)\n",
        "2. Build your reputation (see above) and improve your skills in a specific niche\n",
        "3. Get introduced to the right clients via your personal/professional network\n",
        "4. Deliver good outcomes and ask your clients for recommendations & referrals\n",
        "5. (Optional) Set up a company, build a website & build a team to scale your practice\n",
        "\n",
        "It can take a few years to find success as a consultant, but once you get there, it can provide a steady stream of high income with the independence of working on projects of your choice.\n",
        "\n",
        "\n"
      ]
    },
    {
      "cell_type": "markdown",
      "id": "diverse-purchase",
      "metadata": {
        "id": "diverse-purchase"
      },
      "source": [
        "## Academic Projects\n",
        "\n",
        "<img src=\"https://i.imgur.com/npJsWf3.jpg\" width=\"480\">\n",
        "\n",
        "In an academic project, you work part-time work with a professor/researcher at a university on a topic that requires expertise in a specific domain e.g. machine learning applied to finance. In many cases, an academic project may lead to a research paper or article that can be submitted to a relevant publication.\n",
        "\n",
        "\n",
        "### When to Do Academic Projects\n",
        "\n",
        "- You are interested & want to build expertise in a specialized domain\n",
        "- You want to pursue higher education (masters, PhD) in a specific domain\n",
        "- You work to work with a specific researcher/professor from a specific university\n",
        "\n",
        "\n",
        "### How to Get an Academic Project\n",
        "\n",
        "\n",
        "1. Find the experts in the field that you want to work a project in\n",
        "2. Reach out to specific researchers/professors at reputed universities\n",
        "3. Define the problem statement & outcome and create a project proposal\n",
        "4. Work on the project, deliver the results and write a report/paper/article\n",
        "\n",
        "\n",
        "Example: If you're based in India and want to apply machine learning to finance, then you may consider reaching out to Prof. Pulak Ghosh: https://www.iimb.ac.in/user/73/pulak-ghosh\n",
        "\n",
        "\n"
      ]
    },
    {
      "cell_type": "markdown",
      "id": "higher-harmony",
      "metadata": {
        "id": "higher-harmony"
      },
      "source": [
        "## Data Science Project Planning & Execution\n",
        "\n",
        "![](https://i.imgur.com/kKdAALX.png)\n",
        "\n",
        "With part-time and freelance work, it's important to define the requirements and expected outcomes for a project clearly, and take an iterative approach to delivering the outcomes (as opposed to a linear approach).\n",
        "\n",
        "This section is also applicable to data science & ML projects that you'll work on as a full-time employee at a company.\n",
        "\n",
        "### Planning a Project\n",
        "\n",
        "Here's how you should plan a project:\n",
        "\n",
        "1. Understand the business requirements clearly\n",
        "2. Translate business requirements to a technical problem\n",
        "3. Identify the success criteria (\"must have\", \"good to have\", \"exceptional\")\n",
        "4. Explore the available data & determine feasibility\n",
        "5. Write a project proposal with objective, deliverable, success metrics, data requirements, timeline & iterative milestones\n",
        "\n",
        "Use the problem statements for projects you've done in the [bootcamp](https://zerotodatascience.com) as inspiration. Here are some examples:\n",
        "\n",
        "1. Facial Recognition for Know Your Customer (KYC): https://docs.google.com/document/d/1yt3I4xWyFIG1tDcpY99R5DLNwJoLzVz34H8bs4aHBkQ/edit?usp=sharing\n",
        "\n",
        "2. Facial Recognition for Login: https://docs.google.com/document/d/1tFHeJOgWObUckvSAWLuV2gRUPI6vJQxf9Gv9p2OssUU/edit?usp=sharing\n",
        "\n",
        "3. Real Time Sports Score Detection: https://docs.google.com/document/d/1haFjG7suticfWPVTxIS_EBSfKxC2xesJjv8jUrNtXJI/edit?usp=sharing\n",
        "\n",
        "### Working on a Project\n",
        "\n",
        "Follow these steps while working on project:\n",
        "\n",
        "- Identify what you need to do to achieve your milestone for the week/month\n",
        "- Use a task tracking tool like Trello, JIRA, Asana to track your progress\n",
        "- Share regular updates of your progress with clients over Slack/email\n",
        "- Present the outcome in a weekly meeting. Agenda: \"what you did last week\", \"things we need to discuss\", \"what you'll work on this week\"\n",
        "- Discuss and adjust timelines based on delays & blockers\n",
        "\n",
        "**Tip**: While preparing the project proposal, double your initial time estimate. There will almost certiantly be some unexpected delays, and clients prefer a reliable timeline, even if it is a longer one.\n",
        "\n",
        "**Tip**: For machine learning projects, create the first model as quickly as possible (within a few days) and share the results with the client to set the baseline. Then, make gradual improvements to the model every week to show improvement.\n",
        "\n",
        "![](https://miro.medium.com/max/1400/1*y-jEqCAlMGR63H2DKNrMkQ.png)\n",
        "\n",
        "\n",
        "### Ending a Project\n",
        "\n",
        "A project ends when all the deliverables have been _delivered_. Here are some things you should do at the end of a project:\n",
        "\n",
        "1. Hand over all the code to the client in a GitHub repository\n",
        "2. Document the code and share detailed instructions on how to run it\n",
        "3. Write a summary of the work done, and list ideas for future improvements\n",
        "4. Explain everything over a video call, and share the recording\n",
        "\n",
        "It's also common for freelancers & consultants to remain available for support after the project ends at a predetermined hourly rate.\n",
        "\n",
        "\n",
        "### Avoiding & Resolving Conflicts\n",
        "\n",
        "![](https://i.imgur.com/a2e8Vps.png)\n",
        "\n",
        "Over 80% of machine learning projects fail. With part-time & remote work, there is an even greater chances of failure due to miscommunication, unrealistic expectations, low quality data or lack of signal.\n",
        "\n",
        "Here are some strategies to avoid conflict:\n",
        "\n",
        "- Do you research before you commit to a project\n",
        "- Set realistic expectations about achievable results (underpromise & overdeliver)\n",
        "- Define the requirements & deliverable as concretely as possible\n",
        "- Stay in constant communication with the client regarding your progress & blockers\n",
        "- Use an escrow system like Upwork for the payment, so the client doesn't ghost you\n",
        "\n",
        "Despite your best efforts, sometimes things will go sour. Here are some strategies to resolve conflict:\n",
        "\n",
        "- Refer back to the project proposal to point out where thing went wrong\n",
        "- Keep a cool head and focus on solutions, not finding faults & blaming people\n",
        "- Own up to your mistakes and apologize for things that went wrong\n",
        "- Offer a refund to diffuse the tension, even if it's not entirely your fault\n",
        "\n",
        "As a freelancer or consultant, you should prioritize your reputation over money, as a bad review from a client can hurt your chances of getting future projects.\n"
      ]
    },
    {
      "cell_type": "markdown",
      "id": "maritime-pavilion",
      "metadata": {
        "id": "maritime-pavilion"
      },
      "source": [
        "### Summary\n",
        "\n",
        "We looked at different types of part-time work and how to approach them:\n",
        "\n",
        "1. Internships - Part-time (or full time) work at a company for a limited period of time\n",
        "2. Freelancing - Part-time work as an individual contributor (typically paid by the hour or per project)\n",
        "3. Consulting - Part-time work where you provide your expertise to help a company/team execute a project.\n",
        "4. Academic Projects - Part-time work with a professor/researcher at a university\n",
        "\n",
        "References:\n",
        "\n",
        "- https://masatohagiwara.net/202002-my-first-year-as-a-freelance-ai-engineer.html\n",
        "- https://research.aimultiple.com/machine-learning-consulting/\n",
        "- https://medium.com/analytics-vidhya/machine-learning-why-it-is-an-iterative-process-bf709e3b69f2\n",
        "- https://medium.com/analytics-vidhya/data-science-case-studies-solved-and-explained-7b077dc24531\n",
        "- https://towardsdatascience.com/tagged/case-study"
      ]
    }
  ],
  "metadata": {
    "kernelspec": {
      "display_name": "Python 3",
      "language": "python",
      "name": "python3"
    },
    "language_info": {
      "codemirror_mode": {
        "name": "ipython",
        "version": 3
      },
      "file_extension": ".py",
      "mimetype": "text/x-python",
      "name": "python",
      "nbconvert_exporter": "python",
      "pygments_lexer": "ipython3",
      "version": "3.6.13"
    },
    "colab": {
      "provenance": [],
      "include_colab_link": true
    }
  },
  "nbformat": 4,
  "nbformat_minor": 5
}