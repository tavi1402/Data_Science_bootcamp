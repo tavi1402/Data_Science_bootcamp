{
  "cells": [
    {
      "cell_type": "markdown",
      "metadata": {
        "id": "view-in-github",
        "colab_type": "text"
      },
      "source": [
        "<a href=\"https://colab.research.google.com/github/tavi1402/Data_Science_bootcamp/blob/main/Assignment_4_zerotoanalyst_numpy_array_operations.ipynb\" target=\"_parent\"><img src=\"https://colab.research.google.com/assets/colab-badge.svg\" alt=\"Open In Colab\"/></a>"
      ]
    },
    {
      "cell_type": "markdown",
      "id": "59cae63d",
      "metadata": {
        "id": "59cae63d"
      },
      "source": [
        "> ## **Assignment - Numpy Array Operations**\n",
        ">\n",
        "> The objective of this assignment is to develop a solid understanding of Numpy array operations. In this assignment you will:\n",
        ">\n",
        "> 1. Pick 5 interesting Numpy array functions by going through the documentation: https://numpy.org/doc/stable/reference/routines.html\n",
        "> 2. Run and modify this Jupyter notebook to illustrate their usage (some explanation and 3 examples for each function). Use your imagination to come up with interesting and unique examples.\n",
        "> 3. (Optional) Share your notebook online (on Twitter, LinkedIn, Facebook) and with the course community.\n",
        "> 4. (Optional) Check out the notebooks shared by other participants and give feedback & appreciation.\n",
        ">\n",
        "> Try to give pick a theme for your assignment and give your notebook an interesting title e.g. \"All about Numpy array operations\", \"5 Numpy functions you didn't know you needed\", \"A beginner's guide to broadcasting in Numpy\", \"Interesting ways to create Numpy arrays\", \"Trigonometic functions in Numpy\", \"How to use Python for Linear Algebra\" etc.\n",
        ">\n",
        "> **NOTE**: Remove this cell containing explanations before submitting or sharing your notebook online - to make it more presentable.\n",
        "\n",
        "\n"
      ]
    },
    {
      "cell_type": "markdown",
      "id": "c0f65a26",
      "metadata": {
        "id": "c0f65a26"
      },
      "source": [
        "# Title Here (change this)\n",
        "\n",
        "Write a short introduction about Numpy and list the chosen functions. (change this)\n",
        "\n",
        "- ???\n",
        "- ???\n",
        "- ???\n",
        "- ???\n",
        "- ???\n",
        "\n",
        "The recommended way to run this notebook is to click the \"Run\" button at the top of this page, and select \"Run on Binder\". This will run the notebook on mybinder.org, a free online service for running Jupyter notebooks."
      ]
    },
    {
      "cell_type": "markdown",
      "id": "2f146b00",
      "metadata": {
        "id": "2f146b00"
      },
      "source": [
        "Let's begin by importing Numpy and listing out the functions covered in this notebook."
      ]
    },
    {
      "cell_type": "code",
      "execution_count": null,
      "id": "52ea5c54",
      "metadata": {
        "id": "52ea5c54"
      },
      "outputs": [],
      "source": [
        "import numpy as np"
      ]
    },
    {
      "cell_type": "markdown",
      "id": "758fe8a6",
      "metadata": {
        "id": "758fe8a6"
      },
      "source": [
        "## Function 1 - np.concatenate (change this)\n",
        "\n",
        "Add some explanation about the function in your own words\n",
        "\n"
      ]
    },
    {
      "cell_type": "code",
      "execution_count": null,
      "id": "8071615b",
      "metadata": {
        "id": "8071615b",
        "outputId": "a834c2ee-8094-479b-983c-49e1f46cce93"
      },
      "outputs": [
        {
          "data": {
            "text/plain": [
              "array([[ 1.,  2.,  5.,  6.,  7.],\n",
              "       [ 3.,  4.,  8.,  9., 10.]])"
            ]
          },
          "execution_count": 6,
          "metadata": {},
          "output_type": "execute_result"
        }
      ],
      "source": [
        "# Example 1 - working (change this)\n",
        "arr1 = [[1, 2],\n",
        "        [3, 4.]]\n",
        "\n",
        "arr2 = [[5, 6, 7],\n",
        "        [8, 9, 10]]\n",
        "\n",
        "np.concatenate((arr1, arr2), axis=1)"
      ]
    },
    {
      "cell_type": "markdown",
      "id": "d37aed41",
      "metadata": {
        "id": "d37aed41"
      },
      "source": [
        "Explanation about example"
      ]
    },
    {
      "cell_type": "code",
      "execution_count": null,
      "id": "88a2d5ad",
      "metadata": {
        "id": "88a2d5ad",
        "outputId": "7c2b6a25-ec13-4b0e-dd27-cd1d778f152f"
      },
      "outputs": [
        {
          "name": "stdout",
          "output_type": "stream",
          "text": [
            "Object `?` not found.\n"
          ]
        }
      ],
      "source": [
        "# Example 2 - working\n",
        "???"
      ]
    },
    {
      "cell_type": "markdown",
      "id": "de53d7bb",
      "metadata": {
        "id": "de53d7bb"
      },
      "source": [
        "Explanation about example"
      ]
    },
    {
      "cell_type": "code",
      "execution_count": null,
      "id": "26cee40a",
      "metadata": {
        "id": "26cee40a",
        "outputId": "b0d01ca4-5f11-42eb-af49-381afcaeb4db"
      },
      "outputs": [
        {
          "ename": "ValueError",
          "evalue": "all the input array dimensions for the concatenation axis must match exactly, but along dimension 1, the array at index 0 has size 2 and the array at index 1 has size 3",
          "output_type": "error",
          "traceback": [
            "\u001b[0;31m---------------------------------------------------------------------------\u001b[0m",
            "\u001b[0;31mValueError\u001b[0m                                Traceback (most recent call last)",
            "\u001b[0;32m<ipython-input-9-3386a3db1c34>\u001b[0m in \u001b[0;36m<module>\u001b[0;34m\u001b[0m\n\u001b[1;32m      6\u001b[0m         [8, 9, 10]]\n\u001b[1;32m      7\u001b[0m \u001b[0;34m\u001b[0m\u001b[0m\n\u001b[0;32m----> 8\u001b[0;31m \u001b[0mnp\u001b[0m\u001b[0;34m.\u001b[0m\u001b[0mconcatenate\u001b[0m\u001b[0;34m(\u001b[0m\u001b[0;34m(\u001b[0m\u001b[0marr1\u001b[0m\u001b[0;34m,\u001b[0m \u001b[0marr2\u001b[0m\u001b[0;34m)\u001b[0m\u001b[0;34m,\u001b[0m \u001b[0maxis\u001b[0m\u001b[0;34m=\u001b[0m\u001b[0;36m0\u001b[0m\u001b[0;34m)\u001b[0m\u001b[0;34m\u001b[0m\u001b[0;34m\u001b[0m\u001b[0m\n\u001b[0m",
            "\u001b[0;32m<__array_function__ internals>\u001b[0m in \u001b[0;36mconcatenate\u001b[0;34m(*args, **kwargs)\u001b[0m\n",
            "\u001b[0;31mValueError\u001b[0m: all the input array dimensions for the concatenation axis must match exactly, but along dimension 1, the array at index 0 has size 2 and the array at index 1 has size 3"
          ]
        }
      ],
      "source": [
        "# Example 3 - breaking (to illustrate when it breaks)\n",
        "arr1 = [[1, 2],\n",
        "        [3, 4.]]\n",
        "\n",
        "arr2 = [[5, 6, 7],\n",
        "        [8, 9, 10]]\n",
        "\n",
        "np.concatenate((arr1, arr2), axis=0)"
      ]
    },
    {
      "cell_type": "markdown",
      "id": "9bf5cfc2",
      "metadata": {
        "id": "9bf5cfc2"
      },
      "source": [
        "Explanation about example (why it breaks and how to fix it)"
      ]
    },
    {
      "cell_type": "markdown",
      "id": "1814973b",
      "metadata": {
        "id": "1814973b"
      },
      "source": [
        "Some closing comments about when to use this function."
      ]
    },
    {
      "cell_type": "markdown",
      "id": "b431339c",
      "metadata": {
        "id": "b431339c"
      },
      "source": [
        "## Function 2 - ???\n",
        "\n",
        "Add some explanations"
      ]
    },
    {
      "cell_type": "code",
      "execution_count": null,
      "id": "84580bad",
      "metadata": {
        "id": "84580bad",
        "outputId": "03b2ce11-c87c-4b13-95d3-71b24268a27b"
      },
      "outputs": [
        {
          "name": "stdout",
          "output_type": "stream",
          "text": [
            "Object `?` not found.\n"
          ]
        }
      ],
      "source": [
        "# Example 1 - working\n",
        "???"
      ]
    },
    {
      "cell_type": "markdown",
      "id": "6faac290",
      "metadata": {
        "id": "6faac290"
      },
      "source": [
        "Explanation about example"
      ]
    },
    {
      "cell_type": "code",
      "execution_count": null,
      "id": "3c695f28",
      "metadata": {
        "id": "3c695f28"
      },
      "outputs": [],
      "source": [
        "# Example 2 - working\n",
        "???"
      ]
    },
    {
      "cell_type": "markdown",
      "id": "11b800a9",
      "metadata": {
        "id": "11b800a9"
      },
      "source": [
        "Explanation about example"
      ]
    },
    {
      "cell_type": "code",
      "execution_count": null,
      "id": "5933fd7f",
      "metadata": {
        "id": "5933fd7f"
      },
      "outputs": [],
      "source": [
        "# Example 3 - breaking\n",
        "???"
      ]
    },
    {
      "cell_type": "markdown",
      "id": "3059e5d9",
      "metadata": {
        "id": "3059e5d9"
      },
      "source": [
        "Explanation about example (why it breaks and how to fix it)"
      ]
    },
    {
      "cell_type": "markdown",
      "id": "df74b1bc",
      "metadata": {
        "id": "df74b1bc"
      },
      "source": [
        "Some closing comments about when to use this function."
      ]
    },
    {
      "cell_type": "markdown",
      "id": "ab9a189d",
      "metadata": {
        "id": "ab9a189d"
      },
      "source": [
        "## Function 3 - ???\n",
        "\n",
        "Add some explanations"
      ]
    },
    {
      "cell_type": "code",
      "execution_count": null,
      "id": "866c283f",
      "metadata": {
        "id": "866c283f",
        "outputId": "5cd415d7-2dff-4ef4-8943-2cfff5dfd21d"
      },
      "outputs": [
        {
          "name": "stdout",
          "output_type": "stream",
          "text": [
            "Object `?` not found.\n"
          ]
        }
      ],
      "source": [
        "# Example 1 - working\n",
        "???"
      ]
    },
    {
      "cell_type": "markdown",
      "id": "a40843fb",
      "metadata": {
        "id": "a40843fb"
      },
      "source": [
        "Explanation about example"
      ]
    },
    {
      "cell_type": "code",
      "execution_count": null,
      "id": "48cabea7",
      "metadata": {
        "id": "48cabea7"
      },
      "outputs": [],
      "source": [
        "# Example 2 - working\n",
        "???"
      ]
    },
    {
      "cell_type": "markdown",
      "id": "753f624a",
      "metadata": {
        "id": "753f624a"
      },
      "source": [
        "Explanation about example"
      ]
    },
    {
      "cell_type": "code",
      "execution_count": null,
      "id": "b08d13d6",
      "metadata": {
        "id": "b08d13d6"
      },
      "outputs": [],
      "source": [
        "# Example 3 - breaking\n",
        "???"
      ]
    },
    {
      "cell_type": "markdown",
      "id": "7682c4da",
      "metadata": {
        "id": "7682c4da"
      },
      "source": [
        "Explanation about example (why it breaks and how to fix it)"
      ]
    },
    {
      "cell_type": "markdown",
      "id": "030a168b",
      "metadata": {
        "id": "030a168b"
      },
      "source": [
        "Some closing comments about when to use this function."
      ]
    },
    {
      "cell_type": "markdown",
      "id": "e220cc49",
      "metadata": {
        "id": "e220cc49"
      },
      "source": [
        "## Function 4 - ???\n",
        "\n",
        "Add some explanations"
      ]
    },
    {
      "cell_type": "code",
      "execution_count": null,
      "id": "73912c33",
      "metadata": {
        "id": "73912c33",
        "outputId": "8aef2b62-9703-4d0d-ebc1-f9beed3e5a18"
      },
      "outputs": [
        {
          "name": "stdout",
          "output_type": "stream",
          "text": [
            "Object `?` not found.\n"
          ]
        }
      ],
      "source": [
        "# Example 1 - working\n",
        "???"
      ]
    },
    {
      "cell_type": "markdown",
      "id": "ac04bbb3",
      "metadata": {
        "id": "ac04bbb3"
      },
      "source": [
        "Explanation about example"
      ]
    },
    {
      "cell_type": "code",
      "execution_count": null,
      "id": "b31164d6",
      "metadata": {
        "id": "b31164d6"
      },
      "outputs": [],
      "source": [
        "# Example 2 - working\n",
        "???"
      ]
    },
    {
      "cell_type": "markdown",
      "id": "cc6e1ec2",
      "metadata": {
        "id": "cc6e1ec2"
      },
      "source": [
        "Explanation about example"
      ]
    },
    {
      "cell_type": "code",
      "execution_count": null,
      "id": "889166ce",
      "metadata": {
        "id": "889166ce"
      },
      "outputs": [],
      "source": [
        "# Example 3 - breaking\n",
        "???"
      ]
    },
    {
      "cell_type": "markdown",
      "id": "d78537d7",
      "metadata": {
        "id": "d78537d7"
      },
      "source": [
        "Explanation about example (why it breaks and how to fix it)"
      ]
    },
    {
      "cell_type": "markdown",
      "id": "4b140854",
      "metadata": {
        "id": "4b140854"
      },
      "source": [
        "Some closing comments about when to use this function."
      ]
    },
    {
      "cell_type": "markdown",
      "id": "086b7e9e",
      "metadata": {
        "id": "086b7e9e"
      },
      "source": [
        "## Function 5 - ???\n",
        "\n",
        "Add some explanations"
      ]
    },
    {
      "cell_type": "code",
      "execution_count": null,
      "id": "02205ab2",
      "metadata": {
        "id": "02205ab2",
        "outputId": "00d43c92-e1a3-4664-cc46-2ad5c0ad994e"
      },
      "outputs": [
        {
          "name": "stdout",
          "output_type": "stream",
          "text": [
            "Object `?` not found.\n"
          ]
        }
      ],
      "source": [
        "# Example 1 - working\n",
        "???"
      ]
    },
    {
      "cell_type": "markdown",
      "id": "027082ab",
      "metadata": {
        "id": "027082ab"
      },
      "source": [
        "Explanation about example"
      ]
    },
    {
      "cell_type": "code",
      "execution_count": null,
      "id": "1894cac2",
      "metadata": {
        "id": "1894cac2"
      },
      "outputs": [],
      "source": [
        "# Example 2 - working\n",
        "???"
      ]
    },
    {
      "cell_type": "markdown",
      "id": "a79c7f61",
      "metadata": {
        "id": "a79c7f61"
      },
      "source": [
        "Explanation about example"
      ]
    },
    {
      "cell_type": "code",
      "execution_count": null,
      "id": "e983c084",
      "metadata": {
        "id": "e983c084"
      },
      "outputs": [],
      "source": [
        "# Example 3 - breaking\n",
        "???"
      ]
    },
    {
      "cell_type": "markdown",
      "id": "254111bb",
      "metadata": {
        "id": "254111bb"
      },
      "source": [
        "Explanation about example (why it breaks and how to fix it)"
      ]
    },
    {
      "cell_type": "markdown",
      "id": "c9c5872e",
      "metadata": {
        "id": "c9c5872e"
      },
      "source": [
        "Some closing comments about when to use this function."
      ]
    },
    {
      "cell_type": "markdown",
      "id": "b9756a1d",
      "metadata": {
        "id": "b9756a1d"
      },
      "source": [
        "## Conclusion\n",
        "\n",
        "Summarize what was covered in this notebook, and where to go next"
      ]
    },
    {
      "cell_type": "markdown",
      "id": "70e317d1",
      "metadata": {
        "id": "70e317d1"
      },
      "source": [
        "## Reference Links\n",
        "Provide links to your references and other interesting articles about Numpy arrays:\n",
        "* Numpy official tutorial : https://numpy.org/doc/stable/user/quickstart.html\n",
        "* ..."
      ]
    },
    {
      "cell_type": "markdown",
      "id": "3247822a",
      "metadata": {
        "id": "3247822a"
      },
      "source": [
        "## LeetCode Problems"
      ]
    },
    {
      "cell_type": "markdown",
      "id": "d54d6d0a",
      "metadata": {
        "id": "d54d6d0a"
      },
      "source": [
        "### [Problem 14](https://leetcode.com/problems/longest-common-prefix/) -  Longest Common Prefix\n",
        "\n",
        "Write a function to find the longest common prefix string amongst an array of strings.\n",
        "\n",
        "If there is no common prefix, return an empty string \"\"."
      ]
    },
    {
      "cell_type": "markdown",
      "id": "e385df6f",
      "metadata": {
        "id": "e385df6f"
      },
      "source": [
        "**Example 1:**\n",
        "```\n",
        "Input: strs = [\"flower\",\"flow\",\"flight\"]\n",
        "Output: \"fl\"\n",
        "```\n",
        "\n",
        "**Example 2:**\n",
        "```\n",
        "Input: strs = [\"dog\",\"racecar\",\"car\"]\n",
        "Output: \"\"\n",
        "Explanation: There is no common prefix among the input strings.\n",
        "```\n",
        "\n",
        "**Constraints:**\n",
        "```\n",
        "1 <= strs.length <= 200\n",
        "0 <= strs[i].length <= 200\n",
        "strs[i] consists of only lowercase English letters.\n",
        "```"
      ]
    },
    {
      "cell_type": "code",
      "execution_count": null,
      "id": "8d2a8506",
      "metadata": {
        "id": "8d2a8506"
      },
      "outputs": [],
      "source": [
        "def longestCommonPrefix(strs):\n",
        "    ???"
      ]
    },
    {
      "cell_type": "code",
      "execution_count": null,
      "id": "35e13a63",
      "metadata": {
        "id": "35e13a63"
      },
      "outputs": [],
      "source": [
        "# This should return \"True\"\n",
        "longestCommonPrefix([\"flower\",\"flow\",\"flight\"]) == \"fl\""
      ]
    },
    {
      "cell_type": "code",
      "execution_count": null,
      "id": "1f58fd8b",
      "metadata": {
        "id": "1f58fd8b"
      },
      "outputs": [],
      "source": [
        "# This should return \"True\"\n",
        "longestCommonPrefix([\"dog\",\"racecar\",\"car\"]) == \"\""
      ]
    },
    {
      "cell_type": "code",
      "execution_count": null,
      "id": "a73a1adc",
      "metadata": {
        "id": "a73a1adc"
      },
      "outputs": [],
      "source": [
        "# This should return \"False\"\n",
        "longestCommonPrefix([\"fit\",\"finger\",\"fill\", \"film\"]) == \"f\""
      ]
    },
    {
      "cell_type": "markdown",
      "id": "9b5a5547",
      "metadata": {
        "id": "9b5a5547"
      },
      "source": [
        "### [Problem121](https://leetcode.com/problems/best-time-to-buy-and-sell-stock/) - Best Time to Buy and Sell Stock\n",
        "\n",
        "You are given an array `prices` where `prices[i]` is the price of a given stock on the i<sup>th</sup> day.\n",
        "\n",
        "You want to maximize your profit by choosing a **single day** to buy one stock and choosing a **different day in the future** to sell that stock.\n",
        "\n",
        "Return the *maximum profit you can achieve from this transaction*. If you cannot achieve any profit, return `0`."
      ]
    },
    {
      "cell_type": "markdown",
      "id": "b3f68e29",
      "metadata": {
        "id": "b3f68e29"
      },
      "source": [
        "**Example 1:**\n",
        "```\n",
        "Input: prices = [7,1,5,3,6,4]\n",
        "Output: 5\n",
        "Explanation: Buy on day 2 (price = 1) and sell on day 5 (price = 6), profit = 6-1 = 5.\n",
        "Note that buying on day 2 and selling on day 1 is not allowed because you must buy before you sell.\n",
        "```\n",
        "**Example 2:**\n",
        "```\n",
        "Input: prices = [7,6,4,3,1]\n",
        "Output: 0\n",
        "Explanation: In this case, no transactions are done and the max profit = 0.\n",
        "```\n",
        "\n",
        "**Constraints:**\n",
        "```\n",
        "1 <= prices.length <= 105\n",
        "0 <= prices[i] <= 104\n",
        "```"
      ]
    },
    {
      "cell_type": "code",
      "execution_count": null,
      "id": "9ea3f5c9",
      "metadata": {
        "id": "9ea3f5c9"
      },
      "outputs": [],
      "source": [
        "def maxProfit(prices):\n",
        "    ???"
      ]
    },
    {
      "cell_type": "code",
      "execution_count": null,
      "id": "e8a052be",
      "metadata": {
        "id": "e8a052be"
      },
      "outputs": [],
      "source": [
        "# This should return \"True\"\n",
        "maxProfit([7,1,5,3,6,4]) == 5"
      ]
    },
    {
      "cell_type": "code",
      "execution_count": null,
      "id": "db30ca7e",
      "metadata": {
        "id": "db30ca7e"
      },
      "outputs": [],
      "source": [
        "# This should return \"True\"\n",
        "maxProfit([7,6,4,3,1]) == 0"
      ]
    }
  ],
  "metadata": {
    "kernelspec": {
      "display_name": "Python 3 (ipykernel)",
      "language": "python",
      "name": "python3"
    },
    "language_info": {
      "codemirror_mode": {
        "name": "ipython",
        "version": 3
      },
      "file_extension": ".py",
      "mimetype": "text/x-python",
      "name": "python",
      "nbconvert_exporter": "python",
      "pygments_lexer": "ipython3",
      "version": "3.9.7"
    },
    "colab": {
      "provenance": [],
      "include_colab_link": true
    }
  },
  "nbformat": 4,
  "nbformat_minor": 5
}