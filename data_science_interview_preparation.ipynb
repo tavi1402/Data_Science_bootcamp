{
  "cells": [
    {
      "cell_type": "markdown",
      "metadata": {
        "id": "view-in-github",
        "colab_type": "text"
      },
      "source": [
        "<a href=\"https://colab.research.google.com/github/tavi1402/Data_Science_bootcamp/blob/main/data_science_interview_preparation.ipynb\" target=\"_parent\"><img src=\"https://colab.research.google.com/assets/colab-badge.svg\" alt=\"Open In Colab\"/></a>"
      ]
    },
    {
      "cell_type": "markdown",
      "id": "antique-classic",
      "metadata": {
        "id": "antique-classic"
      },
      "source": [
        "# Preparing for Data Science Interviews\n",
        "\n",
        "![](https://i.imgur.com/CEPSvA3.png)\n",
        "\n",
        "Interviewing for a new job can be a long, difficult and stressful process. In this tutorial, we'll discuss some strategies to prepare for data science interviews.\n",
        "\n",
        "[Data Science Interview Preparation Guide](https://jovianai.notion.site/Data-Science-Interview-Preparation-Guide-68059024627d440b89890cf37e938acd)"
      ]
    },
    {
      "cell_type": "markdown",
      "id": "specified-destruction",
      "metadata": {
        "id": "specified-destruction"
      },
      "source": [
        "## Understanding the Employer's Perspective\n",
        "\n",
        "Employers hate conducting interviews as much as candidates hate taking them. But they're a necessary evil: interviewing is the most efficient process for determine if someone is fit for a job role.\n",
        "\n",
        "> The more evidence you can provide that you're fit for a role, the more likely you are to clear an interview.\n",
        "\n",
        "Why employers conduct interviews:\n",
        "\n",
        "* Employers are looking for someone who can reliably solve problems using data science.\n",
        "* Solving problems requires some basic aptitude, some technical skills & prior experience.\n",
        "* Interviews are necessary because there's no test to assess these skills easily & reliably.\n",
        "* Interviews are also used to decide if other employees will enjoy working with the candidate.\n",
        "* Interviews also offer a chance for the candidate to learn more about the role & company\n",
        "\n",
        "Contrary to popular belief, there are generally aren't many trick questions in interviews. Most interviewers ask questions simply with the intention of knowing more about your or testing whether you have the skills required for the job.\n",
        "\n",
        "<img src=\"https://i.imgur.com/t0M8gVX.png\" width=\"480\">\n",
        "\n",
        "How to do well in an interview:\n",
        "\n",
        "* Have a normal relaxed conversation\n",
        "* Offer clear, concise & honest answers\n",
        "* Share your experience & skills in a matter-of-fact way (without exaggerating or diminishing)\n",
        "* Request clarifications when needed & ask thoughtful questions\n",
        "\n",
        "20 ways to stand out in the hiring process: https://twitter.com/SahilBloom/status/1399375061111382022"
      ]
    },
    {
      "cell_type": "markdown",
      "id": "automotive-december",
      "metadata": {
        "id": "automotive-december"
      },
      "source": [
        "## Data Science Hiring Process\n",
        "\n",
        "1. Company announces a data science job listing\n",
        "2. Candidates apply with Resume & cover letter\n",
        "3. Recruiters shortlist eligible candidates (10%)\n",
        "4. Candidates are pre-screened & given a coding assignment\n",
        "5. Strong candidates are invited for interviews (20%)\n",
        "6. Multiple interview rounds: technical, non-technical\n",
        "7. Company makes an offer and candidate(s) negotiate terms (25%)\n",
        "8. Candidate(s) sign the offer & join the company\n",
        "\n",
        "Typical Timeline: 1.5 - 2 months\n",
        "\n",
        "\n",
        "<img src=\"https://i.imgur.com/fT8V2tp.png\" width=\"360\" style=\"margin-left:0\">\n"
      ]
    },
    {
      "cell_type": "markdown",
      "id": "signed-authorization",
      "metadata": {
        "id": "signed-authorization"
      },
      "source": [
        ""
      ]
    },
    {
      "cell_type": "markdown",
      "id": "valued-purse",
      "metadata": {
        "id": "valued-purse"
      },
      "source": [
        "## Pre-Screening Calls & Non Technical / Behavioral Interviews\n",
        "\n",
        "Non Technical Interviews are 30-45 minutes long, covering the following:\n",
        "\n",
        "- Introductions: 5-10 minutes\n",
        "- Interviewer asks 3-5 questions: 20-30 minutes\n",
        "- Candidate asks questions: 5-10 minutes\n",
        "\n",
        "\n",
        "The purpose of these interviews is to:\n",
        "\n",
        "* check if you are the person you claim to be on your Resume,\n",
        "* get to know you (your background, your experience, your skills, your career goals)\n",
        "* determine if the company should conduct a technical interview.\n",
        "\n",
        "Resources:\n",
        "\n",
        "* Follow this guide to prepare for non-technical interviews:\n",
        "https://twitter.com/SahilBloom/status/1423971814443819009\n",
        "\n",
        "\n",
        "* Practice by answering these questions: https://www.notion.so/jovianai/Data-Science-Interview-Preparation-Guide-68059024627d440b89890cf37e938acd#47b8ab3d87324d4d9705e0b8962ca75d\n",
        "\n",
        "\n",
        "* Use this Google doc to prepare and practice your answers: https://docs.google.com/document/d/1NEdzEwfpidJsPTE_usiq9dnuUMrNgisMHbV8aN3YH7o/edit?usp=sharing\n",
        "\n",
        "At the end of an interview, remember to ask some thoughtful questions.\n",
        "\n",
        "Companies also conduct non-technical / behavioral interviews after technical rounds (the interviewer is typically your future manager) to tell you more about the role, better understand your expectations from the job and pitch the company/role to you.\n"
      ]
    },
    {
      "cell_type": "markdown",
      "id": "cultural-france",
      "metadata": {
        "id": "cultural-france"
      },
      "source": [
        "## Coding Challenges & Take-Home Assignments\n",
        "\n",
        "You may be asked to complete a timed coding challenge (60-90 minutes) or a take-home assignment after resume shortlisting or pre-screening. These challenges are designed to test your programming and data science skills.\n",
        "\n",
        "How to approach LeetCode problems: https://jovianai.notion.site/jovianai/Data-Science-Interview-Preparation-Guide-68059024627d440b89890cf37e938acd#35721ae169a0482e99a6d749f12fe360\n",
        "\n",
        "### Coding Challenges\n",
        "\n",
        "Use these resources to practice coding challenges:\n",
        "\n",
        "* LeetCode (Easy): https://leetcode.com/problemset/all/?page=1&difficulty=EASY\n",
        "* HackerRank: https://www.hackerrank.com/domains/python\n",
        "* Data Structures and Algorithms: http://pythondsa.com\n",
        "* LeedCode (Medium): https://leetcode.com/problemset/all/?page=1&difficulty=MEDIUM\n",
        "\n",
        "Try solving 3-5 coding challenges per week. Use Python for solving all challenges.\n"
      ]
    },
    {
      "cell_type": "markdown",
      "id": "cordless-maple",
      "metadata": {
        "id": "cordless-maple"
      },
      "source": [
        "### Take Home Assignments\n",
        "\n",
        "Take home assignments are similar to the assignments projects you've completed in the [Zero to Data Science Bootcamp](https://zerotodatascience.com) and you should approach them in exactly the same way:\n",
        "\n",
        "1. Read the problem statement and explore the data\n",
        "2. Identify the success/evaluation criteria (\"must haves\")\n",
        "3. List the steps required to complete the project\n",
        "4. Work through each step one-by-one (focus on \"must haves\")\n",
        "5. Document your work and make a submission\n",
        "\n",
        "It's generally okay to refer to documentation & StackOverflow answers. But make sure to understand and type out all the code yourself. Your next technical interview will almost certainly involve an in-depth discussion of your solution."
      ]
    },
    {
      "cell_type": "markdown",
      "id": "dangerous-panel",
      "metadata": {
        "id": "dangerous-panel"
      },
      "source": [
        "## Technical Interviews (Online & Onsite)\n",
        "\n",
        "Companies conduct 2-5 technical interviews, depending on the role. These interviews are typically conducted by your future coworkers/team members. The objective of these interviews is simple: to test whether you possess the skills you claim to possess and whether you will be able to complete the tasks given to you correctly & efficiently.\n",
        "\n",
        "Technical interviews are 45-60 minutes long, covering the following:\n",
        "\n",
        "- Introductions: 5-10 minutes\n",
        "- Technical question 1 : 20-25 minutes\n",
        "- Technical question(s) 2 : 10-15 minutes\n",
        "- Candidate asks questions: 5-10 minutes\n",
        "\n",
        "\n",
        "Technical questions can be of several types:\n",
        "\n",
        "- Short factual/theoretical questions\n",
        "- Short puzzles or challenges (e.g. SQL queries, statistics problems)\n",
        "- Longer coding problems where you'll have to write code/pseudocode\n",
        "- Case study & discussion of how you'd solve a real-world problem\n",
        "- Deep-dive into your solution for a take-home assignment\n",
        "\n",
        "\n",
        "Resources for preparation:\n",
        "\n",
        "* Data Science interview preparation guide: https://jovianai.notion.site/Data-Science-Interview-Preparation-Guide-68059024627d440b89890cf37e938acd\n",
        "\n",
        "\n",
        "* Community curated questions: https://github.com/alexeygrigorev/data-science-interviews\n",
        "\n",
        "\n",
        "* Real interview questions: https://www.interviewquery.com/\n",
        "\n",
        "\n",
        "* How interviews are graded: https://drive.google.com/file/d/1U1NxGuTocHEFAPeL48RdLPflLsDCm9j5/view?usp=sharing\n",
        "\n",
        "\n",
        "\n",
        "How to prepare for technical interviews:\n",
        "\n",
        "1. Watch 2-3 mock interviews for your target job roles to become familiar with the process\n",
        "2. Identify the technical skills required for your target job role. You should practice all of them.\n",
        "3. Review questions for a specific skill, and start reading the interview questions one-by-one.\n",
        "    1. If you don't understand a specific term, look it up in a data science glossary\n",
        "4. **Answer each question out loud**. For tricky questions, write the answer on paper or in a doc.\n",
        "5. Expand the question to reveal the answer (if missing, look up the answer online)\n",
        "    1. If your answer was incorrect, watch/read a tutorial to improve your understanding.\n",
        "    2. Maintain a list of questions you weren't able to answer, and try again a few days later.\n",
        "6. Practice 3-5 questions each day. First practice all easy questions, then medium, then hard.\n",
        "7. Once you've had enough practice (12-15 days), schedule a mock interview with us.\n",
        "\n",
        "\n",
        "What happens after technical interviews:\n",
        "\n",
        "* Interviewer fills out a summary of the interview and their assessment (\"Hire\"/\"Don't Hire\")\n",
        "* Once all technical interviews are done, the manager/hiring committee decides whether to extend an offer.\n",
        "    * The candidate may be invited for additional technical or behavioral interviews if the decision is not unanimous\n",
        "* The recruiter/manager informs the candidate about the offer and the compensation is negotiated. Read this guide about salary negotiations: https://candor.co/guides/salary-negotiation\n",
        "\n",
        "What you should do after every interview:\n",
        "\n",
        "* Note down the questions asked during the interview (non-technical and technical)\n",
        "* Make a list of the things that went well (according to you)\n",
        "* Make a list of the things that didn't go well (according to you)\n",
        "* List some action items for improving your performance in future interviews\n",
        "\n",
        "Consider each interview an opportunity to learn and improve yourself. Like all other skills, interviewing takes practice and you'll get better at it over time."
      ]
    }
  ],
  "metadata": {
    "kernelspec": {
      "display_name": "Python 3",
      "language": "python",
      "name": "python3"
    },
    "language_info": {
      "codemirror_mode": {
        "name": "ipython",
        "version": 3
      },
      "file_extension": ".py",
      "mimetype": "text/x-python",
      "name": "python",
      "nbconvert_exporter": "python",
      "pygments_lexer": "ipython3",
      "version": "3.6.13"
    },
    "colab": {
      "provenance": [],
      "include_colab_link": true
    }
  },
  "nbformat": 4,
  "nbformat_minor": 5
}