{
  "cells": [
    {
      "cell_type": "markdown",
      "metadata": {
        "id": "view-in-github",
        "colab_type": "text"
      },
      "source": [
        "<a href=\"https://colab.research.google.com/github/tavi1402/Data_Science_bootcamp/blob/main/2_2_statistics_measures_of_central_tendency.ipynb\" target=\"_parent\"><img src=\"https://colab.research.google.com/assets/colab-badge.svg\" alt=\"Open In Colab\"/></a>"
      ]
    },
    {
      "cell_type": "markdown",
      "id": "23f67c0c",
      "metadata": {
        "id": "23f67c0c"
      },
      "source": [
        "# Measures of Central Tendency | Statistics for Data Science\n",
        "\n",
        "This tutorial is a part of the [Zero to Data Analyst Bootcamp by Jovian](https://www.jovian.ai/data-analyst-bootcamp)\n",
        "\n",
        "![](https://i.imgur.com/qgny42s.jpg)\n",
        "\n",
        "Statistics is the discipline of using mathematics to understand data. We use measures of central tendency to summarize, discover and share useful information about data, primarily for gaining insight and making better decisions. The topics covered today will help you answer the following types of questions:\n",
        "\n",
        "- How much will you earn after graduating from university?\n",
        "- How hot is it going to be in the summer this year?\n",
        "- Should your investment portfolio be focused on diversified?\n",
        "- Which movie should you watch this weekend?\n",
        "- How many registered users will your website have one year from now?"
      ]
    },
    {
      "cell_type": "markdown",
      "id": "9c63f55e",
      "metadata": {
        "id": "9c63f55e"
      },
      "source": [
        "This tutorial covers the following topics:\n",
        "\n",
        "- Average / arithmetic mean\n",
        "- Median, percentiles, quartiles and range\n",
        "- Mode and frequency tables\n",
        "- Variance and standard deviation\n",
        "- Growth rate and geometric mean"
      ]
    },
    {
      "cell_type": "markdown",
      "id": "59b7b7b1",
      "metadata": {
        "id": "59b7b7b1"
      },
      "source": [
        "### How to Run the Code\n",
        "\n",
        "The best way to learn the material is to execute the code and experiment with it yourself. This tutorial is an executable [Jupyter notebook](https://jupyter.org). You can _run_ this tutorial and experiment with the code examples in a couple of ways: *using free online resources* (recommended) or *on your computer*.\n",
        "\n",
        "#### Option 1: Running using free online resources (1-click, recommended)\n",
        "\n",
        "The easiest way to start executing the code is to click the **Run** button at the top of this page and select **Run on Binder**. You can also select \"Run on Colab\" or \"Run on Kaggle\", but you'll need to create an account on [Google Colab](https://colab.research.google.com) or [Kaggle](https://kaggle.com) to use these platforms.\n",
        "\n",
        "\n",
        "#### Option 2: Running on your computer locally\n",
        "\n",
        "To run the code on your computer locally, you'll need to set up [Python](https://www.python.org), download the notebook and install the required libraries. We recommend using the [Conda](https://docs.conda.io/projects/conda/en/latest/user-guide/install/) distribution of Python. Click the **Run** button at the top of this page, select the **Run Locally** option, and follow the instructions.\n",
        "\n"
      ]
    },
    {
      "cell_type": "markdown",
      "id": "a7947baa",
      "metadata": {
        "id": "a7947baa"
      },
      "source": [
        "## Average / Arithmetic Mean\n",
        "\n",
        "The average or arithmetic mean of a set of numbers is the sum of the numbers divided by the how many numbers are being averaged. It's the simplest way to come up with a single number to summarize a set of numbers.\n",
        "\n",
        "$$\\textrm{Average} = \\frac {\\textrm{Sum of values}} {\\textrm{No. of values}}$$\n",
        "\n",
        "$$\\mu = \\frac{x_1 + x_2 + ... + x_n} {n}$$\n",
        "\n",
        "The symbol $\\mu$ (pronounced \"myu\") is often used to denote the mean. We can define a function `mean` to implement this formula."
      ]
    },
    {
      "cell_type": "code",
      "execution_count": null,
      "id": "99d96bf8",
      "metadata": {
        "id": "99d96bf8"
      },
      "outputs": [],
      "source": []
    },
    {
      "cell_type": "code",
      "execution_count": null,
      "id": "fb207117",
      "metadata": {
        "scrolled": true,
        "id": "fb207117"
      },
      "outputs": [],
      "source": []
    },
    {
      "cell_type": "markdown",
      "id": "94a3c013",
      "metadata": {
        "id": "94a3c013"
      },
      "source": [
        "Let's apply the formula to a few questions.\n",
        "\n",
        "> **QUESTION**: The following table shows the number of new notebooks created every day on Jovian for the past week. Calculate the average number of notebooks created per day.\n",
        ">\n",
        "> <img src=\"https://i.imgur.com/EScHTCY.png\" width=\"200\">"
      ]
    },
    {
      "cell_type": "code",
      "execution_count": null,
      "id": "9564013e",
      "metadata": {
        "id": "9564013e"
      },
      "outputs": [],
      "source": []
    },
    {
      "cell_type": "code",
      "execution_count": null,
      "id": "22ba5371",
      "metadata": {
        "id": "22ba5371"
      },
      "outputs": [],
      "source": []
    },
    {
      "cell_type": "code",
      "execution_count": null,
      "id": "d5806ba0",
      "metadata": {
        "scrolled": true,
        "id": "d5806ba0"
      },
      "outputs": [],
      "source": []
    },
    {
      "cell_type": "markdown",
      "id": "d2f42795",
      "metadata": {
        "id": "d2f42795"
      },
      "source": [
        "### Using Numpy to Compute Mean\n",
        "\n",
        "The `numpy` library provides several helper functions for computing common statistical measures. We'll learn more about numpy in a lecture about numerical computing with Python. Check out the official documentation to learn more about the [mathematical](https://numpy.org/doc/stable/reference/routines.math.html) and [statistical](https://numpy.org/doc/stable/reference/routines.statistics.html) functions it provides.\n",
        "\n",
        "Let's use `numpy` to compute the average number of notebooks created per day."
      ]
    },
    {
      "cell_type": "code",
      "execution_count": null,
      "id": "fa8ccbda",
      "metadata": {
        "id": "fa8ccbda"
      },
      "outputs": [],
      "source": []
    },
    {
      "cell_type": "code",
      "execution_count": null,
      "id": "06b1bb8f",
      "metadata": {
        "id": "06b1bb8f"
      },
      "outputs": [],
      "source": []
    },
    {
      "cell_type": "code",
      "execution_count": null,
      "id": "1ed432d3",
      "metadata": {
        "id": "1ed432d3"
      },
      "outputs": [],
      "source": []
    },
    {
      "cell_type": "markdown",
      "id": "507518e1",
      "metadata": {
        "id": "507518e1"
      },
      "source": [
        "As expected, we get the same result. Try solving the following question using `np.mean`.\n",
        "\n",
        "> **EXERCISE**: Every time someone runs `jovian.commit`, a new *version* of a Jupyter notebook is uploaded to Jovian. The following table shows the number of notebook versions created every day on Jovian for the past 7 days. Calculate the average number of notebooks versions created per day.\n",
        ">\n",
        "> <img src=\"https://i.imgur.com/Vloo57d.png\" width=\"240\">"
      ]
    },
    {
      "cell_type": "code",
      "execution_count": null,
      "id": "09edba7b",
      "metadata": {
        "id": "09edba7b"
      },
      "outputs": [],
      "source": []
    },
    {
      "cell_type": "code",
      "execution_count": null,
      "id": "09efba7a",
      "metadata": {
        "id": "09efba7a"
      },
      "outputs": [],
      "source": []
    },
    {
      "cell_type": "code",
      "execution_count": null,
      "id": "f72b4c03",
      "metadata": {
        "id": "f72b4c03"
      },
      "outputs": [],
      "source": []
    },
    {
      "cell_type": "markdown",
      "id": "3079bdc2",
      "metadata": {
        "id": "3079bdc2"
      },
      "source": [
        "### Combining Data From Two Columns\n",
        "\n",
        "Sometimes the given data require some interpretation and processing before we can compute the average.\n",
        "\n",
        "> **QUESTION**: The following table shows the number of notebooks created every day and the number of notebook versions created every day on Jovian for the past 7 days. One notebook can have several versions. Can you find the average number of versions per notebook using this information?\n",
        ">\n",
        "> <img src=\"https://i.imgur.com/TTtDw9N.png\" width=\"320\">"
      ]
    },
    {
      "cell_type": "code",
      "execution_count": null,
      "id": "ce814b62",
      "metadata": {
        "id": "ce814b62"
      },
      "outputs": [],
      "source": []
    },
    {
      "cell_type": "markdown",
      "id": "68bf206d",
      "metadata": {
        "id": "68bf206d"
      },
      "source": [
        "Recall the formula for computing the average:\n",
        "\n",
        "$$\\textrm{Average} = \\frac {\\textrm{Sum of values}} {\\textrm{No. of values}}$$\n",
        "\n",
        "In this case, we wish to find the average number of versions per notebook. The way to do this would be:\n",
        "\n",
        "$$\\textrm{Average Versions} = \\frac{v_1 + v_2 + ... + v_n} {n} = \\frac {\\textrm{Total no. of versions}} {\\textrm{Total no. of notebooks}}$$\n",
        "\n",
        "where $n$ is the total number of notebooks created over the last week and $v_i$ is the no. of versions recorded for the $i^{th}$ notebook.\n",
        "\n",
        "We can use the `np.sum` function to compute the sum of values in lists `notebooks` and `versions`."
      ]
    },
    {
      "cell_type": "code",
      "execution_count": null,
      "id": "10a09e3e",
      "metadata": {
        "id": "10a09e3e"
      },
      "outputs": [],
      "source": []
    },
    {
      "cell_type": "markdown",
      "id": "d164cd38",
      "metadata": {
        "id": "d164cd38"
      },
      "source": [
        "Thus, it appears we have $5.43$ versions per notebook.\n",
        "\n",
        "However, there's a problem with the above calculation! It is possible that some versions recorded last week belong to notebooks that were created sometime before the last 7 days. So, instead of counting the total no. of notebooks created in the last 7 days, we should count the total number of notebooks updated in the last 7 days.\n",
        "\n",
        "As a data analyst, it's important for you look out for such subtle issues/shortcomings in data provided, and state your assumptions clearly when presenting results. In many cases, you may need to request for additional information.\n",
        "\n",
        "There's yet another problem with the above result. Can you figure out what it is?\n"
      ]
    },
    {
      "cell_type": "code",
      "execution_count": null,
      "id": "26382217",
      "metadata": {
        "id": "26382217"
      },
      "outputs": [],
      "source": []
    },
    {
      "cell_type": "markdown",
      "id": "11a9bf61",
      "metadata": {
        "id": "11a9bf61"
      },
      "source": [
        "### Weighted Averages\n",
        "\n",
        "Sometimes you may need to apply a weight to each number.\n",
        "\n",
        "> **EXERCISE**: The following table shows population and the per capita GDP of various states (provinces) in India. Compute per capita GDP for the entire country. The table is also available as a CSV file [here](https://gist.githubusercontent.com/aakashns/b83c25b654bdf20c085382f3d28bb15c/raw/046a19a942ef5a96d33c2e7b2dc5a9ce1a35e868/india_per_capita_gdp_by_state.csv).\n",
        "\n",
        "<img src=\"https://i.imgur.com/YJyfGpr.png\" width=\"320\">\n"
      ]
    },
    {
      "cell_type": "code",
      "execution_count": null,
      "id": "f2fd009e",
      "metadata": {
        "id": "f2fd009e"
      },
      "outputs": [],
      "source": []
    },
    {
      "cell_type": "markdown",
      "id": "6f9095cc",
      "metadata": {
        "id": "6f9095cc"
      },
      "source": [
        "Before we solve the problem, we need a way to download and process a CSV file. We can use the `pandas` library for doing this."
      ]
    },
    {
      "cell_type": "code",
      "execution_count": null,
      "id": "21b4833c",
      "metadata": {
        "id": "21b4833c"
      },
      "outputs": [],
      "source": []
    },
    {
      "cell_type": "code",
      "execution_count": null,
      "id": "66caf4ef",
      "metadata": {
        "id": "66caf4ef"
      },
      "outputs": [],
      "source": []
    },
    {
      "cell_type": "markdown",
      "id": "f6adbfc2",
      "metadata": {
        "id": "f6adbfc2"
      },
      "source": [
        "The `read_csv` function from Pandas can be used to read a CSV file, from a local filesystem or from a URL. It returns a *data frame*, which is conceptually similar to a table in a spreadsheet."
      ]
    },
    {
      "cell_type": "code",
      "execution_count": null,
      "id": "c422b671",
      "metadata": {
        "id": "c422b671"
      },
      "outputs": [],
      "source": []
    },
    {
      "cell_type": "markdown",
      "id": "96ef77da",
      "metadata": {
        "id": "96ef77da"
      },
      "source": [
        "To access the values in a column, we can use the dictionary indexing notation and pass the column name as the key e.g. `dataframe['population']`. The result is a Pandas *series* which works just like a Python list."
      ]
    },
    {
      "cell_type": "code",
      "execution_count": null,
      "id": "a1fb1700",
      "metadata": {
        "scrolled": false,
        "id": "a1fb1700"
      },
      "outputs": [],
      "source": []
    },
    {
      "cell_type": "code",
      "execution_count": null,
      "id": "556fe95e",
      "metadata": {
        "id": "556fe95e"
      },
      "outputs": [],
      "source": []
    },
    {
      "cell_type": "code",
      "execution_count": null,
      "id": "820f70b7",
      "metadata": {
        "id": "820f70b7"
      },
      "outputs": [],
      "source": []
    },
    {
      "cell_type": "markdown",
      "id": "6782262f",
      "metadata": {
        "id": "6782262f"
      },
      "source": [
        "We'll learn a lot more about Pandas in a future lesson.\n",
        "\n",
        "Now that you have the `population` and `gdp_per_capita` as lists of numbers, can you answer the question?\n",
        "\n",
        "*Hint*: The GDP per capita of the country is the weighted average of per capita GDPs of individual states, with populations used as weights. Use `np.multiply` to perform element-wise multiplication."
      ]
    },
    {
      "cell_type": "code",
      "execution_count": null,
      "id": "d37d0004",
      "metadata": {
        "id": "d37d0004"
      },
      "outputs": [],
      "source": []
    },
    {
      "cell_type": "code",
      "execution_count": null,
      "id": "c7a2303a",
      "metadata": {
        "id": "c7a2303a"
      },
      "outputs": [],
      "source": []
    },
    {
      "cell_type": "code",
      "execution_count": null,
      "id": "09bf61d5",
      "metadata": {
        "id": "09bf61d5"
      },
      "outputs": [],
      "source": []
    },
    {
      "cell_type": "markdown",
      "id": "87a3f35b",
      "metadata": {
        "id": "87a3f35b"
      },
      "source": [
        "> **EXERCISE:** Download [this CSV file](https://gist.githubusercontent.com/aakashns/873875a38d83a46820a6a8c17718a7e5/raw/0387122b1300607fc7ec73f75f0281d5d07ad65f/countries_data.csv) containing country-wise population and GDP per capita. Use it to calculate the GDP per capita for the entire world.\n",
        "\n"
      ]
    },
    {
      "cell_type": "code",
      "execution_count": null,
      "id": "bab082e1",
      "metadata": {
        "id": "bab082e1"
      },
      "outputs": [],
      "source": []
    },
    {
      "cell_type": "code",
      "execution_count": null,
      "id": "73afd48b",
      "metadata": {
        "id": "73afd48b"
      },
      "outputs": [],
      "source": []
    },
    {
      "cell_type": "code",
      "execution_count": null,
      "id": "f4fbde2d",
      "metadata": {
        "id": "f4fbde2d"
      },
      "outputs": [],
      "source": []
    },
    {
      "cell_type": "markdown",
      "id": "79d82535",
      "metadata": {
        "id": "79d82535"
      },
      "source": [
        "### Outliers\n",
        "\n",
        "The mean isn't always a good measure of central tendency because it is susceptible to *outliers* i.e. individual values which lie far outside the normal range of values. Consider the following example, which illustrates the **Michael Jordan Fallacy**.\n",
        "\n",
        "> **EXERCISE**: The following table shows the starting salary of a class of 20 geography graduates from the University of North Carolina in 1986. Person 7 is Michael Jordan, who became a professional basketball player upon graduating. Calculate the average salary for the class. Can you use the number as an estimate of how much a student can expect to earn in 1987?\n",
        ">\n",
        "> <img src=\"https://i.imgur.com/cJHEEEt.png\" width=\"240\">\n",
        ">"
      ]
    },
    {
      "cell_type": "code",
      "execution_count": null,
      "id": "8f596c34",
      "metadata": {
        "id": "8f596c34"
      },
      "outputs": [],
      "source": []
    },
    {
      "cell_type": "code",
      "execution_count": null,
      "id": "9b73cb11",
      "metadata": {
        "id": "9b73cb11"
      },
      "outputs": [],
      "source": []
    },
    {
      "cell_type": "markdown",
      "id": "861acf8f",
      "metadata": {
        "id": "861acf8f"
      },
      "source": [
        "Can you use the average as an estimate of how much a student can expect to earn in 1987?\n",
        "\n",
        "Upon calculating the averages, you will notice that the average salary for the class is 4 times higher than the salary of 9 out of 10 graduates. Michael Jordan is clearly an outlier in this case, and his salary has a disproportionate impact on the average.\n",
        "\n",
        "![](https://i.imgur.com/vgG29mb.png)\n",
        "\n",
        "While it may seem obvious that the average is not representative of the population in this case, this will not be apparent if you were simply quoting the average without showing the actual data. Universities often cite average salaries of graduates in brochures and advertisements, which in most cases include a few outliers. Whenever you come across an average, keep an eye out for the Michael Jordan fallacy.\n",
        "\n",
        "When the data contains outliers, we can use a different measure of central tendency: the median."
      ]
    },
    {
      "cell_type": "markdown",
      "id": "727e6d30",
      "metadata": {
        "id": "727e6d30"
      },
      "source": [
        "Let's save our work before continuing."
      ]
    },
    {
      "cell_type": "code",
      "execution_count": null,
      "id": "f923103c",
      "metadata": {
        "id": "f923103c"
      },
      "outputs": [],
      "source": []
    },
    {
      "cell_type": "markdown",
      "id": "f4cde067",
      "metadata": {
        "id": "f4cde067"
      },
      "source": [
        "## Median, Percentiles, Quartiles and Range\n",
        "\n",
        "![](https://i.imgur.com/UPiZkuE.png)\n",
        "\n",
        "\n",
        "### Median\n",
        "\n",
        "The median of a set of numbers is the *middle number* of the set, after the numbers have been arranged in increasing order. E.g. the median of the numbers $3, 7, 10, 55, 97$ is $10$.\n",
        "\n",
        "When the size of the set is even, there's no single middle number. In this case, the median is the average of the two middle numbers. E.g. the median of $3, 5, 21, 33, 42, 300$ is $(21 + 33)/2 = 27$.\n",
        "\n"
      ]
    },
    {
      "cell_type": "markdown",
      "id": "5fe6909b",
      "metadata": {
        "id": "5fe6909b"
      },
      "source": [
        "> **EXERCISE**: Write a function to find a median of a list of numbers. Ensure that your function does NOT modify the input list.\n",
        "\n"
      ]
    },
    {
      "cell_type": "code",
      "execution_count": null,
      "id": "8f67f237",
      "metadata": {
        "id": "8f67f237"
      },
      "outputs": [],
      "source": []
    },
    {
      "cell_type": "markdown",
      "id": "d7ff92cd",
      "metadata": {
        "id": "d7ff92cd"
      },
      "source": [
        "Test your implementation with the following examples."
      ]
    },
    {
      "cell_type": "code",
      "execution_count": null,
      "id": "9a6a8fcc",
      "metadata": {
        "id": "9a6a8fcc"
      },
      "outputs": [],
      "source": []
    },
    {
      "cell_type": "code",
      "execution_count": null,
      "id": "3306a25a",
      "metadata": {
        "id": "3306a25a"
      },
      "outputs": [],
      "source": []
    },
    {
      "cell_type": "code",
      "execution_count": null,
      "id": "de7cb671",
      "metadata": {
        "id": "de7cb671"
      },
      "outputs": [],
      "source": []
    },
    {
      "cell_type": "markdown",
      "id": "ca4775fc",
      "metadata": {
        "id": "ca4775fc"
      },
      "source": [
        "As you might expect, `numpy` provides a function to compute the median of a set of numbers."
      ]
    },
    {
      "cell_type": "code",
      "execution_count": null,
      "id": "fc2202e5",
      "metadata": {
        "id": "fc2202e5"
      },
      "outputs": [],
      "source": []
    },
    {
      "cell_type": "code",
      "execution_count": null,
      "id": "70011771",
      "metadata": {
        "id": "70011771"
      },
      "outputs": [],
      "source": []
    },
    {
      "cell_type": "markdown",
      "id": "9ae27558",
      "metadata": {
        "id": "9ae27558"
      },
      "source": [
        "\n",
        "\n",
        "> **QUESTION**: Download [this CSV file](https://gist.githubusercontent.com/aakashns/5596c1d2d22d3c1ac287c8bf89d76a05/raw/990fdd64d99cf5586fe19c83daf72988fb4a4746/billionaires.csv) containing information about the 100 richest people in the world according to Forbes. What is the median net worth of the 100 richest people in the world?\n",
        "\n",
        "We can download and process this file using the `read_csv` function from Pandas and compute the median using the `median` function from numpy."
      ]
    },
    {
      "cell_type": "code",
      "execution_count": null,
      "id": "16faf9f6",
      "metadata": {
        "id": "16faf9f6"
      },
      "outputs": [],
      "source": []
    },
    {
      "cell_type": "code",
      "execution_count": null,
      "id": "6f48fa23",
      "metadata": {
        "id": "6f48fa23"
      },
      "outputs": [],
      "source": []
    },
    {
      "cell_type": "code",
      "execution_count": null,
      "id": "f464d204",
      "metadata": {
        "id": "f464d204"
      },
      "outputs": [],
      "source": []
    },
    {
      "cell_type": "markdown",
      "id": "a57afbbf",
      "metadata": {
        "id": "a57afbbf"
      },
      "source": [
        "The column `net_worth_billions_usd` contains the required information."
      ]
    },
    {
      "cell_type": "code",
      "execution_count": null,
      "id": "576c463f",
      "metadata": {
        "id": "576c463f"
      },
      "outputs": [],
      "source": []
    },
    {
      "cell_type": "code",
      "execution_count": null,
      "id": "9b4747b2",
      "metadata": {
        "id": "9b4747b2"
      },
      "outputs": [],
      "source": []
    },
    {
      "cell_type": "code",
      "execution_count": null,
      "id": "e0bf21df",
      "metadata": {
        "id": "e0bf21df"
      },
      "outputs": [],
      "source": []
    },
    {
      "cell_type": "markdown",
      "id": "43d87d33",
      "metadata": {
        "id": "43d87d33"
      },
      "source": [
        "Compare this with the average:"
      ]
    },
    {
      "cell_type": "code",
      "execution_count": null,
      "id": "b856157a",
      "metadata": {
        "id": "b856157a"
      },
      "outputs": [],
      "source": []
    },
    {
      "cell_type": "markdown",
      "id": "33060b7e",
      "metadata": {
        "id": "33060b7e"
      },
      "source": [
        "The average is about 50% higher than the median. Even among the richest, there are outliers!"
      ]
    },
    {
      "cell_type": "markdown",
      "id": "cee06e7e",
      "metadata": {
        "id": "cee06e7e"
      },
      "source": [
        "> **EXERCISE**: Use the above dataset to compute the median and average ages of the 100 richest people. Which is a better measure of central tendency in this case?"
      ]
    },
    {
      "cell_type": "code",
      "execution_count": null,
      "id": "ea35d4dd",
      "metadata": {
        "id": "ea35d4dd"
      },
      "outputs": [],
      "source": []
    },
    {
      "cell_type": "code",
      "execution_count": null,
      "id": "60c67810",
      "metadata": {
        "id": "60c67810"
      },
      "outputs": [],
      "source": []
    },
    {
      "cell_type": "code",
      "execution_count": null,
      "id": "e30355e3",
      "metadata": {
        "id": "e30355e3"
      },
      "outputs": [],
      "source": []
    },
    {
      "cell_type": "markdown",
      "id": "449946ce",
      "metadata": {
        "id": "449946ce"
      },
      "source": [
        "> **EXERCISE**: The following table shows the starting salary of a class of 20 geography graduates from the University of North Carolina in 1986. Person 7 is Michael Jordan, who became a professional basketball player upon graduating. Calculate the median salary for the class. How does it compare with the average? Can you use the number as an estimate of how much a student can expect to earn in 1987?\n",
        ">\n",
        "> <img src=\"https://i.imgur.com/cJHEEEt.png\" width=\"240\">\n",
        ">"
      ]
    },
    {
      "cell_type": "code",
      "execution_count": null,
      "id": "f7fc8d53",
      "metadata": {
        "id": "f7fc8d53"
      },
      "outputs": [],
      "source": []
    },
    {
      "cell_type": "code",
      "execution_count": null,
      "id": "0a76d5cd",
      "metadata": {
        "id": "0a76d5cd"
      },
      "outputs": [],
      "source": []
    },
    {
      "cell_type": "code",
      "execution_count": null,
      "id": "2ff8a234",
      "metadata": {
        "id": "2ff8a234"
      },
      "outputs": [],
      "source": []
    },
    {
      "cell_type": "markdown",
      "id": "4c7789fa",
      "metadata": {
        "id": "4c7789fa"
      },
      "source": [
        "> **EXERCISE**: Download [this CSV file](https://gist.githubusercontent.com/aakashns/7d96d0b9af1c897fe30d1e782314f68e/raw/dc30a5d3e70683407fd16a4a14c56eb05ae82bcc/stock_returns.csv) containing information about the returns on stock price for several public companies. Find the average returns and the median returns. Based on this information, can you explain if it's better to have a diversified or a focused investment portfolio?"
      ]
    },
    {
      "cell_type": "code",
      "execution_count": null,
      "id": "a314d7ee",
      "metadata": {
        "id": "a314d7ee"
      },
      "outputs": [],
      "source": []
    },
    {
      "cell_type": "code",
      "execution_count": null,
      "id": "a43fff12",
      "metadata": {
        "id": "a43fff12"
      },
      "outputs": [],
      "source": []
    },
    {
      "cell_type": "code",
      "execution_count": null,
      "id": "dc921bbb",
      "metadata": {
        "id": "dc921bbb"
      },
      "outputs": [],
      "source": []
    },
    {
      "cell_type": "code",
      "execution_count": null,
      "id": "1d348f77",
      "metadata": {
        "id": "1d348f77"
      },
      "outputs": [],
      "source": []
    },
    {
      "cell_type": "markdown",
      "id": "4e1cfe36",
      "metadata": {
        "id": "4e1cfe36"
      },
      "source": [
        "> **EXERCISE**: What is the relationship between the mean and median of a set of values? Is the mean always greater than the median (or vice versa)? Can they be equal? Demonstrate with examples."
      ]
    },
    {
      "cell_type": "code",
      "execution_count": null,
      "id": "5963dc28",
      "metadata": {
        "id": "5963dc28"
      },
      "outputs": [],
      "source": []
    },
    {
      "cell_type": "code",
      "execution_count": null,
      "id": "ca75deca",
      "metadata": {
        "id": "ca75deca"
      },
      "outputs": [],
      "source": []
    },
    {
      "cell_type": "markdown",
      "id": "dc23c92a",
      "metadata": {
        "id": "dc23c92a"
      },
      "source": [
        "Let's save our work before continuing."
      ]
    },
    {
      "cell_type": "code",
      "execution_count": null,
      "id": "1eec766e",
      "metadata": {
        "id": "1eec766e"
      },
      "outputs": [],
      "source": []
    },
    {
      "cell_type": "markdown",
      "id": "cae25dfa",
      "metadata": {
        "id": "cae25dfa"
      },
      "source": [
        "### Percentiles\n",
        "\n",
        "The median divides the dataset into two halves, each with 50% of the observations. A percentile is the generalization of Median. The K-th percentile is a number equal to or larger than K % of the values in the set."
      ]
    },
    {
      "cell_type": "code",
      "execution_count": null,
      "id": "6b913142",
      "metadata": {
        "id": "6b913142"
      },
      "outputs": [],
      "source": []
    },
    {
      "cell_type": "markdown",
      "id": "2c5c1323",
      "metadata": {
        "id": "2c5c1323"
      },
      "source": [
        "The `np.percentile` function can be used to compute the k-th percentile."
      ]
    },
    {
      "cell_type": "code",
      "execution_count": null,
      "id": "df217db3",
      "metadata": {
        "id": "df217db3"
      },
      "outputs": [],
      "source": []
    },
    {
      "cell_type": "markdown",
      "id": "be62ad92",
      "metadata": {
        "id": "be62ad92"
      },
      "source": [
        "Verify that `percentile_90` is greater than or equal to 90% of the values in the set."
      ]
    },
    {
      "cell_type": "markdown",
      "id": "98c6735d",
      "metadata": {
        "id": "98c6735d"
      },
      "source": [
        "\n",
        "\n",
        "> **EXERCISE**: Download [this CSV file](https://gist.githubusercontent.com/aakashns/5596c1d2d22d3c1ac287c8bf89d76a05/raw/990fdd64d99cf5586fe19c83daf72988fb4a4746/billionaires.csv) containing information about the 100 richest people in the world according to Forbes. What is the ratio of the 90-th percentile and 10-the percentile net worth in the list?\n"
      ]
    },
    {
      "cell_type": "code",
      "execution_count": null,
      "id": "9f8dcb02",
      "metadata": {
        "id": "9f8dcb02"
      },
      "outputs": [],
      "source": []
    },
    {
      "cell_type": "code",
      "execution_count": null,
      "id": "e87c23cd",
      "metadata": {
        "id": "e87c23cd"
      },
      "outputs": [],
      "source": []
    },
    {
      "cell_type": "code",
      "execution_count": null,
      "id": "3cb6b4da",
      "metadata": {
        "id": "3cb6b4da"
      },
      "outputs": [],
      "source": []
    },
    {
      "cell_type": "markdown",
      "id": "97a36f9e",
      "metadata": {
        "id": "97a36f9e"
      },
      "source": [
        "> **EXERCISE**: Download [this CSV file](https://gist.githubusercontent.com/aakashns/7d96d0b9af1c897fe30d1e782314f68e/raw/dc30a5d3e70683407fd16a4a14c56eb05ae82bcc/stock_returns.csv) containing information about the returns on stock price for several public companies. What is the ratio of returns for the 95th percentile and 5th percentile in the list?"
      ]
    },
    {
      "cell_type": "code",
      "execution_count": null,
      "id": "66b021a6",
      "metadata": {
        "id": "66b021a6"
      },
      "outputs": [],
      "source": []
    },
    {
      "cell_type": "code",
      "execution_count": null,
      "id": "e1d7c9e9",
      "metadata": {
        "id": "e1d7c9e9"
      },
      "outputs": [],
      "source": []
    },
    {
      "cell_type": "code",
      "execution_count": null,
      "id": "3fb89dac",
      "metadata": {
        "id": "3fb89dac"
      },
      "outputs": [],
      "source": []
    },
    {
      "cell_type": "markdown",
      "id": "ff9e0317",
      "metadata": {
        "id": "ff9e0317"
      },
      "source": [
        "> **EXERCISE**: The following table shows a summary of test scores for a class of students. 2 students scored 1 mark in the test, 3 students scored 2 marks, 8 students scored 3 marks and so on. Find the median score for the class.\n",
        ">\n",
        "> <img src=\"https://i.imgur.com/AD7m3gJ.png\" width=\"240\">\n",
        ">\n",
        "> This representation of the data is also known as a frequency table, because it shows how often a certain value occurs in the dataset."
      ]
    },
    {
      "cell_type": "code",
      "execution_count": null,
      "id": "32355405",
      "metadata": {
        "id": "32355405"
      },
      "outputs": [],
      "source": []
    },
    {
      "cell_type": "code",
      "execution_count": null,
      "id": "8eea577b",
      "metadata": {
        "id": "8eea577b"
      },
      "outputs": [],
      "source": []
    },
    {
      "cell_type": "code",
      "execution_count": null,
      "id": "bf317cbc",
      "metadata": {
        "id": "bf317cbc"
      },
      "outputs": [],
      "source": []
    },
    {
      "cell_type": "markdown",
      "id": "ae743380",
      "metadata": {
        "id": "ae743380"
      },
      "source": [
        "### Quartiles and Range\n",
        "\n",
        "Quartiles are numbers that divide a dataset into 4 equal parts (or quarters). A dataset has three quartiles:\n",
        "\n",
        "1. **1st Quartile or Q1**: 25% of values lie below it i.e. it's the 25th percentile\n",
        "2. **2nd Quartile or Q2**: 50% of values lie below it i.e. it's the median or 50th percentile\n",
        "3. **3rd Quartile or Q3**: 75% of values lie below it i.e. it's the 75th percentile\n",
        "\n",
        "<img src=\"https://i.imgur.com/SQXnns4.png\" width=\"360\">\n",
        "\n",
        "> **EXERCISE:** Write a function `quartiles` which computes the quartiles for a set of numbers.\n",
        ">\n",
        "> *Hint*: Use `np.percentile`."
      ]
    },
    {
      "cell_type": "code",
      "execution_count": null,
      "id": "4c5d6a9a",
      "metadata": {
        "id": "4c5d6a9a"
      },
      "outputs": [],
      "source": []
    },
    {
      "cell_type": "code",
      "execution_count": null,
      "id": "fb7b557c",
      "metadata": {
        "id": "fb7b557c"
      },
      "outputs": [],
      "source": []
    },
    {
      "cell_type": "code",
      "execution_count": null,
      "id": "bb147951",
      "metadata": {
        "id": "bb147951"
      },
      "outputs": [],
      "source": []
    },
    {
      "cell_type": "markdown",
      "id": "22a462fd",
      "metadata": {
        "id": "22a462fd"
      },
      "source": [
        "The first and third quartiles have fractional values because no specific number in the set achieves a perfect split."
      ]
    },
    {
      "cell_type": "markdown",
      "id": "4abdf601",
      "metadata": {
        "id": "4abdf601"
      },
      "source": [
        "The range of a set of numbers is defined by two values: the minimum and the maximum. Ranges and quartiles are often used together to get a sense of the spread and distribution of values in a dataset.\n",
        "\n",
        "> **EXERCISE**: Write a function `datarange` to determine the range of a list of numbers.\n",
        "\n",
        "Note that Python already has a built-in function called `range` (which is different from the statistical range defined here), so we'll name our function `datarange`."
      ]
    },
    {
      "cell_type": "code",
      "execution_count": null,
      "id": "d2d540d5",
      "metadata": {
        "id": "d2d540d5"
      },
      "outputs": [],
      "source": []
    },
    {
      "cell_type": "code",
      "execution_count": null,
      "id": "bbb308b2",
      "metadata": {
        "id": "bbb308b2"
      },
      "outputs": [],
      "source": []
    },
    {
      "cell_type": "markdown",
      "id": "21de5cfc",
      "metadata": {
        "id": "21de5cfc"
      },
      "source": [
        "Let's try a few exercises with quartiles and ranges.\n",
        "\n",
        "> **EXERCISE**: Compute the quartiles for the net worth and age of the 100 richest people in the world using the relevant dataset from the previous section."
      ]
    },
    {
      "cell_type": "code",
      "execution_count": null,
      "id": "9b4fd022",
      "metadata": {
        "id": "9b4fd022"
      },
      "outputs": [],
      "source": []
    },
    {
      "cell_type": "code",
      "execution_count": null,
      "id": "002b1468",
      "metadata": {
        "id": "002b1468"
      },
      "outputs": [],
      "source": []
    },
    {
      "cell_type": "markdown",
      "id": "f8fef627",
      "metadata": {
        "id": "f8fef627"
      },
      "source": [
        ">  **EXERCISE**:  Download [this CSV file](https://gist.githubusercontent.com/aakashns/f7d8f99c391f0727270e27e157460e3a/raw/2128978f3297f39ca4237a9ff843c80dd44ca4e3/stocks_returns.csv) containing information about the returns on stock price for several public companies and compute the quartiles for the returns."
      ]
    },
    {
      "cell_type": "code",
      "execution_count": null,
      "id": "03433467",
      "metadata": {
        "id": "03433467"
      },
      "outputs": [],
      "source": []
    },
    {
      "cell_type": "code",
      "execution_count": null,
      "id": "aa63de29",
      "metadata": {
        "id": "aa63de29"
      },
      "outputs": [],
      "source": []
    },
    {
      "cell_type": "markdown",
      "id": "101f7bd5",
      "metadata": {
        "id": "101f7bd5"
      },
      "source": [
        "### Box and Whiskers Plot\n",
        "\n",
        "The range and quartiles of a set of numbers are often plotted using a \"box-and-whiskers\" plot (sometimes just called a box plot).\n",
        "\n",
        "We can use the `seaborn"
      ]
    },
    {
      "cell_type": "code",
      "execution_count": null,
      "id": "913f1997",
      "metadata": {
        "id": "913f1997"
      },
      "outputs": [],
      "source": []
    },
    {
      "cell_type": "code",
      "execution_count": null,
      "id": "95044019",
      "metadata": {
        "id": "95044019"
      },
      "outputs": [],
      "source": []
    },
    {
      "cell_type": "code",
      "execution_count": null,
      "id": "e565f6f6",
      "metadata": {
        "scrolled": true,
        "id": "e565f6f6"
      },
      "outputs": [],
      "source": []
    },
    {
      "cell_type": "markdown",
      "id": "acbb0929",
      "metadata": {
        "id": "acbb0929"
      },
      "source": [
        "The box represents the data between the first and third quartiles i.e. the middle 50% of values. The line cutting the box indicates the median. The lines or \"whiskers\" on each ends indicate the lower 25% and upper 25% of the data. The entire plot is bounded by the range of the data.\n",
        "\n",
        "We'll learn more about plotting in a lot more detail in a later lesson."
      ]
    },
    {
      "cell_type": "markdown",
      "id": "b2a53877",
      "metadata": {
        "id": "b2a53877"
      },
      "source": [
        "> **EXERCISE**: Create a box and whiskers plot to visualize the range and quartiles for the net worth of the hundred richest people in the world.\n",
        "\n",
        "**NOTE**: You'll notice some outliers in the box plot. Can you figure out how they are computed? See https://stackoverflow.com/questions/43264095/python-seaborn-how-are-outliers-determined-in-boxplots"
      ]
    },
    {
      "cell_type": "code",
      "execution_count": null,
      "id": "45a9974e",
      "metadata": {
        "id": "45a9974e"
      },
      "outputs": [],
      "source": []
    },
    {
      "cell_type": "code",
      "execution_count": null,
      "id": "6db82233",
      "metadata": {
        "id": "6db82233"
      },
      "outputs": [],
      "source": []
    },
    {
      "cell_type": "markdown",
      "id": "71a4e4b7",
      "metadata": {
        "id": "71a4e4b7"
      },
      "source": [
        "> **EXERCISE**: Download [this CSV file](https://gist.githubusercontent.com/aakashns/f7d8f99c391f0727270e27e157460e3a/raw/2128978f3297f39ca4237a9ff843c80dd44ca4e3/stocks_returns.csv) containing information about the returns on stock price for several public companies. Create a box and whiskers plot to visualize the range and quartiles of the returns."
      ]
    },
    {
      "cell_type": "code",
      "execution_count": null,
      "id": "941748d8",
      "metadata": {
        "id": "941748d8"
      },
      "outputs": [],
      "source": []
    },
    {
      "cell_type": "code",
      "execution_count": null,
      "id": "65042df8",
      "metadata": {
        "id": "65042df8"
      },
      "outputs": [],
      "source": []
    },
    {
      "cell_type": "markdown",
      "id": "96483d64",
      "metadata": {
        "id": "96483d64"
      },
      "source": [
        "Let's save our work before continuing."
      ]
    },
    {
      "cell_type": "code",
      "execution_count": null,
      "id": "21555b32",
      "metadata": {
        "id": "21555b32"
      },
      "outputs": [],
      "source": []
    },
    {
      "cell_type": "markdown",
      "id": "c8ac063f",
      "metadata": {
        "id": "c8ac063f"
      },
      "source": [
        "## Mode and Frequency Tables\n",
        "\n",
        "The mode of a set of values is simply the most frequently occurring value in the set. E.g. the mode of the list `[1, 2, 3, 4, 4, 4, 4, 4, 5, 6, 7, 7, 7, 8]` is `4` because it occurs more times than any other value.\n",
        "\n",
        "If there isn't a single value that occurs most frequently, all the values are occur most frequently are modes. The data is said to be *multimodal* in such cases. E.g. The set `[3, 1, 4, 1, 5, 4]` has two modes, `1` and `4`, which both occur twice.\n",
        "\n",
        "Unlike mean and median, mode is not limited to numbers, it is defined for any set of values. The mode of the set of values `['red', 'green', 'blue', 'green', 'red', 'green', 'green']` is `'green'`.\n"
      ]
    },
    {
      "cell_type": "markdown",
      "id": "4e889425",
      "metadata": {
        "id": "4e889425"
      },
      "source": [
        "> **QUESTION**: Write a function to compute the mode(s) of a list of values.\n",
        "\n",
        "Before we can find the mode, we need a way to count the number of times each value in the list occurs. Let's create a helper function `count_occurrences` to do this."
      ]
    },
    {
      "cell_type": "code",
      "execution_count": null,
      "id": "eff8f386",
      "metadata": {
        "id": "eff8f386"
      },
      "outputs": [],
      "source": []
    },
    {
      "cell_type": "markdown",
      "id": "ba6b0191",
      "metadata": {
        "id": "ba6b0191"
      },
      "source": [
        "`count_occurrences` returns a dictionary with unique values from the list as keys and the no. of times they occur in the list as values."
      ]
    },
    {
      "cell_type": "code",
      "execution_count": null,
      "id": "e01d971a",
      "metadata": {
        "id": "e01d971a"
      },
      "outputs": [],
      "source": []
    },
    {
      "cell_type": "code",
      "execution_count": null,
      "id": "76495fd3",
      "metadata": {
        "id": "76495fd3"
      },
      "outputs": [],
      "source": []
    },
    {
      "cell_type": "code",
      "execution_count": null,
      "id": "71ae1b35",
      "metadata": {
        "id": "71ae1b35"
      },
      "outputs": [],
      "source": []
    },
    {
      "cell_type": "code",
      "execution_count": null,
      "id": "2a600437",
      "metadata": {
        "id": "2a600437"
      },
      "outputs": [],
      "source": []
    },
    {
      "cell_type": "markdown",
      "id": "699835ff",
      "metadata": {
        "id": "699835ff"
      },
      "source": [
        "The result of `count_occurrences` is also called a frequency table, as it shows how frequently each value occurs in the dataset. It is often shown in a tabular form:\n",
        "\n",
        "<img src=\"https://i.imgur.com/MeRJqAg.png\" width=\"240\">\n",
        "\n",
        "We can now use `count_occurrences` to define the `mode` function."
      ]
    },
    {
      "cell_type": "code",
      "execution_count": null,
      "id": "dbfe3045",
      "metadata": {
        "id": "dbfe3045"
      },
      "outputs": [],
      "source": []
    },
    {
      "cell_type": "markdown",
      "id": "023d14ab",
      "metadata": {
        "id": "023d14ab"
      },
      "source": [
        "Let's try out the mode function with some examples."
      ]
    },
    {
      "cell_type": "code",
      "execution_count": null,
      "id": "ebc39eb0",
      "metadata": {
        "id": "ebc39eb0"
      },
      "outputs": [],
      "source": []
    },
    {
      "cell_type": "code",
      "execution_count": null,
      "id": "0bacfd58",
      "metadata": {
        "id": "0bacfd58"
      },
      "outputs": [],
      "source": []
    },
    {
      "cell_type": "code",
      "execution_count": null,
      "id": "d4574735",
      "metadata": {
        "id": "d4574735"
      },
      "outputs": [],
      "source": []
    },
    {
      "cell_type": "markdown",
      "id": "2c1b4ba3",
      "metadata": {
        "id": "2c1b4ba3"
      },
      "source": [
        "The function works as expected! The numpy module doesn't provide a function to compute the mode of a set of numbers, so we'll continue using our custom function."
      ]
    },
    {
      "cell_type": "code",
      "execution_count": null,
      "id": "fa74a9a1",
      "metadata": {
        "id": "fa74a9a1"
      },
      "outputs": [],
      "source": []
    },
    {
      "cell_type": "code",
      "execution_count": null,
      "id": "4c8d6707",
      "metadata": {
        "id": "4c8d6707"
      },
      "outputs": [],
      "source": []
    },
    {
      "cell_type": "code",
      "execution_count": null,
      "id": "5afe3c3e",
      "metadata": {
        "id": "5afe3c3e"
      },
      "outputs": [],
      "source": []
    },
    {
      "cell_type": "markdown",
      "id": "b8904a26",
      "metadata": {
        "id": "b8904a26"
      },
      "source": [
        "> **EXERCISE**: As a data analyst at the online streaming platform FlixNet, you've been asked to come up with a simple strategy to recommend new movies for users to watch. FlixNet allows users to connect their social accounts, so you have a list of friends for every user. You believe that users would like to watch movies which most of their friends have watched.\n",
        ">\n",
        "> To illustrate the strategy, let's look at the relevant data for one FlixNet user: Alfred. The table below shows the movies watched by friends of Alfred. We've excluded the movies Alfred has already watched from this list. This file is available as [a CSV here](https://gist.githubusercontent.com/aakashns/6b44891b426e90f771d3b147a0bb77d5/raw/9a3b8d89947c2e427b9c68454b3d66e7eae047e3/friends_movies.csv).\n",
        ">\n",
        "> Which movie should you recommend to Alfred?\n",
        ">\n",
        "> <img src=\"https://i.imgur.com/qYyTa7n.png\" width=\"240\">\n",
        "\n"
      ]
    },
    {
      "cell_type": "code",
      "execution_count": null,
      "id": "bfae355a",
      "metadata": {
        "id": "bfae355a"
      },
      "outputs": [],
      "source": []
    },
    {
      "cell_type": "code",
      "execution_count": null,
      "id": "a6847818",
      "metadata": {
        "id": "a6847818"
      },
      "outputs": [],
      "source": []
    },
    {
      "cell_type": "code",
      "execution_count": null,
      "id": "b59a1fb9",
      "metadata": {
        "id": "b59a1fb9"
      },
      "outputs": [],
      "source": []
    },
    {
      "cell_type": "code",
      "execution_count": null,
      "id": "84762201",
      "metadata": {
        "id": "84762201"
      },
      "outputs": [],
      "source": []
    },
    {
      "cell_type": "code",
      "execution_count": null,
      "id": "e5d2a9e8",
      "metadata": {
        "id": "e5d2a9e8"
      },
      "outputs": [],
      "source": []
    },
    {
      "cell_type": "markdown",
      "id": "40e0a972",
      "metadata": {
        "id": "40e0a972"
      },
      "source": [
        "> **EXERCISE**: Your friend Alex designs shoes as a hobby, and you've persuaded her to start selling her shoes online. You've found a vendor who can manufacture, store and ship the shoes for you. You've requested some sample units from the vendor to inspect the quality of the shoes. However, the vendor does not manufacture fewer than 100 units of single shoe size. Which shoe size would you like them to manufacture?\n",
        ">\n",
        "> You may find [this CSV file](https://gist.githubusercontent.com/aakashns/0754b375153cd74350315a6eedd2841e/raw/dd399f8f779b10fce4eaa021c309ebb6d9cc974e/shoe_sizes.csv) containing a list of shoes recently sold by an online store useful."
      ]
    },
    {
      "cell_type": "code",
      "execution_count": null,
      "id": "935224d2",
      "metadata": {
        "id": "935224d2"
      },
      "outputs": [],
      "source": []
    },
    {
      "cell_type": "code",
      "execution_count": null,
      "id": "ac647fa6",
      "metadata": {
        "id": "ac647fa6"
      },
      "outputs": [],
      "source": []
    },
    {
      "cell_type": "code",
      "execution_count": null,
      "id": "04d6debf",
      "metadata": {
        "id": "04d6debf"
      },
      "outputs": [],
      "source": []
    },
    {
      "cell_type": "code",
      "execution_count": null,
      "id": "490742b5",
      "metadata": {
        "id": "490742b5"
      },
      "outputs": [],
      "source": []
    },
    {
      "cell_type": "markdown",
      "id": "13727568",
      "metadata": {
        "id": "13727568"
      },
      "source": [
        "Sometimes you may be given a frequency table instead of a full list of numbers.\n",
        "\n",
        "> **EXERCISE**: The following table shows the votes earned by candidates competiting the 2000 US Presidential Election. This table is also available [as a CSV here](https://gist.githubusercontent.com/aakashns/0f137d0fd21635f82ee1a81d8bd1a804/raw/12006b199ad5b3f4b20c853daeb8bb0e1b9847e7/us_2000_results.csv).\n",
        ">\n",
        "> <img src=\"https://i.imgur.com/f8hcMh9.png\" width=\"480\">\n",
        ">\n",
        "> *Hint*: Define a function `frequency_table_mode` which compute the mode from a frequency table."
      ]
    },
    {
      "cell_type": "code",
      "execution_count": null,
      "id": "5c29b53a",
      "metadata": {
        "id": "5c29b53a"
      },
      "outputs": [],
      "source": []
    },
    {
      "cell_type": "code",
      "execution_count": null,
      "id": "300692ab",
      "metadata": {
        "id": "300692ab"
      },
      "outputs": [],
      "source": []
    },
    {
      "cell_type": "code",
      "execution_count": null,
      "id": "730c971c",
      "metadata": {
        "id": "730c971c"
      },
      "outputs": [],
      "source": []
    },
    {
      "cell_type": "code",
      "execution_count": null,
      "id": "fd6c3a0b",
      "metadata": {
        "id": "fd6c3a0b"
      },
      "outputs": [],
      "source": []
    },
    {
      "cell_type": "code",
      "execution_count": null,
      "id": "714713b7",
      "metadata": {
        "id": "714713b7"
      },
      "outputs": [],
      "source": []
    },
    {
      "cell_type": "markdown",
      "id": "5b2a93b5",
      "metadata": {
        "id": "5b2a93b5"
      },
      "source": [
        "Let's save our work before continuing."
      ]
    },
    {
      "cell_type": "code",
      "execution_count": null,
      "id": "aef9baf0",
      "metadata": {
        "id": "aef9baf0"
      },
      "outputs": [],
      "source": []
    },
    {
      "cell_type": "markdown",
      "id": "6f70ec79",
      "metadata": {
        "id": "6f70ec79"
      },
      "source": [
        "## Skewness of Data\n",
        "\n",
        "The relative order of mean, median and mode indicates the direction of skewness in the dataset. Skewness, in statistics, is the degree of asymmetry observed in a set of observations. The image below([source](https://medium.com/@nhan.tran/mean-median-an-mode-in-statistics-3359d3774b0b)) shows three possible scenarios:\n",
        "\n",
        "![](https://miro.medium.com/max/4800/0*wHMvuwRa_YF9SFwY.png)\n",
        "\n",
        "\n",
        "The x-axis indicates the values of the numbers in the dataset and the y-axis indicates the no. of times each value occurs. There's no one single right measure of central tendency, it is always better to look at multiple measures to form a fuller picture of distribution of values in the dataset.\n",
        "\n",
        "\n"
      ]
    },
    {
      "cell_type": "markdown",
      "id": "d6ba2c0a",
      "metadata": {
        "id": "d6ba2c0a"
      },
      "source": [
        "> **EXERCISE**: The following table shows a summary of test scores for a class of students. 2 students scored 1 mark in the test, 3 students scored 2 marks, 8 students scored 3 marks and so on. Compute the mean, median and mode of the scores. Does the data skew towards one side or the other?\n",
        ">\n",
        "> <img src=\"https://i.imgur.com/AD7m3gJ.png\" width=\"240\">\n",
        ">"
      ]
    },
    {
      "cell_type": "code",
      "execution_count": null,
      "id": "1dfcc8df",
      "metadata": {
        "id": "1dfcc8df"
      },
      "outputs": [],
      "source": []
    },
    {
      "cell_type": "code",
      "execution_count": null,
      "id": "63354556",
      "metadata": {
        "id": "63354556"
      },
      "outputs": [],
      "source": []
    },
    {
      "cell_type": "code",
      "execution_count": null,
      "id": "45c86227",
      "metadata": {
        "id": "45c86227"
      },
      "outputs": [],
      "source": []
    },
    {
      "cell_type": "markdown",
      "id": "960078d8",
      "metadata": {
        "id": "960078d8"
      },
      "source": [
        "Apart from measures of central tendency, we also often compute measures of variability or spread."
      ]
    },
    {
      "cell_type": "markdown",
      "id": "06812a6a",
      "metadata": {
        "id": "06812a6a"
      },
      "source": [
        "## Variance and Standard Deviation\n",
        "\n",
        "The **variance** of a set of numbers measures how far each number is from the mean of the set. It is denoted by the symbol $\\sigma^2$ (pronounced \"sigma squared\") and is defined by the formula:\n",
        "\n",
        "$$\\sigma^2 = \\frac{ (x_1 - \\mu)^2 + (x_2 - \\mu)^2 + ... + (x_n - \\mu)^2 }{n}$$\n",
        "\n",
        "$$\\textrm{Variance} = \\frac{\\textrm{Sum of squares of difference between observations and mean}} {\\textrm{Number of observations}}$$\n",
        "\n",
        "Notice that variance is simply the mean of the squared difference between observations and their average. While the mean is a measure of central tendency, the variance measure the variability or the spread of the data around the mean.\n",
        "\n",
        "The **standard deviation** of a set of numbers is defined as the square root of the variance. It is denoted by the symbol $\\sigma$ (pronounced \"sigma\") and is defined by the formula\n",
        "\n",
        "$$\\sigma^2 = \\sqrt{\\frac{ (x_1 - \\mu)^2 + (x_2 - \\mu)^2 + ... + (x_n - \\mu)^2 }{n}}$$\n",
        "\n",
        "$$\\textrm{ Standard Deviation } = \\sqrt{\\textrm{ Variance }}$$"
      ]
    },
    {
      "cell_type": "markdown",
      "id": "42e206de",
      "metadata": {
        "id": "42e206de"
      },
      "source": [
        "> **EXERCISE**: Define function `variance` and `standard_deviation` to compute the variance of a list of numbers.\n",
        ">\n",
        "> *Hint*: You may find the functions `np.mean`, `np.subtract` and `np.square` useful."
      ]
    },
    {
      "cell_type": "code",
      "execution_count": null,
      "id": "cf89c17d",
      "metadata": {
        "id": "cf89c17d"
      },
      "outputs": [],
      "source": []
    },
    {
      "cell_type": "code",
      "execution_count": null,
      "id": "70be786b",
      "metadata": {
        "id": "70be786b"
      },
      "outputs": [],
      "source": []
    },
    {
      "cell_type": "markdown",
      "id": "0aa2f501",
      "metadata": {
        "id": "0aa2f501"
      },
      "source": [
        "Let's test out the functions using a sample list of numbers."
      ]
    },
    {
      "cell_type": "code",
      "execution_count": null,
      "id": "b933b5e7",
      "metadata": {
        "id": "b933b5e7"
      },
      "outputs": [],
      "source": []
    },
    {
      "cell_type": "code",
      "execution_count": null,
      "id": "04691949",
      "metadata": {
        "id": "04691949"
      },
      "outputs": [],
      "source": []
    },
    {
      "cell_type": "code",
      "execution_count": null,
      "id": "0ad0ec4f",
      "metadata": {
        "id": "0ad0ec4f"
      },
      "outputs": [],
      "source": []
    },
    {
      "cell_type": "markdown",
      "id": "538352c2",
      "metadata": {
        "id": "538352c2"
      },
      "source": [
        "The `numpy` library provides function `var` and `std` for computing the variance and standard deviation respectively."
      ]
    },
    {
      "cell_type": "code",
      "execution_count": null,
      "id": "139af5be",
      "metadata": {
        "id": "139af5be"
      },
      "outputs": [],
      "source": []
    },
    {
      "cell_type": "code",
      "execution_count": null,
      "id": "e40b0fd3",
      "metadata": {
        "id": "e40b0fd3"
      },
      "outputs": [],
      "source": []
    },
    {
      "cell_type": "markdown",
      "id": "b0af7bcc",
      "metadata": {
        "id": "b0af7bcc"
      },
      "source": [
        "> **QUESTION**: The following table shows the number of new notebooks created every day on Jovian for the past week. Calculate the variance and standard deviation of the number of notebooks created per day.\n",
        ">\n",
        "> <img src=\"https://i.imgur.com/EScHTCY.png\" width=\"200\">"
      ]
    },
    {
      "cell_type": "code",
      "execution_count": null,
      "id": "93cc2157",
      "metadata": {
        "id": "93cc2157"
      },
      "outputs": [],
      "source": []
    },
    {
      "cell_type": "code",
      "execution_count": null,
      "id": "fdcfa800",
      "metadata": {
        "id": "fdcfa800"
      },
      "outputs": [],
      "source": []
    },
    {
      "cell_type": "code",
      "execution_count": null,
      "id": "5f330401",
      "metadata": {
        "id": "5f330401"
      },
      "outputs": [],
      "source": []
    },
    {
      "cell_type": "markdown",
      "id": "93254f6f",
      "metadata": {
        "id": "93254f6f"
      },
      "source": [
        "Variance and standard deviation can help us understand if the data contains outliers. A low standard devation indicates that there are few or no outliers. A high standard deviation indicates there may be significant outliers.\n",
        "\n",
        "> **EXERCISE**: The following table shows the starting salary of a class of 20 geography graduates from the University of North Carolina in 1986. Person 7 is Michael Jordan, who became a professional basketball player upon graduating. Calculate the average salary for the class. Find the standard deviation of the salaries with and without Person 7 included. How different are they?\n",
        ">\n",
        "> <img src=\"https://i.imgur.com/cJHEEEt.png\" width=\"240\">\n",
        ">"
      ]
    },
    {
      "cell_type": "code",
      "execution_count": null,
      "id": "e7bf4a33",
      "metadata": {
        "id": "e7bf4a33"
      },
      "outputs": [],
      "source": []
    },
    {
      "cell_type": "code",
      "execution_count": null,
      "id": "778c9977",
      "metadata": {
        "id": "778c9977"
      },
      "outputs": [],
      "source": []
    },
    {
      "cell_type": "code",
      "execution_count": null,
      "id": "b0919166",
      "metadata": {
        "id": "b0919166"
      },
      "outputs": [],
      "source": []
    },
    {
      "cell_type": "code",
      "execution_count": null,
      "id": "66137dcd",
      "metadata": {
        "id": "66137dcd"
      },
      "outputs": [],
      "source": []
    },
    {
      "cell_type": "markdown",
      "id": "96a0a2dd",
      "metadata": {
        "id": "96a0a2dd"
      },
      "source": [
        "Just like means, sometimes you need to use weights to compute the variance or standard deviation using a frequency table.\n",
        "\n",
        "> **EXERCISE**: The following table shows a summary of test scores for a class of students. 2 students scored 1 mark in the test, 3 students scored 2 marks, 8 students scored 3 marks and so on. Find the mean score and standard deviation of the score.\n",
        ">\n",
        "> <img src=\"https://i.imgur.com/AD7m3gJ.png\" width=\"240\">\n",
        ">\n",
        "> *Hint*: The `np.std` function won't do. You may find the functions `np.mean`, `np.subtract`, `np.square`, `np.sum` and `np.sqrt` useful."
      ]
    },
    {
      "cell_type": "code",
      "execution_count": null,
      "id": "c7d6ee36",
      "metadata": {
        "id": "c7d6ee36"
      },
      "outputs": [],
      "source": []
    },
    {
      "cell_type": "code",
      "execution_count": null,
      "id": "5ea9fea3",
      "metadata": {
        "id": "5ea9fea3"
      },
      "outputs": [],
      "source": []
    },
    {
      "cell_type": "code",
      "execution_count": null,
      "id": "d4aa2ddb",
      "metadata": {
        "id": "d4aa2ddb"
      },
      "outputs": [],
      "source": []
    },
    {
      "cell_type": "markdown",
      "id": "810d84e4",
      "metadata": {
        "id": "810d84e4"
      },
      "source": [
        "Let's save our work before continuing."
      ]
    },
    {
      "cell_type": "code",
      "execution_count": null,
      "id": "a80c791c",
      "metadata": {
        "id": "a80c791c"
      },
      "outputs": [],
      "source": []
    },
    {
      "cell_type": "markdown",
      "id": "c5ba32ad",
      "metadata": {
        "id": "c5ba32ad"
      },
      "source": [
        "## Growth and Average Growth Rates\n",
        "\n",
        "As a data analyst, one of your primary responsibilities will include observing trends in data over time and making projections: _\"Are our sales growing?\"_, _\"What is the projected revenue for the next quarter?\"_, _\"Which markets have the fastest growing population of our target demographic?\"_ etc.\n",
        "\n",
        "### Measuring Growth\n",
        "\n",
        "Measuring growth and projecting it forward is an important skill for a data analyst. Let's look at a simple example to see how its done."
      ]
    },
    {
      "cell_type": "markdown",
      "id": "18fc45db",
      "metadata": {
        "id": "18fc45db"
      },
      "source": [
        "\n",
        "> **QUESTION**: The table below shows the total number of registered users on Jovian at the end of each month, over the past 6 months. Compute the percentage of growth in registered users each month.\n",
        "\n",
        "\n",
        "<img src=\"https://i.imgur.com/z1UdIGT.png\" width=\"300\">"
      ]
    },
    {
      "cell_type": "code",
      "execution_count": null,
      "id": "aa33f2ce",
      "metadata": {
        "id": "aa33f2ce"
      },
      "outputs": [],
      "source": []
    },
    {
      "cell_type": "markdown",
      "id": "1c4c782b",
      "metadata": {
        "id": "1c4c782b"
      },
      "source": [
        "The growth in any period is simply the percentage increase in the number since the previous period:\n",
        "\n",
        "$$\\textrm{Growth} =  \\frac{\\textrm{Current Value} - \\textrm{Previous Value}} {\\textrm{Previous Value}}$$\n",
        "\n",
        "Let's write a helper function `compute_growth` which takes a list of values and computes the growth for each period. Note that we can't determine the growth for the first period."
      ]
    },
    {
      "cell_type": "code",
      "execution_count": null,
      "id": "9810f939",
      "metadata": {
        "id": "9810f939"
      },
      "outputs": [],
      "source": []
    },
    {
      "cell_type": "markdown",
      "id": "1ed2a044",
      "metadata": {
        "id": "1ed2a044"
      },
      "source": [
        "Can you understand how the above function works? Look up the documentation for `np.diff` and try to execute each part of the code in a separate code cell."
      ]
    },
    {
      "cell_type": "code",
      "execution_count": null,
      "id": "e609e1da",
      "metadata": {
        "id": "e609e1da"
      },
      "outputs": [],
      "source": []
    },
    {
      "cell_type": "code",
      "execution_count": null,
      "id": "e0573307",
      "metadata": {
        "id": "e0573307"
      },
      "outputs": [],
      "source": []
    },
    {
      "cell_type": "markdown",
      "id": "12bfc727",
      "metadata": {
        "id": "12bfc727"
      },
      "source": [
        "The monthly growth is often expressed as a percentage:\n",
        "\n",
        "<img src=\"https://i.imgur.com/kZL93HM.png\" width=\"400\">\n",
        "\n",
        "\n",
        "If the growth for month is $r_i$ and the no. of users at the end of the month is $N_i$, then\n",
        "\n",
        "$$N_i = N_{i-1} + N_{i-1} r_i  $$\n",
        "\n",
        "$$N_i = N_{i-1} (1 + r_i)  $$\n",
        "\n",
        "\n"
      ]
    },
    {
      "cell_type": "markdown",
      "id": "e4f7fe74",
      "metadata": {
        "id": "e4f7fe74"
      },
      "source": [
        "\n",
        "\n",
        "\n",
        "### Average Growth Rates\n",
        "\n",
        "> **QUESTION**: Compute the average monthly growth rate of registered users on Jovian.\n",
        "\n",
        "You may be tempted to compute the arithmetic mean of the growth rates here, but that would the wrong approach. The average growth rate is the percentage of growth, when applied across all periods, results in the same final number.\n",
        "\n",
        "In the above example, if we use $r$ to indicate the average growth, then it follows that:\n",
        "\n",
        "$$N_5 = N_0(1+r_1)(1 + r_2)(1 + r_3)(1 + r_4)(1 + r_5) = N_0(1 + r)(1 + r)(1 + r)(1 + r)(1 + r)$$\n",
        "\n",
        "In other words, if we're computing the average growth for `n` periods:\n",
        "\n",
        "$$ (1+r)^n = (1+r_1)(1+r_2)...(1+r_n)$$\n",
        "\n",
        "In the above formula, $(1+r)$ is said to be the **geometric mean** of the numbers $(1+r_1), (1+r_2), ... , (1+r_n)$.\n",
        "\n",
        "Simplifying, we get\n",
        "\n",
        "$$ \\textrm{Average Growth} = r = \\sqrt[n]{(1+r_1)(1+r_2)...(1+r_n)} - 1$$\n",
        "\n",
        "\n",
        "Let's write a helper function to compute the average growth."
      ]
    },
    {
      "cell_type": "code",
      "execution_count": null,
      "id": "24a79a3c",
      "metadata": {
        "id": "24a79a3c"
      },
      "outputs": [],
      "source": []
    },
    {
      "cell_type": "code",
      "execution_count": null,
      "id": "66799d8a",
      "metadata": {
        "id": "66799d8a"
      },
      "outputs": [],
      "source": []
    },
    {
      "cell_type": "code",
      "execution_count": null,
      "id": "b1bce682",
      "metadata": {
        "id": "b1bce682"
      },
      "outputs": [],
      "source": []
    },
    {
      "cell_type": "code",
      "execution_count": null,
      "id": "7a3bc370",
      "metadata": {
        "id": "7a3bc370"
      },
      "outputs": [],
      "source": []
    },
    {
      "cell_type": "markdown",
      "id": "307a2b19",
      "metadata": {
        "id": "307a2b19"
      },
      "source": [
        "Another way to compute the average growth directly is using the formula:\n",
        "\n",
        "$$r = \\sqrt[n]{\\frac{N_{final}}{N_{initial}}} - 1$$\n",
        "\n",
        "when $n$ is the number of periods. Can you see how this formula returns the same result as the one implemented above?"
      ]
    },
    {
      "cell_type": "markdown",
      "id": "2e8ecb22",
      "metadata": {
        "id": "2e8ecb22"
      },
      "source": [
        "### Projecting Growth Forward\n",
        "\n",
        "Once we have the average growth rate, we can apply it to the current number to obtain projections for the future.\n",
        "\n",
        "> **QUESTION**: Projecting forward the average monthly growth rate, estimate the number of registered users on Jovian in March 2022.\n",
        "\n",
        "If the average growth rate is $r$ and the number is $N$, the number $k$ periods later is given by:\n",
        "\n",
        "$$N_k = N(1+r)^k$$\n",
        "\n",
        "Let's define a helper function `project_forward` to perform this computation."
      ]
    },
    {
      "cell_type": "code",
      "execution_count": null,
      "id": "1710d7f1",
      "metadata": {
        "id": "1710d7f1"
      },
      "outputs": [],
      "source": []
    },
    {
      "cell_type": "markdown",
      "id": "e258ee1e",
      "metadata": {
        "id": "e258ee1e"
      },
      "source": [
        "We can now"
      ]
    },
    {
      "cell_type": "code",
      "execution_count": null,
      "id": "a064e852",
      "metadata": {
        "id": "a064e852"
      },
      "outputs": [],
      "source": []
    },
    {
      "cell_type": "code",
      "execution_count": null,
      "id": "ac15e743",
      "metadata": {
        "id": "ac15e743"
      },
      "outputs": [],
      "source": []
    },
    {
      "cell_type": "code",
      "execution_count": null,
      "id": "925dc5de",
      "metadata": {
        "id": "925dc5de"
      },
      "outputs": [],
      "source": []
    },
    {
      "cell_type": "markdown",
      "id": "8b5195c1",
      "metadata": {
        "id": "8b5195c1"
      },
      "source": [
        "Keep in mind, however, that this is simply a projection assuming that the current trend will continue for the next year. The actual number can be significantly lower or higher based on the activities undertaken by the company and external factors like competition, pandemics, new technologies etc.\n",
        "\n",
        "To maintain or exceed the current growth rate, the company needs to:\n",
        "\n",
        "* Keep doing the things that are working well\n",
        "* Fix bugs and issues to improve the user experience\n",
        "* Come up with new ideas and build more useful features\n",
        "\n",
        "> **Tip:** A good way to wrap your head around growth rate and compounding is to determine the doubling time i.e. the number of periods it takes for a number to double. Here's a shorthand, if a number is growing at a rate of $r%$, then it takes approximately $72/r$ periods to double. E.g. If the number of registered users on Jovian grows by $12%$ on average, then the number will double ever 6 months. Can you prove this relationship?\n"
      ]
    },
    {
      "cell_type": "markdown",
      "id": "b476e0d2",
      "metadata": {
        "id": "b476e0d2"
      },
      "source": [
        "### Compound Annual Growth Rate (CAGR)\n",
        "\n",
        "In the previous example, we looked at monthly growth. When the period in consideration is a year, the average growth rate is also referred to as the **Compound Annual Growth Rate** or **CAGR**.\n",
        "\n",
        "\n",
        "> **EXERCISE**: Find the Compound Annual Growth Rate (CAGR) of India's population using the population data 2015-2020 ([available here](https://www.statista.com/statistics/263766/total-population-of-india/)) and project it forward to predict the population of India in 2030."
      ]
    },
    {
      "cell_type": "code",
      "execution_count": null,
      "id": "cbe256e2",
      "metadata": {
        "id": "cbe256e2"
      },
      "outputs": [],
      "source": []
    },
    {
      "cell_type": "code",
      "execution_count": null,
      "id": "42e215ea",
      "metadata": {
        "id": "42e215ea"
      },
      "outputs": [],
      "source": []
    },
    {
      "cell_type": "code",
      "execution_count": null,
      "id": "ecc15ba7",
      "metadata": {
        "id": "ecc15ba7"
      },
      "outputs": [],
      "source": []
    },
    {
      "cell_type": "markdown",
      "id": "8b0accf3",
      "metadata": {
        "id": "8b0accf3"
      },
      "source": [
        "Let's save our work before continuing."
      ]
    },
    {
      "cell_type": "code",
      "execution_count": null,
      "id": "ce2c258b",
      "metadata": {
        "id": "ce2c258b"
      },
      "outputs": [],
      "source": []
    },
    {
      "cell_type": "markdown",
      "id": "2153c7f5",
      "metadata": {
        "id": "2153c7f5"
      },
      "source": [
        "## Putting it All Together\n",
        "\n",
        "\n",
        "Here's a problem combining many of the topics we've covered in this tutorial:\n",
        "\n",
        "> **EXERCISE**: The table below shows the total no. of goals scored in the FIFA Soccer World Cup 2018 by teams participating in the tournament. 12 teams scored a total of 2 goals each in the tournament, 4 teams scored a total of 3 goals each, 1 team scored a total of 4 goals, 2 teams scored a total of 6 goals each and so on.\n",
        ">\n",
        "> <img src=\"https://i.imgur.com/4DwHIam.png\" width=\"240\">\n",
        ">\n",
        "> Answer the following questions using the above data:\n",
        "> 1. Find the total number of goals scored in the tournament.\n",
        "> 2. Find the total number of teams in the tournament.\n",
        "> 3. Find the average number of goals scored by a team in the tournament.\n",
        "> 4. Find the median number of goals scored by a team in the tournament.\n",
        "> 5. Find the range and quartiles for the number of goals scored by a team in the tournament.\n",
        "> 5. Find the mode of the number of goals scored by a team in the tournament.\n",
        "> 6. What is the maximum number of goals scored by a team in the tournament?\n",
        "> 7. What is the minimum number of goals scored by a team in the tournament?\n",
        "> 8. Find the standard deviation of the number of goals scored by a team in the tournament?\n",
        "> 9. If you pick one of the teams who participated in the tournament at random, what is the probability that team has scored less than three goals in the tournament?\n",
        ">\n",
        "> 10. Find the average number of goals scored per match in the tournament?\n",
        ">\n",
        "> The table is also available as a CSV file [here](https://gist.githubusercontent.com/aakashns/80896b90166ac9e81fb3e11f15ba3dd3/raw/95f8d847a82f46566cd45fbd7a72b046e2b52a5c/gistfile1.txt).\n",
        "\n"
      ]
    },
    {
      "cell_type": "code",
      "execution_count": null,
      "id": "36e6f376",
      "metadata": {
        "id": "36e6f376"
      },
      "outputs": [],
      "source": []
    },
    {
      "cell_type": "code",
      "execution_count": null,
      "id": "e2fc3e56",
      "metadata": {
        "id": "e2fc3e56"
      },
      "outputs": [],
      "source": []
    },
    {
      "cell_type": "code",
      "execution_count": null,
      "id": "aabe01ae",
      "metadata": {
        "id": "aabe01ae"
      },
      "outputs": [],
      "source": []
    },
    {
      "cell_type": "markdown",
      "id": "213837b8",
      "metadata": {
        "id": "213837b8"
      },
      "source": [
        "Let's save our work before continuing."
      ]
    },
    {
      "cell_type": "code",
      "execution_count": null,
      "id": "29ca81d5",
      "metadata": {
        "id": "29ca81d5"
      },
      "outputs": [],
      "source": []
    },
    {
      "cell_type": "markdown",
      "id": "739fd537",
      "metadata": {
        "id": "739fd537"
      },
      "source": [
        "## Summary\n",
        "\n",
        "Here's a summary of the topics covered in this tutorial:\n",
        "\n",
        "### Average / Arithmetic Mean\n",
        "  - The average or arithmetic mean of a set of numbers is the sum of the numbers divided by the how many numbers are being averaged.\n",
        "  \n",
        "  $$\\textrm{Average} = \\frac{\\textrm{Sum of values}}{\\textrm{Number of values}}$$\n",
        "\n",
        "  - Sometimes you may need to apply a weight to each number.\n",
        "  \n",
        "  $$\\textrm{Weighted Average} = \\frac{\\textrm{Weighted sum of values}}{\\textrm{Sum of weights}}$$\n",
        "  \n",
        "  - Average/mean is susceptible to outliers (the **Michael Jordan** effect) and may not be a good measure of central tendency in such cases.\n",
        "  \n",
        "  <img src=\"https://i.imgur.com/vgG29mb.png\" width=\"640\">\n",
        "\n",
        "\n",
        "### Median and Percentile\n",
        "\n",
        "<img src=\"https://i.imgur.com/UPiZkuE.png\" width=\"640\">\n",
        "\n",
        "* The median of a set of numbers is the *middle number* of the set, after the numbers have been arranged in increasing order. E.g. the median of the numbers $3, 7, 10, 55, 97$ is $10$.\n",
        "\n",
        "\n",
        "* When the size of the set is even, there's no single middle number. In this case, the median is the average of the two middle numbers. E.g. the median of $3, 5, 21, 33, 42, 300$ is $(21 + 33)/2 = 27$.\n",
        "\n",
        "\n",
        "* A percentile is the generalization of median. The K-th percentile is a number equal to or larger than K % of the values in the set. The median is the 50-th percentile.\n",
        "\n",
        "\n",
        "### Quartiles and Range\n",
        "\n",
        "* Quartile are numbers that divide a dataset into 4 equal parts (or quarters). A dataset has three quartiles:\n",
        "\n",
        "  1. **1st Quartile or Q1**: 25% of values lie below it i.e. it's the 25th percentile\n",
        "  2. **2nd Quartile or Q2**: 50% of values lie below it i.e. it's the median or 50th percentile\n",
        "  3. **3rd Quartile or Q3**: 75% of values lie below it i.e. it's the 75th percentile\n",
        "\n",
        "<img src=\"https://i.imgur.com/SQXnns4.png\" width=\"360\">\n",
        "\n",
        "* Range of a set of numbers is defined by two values: the minimum and the maximum. Ranges and quartiles are often used together to get a sense of the spread and distribution of values in a dataset.\n",
        "\n",
        "* The range and quartiles of a set of numbers are often plotted using a \"box-and-whiskers\" plot (sometimes just called a box plot).\n",
        "\n",
        "![](https://i.imgur.com/vB42RrG.png)\n",
        "\n",
        "\n",
        "### Mode and Frequency Tables\n",
        "\n",
        "* The mode of a set of values is simply the most frequently occurring value in the set. E.g. the mode of the list `[1, 2, 3, 4, 4, 4, 4, 4, 5, 6, 7, 7, 7, 8]` is `4` because it occurs more times than any other value.\n",
        "\n",
        "\n",
        "* If there isn't a single value that occurs most frequently, all the values are occur most frequently are modes. The data is said to be *multimodal* in such cases. E.g. The set `[3, 1, 4, 1, 5, 4]` has two modes, `1` and `4`, which both occur twice.\n",
        "\n",
        "\n",
        "* Unlike mean and median, mode is not limited to numbers, it is defined for any set of values. The mode of the set of values `['red', 'green', 'blue', 'green', 'red', 'green', 'green']` is `'green'`.\n",
        "\n",
        "\n",
        "* A frequency table shows how many times each observation occurs in a dataset.\n",
        "\n",
        "\n",
        "<img src=\"https://i.imgur.com/MeRJqAg.png\" width=\"240\">\n",
        "\n",
        "\n",
        "### Skewness of Data\n",
        "\n",
        "* Skewness, in statistics, is the degree of asymmetry observed in a set of observations.\n",
        "\n",
        "* The relative order of mean, median and mode indicates the direction of skewness in the dataset.\n",
        "\n",
        "![](https://miro.medium.com/max/4800/0*wHMvuwRa_YF9SFwY.png)\n",
        "\n",
        "\n",
        "### Variance and Standard Deviation\n",
        "\n",
        "* The **variance** of a set of numbers measures how far each number is from the mean of the set. It is denoted by the symbol $\\sigma^2$ (pronounced \"sigma squared\") and is defined by the formula:\n",
        "\n",
        "  $$\\sigma^2 = \\frac{ (x_1 - \\mu)^2 + (x_2 - \\mu)^2 + ... + (x_n - \\mu)^2 }{n}$$\n",
        "\n",
        "  $$\\textrm{Variance} = \\frac{\\textrm{Sum of squares of difference between observations and mean}} {\\textrm{Number of observations}}$$\n",
        "\n",
        "\n",
        "* The **standard deviation** of a set of numbers is defined as the square root of the variance. It is denoted by the symbol $\\sigma$ (pronounced \"sigma\") and is defined by the formula\n",
        "\n",
        "  $$\\sigma = \\sqrt{\\frac{ (x_1 - \\mu)^2 + (x_2 - \\mu)^2 + ... + (x_n - \\mu)^2 }{n}}$$\n",
        "\n",
        "  $$\\textrm{ Standard Deviation } = \\sqrt{\\textrm{ Variance }}$$\n",
        "\n",
        "\n",
        "### Growth and Average Growth Rate\n",
        "\n",
        "* Growth in any period is defined the percentage increase in the number since the previous period:\n",
        "\n",
        "$$\\textrm{Growth} =  \\frac{\\textrm{Current Value} - \\textrm{Previous Value}} {\\textrm{Previous Value}}$$\n",
        "\n",
        "* The Average Growth Rate is the percentage of growth, when applied across all periods, results in the same final number. It is given by the formula:\n",
        "\n",
        "$$ \\textrm{Average Growth} = r = \\sqrt[n]{(1+r_1)(1+r_2)...(1+r_n)} - 1$$\n",
        "\n",
        "* Projecting growth forward can help us estimate numbers in the future. If the average growth rate is $r$ and the number is $N$, the number $k$ periods later is given by:\n",
        "\n",
        "$$N_k = N(1+r)^k$$\n",
        "\n"
      ]
    },
    {
      "cell_type": "markdown",
      "id": "697b32cf",
      "metadata": {
        "id": "697b32cf"
      },
      "source": [
        "## Review Questions and Further Reading\n",
        "\n",
        "Based on what you've learned in this tutorial, try to come up with general strategies to answer the following questions:\n",
        "\n",
        "- How much will you earn after graduating from university?\n",
        "- How hot is it going to be in the summer this year?\n",
        "- Should your investment portfolio be focused on diversified?\n",
        "- Which movie should you watch this weekend?\n",
        "- How many registered users will your website have one year from now?\n",
        "\n",
        "\n",
        "Here are some resources for learning more:\n",
        "\n",
        "\n",
        "* https://www.math-only-math.com/worksheet-on-mean-median-and-mode.html\n",
        "* https://www.khanacademy.org/math/statistics-probability\n",
        "* https://www.w3resource.com/python-exercises/numpy/python-numpy-stat.php\n",
        "* https://numpy.org/doc/stable/reference/index.html"
      ]
    },
    {
      "cell_type": "code",
      "execution_count": null,
      "id": "fddbc75b",
      "metadata": {
        "id": "fddbc75b"
      },
      "outputs": [],
      "source": []
    },
    {
      "cell_type": "markdown",
      "id": "b562d155",
      "metadata": {
        "id": "b562d155"
      },
      "source": [
        "## Questions for revision\n",
        "1.\tWhat are the measures of central tendency?\n",
        "2.\tWhy do we use mean, median and mode?\n",
        "3.\tHow can we calculate mean, median and mode in python?\n",
        "4.\tWhat package do we require to calculate the measures of central tendency in python?\n",
        "5.\tWhat is the purpose of weighted averages? Give some real-time examples.\n",
        "6.\tCan we calculate weighted averages directly in python? If not, why? What package do we need?\n",
        "7.\tWhat function do we use to read a CSV file from a local file system or a URL? What does it return?\n",
        "8.\tWhat problems can outliers cause?\n",
        "9.\tWhat measure of central tendency can we use when we detect outliers in the data?\n",
        "10.\tWhat is skewed data? What can we make out of a skewed data?\n",
        "11.\tWhy do we need percentiles? Explain percentiles in layman terms.\n",
        "12.\tWhere do we use quartiles in real-time scenarios?\n",
        "13.\tHow can we plot box-plot besides using seaborn?\n",
        "14.\tWhat information does box-plot give us?\n",
        "15.\tHow does mode help in analysing the data?\n",
        "16.\tWhat is multimodal data?\n",
        "17.\tWhat is a frequency table? How is it any different from regular table?\n",
        "18.\tHow important is standard deviation in terms of analysing data?\n",
        "19.\tWhat is the purpose of growth rate, average growth rate and projecting growth rate forward, compound annual growth rate? Explain the concepts in layman terms.\n",
        "20.\tAs a data analyst, what information can you get from data with just using above concepts? Will that be enough for a conclusion?"
      ]
    },
    {
      "cell_type": "markdown",
      "id": "57561fa0",
      "metadata": {
        "id": "57561fa0"
      },
      "source": [
        "## Solutions for Exercises"
      ]
    },
    {
      "cell_type": "markdown",
      "id": "6c8100f8",
      "metadata": {
        "id": "6c8100f8"
      },
      "source": [
        "### Mean"
      ]
    },
    {
      "cell_type": "code",
      "execution_count": null,
      "id": "1d97e7fe",
      "metadata": {
        "id": "1d97e7fe"
      },
      "outputs": [],
      "source": []
    },
    {
      "cell_type": "code",
      "execution_count": null,
      "id": "524b6608",
      "metadata": {
        "id": "524b6608"
      },
      "outputs": [],
      "source": []
    },
    {
      "cell_type": "markdown",
      "id": "3c0503ef",
      "metadata": {
        "id": "3c0503ef"
      },
      "source": [
        "> **EXERCISE:** Every time someone runs jovian.commit, a new version of a Jupyter notebook is uploaded to Jovian. The following table shows the number of notebook versions created every day on Jovian for the past 7 days. Calculate the average number of notebooks versions created per day.\n",
        ">\n",
        "> <img src=\"https://i.imgur.com/Vloo57d.png\" width=\"240\">"
      ]
    },
    {
      "cell_type": "code",
      "execution_count": null,
      "id": "f322dbcb",
      "metadata": {
        "id": "f322dbcb"
      },
      "outputs": [],
      "source": []
    },
    {
      "cell_type": "code",
      "execution_count": null,
      "id": "e07ffc23",
      "metadata": {
        "id": "e07ffc23"
      },
      "outputs": [],
      "source": []
    },
    {
      "cell_type": "markdown",
      "id": "36266300",
      "metadata": {
        "id": "36266300"
      },
      "source": [
        "### Combining Data From Two Columns\n",
        "\n",
        "\n",
        "\n",
        "> **QUESTION:** The following table shows the number of notebooks created every day and the number of notebook versions created every day on Jovian for the past 7 days. One notebook can have several versions. Can you find the average number of versions per notebook using this information?\n",
        ">\n",
        "> <img src=\"https://i.imgur.com/TTtDw9N.png\" width=\"320\">"
      ]
    },
    {
      "cell_type": "code",
      "execution_count": null,
      "id": "437e13d9",
      "metadata": {
        "id": "437e13d9"
      },
      "outputs": [],
      "source": []
    },
    {
      "cell_type": "code",
      "execution_count": null,
      "id": "6cbcea72",
      "metadata": {
        "id": "6cbcea72"
      },
      "outputs": [],
      "source": []
    },
    {
      "cell_type": "markdown",
      "id": "a8cdfa17",
      "metadata": {
        "id": "a8cdfa17"
      },
      "source": [
        "### Weighted Averages\n",
        "\n",
        "The weighted average takes into account the relative importance or frequency of some factors in a data set. A weighted average is sometimes more accurate than a simple average. Stock investors use a weighted average to track the cost basis of shares bought at varying times.\n",
        "\n",
        "`pseudo code for weights = sum(number * weights) / total sum of weights `"
      ]
    },
    {
      "cell_type": "markdown",
      "id": "1986f472",
      "metadata": {
        "id": "1986f472"
      },
      "source": [
        "> **EXERCISE:** The The following table shows population and the per capita GDP of various states (provinces) in India. Compute per capita GDP for the entire country. The table is also available as a CSV file [here](https://gist.githubusercontent.com/aakashns/b83c25b654bdf20c085382f3d28bb15c/raw/046a19a942ef5a96d33c2e7b2dc5a9ce1a35e868/india_per_capita_gdp_by_state.csv).\n",
        "\n",
        "<img src=\"https://i.imgur.com/YJyfGpr.png\" width=\"320\">\n",
        "\n"
      ]
    },
    {
      "cell_type": "code",
      "execution_count": null,
      "id": "042a1108",
      "metadata": {
        "id": "042a1108"
      },
      "outputs": [],
      "source": []
    },
    {
      "cell_type": "markdown",
      "id": "d795b6eb",
      "metadata": {
        "id": "d795b6eb"
      },
      "source": [
        "**Solution:**\n",
        "\n",
        "\n",
        "- GDP - the entire economic output for a region FOR A YEAR!\n",
        "\n",
        "- GDP Per Capita - GDP/Population -(avg output for every person in the region)\n",
        "\n",
        "- Question -> Is to find PerCapita GDP for the entire country. (GDP for entire country / Population)\n",
        "\n",
        "- To get GDP for entire country, we need GDP for each state, but we dont have that information.\n",
        "\n",
        "- But we know GDP per capita = GDP of 'x' state/Population of 'x' state.\n",
        "\n",
        "- Therefore, GDP = GDP per capita X population (of the state)\n",
        "\n",
        "- Then summing up GDP of all states and population of all states, we can get GDP perCapita for entire country."
      ]
    },
    {
      "cell_type": "code",
      "execution_count": null,
      "id": "c5b0ac0c",
      "metadata": {
        "id": "c5b0ac0c"
      },
      "outputs": [],
      "source": []
    },
    {
      "cell_type": "code",
      "execution_count": null,
      "id": "0374f89c",
      "metadata": {
        "id": "0374f89c"
      },
      "outputs": [],
      "source": []
    },
    {
      "cell_type": "code",
      "execution_count": null,
      "id": "2505c220",
      "metadata": {
        "id": "2505c220"
      },
      "outputs": [],
      "source": []
    },
    {
      "cell_type": "code",
      "execution_count": null,
      "id": "4e992a85",
      "metadata": {
        "id": "4e992a85"
      },
      "outputs": [],
      "source": []
    },
    {
      "cell_type": "code",
      "execution_count": null,
      "id": "3ee689b9",
      "metadata": {
        "id": "3ee689b9"
      },
      "outputs": [],
      "source": []
    },
    {
      "cell_type": "markdown",
      "id": "53de7dc2",
      "metadata": {
        "id": "53de7dc2"
      },
      "source": [
        "> **EXERCISE:** Download [this CSV file](https://gist.githubusercontent.com/aakashns/873875a38d83a46820a6a8c17718a7e5/raw/0387122b1300607fc7ec73f75f0281d5d07ad65f/countries_data.csv) containing country-wise population and GDP per capita. Use it to calculate the GDP per capita for the entire world.\n",
        "\n"
      ]
    },
    {
      "cell_type": "code",
      "execution_count": null,
      "id": "ad508736",
      "metadata": {
        "id": "ad508736"
      },
      "outputs": [],
      "source": []
    },
    {
      "cell_type": "code",
      "execution_count": null,
      "id": "336c8f7f",
      "metadata": {
        "id": "336c8f7f"
      },
      "outputs": [],
      "source": []
    },
    {
      "cell_type": "code",
      "execution_count": null,
      "id": "6ba32815",
      "metadata": {
        "id": "6ba32815"
      },
      "outputs": [],
      "source": []
    },
    {
      "cell_type": "code",
      "execution_count": null,
      "id": "ce970963",
      "metadata": {
        "id": "ce970963"
      },
      "outputs": [],
      "source": []
    },
    {
      "cell_type": "code",
      "execution_count": null,
      "id": "9db645f0",
      "metadata": {
        "id": "9db645f0"
      },
      "outputs": [],
      "source": []
    },
    {
      "cell_type": "code",
      "execution_count": null,
      "id": "545699e0",
      "metadata": {
        "id": "545699e0"
      },
      "outputs": [],
      "source": []
    },
    {
      "cell_type": "markdown",
      "id": "6e6d596b",
      "metadata": {
        "id": "6e6d596b"
      },
      "source": [
        "### Outliers"
      ]
    },
    {
      "cell_type": "markdown",
      "id": "c4cd14e6",
      "metadata": {
        "id": "c4cd14e6"
      },
      "source": [
        "> **EXERCISE**: The following table shows the starting salary of a class of 20 geography graduates from the University of North Carolina in 1986. Person 7 is Michael Jordan, who became a professional basketball player upon graduating. Calculate the average salary for the class. Can you use the number as an estimate of how much a student can expect to earn in 1987?\n",
        ">\n",
        "> <img src=\"https://i.imgur.com/cJHEEEt.png\" width=\"240\">\n",
        ">"
      ]
    },
    {
      "cell_type": "code",
      "execution_count": null,
      "id": "b40faad3",
      "metadata": {
        "id": "b40faad3"
      },
      "outputs": [],
      "source": []
    },
    {
      "cell_type": "code",
      "execution_count": null,
      "id": "a299775e",
      "metadata": {
        "id": "a299775e"
      },
      "outputs": [],
      "source": []
    },
    {
      "cell_type": "markdown",
      "id": "a561c0a6",
      "metadata": {
        "id": "a561c0a6"
      },
      "source": [
        "### Median\n",
        "\n",
        "\n",
        "> **EXERCISE:** Write a function to find a median of a list of numbers. Ensure that your function does NOT modify the input list."
      ]
    },
    {
      "cell_type": "code",
      "execution_count": null,
      "id": "a7a36dc4",
      "metadata": {
        "id": "a7a36dc4"
      },
      "outputs": [],
      "source": []
    },
    {
      "cell_type": "code",
      "execution_count": null,
      "id": "e12f342a",
      "metadata": {
        "id": "e12f342a"
      },
      "outputs": [],
      "source": []
    },
    {
      "cell_type": "code",
      "execution_count": null,
      "id": "2b978a44",
      "metadata": {
        "id": "2b978a44"
      },
      "outputs": [],
      "source": []
    },
    {
      "cell_type": "code",
      "execution_count": null,
      "id": "f3fbd19e",
      "metadata": {
        "id": "f3fbd19e"
      },
      "outputs": [],
      "source": []
    },
    {
      "cell_type": "code",
      "execution_count": null,
      "id": "936d999e",
      "metadata": {
        "id": "936d999e"
      },
      "outputs": [],
      "source": []
    },
    {
      "cell_type": "code",
      "execution_count": null,
      "id": "d0d51d8e",
      "metadata": {
        "id": "d0d51d8e"
      },
      "outputs": [],
      "source": []
    },
    {
      "cell_type": "markdown",
      "id": "bc24d322",
      "metadata": {
        "id": "bc24d322"
      },
      "source": [
        "\n",
        "> **QUESTION**: Download [this CSV file](https://gist.githubusercontent.com/aakashns/5596c1d2d22d3c1ac287c8bf89d76a05/raw/ae588cb3711ba4ef441b578fafb47e911b27dcaf/billionaires.csv) containing information about the 100 richest people in the world according to Forbes. What is the `median net worth` of the 100 richest people in the world?"
      ]
    },
    {
      "cell_type": "code",
      "execution_count": null,
      "id": "cfff4075",
      "metadata": {
        "id": "cfff4075"
      },
      "outputs": [],
      "source": []
    },
    {
      "cell_type": "code",
      "execution_count": null,
      "id": "fd7c6dd1",
      "metadata": {
        "id": "fd7c6dd1"
      },
      "outputs": [],
      "source": []
    },
    {
      "cell_type": "code",
      "execution_count": null,
      "id": "ac070e83",
      "metadata": {
        "id": "ac070e83"
      },
      "outputs": [],
      "source": []
    },
    {
      "cell_type": "markdown",
      "id": "884deed6",
      "metadata": {
        "id": "884deed6"
      },
      "source": [
        "> **EXERCISE:** Use the above dataset to compute the median and average ages of the 100 richest people. Which is a better measure of central tendency in this case?"
      ]
    },
    {
      "cell_type": "code",
      "execution_count": null,
      "id": "c3f00d1c",
      "metadata": {
        "id": "c3f00d1c"
      },
      "outputs": [],
      "source": []
    },
    {
      "cell_type": "code",
      "execution_count": null,
      "id": "bd7cf509",
      "metadata": {
        "id": "bd7cf509"
      },
      "outputs": [],
      "source": []
    },
    {
      "cell_type": "code",
      "execution_count": null,
      "id": "bbbc1b7a",
      "metadata": {
        "id": "bbbc1b7a"
      },
      "outputs": [],
      "source": []
    },
    {
      "cell_type": "markdown",
      "id": "e683139b",
      "metadata": {
        "id": "e683139b"
      },
      "source": [
        "Since there is not much difference between the mean and median here, the data is less skewed. Which is why mean would be a better measure of central tendency!\n"
      ]
    },
    {
      "cell_type": "markdown",
      "id": "28e58029",
      "metadata": {
        "id": "28e58029"
      },
      "source": [
        "> **EXERCISE:** The following table shows the starting salary of a class of 20 geography graduates from the University of North Carolina in 1986. Person 7 is Michael Jordan, who became a professional basketball player upon graduating. Calculate the median salary for the class. How does it compare with the average? Can you use the number as an estimate of how much a student can expect to earn in 1987?\n",
        ">\n",
        "> <img src=\"https://i.imgur.com/cJHEEEt.png\" width=\"240\">\n",
        ">"
      ]
    },
    {
      "cell_type": "code",
      "execution_count": null,
      "id": "dd9c9cf1",
      "metadata": {
        "id": "dd9c9cf1"
      },
      "outputs": [],
      "source": []
    },
    {
      "cell_type": "code",
      "execution_count": null,
      "id": "1e5a3246",
      "metadata": {
        "id": "1e5a3246"
      },
      "outputs": [],
      "source": []
    },
    {
      "cell_type": "markdown",
      "id": "2ecd5e38",
      "metadata": {
        "id": "2ecd5e38"
      },
      "source": [
        "> **EXERCISE**: Download [this CSV file](https://gist.githubusercontent.com/aakashns/f7d8f99c391f0727270e27e157460e3a/raw/2128978f3297f39ca4237a9ff843c80dd44ca4e3/stocks_returns.csv) containing information about the returns on stock price for several public companies. Find the average returns and the median returns. Based on this information, can you explain if it's better to have a diversified or a focused investment portfolio?"
      ]
    },
    {
      "cell_type": "code",
      "execution_count": null,
      "id": "29419adf",
      "metadata": {
        "id": "29419adf"
      },
      "outputs": [],
      "source": []
    },
    {
      "cell_type": "code",
      "execution_count": null,
      "id": "ba942449",
      "metadata": {
        "id": "ba942449"
      },
      "outputs": [],
      "source": []
    },
    {
      "cell_type": "code",
      "execution_count": null,
      "id": "635c12ef",
      "metadata": {
        "id": "635c12ef"
      },
      "outputs": [],
      "source": []
    },
    {
      "cell_type": "markdown",
      "id": "d0faaaaf",
      "metadata": {
        "id": "d0faaaaf"
      },
      "source": [
        "Since, there is a lot of difference between the mean and median, we can say that the returns on certain companies is a lot higher than the other certain ones. Which is why it is good to have a broad scope of companies to invest in."
      ]
    },
    {
      "cell_type": "markdown",
      "id": "5620278c",
      "metadata": {
        "id": "5620278c"
      },
      "source": [
        "> **EXERCISE:** What is the relationship between the mean and median of a set of values? Is the mean always greater than the median (or vice versa)? Can they be equal? Demonstrate with examples."
      ]
    },
    {
      "cell_type": "markdown",
      "id": "e1f454d2",
      "metadata": {
        "id": "e1f454d2"
      },
      "source": [
        "![](https://miro.medium.com/max/4800/0*wHMvuwRa_YF9SFwY.png)\n",
        "\n",
        "> Mean and Median can be equal for absolutely symmetrical distribution."
      ]
    },
    {
      "cell_type": "markdown",
      "id": "cb2abc00",
      "metadata": {
        "id": "cb2abc00"
      },
      "source": [
        "### Percentile"
      ]
    },
    {
      "cell_type": "markdown",
      "id": "bd04cffd",
      "metadata": {
        "id": "bd04cffd"
      },
      "source": [
        "> **EXERCISE**: Download [this CSV file](https://gist.githubusercontent.com/aakashns/5596c1d2d22d3c1ac287c8bf89d76a05/raw/ae588cb3711ba4ef441b578fafb47e911b27dcaf/billionaires.csv) containing information about the 100 richest people in the world according to Forbes. What is the ratio of the 90-th percentile and 10-the percentile net worth in the list?\n"
      ]
    },
    {
      "cell_type": "code",
      "execution_count": null,
      "id": "519cc468",
      "metadata": {
        "id": "519cc468"
      },
      "outputs": [],
      "source": []
    },
    {
      "cell_type": "code",
      "execution_count": null,
      "id": "7bd0c071",
      "metadata": {
        "id": "7bd0c071"
      },
      "outputs": [],
      "source": []
    },
    {
      "cell_type": "code",
      "execution_count": null,
      "id": "ff353280",
      "metadata": {
        "id": "ff353280"
      },
      "outputs": [],
      "source": []
    },
    {
      "cell_type": "markdown",
      "id": "f44faa24",
      "metadata": {
        "id": "f44faa24"
      },
      "source": [
        "This means, that 90% of the top 100 rich people have a net worth of 52 billion or less."
      ]
    },
    {
      "cell_type": "code",
      "execution_count": null,
      "id": "0f0fb873",
      "metadata": {
        "id": "0f0fb873"
      },
      "outputs": [],
      "source": []
    },
    {
      "cell_type": "markdown",
      "id": "70b2508a",
      "metadata": {
        "id": "70b2508a"
      },
      "source": [
        "This says that the bottom 10% of rich people, have their net worth upto 12billion. Or you can say that the bottom 10% ends at 12 billion.\n",
        "\n",
        "For the ratio,"
      ]
    },
    {
      "cell_type": "code",
      "execution_count": null,
      "id": "065e7b9a",
      "metadata": {
        "id": "065e7b9a"
      },
      "outputs": [],
      "source": []
    },
    {
      "cell_type": "markdown",
      "id": "1ee14590",
      "metadata": {
        "id": "1ee14590"
      },
      "source": [
        "So the top 10% `(100-90%)`, is only  4 times higher the bottom 10%."
      ]
    },
    {
      "cell_type": "markdown",
      "id": "e5036328",
      "metadata": {
        "id": "e5036328"
      },
      "source": [
        "> **EXERCISE**: Download [this CSV file](https://gist.githubusercontent.com/aakashns/f7d8f99c391f0727270e27e157460e3a/raw/2128978f3297f39ca4237a9ff843c80dd44ca4e3/stocks_returns.csv) containing information about the returns on stock price for several public companies. What is the `ratio of returns` for the 95th percentile and 5th percentile in the list?"
      ]
    },
    {
      "cell_type": "code",
      "execution_count": null,
      "id": "9cb8942c",
      "metadata": {
        "id": "9cb8942c"
      },
      "outputs": [],
      "source": []
    },
    {
      "cell_type": "code",
      "execution_count": null,
      "id": "c49c5df5",
      "metadata": {
        "id": "c49c5df5"
      },
      "outputs": [],
      "source": []
    },
    {
      "cell_type": "code",
      "execution_count": null,
      "id": "d2d8c85f",
      "metadata": {
        "id": "d2d8c85f"
      },
      "outputs": [],
      "source": []
    },
    {
      "cell_type": "code",
      "execution_count": null,
      "id": "58b2d9b4",
      "metadata": {
        "id": "58b2d9b4"
      },
      "outputs": [],
      "source": []
    },
    {
      "cell_type": "markdown",
      "id": "c747558d",
      "metadata": {
        "id": "c747558d"
      },
      "source": [
        "So, the top 5 companies have a return of 281 or greater. On the other hand, the bottom 5 companies have a maximum return of 24. Lets find their ratio:"
      ]
    },
    {
      "cell_type": "code",
      "execution_count": null,
      "id": "487eb6ec",
      "metadata": {
        "id": "487eb6ec"
      },
      "outputs": [],
      "source": []
    },
    {
      "cell_type": "markdown",
      "id": "3c3a783c",
      "metadata": {
        "id": "3c3a783c"
      },
      "source": [
        "So the least value of the top 5% stocks is 9 times higher than the maximum value of the bottom 5% stocks."
      ]
    },
    {
      "cell_type": "markdown",
      "id": "35f5ea02",
      "metadata": {
        "id": "35f5ea02"
      },
      "source": [
        "> **EXERCISE**: The following table shows a summary of test scores for a class of students. 2 students scored 1 mark in the test, 3 students scored 2 marks, 8 students scored 3 marks and so on. Find the median score for the class.\n",
        ">\n",
        "> <img src=\"https://i.imgur.com/AD7m3gJ.png\" width=\"240\">\n",
        ">\n",
        "> **This representation of the data is also known as a frequency table, because it shows how often a certain value occurs in the dataset.**"
      ]
    },
    {
      "cell_type": "code",
      "execution_count": null,
      "id": "5eca9a9e",
      "metadata": {
        "id": "5eca9a9e"
      },
      "outputs": [],
      "source": []
    },
    {
      "cell_type": "code",
      "execution_count": null,
      "id": "52ce6083",
      "metadata": {
        "id": "52ce6083"
      },
      "outputs": [],
      "source": []
    },
    {
      "cell_type": "code",
      "execution_count": null,
      "id": "c16f5abd",
      "metadata": {
        "id": "c16f5abd"
      },
      "outputs": [],
      "source": []
    },
    {
      "cell_type": "markdown",
      "id": "2ce17969",
      "metadata": {
        "id": "2ce17969"
      },
      "source": [
        "That makes 92 students in total and now we can easily find the median, since we have arranged the scores of each student in a list."
      ]
    },
    {
      "cell_type": "code",
      "execution_count": null,
      "id": "8ec09641",
      "metadata": {
        "id": "8ec09641"
      },
      "outputs": [],
      "source": []
    },
    {
      "cell_type": "markdown",
      "id": "403d6937",
      "metadata": {
        "id": "403d6937"
      },
      "source": [
        "### Quartiles\n",
        "\n",
        "These are Special Percentiles."
      ]
    },
    {
      "cell_type": "markdown",
      "id": "0ccdfa69",
      "metadata": {
        "id": "0ccdfa69"
      },
      "source": [
        "> **EXERCISE:** Write a function `quartiles` which computes the quartiles for a set of numbers.\n"
      ]
    },
    {
      "cell_type": "code",
      "execution_count": null,
      "id": "553e70c4",
      "metadata": {
        "id": "553e70c4"
      },
      "outputs": [],
      "source": []
    },
    {
      "cell_type": "code",
      "execution_count": null,
      "id": "93fe8ca3",
      "metadata": {
        "id": "93fe8ca3"
      },
      "outputs": [],
      "source": []
    },
    {
      "cell_type": "code",
      "execution_count": null,
      "id": "0528522c",
      "metadata": {
        "id": "0528522c"
      },
      "outputs": [],
      "source": []
    },
    {
      "cell_type": "markdown",
      "id": "ee5846dc",
      "metadata": {
        "id": "ee5846dc"
      },
      "source": [
        "### Range"
      ]
    },
    {
      "cell_type": "markdown",
      "id": "75c04ac0",
      "metadata": {
        "id": "75c04ac0"
      },
      "source": [
        "> **EXERCISE:** Write a function `datarange` to determine the range of a list of numbers."
      ]
    },
    {
      "cell_type": "code",
      "execution_count": null,
      "id": "d9977742",
      "metadata": {
        "id": "d9977742"
      },
      "outputs": [],
      "source": []
    },
    {
      "cell_type": "code",
      "execution_count": null,
      "id": "4f4a81f8",
      "metadata": {
        "id": "4f4a81f8"
      },
      "outputs": [],
      "source": []
    },
    {
      "cell_type": "markdown",
      "id": "e6c6b30b",
      "metadata": {
        "id": "e6c6b30b"
      },
      "source": [
        "> **EXERCISE:** Compute the quartiles for the net worth and age of the 100 richest people in the world using the relevant dataset from the previous section."
      ]
    },
    {
      "cell_type": "code",
      "execution_count": null,
      "id": "1f1162f0",
      "metadata": {
        "id": "1f1162f0"
      },
      "outputs": [],
      "source": []
    },
    {
      "cell_type": "code",
      "execution_count": null,
      "id": "7b587901",
      "metadata": {
        "id": "7b587901"
      },
      "outputs": [],
      "source": []
    },
    {
      "cell_type": "code",
      "execution_count": null,
      "id": "57b8603a",
      "metadata": {
        "id": "57b8603a"
      },
      "outputs": [],
      "source": []
    },
    {
      "cell_type": "code",
      "execution_count": null,
      "id": "0d1a8e67",
      "metadata": {
        "id": "0d1a8e67"
      },
      "outputs": [],
      "source": []
    },
    {
      "cell_type": "code",
      "execution_count": null,
      "id": "7b371e62",
      "metadata": {
        "id": "7b371e62"
      },
      "outputs": [],
      "source": []
    },
    {
      "cell_type": "code",
      "execution_count": null,
      "id": "6ed45e55",
      "metadata": {
        "id": "6ed45e55"
      },
      "outputs": [],
      "source": []
    },
    {
      "cell_type": "markdown",
      "id": "fa70390e",
      "metadata": {
        "id": "fa70390e"
      },
      "source": [
        ">  **EXERCISE**:  Download [this CSV file](https://gist.githubusercontent.com/aakashns/f7d8f99c391f0727270e27e157460e3a/raw/2128978f3297f39ca4237a9ff843c80dd44ca4e3/stocks_returns.csv) containing information about the returns on stock price for several public companies and compute the quartiles for the returns."
      ]
    },
    {
      "cell_type": "code",
      "execution_count": null,
      "id": "20342c27",
      "metadata": {
        "id": "20342c27"
      },
      "outputs": [],
      "source": []
    },
    {
      "cell_type": "code",
      "execution_count": null,
      "id": "989fe319",
      "metadata": {
        "id": "989fe319"
      },
      "outputs": [],
      "source": []
    },
    {
      "cell_type": "code",
      "execution_count": null,
      "id": "5455e5ec",
      "metadata": {
        "id": "5455e5ec"
      },
      "outputs": [],
      "source": []
    },
    {
      "cell_type": "markdown",
      "id": "a18fbeaa",
      "metadata": {
        "id": "a18fbeaa"
      },
      "source": [
        "### Box and Whiskers Plot"
      ]
    },
    {
      "cell_type": "code",
      "execution_count": null,
      "id": "a7d80c4d",
      "metadata": {
        "id": "a7d80c4d"
      },
      "outputs": [],
      "source": []
    },
    {
      "cell_type": "code",
      "execution_count": null,
      "id": "7c6b33a7",
      "metadata": {
        "id": "7c6b33a7"
      },
      "outputs": [],
      "source": []
    },
    {
      "cell_type": "markdown",
      "id": "09de2360",
      "metadata": {
        "id": "09de2360"
      },
      "source": [
        "> **EXERCISE:** Create a box and whiskers plot to visualize the range and quartiles for the net worth of the hundred richest people in the world."
      ]
    },
    {
      "cell_type": "code",
      "execution_count": null,
      "id": "ab18fd2a",
      "metadata": {
        "id": "ab18fd2a"
      },
      "outputs": [],
      "source": []
    },
    {
      "cell_type": "code",
      "execution_count": null,
      "id": "f040c5be",
      "metadata": {
        "id": "f040c5be"
      },
      "outputs": [],
      "source": []
    },
    {
      "cell_type": "markdown",
      "id": "6bed458b",
      "metadata": {
        "id": "6bed458b"
      },
      "source": [
        "> **EXERCISE**: Download [this CSV file](https://gist.githubusercontent.com/aakashns/f7d8f99c391f0727270e27e157460e3a/raw/2128978f3297f39ca4237a9ff843c80dd44ca4e3/stocks_returns.csv) containing information about the returns on stock price for several public companies. Create a box and whiskers plot to visualize the range and quartiles of the returns."
      ]
    },
    {
      "cell_type": "code",
      "execution_count": null,
      "id": "ac403083",
      "metadata": {
        "id": "ac403083"
      },
      "outputs": [],
      "source": []
    },
    {
      "cell_type": "code",
      "execution_count": null,
      "id": "1c058fd4",
      "metadata": {
        "id": "1c058fd4"
      },
      "outputs": [],
      "source": []
    },
    {
      "cell_type": "markdown",
      "id": "b79d75cf",
      "metadata": {
        "id": "b79d75cf"
      },
      "source": [
        "### Mode and Frequency Tables\n",
        "\n",
        "The most frequently occuring value in the set."
      ]
    },
    {
      "cell_type": "code",
      "execution_count": null,
      "id": "edcf0b6f",
      "metadata": {
        "id": "edcf0b6f"
      },
      "outputs": [],
      "source": []
    },
    {
      "cell_type": "code",
      "execution_count": null,
      "id": "ac714c94",
      "metadata": {
        "id": "ac714c94"
      },
      "outputs": [],
      "source": []
    },
    {
      "cell_type": "markdown",
      "id": "ef0a6ecc",
      "metadata": {
        "id": "ef0a6ecc"
      },
      "source": [
        "> **EXERCISE**: As a data analyst at the online streaming platform FlixNet, you've been asked to come up with a simple strategy to recommend new movies for users to watch. FlixNet allows users to connect their social accounts, so you have a list of friends for every user. You believe that users would like to watch movies which most of their friends have watched.\n",
        ">\n",
        "> To illustrate the strategy, let's look at the relevant data for one FlixNet user: Alfred. The table below shows the movies watched by friends of Alfred. We've excluded the movies Alfred has already watched from this list. This file is available as [a CSV here](https://gist.githubusercontent.com/aakashns/6b44891b426e90f771d3b147a0bb77d5/raw/9a3b8d89947c2e427b9c68454b3d66e7eae047e3/friends_movies.csv).\n",
        ">\n",
        "> Which movie should you recommend to Alfred?\n",
        ">\n",
        "> <img src=\"https://i.imgur.com/qYyTa7n.png\" width=\"240\">\n"
      ]
    },
    {
      "cell_type": "code",
      "execution_count": null,
      "id": "cec39625",
      "metadata": {
        "id": "cec39625"
      },
      "outputs": [],
      "source": []
    },
    {
      "cell_type": "code",
      "execution_count": null,
      "id": "20940b42",
      "metadata": {
        "id": "20940b42"
      },
      "outputs": [],
      "source": []
    },
    {
      "cell_type": "markdown",
      "id": "75b3e816",
      "metadata": {
        "id": "75b3e816"
      },
      "source": [
        "> **EXERCISE**: Your friend Alex designs shoes as a hobby, and you've persuaded her to start selling her shoes online. You've found a vendor who can manufacture, store and ship the shoes for you. You've requested some sample units from the vendor to inspect the quality of the shoes. However, the vendor does not manufacture fewer than 100 units of single shoe size. `Which shoe size would you like them to manufacture`?\n",
        ">\n",
        "> You may find [this CSV file](https://gist.githubusercontent.com/aakashns/0754b375153cd74350315a6eedd2841e/raw/dd399f8f779b10fce4eaa021c309ebb6d9cc974e/shoe_sizes.csv) containing a list of shoes recently sold by an online store useful."
      ]
    },
    {
      "cell_type": "code",
      "execution_count": null,
      "id": "b9f5dbef",
      "metadata": {
        "id": "b9f5dbef"
      },
      "outputs": [],
      "source": []
    },
    {
      "cell_type": "code",
      "execution_count": null,
      "id": "fe1136fe",
      "metadata": {
        "id": "fe1136fe"
      },
      "outputs": [],
      "source": []
    },
    {
      "cell_type": "markdown",
      "id": "81faa41b",
      "metadata": {
        "id": "81faa41b"
      },
      "source": [
        "So, the most frequent shoe size sold is 9, which can be a good starting size for making new shoes.   "
      ]
    },
    {
      "cell_type": "markdown",
      "id": "9f99e547",
      "metadata": {
        "id": "9f99e547"
      },
      "source": [
        "\n",
        "> **EXERCISE**: The following table shows the votes earned by candidates competiting the 2000 US Presidential Election. This table is also available [as a CSV here](https://gist.githubusercontent.com/aakashns/0f137d0fd21635f82ee1a81d8bd1a804/raw/12006b199ad5b3f4b20c853daeb8bb0e1b9847e7/us_2000_results.csv).\n",
        ">\n",
        "> <img src=\"https://i.imgur.com/f8hcMh9.png\" width=\"480\">\n",
        ">\n",
        "> *Hint*: Define a function `frequency_table_mode` which compute the mode from a frequency table."
      ]
    },
    {
      "cell_type": "code",
      "execution_count": null,
      "id": "f44cee50",
      "metadata": {
        "id": "f44cee50"
      },
      "outputs": [],
      "source": []
    },
    {
      "cell_type": "code",
      "execution_count": null,
      "id": "437da495",
      "metadata": {
        "id": "437da495"
      },
      "outputs": [],
      "source": []
    },
    {
      "cell_type": "code",
      "execution_count": null,
      "id": "ad7d0ee9",
      "metadata": {
        "id": "ad7d0ee9"
      },
      "outputs": [],
      "source": []
    },
    {
      "cell_type": "code",
      "execution_count": null,
      "id": "8bd801ca",
      "metadata": {
        "id": "8bd801ca"
      },
      "outputs": [],
      "source": []
    },
    {
      "cell_type": "markdown",
      "id": "9084e493",
      "metadata": {
        "id": "9084e493"
      },
      "source": [
        "### Skewness of Data\n",
        "\n",
        "The degree of asymmetry observed in a set of observations.\n",
        "\n",
        "* Remember: There's no one single right measure of central tendency, it is always better to look at multiple measures to form a fuller picture of distribution of values in the dataset."
      ]
    },
    {
      "cell_type": "markdown",
      "id": "6a812233",
      "metadata": {
        "id": "6a812233"
      },
      "source": [
        "> **EXERCISE**: The following table shows a summary of test scores for a class of students. 2 students scored 1 mark in the test, 3 students scored 2 marks, 8 students scored 3 marks and so on. Compute the mean, median and mode of the scores. Does the data skew towards one side or the other?\n",
        ">\n",
        "> <img src=\"https://i.imgur.com/AD7m3gJ.png\" width=\"240\">\n",
        ">\n",
        "**Solution:**"
      ]
    },
    {
      "cell_type": "markdown",
      "id": "e752cff5",
      "metadata": {
        "id": "e752cff5"
      },
      "source": [
        "- Let's first convert the frequency table to a list to use the mean and median function.\n",
        "- We  already have a function to compute the mode directly from the frequency table."
      ]
    },
    {
      "cell_type": "code",
      "execution_count": null,
      "id": "6ed32439",
      "metadata": {
        "id": "6ed32439"
      },
      "outputs": [],
      "source": []
    },
    {
      "cell_type": "code",
      "execution_count": null,
      "id": "95b66d24",
      "metadata": {
        "id": "95b66d24"
      },
      "outputs": [],
      "source": []
    },
    {
      "cell_type": "code",
      "execution_count": null,
      "id": "6fcfccec",
      "metadata": {
        "id": "6fcfccec"
      },
      "outputs": [],
      "source": []
    },
    {
      "cell_type": "code",
      "execution_count": null,
      "id": "fd9a1c97",
      "metadata": {
        "id": "fd9a1c97"
      },
      "outputs": [],
      "source": []
    },
    {
      "cell_type": "code",
      "execution_count": null,
      "id": "0057b2da",
      "metadata": {
        "id": "0057b2da"
      },
      "outputs": [],
      "source": []
    },
    {
      "cell_type": "markdown",
      "id": "162dc004",
      "metadata": {
        "id": "162dc004"
      },
      "source": [
        "The mean, median and mode are in between 5-7, so we can say that our data has a slight left skew."
      ]
    },
    {
      "cell_type": "markdown",
      "id": "a0bb87e9",
      "metadata": {
        "id": "a0bb87e9"
      },
      "source": [
        "### Measures of variability or spread:\n",
        "\n",
        "#### Variance and Standard Deviation\n"
      ]
    },
    {
      "cell_type": "markdown",
      "id": "14d8932c",
      "metadata": {
        "id": "14d8932c"
      },
      "source": [
        "> **EXERCISE:** Define function `variance` and `standard_deviation` to compute the variance of a list of numbers.\n",
        "\n",
        "> Hint: You may find the functions np.mean, np.subtract and np.square useful."
      ]
    },
    {
      "cell_type": "code",
      "execution_count": null,
      "id": "f3ce1705",
      "metadata": {
        "id": "f3ce1705"
      },
      "outputs": [],
      "source": []
    },
    {
      "cell_type": "code",
      "execution_count": null,
      "id": "b50eef6b",
      "metadata": {
        "id": "b50eef6b"
      },
      "outputs": [],
      "source": []
    },
    {
      "cell_type": "code",
      "execution_count": null,
      "id": "e155bf59",
      "metadata": {
        "id": "e155bf59"
      },
      "outputs": [],
      "source": []
    },
    {
      "cell_type": "code",
      "execution_count": null,
      "id": "bd159d10",
      "metadata": {
        "id": "bd159d10"
      },
      "outputs": [],
      "source": []
    },
    {
      "cell_type": "code",
      "execution_count": null,
      "id": "11f469c6",
      "metadata": {
        "id": "11f469c6"
      },
      "outputs": [],
      "source": []
    },
    {
      "cell_type": "code",
      "execution_count": null,
      "id": "214339a5",
      "metadata": {
        "id": "214339a5"
      },
      "outputs": [],
      "source": []
    },
    {
      "cell_type": "code",
      "execution_count": null,
      "id": "c251e62f",
      "metadata": {
        "id": "c251e62f"
      },
      "outputs": [],
      "source": []
    },
    {
      "cell_type": "markdown",
      "id": "e8eaaf30",
      "metadata": {
        "id": "e8eaaf30"
      },
      "source": [
        "> **QUESTION**: The following table shows the number of new notebooks created every day on Jovian for the past week. Calculate the variance and standard deviation of the number of notebooks created per day.\n",
        ">\n",
        "> <img src=\"https://i.imgur.com/EScHTCY.png\" width=\"200\">"
      ]
    },
    {
      "cell_type": "code",
      "execution_count": null,
      "id": "f347e7e2",
      "metadata": {
        "id": "f347e7e2"
      },
      "outputs": [],
      "source": []
    },
    {
      "cell_type": "code",
      "execution_count": null,
      "id": "984ded7f",
      "metadata": {
        "id": "984ded7f"
      },
      "outputs": [],
      "source": []
    },
    {
      "cell_type": "markdown",
      "id": "c5d19b3e",
      "metadata": {
        "id": "c5d19b3e"
      },
      "source": [
        "So, on an average we have 305 notebooks created everyday"
      ]
    },
    {
      "cell_type": "code",
      "execution_count": null,
      "id": "d41cf066",
      "metadata": {
        "id": "d41cf066"
      },
      "outputs": [],
      "source": []
    },
    {
      "cell_type": "code",
      "execution_count": null,
      "id": "b2e72ca3",
      "metadata": {
        "id": "b2e72ca3"
      },
      "outputs": [],
      "source": []
    },
    {
      "cell_type": "markdown",
      "id": "67e1cd74",
      "metadata": {
        "id": "67e1cd74"
      },
      "source": [
        "The standard deviation, tells us how far away from the mean is the data spread. So if the standard deviation i.e  37 is about 12-15% of the mean, we can say that there is a fluctuation of 12-15% in between the values of my mean."
      ]
    },
    {
      "cell_type": "code",
      "execution_count": null,
      "id": "16ffe178",
      "metadata": {
        "id": "16ffe178"
      },
      "outputs": [],
      "source": []
    },
    {
      "cell_type": "markdown",
      "id": "64a147ef",
      "metadata": {
        "id": "64a147ef"
      },
      "source": [
        "> **EXERCISE**: The following table shows the starting salary of a class of 20 geography graduates from the University of North Carolina in 1986. Person 7 is Michael Jordan, who became a professional basketball player upon graduating. Calculate the average salary for the class. Find the standard deviation of the salaries with and without Person 7 included. How different are they?\n",
        ">\n",
        "> <img src=\"https://i.imgur.com/cJHEEEt.png\" width=\"240\">\n",
        ">"
      ]
    },
    {
      "cell_type": "code",
      "execution_count": null,
      "id": "b0ea5e9a",
      "metadata": {
        "id": "b0ea5e9a"
      },
      "outputs": [],
      "source": []
    },
    {
      "cell_type": "code",
      "execution_count": null,
      "id": "b51f6864",
      "metadata": {
        "id": "b51f6864"
      },
      "outputs": [],
      "source": []
    },
    {
      "cell_type": "markdown",
      "id": "32c100e8",
      "metadata": {
        "id": "32c100e8"
      },
      "source": [
        "Which we can see is a lot higher that most data entries in this set of salaries, but to be sure of outliers we shall look at the standard deviation."
      ]
    },
    {
      "cell_type": "code",
      "execution_count": null,
      "id": "1650c9e2",
      "metadata": {
        "id": "1650c9e2"
      },
      "outputs": [],
      "source": []
    },
    {
      "cell_type": "markdown",
      "id": "03316b0c",
      "metadata": {
        "id": "03316b0c"
      },
      "source": [
        "The standard deviation is very high, meaning there may be significant outliers."
      ]
    },
    {
      "cell_type": "code",
      "execution_count": null,
      "id": "22dbadb4",
      "metadata": {
        "id": "22dbadb4"
      },
      "outputs": [],
      "source": []
    },
    {
      "cell_type": "code",
      "execution_count": null,
      "id": "16a04b1d",
      "metadata": {
        "id": "16a04b1d"
      },
      "outputs": [],
      "source": []
    },
    {
      "cell_type": "markdown",
      "id": "8cf322c4",
      "metadata": {
        "id": "8cf322c4"
      },
      "source": [
        "Now, when we exclude the outlier, the standard deviation is only about 3-5% of our average salaries for a graduate from University of North Carolina. Hence there's a 3-5% fluctuation in the salaries of other graduates on the basis of which a student can make a better decision."
      ]
    },
    {
      "cell_type": "markdown",
      "id": "ed683367",
      "metadata": {
        "id": "ed683367"
      },
      "source": [
        "> **EXERCISE**: The following table shows a summary of test scores for a class of students. 2 students scored 1 mark in the test, 3 students scored 2 marks, 8 students scored 3 marks and so on. Find the mean score and standard deviation of the score.\n",
        ">\n",
        "> <img src=\"https://i.imgur.com/AD7m3gJ.png\" width=\"240\">\n",
        ">\n",
        "> *Hint*: The `np.std` function won't do. You may find the functions `np.mean`, `np.subtract`, `np.square`, `np.sum` and `np.sqrt` useful."
      ]
    },
    {
      "cell_type": "code",
      "execution_count": null,
      "id": "d4f19c35",
      "metadata": {
        "id": "d4f19c35"
      },
      "outputs": [],
      "source": []
    },
    {
      "cell_type": "markdown",
      "id": "4c60c8ba",
      "metadata": {
        "id": "4c60c8ba"
      },
      "source": [
        "- For variance, the mean has to subtracted from each score, the number of times each score appears.Then the differences are to be added.\n",
        "- So, we are using the number of times each score appears, as weights.\n",
        "- So for the `mean` we have to find weighted average which we can easily find by `np.average(values, weights)`."
      ]
    },
    {
      "cell_type": "code",
      "execution_count": null,
      "id": "d7b303d5",
      "metadata": {
        "id": "d7b303d5"
      },
      "outputs": [],
      "source": []
    },
    {
      "cell_type": "markdown",
      "id": "bc3e64ef",
      "metadata": {
        "id": "bc3e64ef"
      },
      "source": [
        "- Now, we have to `subtract each score from the average mean` that we just found out and square them."
      ]
    },
    {
      "cell_type": "code",
      "execution_count": null,
      "id": "f0eaab55",
      "metadata": {
        "id": "f0eaab55"
      },
      "outputs": [],
      "source": []
    },
    {
      "cell_type": "markdown",
      "id": "349e4498",
      "metadata": {
        "id": "349e4498"
      },
      "source": [
        "- Next, we can find the `variance` by adding up these differences according to the weights and finding there mean, so once again using np.average."
      ]
    },
    {
      "cell_type": "code",
      "execution_count": null,
      "id": "5b689686",
      "metadata": {
        "id": "5b689686"
      },
      "outputs": [],
      "source": []
    },
    {
      "cell_type": "markdown",
      "id": "553387e4",
      "metadata": {
        "id": "553387e4"
      },
      "source": [
        "- Now for `standard deviation`, we can just find the square root of the variance!"
      ]
    },
    {
      "cell_type": "code",
      "execution_count": null,
      "id": "a4f9698e",
      "metadata": {
        "id": "a4f9698e"
      },
      "outputs": [],
      "source": []
    },
    {
      "cell_type": "markdown",
      "id": "487c39c0",
      "metadata": {
        "id": "487c39c0"
      },
      "source": [
        "So, you can observe that most values lie around 2 above or 2 below from our mean."
      ]
    },
    {
      "cell_type": "markdown",
      "id": "4d218071",
      "metadata": {
        "id": "4d218071"
      },
      "source": [
        "\n",
        "## Growth and Average Growth Rates\n"
      ]
    },
    {
      "cell_type": "markdown",
      "id": "82e57ac9",
      "metadata": {
        "id": "82e57ac9"
      },
      "source": [
        "\n",
        "> **QUESTION**: The table below shows the total number of registered users on Jovian at the end of each month, over the past 6 months. Compute the percentage of growth in registered users each month.\n",
        "\n",
        "\n",
        "<img src=\"https://i.imgur.com/z1UdIGT.png\" width=\"300\">"
      ]
    },
    {
      "cell_type": "code",
      "execution_count": null,
      "id": "7d318f93",
      "metadata": {
        "id": "7d318f93"
      },
      "outputs": [],
      "source": []
    },
    {
      "cell_type": "code",
      "execution_count": null,
      "id": "665a46b9",
      "metadata": {
        "id": "665a46b9"
      },
      "outputs": [],
      "source": []
    },
    {
      "cell_type": "code",
      "execution_count": null,
      "id": "438e059a",
      "metadata": {
        "id": "438e059a"
      },
      "outputs": [],
      "source": []
    },
    {
      "cell_type": "code",
      "execution_count": null,
      "id": "ef21df86",
      "metadata": {
        "id": "ef21df86"
      },
      "outputs": [],
      "source": []
    },
    {
      "cell_type": "code",
      "execution_count": null,
      "id": "4de4da6a",
      "metadata": {
        "id": "4de4da6a"
      },
      "outputs": [],
      "source": []
    },
    {
      "cell_type": "code",
      "execution_count": null,
      "id": "5e522ada",
      "metadata": {
        "id": "5e522ada"
      },
      "outputs": [],
      "source": []
    },
    {
      "cell_type": "code",
      "execution_count": null,
      "id": "db6110ca",
      "metadata": {
        "id": "db6110ca"
      },
      "outputs": [],
      "source": []
    },
    {
      "cell_type": "markdown",
      "id": "69d9a11b",
      "metadata": {
        "id": "69d9a11b"
      },
      "source": [
        "### Projecting Forward"
      ]
    },
    {
      "cell_type": "code",
      "execution_count": null,
      "id": "40d6d21b",
      "metadata": {
        "id": "40d6d21b"
      },
      "outputs": [],
      "source": []
    },
    {
      "cell_type": "markdown",
      "id": "d12daf38",
      "metadata": {
        "id": "d12daf38"
      },
      "source": [
        "### Compound Annual Growth Rate (CAGR)"
      ]
    },
    {
      "cell_type": "markdown",
      "id": "bc8979e6",
      "metadata": {
        "id": "bc8979e6"
      },
      "source": [
        "> **EXERCISE:** Find the Compound Annual Growth Rate (CAGR) of India's population using the population data 2015-2020 [available here](https://www.statista.com/statistics/263766/total-population-of-india/) and project it forward to predict the population of India in 2030.\n",
        "\n",
        "Below are the population changes in India from 2015 to 2020. So each entry represents the yearly population growth  in millions."
      ]
    },
    {
      "cell_type": "code",
      "execution_count": null,
      "id": "54d9fe92",
      "metadata": {
        "id": "54d9fe92"
      },
      "outputs": [],
      "source": []
    },
    {
      "cell_type": "code",
      "execution_count": null,
      "id": "b01c151e",
      "metadata": {
        "id": "b01c151e"
      },
      "outputs": [],
      "source": []
    },
    {
      "cell_type": "code",
      "execution_count": null,
      "id": "3602c3e2",
      "metadata": {
        "id": "3602c3e2"
      },
      "outputs": [],
      "source": []
    },
    {
      "cell_type": "markdown",
      "id": "fe9e7a04",
      "metadata": {
        "id": "fe9e7a04"
      },
      "source": [
        "- Let's project our value for 10 years ahead - 2030.\n",
        "- But we have our average monthly growth rate for monthly populations, so we take periods in months and not years."
      ]
    },
    {
      "cell_type": "code",
      "execution_count": null,
      "id": "918364a1",
      "metadata": {
        "id": "918364a1"
      },
      "outputs": [],
      "source": []
    },
    {
      "cell_type": "markdown",
      "id": "da1786fb",
      "metadata": {
        "id": "da1786fb"
      },
      "source": [
        "> **EXERCISE**: The table below shows the total no. of goals scored in the FIFA Soccer World Cup 2018 by teams participating in the tournament. 12 teams scored a total of 2 goals each in the tournament, 4 teams scored a total of 3 goals each, 1 team scored a total of 4 goals, 2 teams scored a total of 6 goals each and so on.\n",
        ">\n",
        "> <img src=\"https://i.imgur.com/4DwHIam.png\" width=\"240\">\n",
        ">\n",
        "> Answer the following questions using the above data:\n",
        "> 1. Find the total number of goals scored in the tournament.\n",
        "> 2. Find the total number of teams in the tournament.\n",
        "> 3. Find the average number of goals scored by a team in the tournament.\n",
        "> 4. Find the median number of goals scored by a team in the tournament.\n",
        "> 5. Find the range and quartiles for the number of goals scored by a team in the tournament.\n",
        "> 5. Find the mode of the number of goals scored by a team in the tournament.\n",
        "> 6. What is the maximum number of goals scored by a team in the tournament?\n",
        "> 7. What is the minimum number of goals scored by a team in the tournament?\n",
        "> 8. Find the standard deviation of the number of goals scored by a team in the tournament?\n",
        "> 9. If you pick one of the teams who participated in the tournament at random, what is the probability that team has scored less than three goals in the tournament?\n",
        ">\n",
        "> 10. Find the average number of goals scored per match in the tournament?\n",
        ">\n",
        "> The table is also available as a CSV file [here](https://gist.githubusercontent.com/aakashns/80896b90166ac9e81fb3e11f15ba3dd3/raw/95f8d847a82f46566cd45fbd7a72b046e2b52a5c/gistfile1.txt).\n"
      ]
    },
    {
      "cell_type": "code",
      "execution_count": null,
      "id": "54e6f662",
      "metadata": {
        "id": "54e6f662"
      },
      "outputs": [],
      "source": []
    },
    {
      "cell_type": "code",
      "execution_count": null,
      "id": "6ab2d35c",
      "metadata": {
        "id": "6ab2d35c"
      },
      "outputs": [],
      "source": []
    },
    {
      "cell_type": "code",
      "execution_count": null,
      "id": "4d3e16ba",
      "metadata": {
        "id": "4d3e16ba"
      },
      "outputs": [],
      "source": []
    },
    {
      "cell_type": "code",
      "execution_count": null,
      "id": "ddd36aa7",
      "metadata": {
        "id": "ddd36aa7"
      },
      "outputs": [],
      "source": []
    },
    {
      "cell_type": "code",
      "execution_count": null,
      "id": "4544b08e",
      "metadata": {
        "id": "4544b08e"
      },
      "outputs": [],
      "source": []
    },
    {
      "cell_type": "code",
      "execution_count": null,
      "id": "ba8a5b28",
      "metadata": {
        "id": "ba8a5b28"
      },
      "outputs": [],
      "source": []
    },
    {
      "cell_type": "code",
      "execution_count": null,
      "id": "261c3785",
      "metadata": {
        "id": "261c3785"
      },
      "outputs": [],
      "source": []
    },
    {
      "cell_type": "code",
      "execution_count": null,
      "id": "3df5b741",
      "metadata": {
        "id": "3df5b741"
      },
      "outputs": [],
      "source": []
    },
    {
      "cell_type": "code",
      "execution_count": null,
      "id": "6b1bb3d5",
      "metadata": {
        "id": "6b1bb3d5"
      },
      "outputs": [],
      "source": []
    },
    {
      "cell_type": "code",
      "execution_count": null,
      "id": "2c6151db",
      "metadata": {
        "id": "2c6151db"
      },
      "outputs": [],
      "source": []
    },
    {
      "cell_type": "code",
      "execution_count": null,
      "id": "1815404b",
      "metadata": {
        "id": "1815404b"
      },
      "outputs": [],
      "source": []
    },
    {
      "cell_type": "code",
      "execution_count": null,
      "id": "988cc5e4",
      "metadata": {
        "id": "988cc5e4"
      },
      "outputs": [],
      "source": []
    },
    {
      "cell_type": "markdown",
      "id": "61740338",
      "metadata": {
        "id": "61740338"
      },
      "source": [
        "Insufficient information provided"
      ]
    }
  ],
  "metadata": {
    "kernelspec": {
      "display_name": "Python 3 (ipykernel)",
      "language": "python",
      "name": "python3"
    },
    "language_info": {
      "codemirror_mode": {
        "name": "ipython",
        "version": 3
      },
      "file_extension": ".py",
      "mimetype": "text/x-python",
      "name": "python",
      "nbconvert_exporter": "python",
      "pygments_lexer": "ipython3",
      "version": "3.9.6"
    },
    "colab": {
      "provenance": [],
      "include_colab_link": true
    }
  },
  "nbformat": 4,
  "nbformat_minor": 5
}