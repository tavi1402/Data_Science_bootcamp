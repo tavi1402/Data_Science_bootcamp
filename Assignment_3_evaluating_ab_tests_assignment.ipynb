{
  "cells": [
    {
      "cell_type": "markdown",
      "metadata": {
        "id": "view-in-github",
        "colab_type": "text"
      },
      "source": [
        "<a href=\"https://colab.research.google.com/github/tavi1402/Data_Science_bootcamp/blob/main/Assignment_3_evaluating_ab_tests_assignment.ipynb\" target=\"_parent\"><img src=\"https://colab.research.google.com/assets/colab-badge.svg\" alt=\"Open In Colab\"/></a>"
      ]
    },
    {
      "cell_type": "markdown",
      "id": "greatest-climate",
      "metadata": {
        "id": "greatest-climate"
      },
      "source": [
        "# Assignment - Evaluating A/B Tests\n",
        "\n",
        "As you go through this notebook, you will find the symbol **???** in certain places. To complete this assignment, you must replace all the **???** with appropriate values, expressions, or statements to ensure that the notebook runs properly end-to-end.\n",
        "\n",
        "**Guidelines**\n",
        "\n",
        "1. Make sure to run all the code cells in order. Otherwise, you may get errors like `NameError` for undefined variables.\n",
        "2. Do not change variable names, delete cells, or disturb other existing code. It may cause problems during evaluation.\n",
        "3. In some cases, you may need to add some code cells or new statements before or after the line of code containing the **???**.\n",
        "4. Since you'll be using a temporary online service for code execution, save your work by running `jovian.commit` at regular intervals.\n",
        "5. Questions marked **(Optional)** will not be considered for evaluation and can be skipped. They are for your learning.\n",
        "6. If you are stuck, you can ask for help on the bootcamp Slack group. Post errors, ask for hints, and help others, but **please don't share the complete solution code on Slack** to give others a chance to write the code themselves.\n",
        "7. There are some tests included with this notebook to help you test your implementation. However, after submission, your code will be tested with some hidden test cases. Make sure to test your code exhaustively to cover all edge cases.\n",
        "\n"
      ]
    },
    {
      "cell_type": "markdown",
      "id": "official-hundred",
      "metadata": {
        "id": "official-hundred"
      },
      "source": [
        "### How to Run the Code and Save Your Work\n",
        "\n",
        "**Option 1: Running using free online resources (1-click, recommended)**: Click the **Run** button at the top of this page and select **Run on Binder**. You can also select \"Run on Colab\" or \"Run on Kaggle\", but you'll need to create an account on [Google Colab](https://colab.research.google.com) or [Kaggle](https://kaggle.com) to use these platforms.\n",
        "\n",
        "\n",
        "**Option 2: Running on your computer locally**: To run the code on your computer locally, you'll need to set up [Python](https://www.python.org) & [Conda](https://docs.conda.io/projects/conda/en/latest/user-guide/install/), download the notebook and install the required libraries. Click the **Run** button at the top of this page, select the **Run Locally** option, and follow the instructions.\n",
        "\n",
        "**Saving your work**: You can save a snapshot of the assignment to your [Jovian](https://jovian.ai) profile, so that you can access it later and continue your work. Keep saving your work by running `jovian.commit` from time to time."
      ]
    },
    {
      "cell_type": "code",
      "execution_count": null,
      "id": "express-drill",
      "metadata": {
        "id": "express-drill"
      },
      "outputs": [],
      "source": [
        "project_name='evaluating-ab-tests-assignment'"
      ]
    },
    {
      "cell_type": "code",
      "execution_count": null,
      "id": "confidential-ending",
      "metadata": {
        "id": "confidential-ending"
      },
      "outputs": [],
      "source": [
        "!pip install jovian --upgrade --quiet"
      ]
    },
    {
      "cell_type": "code",
      "execution_count": null,
      "id": "spatial-observation",
      "metadata": {
        "id": "spatial-observation"
      },
      "outputs": [],
      "source": [
        "import jovian"
      ]
    },
    {
      "cell_type": "code",
      "execution_count": null,
      "id": "anonymous-annex",
      "metadata": {
        "id": "anonymous-annex",
        "outputId": "906d48df-aef0-4b78-c1d3-2ec8195e622c"
      },
      "outputs": [
        {
          "data": {
            "application/javascript": [
              "window.require && require([\"base/js/namespace\"],function(Jupyter){Jupyter.notebook.save_checkpoint()})"
            ],
            "text/plain": [
              "<IPython.core.display.Javascript object>"
            ]
          },
          "metadata": {},
          "output_type": "display_data"
        },
        {
          "name": "stdout",
          "output_type": "stream",
          "text": [
            "[jovian] Attempting to save notebook..\u001b[0m\n",
            "[jovian] Creating a new project \"aakashns/evaluating-ab-tests-assignment\"\u001b[0m\n",
            "[jovian] Uploading notebook..\u001b[0m\n",
            "[jovian] Capturing environment..\u001b[0m\n",
            "[jovian] Committed successfully! https://jovian.ai/aakashns/evaluating-ab-tests-assignment\u001b[0m\n"
          ]
        },
        {
          "data": {
            "text/plain": [
              "'https://jovian.ai/aakashns/evaluating-ab-tests-assignment'"
            ]
          },
          "execution_count": 8,
          "metadata": {},
          "output_type": "execute_result"
        }
      ],
      "source": [
        "jovian.commit(project=project_name, privacy='secret')"
      ]
    },
    {
      "cell_type": "markdown",
      "id": "magnetic-voluntary",
      "metadata": {
        "id": "magnetic-voluntary"
      },
      "source": [
        "Let's import some modules which might be useful later."
      ]
    },
    {
      "cell_type": "code",
      "execution_count": null,
      "id": "other-shakespeare",
      "metadata": {
        "id": "other-shakespeare"
      },
      "outputs": [],
      "source": [
        "import math\n",
        "import numpy as np\n",
        "from scipy.stats import norm"
      ]
    },
    {
      "cell_type": "markdown",
      "id": "timely-builder",
      "metadata": {
        "id": "timely-builder"
      },
      "source": [
        "## Problem Statement - A/B Testing\n",
        "\n",
        "> **QUESTION**: In preparation for the upcoming batch of the Zero to Data Analyst Bootcamp, the Jovian team is looking to improve the course registration page. In particular, we're interested in trying out two variations of the banner text:\n",
        ">\n",
        "> ![](https://i.imgur.com/cSu1RI3.png)\n",
        ">\n",
        "> Variant A is what we've used for previous batches, while Variant B is the proposed \"improved\" version. Instead of choosing one or the other, we decided to test out both options by showing different versions of the page to different website visitors (hence the name A/B Testing), and make a data driven decision.\n",
        ">\n",
        "> Over a week of testing, Variant A was shown to 85% of visitors who came to the site, and Variant B was shown to 15% of visitors. Here are the results produced by the experiment:\n",
        ">\n",
        "> <img src=\"https://i.imgur.com/ym1Os3U.png\" width=\"360\">\n",
        ">\n",
        "> Does Variant B produce a statistically significant improvement in the conversion rate? Should we switch to variant B and discard variant A completely? Use a significance level of 0.01 for the test."
      ]
    },
    {
      "cell_type": "markdown",
      "id": "stupid-function",
      "metadata": {
        "id": "stupid-function"
      },
      "source": [
        "### Step 1. State the Null Hypothesis And the Alternate Hypothesis\n",
        "\n",
        "The number we're interested in is the average conversion rate i.e. the percentage of website visitors that registered for the program.\n",
        "\n",
        "(Optional) State the null hypothesis and the alternate hypothesis in your own words:\n",
        "\n",
        "- **Null Hypothesis**: ???\n",
        "\n",
        "- **Alternate Hypothesis**: ???\n",
        "\n",
        "The two hypotheses can be stated mathematically as follows (can you see why?):\n",
        "\n",
        "$H_0: \\mu \\le 52/17000$\n",
        "\n",
        "$H_1: \\mu > 52/17000$\n",
        "\n",
        "Here, $\\mu$ represents the average conversion rate. We'll start by assuming that the null hypothesis is true.\n",
        "\n"
      ]
    },
    {
      "cell_type": "code",
      "execution_count": null,
      "id": "fleet-jones",
      "metadata": {
        "id": "fleet-jones"
      },
      "outputs": [],
      "source": []
    },
    {
      "cell_type": "code",
      "execution_count": null,
      "id": "vocal-bouquet",
      "metadata": {
        "id": "vocal-bouquet"
      },
      "outputs": [],
      "source": []
    },
    {
      "cell_type": "markdown",
      "id": "colored-guidance",
      "metadata": {
        "id": "colored-guidance"
      },
      "source": [
        "Let's save our work before continuing"
      ]
    },
    {
      "cell_type": "code",
      "execution_count": null,
      "id": "conditional-blanket",
      "metadata": {
        "id": "conditional-blanket",
        "outputId": "45d78822-26de-474e-8ca8-aef03b5de032"
      },
      "outputs": [
        {
          "data": {
            "application/javascript": [
              "window.require && require([\"base/js/namespace\"],function(Jupyter){Jupyter.notebook.save_checkpoint()})"
            ],
            "text/plain": [
              "<IPython.core.display.Javascript object>"
            ]
          },
          "metadata": {},
          "output_type": "display_data"
        },
        {
          "name": "stdout",
          "output_type": "stream",
          "text": [
            "[jovian] Attempting to save notebook..\u001b[0m\n",
            "[jovian] Updating notebook \"aakashns/evaluating-ab-tests-assignment\" on https://jovian.ai/\u001b[0m\n",
            "[jovian] Uploading notebook..\u001b[0m\n",
            "[jovian] Capturing environment..\u001b[0m\n",
            "[jovian] Committed successfully! https://jovian.ai/aakashns/evaluating-ab-tests-assignment\u001b[0m\n"
          ]
        },
        {
          "data": {
            "text/plain": [
              "'https://jovian.ai/aakashns/evaluating-ab-tests-assignment'"
            ]
          },
          "execution_count": 9,
          "metadata": {},
          "output_type": "execute_result"
        }
      ],
      "source": [
        "jovian.commit()"
      ]
    },
    {
      "cell_type": "markdown",
      "id": "quarterly-venue",
      "metadata": {
        "id": "quarterly-venue"
      },
      "source": [
        "### Step 2. Compute the Z Statistic\n",
        "\n",
        "\n",
        "<img src=\"https://i.imgur.com/AUJX4qi.png\" width=\"120\">\n",
        "\n",
        "where:\n",
        "\n",
        "* $\\overline{X}$ is the sample mean (computed using the observed values)\n",
        "* $\\mu$ is the population mean (stated in the null hypothesis)\n",
        "* $\\sigma$ is the population standard deviation (if unavailable, use sample standard deviation as an approximation)\n",
        "* $n$ is the number of samples collected\n",
        "\n"
      ]
    },
    {
      "cell_type": "code",
      "execution_count": null,
      "id": "handled-serial",
      "metadata": {
        "id": "handled-serial"
      },
      "outputs": [],
      "source": []
    },
    {
      "cell_type": "markdown",
      "id": "stone-kennedy",
      "metadata": {
        "id": "stone-kennedy"
      },
      "source": [
        "> **QUESTION 1**: Compute the sample mean (conversion rate) $\\overline{X}$ using the observations for Variant B."
      ]
    },
    {
      "cell_type": "code",
      "execution_count": null,
      "id": "editorial-prophet",
      "metadata": {
        "id": "editorial-prophet"
      },
      "outputs": [],
      "source": [
        "sample_mean = ???"
      ]
    },
    {
      "cell_type": "code",
      "execution_count": null,
      "id": "engaged-finder",
      "metadata": {
        "id": "engaged-finder"
      },
      "outputs": [],
      "source": [
        "print('The sample mean is', sample_mean)"
      ]
    },
    {
      "cell_type": "code",
      "execution_count": null,
      "id": "signed-bacon",
      "metadata": {
        "id": "signed-bacon"
      },
      "outputs": [],
      "source": []
    },
    {
      "cell_type": "markdown",
      "id": "atomic-alberta",
      "metadata": {
        "id": "atomic-alberta"
      },
      "source": [
        "> **QUESTION 2**: Estimate the population mean (conversion rate) $\\mu$ using the observations for Variant A"
      ]
    },
    {
      "cell_type": "code",
      "execution_count": null,
      "id": "graduate-gross",
      "metadata": {
        "id": "graduate-gross"
      },
      "outputs": [],
      "source": [
        "population_mean = ???"
      ]
    },
    {
      "cell_type": "code",
      "execution_count": null,
      "id": "occupied-suite",
      "metadata": {
        "id": "occupied-suite"
      },
      "outputs": [],
      "source": [
        "print('The population mean is', population_mean)"
      ]
    },
    {
      "cell_type": "code",
      "execution_count": null,
      "id": "apart-shore",
      "metadata": {
        "id": "apart-shore"
      },
      "outputs": [],
      "source": []
    },
    {
      "cell_type": "markdown",
      "id": "distinct-attention",
      "metadata": {
        "id": "distinct-attention"
      },
      "source": [
        "Note that the act of a visitor visiting is a Bernoulli trial. There are two possible outcomes: the visitor registers (success) or the visitor does not register (failure). The conversion rate indicates the probability of success (i.e. registration).\n",
        "\n",
        "As this discussed in the lesson on [Hypothesis Testing](https://jovian.ai/aakashns/hypothesis-testing-and-statistical-significance), the population standard deviation for a Bernoulli trial can be computed as $\\sigma = \\sqrt{\\mu(1 - \\mu}$.\n",
        "\n",
        "> **QUESTION 3**: Compute the population standard deviation $\\sigma$ using the formula $\\sigma = \\sqrt{\\mu(1 - \\mu}$, where $\\mu$ is population mean (conversion rate)."
      ]
    },
    {
      "cell_type": "code",
      "execution_count": null,
      "id": "animal-hormone",
      "metadata": {
        "id": "animal-hormone"
      },
      "outputs": [],
      "source": [
        "std = ???"
      ]
    },
    {
      "cell_type": "code",
      "execution_count": null,
      "id": "sustainable-camera",
      "metadata": {
        "id": "sustainable-camera"
      },
      "outputs": [],
      "source": [
        "print('The population standard deviation is', std)"
      ]
    },
    {
      "cell_type": "code",
      "execution_count": null,
      "id": "about-hawaii",
      "metadata": {
        "id": "about-hawaii"
      },
      "outputs": [],
      "source": []
    },
    {
      "cell_type": "markdown",
      "id": "connected-swaziland",
      "metadata": {
        "id": "connected-swaziland"
      },
      "source": [
        "> **QUESTION 3**: What is the sample size of the set of observations for Variant B?"
      ]
    },
    {
      "cell_type": "code",
      "execution_count": null,
      "id": "beginning-consent",
      "metadata": {
        "id": "beginning-consent"
      },
      "outputs": [],
      "source": [
        "sample_size = ???"
      ]
    },
    {
      "cell_type": "code",
      "execution_count": null,
      "id": "minus-great",
      "metadata": {
        "id": "minus-great"
      },
      "outputs": [],
      "source": [
        "print('The sample size is', sample_size)"
      ]
    },
    {
      "cell_type": "code",
      "execution_count": null,
      "id": "specified-guatemala",
      "metadata": {
        "id": "specified-guatemala"
      },
      "outputs": [],
      "source": []
    },
    {
      "cell_type": "markdown",
      "id": "advanced-screening",
      "metadata": {
        "id": "advanced-screening"
      },
      "source": [
        "We are now ready to compute the Z statistic.\n",
        "\n",
        "<img src=\"https://i.imgur.com/AUJX4qi.png\" width=\"120\">\n",
        "\n",
        "where:\n",
        "\n",
        "* $\\overline{X}$ is the sample mean (computed using the observed values)\n",
        "* $\\mu$ is the population mean (stated in the null hypothesis)\n",
        "* $\\sigma$ is the population standard deviation (if unavailable, use sample standard deviation as an approximation)\n",
        "* $n$ is the number of samples collected\n",
        "\n",
        "\n",
        "> **QUESTION 4**: Compute the Z statistic using the above formula."
      ]
    },
    {
      "cell_type": "code",
      "execution_count": null,
      "id": "fluid-updating",
      "metadata": {
        "id": "fluid-updating"
      },
      "outputs": [],
      "source": [
        "z_statistic = ???"
      ]
    },
    {
      "cell_type": "code",
      "execution_count": null,
      "id": "exciting-stationery",
      "metadata": {
        "id": "exciting-stationery"
      },
      "outputs": [],
      "source": [
        "print('The Z statistic for the A/B test is', z_statistic)"
      ]
    },
    {
      "cell_type": "code",
      "execution_count": null,
      "id": "integrated-supplement",
      "metadata": {
        "id": "integrated-supplement"
      },
      "outputs": [],
      "source": []
    },
    {
      "cell_type": "markdown",
      "id": "micro-classification",
      "metadata": {
        "id": "micro-classification"
      },
      "source": [
        "Let's save our work before continuing"
      ]
    },
    {
      "cell_type": "code",
      "execution_count": null,
      "id": "accompanied-newfoundland",
      "metadata": {
        "id": "accompanied-newfoundland",
        "outputId": "44f4cd9e-8ca3-4112-8c60-a361add7bd85"
      },
      "outputs": [
        {
          "data": {
            "application/javascript": [
              "window.require && require([\"base/js/namespace\"],function(Jupyter){Jupyter.notebook.save_checkpoint()})"
            ],
            "text/plain": [
              "<IPython.core.display.Javascript object>"
            ]
          },
          "metadata": {},
          "output_type": "display_data"
        },
        {
          "name": "stdout",
          "output_type": "stream",
          "text": [
            "[jovian] Attempting to save notebook..\u001b[0m\n"
          ]
        }
      ],
      "source": [
        "jovian.commit()"
      ]
    },
    {
      "cell_type": "markdown",
      "id": "honest-packet",
      "metadata": {
        "id": "honest-packet"
      },
      "source": [
        "### Step 3. Identify whether the test is left-tailed, right-tailed or two-tailed\n",
        "\n",
        "Use this chart to identify whether you're doing a left-tailed, right-tailed or two-tailed test:\n",
        "\n",
        "![](https://i.imgur.com/rtLYm3c.png)\n",
        "\n",
        "> **QUESTION 5**: Is the A/B test we're conducting left-tailed, right-tailed or two-tailed? Set the value of the variable `test_type` to `\"left-tailed\"`, `\"right-tailed\"` or `\"two-tailed\"` to answer this question."
      ]
    },
    {
      "cell_type": "code",
      "execution_count": null,
      "id": "minimal-regulation",
      "metadata": {
        "id": "minimal-regulation"
      },
      "outputs": [],
      "source": [
        "# Should have the value \"left-tailed\", \"right-tailed\" or \"two-tailed\"\n",
        "test_type = ???"
      ]
    },
    {
      "cell_type": "code",
      "execution_count": null,
      "id": "liberal-presentation",
      "metadata": {
        "id": "liberal-presentation"
      },
      "outputs": [],
      "source": [
        "print(\"The A/B test we're conducting is a {} test\".format(test_type))"
      ]
    },
    {
      "cell_type": "code",
      "execution_count": null,
      "id": "dimensional-klein",
      "metadata": {
        "id": "dimensional-klein"
      },
      "outputs": [],
      "source": []
    },
    {
      "cell_type": "markdown",
      "id": "french-dominican",
      "metadata": {
        "id": "french-dominican"
      },
      "source": [
        "Let's save our work before continuing"
      ]
    },
    {
      "cell_type": "code",
      "execution_count": null,
      "id": "continental-philip",
      "metadata": {
        "id": "continental-philip",
        "outputId": "b61903ba-48f4-45d6-edb9-625dccb1a103"
      },
      "outputs": [
        {
          "data": {
            "application/javascript": [
              "window.require && require([\"base/js/namespace\"],function(Jupyter){Jupyter.notebook.save_checkpoint()})"
            ],
            "text/plain": [
              "<IPython.core.display.Javascript object>"
            ]
          },
          "metadata": {},
          "output_type": "display_data"
        },
        {
          "name": "stdout",
          "output_type": "stream",
          "text": [
            "[jovian] Attempting to save notebook..\u001b[0m\n",
            "[jovian] Updating notebook \"aakashns/evaluating-ab-tests-assignment\" on https://jovian.ai/\u001b[0m\n",
            "[jovian] Uploading notebook..\u001b[0m\n",
            "[jovian] Capturing environment..\u001b[0m\n"
          ]
        }
      ],
      "source": [
        "jovian.commit()"
      ]
    },
    {
      "cell_type": "markdown",
      "id": "alleged-cosmetic",
      "metadata": {
        "id": "alleged-cosmetic"
      },
      "source": [
        "### Step 4. Calculate the $p$ value using the Z statistic\n",
        "\n",
        "The $p$ value for a statistical test is the the probability of obtaining a sample “equally or more extreme” than the observed data, assuming that the null hypothesis is true. Use the following guidelines to compute the p-value:\n",
        "\n",
        "* **Left tailed**: In this case, the Z statistic is negative, and the p-value is the area to the left of the observed Z statistic, so it can be computed simply as `norm.cdf(z)`\n",
        "\n",
        "* **Right tailed**: In this case, the Z statistic is positive, and the value p-value is the area to the right of the observed Z statistic, so it can be computed as `1 - norm.cdf(z)` (since the total area under the curve representing the probability of all possible z values is 1).\n",
        "\n",
        "* **Two tailed**: In this case, we need to consider both the positive and negative values of the Z statistic. The p-value is the sum of the area to the left of the negative Z statistic and the area to the right of the positive z statistic, so it can be computed as `norm.cdf(-z)` + `1 - norm.cdf(z)` (where `z` indicates the absolute value of the Z statistic)"
      ]
    },
    {
      "cell_type": "markdown",
      "id": "romantic-laundry",
      "metadata": {
        "id": "romantic-laundry"
      },
      "source": [
        "> **QUESTION 6**: Compute the $p$ value for the A/B test described in the problem statement above."
      ]
    },
    {
      "cell_type": "code",
      "execution_count": null,
      "id": "comfortable-criminal",
      "metadata": {
        "id": "comfortable-criminal"
      },
      "outputs": [],
      "source": [
        "p_value = ???"
      ]
    },
    {
      "cell_type": "code",
      "execution_count": null,
      "id": "seasonal-heavy",
      "metadata": {
        "id": "seasonal-heavy"
      },
      "outputs": [],
      "source": [
        "print('The p value for the A/B test is', p_value)"
      ]
    },
    {
      "cell_type": "code",
      "execution_count": null,
      "id": "least-recognition",
      "metadata": {
        "id": "least-recognition"
      },
      "outputs": [],
      "source": []
    },
    {
      "cell_type": "markdown",
      "id": "cloudy-prime",
      "metadata": {
        "id": "cloudy-prime"
      },
      "source": [
        "> **QUESTION 7**: Are the results of the A/B test statistically significant? Use a significance level of 0.01."
      ]
    },
    {
      "cell_type": "code",
      "execution_count": null,
      "id": "inner-capture",
      "metadata": {
        "id": "inner-capture"
      },
      "outputs": [],
      "source": [
        "# Should be set to True or False\n",
        "is_significant = ???"
      ]
    },
    {
      "cell_type": "code",
      "execution_count": null,
      "id": "resident-consensus",
      "metadata": {
        "id": "resident-consensus"
      },
      "outputs": [],
      "source": [
        "if is_significant:\n",
        "    print('The results of the A/B test are statistically significant')\n",
        "else:\n",
        "    print('The results of the A/B test are NOT statistically significant')"
      ]
    },
    {
      "cell_type": "code",
      "execution_count": null,
      "id": "individual-routine",
      "metadata": {
        "id": "individual-routine"
      },
      "outputs": [],
      "source": []
    },
    {
      "cell_type": "markdown",
      "id": "composite-watts",
      "metadata": {
        "id": "composite-watts"
      },
      "source": [
        "### Computing Uplift and Confidence Level\n",
        "\n",
        "Uplift is defined as the ratio of increase in the  \n",
        "\n",
        "\n",
        "Uplift = (New conversion rate - Old Conversion Rate) / Old Conversion Rate\n",
        "\n",
        "> **QUESTION 8**: Compute the uplift in conversion due to Variant B. Use Variant A to compute the old conversion rate"
      ]
    },
    {
      "cell_type": "code",
      "execution_count": null,
      "id": "enhanced-ribbon",
      "metadata": {
        "id": "enhanced-ribbon"
      },
      "outputs": [],
      "source": [
        "uplift = ???"
      ]
    },
    {
      "cell_type": "code",
      "execution_count": null,
      "id": "exclusive-russian",
      "metadata": {
        "id": "exclusive-russian"
      },
      "outputs": [],
      "source": [
        "print(uplift)"
      ]
    },
    {
      "cell_type": "markdown",
      "id": "horizontal-basin",
      "metadata": {
        "id": "horizontal-basin"
      },
      "source": [
        "> **QUESTION 9**: Compute the confidence level of the results."
      ]
    },
    {
      "cell_type": "code",
      "execution_count": null,
      "id": "unavailable-lecture",
      "metadata": {
        "id": "unavailable-lecture"
      },
      "outputs": [],
      "source": [
        "confidence_level = ???"
      ]
    },
    {
      "cell_type": "code",
      "execution_count": null,
      "id": "broken-morocco",
      "metadata": {
        "id": "broken-morocco"
      },
      "outputs": [],
      "source": [
        "print(confidence_level)"
      ]
    },
    {
      "cell_type": "code",
      "execution_count": null,
      "id": "increasing-impression",
      "metadata": {
        "id": "increasing-impression"
      },
      "outputs": [],
      "source": []
    },
    {
      "cell_type": "code",
      "execution_count": null,
      "id": "frozen-subscriber",
      "metadata": {
        "id": "frozen-subscriber"
      },
      "outputs": [],
      "source": []
    },
    {
      "cell_type": "markdown",
      "id": "forced-transsexual",
      "metadata": {
        "id": "forced-transsexual"
      },
      "source": [
        "Let's save our work before continuing"
      ]
    },
    {
      "cell_type": "markdown",
      "id": "74f43295",
      "metadata": {
        "id": "74f43295"
      },
      "source": [
        "## LeetCode Problems"
      ]
    },
    {
      "cell_type": "markdown",
      "id": "804bf6b7",
      "metadata": {
        "id": "804bf6b7"
      },
      "source": [
        "### [**Problem 2185**](https://leetcode.com/problems/counting-words-with-a-given-prefix/) - **Counting Words With a Given Prefix**\n",
        "\n",
        "You are given an array of strings `words` and a string `pref`.\n",
        "\n",
        "Return the number of strings in `words` that contain `pref` as a prefix.\n",
        "\n",
        "A prefix of a string `s` is any leading contiguous substring of `s`.\n",
        ""
      ]
    },
    {
      "cell_type": "markdown",
      "id": "09a41d47",
      "metadata": {
        "id": "09a41d47"
      },
      "source": [
        "**Example 1:**\n",
        "```\n",
        "Input: words = [\"pay\",\"attention\",\"practice\",\"attend\"], pref = \"at\"\n",
        "Output: 2\n",
        "Explanation: The 2 strings that contain \"at\" as a prefix are: \"attention\" and \"attend\".\n",
        "```\n",
        "\n",
        "\n",
        "**Constraints:**\n",
        "- `1 <= words.length <= 100`\n",
        "- `1 <= words[i].length, pref.length <= 100`\n",
        "- `words[i]` and `pref` consist of lowercase English letters."
      ]
    },
    {
      "cell_type": "code",
      "execution_count": null,
      "id": "3868f192",
      "metadata": {
        "id": "3868f192"
      },
      "outputs": [],
      "source": [
        "def prefixCount(words, pref):\n",
        "    ???"
      ]
    },
    {
      "cell_type": "code",
      "execution_count": null,
      "id": "059fb30e",
      "metadata": {
        "id": "059fb30e"
      },
      "outputs": [],
      "source": [
        "# This should return \"True\"\n",
        "prefixCount([\"pay\",\"attention\",\"practice\",\"attend\"],\"at\") == 2"
      ]
    },
    {
      "cell_type": "code",
      "execution_count": null,
      "id": "2355b177",
      "metadata": {
        "id": "2355b177"
      },
      "outputs": [],
      "source": [
        "# This should return \"True\"\n",
        "prefixCount([\"leetcode\",\"win\",\"loops\",\"success\"],\"code\") == 0"
      ]
    },
    {
      "cell_type": "markdown",
      "id": "af198457",
      "metadata": {
        "id": "af198457"
      },
      "source": [
        "### [**Problem 605**](https://leetcode.com/problems/can-place-flowers/) - **Can Place Flowers**\n",
        "\n",
        "You have a long flowerbed in which some of the plots are planted, and some are not. However, flowers cannot be planted in adjacent plots.\n",
        "\n",
        "Given an integer array `flowerbed` containing `0's` and `1's`, where 0 means empty and `1` means not empty, and an integer `n`, return if `n` new flowers can be planted in the `flowerbed` without violating the no-adjacent-flowers rule.\n"
      ]
    },
    {
      "cell_type": "markdown",
      "id": "ba0dc9fa",
      "metadata": {
        "id": "ba0dc9fa"
      },
      "source": [
        "**Example 1:**\n",
        "```\n",
        "Input: flowerbed = [1,0,0,0,1], n = 1\n",
        "Output: true\n",
        "```\n",
        "\n",
        "\n",
        "**Constraints:**\n",
        "- 1 <= flowerbed.length <= 2 * 104`\n",
        "- `flowerbed[i]` is `0` or `1`.\n",
        "- There are no two adjacent flowers in `flowerbed`.\n",
        "- `0 <= n <= flowerbed.length`"
      ]
    },
    {
      "cell_type": "code",
      "execution_count": null,
      "id": "b10a3337",
      "metadata": {
        "id": "b10a3337"
      },
      "outputs": [],
      "source": [
        "def canPlaceFlowers(flowerbed, n):\n",
        "    ???"
      ]
    },
    {
      "cell_type": "code",
      "execution_count": null,
      "id": "9954b9d7",
      "metadata": {
        "id": "9954b9d7"
      },
      "outputs": [],
      "source": [
        "# This should return \"True\"\n",
        "canPlaceFlowers([1,0,0,0,1], 1) == True"
      ]
    },
    {
      "cell_type": "code",
      "execution_count": null,
      "id": "3ae3bf62",
      "metadata": {
        "id": "3ae3bf62"
      },
      "outputs": [],
      "source": [
        "# This should return \"True\"\n",
        "canPlaceFlowers([1,0,0,0,1], 2) == False"
      ]
    },
    {
      "cell_type": "markdown",
      "id": "weighted-rapid",
      "metadata": {
        "id": "weighted-rapid"
      },
      "source": [
        "## Make a Submission\n",
        "To make a submission, you can submit your Jovian notebook link on the assignment 'submit' page.\n"
      ]
    },
    {
      "cell_type": "markdown",
      "id": "royal-future",
      "metadata": {
        "id": "royal-future"
      },
      "source": [
        "You can make any number of submission, but only your final submission will be considered for evaluation."
      ]
    }
  ],
  "metadata": {
    "kernelspec": {
      "display_name": "Python 3 (ipykernel)",
      "language": "python",
      "name": "python3"
    },
    "language_info": {
      "codemirror_mode": {
        "name": "ipython",
        "version": 3
      },
      "file_extension": ".py",
      "mimetype": "text/x-python",
      "name": "python",
      "nbconvert_exporter": "python",
      "pygments_lexer": "ipython3",
      "version": "3.9.7"
    },
    "colab": {
      "provenance": [],
      "include_colab_link": true
    }
  },
  "nbformat": 4,
  "nbformat_minor": 5
}