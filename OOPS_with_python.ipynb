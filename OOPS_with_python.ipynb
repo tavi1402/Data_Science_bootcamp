{
  "cells": [
    {
      "cell_type": "markdown",
      "metadata": {
        "id": "view-in-github",
        "colab_type": "text"
      },
      "source": [
        "<a href=\"https://colab.research.google.com/github/tavi1402/Data_Science_bootcamp/blob/main/OOPS_with_python.ipynb\" target=\"_parent\"><img src=\"https://colab.research.google.com/assets/colab-badge.svg\" alt=\"Open In Colab\"/></a>"
      ]
    },
    {
      "cell_type": "markdown",
      "id": "d4d78777",
      "metadata": {
        "id": "d4d78777"
      },
      "source": [
        "# Classes and Object Oriented Programming in Python\n",
        "\n",
        "This tutorial is a part of the [Zero to Data Science Bootcamp by Jovian](https://www.jovian.ai/data-analyst-bootcamp)\n",
        "\n",
        "![](https://i.imgur.com/yBsPHnF.png)\n",
        "\n",
        "Object-oriented programming (OOP) is a method of structuring programs into _objects_ that encapsulate _data_ and _functionality_. For examples, Numpy arrays and Pandas data frames are objects that contain data and offer methods to retrieve, manipulate and perform operations on the data stored within them.\n",
        "\n",
        "Python is an object oriented language, everything in Python is an object. Every object in Python is an _instance_ of a class. Classes are blueprints for creating objects. In this tutorial, we'll explore how to create new classes and objects in Python."
      ]
    },
    {
      "cell_type": "markdown",
      "id": "6a645c94",
      "metadata": {
        "id": "6a645c94"
      },
      "source": [
        "This tutorial covers the following topics:\n",
        "\n",
        "- Defining classes and creating objects\n",
        "- Class constructor, properties and methods\n",
        "- Implementing \"dunder\" methods for easier usage\n",
        "- Getters, setters, static methods & class methods\n",
        "- Inheritance, overriding and abstract methods"
      ]
    },
    {
      "cell_type": "markdown",
      "id": "e10d00f5",
      "metadata": {
        "id": "e10d00f5"
      },
      "source": [
        "### How to Run the Code\n",
        "\n",
        "The best way to learn the material is to execute the code and experiment with it yourself. This tutorial is an executable [Jupyter notebook](https://jupyter.org). You can _run_ this tutorial and experiment with the code examples in a couple of ways: *using free online resources* (recommended) or *on your computer*.\n",
        "\n",
        "#### Option 1: Running using free online resources (1-click, recommended)\n",
        "\n",
        "The easiest way to start executing the code is to click the **Run** button at the top of this page and select **Run on Binder**. You can also select \"Run on Colab\" or \"Run on Kaggle\", but you'll need to create an account on [Google Colab](https://colab.research.google.com) or [Kaggle](https://kaggle.com) to use these platforms.\n",
        "\n",
        "\n",
        "#### Option 2: Running on your computer locally\n",
        "\n",
        "To run the code on your computer locally, you'll need to set up [Python](https://www.python.org), download the notebook and install the required libraries. We recommend using the [Conda](https://docs.conda.io/projects/conda/en/latest/user-guide/install/) distribution of Python. Click the **Run** button at the top of this page, select the **Run Locally** option, and follow the instructions.\n",
        "\n",
        "\n",
        "\n"
      ]
    },
    {
      "cell_type": "code",
      "execution_count": null,
      "id": "e3f07835",
      "metadata": {
        "id": "e3f07835"
      },
      "outputs": [],
      "source": []
    },
    {
      "cell_type": "code",
      "execution_count": null,
      "id": "3403251c",
      "metadata": {
        "id": "3403251c"
      },
      "outputs": [],
      "source": []
    },
    {
      "cell_type": "code",
      "execution_count": null,
      "id": "3aa0ea64",
      "metadata": {
        "id": "3aa0ea64"
      },
      "outputs": [],
      "source": []
    },
    {
      "cell_type": "markdown",
      "id": "b22dc100",
      "metadata": {
        "id": "b22dc100"
      },
      "source": [
        "## Problem Statement - Implementing Pandas Data Frames from Scratch\n",
        "\n",
        "To understand classes, we'll attempt to implement Pandas data frames from scratch in Python.\n",
        "\n",
        "![](https://i.imgur.com/zfxLzEv.png)\n",
        "\n",
        "Here's some of the functionality we'll try to replicate."
      ]
    },
    {
      "cell_type": "code",
      "execution_count": null,
      "id": "12ee751d",
      "metadata": {
        "id": "12ee751d"
      },
      "outputs": [],
      "source": []
    },
    {
      "cell_type": "code",
      "execution_count": null,
      "id": "3b7977c4",
      "metadata": {
        "id": "3b7977c4"
      },
      "outputs": [],
      "source": []
    },
    {
      "cell_type": "code",
      "execution_count": null,
      "id": "bc54b064",
      "metadata": {
        "id": "bc54b064"
      },
      "outputs": [],
      "source": []
    },
    {
      "cell_type": "code",
      "execution_count": null,
      "id": "6324a5dc",
      "metadata": {
        "id": "6324a5dc"
      },
      "outputs": [],
      "source": []
    },
    {
      "cell_type": "code",
      "execution_count": null,
      "id": "2bb12e1b",
      "metadata": {
        "id": "2bb12e1b"
      },
      "outputs": [],
      "source": []
    },
    {
      "cell_type": "code",
      "execution_count": null,
      "id": "7b7f4e1d",
      "metadata": {
        "id": "7b7f4e1d"
      },
      "outputs": [],
      "source": []
    },
    {
      "cell_type": "code",
      "execution_count": null,
      "id": "2ea4dcef",
      "metadata": {
        "id": "2ea4dcef"
      },
      "outputs": [],
      "source": []
    },
    {
      "cell_type": "code",
      "execution_count": null,
      "id": "23ae470b",
      "metadata": {
        "id": "23ae470b"
      },
      "outputs": [],
      "source": []
    },
    {
      "cell_type": "code",
      "execution_count": null,
      "id": "18763b55",
      "metadata": {
        "id": "18763b55"
      },
      "outputs": [],
      "source": []
    },
    {
      "cell_type": "code",
      "execution_count": null,
      "id": "71cdf0cc",
      "metadata": {
        "id": "71cdf0cc"
      },
      "outputs": [],
      "source": []
    },
    {
      "cell_type": "code",
      "execution_count": null,
      "id": "b69f82e3",
      "metadata": {
        "id": "b69f82e3"
      },
      "outputs": [],
      "source": []
    },
    {
      "cell_type": "code",
      "execution_count": null,
      "id": "be86d411",
      "metadata": {
        "id": "be86d411"
      },
      "outputs": [],
      "source": []
    },
    {
      "cell_type": "code",
      "execution_count": null,
      "id": "11aa9c78",
      "metadata": {
        "id": "11aa9c78"
      },
      "outputs": [],
      "source": []
    },
    {
      "cell_type": "code",
      "execution_count": null,
      "id": "14350f3c",
      "metadata": {
        "id": "14350f3c"
      },
      "outputs": [],
      "source": []
    },
    {
      "cell_type": "code",
      "execution_count": null,
      "id": "a02ac9cf",
      "metadata": {
        "id": "a02ac9cf"
      },
      "outputs": [],
      "source": []
    },
    {
      "cell_type": "markdown",
      "id": "c4c010c9",
      "metadata": {
        "id": "c4c010c9"
      },
      "source": [
        "## Defining classes and creating objects\n",
        "\n",
        "A class is a blueprint for creating an object. Classes are defined using the `class` keyword. The _body_ of a class is an indented block of code that defines its functionality. Here's the simplest way of defining a class:"
      ]
    },
    {
      "cell_type": "code",
      "execution_count": null,
      "id": "b9a023be",
      "metadata": {
        "id": "b9a023be"
      },
      "outputs": [],
      "source": []
    },
    {
      "cell_type": "markdown",
      "id": "4ab8e270",
      "metadata": {
        "id": "4ab8e270"
      },
      "source": [
        "Note that the body contains just one statement `pass`, which does nothing i.e. the class has no functionality.\n",
        "\n",
        "We can now create an object of the class by invoking the class like a function."
      ]
    },
    {
      "cell_type": "code",
      "execution_count": null,
      "id": "de39d743",
      "metadata": {
        "id": "de39d743"
      },
      "outputs": [],
      "source": []
    },
    {
      "cell_type": "markdown",
      "id": "dda46369",
      "metadata": {
        "id": "dda46369"
      },
      "source": [
        "We just created an object of the class `DataFrame`. However, we have to way to access the object. We can do so by creating a variable."
      ]
    },
    {
      "cell_type": "code",
      "execution_count": null,
      "id": "e84dfee0",
      "metadata": {
        "id": "e84dfee0"
      },
      "outputs": [],
      "source": []
    },
    {
      "cell_type": "markdown",
      "id": "cb9309c3",
      "metadata": {
        "id": "cb9309c3"
      },
      "source": [
        "The variable `df1` holds a reference the object, and can be used to retrieve the object."
      ]
    },
    {
      "cell_type": "code",
      "execution_count": null,
      "id": "18fc99c4",
      "metadata": {
        "id": "18fc99c4"
      },
      "outputs": [],
      "source": []
    },
    {
      "cell_type": "markdown",
      "id": "a98e3367",
      "metadata": {
        "id": "a98e3367"
      },
      "source": [
        "When we invoke `DataFrame()` again, it creates a new object."
      ]
    },
    {
      "cell_type": "code",
      "execution_count": null,
      "id": "66bb6622",
      "metadata": {
        "id": "66bb6622"
      },
      "outputs": [],
      "source": []
    },
    {
      "cell_type": "code",
      "execution_count": null,
      "id": "20cf2dc4",
      "metadata": {
        "id": "20cf2dc4"
      },
      "outputs": [],
      "source": []
    },
    {
      "cell_type": "markdown",
      "id": "2b743265",
      "metadata": {
        "id": "2b743265"
      },
      "source": [
        "You can tell that the objects are different because they are at different addresses in the RAM (the address is the last portion of the output).\n",
        "\n",
        "Note that we can have multiple variables pointing to the same object, simply by reassigning variables."
      ]
    },
    {
      "cell_type": "code",
      "execution_count": null,
      "id": "f23b6e92",
      "metadata": {
        "id": "f23b6e92"
      },
      "outputs": [],
      "source": []
    },
    {
      "cell_type": "code",
      "execution_count": null,
      "id": "7ce3a065",
      "metadata": {
        "id": "7ce3a065"
      },
      "outputs": [],
      "source": []
    },
    {
      "cell_type": "markdown",
      "id": "3340bcf8",
      "metadata": {
        "id": "3340bcf8"
      },
      "source": [
        "`df2` and `df3` point to the same object, but `df1` points to a different object. More precisely, `df2` and `df3` point to the same _location in memory_, while `df1` points to a different _memory location_.\n",
        "\n",
        "You can check if two variables point to the same object using the `is` operator, which compares the memory address of the two variables."
      ]
    },
    {
      "cell_type": "code",
      "execution_count": null,
      "id": "f208c6f2",
      "metadata": {
        "id": "f208c6f2"
      },
      "outputs": [],
      "source": []
    },
    {
      "cell_type": "code",
      "execution_count": null,
      "id": "5b6bf15c",
      "metadata": {
        "id": "5b6bf15c"
      },
      "outputs": [],
      "source": []
    },
    {
      "cell_type": "markdown",
      "id": "d16d46ab",
      "metadata": {
        "id": "d16d46ab"
      },
      "source": [
        "## Class constructor, properties and methods\n",
        "\n",
        "Our data frame objects aren't doing much. They don't store any data or offer any functionality. Let's give the the ability to store some data.\n",
        "\n",
        "We'll store a fixed dictionary in each object that's created, by defining a _constructor method_, which is executed automatically when an object is created.\n"
      ]
    },
    {
      "cell_type": "code",
      "execution_count": null,
      "id": "89147b08",
      "metadata": {
        "id": "89147b08"
      },
      "outputs": [],
      "source": []
    },
    {
      "cell_type": "markdown",
      "id": "9b0aaf6b",
      "metadata": {
        "id": "9b0aaf6b"
      },
      "source": [
        "Note the following in the definition above:\n",
        "\n",
        "- The double underscores in `__init__`\n",
        "- The self argument passed to `__init__`, which will be set to the object that is created.\n",
        "- Setting a property on `self` called `data`. We can name a property anything we wish (val, number, the_thing_inside etc. )\n",
        "\n",
        "Let's create an object of this class."
      ]
    },
    {
      "cell_type": "code",
      "execution_count": null,
      "id": "e4c8d613",
      "metadata": {
        "id": "e4c8d613"
      },
      "outputs": [],
      "source": []
    },
    {
      "cell_type": "code",
      "execution_count": null,
      "id": "c215398d",
      "metadata": {
        "id": "c215398d"
      },
      "outputs": [],
      "source": []
    },
    {
      "cell_type": "markdown",
      "id": "2221a5af",
      "metadata": {
        "id": "2221a5af"
      },
      "source": [
        "We can now access the property `data` of `df4`."
      ]
    },
    {
      "cell_type": "code",
      "execution_count": null,
      "id": "1f693f5a",
      "metadata": {
        "id": "1f693f5a"
      },
      "outputs": [],
      "source": []
    },
    {
      "cell_type": "markdown",
      "id": "cd869ca8",
      "metadata": {
        "id": "cd869ca8"
      },
      "source": [
        "Internally, what's happening is that Python first creates an empty object, stores the reference to the empty object in an temporary variable called `self`, calls the `__init__` function with `self` as the argument, which then sets the property `data` on the created object with the value `{'a': 1}`. Finally, the object is assigned to the variable `df4`."
      ]
    },
    {
      "cell_type": "code",
      "execution_count": null,
      "id": "2648ec2b",
      "metadata": {
        "id": "2648ec2b"
      },
      "outputs": [],
      "source": []
    },
    {
      "cell_type": "markdown",
      "id": "55154316",
      "metadata": {
        "id": "55154316"
      },
      "source": [
        "We can not only access, but also change the value of the property `data`."
      ]
    },
    {
      "cell_type": "code",
      "execution_count": null,
      "id": "b1f923eb",
      "metadata": {
        "id": "b1f923eb"
      },
      "outputs": [],
      "source": []
    },
    {
      "cell_type": "code",
      "execution_count": null,
      "id": "e6a737f0",
      "metadata": {
        "id": "e6a737f0"
      },
      "outputs": [],
      "source": []
    },
    {
      "cell_type": "code",
      "execution_count": null,
      "id": "d3ddd445",
      "metadata": {
        "id": "d3ddd445"
      },
      "outputs": [],
      "source": []
    },
    {
      "cell_type": "code",
      "execution_count": null,
      "id": "16025e71",
      "metadata": {
        "id": "16025e71"
      },
      "outputs": [],
      "source": []
    },
    {
      "cell_type": "markdown",
      "id": "b6cdfa96",
      "metadata": {
        "id": "b6cdfa96"
      },
      "source": [
        "Note that every new object will contain it's own local copy of the `data` property."
      ]
    },
    {
      "cell_type": "code",
      "execution_count": null,
      "id": "89dd9782",
      "metadata": {
        "id": "89dd9782"
      },
      "outputs": [],
      "source": []
    },
    {
      "cell_type": "code",
      "execution_count": null,
      "id": "4219a5b3",
      "metadata": {
        "id": "4219a5b3"
      },
      "outputs": [],
      "source": []
    },
    {
      "cell_type": "code",
      "execution_count": null,
      "id": "7b2d8f73",
      "metadata": {
        "id": "7b2d8f73"
      },
      "outputs": [],
      "source": []
    },
    {
      "cell_type": "code",
      "execution_count": null,
      "id": "ee77ce61",
      "metadata": {
        "id": "ee77ce61"
      },
      "outputs": [],
      "source": []
    },
    {
      "cell_type": "code",
      "execution_count": null,
      "id": "b41f407e",
      "metadata": {
        "id": "b41f407e"
      },
      "outputs": [],
      "source": []
    },
    {
      "cell_type": "markdown",
      "id": "839f7750",
      "metadata": {
        "id": "839f7750"
      },
      "source": [
        "We can also set the initial value of the property while creating the object, by passing arguments to the constructor."
      ]
    },
    {
      "cell_type": "code",
      "execution_count": null,
      "id": "22228382",
      "metadata": {
        "id": "22228382"
      },
      "outputs": [],
      "source": []
    },
    {
      "cell_type": "markdown",
      "id": "013e8240",
      "metadata": {
        "id": "013e8240"
      },
      "source": [
        "The value for the argument `data` can be passed while invoking `DataFrame` to create a new object."
      ]
    },
    {
      "cell_type": "code",
      "execution_count": null,
      "id": "4f877362",
      "metadata": {
        "id": "4f877362"
      },
      "outputs": [],
      "source": []
    },
    {
      "cell_type": "code",
      "execution_count": null,
      "id": "546fc82c",
      "metadata": {
        "id": "546fc82c"
      },
      "outputs": [],
      "source": []
    },
    {
      "cell_type": "markdown",
      "id": "743556cf",
      "metadata": {
        "id": "743556cf"
      },
      "source": [
        "Note that, we can no longer invoke `DataFrame` without arguments."
      ]
    },
    {
      "cell_type": "code",
      "execution_count": null,
      "id": "92b05bc4",
      "metadata": {
        "id": "92b05bc4"
      },
      "outputs": [],
      "source": []
    },
    {
      "cell_type": "markdown",
      "id": "b0bc00d0",
      "metadata": {
        "id": "b0bc00d0"
      },
      "source": [
        "Let's define another property `columns`, which is set to the list of columns of the dataframe."
      ]
    },
    {
      "cell_type": "code",
      "execution_count": null,
      "id": "91d266d4",
      "metadata": {
        "id": "91d266d4"
      },
      "outputs": [],
      "source": []
    },
    {
      "cell_type": "code",
      "execution_count": null,
      "id": "78415e0c",
      "metadata": {
        "id": "78415e0c"
      },
      "outputs": [],
      "source": []
    },
    {
      "cell_type": "code",
      "execution_count": null,
      "id": "c4c19c9a",
      "metadata": {
        "id": "c4c19c9a"
      },
      "outputs": [],
      "source": []
    },
    {
      "cell_type": "code",
      "execution_count": null,
      "id": "0adb9798",
      "metadata": {
        "id": "0adb9798"
      },
      "outputs": [],
      "source": []
    },
    {
      "cell_type": "markdown",
      "id": "a54cff45",
      "metadata": {
        "id": "a54cff45"
      },
      "source": [
        "Next, let's define a method `get_column`, which retrieves the values in a given column."
      ]
    },
    {
      "cell_type": "code",
      "execution_count": null,
      "id": "3653a16e",
      "metadata": {
        "id": "3653a16e"
      },
      "outputs": [],
      "source": []
    },
    {
      "cell_type": "code",
      "execution_count": null,
      "id": "9ee4dd87",
      "metadata": {
        "id": "9ee4dd87"
      },
      "outputs": [],
      "source": []
    },
    {
      "cell_type": "code",
      "execution_count": null,
      "id": "25fb159a",
      "metadata": {
        "id": "25fb159a"
      },
      "outputs": [],
      "source": []
    },
    {
      "cell_type": "code",
      "execution_count": null,
      "id": "e36c385f",
      "metadata": {
        "id": "e36c385f"
      },
      "outputs": [],
      "source": []
    },
    {
      "cell_type": "markdown",
      "id": "e717457a",
      "metadata": {
        "id": "e717457a"
      },
      "source": [
        "Note, that the `df10` is automatically passed as the `self` argument to `get_column`.\n",
        "\n",
        "In fact, the above call is the same as:"
      ]
    },
    {
      "cell_type": "code",
      "execution_count": null,
      "id": "be6a6098",
      "metadata": {
        "id": "be6a6098"
      },
      "outputs": [],
      "source": []
    },
    {
      "cell_type": "markdown",
      "id": "fa42ca3b",
      "metadata": {
        "id": "fa42ca3b"
      },
      "source": [
        "Let's implement a method `get_row` which can be used to retrieve the row at a given position in the data frame, as a dictionary."
      ]
    },
    {
      "cell_type": "code",
      "execution_count": null,
      "id": "709c5bfc",
      "metadata": {
        "id": "709c5bfc"
      },
      "outputs": [],
      "source": []
    },
    {
      "cell_type": "code",
      "execution_count": null,
      "id": "d0f3f091",
      "metadata": {
        "id": "d0f3f091"
      },
      "outputs": [],
      "source": []
    },
    {
      "cell_type": "code",
      "execution_count": null,
      "id": "fa275852",
      "metadata": {
        "id": "fa275852"
      },
      "outputs": [],
      "source": []
    },
    {
      "cell_type": "code",
      "execution_count": null,
      "id": "299c4ff8",
      "metadata": {
        "id": "299c4ff8"
      },
      "outputs": [],
      "source": []
    },
    {
      "cell_type": "markdown",
      "id": "6df4e026",
      "metadata": {
        "id": "6df4e026"
      },
      "source": [
        "Let's also add a `copy` method to easily create copies of data frames. We'll use the `copy` module to create a deep copy of the dictionary."
      ]
    },
    {
      "cell_type": "code",
      "execution_count": null,
      "id": "bf5bc552",
      "metadata": {
        "id": "bf5bc552"
      },
      "outputs": [],
      "source": []
    },
    {
      "cell_type": "code",
      "execution_count": null,
      "id": "fede450d",
      "metadata": {
        "id": "fede450d"
      },
      "outputs": [],
      "source": []
    },
    {
      "cell_type": "code",
      "execution_count": null,
      "id": "2d471867",
      "metadata": {
        "id": "2d471867"
      },
      "outputs": [],
      "source": []
    },
    {
      "cell_type": "code",
      "execution_count": null,
      "id": "599488a9",
      "metadata": {
        "id": "599488a9"
      },
      "outputs": [],
      "source": []
    },
    {
      "cell_type": "markdown",
      "id": "338a3b2c",
      "metadata": {
        "id": "338a3b2c"
      },
      "source": [
        "Verify that the `data` in `df13` is indeed a copy, and modifying it won't affect the `data` in `df12`."
      ]
    },
    {
      "cell_type": "code",
      "execution_count": null,
      "id": "cab65b4a",
      "metadata": {
        "id": "cab65b4a"
      },
      "outputs": [],
      "source": []
    },
    {
      "cell_type": "markdown",
      "id": "71f7dde8",
      "metadata": {
        "id": "71f7dde8"
      },
      "source": [
        "Our `DataFrame` class now contains the following functionality:\n",
        "\n",
        "- A constructor method that can be used to pass a dictionary of data\n",
        "- A `data` property that can be used to access the dictionary\n",
        "- A `columns` property that can be used to get a list of columns\n",
        "- A `get_column` method for getting the list of values in a column\n",
        "- A `get_row` method for getting a row of data as a dictionary.\n",
        "- A `copy` method for create a copy of the data frame."
      ]
    },
    {
      "cell_type": "markdown",
      "id": "bdbedec3",
      "metadata": {
        "id": "bdbedec3"
      },
      "source": [
        "<a name='exercise_1'></a>\n",
        "> **EXERCISES**: Enhance the implementation of `DataFrame` to include the following:\n",
        ">\n",
        "> 1. Ensure that `data` argument to the constructor is a dictionary, and that each value in the dictionary is a list of the same length. If these conditions are not satisfied, raise an exception.\n",
        "> 2. Add a property `shape` which returns a tuple containing the number of rows and number of columns in the data frame\n",
        "> 3. Add a property `get_element` which extract a single value from a data frame, given a column name and row index."
      ]
    },
    {
      "cell_type": "code",
      "execution_count": null,
      "id": "b5d453c4",
      "metadata": {
        "id": "b5d453c4"
      },
      "outputs": [],
      "source": []
    },
    {
      "cell_type": "code",
      "execution_count": null,
      "id": "a1bae1f4",
      "metadata": {
        "id": "a1bae1f4"
      },
      "outputs": [],
      "source": []
    },
    {
      "cell_type": "code",
      "execution_count": null,
      "id": "1f0d196f",
      "metadata": {
        "id": "1f0d196f"
      },
      "outputs": [],
      "source": []
    },
    {
      "cell_type": "markdown",
      "id": "3fc7f595",
      "metadata": {
        "id": "3fc7f595"
      },
      "source": [
        "Let's save our work before continuing."
      ]
    },
    {
      "cell_type": "code",
      "execution_count": null,
      "id": "9ff566cc",
      "metadata": {
        "id": "9ff566cc"
      },
      "outputs": [],
      "source": []
    },
    {
      "cell_type": "markdown",
      "id": "a7e1b1e3",
      "metadata": {
        "id": "a7e1b1e3"
      },
      "source": [
        "## Implementing \"dunder\" methods for easier usage\n",
        "\n",
        "Our implementation of `DataFrame` is shaping up well, however it still faces several limitations, which we'll discuss and address one by one in this section.\n",
        "\n",
        "### String representation using `__str__` and `__repr__`\n",
        "\n",
        "We can't view the contents of a `DataFrame` object in the same way we view the contents of a Pandas data frame.\n"
      ]
    },
    {
      "cell_type": "code",
      "execution_count": null,
      "id": "3c0264f0",
      "metadata": {
        "id": "3c0264f0"
      },
      "outputs": [],
      "source": []
    },
    {
      "cell_type": "code",
      "execution_count": null,
      "id": "c2855d65",
      "metadata": {
        "id": "c2855d65"
      },
      "outputs": [],
      "source": []
    },
    {
      "cell_type": "code",
      "execution_count": null,
      "id": "a17ba237",
      "metadata": {
        "id": "a17ba237"
      },
      "outputs": [],
      "source": []
    },
    {
      "cell_type": "code",
      "execution_count": null,
      "id": "fc8c47df",
      "metadata": {
        "id": "fc8c47df"
      },
      "outputs": [],
      "source": []
    },
    {
      "cell_type": "markdown",
      "id": "b6525338",
      "metadata": {
        "id": "b6525338"
      },
      "source": [
        "We can add this by implementing the `__repr__` and `__str__` methods in the class. These are special methods in Python (also called \"double underscore methods\" or \"dunder methods\").\n",
        "\n",
        "We'll use a helper library called `tabulate` to create a table-like output for out dataframe."
      ]
    },
    {
      "cell_type": "code",
      "execution_count": null,
      "id": "61acd712",
      "metadata": {
        "id": "61acd712"
      },
      "outputs": [],
      "source": []
    },
    {
      "cell_type": "code",
      "execution_count": null,
      "id": "947daae0",
      "metadata": {
        "id": "947daae0"
      },
      "outputs": [],
      "source": []
    },
    {
      "cell_type": "markdown",
      "id": "71c85de8",
      "metadata": {
        "id": "71c85de8"
      },
      "source": [
        "What's the difference between `__str__` and `__repr__`? Look it up!"
      ]
    },
    {
      "cell_type": "code",
      "execution_count": null,
      "id": "8241dd78",
      "metadata": {
        "id": "8241dd78"
      },
      "outputs": [],
      "source": []
    },
    {
      "cell_type": "code",
      "execution_count": null,
      "id": "91e842d9",
      "metadata": {
        "id": "91e842d9"
      },
      "outputs": [],
      "source": []
    },
    {
      "cell_type": "code",
      "execution_count": null,
      "id": "4a022a14",
      "metadata": {
        "id": "4a022a14"
      },
      "outputs": [],
      "source": []
    },
    {
      "cell_type": "markdown",
      "id": "f3cb430d",
      "metadata": {
        "id": "f3cb430d"
      },
      "source": [
        "Great, we now have a readable string representation of our data."
      ]
    },
    {
      "cell_type": "markdown",
      "id": "2402f163",
      "metadata": {
        "id": "2402f163"
      },
      "source": [
        "### Length using `__len__`\n",
        "\n",
        "We can find the number of rows in a Pandas dataframe using the `len` function."
      ]
    },
    {
      "cell_type": "code",
      "execution_count": null,
      "id": "2b7215df",
      "metadata": {
        "id": "2b7215df"
      },
      "outputs": [],
      "source": []
    },
    {
      "cell_type": "code",
      "execution_count": null,
      "id": "398b885f",
      "metadata": {
        "id": "398b885f"
      },
      "outputs": [],
      "source": []
    },
    {
      "cell_type": "markdown",
      "id": "b9b6fc09",
      "metadata": {
        "id": "b9b6fc09"
      },
      "source": [
        "However, our implementation of `DataFrame` does not support this."
      ]
    },
    {
      "cell_type": "code",
      "execution_count": null,
      "id": "dea80a07",
      "metadata": {
        "id": "dea80a07"
      },
      "outputs": [],
      "source": []
    },
    {
      "cell_type": "markdown",
      "id": "aae22c1f",
      "metadata": {
        "id": "aae22c1f"
      },
      "source": [
        "To support usage with the `len` function, we can define the `__len__` method."
      ]
    },
    {
      "cell_type": "code",
      "execution_count": null,
      "id": "bcceeaf4",
      "metadata": {
        "id": "bcceeaf4"
      },
      "outputs": [],
      "source": []
    },
    {
      "cell_type": "code",
      "execution_count": null,
      "id": "674d42d5",
      "metadata": {
        "id": "674d42d5"
      },
      "outputs": [],
      "source": []
    },
    {
      "cell_type": "code",
      "execution_count": null,
      "id": "a70e6896",
      "metadata": {
        "id": "a70e6896"
      },
      "outputs": [],
      "source": []
    },
    {
      "cell_type": "markdown",
      "id": "34529184",
      "metadata": {
        "id": "34529184"
      },
      "source": [
        "Note that not every class you define would need to support the `len` method."
      ]
    },
    {
      "cell_type": "markdown",
      "id": "9f2290f3",
      "metadata": {
        "id": "9f2290f3"
      },
      "source": [
        "### `__getitem__` and  `__setitem__`\n",
        "\n",
        "While we do have a method `get_column` to retrieve values in a column from our custom data frames, Pandas dataframes allow doing this easily using the indexing notation."
      ]
    },
    {
      "cell_type": "code",
      "execution_count": null,
      "id": "68bb6674",
      "metadata": {
        "id": "68bb6674"
      },
      "outputs": [],
      "source": []
    },
    {
      "cell_type": "code",
      "execution_count": null,
      "id": "31939584",
      "metadata": {
        "id": "31939584"
      },
      "outputs": [],
      "source": []
    },
    {
      "cell_type": "code",
      "execution_count": null,
      "id": "cdf833b4",
      "metadata": {
        "id": "cdf833b4"
      },
      "outputs": [],
      "source": []
    },
    {
      "cell_type": "code",
      "execution_count": null,
      "id": "240810a8",
      "metadata": {
        "id": "240810a8"
      },
      "outputs": [],
      "source": []
    },
    {
      "cell_type": "markdown",
      "id": "0aa100f8",
      "metadata": {
        "id": "0aa100f8"
      },
      "source": [
        "Further, pandas dataframes also allow creating new columns using the indexing notation."
      ]
    },
    {
      "cell_type": "code",
      "execution_count": null,
      "id": "d014fc7c",
      "metadata": {
        "id": "d014fc7c"
      },
      "outputs": [],
      "source": []
    },
    {
      "cell_type": "code",
      "execution_count": null,
      "id": "761dda87",
      "metadata": {
        "id": "761dda87"
      },
      "outputs": [],
      "source": []
    },
    {
      "cell_type": "code",
      "execution_count": null,
      "id": "63c7b9b1",
      "metadata": {
        "id": "63c7b9b1"
      },
      "outputs": [],
      "source": []
    },
    {
      "cell_type": "code",
      "execution_count": null,
      "id": "4127ea0f",
      "metadata": {
        "id": "4127ea0f"
      },
      "outputs": [],
      "source": []
    },
    {
      "cell_type": "code",
      "execution_count": null,
      "id": "125d3cb6",
      "metadata": {
        "id": "125d3cb6"
      },
      "outputs": [],
      "source": []
    },
    {
      "cell_type": "markdown",
      "id": "34b5a394",
      "metadata": {
        "id": "34b5a394"
      },
      "source": [
        "To support the indexing notation for getting and creating columns, we can implement the `__getitem__` and `__setitem__` methods on our class."
      ]
    },
    {
      "cell_type": "code",
      "execution_count": null,
      "id": "26b778b8",
      "metadata": {
        "id": "26b778b8"
      },
      "outputs": [],
      "source": []
    },
    {
      "cell_type": "code",
      "execution_count": null,
      "id": "0c294c68",
      "metadata": {
        "id": "0c294c68"
      },
      "outputs": [],
      "source": []
    },
    {
      "cell_type": "code",
      "execution_count": null,
      "id": "046ea788",
      "metadata": {
        "id": "046ea788"
      },
      "outputs": [],
      "source": []
    },
    {
      "cell_type": "code",
      "execution_count": null,
      "id": "7fc8fdf3",
      "metadata": {
        "id": "7fc8fdf3"
      },
      "outputs": [],
      "source": []
    },
    {
      "cell_type": "code",
      "execution_count": null,
      "id": "ebbb51f6",
      "metadata": {
        "id": "ebbb51f6"
      },
      "outputs": [],
      "source": []
    },
    {
      "cell_type": "code",
      "execution_count": null,
      "id": "d98b708b",
      "metadata": {
        "id": "d98b708b"
      },
      "outputs": [],
      "source": []
    },
    {
      "cell_type": "markdown",
      "id": "72c1a871",
      "metadata": {
        "id": "72c1a871"
      },
      "source": [
        "We now have a way to access, add and modify columns in our dataframe."
      ]
    },
    {
      "cell_type": "markdown",
      "id": "ac596ce9",
      "metadata": {
        "id": "ac596ce9"
      },
      "source": [
        "### `__iter__`\n",
        "\n",
        "Pandas dataframe also support iteration, and can be used in `for` loops. Each iteration of the the loop, we get access to one column of the dataframe."
      ]
    },
    {
      "cell_type": "code",
      "execution_count": null,
      "id": "2e220b11",
      "metadata": {
        "id": "2e220b11"
      },
      "outputs": [],
      "source": []
    },
    {
      "cell_type": "code",
      "execution_count": null,
      "id": "f168a21a",
      "metadata": {
        "id": "f168a21a"
      },
      "outputs": [],
      "source": []
    },
    {
      "cell_type": "markdown",
      "id": "a67d6515",
      "metadata": {
        "id": "a67d6515"
      },
      "source": [
        "To support iteration for custom classes, we can implement the `__iter__` method."
      ]
    },
    {
      "cell_type": "code",
      "execution_count": null,
      "id": "52abd4cf",
      "metadata": {
        "id": "52abd4cf"
      },
      "outputs": [],
      "source": []
    },
    {
      "cell_type": "markdown",
      "id": "7560302b",
      "metadata": {
        "id": "7560302b"
      },
      "source": [
        "Note the use of the `yield` keyword, instead of `return`. This converts the function into a \"generator\" which returns a new value each time it is invoked."
      ]
    },
    {
      "cell_type": "code",
      "execution_count": null,
      "id": "2f45ac55",
      "metadata": {
        "id": "2f45ac55"
      },
      "outputs": [],
      "source": []
    },
    {
      "cell_type": "code",
      "execution_count": null,
      "id": "43c9f00b",
      "metadata": {
        "id": "43c9f00b"
      },
      "outputs": [],
      "source": []
    },
    {
      "cell_type": "markdown",
      "id": "e853d5e1",
      "metadata": {
        "id": "e853d5e1"
      },
      "source": [
        "We can now iterate over our dataframe using a `for` loop.\n",
        "\n",
        "You can find a full list of \"dunder\" methods and their usage here: https://holycoders.com/python-dunder-special-methods/ . Keep in mind that only some dunder methods are relevant for any given class, and you needn't implement all (or any) of them for every class your create."
      ]
    },
    {
      "cell_type": "markdown",
      "id": "8645717d",
      "metadata": {
        "id": "8645717d"
      },
      "source": [
        "Let's save our work before continuing."
      ]
    },
    {
      "cell_type": "code",
      "execution_count": null,
      "id": "59beac79",
      "metadata": {
        "id": "59beac79"
      },
      "outputs": [],
      "source": []
    },
    {
      "cell_type": "markdown",
      "id": "6fb1393c",
      "metadata": {
        "id": "6fb1393c"
      },
      "source": [
        "## Getters, setters, static methods and class methods\n",
        "\n",
        "One of the issues with our implementation is that we can't reliably rename the columns of a dataframe, like we can in Pandas."
      ]
    },
    {
      "cell_type": "code",
      "execution_count": null,
      "id": "77751783",
      "metadata": {
        "id": "77751783"
      },
      "outputs": [],
      "source": []
    },
    {
      "cell_type": "code",
      "execution_count": null,
      "id": "e77932a8",
      "metadata": {
        "id": "e77932a8"
      },
      "outputs": [],
      "source": []
    },
    {
      "cell_type": "code",
      "execution_count": null,
      "id": "3f300d08",
      "metadata": {
        "id": "3f300d08"
      },
      "outputs": [],
      "source": []
    },
    {
      "cell_type": "code",
      "execution_count": null,
      "id": "a9db2595",
      "metadata": {
        "id": "a9db2595"
      },
      "outputs": [],
      "source": []
    },
    {
      "cell_type": "code",
      "execution_count": null,
      "id": "484937aa",
      "metadata": {
        "id": "484937aa"
      },
      "outputs": [],
      "source": []
    },
    {
      "cell_type": "code",
      "execution_count": null,
      "id": "13e7b614",
      "metadata": {
        "id": "13e7b614"
      },
      "outputs": [],
      "source": []
    },
    {
      "cell_type": "markdown",
      "id": "624b2a41",
      "metadata": {
        "id": "624b2a41"
      },
      "source": [
        "This error occurs because the key in the internal dict are not yet modified."
      ]
    },
    {
      "cell_type": "code",
      "execution_count": null,
      "id": "3f1845a6",
      "metadata": {
        "id": "3f1845a6"
      },
      "outputs": [],
      "source": []
    },
    {
      "cell_type": "markdown",
      "id": "08decb59",
      "metadata": {
        "id": "08decb59"
      },
      "source": [
        "We can solve this issue by defining two functions for the `column` property: a \"getter\" and a \"setter\""
      ]
    },
    {
      "cell_type": "code",
      "execution_count": null,
      "id": "973235f8",
      "metadata": {
        "id": "973235f8"
      },
      "outputs": [],
      "source": []
    },
    {
      "cell_type": "code",
      "execution_count": null,
      "id": "79484828",
      "metadata": {
        "id": "79484828"
      },
      "outputs": [],
      "source": []
    },
    {
      "cell_type": "code",
      "execution_count": null,
      "id": "01b1da7d",
      "metadata": {
        "id": "01b1da7d"
      },
      "outputs": [],
      "source": []
    },
    {
      "cell_type": "code",
      "execution_count": null,
      "id": "bdc55f7d",
      "metadata": {
        "id": "bdc55f7d"
      },
      "outputs": [],
      "source": []
    },
    {
      "cell_type": "code",
      "execution_count": null,
      "id": "0bdbbf0f",
      "metadata": {
        "id": "0bdbbf0f"
      },
      "outputs": [],
      "source": []
    },
    {
      "cell_type": "code",
      "execution_count": null,
      "id": "7e11834f",
      "metadata": {
        "id": "7e11834f"
      },
      "outputs": [],
      "source": []
    },
    {
      "cell_type": "code",
      "execution_count": null,
      "id": "012277d0",
      "metadata": {
        "id": "012277d0"
      },
      "outputs": [],
      "source": []
    },
    {
      "cell_type": "code",
      "execution_count": null,
      "id": "5ae9ba18",
      "metadata": {
        "id": "5ae9ba18"
      },
      "outputs": [],
      "source": []
    },
    {
      "cell_type": "markdown",
      "id": "9f4bba31",
      "metadata": {
        "id": "9f4bba31"
      },
      "source": [
        "### Static Methods\n",
        "\n",
        "We can also define methods in a class which are not bound to any specific object and can be used directly from the class."
      ]
    },
    {
      "cell_type": "code",
      "execution_count": null,
      "id": "5de3f022",
      "metadata": {
        "id": "5de3f022"
      },
      "outputs": [],
      "source": []
    },
    {
      "cell_type": "code",
      "execution_count": null,
      "id": "2c3575fe",
      "metadata": {
        "id": "2c3575fe"
      },
      "outputs": [],
      "source": []
    },
    {
      "cell_type": "code",
      "execution_count": null,
      "id": "08d83ac0",
      "metadata": {
        "id": "08d83ac0"
      },
      "outputs": [],
      "source": []
    },
    {
      "cell_type": "code",
      "execution_count": null,
      "id": "d0ca8038",
      "metadata": {
        "id": "d0ca8038"
      },
      "outputs": [],
      "source": []
    },
    {
      "cell_type": "code",
      "execution_count": null,
      "id": "ec20a48b",
      "metadata": {
        "id": "ec20a48b"
      },
      "outputs": [],
      "source": []
    },
    {
      "cell_type": "code",
      "execution_count": null,
      "id": "5e38fb15",
      "metadata": {
        "id": "5e38fb15",
        "scrolled": true
      },
      "outputs": [],
      "source": []
    },
    {
      "cell_type": "code",
      "execution_count": null,
      "id": "be616e29",
      "metadata": {
        "id": "be616e29"
      },
      "outputs": [],
      "source": []
    },
    {
      "cell_type": "markdown",
      "id": "e67c1ca7",
      "metadata": {
        "id": "e67c1ca7"
      },
      "source": [
        "### Class Method\n",
        "\n",
        "Another special type of method is a classmethod, which receives the class constructor as the first argument, and is often used to create alternate ways of creating an object.\n",
        "\n",
        "As an example, let's define a class method `read_json`, which can read data from a JSON file. Along with this, let's also add a normal method `to_json`."
      ]
    },
    {
      "cell_type": "code",
      "execution_count": null,
      "id": "dc2a7cfd",
      "metadata": {
        "id": "dc2a7cfd"
      },
      "outputs": [],
      "source": []
    },
    {
      "cell_type": "code",
      "execution_count": null,
      "id": "b906ad00",
      "metadata": {
        "id": "b906ad00"
      },
      "outputs": [],
      "source": []
    },
    {
      "cell_type": "code",
      "execution_count": null,
      "id": "e3253bb1",
      "metadata": {
        "id": "e3253bb1"
      },
      "outputs": [],
      "source": []
    },
    {
      "cell_type": "code",
      "execution_count": null,
      "id": "fdc806da",
      "metadata": {
        "id": "fdc806da"
      },
      "outputs": [],
      "source": []
    },
    {
      "cell_type": "code",
      "execution_count": null,
      "id": "15bcc177",
      "metadata": {
        "id": "15bcc177",
        "scrolled": false
      },
      "outputs": [],
      "source": []
    },
    {
      "cell_type": "code",
      "execution_count": null,
      "id": "0ac7a15c",
      "metadata": {
        "id": "0ac7a15c"
      },
      "outputs": [],
      "source": []
    },
    {
      "cell_type": "code",
      "execution_count": null,
      "id": "3a02005f",
      "metadata": {
        "id": "3a02005f"
      },
      "outputs": [],
      "source": []
    },
    {
      "cell_type": "markdown",
      "id": "13e7388d",
      "metadata": {
        "id": "13e7388d"
      },
      "source": [
        "<a name=\"exercise_2\"></a>\n",
        "**Exercises**:\n",
        "\n",
        "1. Implement a class method `read_csv` and a normal method (also called instance method) `to_csv` to read and write from CSV files. You may find the `csvwriter` module useful.\n",
        "\n",
        "\n",
        "2. Recall than Pandas dataframes also allow accessing columns using the `.` notation e.g. `pandas_df.Artist`. Add support for this behaviour in our implementation of the dataframe. Hint: Use the `__getattr__` dunder method.\n",
        "\n",
        "\n",
        "3. Our current implementation does not support custom indexes. Implement two more classes `Index` and `Series`. An `Index` is simply a list of indices used within a dataframe. A `Series` encapsulate the values with a column and associates them with an `Index`. Study and replicate the functionality of the Pandas `Series` and `Index` classes.\n",
        "\n",
        "\n",
        "4. Implement other commonly used methods and properties of pandas dataframes. Compare the performance of your implementations with those of Pandas dataframes. What causes the performance difference.\n",
        "\n"
      ]
    },
    {
      "cell_type": "code",
      "execution_count": null,
      "id": "dd31a5c3",
      "metadata": {
        "id": "dd31a5c3"
      },
      "outputs": [],
      "source": []
    },
    {
      "cell_type": "code",
      "execution_count": null,
      "id": "0b9663e4",
      "metadata": {
        "id": "0b9663e4"
      },
      "outputs": [],
      "source": []
    },
    {
      "cell_type": "code",
      "execution_count": null,
      "id": "f558a151",
      "metadata": {
        "id": "f558a151"
      },
      "outputs": [],
      "source": []
    },
    {
      "cell_type": "code",
      "execution_count": null,
      "id": "19a73321",
      "metadata": {
        "id": "19a73321"
      },
      "outputs": [],
      "source": []
    },
    {
      "cell_type": "markdown",
      "id": "ade79d44",
      "metadata": {
        "id": "ade79d44"
      },
      "source": [
        "Let's save our work before continuing."
      ]
    },
    {
      "cell_type": "code",
      "execution_count": null,
      "id": "c5422325",
      "metadata": {
        "id": "c5422325"
      },
      "outputs": [],
      "source": []
    },
    {
      "cell_type": "markdown",
      "id": "fe8951a8",
      "metadata": {
        "id": "fe8951a8"
      },
      "source": [
        "## Inheritance, overriding and abstract methods\n",
        "\n",
        "Classes in Python can extend other classes i.e. they can inherit properties and methods from other classes. Here's an example of inheritance using geometric shapes.\n",
        "\n",
        "![](https://i.imgur.com/BSCxOkG.png)"
      ]
    },
    {
      "cell_type": "code",
      "execution_count": null,
      "id": "113271db",
      "metadata": {
        "id": "113271db"
      },
      "outputs": [],
      "source": []
    },
    {
      "cell_type": "markdown",
      "id": "12dc7e5d",
      "metadata": {
        "id": "12dc7e5d"
      },
      "source": [
        "Let's create a circle and try using some of the methods."
      ]
    },
    {
      "cell_type": "code",
      "execution_count": null,
      "id": "df632b0a",
      "metadata": {
        "id": "df632b0a"
      },
      "outputs": [],
      "source": []
    },
    {
      "cell_type": "code",
      "execution_count": null,
      "id": "ba4c2955",
      "metadata": {
        "id": "ba4c2955"
      },
      "outputs": [],
      "source": []
    },
    {
      "cell_type": "code",
      "execution_count": null,
      "id": "beeee950",
      "metadata": {
        "id": "beeee950"
      },
      "outputs": [],
      "source": []
    },
    {
      "cell_type": "code",
      "execution_count": null,
      "id": "820239b6",
      "metadata": {
        "id": "820239b6"
      },
      "outputs": [],
      "source": []
    },
    {
      "cell_type": "code",
      "execution_count": null,
      "id": "02265061",
      "metadata": {
        "id": "02265061"
      },
      "outputs": [],
      "source": []
    },
    {
      "cell_type": "code",
      "execution_count": null,
      "id": "55fdbd40",
      "metadata": {
        "id": "55fdbd40"
      },
      "outputs": [],
      "source": []
    },
    {
      "cell_type": "code",
      "execution_count": null,
      "id": "a22bf46c",
      "metadata": {
        "id": "a22bf46c"
      },
      "outputs": [],
      "source": []
    },
    {
      "cell_type": "code",
      "execution_count": null,
      "id": "35145c3f",
      "metadata": {
        "id": "35145c3f"
      },
      "outputs": [],
      "source": []
    },
    {
      "cell_type": "markdown",
      "id": "b5663ef3",
      "metadata": {
        "id": "b5663ef3"
      },
      "source": [
        "Let's compare rectangles and triangles using methods from `Shape` and `Polygon`."
      ]
    },
    {
      "cell_type": "code",
      "execution_count": null,
      "id": "9bfd9279",
      "metadata": {
        "id": "9bfd9279"
      },
      "outputs": [],
      "source": []
    },
    {
      "cell_type": "code",
      "execution_count": null,
      "id": "6629d1d0",
      "metadata": {
        "id": "6629d1d0"
      },
      "outputs": [],
      "source": []
    },
    {
      "cell_type": "code",
      "execution_count": null,
      "id": "5408abb7",
      "metadata": {
        "id": "5408abb7"
      },
      "outputs": [],
      "source": []
    },
    {
      "cell_type": "code",
      "execution_count": null,
      "id": "52bfba69",
      "metadata": {
        "id": "52bfba69"
      },
      "outputs": [],
      "source": []
    },
    {
      "cell_type": "code",
      "execution_count": null,
      "id": "967eb2fe",
      "metadata": {
        "id": "967eb2fe"
      },
      "outputs": [],
      "source": []
    },
    {
      "cell_type": "code",
      "execution_count": null,
      "id": "dddd8ffd",
      "metadata": {
        "id": "dddd8ffd"
      },
      "outputs": [],
      "source": []
    },
    {
      "cell_type": "code",
      "execution_count": null,
      "id": "06b466cb",
      "metadata": {
        "id": "06b466cb"
      },
      "outputs": [],
      "source": []
    },
    {
      "cell_type": "code",
      "execution_count": null,
      "id": "df31929a",
      "metadata": {
        "id": "df31929a"
      },
      "outputs": [],
      "source": []
    },
    {
      "cell_type": "markdown",
      "id": "e46f7f63",
      "metadata": {
        "id": "e46f7f63"
      },
      "source": [
        "Let's create a square. We can use methods from `Rectangle`, `Shape` and `Polygon` in a square."
      ]
    },
    {
      "cell_type": "code",
      "execution_count": null,
      "id": "c7c4d7da",
      "metadata": {
        "id": "c7c4d7da"
      },
      "outputs": [],
      "source": []
    },
    {
      "cell_type": "code",
      "execution_count": null,
      "id": "c28743f2",
      "metadata": {
        "id": "c28743f2"
      },
      "outputs": [],
      "source": []
    },
    {
      "cell_type": "code",
      "execution_count": null,
      "id": "2ce5c258",
      "metadata": {
        "id": "2ce5c258"
      },
      "outputs": [],
      "source": []
    },
    {
      "cell_type": "code",
      "execution_count": null,
      "id": "054e6129",
      "metadata": {
        "id": "054e6129"
      },
      "outputs": [],
      "source": []
    },
    {
      "cell_type": "markdown",
      "id": "0ed62df2",
      "metadata": {
        "id": "0ed62df2"
      },
      "source": [
        "Let's save our work before continuing."
      ]
    },
    {
      "cell_type": "code",
      "execution_count": null,
      "id": "466b4aa0",
      "metadata": {
        "id": "466b4aa0"
      },
      "outputs": [],
      "source": []
    },
    {
      "cell_type": "markdown",
      "id": "7dcbe06e",
      "metadata": {
        "id": "7dcbe06e"
      },
      "source": [
        "## Summary and Further Reading\n",
        "\n",
        "The following topics were covered in this tutorial:\n",
        "\n",
        "- Defining classes and creating objects\n",
        "- Class constructor, properties and methods\n",
        "- Implementing \"dunder\" methods for easier usage\n",
        "- Getters, setters, static methods & class methods\n",
        "- Inheritance, overriding and abstract methods\n",
        "\n",
        "Check out the following resources to learn more:\n",
        "\n",
        "- https://www.w3schools.com/python/python_classes.asp\n",
        "- https://dabeaz-course.github.io/practical-python/Notes/04_Classes_objects/01_Class.html\n",
        "- https://realpython.com/python3-object-oriented-programming/\n",
        "- https://dbader.org/blog/python-dunder-methods\n",
        "- https://realpython.com/python-super/"
      ]
    },
    {
      "cell_type": "markdown",
      "id": "eda6e9ec",
      "metadata": {
        "id": "eda6e9ec"
      },
      "source": [
        "## Questions for Revision\n",
        "1.\tWhat is a class?\n",
        "2.\tWhat is an object?\n",
        "3.\tWhat does the body of class contain?\n",
        "4.\tHow do you define a class?\n",
        "5.\tHow do you define an empty class?\n",
        "6.\tWhat is pass?\n",
        "7.\tHow do you invoke a class?\n",
        "8.\tHow do you access the object created by a class?\n",
        "9.\tLet’s say `class_name()` is a class and `a=class_name()`, `b=class_name()`, will a and b have the same address?\n",
        "10.\tSimilar to question 9, let’s say `a=b`, will a and be have the same address?\n",
        "11.\tHow do you check is two variables point to the same object?\n",
        "12.\tWhat is a constructor method?\n",
        "13.\tWhat is `__init__(self)` ?\n",
        "14.\tHow can you access the property of a class?\n",
        "15.\tCan you make changes to the value of the class's property?\n",
        "16.\tHow can you set initial value of the property of a class?\n",
        "17.\tWhat is the purpose of copy module?\n",
        "18.\tWhat are dunder methods?\n",
        "19.\tWhat are `__repr__` and `__str__` methods?\n",
        "20.\tWhat is `__getattr__` method?\n",
        "21.\tWhat is tabulate library?\n",
        "22.\tHow can you use `len()` in a class? What are the limitations?\n",
        "23.\tHow can you implement indexing notation in a class?\n",
        "24.\tHow is pandas dataframe different from class?\n",
        "25.\tWhat is `__iter__` method in class?\n",
        "26.\tWhat is yield?\n",
        "27.\tHow can you resolve the issue of renaming a column name in class?\n",
        "28.\tWhat are static methods? Explain with an example.\n",
        "29.\tWhat is classmethod? Explain with an example.\n",
        "30.\tExplain the inheritance property of a class with an example."
      ]
    },
    {
      "cell_type": "markdown",
      "id": "xR8xPuQAco43",
      "metadata": {
        "id": "xR8xPuQAco43"
      },
      "source": [
        "## Solutions for Exercises"
      ]
    },
    {
      "cell_type": "markdown",
      "id": "pYHvEcTdiuJk",
      "metadata": {
        "id": "pYHvEcTdiuJk"
      },
      "source": [
        "------------------------------------------------------------------------------"
      ]
    },
    {
      "cell_type": "code",
      "execution_count": null,
      "id": "kotNE0Nrb2oB",
      "metadata": {
        "id": "kotNE0Nrb2oB"
      },
      "outputs": [],
      "source": []
    },
    {
      "cell_type": "markdown",
      "id": "orms-EIDdFXj",
      "metadata": {
        "id": "orms-EIDdFXj"
      },
      "source": [
        "> **EXERCISES**: Enhance the implementation of `DataFrame` to include the following:\n",
        ">\n",
        "> 1. Ensure that `data` argument to the constructor is a dictionary, and that each value in the dictionary is a list of the same length. If these conditions are not satisfied, raise an exception.\n",
        "> 2. Add a property `shape` which returns a tuple containing the number of rows and number of columns in the data frame\n",
        "> 3. Add a property `get_element` which extract a single value from a data frame, given a column name and row index.\n",
        "\n",
        "Reference [(click here)](#exercise_1)"
      ]
    },
    {
      "cell_type": "code",
      "execution_count": null,
      "id": "cSmBGCXPb2kp",
      "metadata": {
        "id": "cSmBGCXPb2kp"
      },
      "outputs": [],
      "source": []
    },
    {
      "cell_type": "markdown",
      "id": "MUuGjozGBUX3",
      "metadata": {
        "id": "MUuGjozGBUX3"
      },
      "source": [
        "> 1. Ensure that `data` argument to the constructor is a dictionary, and that each value in the dictionary is a list of the same length. If these conditions are not satisfied, raise an exception."
      ]
    },
    {
      "cell_type": "code",
      "execution_count": null,
      "id": "5w1B4Db1psBO",
      "metadata": {
        "id": "5w1B4Db1psBO"
      },
      "outputs": [],
      "source": []
    },
    {
      "cell_type": "code",
      "execution_count": null,
      "id": "ZmFRu1PiqsLn",
      "metadata": {
        "id": "ZmFRu1PiqsLn"
      },
      "outputs": [],
      "source": []
    },
    {
      "cell_type": "code",
      "execution_count": null,
      "id": "zdSHGHY3b2hw",
      "metadata": {
        "id": "zdSHGHY3b2hw"
      },
      "outputs": [],
      "source": []
    },
    {
      "cell_type": "markdown",
      "id": "Cuheu4DdBc55",
      "metadata": {
        "id": "Cuheu4DdBc55"
      },
      "source": [
        "> 2. Add a property `shape` which returns a tuple containing the number of rows and number of columns in the data frame"
      ]
    },
    {
      "cell_type": "code",
      "execution_count": null,
      "id": "ZkT3xYcRb2bU",
      "metadata": {
        "id": "ZkT3xYcRb2bU"
      },
      "outputs": [],
      "source": []
    },
    {
      "cell_type": "markdown",
      "id": "3rdxXcTwBhvB",
      "metadata": {
        "id": "3rdxXcTwBhvB"
      },
      "source": [
        "> 3. Add a property `get_element` which extract a single value from a data frame, given a column name and row index."
      ]
    },
    {
      "cell_type": "code",
      "execution_count": null,
      "id": "DiHpsp8Lb2XR",
      "metadata": {
        "id": "DiHpsp8Lb2XR"
      },
      "outputs": [],
      "source": []
    },
    {
      "cell_type": "markdown",
      "id": "3IP37E8vrHyK",
      "metadata": {
        "id": "3IP37E8vrHyK"
      },
      "source": [
        "---------------------------------------------------------------------"
      ]
    },
    {
      "cell_type": "markdown",
      "id": "KphD7APhrn-8",
      "metadata": {
        "id": "KphD7APhrn-8"
      },
      "source": [
        "> **Exercises**:\n",
        ">\n",
        "> 1. Implement a class method `read_csv` and a normal method (also called instance method) `to_csv` to read and write from CSV files. You may find the `csvwriter` module useful.\n",
        "> 2. Recall than Pandas dataframes also allow accessing columns using the `.` notation e.g. `pandas_df.Artist`. Add support for this behaviour in our implementation of the dataframe. Hint: Use the `__getattr__` dunder method.\n",
        "> 3. Our current implementation does not support series. Implement class  `Series`. A `Series` encapsulate the values with a column and associates them with an `Index`. Study and replicate the functionality of the Pandas `Series` classes.\n",
        "> 4. Implement other commonly used methods and properties of pandas dataframes. Compare the performance of your implementations with those of Pandas dataframes. What causes the performance difference.\n",
        "\n",
        "Reference ([click here](#exercise_2))"
      ]
    },
    {
      "cell_type": "code",
      "execution_count": null,
      "id": "XgzecLQbb2T3",
      "metadata": {
        "id": "XgzecLQbb2T3"
      },
      "outputs": [],
      "source": []
    },
    {
      "cell_type": "code",
      "execution_count": null,
      "id": "0gbjgg__k654",
      "metadata": {
        "id": "0gbjgg__k654"
      },
      "outputs": [],
      "source": []
    },
    {
      "cell_type": "markdown",
      "id": "bkfTVX6yirFo",
      "metadata": {
        "id": "bkfTVX6yirFo"
      },
      "source": [
        "> 1. Implement a class method `read_csv` and a normal method (also called instance method) `to_csv` to read and write from CSV files. You may find the `csvwriter` module useful."
      ]
    },
    {
      "cell_type": "code",
      "execution_count": null,
      "id": "eA7BUyRGhPP6",
      "metadata": {
        "id": "eA7BUyRGhPP6"
      },
      "outputs": [],
      "source": []
    },
    {
      "cell_type": "code",
      "execution_count": null,
      "id": "_xaoShcbhPMX",
      "metadata": {
        "id": "_xaoShcbhPMX"
      },
      "outputs": [],
      "source": []
    },
    {
      "cell_type": "code",
      "execution_count": null,
      "id": "tmaqh_CWhO_G",
      "metadata": {
        "id": "tmaqh_CWhO_G"
      },
      "outputs": [],
      "source": []
    },
    {
      "cell_type": "markdown",
      "id": "IgAKElf7iQYd",
      "metadata": {
        "id": "IgAKElf7iQYd"
      },
      "source": [
        ">2.  Recall than Pandas dataframes also allow accessing columns using the `.` notation e.g. `pandas_df.Artist`. Add support for this behaviour in our implementation of the dataframe. Hint: Use the `__getattr__` dunder method."
      ]
    },
    {
      "cell_type": "code",
      "execution_count": null,
      "id": "g5nKFUrPiPmu",
      "metadata": {
        "id": "g5nKFUrPiPmu"
      },
      "outputs": [],
      "source": []
    },
    {
      "cell_type": "markdown",
      "id": "6dCPzDV1joAj",
      "metadata": {
        "id": "6dCPzDV1joAj"
      },
      "source": [
        "> 3. Our current implementation does not support series. Implement class  `Series`. A `Series` encapsulate the values with a column and associates them with an `Index`. Study and replicate the functionality of the Pandas `Series` classes."
      ]
    },
    {
      "cell_type": "code",
      "execution_count": null,
      "id": "k-xHn8Zy5kfg",
      "metadata": {
        "id": "k-xHn8Zy5kfg"
      },
      "outputs": [],
      "source": []
    },
    {
      "cell_type": "code",
      "execution_count": null,
      "id": "aWV5CI1AjrfC",
      "metadata": {
        "id": "aWV5CI1AjrfC"
      },
      "outputs": [],
      "source": []
    },
    {
      "cell_type": "markdown",
      "id": "XdXkDlKIj8_8",
      "metadata": {
        "id": "XdXkDlKIj8_8"
      },
      "source": [
        "As each items in the Series is part of a dictionary, we can also get the individual element by accessing via the index.\n"
      ]
    },
    {
      "cell_type": "code",
      "execution_count": null,
      "id": "eGa-SZh5jv2h",
      "metadata": {
        "id": "eGa-SZh5jv2h"
      },
      "outputs": [],
      "source": []
    },
    {
      "cell_type": "markdown",
      "id": "ZVrd3QWhfOrs",
      "metadata": {
        "id": "ZVrd3QWhfOrs"
      },
      "source": [
        "> 4. Implement other commonly used methods and properties of pandas dataframes. Compare the performance of your implementations with those of Pandas dataframes. What causes the performance difference."
      ]
    },
    {
      "cell_type": "markdown",
      "id": "Aiv9wVZwfX37",
      "metadata": {
        "id": "Aiv9wVZwfX37"
      },
      "source": [
        "Let's first download a large csv to compare the difference between pandas DataFrame and our DataFrame. Let's randomly pick a dataset from Kaggle which has a reasonable amount of missing values.\n",
        "\n",
        "Dataset Used: https://www.kaggle.com/nicapotato/womens-ecommerce-clothing-reviews"
      ]
    },
    {
      "cell_type": "code",
      "execution_count": null,
      "id": "lWMp2kKIevWP",
      "metadata": {
        "id": "lWMp2kKIevWP"
      },
      "outputs": [],
      "source": []
    },
    {
      "cell_type": "markdown",
      "id": "Ihoi1saLf8IG",
      "metadata": {
        "id": "Ihoi1saLf8IG"
      },
      "source": [
        "We will use the following operations to compare the speed of pandas DataFrame and our DataFrame.\n",
        "1. Creating a DataFrame using `.read_csv`.\n",
        "2. Showing the first 100 lines using `.head()` method.\n",
        "3. Checking the shape of the DataFrame and amount of null values before dropping them.\n",
        "4. Dropping Null values\n",
        "5. Re-checking the shape of the DataFrame and if there are any null values left.\n",
        "\n",
        "We will use the `%%time` magic command in every cell to keep a note of the time."
      ]
    },
    {
      "cell_type": "markdown",
      "id": "og9Q7LsAiilw",
      "metadata": {
        "id": "og9Q7LsAiilw"
      },
      "source": [
        "Notation of DataFrames\n",
        "\n",
        "__Our DataFrame__ : dfe4\n",
        "\n",
        "__Pandas DataFrame__: dfe5"
      ]
    },
    {
      "cell_type": "markdown",
      "id": "kCTIcVZAqTMM",
      "metadata": {
        "id": "kCTIcVZAqTMM"
      },
      "source": [
        "1. Creating a DataFrame using .read_csv."
      ]
    },
    {
      "cell_type": "code",
      "execution_count": null,
      "id": "hsYTodt-i8xZ",
      "metadata": {
        "id": "hsYTodt-i8xZ"
      },
      "outputs": [],
      "source": []
    },
    {
      "cell_type": "code",
      "execution_count": null,
      "id": "pP-tmc8ToP53",
      "metadata": {
        "id": "pP-tmc8ToP53"
      },
      "outputs": [],
      "source": []
    },
    {
      "cell_type": "markdown",
      "id": "u-kWxAndn6Vn",
      "metadata": {
        "id": "u-kWxAndn6Vn"
      },
      "source": [
        "__Observation__: We can see that reading a CSV is faster in pandas"
      ]
    },
    {
      "cell_type": "markdown",
      "id": "EPF0hI1dq0pa",
      "metadata": {
        "id": "EPF0hI1dq0pa"
      },
      "source": [
        "2. Showing the first 10 lines using `.head()` method."
      ]
    },
    {
      "cell_type": "code",
      "execution_count": null,
      "id": "Xtb22v8suGGt",
      "metadata": {
        "id": "Xtb22v8suGGt"
      },
      "outputs": [],
      "source": []
    },
    {
      "cell_type": "code",
      "execution_count": null,
      "id": "cXJCbvntp8fa",
      "metadata": {
        "id": "cXJCbvntp8fa"
      },
      "outputs": [],
      "source": []
    },
    {
      "cell_type": "markdown",
      "id": "GpmXkWe-q28_",
      "metadata": {
        "id": "GpmXkWe-q28_"
      },
      "source": [
        "__Observation__: For printing a dataframe too pandas is performing better."
      ]
    },
    {
      "cell_type": "markdown",
      "id": "1AGNNlNlvKnr",
      "metadata": {
        "id": "1AGNNlNlvKnr"
      },
      "source": [
        "3. Checking the shape of the DataFrame and amount of null values before dropping them."
      ]
    },
    {
      "cell_type": "code",
      "execution_count": null,
      "id": "AgGMEARRrZR0",
      "metadata": {
        "id": "AgGMEARRrZR0"
      },
      "outputs": [],
      "source": []
    },
    {
      "cell_type": "code",
      "execution_count": null,
      "id": "Kqq-DiT6qZtc",
      "metadata": {
        "id": "Kqq-DiT6qZtc"
      },
      "outputs": [],
      "source": []
    },
    {
      "cell_type": "markdown",
      "id": "2jnaF3XGvRSG",
      "metadata": {
        "id": "2jnaF3XGvRSG"
      },
      "source": [
        "__Observation__: Again here pandas wins the race with a huge margin."
      ]
    },
    {
      "cell_type": "markdown",
      "id": "FJBWqYMgvv2R",
      "metadata": {
        "id": "FJBWqYMgvv2R"
      },
      "source": [
        "4. Dropping Null values"
      ]
    },
    {
      "cell_type": "code",
      "execution_count": null,
      "id": "DVoCY9XStQWE",
      "metadata": {
        "id": "DVoCY9XStQWE"
      },
      "outputs": [],
      "source": []
    },
    {
      "cell_type": "code",
      "execution_count": null,
      "id": "MATYbUW_k2dj",
      "metadata": {
        "id": "MATYbUW_k2dj"
      },
      "outputs": [],
      "source": []
    },
    {
      "cell_type": "markdown",
      "id": "dQxQt2Zdv0OF",
      "metadata": {
        "id": "dQxQt2Zdv0OF"
      },
      "source": [
        "__Observation__ : Here we can see that pandas is performing 10 times faster than our DataFrame. Thus, pandas is a lot efficent than our DataFrame.  "
      ]
    },
    {
      "cell_type": "markdown",
      "id": "zM7T95RKw997",
      "metadata": {
        "id": "zM7T95RKw997"
      },
      "source": [
        "5. Confirming the shape of the DataFrame and the `.dropna()` method is functioning appropriately."
      ]
    },
    {
      "cell_type": "code",
      "execution_count": null,
      "id": "VrBZTznrtZkT",
      "metadata": {
        "id": "VrBZTznrtZkT"
      },
      "outputs": [],
      "source": []
    },
    {
      "cell_type": "code",
      "execution_count": null,
      "id": "UzPPt6pVtgtv",
      "metadata": {
        "id": "UzPPt6pVtgtv"
      },
      "outputs": [],
      "source": []
    },
    {
      "cell_type": "markdown",
      "id": "fnIqov1Ozbuy",
      "metadata": {
        "id": "fnIqov1Ozbuy"
      },
      "source": [
        "__Observation__: We can see that our `.dropna()` function is working perfectly."
      ]
    },
    {
      "cell_type": "markdown",
      "id": "nKnQ0JnVi8TI",
      "metadata": {
        "id": "nKnQ0JnVi8TI"
      },
      "source": [
        "__Final Observation__ : We can see from the above operation that pandas is performning way better than the custom DataFrame. Also, as we increase the size of the Dataset we will easily be able to understand the time difference in both of them. But Why?\n",
        "\n",
        "Pandas library is using numpy under the hood. Both pandas and numpy are built on c++ which is a lot faster than Python. Moreover, each column in a pandas dataframe have a certain datatype and they are well indexed. The data structures used in pandas library are effective and efficient. For these reasons pandas perform a lot better than our custom made DataFrame."
      ]
    },
    {
      "cell_type": "code",
      "execution_count": null,
      "id": "jVxlKvir6Wtw",
      "metadata": {
        "id": "jVxlKvir6Wtw"
      },
      "outputs": [],
      "source": []
    },
    {
      "cell_type": "code",
      "execution_count": null,
      "id": "oKJcuknoCMwZ",
      "metadata": {
        "id": "oKJcuknoCMwZ"
      },
      "outputs": [],
      "source": []
    }
  ],
  "metadata": {
    "colab": {
      "collapsed_sections": [
        "c4c010c9",
        "7dcbe06e",
        "eda6e9ec"
      ],
      "provenance": [],
      "include_colab_link": true
    },
    "kernelspec": {
      "display_name": "Python 3",
      "language": "python",
      "name": "python3"
    },
    "language_info": {
      "codemirror_mode": {
        "name": "ipython",
        "version": 3
      },
      "file_extension": ".py",
      "mimetype": "text/x-python",
      "name": "python",
      "nbconvert_exporter": "python",
      "pygments_lexer": "ipython3",
      "version": "3.8.8"
    }
  },
  "nbformat": 4,
  "nbformat_minor": 5
}